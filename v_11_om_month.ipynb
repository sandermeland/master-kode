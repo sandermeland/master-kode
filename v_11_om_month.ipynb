{
 "cells": [
  {
   "cell_type": "markdown",
   "metadata": {},
   "source": [
    "# This version uses the same logic as in v_10 but uses one week as its timeframe\n",
    "\n",
    "#### Have also updated the FCR and aFRR functions to make them faster and make FCR handle missing values"
   ]
  },
  {
   "cell_type": "code",
   "execution_count": 1,
   "metadata": {},
   "outputs": [],
   "source": [
    "import gurobipy as gp\n",
    "import pandas as pd\n",
    "from code_map import final_markets, new_meters, utils, analysis, timeframes, data_handling\n",
    "import numpy as np\n",
    "import pickle\n",
    "from datetime import datetime\n",
    "\n"
   ]
  },
  {
   "cell_type": "code",
   "execution_count": 2,
   "metadata": {},
   "outputs": [],
   "source": [
    "timeframe = timeframes.two_days\n",
    "L, M, F, H, freq_data, power_meter_dict, consumption_data = utils.get_all_sets(timeframe)"
   ]
  },
  {
   "cell_type": "code",
   "execution_count": 3,
   "metadata": {},
   "outputs": [],
   "source": [
    "L_u, L_d, Fu_h_l, Fd_h_l, R_h_l, P_h_m, Vp_h_m, Vm_m, R_m = utils.get_parameters(L,M,H)"
   ]
  },
  {
   "cell_type": "code",
   "execution_count": 4,
   "metadata": {},
   "outputs": [],
   "source": [
    "\n",
    "markets_name_dict = {market.name: market for market in M}\n",
    "market_names = list(markets_name_dict.keys())\n",
    "price_list = [market.price_data for market in M]\n",
    "volume_list = [market.volume_data for market in M]\n"
   ]
  },
  {
   "cell_type": "code",
   "execution_count": 5,
   "metadata": {},
   "outputs": [
    {
     "name": "stdout",
     "output_type": "stream",
     "text": [
      "Amount of markets : 62\n",
      "Amount of meters : 2189\n",
      "Amount of meters with direction up or both : 2036\n",
      "Amount of meters with direction down or both : 2051\n",
      "Amount of hours : 48\n"
     ]
    }
   ],
   "source": [
    "print(f\"Amount of markets : {len(M)}\")\n",
    "print(f\"Amount of meters : {len(L)}\")\n",
    "print(f\"Amount of meters with direction up or both : {len(L_u)}\")\n",
    "print(f\"Amount of meters with direction down or both : {len(L_d)}\")\n",
    "print(f\"Amount of hours : {len(H)}\")"
   ]
  },
  {
   "cell_type": "code",
   "execution_count": 6,
   "metadata": {},
   "outputs": [
    {
     "name": "stdout",
     "output_type": "stream",
     "text": [
      "Total up flex volume: 300.572342 MW\n",
      "Total down flex volume: 297.23245299999996 MW\n",
      "Average flex volume pr hour up: 6.261923791666667 MWh\n",
      "Average flex volume pr hour down: 6.192342770833332 MWh\n",
      "Average response time: 146.42320627190603 seconds\n"
     ]
    }
   ],
   "source": [
    "total_up_flex = np.sum(Fu_h_l) # total available flex volume up\n",
    "total_down_flex = np.sum(Fd_h_l) # total available flex volume down\n",
    "total_response_time = np.sum(R_h_l) # total response time\n",
    "#total_flex = total_up_flex + total_down_flex\n",
    "average_response_time = total_response_time/ (len(H)*len(L))\n",
    "hourly_flex_up = total_up_flex/len(H)\n",
    "hourly_flex_down = total_down_flex/len(H)\n",
    "\n",
    "print(f\"Total up flex volume: {total_up_flex} MW\")\n",
    "print(f\"Total down flex volume: {total_down_flex} MW\")\n",
    "print(f\"Average flex volume pr hour up: {hourly_flex_up} MWh\")\n",
    "print(f\"Average flex volume pr hour down: {hourly_flex_down} MWh\")\n",
    "print(f\"Average response time: {average_response_time} seconds\")"
   ]
  },
  {
   "cell_type": "code",
   "execution_count": 7,
   "metadata": {},
   "outputs": [],
   "source": [
    "dominant_directions = [utils.get_dominant_direction(freq_data, hour) for hour in H]"
   ]
  },
  {
   "cell_type": "code",
   "execution_count": 10,
   "metadata": {},
   "outputs": [
    {
     "name": "stderr",
     "output_type": "stream",
     "text": [
      "/Users/sandermeland/Documents/UIB/Master/master-kode/code_map/utils.py:176: SettingWithCopyWarning: \n",
      "A value is trying to be set on a copy of a slice from a DataFrame\n",
      "\n",
      "See the caveats in the documentation: https://pandas.pydata.org/pandas-docs/stable/user_guide/indexing.html#returning-a-view-versus-a-copy\n",
      "  filtered_df.sort_values(by = \"Time\", inplace = True)\n",
      "/Users/sandermeland/Documents/UIB/Master/master-kode/code_map/utils.py:176: SettingWithCopyWarning: \n",
      "A value is trying to be set on a copy of a slice from a DataFrame\n",
      "\n",
      "See the caveats in the documentation: https://pandas.pydata.org/pandas-docs/stable/user_guide/indexing.html#returning-a-view-versus-a-copy\n",
      "  filtered_df.sort_values(by = \"Time\", inplace = True)\n"
     ]
    }
   ],
   "source": [
    "Ir_hlm, Ia_hlm, Va_hm = utils.get_income_dictionaries(H = H, M = M, L = L, freq_data= freq_data, Fu_h_l = Fu_h_l, Fd_h_l = Fd_h_l, P_h_m = P_h_m, Vp_h_m = Vp_h_m, F = F, markets_dict= markets_name_dict, timeframe = timeframe)\n"
   ]
  },
  {
   "cell_type": "code",
   "execution_count": 11,
   "metadata": {},
   "outputs": [],
   "source": [
    "compatible_list = utils.get_compatibility_dict(L, M)"
   ]
  },
  {
   "cell_type": "code",
   "execution_count": 13,
   "metadata": {},
   "outputs": [
    {
     "name": "stdout",
     "output_type": "stream",
     "text": [
      "Set parameter LogFile to value \"two_days_batch.log\"\n"
     ]
    },
    {
     "name": "stdout",
     "output_type": "stream",
     "text": [
      "Gurobi Optimizer version 11.0.0 build v11.0.0rc2 (mac64[rosetta2] - Darwin 23.1.0 23B92)Gurobi Optimizer version 11.0.0 build v11.0.0rc2 (mac64[rosetta2] - Darwin 23.1.0 23B92)\n",
      "\n",
      "CPU model: Apple M1CPU model: Apple M1\n",
      "Thread count: 8 physical cores, 8 logical processors, using up to 8 threadsThread count: 8 physical cores, 8 logical processors, using up to 8 threads\n",
      "\n",
      "Optimize a model with 6573432 rows, 3260208 columns and 20328977 nonzerosOptimize a model with 6573432 rows, 3260208 columns and 20328977 nonzeros\n",
      "Model fingerprint: 0xa8ba9e6cModel fingerprint: 0xa8ba9e6c\n",
      "Model has 146161 quadratic objective termsModel has 146161 quadratic objective terms\n",
      "Model has 1728 quadratic constraintsModel has 1728 quadratic constraints\n",
      "Variable types: 0 continuous, 3260208 integer (3260208 binary)Variable types: 0 continuous, 3260208 integer (3260208 binary)\n",
      "Coefficient statistics:Coefficient statistics:\n",
      "Matrix range     [1e-06, 2e+03]  Matrix range     [1e-06, 2e+03]\n",
      "QMatrix range    [1e-06, 9e-01]  QMatrix range    [1e-06, 9e-01]\n",
      "Objective range  [5e-07, 8e+01]  Objective range  [5e-07, 8e+01]\n",
      "QObjective range [9e-08, 9e+01]  QObjective range [9e-08, 9e+01]\n",
      "Bounds range     [1e+00, 1e+00]  Bounds range     [1e+00, 1e+00]\n",
      "RHS range        [1e+00, 1e+00]  RHS range        [1e+00, 1e+00]\n",
      "QRHS range       [1e+00, 8e+01]  QRHS range       [1e+00, 8e+01]\n",
      "Found heuristic solution: objective -0.0000000Found heuristic solution: objective -0.0000000\n",
      "Presolve removed 3281490 rows and 1498134 columns (presolve time = 5s) ...Presolve removed 3281490 rows and 1498134 columns (presolve time = 5s) ...\n",
      "Presolve removed 6517724 rows and 1834791 columns (presolve time = 10s) ...Presolve removed 6517724 rows and 1834791 columns (presolve time = 10s) ...\n",
      "Presolve removed 6517724 rows and 1834791 columnsPresolve removed 6517724 rows and 1834791 columns\n",
      "Presolve time: 10.31sPresolve time: 10.31s\n",
      "Presolved: 64889 rows, 1430337 columns, 294743 nonzerosPresolved: 64889 rows, 1430337 columns, 294743 nonzeros\n",
      "Variable types: 0 continuous, 1430337 integer (1430337 binary)Variable types: 0 continuous, 1430337 integer (1430337 binary)\n",
      "Found heuristic solution: objective 5398.4490056Found heuristic solution: objective 5398.4490056\n",
      "Current best objective: 5398.4490056049, Best bound: 10433.608087076791\n",
      "Current best objective: 5398.4490056049, Best bound: 10433.608087076791\n",
      "\n",
      "Root simplex log...Root simplex log...\n",
      "\n",
      "Iteration    Objective       Primal Inf.    Dual Inf.      TimeIteration    Objective       Primal Inf.    Dual Inf.      Time\n",
      "0    5.5928561e+03   6.144938e+02   0.000000e+00     19s       0    5.5928561e+03   6.144938e+02   0.000000e+00     19s\n",
      "388    5.5772086e+03   0.000000e+00   0.000000e+00     19s     388    5.5772086e+03   0.000000e+00   0.000000e+00     19s\n",
      "\n",
      "Root relaxation: objective 5.577209e+03, 388 iterations, 0.02 seconds (0.02 work units)Root relaxation: objective 5.577209e+03, 388 iterations, 0.02 seconds (0.02 work units)\n",
      "Current best objective: 5398.4490056049, Best bound: 5577.208572059349\n",
      "\n",
      "Nodes    |    Current Node    |     Objective Bounds      |     Work    Nodes    |    Current Node    |     Objective Bounds      |     Work\n",
      "Expl Unexpl |  Obj  Depth IntInf | Incumbent    BestBd   Gap | It/Node Time Expl Unexpl |  Obj  Depth IntInf | Incumbent    BestBd   Gap | It/Node Time\n",
      "\n",
      "0     0 5577.20857    0    3 5398.44901 5577.20857  3.31%     -   19s     0     0 5577.20857    0    3 5398.44901 5577.20857  3.31%     -   19s\n",
      "H    0     0                    5577.2085613 5577.20857  0.00%     -   21sH    0     0                    5577.2085613 5577.20857  0.00%     -   21s\n",
      "\n",
      "Explored 1 nodes (388 simplex iterations) in 23.09 seconds (9.28 work units)Explored 1 nodes (388 simplex iterations) in 23.09 seconds (9.28 work units)\n",
      "Thread count was 8 (of 8 available processors)Thread count was 8 (of 8 available processors)\n",
      "\n",
      "Solution count 3: 5577.21 5398.45 -0Solution count 3: 5577.21 5398.45 -0 \n",
      "\n",
      "Optimal solution found (tolerance 1.00e-04)Optimal solution found (tolerance 1.00e-04)\n",
      "Warning: max constraint violation (1.0000e-06) exceeds toleranceWarning: max constraint violation (1.0000e-06) exceeds tolerance\n",
      "Best objective 5.577208572059e+03, best bound 5.577208572059e+03, gap 0.0000%Best objective 5.577208572059e+03, best bound 5.577208572059e+03, gap 0.0000%\n",
      "\n",
      "User-callback calls 2746, time in user-callback 0.29 secUser-callback calls 2746, time in user-callback 0.29 sec\n",
      "Set parameter LogFile to value \"two_days_batch.log\"\n",
      "Gurobi Optimizer version 11.0.0 build v11.0.0rc2 (mac64[rosetta2] - Darwin 23.1.0 23B92)Gurobi Optimizer version 11.0.0 build v11.0.0rc2 (mac64[rosetta2] - Darwin 23.1.0 23B92)\n",
      "\n",
      "CPU model: Apple M1CPU model: Apple M1\n",
      "Thread count: 8 physical cores, 8 logical processors, using up to 8 threadsThread count: 8 physical cores, 8 logical processors, using up to 8 threads\n",
      "\n",
      "Optimize a model with 6573432 rows, 3260208 columns and 20327285 nonzerosOptimize a model with 6573432 rows, 3260208 columns and 20327285 nonzeros\n",
      "Model fingerprint: 0xa4cef2a4Model fingerprint: 0xa4cef2a4\n",
      "Model has 146161 quadratic objective termsModel has 146161 quadratic objective terms\n",
      "Model has 1728 quadratic constraintsModel has 1728 quadratic constraints\n",
      "Variable types: 0 continuous, 3260208 integer (3260208 binary)Variable types: 0 continuous, 3260208 integer (3260208 binary)\n",
      "Coefficient statistics:Coefficient statistics:\n",
      "Matrix range     [1e-06, 2e+03]  Matrix range     [1e-06, 2e+03]\n",
      "QMatrix range    [1e-06, 8e-01]  QMatrix range    [1e-06, 8e-01]\n",
      "Objective range  [5e-07, 8e+01]  Objective range  [5e-07, 8e+01]\n",
      "QObjective range [9e-08, 9e+01]  QObjective range [9e-08, 9e+01]\n",
      "Bounds range     [1e+00, 1e+00]  Bounds range     [1e+00, 1e+00]\n",
      "RHS range        [1e+00, 1e+00]  RHS range        [1e+00, 1e+00]\n",
      "QRHS range       [1e+00, 8e+01]  QRHS range       [1e+00, 8e+01]\n",
      "Found heuristic solution: objective -0.0000000Found heuristic solution: objective -0.0000000\n",
      "Presolve removed 2775201 rows and 1231175 columns (presolve time = 6s) ...Presolve removed 2775201 rows and 1231175 columns (presolve time = 6s) ...\n",
      "Presolve removed 6498854 rows and 1828478 columns (presolve time = 11s) ...Presolve removed 6498854 rows and 1828478 columns (presolve time = 11s) ...\n",
      "Presolve removed 6498854 rows and 1828478 columnsPresolve removed 6498854 rows and 1828478 columns\n",
      "Presolve time: 10.67sPresolve time: 10.67s\n",
      "Presolved: 84230 rows, 1436625 columns, 351970 nonzerosPresolved: 84230 rows, 1436625 columns, 351970 nonzeros\n",
      "Variable types: 0 continuous, 1436625 integer (1436625 binary)Variable types: 0 continuous, 1436625 integer (1436625 binary)\n",
      "Found heuristic solution: objective 5539.3732404Found heuristic solution: objective 5539.3732404\n",
      "Current best objective: 5539.373240428643, Best bound: 10322.789448123747\n",
      "Current best objective: 5539.373240428643, Best bound: 10322.789448123747\n",
      "\n",
      "Root simplex log...Root simplex log...\n",
      "\n",
      "Iteration    Objective       Primal Inf.    Dual Inf.      TimeIteration    Objective       Primal Inf.    Dual Inf.      Time\n",
      "0    5.7246820e+03   5.749482e+02   0.000000e+00     24s       0    5.7246820e+03   5.749482e+02   0.000000e+00     24s\n",
      "266    5.7242660e+03   0.000000e+00   0.000000e+00     24s     266    5.7242660e+03   0.000000e+00   0.000000e+00     24s\n",
      "\n",
      "Root relaxation: objective 5.724266e+03, 266 iterations, 0.01 seconds (0.00 work units)Root relaxation: objective 5.724266e+03, 266 iterations, 0.01 seconds (0.00 work units)\n",
      "Current best objective: 5539.373240428643, Best bound: 5724.266009276412\n",
      "\n",
      "Nodes    |    Current Node    |     Objective Bounds      |     Work    Nodes    |    Current Node    |     Objective Bounds      |     Work\n",
      "Expl Unexpl |  Obj  Depth IntInf | Incumbent    BestBd   Gap | It/Node Time Expl Unexpl |  Obj  Depth IntInf | Incumbent    BestBd   Gap | It/Node Time\n",
      "\n",
      "0     0 5724.26601    0    5 5539.37324 5724.26601  3.34%     -   23s     0     0 5724.26601    0    5 5539.37324 5724.26601  3.34%     -   23s\n",
      "H    0     0                    5723.2913269 5724.26601  0.02%     -   25sH    0     0                    5723.2913269 5724.26601  0.02%     -   25s\n",
      "H    0     0                    5723.4489347 5724.26601  0.01%     -   27sH    0     0                    5723.4489347 5724.26601  0.01%     -   27s\n",
      "H    0     0                    5723.4489358 5724.26601  0.01%     -   28sH    0     0                    5723.4489358 5724.26601  0.01%     -   28s\n",
      "H    0     0                    5724.2198014 5724.26601  0.00%     -   30sH    0     0                    5724.2198014 5724.26601  0.00%     -   30s\n",
      "\n",
      "Cutting planes:Cutting planes:\n",
      "Gomory: 1  Gomory: 1\n",
      "Cover: 2  Cover: 2\n",
      "MIR: 1  MIR: 1\n",
      "RLT: 1  RLT: 1\n",
      "\n",
      "Explored 1 nodes (266 simplex iterations) in 32.19 seconds (11.74 work units)Explored 1 nodes (266 simplex iterations) in 32.19 seconds (11.74 work units)\n",
      "Thread count was 8 (of 8 available processors)Thread count was 8 (of 8 available processors)\n",
      "\n",
      "Solution count 5: 5724.22 5723.45 5723.29 ... -0Solution count 5: 5724.22 5723.45 5723.29 ... -0\n",
      "\n",
      "Optimal solution found (tolerance 1.00e-04)Optimal solution found (tolerance 1.00e-04)\n",
      "Warning: max constraint violation (1.0000e-06) exceeds toleranceWarning: max constraint violation (1.0000e-06) exceeds tolerance\n",
      "Best objective 5.724219802501e+03, best bound 5.724259890062e+03, gap 0.0007%Best objective 5.724219802501e+03, best bound 5.724259890062e+03, gap 0.0007%\n",
      "\n",
      "User-callback calls 2438, time in user-callback 0.26 secUser-callback calls 2438, time in user-callback 0.26 sec\n"
     ]
    }
   ],
   "source": [
    "aggregated_results  = utils.run_batched_optimization_model(L= L , M = M, H = H, F = F, Ir_hlm = Ir_hlm, Ia_hlm= Ia_hlm, Va_hm = Va_hm, Vp_h_m =Vp_h_m, Vm_m = Vm_m, R_m = R_m, R_h_l = R_h_l, Fu_h_l = Fu_h_l, Fd_h_l = Fd_h_l, compatible_list = compatible_list, log_filename=\"two_days_batch.log\", model_name= \"two_days_model\")"
   ]
  },
  {
   "cell_type": "code",
   "execution_count": 14,
   "metadata": {},
   "outputs": [],
   "source": [
    "x_values = aggregated_results[\"x_values\"]"
   ]
  },
  {
   "cell_type": "code",
   "execution_count": 23,
   "metadata": {},
   "outputs": [
    {
     "ename": "AttributeError",
     "evalue": "'dict' object has no attribute 'X'",
     "output_type": "error",
     "traceback": [
      "\u001b[0;31m---------------------------------------------------------------------------\u001b[0m",
      "\u001b[0;31mAttributeError\u001b[0m                            Traceback (most recent call last)",
      "Cell \u001b[0;32mIn[23], line 1\u001b[0m\n\u001b[0;32m----> 1\u001b[0m \u001b[43mx_values\u001b[49m\u001b[43m[\u001b[49m\u001b[38;5;241;43m0\u001b[39;49m\u001b[43m]\u001b[49m\u001b[38;5;241;43m.\u001b[39;49m\u001b[43mX\u001b[49m\n",
      "\u001b[0;31mAttributeError\u001b[0m: 'dict' object has no attribute 'X'"
     ]
    }
   ],
   "source": [
    "x_values[0]"
   ]
  },
  {
   "cell_type": "code",
   "execution_count": 20,
   "metadata": {},
   "outputs": [
    {
     "data": {
      "text/plain": [
       "2"
      ]
     },
     "execution_count": 20,
     "metadata": {},
     "output_type": "execute_result"
    }
   ],
   "source": [
    "len(x_values)"
   ]
  },
  {
   "cell_type": "code",
   "execution_count": 26,
   "metadata": {},
   "outputs": [],
   "source": [
    "def dissaggregate_results(aggregated_results : dict):\n",
    "    daily_vals = []\n",
    "    x_vals = aggregated_results['x_values']\n",
    "    y_vals = aggregated_results['y_values']\n",
    "    w_vals = aggregated_results['w_values']\n",
    "    for day_nr in range(len(x_vals)):\n",
    "        daily_vals.append({\"x_values\": x_vals[day_nr], \"y_values\": y_vals[day_nr], \"w_values\": w_vals[day_nr]})\n",
    "    return daily_vals"
   ]
  },
  {
   "cell_type": "code",
   "execution_count": 27,
   "metadata": {},
   "outputs": [],
   "source": [
    "daily_vals_list = dissaggregate_results(aggregated_results)"
   ]
  },
  {
   "cell_type": "code",
   "execution_count": null,
   "metadata": {},
   "outputs": [],
   "source": [
    "def test_solution_validity(x, y, w, Va_hm, L, M, H, dominant_directions, F):\n",
    "    \"\"\" function to test the validity of the solution provided by a solver\n",
    "\n",
    "    Args:\n",
    "        x (dict): dictionary of the binary variable which tells if an asset is connected to a market\n",
    "        y (dict): dictionary of the binary variable which tells if a market has any bids\n",
    "        w (dict): dictionary of the binary variable which tells if a market is activated\n",
    "        L (list(PowerMeter)): list of powermeter objects with the data for each meter within the timeframe\n",
    "        M (list(ReserveMarket)): list of reservemarket objects with the data for each market within the timeframe\n",
    "        H (list(pd.TimeStamp)): list of hourly timestamps within the timeframe\n",
    "        dominant_directions (list(str)): list of the dominant direction for each hour\n",
    "        F (pd.DataFrame): dictionary for frequency data\n",
    "    Returns:\n",
    "        str : a string that tells if the solution is valid. If not valid, the function will raise an error\n",
    "    \"\"\"\n",
    "    for h, hour in enumerate(H):\n",
    "        for l, load in enumerate(L):\n",
    "            # Each asset can only be connected to one market at a time\n",
    "            assert round(sum(x[h, l, m].X for m in range(len(M))), 5) <= 1, f\"Asset {l} connected to multiple markets at hour {h}\"\n",
    "            for m, market in enumerate(M):\n",
    "                x_val= round(x[h, l, m].X, 5)\n",
    "                # Directionality constraints\n",
    "                if load.direction == \"up\" and market.direction == \"down\":\n",
    "                    assert x_val== 0, f\"Up-direction asset {l} connected to down-direction market {m} at hour {h}\"\n",
    "                elif load.direction == \"down\" and market.direction == \"up\":\n",
    "                    assert x_val == 0, f\"Down-direction asset {l} connected to up-direction market {m} at hour {h}\"\n",
    "                #elif market.direction == \"both\" and load.direction != \"both\":\n",
    "                    #assert x[h, l, m].X == 0, f\"Asset {l} with specific direction connected to both-direction market {m} at hour {h}\"\n",
    "                elif market.area != load.area:\n",
    "                    assert x_val == 0, f\"Asset {l} in area {load.area} connected to market {m} in area {market.area} at hour {h}\"\n",
    "                \n",
    "                # Response time constraints\n",
    "                assert x_val * load.response_time <= market.response_time * round(y[h, m].X, 5), f\"Asset {l} connected to market {m} at hour {h} violates response time constraint\"\n",
    "                \n",
    "        for m, market in enumerate(M):\n",
    "            # Connect the binary variables by using big M\n",
    "            assert round(sum(x[h, l, m].X for l in range(len(L))), 5) <= len(L) * round(y[h, m].X, 5), f\"More than allowed assets connected to market {m} at hour {h} to market {m}\"\n",
    "\n",
    "            #total_flex_volume = sum(x[h, l, m].X * load.flex_volume[\"value\"].loc[load.flex_volume[\"Time(Local)\"] == hour].values[0] for l, load in enumerate(L))\n",
    "\n",
    "            # Min volume constraint\n",
    "            if market.direction == \"up\":\n",
    "                total_flex_volume = sum(x[h, l, m].X * load.up_flex_volume[\"value\"].loc[load.up_flex_volume[\"Time(Local)\"] == hour].values[0] for l, load in enumerate(L) if load.direction != \"down\")\n",
    "            elif market.direction == \"down\":\n",
    "                total_flex_volume = sum(x[h, l, m].X * load.down_flex_volume[\"value\"].loc[load.down_flex_volume[\"Time(Local)\"] == hour].values[0] for l, load in enumerate(L) if load.direction != \"up\")\n",
    "            else: # direction = \"both\"\n",
    "                if dominant_directions[h] == \"up\":\n",
    "                    total_flex_volume = sum(x[h, l, m].X * load.up_flex_volume[\"value\"].loc[load.up_flex_volume[\"Time(Local)\"] == hour].values[0] for l, load in enumerate(L) if load.direction != \"down\")\n",
    "                else:\n",
    "                    total_flex_volume = sum(x[h, l, m].X * load.down_flex_volume[\"value\"].loc[load.down_flex_volume[\"Time(Local)\"] == hour].values[0] for l, load in enumerate(L) if load.direction != \"up\")\n",
    "            \n",
    "            assert round(total_flex_volume, 5) >= market.min_volume * y[h, m].X, f\"Minimum volume constraint violated at hour {h} for market {m}\"\n",
    "            \n",
    "            # Max volume constraint for both capacity and activation\n",
    "            if market.direction == \"up\":\n",
    "                total_max_volume = sum(x[h, l, m].X * load.up_flex_volume[\"value\"].loc[load.up_flex_volume[\"Time(Local)\"] == hour].values[0] for l, load in enumerate(L) if load.direction != \"down\")\n",
    "\n",
    "            elif market.direction == \"down\":\n",
    "                total_max_volume = sum(x[h, l, m].X * load.down_flex_volume[\"value\"].loc[load.down_flex_volume[\"Time(Local)\"] == hour].values[0] for l, load in enumerate(L) if load.direction != \"up\")\n",
    "\n",
    "            else:\n",
    "                \"\"\"if dominant_directions[h] == \"up\":\n",
    "                    total_max_volume = sum(x[h, l, m].X * load.up_flex_volume[\"value\"].loc[load.up_flex_volume[\"Time(Local)\"] == hour].values[0] for l, load in enumerate(L) if load.direction != \"down\")\n",
    "                else:\n",
    "                    total_max_volume = sum(x[h, l, m].X * load.down_flex_volume[\"value\"].loc[load.down_flex_volume[\"Time(Local)\"] == hour].values[0] for l, load in enumerate(L) if load.direction != \"up\")\"\"\"\n",
    "                total_up_max_volume = sum(x[h, l, m].X * load.up_flex_volume[\"value\"].loc[load.up_flex_volume[\"Time(Local)\"] == hour].values[0] for l, load in enumerate(L) if load.direction != \"down\")\n",
    "                total_down_max_volume = sum(x[h, l, m].X * load.down_flex_volume[\"value\"].loc[load.down_flex_volume[\"Time(Local)\"] == hour].values[0] for l, load in enumerate(L) if load.direction != \"up\")\n",
    "                up_frac, down_frac = F[h,m]\n",
    "                total_max_volume = (total_up_max_volume * up_frac + total_down_max_volume * down_frac)\n",
    "            \n",
    "             # Assert the constraints\n",
    "            activation_constraint = round(total_max_volume, 5)  * round(w[h,m].X, 5) <= Va_hm[h,m]\n",
    "            assert activation_constraint, f\"Activation constraint violated for hour {h}, market {m}\"\n",
    "            market_max_volume = market.volume_data.loc[market.volume_data[\"Time(Local)\"] == hour].values[0][1]\n",
    "            assert total_max_volume <= market_max_volume * round(y[h,m].X, 5), f\"Maximum volume constraint violated at hour {h} for market {m}\"\n",
    "    return \"Solution is valid\""
   ]
  },
  {
   "cell_type": "code",
   "execution_count": 35,
   "metadata": {},
   "outputs": [
    {
     "name": "stdout",
     "output_type": "stream",
     "text": [
      " Solution for day 0 is valid\n"
     ]
    },
    {
     "ename": "AssertionError",
     "evalue": "Maximum volume constraint violated at hour 16 for market 27",
     "output_type": "error",
     "traceback": [
      "\u001b[0;31m---------------------------------------------------------------------------\u001b[0m",
      "\u001b[0;31mAssertionError\u001b[0m                            Traceback (most recent call last)",
      "Cell \u001b[0;32mIn[35], line 3\u001b[0m\n\u001b[1;32m      1\u001b[0m H_batches \u001b[38;5;241m=\u001b[39m [H[:\u001b[38;5;241m24\u001b[39m], H[\u001b[38;5;241m24\u001b[39m:]]\n\u001b[1;32m      2\u001b[0m \u001b[38;5;28;01mfor\u001b[39;00m index, daily_val \u001b[38;5;129;01min\u001b[39;00m \u001b[38;5;28menumerate\u001b[39m(daily_vals_list):\n\u001b[0;32m----> 3\u001b[0m     \u001b[43mutils\u001b[49m\u001b[38;5;241;43m.\u001b[39;49m\u001b[43mtest_solution_validity\u001b[49m\u001b[43m(\u001b[49m\u001b[43mdaily_val\u001b[49m\u001b[43m[\u001b[49m\u001b[38;5;124;43m\"\u001b[39;49m\u001b[38;5;124;43mx_values\u001b[39;49m\u001b[38;5;124;43m\"\u001b[39;49m\u001b[43m]\u001b[49m\u001b[43m,\u001b[49m\u001b[43m \u001b[49m\u001b[43mdaily_val\u001b[49m\u001b[43m[\u001b[49m\u001b[38;5;124;43m\"\u001b[39;49m\u001b[38;5;124;43my_values\u001b[39;49m\u001b[38;5;124;43m\"\u001b[39;49m\u001b[43m]\u001b[49m\u001b[43m,\u001b[49m\u001b[43m \u001b[49m\u001b[43mdaily_val\u001b[49m\u001b[43m[\u001b[49m\u001b[38;5;124;43m\"\u001b[39;49m\u001b[38;5;124;43mw_values\u001b[39;49m\u001b[38;5;124;43m\"\u001b[39;49m\u001b[43m]\u001b[49m\u001b[43m,\u001b[49m\u001b[43m \u001b[49m\u001b[43mVa_hm\u001b[49m\u001b[43m,\u001b[49m\u001b[43m \u001b[49m\u001b[43mL\u001b[49m\u001b[43m,\u001b[49m\u001b[43m \u001b[49m\u001b[43mM\u001b[49m\u001b[43m,\u001b[49m\u001b[43m \u001b[49m\u001b[43mH_batches\u001b[49m\u001b[43m[\u001b[49m\u001b[43mindex\u001b[49m\u001b[43m]\u001b[49m\u001b[43m,\u001b[49m\u001b[43m \u001b[49m\u001b[43mdominant_directions\u001b[49m\u001b[38;5;241;43m=\u001b[39;49m\u001b[43m \u001b[49m\u001b[43mdominant_directions\u001b[49m\u001b[43m,\u001b[49m\u001b[43m \u001b[49m\u001b[43mF\u001b[49m\u001b[43m \u001b[49m\u001b[38;5;241;43m=\u001b[39;49m\u001b[43m \u001b[49m\u001b[43mF\u001b[49m\u001b[43m)\u001b[49m\n\u001b[1;32m      4\u001b[0m     \u001b[38;5;28mprint\u001b[39m(\u001b[38;5;124mf\u001b[39m\u001b[38;5;124m\"\u001b[39m\u001b[38;5;124m Solution for day \u001b[39m\u001b[38;5;132;01m{\u001b[39;00mdaily_vals_list\u001b[38;5;241m.\u001b[39mindex(daily_val)\u001b[38;5;132;01m}\u001b[39;00m\u001b[38;5;124m is valid\u001b[39m\u001b[38;5;124m\"\u001b[39m)\n\u001b[1;32m      5\u001b[0m     \u001b[38;5;66;03m# must split the H list into days\u001b[39;00m\n",
      "File \u001b[0;32m~/Documents/UIB/Master/master-kode/code_map/utils.py:865\u001b[0m, in \u001b[0;36mtest_solution_validity\u001b[0;34m(x, y, w, Va_hm, L, M, H, dominant_directions, F)\u001b[0m\n\u001b[1;32m    863\u001b[0m         \u001b[38;5;28;01massert\u001b[39;00m activation_constraint, \u001b[38;5;124mf\u001b[39m\u001b[38;5;124m\"\u001b[39m\u001b[38;5;124mActivation constraint violated for hour \u001b[39m\u001b[38;5;132;01m{\u001b[39;00mh\u001b[38;5;132;01m}\u001b[39;00m\u001b[38;5;124m, market \u001b[39m\u001b[38;5;132;01m{\u001b[39;00mm\u001b[38;5;132;01m}\u001b[39;00m\u001b[38;5;124m\"\u001b[39m\n\u001b[1;32m    864\u001b[0m         market_max_volume \u001b[38;5;241m=\u001b[39m market\u001b[38;5;241m.\u001b[39mvolume_data\u001b[38;5;241m.\u001b[39mloc[market\u001b[38;5;241m.\u001b[39mvolume_data[\u001b[38;5;124m\"\u001b[39m\u001b[38;5;124mTime(Local)\u001b[39m\u001b[38;5;124m\"\u001b[39m] \u001b[38;5;241m==\u001b[39m hour]\u001b[38;5;241m.\u001b[39mvalues[\u001b[38;5;241m0\u001b[39m][\u001b[38;5;241m1\u001b[39m]\n\u001b[0;32m--> 865\u001b[0m         \u001b[38;5;28;01massert\u001b[39;00m total_max_volume \u001b[38;5;241m<\u001b[39m\u001b[38;5;241m=\u001b[39m market_max_volume \u001b[38;5;241m*\u001b[39m y[h,m]\u001b[38;5;241m.\u001b[39mX, \u001b[38;5;124mf\u001b[39m\u001b[38;5;124m\"\u001b[39m\u001b[38;5;124mMaximum volume constraint violated at hour \u001b[39m\u001b[38;5;132;01m{\u001b[39;00mh\u001b[38;5;132;01m}\u001b[39;00m\u001b[38;5;124m for market \u001b[39m\u001b[38;5;132;01m{\u001b[39;00mm\u001b[38;5;132;01m}\u001b[39;00m\u001b[38;5;124m\"\u001b[39m\n\u001b[1;32m    866\u001b[0m \u001b[38;5;28;01mreturn\u001b[39;00m \u001b[38;5;124m\"\u001b[39m\u001b[38;5;124mSolution is valid\u001b[39m\u001b[38;5;124m\"\u001b[39m\n",
      "\u001b[0;31mAssertionError\u001b[0m: Maximum volume constraint violated at hour 16 for market 27"
     ]
    }
   ],
   "source": [
    "H_batches = [H[:24], H[24:]]\n",
    "for index, daily_val in enumerate(daily_vals_list):\n",
    "    utils.test_solution_validity(daily_val[\"x_values\"], daily_val[\"y_values\"], daily_val[\"w_values\"], Va_hm, L, M, H_batches[index], dominant_directions= dominant_directions, F = F)\n",
    "    print(f\" Solution for day {daily_vals_list.index(daily_val)} is valid\")\n",
    "    # must split the H list into days"
   ]
  },
  {
   "cell_type": "code",
   "execution_count": null,
   "metadata": {},
   "outputs": [],
   "source": []
  },
  {
   "cell_type": "code",
   "execution_count": null,
   "metadata": {},
   "outputs": [],
   "source": [
    "sum(x[7, l, 21].X for l in range(len(L)))"
   ]
  },
  {
   "cell_type": "code",
   "execution_count": null,
   "metadata": {},
   "outputs": [],
   "source": [
    "len(L) * y[7, 21].X"
   ]
  },
  {
   "cell_type": "code",
   "execution_count": null,
   "metadata": {},
   "outputs": [],
   "source": [
    "round(sum(x[7, 839, m].X for m in range(len(M))), 6)"
   ]
  },
  {
   "cell_type": "code",
   "execution_count": null,
   "metadata": {},
   "outputs": [],
   "source": [
    "import pickle"
   ]
  },
  {
   "cell_type": "code",
   "execution_count": null,
   "metadata": {},
   "outputs": [],
   "source": [
    "# Extract binary variable values from the original model\n",
    "new_x_values = {(h, l, m): test_model.getVarByName(f\"x_{h}_{l}_{m}\").X for h in range(len(H)) for l in range(len(L)) for m in range(len(M))}\n"
   ]
  },
  {
   "cell_type": "code",
   "execution_count": null,
   "metadata": {},
   "outputs": [],
   "source": [
    "# Load the saved values\n",
    "with open('current_x_values_for_week.pkl', 'rb') as f:\n",
    "    original_x_values = pickle.load(f)\n",
    "\n",
    "old_dict = utils.get_market_count_dict(original_x_values)\n",
    "new_dict = utils.get_market_count_dict(new_x_values)\n",
    "\n",
    "differences = {}\n",
    "for key in old_dict:\n",
    "    if not old_dict[key].equals(new_dict[key]):\n",
    "        differences[key] = (new_dict[key], old_dict[key])\n",
    "        \n",
    "\n",
    "for key, (orig_val, mod_val) in differences.items():\n",
    "    print(f\"Difference for hour {key}: \\n Original={display(orig_val)}, \\n  Modified={display(mod_val)}\")\n"
   ]
  },
  {
   "cell_type": "code",
   "execution_count": null,
   "metadata": {},
   "outputs": [],
   "source": [
    "# Extract binary variable values from the original model\n",
    "current_x_values = {(h, l, m): test_model.getVarByName(f\"x_{h}_{l}_{m}\").X for h in range(len(H)) for l in range(len(L)) for m in range(len(M))}\n",
    "\n",
    "# Save these values\n",
    "with open('current_x_values_for_week.pkl', 'wb') as f:\n",
    "    pickle.dump(current_x_values, f)\n",
    "                "
   ]
  },
  {
   "cell_type": "code",
   "execution_count": null,
   "metadata": {},
   "outputs": [],
   "source": []
  }
 ],
 "metadata": {
  "kernelspec": {
   "display_name": "INF264",
   "language": "python",
   "name": "python3"
  },
  "language_info": {
   "codemirror_mode": {
    "name": "ipython",
    "version": 3
   },
   "file_extension": ".py",
   "mimetype": "text/x-python",
   "name": "python",
   "nbconvert_exporter": "python",
   "pygments_lexer": "ipython3",
   "version": "3.9.18"
  }
 },
 "nbformat": 4,
 "nbformat_minor": 2
}
