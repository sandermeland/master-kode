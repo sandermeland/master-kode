{
 "cells": [
  {
   "cell_type": "markdown",
   "metadata": {},
   "source": [
    "# This version uses the same logic as in v_10 but uses one week as its timeframe\n",
    "\n",
    "#### Have also updated the FCR and aFRR functions to make them faster and make FCR handle missing values"
   ]
  },
  {
   "cell_type": "code",
   "execution_count": 40,
   "metadata": {},
   "outputs": [],
   "source": [
    "import gurobipy as gp\n",
    "import pandas as pd\n",
    "from code_map import final_markets, new_meters, utils, analysis\n",
    "import numpy as np\n",
    "import calendar \n",
    "from datetime import datetime\n",
    "import pytz\n",
    "import openpyxl\n",
    "import os\n"
   ]
  },
  {
   "cell_type": "code",
   "execution_count": 3,
   "metadata": {},
   "outputs": [],
   "source": [
    "timeframe = utils.one_week\n",
    "L, M, F, H, freq_data, power_meter_dict, consumption_data = utils.get_all_sets(timeframe)"
   ]
  },
  {
   "cell_type": "code",
   "execution_count": null,
   "metadata": {},
   "outputs": [],
   "source": [
    "L_u, L_d, Fu_h_l, Fd_h_l, R_h_l, P_h_m, Vp_h_m, Vm_m, R_m = utils.get_all_parameters(timeframe)"
   ]
  },
  {
   "cell_type": "code",
   "execution_count": 6,
   "metadata": {},
   "outputs": [],
   "source": [
    "\n",
    "markets_name_dict = {market.name: market for market in M}\n",
    "market_names = list(markets_name_dict.keys())\n",
    "price_list = [market.price_data for market in M]\n",
    "volume_list = [market.volume_data for market in M]\n"
   ]
  },
  {
   "cell_type": "code",
   "execution_count": 48,
   "metadata": {},
   "outputs": [
    {
     "name": "stdout",
     "output_type": "stream",
     "text": [
      "Amount of markets : 62\n",
      "Amount of meters : 2189\n",
      "Amount of meters with direction up or both : 2040\n",
      "Amount of meters with direction down or both : 2041\n",
      "Amount of hours : 168\n"
     ]
    }
   ],
   "source": [
    "print(f\"Amount of markets : {len(M)}\")\n",
    "print(f\"Amount of meters : {len(L)}\")\n",
    "print(f\"Amount of meters with direction up or both : {len(L_u)}\")\n",
    "print(f\"Amount of meters with direction down or both : {len(L_d)}\")\n",
    "print(f\"Amount of hours : {len(H)}\")"
   ]
  },
  {
   "cell_type": "code",
   "execution_count": 49,
   "metadata": {},
   "outputs": [
    {
     "name": "stdout",
     "output_type": "stream",
     "text": [
      "Total up flex volume: 1101.8859870000001 MW\n",
      "Total down flex volume: 1393.0511390000001 MW\n",
      "Average flex volume pr hour up: 6.558845160714286 MWh\n",
      "Average flex volume pr hour down: 8.291971065476192 MWh\n",
      "Average response time: 147.14069564557016 seconds\n"
     ]
    }
   ],
   "source": [
    "total_up_flex = np.sum(Fu_h_l) # total available flex volume up\n",
    "total_down_flex = np.sum(Fd_h_l) # total available flex volume down\n",
    "total_response_time = np.sum(R_h_l) # total response time\n",
    "#total_flex = total_up_flex + total_down_flex\n",
    "average_response_time = total_response_time/ (len(H)*len(L))\n",
    "hourly_flex_up = total_up_flex/len(H)\n",
    "hourly_flex_down = total_down_flex/len(H)\n",
    "\n",
    "print(f\"Total up flex volume: {total_up_flex} MW\")\n",
    "print(f\"Total down flex volume: {total_down_flex} MW\")\n",
    "print(f\"Average flex volume pr hour up: {hourly_flex_up} MWh\")\n",
    "print(f\"Average flex volume pr hour down: {hourly_flex_down} MWh\")\n",
    "print(f\"Average response time: {average_response_time} seconds\")"
   ]
  },
  {
   "cell_type": "code",
   "execution_count": 51,
   "metadata": {},
   "outputs": [],
   "source": [
    "dominant_directions = [utils.get_dominant_direction(freq_data, hour) for hour in H]"
   ]
  },
  {
   "cell_type": "code",
   "execution_count": 53,
   "metadata": {},
   "outputs": [],
   "source": [
    "Ir_hlm, Ia_hlm, Va_hm = utils.get_income_dictionaries(H, M, L, dominant_directions, Fu_h_l, Fd_h_l, P_h_m, Vp_h_m, F, markets_name_dict)\n"
   ]
  },
  {
   "cell_type": "code",
   "execution_count": null,
   "metadata": {},
   "outputs": [],
   "source": [
    "compatible_list = utils.get_compatibility_list(L, M, H)"
   ]
  },
  {
   "cell_type": "code",
   "execution_count": null,
   "metadata": {},
   "outputs": [],
   "source": [
    "# Create a new model\n",
    "test_model = gp.Model(\"AssetToMarket\")\n",
    "\n",
    "# Create decision variables\n",
    "x = {}\n",
    "d = {}\n",
    "y = {}\n",
    "w = {}\n",
    "for h in range(len(H)):\n",
    "    for l in range(len(L)):\n",
    "        for m in range(len(M)):\n",
    "            # asset i is connected to market j at hour h\n",
    "            x[h, l, m] = test_model.addVar(lb = 0, ub = 1, vtype=gp.GRB.BINARY, name=f\"x_{h}_{l}_{m}\")\n",
    "\n",
    "            d[h,l,m] = 1 if m in compatible_list[h][l] else 0 # compatible_list takes care of both the area constraint and the direction constraint\n",
    "            \n",
    "            # adding the constraint\n",
    "            test_model.addConstr(x[h,l,m] <= d[h,l,m])\n",
    "    for m in range(len(M)):\n",
    "        # market m has a bid at hour h\n",
    "        y[h, m] = test_model.addVar(lb = 0, ub = 1, vtype=gp.GRB.BINARY, name=f\"y_{h}_{m}\")\n",
    "        # market m is activated at hour h\n",
    "        w[h, m] = test_model.addVar(lb = 0, ub = 1, vtype=gp.GRB.BINARY , name=f\"w_{h}_{m}\")\n",
    "        \n",
    "\n",
    "# Set objective            \n",
    "\n",
    "# Set the objective to maximize the total income expression\n",
    "test_model.setObjective(sum(Ir_hlm[h,l,m] * x[h,l,m] + Ia_hlm[h,l,m] * x[h,l,m] * w[h,m] for h in range(len(H)) for l in range(len(L)) for m in range(len(M)))\n",
    "                        , gp.GRB.MAXIMIZE) # can possibly remove the x on the activation income\n",
    "\n",
    "# Add constraints\n",
    "for h in range(len(H)):\n",
    "    for l in range(len(L)):\n",
    "        # Each asset can only be connected to one market at a time\n",
    "        test_model.addConstr(sum(x[h, l, m] for m in range(len(M))) <= 1, f\"single_market_for_asset_at_hour_{h}_nr.{l}\")\n",
    "        \n",
    "\n",
    "    for m, market in enumerate(M):\n",
    "        \n",
    "        up_val, down_val = F[h,m]\n",
    "        if up_val + down_val > 0:\n",
    "            test_model.addConstr(w[h,m] <= y[h,m], f\"market_{m}_can_not_be_activated_at_hour_{h}_if_it_is_not_active\")\n",
    "        else:\n",
    "            test_model.addConstr(w[h,m] == 0, f\"market_{m}_can_not_be_activated_at_hour_{h}_if_it_is_not_active\")\n",
    "        \n",
    "        \n",
    "        # Connect the binary variables by using big M\n",
    "        #test_model.addConstr(sum(x[h, l, m] for l in range(len(L))) <= len(L) * y[h, m], f\"asset_connection_for_hour_{h}_market_{m}\")\n",
    "     \n",
    "        # Max volume constraint\n",
    "        \n",
    "        if market.direction == \"up\":\n",
    "            # capacity volume constraint\n",
    "            test_model.addConstr(sum(x[h, l, m] * Fu_h_l[h,l] for l in range(len(L))) <= Vp_h_m[h,m]  * y[h,m], f\"max_volume_for_hour_{h}_market_{m}\")\n",
    "            # activation volume constraint\n",
    "            test_model.addConstr(sum(x[h, l, m] * Fu_h_l[h,l] for l in range(len(L))) * w[h,m] <= Va_hm[h,m], f\"max_volume_for_activation_in-_market_{m}_at_hour_{h}\")\n",
    "            # min volume capacity constraint\n",
    "            test_model.addConstr(sum(x[h, l, m] * Fu_h_l[h,l] for l in range(len(L))) >= Vm_m[m] * y[h, m], f\"min_volume_for_hour_{h}_market_{m}\") \n",
    "\n",
    "        elif market.direction == \"down\":\n",
    "            # max capacity volume constraint\n",
    "            test_model.addConstr(sum(x[h, l, m] * Fd_h_l[h,l] for l in range(len(L))) <=  Vp_h_m[h,m]  * y[h,m], f\"max_volume_for_hour_{h}_market_{m}\")\n",
    "            # max activation volume constraint\n",
    "            test_model.addConstr(sum(x[h, l, m] * Fd_h_l[h,l] for l in range(len(L))) * w[h,m] <= Va_hm[h,m], f\"max_volume_for_activation_in_market_{m}_at_hour_{h}\")\n",
    "            # min volume capacity constraint\n",
    "            test_model.addConstr(sum(x[h, l, m] * Fd_h_l[h,l] for l in range(len(L))) >= Vm_m[m] * y[h, m], f\"min_volume_for_hour_{h}_market_{m}\") \n",
    "\n",
    "        else: # market.direction == \"both\"\n",
    "            if dominant_directions[h] == \"up\":\n",
    "                # max capacity volume constraint\n",
    "                test_model.addConstr(sum(x[h, l, m] * Fu_h_l[h,l] for l in range(len(L))) <= Vp_h_m[h,m]  * y[h,m], f\"max_volume_for_hour_{h}_market_{m}\")\n",
    "                # max activation volume constraint\n",
    "                test_model.addConstr(sum(x[h, l, m] * Fu_h_l[h,l] for l in range(len(L))) * w[h,m] <= Va_hm[h,m] , f\"max_volume_for_activation_in_market_{m}_at_hour_{h}\")\n",
    "                # min capacity volume constraint\n",
    "                test_model.addConstr(sum(x[h, l, m] * Fu_h_l[h,l] for l in range(len(L))) >= Vm_m[m] * y[h, m], f\"min_volume_for_hour_{h}_market_{m}\") \n",
    "\n",
    "            else:\n",
    "                # max capacity volume constraint\n",
    "                test_model.addConstr(sum(x[h, l, m] * Fd_h_l[h,l] for l in range(len(L))) <= Vp_h_m[h,m] * y[h,m], f\"max_volume_for_hour_{h}_market_{m}\")\n",
    "                # max activation volume constraint\n",
    "                test_model.addConstr(sum(x[h, l, m] * Fd_h_l[h,l] for l in range(len(L))) * w[h,m] <= Va_hm[h,m], f\"max_volume_for_activation_in_market_{m}_at_hour_{h}\")\n",
    "                # min capacity volume constraint\n",
    "                test_model.addConstr(sum(x[h, l, m] * Fd_h_l[h,l] for l in range(len(L))) >= Vm_m[m] * y[h, m], f\"min_volume_for_hour_{h}_market_{m}\") \n",
    "\n",
    "    \n",
    "        \n",
    "        # The response times for loads l connected to market m cannot exceed the max response time for m\n",
    "        for l in range(len(L)):\n",
    "            test_model.addConstr(x[h,l,m] * R_h_l[h,l] <= R_m[m] * y[h,m], f\"response_time_for_hour_{h}_market_{m}\")\n",
    "        \n",
    "            \n",
    "            \n",
    "            \n",
    "# Enable logging\n",
    "test_model.setParam('LogFile', 'weekly_test_model.log')\n",
    "\n",
    "# Solve the model\n",
    "test_model.optimize()\n",
    "    \n",
    "if test_model.status == gp.GRB.Status.INFEASIBLE:\n",
    "    test_model.computeIIS()\n"
   ]
  },
  {
   "cell_type": "code",
   "execution_count": null,
   "metadata": {},
   "outputs": [],
   "source": [
    "utils.test_solution_validity(x, y, w, Va_hm, L, M, H)"
   ]
  },
  {
   "cell_type": "code",
   "execution_count": null,
   "metadata": {},
   "outputs": [],
   "source": [
    "import pickle"
   ]
  },
  {
   "cell_type": "code",
   "execution_count": null,
   "metadata": {},
   "outputs": [],
   "source": [
    "# Extract binary variable values from the original model\n",
    "new_x_values = {(h, l, m): test_model.getVarByName(f\"x_{h}_{l}_{m}\").X for h in range(len(H)) for l in range(len(L)) for m in range(len(M))}\n"
   ]
  },
  {
   "cell_type": "code",
   "execution_count": null,
   "metadata": {},
   "outputs": [],
   "source": [
    "# Load the saved values\n",
    "with open('current_x_values_for_week.pkl', 'rb') as f:\n",
    "    original_x_values = pickle.load(f)\n",
    "\n",
    "old_dict = Utils.get_market_count_dict(original_x_values)\n",
    "new_dict = Utils.get_market_count_dict(new_x_values)\n",
    "\n",
    "differences = {}\n",
    "for key in old_dict:\n",
    "    if not old_dict[key].equals(new_dict[key]):\n",
    "        differences[key] = (new_dict[key], old_dict[key])\n",
    "        \n",
    "\n",
    "for key, (orig_val, mod_val) in differences.items():\n",
    "    print(f\"Difference for hour {key}: \\n Original={display(orig_val)}, \\n  Modified={display(mod_val)}\")\n"
   ]
  },
  {
   "cell_type": "code",
   "execution_count": null,
   "metadata": {},
   "outputs": [],
   "source": [
    "# Extract binary variable values from the original model\n",
    "current_x_values = {(h, l, m): test_model.getVarByName(f\"x_{h}_{l}_{m}\").X for h in range(len(H)) for l in range(len(L)) for m in range(len(M))}\n",
    "\n",
    "# Save these values\n",
    "with open('current_x_values_for_week.pkl', 'wb') as f:\n",
    "    pickle.dump(current_x_values, f)\n",
    "                "
   ]
  },
  {
   "cell_type": "code",
   "execution_count": null,
   "metadata": {},
   "outputs": [],
   "source": []
  }
 ],
 "metadata": {
  "kernelspec": {
   "display_name": "INF264",
   "language": "python",
   "name": "python3"
  },
  "language_info": {
   "codemirror_mode": {
    "name": "ipython",
    "version": 3
   },
   "file_extension": ".py",
   "mimetype": "text/x-python",
   "name": "python",
   "nbconvert_exporter": "python",
   "pygments_lexer": "ipython3",
   "version": "3.9.12"
  }
 },
 "nbformat": 4,
 "nbformat_minor": 2
}
