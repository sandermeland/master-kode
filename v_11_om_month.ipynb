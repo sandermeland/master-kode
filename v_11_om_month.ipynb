{
 "cells": [
  {
   "cell_type": "markdown",
   "metadata": {},
   "source": [
    "# This version uses the same logic as in v_10 but uses one week as its timeframe\n",
    "\n",
    "#### Have also updated the FCR and aFRR functions to make them faster and make FCR handle missing values"
   ]
  },
  {
   "cell_type": "code",
   "execution_count": 2,
   "metadata": {},
   "outputs": [],
   "source": [
    "import gurobipy as gp\n",
    "import pandas as pd\n",
    "from code_map import final_markets, new_meters, utils, analysis, timeframes\n",
    "import numpy as np\n",
    "import calendar \n",
    "from datetime import datetime\n",
    "import pytz\n",
    "import openpyxl\n",
    "import os\n"
   ]
  },
  {
   "cell_type": "code",
   "execution_count": 4,
   "metadata": {},
   "outputs": [],
   "source": [
    "timeframe = timeframes.one_day\n",
    "L, M, F, H, freq_data, power_meter_dict, consumption_data = utils.get_all_sets(timeframe)"
   ]
  },
  {
   "cell_type": "code",
   "execution_count": 6,
   "metadata": {},
   "outputs": [],
   "source": [
    "L_u, L_d, Fu_h_l, Fd_h_l, R_h_l, P_h_m, Vp_h_m, Vm_m, R_m = utils.get_parameters(L,M,H)"
   ]
  },
  {
   "cell_type": "code",
   "execution_count": 7,
   "metadata": {},
   "outputs": [],
   "source": [
    "\n",
    "markets_name_dict = {market.name: market for market in M}\n",
    "market_names = list(markets_name_dict.keys())\n",
    "price_list = [market.price_data for market in M]\n",
    "volume_list = [market.volume_data for market in M]\n"
   ]
  },
  {
   "cell_type": "code",
   "execution_count": 8,
   "metadata": {},
   "outputs": [
    {
     "name": "stdout",
     "output_type": "stream",
     "text": [
      "Amount of markets : 62\n",
      "Amount of meters : 2189\n",
      "Amount of meters with direction up or both : 2035\n",
      "Amount of meters with direction down or both : 2038\n",
      "Amount of hours : 24\n"
     ]
    }
   ],
   "source": [
    "print(f\"Amount of markets : {len(M)}\")\n",
    "print(f\"Amount of meters : {len(L)}\")\n",
    "print(f\"Amount of meters with direction up or both : {len(L_u)}\")\n",
    "print(f\"Amount of meters with direction down or both : {len(L_d)}\")\n",
    "print(f\"Amount of hours : {len(H)}\")"
   ]
  },
  {
   "cell_type": "code",
   "execution_count": 9,
   "metadata": {},
   "outputs": [
    {
     "name": "stdout",
     "output_type": "stream",
     "text": [
      "Total up flex volume: 148.49677599999998 MW\n",
      "Total down flex volume: 150.634953 MW\n",
      "Average flex volume pr hour up: 6.187365666666666 MWh\n",
      "Average flex volume pr hour down: 6.2764563749999995 MWh\n",
      "Average response time: 147.52632675429544 seconds\n"
     ]
    }
   ],
   "source": [
    "total_up_flex = np.sum(Fu_h_l) # total available flex volume up\n",
    "total_down_flex = np.sum(Fd_h_l) # total available flex volume down\n",
    "total_response_time = np.sum(R_h_l) # total response time\n",
    "#total_flex = total_up_flex + total_down_flex\n",
    "average_response_time = total_response_time/ (len(H)*len(L))\n",
    "hourly_flex_up = total_up_flex/len(H)\n",
    "hourly_flex_down = total_down_flex/len(H)\n",
    "\n",
    "print(f\"Total up flex volume: {total_up_flex} MW\")\n",
    "print(f\"Total down flex volume: {total_down_flex} MW\")\n",
    "print(f\"Average flex volume pr hour up: {hourly_flex_up} MWh\")\n",
    "print(f\"Average flex volume pr hour down: {hourly_flex_down} MWh\")\n",
    "print(f\"Average response time: {average_response_time} seconds\")"
   ]
  },
  {
   "cell_type": "code",
   "execution_count": 10,
   "metadata": {},
   "outputs": [],
   "source": [
    "dominant_directions = [utils.get_dominant_direction(freq_data, hour) for hour in H]"
   ]
  },
  {
   "cell_type": "code",
   "execution_count": 12,
   "metadata": {},
   "outputs": [
    {
     "name": "stdout",
     "output_type": "stream",
     "text": [
      "Regulation Up Activated\n"
     ]
    },
    {
     "name": "stderr",
     "output_type": "stream",
     "text": [
      "/Users/sandermeland/Documents/Dokumenter – Sanders MacBook Air/UIB/Master/master-kode/code_map/utils.py:134: SettingWithCopyWarning: \n",
      "A value is trying to be set on a copy of a slice from a DataFrame\n",
      "\n",
      "See the caveats in the documentation: https://pandas.pydata.org/pandas-docs/stable/user_guide/indexing.html#returning-a-view-versus-a-copy\n",
      "  filtered_df.sort_values(by = \"Time\", inplace = True)\n"
     ]
    },
    {
     "name": "stdout",
     "output_type": "stream",
     "text": [
      "Regulation Down Activated\n"
     ]
    },
    {
     "name": "stderr",
     "output_type": "stream",
     "text": [
      "/Users/sandermeland/Documents/Dokumenter – Sanders MacBook Air/UIB/Master/master-kode/code_map/utils.py:134: SettingWithCopyWarning: \n",
      "A value is trying to be set on a copy of a slice from a DataFrame\n",
      "\n",
      "See the caveats in the documentation: https://pandas.pydata.org/pandas-docs/stable/user_guide/indexing.html#returning-a-view-versus-a-copy\n",
      "  filtered_df.sort_values(by = \"Time\", inplace = True)\n"
     ]
    }
   ],
   "source": [
    "Ir_hlm, Ia_hlm, Va_hm = utils.get_income_dictionaries(H, M, L, dominant_directions, Fu_h_l, Fd_h_l, P_h_m, Vp_h_m, F, markets_name_dict, timeframe)\n"
   ]
  },
  {
   "cell_type": "code",
   "execution_count": 13,
   "metadata": {},
   "outputs": [],
   "source": [
    "compatible_list = utils.get_compatibility_dict(L, M)"
   ]
  },
  {
   "cell_type": "code",
   "execution_count": 14,
   "metadata": {},
   "outputs": [
    {
     "name": "stdout",
     "output_type": "stream",
     "text": [
      "Set parameter Username\n",
      "Academic license - for non-commercial use only - expires 2024-10-18\n",
      "Set parameter LogFile to value \"weekly_test_model.log\"\n",
      "Gurobi Optimizer version 10.0.3 build v10.0.3rc0 (mac64[rosetta2])\n",
      "\n",
      "CPU model: Apple M1\n",
      "Thread count: 8 physical cores, 8 logical processors, using up to 8 threads\n",
      "\n",
      "Optimize a model with 6571464 rows, 3260208 columns and 16497577 nonzeros\n",
      "Model fingerprint: 0x60504e45\n",
      "Model has 132702 quadratic objective terms\n",
      "Model has 1488 quadratic constraints\n",
      "Variable types: 0 continuous, 3260208 integer (3260208 binary)\n",
      "Coefficient statistics:\n",
      "  Matrix range     [1e-06, 1e+03]\n",
      "  QMatrix range    [1e-06, 8e-01]\n",
      "  Objective range  [5e-06, 2e+05]\n",
      "  QObjective range [1e-06, 3e+02]\n",
      "  Bounds range     [1e+00, 1e+00]\n",
      "  RHS range        [1e+00, 1e+00]\n",
      "  QRHS range       [2e+00, 1e+02]\n",
      "Found heuristic solution: objective -0.0000000\n",
      "Presolve removed 6527326 rows and 1867366 columns (presolve time = 5s) ...\n",
      "Presolve removed 6529308 rows and 3230436 columns (presolve time = 10s) ...\n",
      "Presolve removed 6569232 rows and 3258531 columns\n",
      "Presolve time: 12.10s\n",
      "Presolved: 2768 rows, 2213 columns, 8300 nonzeros\n",
      "Found heuristic solution: objective 2025.3590805\n",
      "Variable types: 0 continuous, 2213 integer (2213 binary)\n",
      "\n",
      "Root simplex log...\n",
      "\n",
      "Iteration    Objective       Primal Inf.    Dual Inf.      Time\n",
      "       0    2.1223362e+03   2.690000e+02   0.000000e+00     14s\n",
      "       1    2.1223362e+03   0.000000e+00   0.000000e+00     14s\n",
      "\n",
      "Root relaxation: objective 2.122336e+03, 1 iterations, 0.00 seconds (0.00 work units)\n",
      "\n",
      "    Nodes    |    Current Node    |     Objective Bounds      |     Work\n",
      " Expl Unexpl |  Obj  Depth IntInf | Incumbent    BestBd   Gap | It/Node Time\n",
      "\n",
      "*    0     0               0    2122.3362444 2122.33624  0.00%     -   14s\n",
      "\n",
      "Explored 1 nodes (1 simplex iterations) in 15.61 seconds (17.24 work units)\n",
      "Thread count was 8 (of 8 available processors)\n",
      "\n",
      "Solution count 3: 2122.34 2025.36 -0 \n",
      "\n",
      "Optimal solution found (tolerance 1.00e-04)\n",
      "Warning: max constraint violation (1.0000e-06) exceeds tolerance\n",
      "Best objective 2.122336244406e+03, best bound 2.122336244406e+03, gap 0.0000%\n"
     ]
    }
   ],
   "source": [
    "# Create a new model\n",
    "test_model = gp.Model(\"AssetToMarket\")\n",
    "\n",
    "# Create decision variables\n",
    "x = {}\n",
    "d = {}\n",
    "y = {}\n",
    "w = {}\n",
    "for h in range(len(H)):\n",
    "    for l in range(len(L)):\n",
    "        for m in range(len(M)):\n",
    "            # asset i is connected to market j at hour h\n",
    "            x[h, l, m] = test_model.addVar(lb = 0, ub = 1, vtype=gp.GRB.BINARY, name=f\"x_{h}_{l}_{m}\")\n",
    "\n",
    "            d[h,l,m] = 1 if l in compatible_list[m] else 0 # compatible_list takes care of both the area constraint and the direction constraint\n",
    "            \n",
    "            # adding the constraint\n",
    "            test_model.addConstr(x[h,l,m] <= d[h,l,m])\n",
    "    for m in range(len(M)):\n",
    "        # market m has a bid at hour h\n",
    "        y[h, m] = test_model.addVar(lb = 0, ub = 1, vtype=gp.GRB.BINARY, name=f\"y_{h}_{m}\")\n",
    "        # market m is activated at hour h\n",
    "        w[h, m] = test_model.addVar(lb = 0, ub = 1, vtype=gp.GRB.BINARY , name=f\"w_{h}_{m}\")\n",
    "        \n",
    "\n",
    "# Set objective            \n",
    "\n",
    "# Set the objective to maximize the total income expression\n",
    "test_model.setObjective(sum(Ir_hlm[h,l,m] * x[h,l,m] + Ia_hlm[h,l,m] * x[h,l,m] * w[h,m] for h in range(len(H)) for l in range(len(L)) for m in range(len(M)))\n",
    "                        , gp.GRB.MAXIMIZE) # can possibly remove the x on the activation income\n",
    "\n",
    "# Add constraints\n",
    "for h in range(len(H)):\n",
    "    for l in range(len(L)):\n",
    "        # Each asset can only be connected to one market at a time\n",
    "        test_model.addConstr(sum(x[h, l, m] for m in range(len(M))) <= 1, f\"single_market_for_asset_at_hour_{h}_nr.{l}\")\n",
    "        \n",
    "\n",
    "    for m, market in enumerate(M):\n",
    "        \n",
    "        up_val, down_val = F[h,m]\n",
    "        if up_val + down_val > 0:\n",
    "            test_model.addConstr(w[h,m] <= y[h,m], f\"market_{m}_can_not_be_activated_at_hour_{h}_if_it_is_not_active\")\n",
    "        else:\n",
    "            test_model.addConstr(w[h,m] == 0, f\"market_{m}_can_not_be_activated_at_hour_{h}_if_it_is_not_active\")\n",
    "        \n",
    "        \n",
    "        # Connect the binary variables by using big M\n",
    "        #test_model.addConstr(sum(x[h, l, m] for l in range(len(L))) <= len(L) * y[h, m], f\"asset_connection_for_hour_{h}_market_{m}\")\n",
    "     \n",
    "        # Max volume constraint\n",
    "        \n",
    "        if market.direction == \"up\":\n",
    "            # capacity volume constraint\n",
    "            test_model.addConstr(sum(x[h, l, m] * Fu_h_l[h,l] for l in range(len(L))) <= Vp_h_m[h,m]  * y[h,m], f\"max_volume_for_hour_{h}_market_{m}\")\n",
    "            # activation volume constraint\n",
    "            test_model.addConstr(sum(x[h, l, m] * Fu_h_l[h,l] for l in range(len(L))) * w[h,m] <= Va_hm[h,m], f\"max_volume_for_activation_in-_market_{m}_at_hour_{h}\")\n",
    "            # min volume capacity constraint\n",
    "            test_model.addConstr(sum(x[h, l, m] * Fu_h_l[h,l] for l in range(len(L))) >= Vm_m[m] * y[h, m], f\"min_volume_for_hour_{h}_market_{m}\") \n",
    "\n",
    "        elif market.direction == \"down\":\n",
    "            # max capacity volume constraint\n",
    "            test_model.addConstr(sum(x[h, l, m] * Fd_h_l[h,l] for l in range(len(L))) <=  Vp_h_m[h,m]  * y[h,m], f\"max_volume_for_hour_{h}_market_{m}\")\n",
    "            # max activation volume constraint\n",
    "            test_model.addConstr(sum(x[h, l, m] * Fd_h_l[h,l] for l in range(len(L))) * w[h,m] <= Va_hm[h,m], f\"max_volume_for_activation_in_market_{m}_at_hour_{h}\")\n",
    "            # min volume capacity constraint\n",
    "            test_model.addConstr(sum(x[h, l, m] * Fd_h_l[h,l] for l in range(len(L))) >= Vm_m[m] * y[h, m], f\"min_volume_for_hour_{h}_market_{m}\") \n",
    "\n",
    "        else: # market.direction == \"both\"\n",
    "            if dominant_directions[h] == \"up\":\n",
    "                # max capacity volume constraint\n",
    "                test_model.addConstr(sum(x[h, l, m] * Fu_h_l[h,l] for l in range(len(L))) <= Vp_h_m[h,m]  * y[h,m], f\"max_volume_for_hour_{h}_market_{m}\")\n",
    "                # max activation volume constraint\n",
    "                test_model.addConstr(sum(x[h, l, m] * Fu_h_l[h,l] for l in range(len(L))) * w[h,m] <= Va_hm[h,m] , f\"max_volume_for_activation_in_market_{m}_at_hour_{h}\")\n",
    "                # min capacity volume constraint\n",
    "                test_model.addConstr(sum(x[h, l, m] * Fu_h_l[h,l] for l in range(len(L))) >= Vm_m[m] * y[h, m], f\"min_volume_for_hour_{h}_market_{m}\") \n",
    "\n",
    "            else:\n",
    "                # max capacity volume constraint\n",
    "                test_model.addConstr(sum(x[h, l, m] * Fd_h_l[h,l] for l in range(len(L))) <= Vp_h_m[h,m] * y[h,m], f\"max_volume_for_hour_{h}_market_{m}\")\n",
    "                # max activation volume constraint\n",
    "                test_model.addConstr(sum(x[h, l, m] * Fd_h_l[h,l] for l in range(len(L))) * w[h,m] <= Va_hm[h,m], f\"max_volume_for_activation_in_market_{m}_at_hour_{h}\")\n",
    "                # min capacity volume constraint\n",
    "                test_model.addConstr(sum(x[h, l, m] * Fd_h_l[h,l] for l in range(len(L))) >= Vm_m[m] * y[h, m], f\"min_volume_for_hour_{h}_market_{m}\") \n",
    "\n",
    "    \n",
    "        \n",
    "        # The response times for loads l connected to market m cannot exceed the max response time for m\n",
    "        for l in range(len(L)):\n",
    "            test_model.addConstr(x[h,l,m] * R_h_l[h,l] <= R_m[m] * y[h,m], f\"response_time_for_hour_{h}_market_{m}\")\n",
    "        \n",
    "            \n",
    "            \n",
    "            \n",
    "# Enable logging\n",
    "test_model.setParam('LogFile', 'weekly_test_model.log')\n",
    "\n",
    "# Solve the model\n",
    "test_model.optimize()\n",
    "    \n",
    "if test_model.status == gp.GRB.Status.INFEASIBLE:\n",
    "    test_model.computeIIS()\n"
   ]
  },
  {
   "cell_type": "code",
   "execution_count": 16,
   "metadata": {},
   "outputs": [
    {
     "ename": "AssertionError",
     "evalue": "Minimum volume constraint violated at hour 7 for market 31",
     "output_type": "error",
     "traceback": [
      "\u001b[0;31m---------------------------------------------------------------------------\u001b[0m",
      "\u001b[0;31mAssertionError\u001b[0m                            Traceback (most recent call last)",
      "\u001b[1;32m/Users/sandermeland/Documents/Dokumenter – Sanders MacBook Air/UIB/Master/master-kode/v_11_om_month.ipynb Cell 12\u001b[0m line \u001b[0;36m1\n\u001b[0;32m----> <a href='vscode-notebook-cell:/Users/sandermeland/Documents/Dokumenter%20%E2%80%93%20Sanders%20MacBook%20Air/UIB/Master/master-kode/v_11_om_month.ipynb#X14sZmlsZQ%3D%3D?line=0'>1</a>\u001b[0m utils\u001b[39m.\u001b[39;49mtest_solution_validity(x, y, w, Va_hm, L, M, H, dominant_directions\u001b[39m=\u001b[39;49m dominant_directions, F \u001b[39m=\u001b[39;49m F)\n",
      "File \u001b[0;32m~/Documents/Dokumenter – Sanders MacBook Air/UIB/Master/master-kode/code_map/utils.py:459\u001b[0m, in \u001b[0;36mtest_solution_validity\u001b[0;34m(x, y, w, Va_hm, L, M, H, dominant_directions, F)\u001b[0m\n\u001b[1;32m    456\u001b[0m     \u001b[39melse\u001b[39;00m:\n\u001b[1;32m    457\u001b[0m         total_flex_volume \u001b[39m=\u001b[39m \u001b[39msum\u001b[39m(x[h, l, m]\u001b[39m.\u001b[39mX \u001b[39m*\u001b[39m load\u001b[39m.\u001b[39mdown_flex_volume[\u001b[39m\"\u001b[39m\u001b[39mvalue\u001b[39m\u001b[39m\"\u001b[39m]\u001b[39m.\u001b[39mloc[load\u001b[39m.\u001b[39mdown_flex_volume[\u001b[39m\"\u001b[39m\u001b[39mTime(Local)\u001b[39m\u001b[39m\"\u001b[39m] \u001b[39m==\u001b[39m hour]\u001b[39m.\u001b[39mvalues[\u001b[39m0\u001b[39m] \u001b[39mfor\u001b[39;00m l, load \u001b[39min\u001b[39;00m \u001b[39menumerate\u001b[39m(L) \u001b[39mif\u001b[39;00m load\u001b[39m.\u001b[39mdirection \u001b[39m!=\u001b[39m \u001b[39m\"\u001b[39m\u001b[39mup\u001b[39m\u001b[39m\"\u001b[39m)\n\u001b[0;32m--> 459\u001b[0m \u001b[39massert\u001b[39;00m total_flex_volume \u001b[39m>\u001b[39m\u001b[39m=\u001b[39m market\u001b[39m.\u001b[39mmin_volume \u001b[39m*\u001b[39m y[h, m]\u001b[39m.\u001b[39mX, \u001b[39mf\u001b[39m\u001b[39m\"\u001b[39m\u001b[39mMinimum volume constraint violated at hour \u001b[39m\u001b[39m{\u001b[39;00mh\u001b[39m}\u001b[39;00m\u001b[39m for market \u001b[39m\u001b[39m{\u001b[39;00mm\u001b[39m}\u001b[39;00m\u001b[39m\"\u001b[39m\n\u001b[1;32m    461\u001b[0m \u001b[39m# Max volume constraint for both capacity and activation\u001b[39;00m\n\u001b[1;32m    462\u001b[0m \u001b[39mif\u001b[39;00m market\u001b[39m.\u001b[39mdirection \u001b[39m==\u001b[39m \u001b[39m\"\u001b[39m\u001b[39mup\u001b[39m\u001b[39m\"\u001b[39m:\n",
      "\u001b[0;31mAssertionError\u001b[0m: Minimum volume constraint violated at hour 7 for market 31"
     ]
    }
   ],
   "source": [
    "utils.test_solution_validity(x, y, w, Va_hm, L, M, H, dominant_directions= dominant_directions, F = F)"
   ]
  },
  {
   "cell_type": "code",
   "execution_count": null,
   "metadata": {},
   "outputs": [],
   "source": [
    "import pickle"
   ]
  },
  {
   "cell_type": "code",
   "execution_count": null,
   "metadata": {},
   "outputs": [],
   "source": [
    "# Extract binary variable values from the original model\n",
    "new_x_values = {(h, l, m): test_model.getVarByName(f\"x_{h}_{l}_{m}\").X for h in range(len(H)) for l in range(len(L)) for m in range(len(M))}\n"
   ]
  },
  {
   "cell_type": "code",
   "execution_count": null,
   "metadata": {},
   "outputs": [],
   "source": [
    "# Load the saved values\n",
    "with open('current_x_values_for_week.pkl', 'rb') as f:\n",
    "    original_x_values = pickle.load(f)\n",
    "\n",
    "old_dict = utils.get_market_count_dict(original_x_values)\n",
    "new_dict = utils.get_market_count_dict(new_x_values)\n",
    "\n",
    "differences = {}\n",
    "for key in old_dict:\n",
    "    if not old_dict[key].equals(new_dict[key]):\n",
    "        differences[key] = (new_dict[key], old_dict[key])\n",
    "        \n",
    "\n",
    "for key, (orig_val, mod_val) in differences.items():\n",
    "    print(f\"Difference for hour {key}: \\n Original={display(orig_val)}, \\n  Modified={display(mod_val)}\")\n"
   ]
  },
  {
   "cell_type": "code",
   "execution_count": null,
   "metadata": {},
   "outputs": [],
   "source": [
    "# Extract binary variable values from the original model\n",
    "current_x_values = {(h, l, m): test_model.getVarByName(f\"x_{h}_{l}_{m}\").X for h in range(len(H)) for l in range(len(L)) for m in range(len(M))}\n",
    "\n",
    "# Save these values\n",
    "with open('current_x_values_for_week.pkl', 'wb') as f:\n",
    "    pickle.dump(current_x_values, f)\n",
    "                "
   ]
  },
  {
   "cell_type": "code",
   "execution_count": null,
   "metadata": {},
   "outputs": [],
   "source": []
  }
 ],
 "metadata": {
  "kernelspec": {
   "display_name": "INF264",
   "language": "python",
   "name": "python3"
  },
  "language_info": {
   "codemirror_mode": {
    "name": "ipython",
    "version": 3
   },
   "file_extension": ".py",
   "mimetype": "text/x-python",
   "name": "python",
   "nbconvert_exporter": "python",
   "pygments_lexer": "ipython3",
   "version": "3.9.18"
  }
 },
 "nbformat": 4,
 "nbformat_minor": 2
}
