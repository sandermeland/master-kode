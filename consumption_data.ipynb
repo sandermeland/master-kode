{
 "cells": [
  {
   "cell_type": "code",
   "execution_count": 2,
   "metadata": {},
   "outputs": [],
   "source": [
    "import pandas as pd\n",
    "import numpy as np\n",
    "import matplotlib.pyplot as plt\n",
    "from collections import OrderedDict\n",
    "from pandas.tseries.offsets import MonthEnd\n",
    "from datetime import datetime\n",
    "import pytz\n"
   ]
  },
  {
   "cell_type": "code",
   "execution_count": 3,
   "metadata": {},
   "outputs": [],
   "source": [
    "consumption_data =pd.read_csv('customers-data/export.csv')"
   ]
  },
  {
   "cell_type": "code",
   "execution_count": 4,
   "metadata": {},
   "outputs": [
    {
     "data": {
      "text/html": [
       "<div>\n",
       "<style scoped>\n",
       "    .dataframe tbody tr th:only-of-type {\n",
       "        vertical-align: middle;\n",
       "    }\n",
       "\n",
       "    .dataframe tbody tr th {\n",
       "        vertical-align: top;\n",
       "    }\n",
       "\n",
       "    .dataframe thead th {\n",
       "        text-align: right;\n",
       "    }\n",
       "</style>\n",
       "<table border=\"1\" class=\"dataframe\">\n",
       "  <thead>\n",
       "    <tr style=\"text-align: right;\">\n",
       "      <th></th>\n",
       "      <th>metering_point_id</th>\n",
       "      <th>value</th>\n",
       "      <th>start_time_local</th>\n",
       "      <th>end_time_local</th>\n",
       "      <th>constant</th>\n",
       "    </tr>\n",
       "  </thead>\n",
       "  <tbody>\n",
       "    <tr>\n",
       "      <th>0</th>\n",
       "      <td>707057500010945590</td>\n",
       "      <td>19.770</td>\n",
       "      <td>2022-01-01T00:00:00.000Z</td>\n",
       "      <td>2022-01-01T01:00:00.000Z</td>\n",
       "      <td>1</td>\n",
       "    </tr>\n",
       "    <tr>\n",
       "      <th>1</th>\n",
       "      <td>707057500010945590</td>\n",
       "      <td>21.792</td>\n",
       "      <td>2022-01-01T01:00:00.000Z</td>\n",
       "      <td>2022-01-01T02:00:00.000Z</td>\n",
       "      <td>1</td>\n",
       "    </tr>\n",
       "    <tr>\n",
       "      <th>2</th>\n",
       "      <td>707057500010945590</td>\n",
       "      <td>19.620</td>\n",
       "      <td>2022-01-01T02:00:00.000Z</td>\n",
       "      <td>2022-01-01T03:00:00.000Z</td>\n",
       "      <td>1</td>\n",
       "    </tr>\n",
       "    <tr>\n",
       "      <th>3</th>\n",
       "      <td>707057500010945590</td>\n",
       "      <td>20.622</td>\n",
       "      <td>2022-01-01T03:00:00.000Z</td>\n",
       "      <td>2022-01-01T04:00:00.000Z</td>\n",
       "      <td>1</td>\n",
       "    </tr>\n",
       "    <tr>\n",
       "      <th>4</th>\n",
       "      <td>707057500010945590</td>\n",
       "      <td>20.820</td>\n",
       "      <td>2022-01-01T04:00:00.000Z</td>\n",
       "      <td>2022-01-01T05:00:00.000Z</td>\n",
       "      <td>1</td>\n",
       "    </tr>\n",
       "    <tr>\n",
       "      <th>...</th>\n",
       "      <td>...</td>\n",
       "      <td>...</td>\n",
       "      <td>...</td>\n",
       "      <td>...</td>\n",
       "      <td>...</td>\n",
       "    </tr>\n",
       "    <tr>\n",
       "      <th>2531635</th>\n",
       "      <td>707057500094415316</td>\n",
       "      <td>0.000</td>\n",
       "      <td>2022-12-31T19:00:00.000Z</td>\n",
       "      <td>2022-12-31T20:00:00.000Z</td>\n",
       "      <td>1</td>\n",
       "    </tr>\n",
       "    <tr>\n",
       "      <th>2531636</th>\n",
       "      <td>707057500094415316</td>\n",
       "      <td>0.000</td>\n",
       "      <td>2022-12-31T20:00:00.000Z</td>\n",
       "      <td>2022-12-31T21:00:00.000Z</td>\n",
       "      <td>1</td>\n",
       "    </tr>\n",
       "    <tr>\n",
       "      <th>2531637</th>\n",
       "      <td>707057500094415316</td>\n",
       "      <td>0.000</td>\n",
       "      <td>2022-12-31T21:00:00.000Z</td>\n",
       "      <td>2022-12-31T22:00:00.000Z</td>\n",
       "      <td>1</td>\n",
       "    </tr>\n",
       "    <tr>\n",
       "      <th>2531638</th>\n",
       "      <td>707057500094415316</td>\n",
       "      <td>0.000</td>\n",
       "      <td>2022-12-31T22:00:00.000Z</td>\n",
       "      <td>2022-12-31T23:00:00.000Z</td>\n",
       "      <td>1</td>\n",
       "    </tr>\n",
       "    <tr>\n",
       "      <th>2531639</th>\n",
       "      <td>707057500094415316</td>\n",
       "      <td>0.000</td>\n",
       "      <td>2022-12-31T23:00:00.000Z</td>\n",
       "      <td>2023-01-01T00:00:00.000Z</td>\n",
       "      <td>1</td>\n",
       "    </tr>\n",
       "  </tbody>\n",
       "</table>\n",
       "<p>2531640 rows × 5 columns</p>\n",
       "</div>"
      ],
      "text/plain": [
       "          metering_point_id   value          start_time_local  \\\n",
       "0        707057500010945590  19.770  2022-01-01T00:00:00.000Z   \n",
       "1        707057500010945590  21.792  2022-01-01T01:00:00.000Z   \n",
       "2        707057500010945590  19.620  2022-01-01T02:00:00.000Z   \n",
       "3        707057500010945590  20.622  2022-01-01T03:00:00.000Z   \n",
       "4        707057500010945590  20.820  2022-01-01T04:00:00.000Z   \n",
       "...                     ...     ...                       ...   \n",
       "2531635  707057500094415316   0.000  2022-12-31T19:00:00.000Z   \n",
       "2531636  707057500094415316   0.000  2022-12-31T20:00:00.000Z   \n",
       "2531637  707057500094415316   0.000  2022-12-31T21:00:00.000Z   \n",
       "2531638  707057500094415316   0.000  2022-12-31T22:00:00.000Z   \n",
       "2531639  707057500094415316   0.000  2022-12-31T23:00:00.000Z   \n",
       "\n",
       "                   end_time_local  constant  \n",
       "0        2022-01-01T01:00:00.000Z         1  \n",
       "1        2022-01-01T02:00:00.000Z         1  \n",
       "2        2022-01-01T03:00:00.000Z         1  \n",
       "3        2022-01-01T04:00:00.000Z         1  \n",
       "4        2022-01-01T05:00:00.000Z         1  \n",
       "...                           ...       ...  \n",
       "2531635  2022-12-31T20:00:00.000Z         1  \n",
       "2531636  2022-12-31T21:00:00.000Z         1  \n",
       "2531637  2022-12-31T22:00:00.000Z         1  \n",
       "2531638  2022-12-31T23:00:00.000Z         1  \n",
       "2531639  2023-01-01T00:00:00.000Z         1  \n",
       "\n",
       "[2531640 rows x 5 columns]"
      ]
     },
     "execution_count": 4,
     "metadata": {},
     "output_type": "execute_result"
    }
   ],
   "source": [
    "consumption_data"
   ]
  },
  {
   "cell_type": "code",
   "execution_count": 5,
   "metadata": {},
   "outputs": [],
   "source": [
    "def preprocess_df(df):\n",
    "    df[\"start_time_local\"] = pd.to_datetime(df[\"start_time_local\"])\n",
    "    df[\"start_time_local\"] = df[\"start_time_local\"].dt.tz_convert('Europe/Oslo')\n",
    "    df.rename(columns={'start_time_local':'Time(Local)'}, inplace=True)\n",
    "    df.drop(columns = [\"end_time_local\", \"constant\"], inplace = True)\n",
    "    return df\n",
    "    \n",
    "    "
   ]
  },
  {
   "cell_type": "code",
   "execution_count": 6,
   "metadata": {},
   "outputs": [],
   "source": [
    "updated_df = preprocess_df(consumption_data)"
   ]
  },
  {
   "cell_type": "code",
   "execution_count": 8,
   "metadata": {},
   "outputs": [
    {
     "data": {
      "text/html": [
       "<div>\n",
       "<style scoped>\n",
       "    .dataframe tbody tr th:only-of-type {\n",
       "        vertical-align: middle;\n",
       "    }\n",
       "\n",
       "    .dataframe tbody tr th {\n",
       "        vertical-align: top;\n",
       "    }\n",
       "\n",
       "    .dataframe thead th {\n",
       "        text-align: right;\n",
       "    }\n",
       "</style>\n",
       "<table border=\"1\" class=\"dataframe\">\n",
       "  <thead>\n",
       "    <tr style=\"text-align: right;\">\n",
       "      <th></th>\n",
       "      <th>metering_point_id</th>\n",
       "      <th>value</th>\n",
       "      <th>Time(Local)</th>\n",
       "    </tr>\n",
       "  </thead>\n",
       "  <tbody>\n",
       "    <tr>\n",
       "      <th>0</th>\n",
       "      <td>707057500010945590</td>\n",
       "      <td>19.770</td>\n",
       "      <td>2022-01-01 01:00:00+01:00</td>\n",
       "    </tr>\n",
       "    <tr>\n",
       "      <th>1</th>\n",
       "      <td>707057500010945590</td>\n",
       "      <td>21.792</td>\n",
       "      <td>2022-01-01 02:00:00+01:00</td>\n",
       "    </tr>\n",
       "    <tr>\n",
       "      <th>2</th>\n",
       "      <td>707057500010945590</td>\n",
       "      <td>19.620</td>\n",
       "      <td>2022-01-01 03:00:00+01:00</td>\n",
       "    </tr>\n",
       "    <tr>\n",
       "      <th>3</th>\n",
       "      <td>707057500010945590</td>\n",
       "      <td>20.622</td>\n",
       "      <td>2022-01-01 04:00:00+01:00</td>\n",
       "    </tr>\n",
       "    <tr>\n",
       "      <th>4</th>\n",
       "      <td>707057500010945590</td>\n",
       "      <td>20.820</td>\n",
       "      <td>2022-01-01 05:00:00+01:00</td>\n",
       "    </tr>\n",
       "    <tr>\n",
       "      <th>...</th>\n",
       "      <td>...</td>\n",
       "      <td>...</td>\n",
       "      <td>...</td>\n",
       "    </tr>\n",
       "    <tr>\n",
       "      <th>8755</th>\n",
       "      <td>707057500010945590</td>\n",
       "      <td>18.414</td>\n",
       "      <td>2022-12-31 20:00:00+01:00</td>\n",
       "    </tr>\n",
       "    <tr>\n",
       "      <th>8756</th>\n",
       "      <td>707057500010945590</td>\n",
       "      <td>20.484</td>\n",
       "      <td>2022-12-31 21:00:00+01:00</td>\n",
       "    </tr>\n",
       "    <tr>\n",
       "      <th>8757</th>\n",
       "      <td>707057500010945590</td>\n",
       "      <td>18.966</td>\n",
       "      <td>2022-12-31 22:00:00+01:00</td>\n",
       "    </tr>\n",
       "    <tr>\n",
       "      <th>8758</th>\n",
       "      <td>707057500010945590</td>\n",
       "      <td>18.984</td>\n",
       "      <td>2022-12-31 23:00:00+01:00</td>\n",
       "    </tr>\n",
       "    <tr>\n",
       "      <th>8759</th>\n",
       "      <td>707057500010945590</td>\n",
       "      <td>19.440</td>\n",
       "      <td>2023-01-01 00:00:00+01:00</td>\n",
       "    </tr>\n",
       "  </tbody>\n",
       "</table>\n",
       "<p>8760 rows × 3 columns</p>\n",
       "</div>"
      ],
      "text/plain": [
       "       metering_point_id   value               Time(Local)\n",
       "0     707057500010945590  19.770 2022-01-01 01:00:00+01:00\n",
       "1     707057500010945590  21.792 2022-01-01 02:00:00+01:00\n",
       "2     707057500010945590  19.620 2022-01-01 03:00:00+01:00\n",
       "3     707057500010945590  20.622 2022-01-01 04:00:00+01:00\n",
       "4     707057500010945590  20.820 2022-01-01 05:00:00+01:00\n",
       "...                  ...     ...                       ...\n",
       "8755  707057500010945590  18.414 2022-12-31 20:00:00+01:00\n",
       "8756  707057500010945590  20.484 2022-12-31 21:00:00+01:00\n",
       "8757  707057500010945590  18.966 2022-12-31 22:00:00+01:00\n",
       "8758  707057500010945590  18.984 2022-12-31 23:00:00+01:00\n",
       "8759  707057500010945590  19.440 2023-01-01 00:00:00+01:00\n",
       "\n",
       "[8760 rows x 3 columns]"
      ]
     },
     "execution_count": 8,
     "metadata": {},
     "output_type": "execute_result"
    }
   ],
   "source": [
    "for meter_id in updated_df[\"metering_point_id\"].unique():\n",
    "    meter_values = updated_df.loc[(updated_df[\"metering_point_id\"] == meter_id)]"
   ]
  },
  {
   "cell_type": "code",
   "execution_count": 21,
   "metadata": {},
   "outputs": [],
   "source": [
    "def get_variance(consumption_df):\n",
    "    \n",
    "    \"\"\"\n",
    "    computes the variance for each meter\n",
    "    returns two dictionaries, one to connect the meter-id to its values and one to connect the meter-id to its variance\n",
    "    \"\"\"\n",
    "    meter_ids = consumption_df[\"metering_point_id\"].unique()\n",
    "\n",
    "    #print(len(meter_ids))\n",
    "\n",
    "    meter_value_dict = {meter_id : consumption_df[consumption_df[\"metering_point_id\"] == meter_id] for meter_id in meter_ids}\n",
    "\n",
    "    var_met_dict = {meter_id : meter_value_dict[meter_id][\"value\"].var() for meter_id in meter_ids }\n",
    "\n",
    "    return meter_value_dict, var_met_dict"
   ]
  },
  {
   "cell_type": "code",
   "execution_count": 22,
   "metadata": {},
   "outputs": [
    {
     "name": "stdout",
     "output_type": "stream",
     "text": [
      "289\n"
     ]
    }
   ],
   "source": [
    "meter_val_dict, meter_variance_dict = get_variance(consumption_df=updated_df)\n",
    "print(len(meter_variance_dict.keys()))\n",
    "sorted_var_dict = sorted(meter_variance_dict.items(), key=lambda x:x[1])"
   ]
  },
  {
   "cell_type": "code",
   "execution_count": 23,
   "metadata": {},
   "outputs": [
    {
     "ename": "ModuleNotFoundError",
     "evalue": "No module named 'plotly'",
     "output_type": "error",
     "traceback": [
      "\u001b[0;31m---------------------------------------------------------------------------\u001b[0m",
      "\u001b[0;31mModuleNotFoundError\u001b[0m                       Traceback (most recent call last)",
      "\u001b[1;32m/Users/sandermeland/Documents/Jobb/Volte/master-kode/consumption_data.ipynb Cell 9\u001b[0m line \u001b[0;36m1\n\u001b[0;32m----> <a href='vscode-notebook-cell:/Users/sandermeland/Documents/Jobb/Volte/master-kode/consumption_data.ipynb#X12sZmlsZQ%3D%3D?line=0'>1</a>\u001b[0m \u001b[39mimport\u001b[39;00m \u001b[39mplotly\u001b[39;00m\u001b[39m.\u001b[39;00m\u001b[39mexpress\u001b[39;00m \u001b[39mas\u001b[39;00m \u001b[39mpx\u001b[39;00m\n\u001b[1;32m      <a href='vscode-notebook-cell:/Users/sandermeland/Documents/Jobb/Volte/master-kode/consumption_data.ipynb#X12sZmlsZQ%3D%3D?line=2'>3</a>\u001b[0m \u001b[39mdef\u001b[39;00m \u001b[39mplot_timeframes\u001b[39m(val_dict, var_dict, n_plots):\n\u001b[1;32m      <a href='vscode-notebook-cell:/Users/sandermeland/Documents/Jobb/Volte/master-kode/consumption_data.ipynb#X12sZmlsZQ%3D%3D?line=3'>4</a>\u001b[0m     \u001b[39m\"\"\"\u001b[39;00m\n\u001b[1;32m      <a href='vscode-notebook-cell:/Users/sandermeland/Documents/Jobb/Volte/master-kode/consumption_data.ipynb#X12sZmlsZQ%3D%3D?line=4'>5</a>\u001b[0m \u001b[39m    plots the timeframes for the n_plots meters with the lowest variance\u001b[39;00m\n\u001b[1;32m      <a href='vscode-notebook-cell:/Users/sandermeland/Documents/Jobb/Volte/master-kode/consumption_data.ipynb#X12sZmlsZQ%3D%3D?line=5'>6</a>\u001b[0m \u001b[39m    \"\"\"\u001b[39;00m\n",
      "\u001b[0;31mModuleNotFoundError\u001b[0m: No module named 'plotly'"
     ]
    }
   ],
   "source": [
    "import plotly.express as px\n",
    "\n",
    "def plot_timeframes(val_dict, var_dict, n_plots):\n",
    "    \"\"\"\n",
    "    plots the timeframes for the n_plots meters with the lowest variance\n",
    "    \"\"\"\n",
    "    sorted_keys = [var_dict[i][0] for i in range(len(var_dict))]\n",
    "    for meter_id in sorted_keys[:n_plots]:\n",
    "        #display(val_dict[meter_id][\"value\"])\n",
    "        #print(\"Variance = \", var_dict[meter_id])\n",
    "        fig = px.line(val_dict[meter_id], x = \"start_time_local\", y = \"value\")\n",
    "        fig.show()"
   ]
  },
  {
   "cell_type": "code",
   "execution_count": 24,
   "metadata": {},
   "outputs": [
    {
     "ename": "NameError",
     "evalue": "name 'plot_timeframes' is not defined",
     "output_type": "error",
     "traceback": [
      "\u001b[0;31m---------------------------------------------------------------------------\u001b[0m",
      "\u001b[0;31mNameError\u001b[0m                                 Traceback (most recent call last)",
      "\u001b[1;32m/Users/sandermeland/Documents/Jobb/Volte/master-kode/consumption_data.ipynb Cell 10\u001b[0m line \u001b[0;36m1\n\u001b[0;32m----> <a href='vscode-notebook-cell:/Users/sandermeland/Documents/Jobb/Volte/master-kode/consumption_data.ipynb#X13sZmlsZQ%3D%3D?line=0'>1</a>\u001b[0m plot_timeframes(mval_dict, sorted_var_dict, \u001b[39m5\u001b[39m)\n",
      "\u001b[0;31mNameError\u001b[0m: name 'plot_timeframes' is not defined"
     ]
    }
   ],
   "source": [
    "plot_timeframes(meter_val_dict, sorted_var_dict, 5)"
   ]
  },
  {
   "cell_type": "code",
   "execution_count": 25,
   "metadata": {},
   "outputs": [],
   "source": [
    "def get_wanted_amount_of_meters(val_dict, var_dict, n_meters):\n",
    "    \"\"\"_summary_\n",
    "\n",
    "    Args:\n",
    "        val_dict (_type_): _description_\n",
    "        var_dict (_type_): _description_\n",
    "        n_meters (_type_): _description_\n",
    "\n",
    "    Returns:\n",
    "        list: Returns a list of given amount of datasets where they are sorted based on the variance \n",
    "\n",
    "    \"\"\"\n",
    "    sorted_keys = [var_dict[i][0] for i in range(len(var_dict))]\n",
    "    return [val_dict[meter_id] for meter_id in sorted_keys[:n_meters]]"
   ]
  },
  {
   "cell_type": "code",
   "execution_count": 35,
   "metadata": {},
   "outputs": [
    {
     "data": {
      "text/plain": [
       "numpy.int64"
      ]
     },
     "execution_count": 35,
     "metadata": {},
     "output_type": "execute_result"
    }
   ],
   "source": [
    "type(consumption_data[\"metering_point_id\"].iloc[0])"
   ]
  },
  {
   "cell_type": "code",
   "execution_count": 26,
   "metadata": {},
   "outputs": [],
   "source": [
    "df_list = get_wanted_amount_of_meters(val_dict= meter_val_dict, var_dict= sorted_var_dict, n_meters = 200)"
   ]
  },
  {
   "cell_type": "code",
   "execution_count": 28,
   "metadata": {},
   "outputs": [],
   "source": [
    "total_value_per_hour = consumption_data.groupby([\"Time(Local)\"]).agg({\"value\": \"sum\"})"
   ]
  },
  {
   "cell_type": "code",
   "execution_count": 29,
   "metadata": {},
   "outputs": [
    {
     "data": {
      "text/plain": [
       "Time(Local)\n",
       "2022-01-01 01:00:00+01:00    14202.043\n",
       "2022-01-01 02:00:00+01:00    13954.733\n",
       "2022-01-01 03:00:00+01:00    14314.283\n",
       "2022-01-01 04:00:00+01:00    14006.993\n",
       "2022-01-01 05:00:00+01:00    13951.225\n",
       "                               ...    \n",
       "2022-12-31 20:00:00+01:00    12836.692\n",
       "2022-12-31 21:00:00+01:00    12553.593\n",
       "2022-12-31 22:00:00+01:00    12427.895\n",
       "2022-12-31 23:00:00+01:00    12585.111\n",
       "2023-01-01 00:00:00+01:00    12095.609\n",
       "Name: value, Length: 8759, dtype: float64"
      ]
     },
     "execution_count": 29,
     "metadata": {},
     "output_type": "execute_result"
    }
   ],
   "source": [
    "total_value_per_hour[\"value\"]"
   ]
  },
  {
   "cell_type": "code",
   "execution_count": 33,
   "metadata": {},
   "outputs": [
    {
     "ename": "TypeError",
     "evalue": "'bool' object is not callable",
     "output_type": "error",
     "traceback": [
      "\u001b[0;31m---------------------------------------------------------------------------\u001b[0m",
      "\u001b[0;31mTypeError\u001b[0m                                 Traceback (most recent call last)",
      "\u001b[1;32m/Users/sandermeland/Documents/Jobb/Volte/master-kode/consumption_data.ipynb Cell 15\u001b[0m line \u001b[0;36m1\n\u001b[0;32m----> <a href='vscode-notebook-cell:/Users/sandermeland/Documents/Jobb/Volte/master-kode/consumption_data.ipynb#X24sZmlsZQ%3D%3D?line=0'>1</a>\u001b[0m consumption_data\u001b[39m.\u001b[39;49mgroupby(\u001b[39m\"\u001b[39;49m\u001b[39mmetering_point_id\u001b[39;49m\u001b[39m\"\u001b[39;49m)\u001b[39m.\u001b[39;49mas_index()\n",
      "\u001b[0;31mTypeError\u001b[0m: 'bool' object is not callable"
     ]
    }
   ],
   "source": [
    "consumption_data.groupby(\"metering_point_id\")"
   ]
  },
  {
   "cell_type": "code",
   "execution_count": 30,
   "metadata": {},
   "outputs": [],
   "source": [
    "for (index, val) in enumerate(total_value_per_hour[\"value\"]):\n",
    "    #print(index, val)\n",
    "    if val < 1000:\n",
    "        print(index, val)"
   ]
  },
  {
   "cell_type": "code",
   "execution_count": 31,
   "metadata": {},
   "outputs": [],
   "source": [
    "def get_hour_val_for_meter(df : pd.DataFrame, date : datetime, meter_id : np.int64):\n",
    "    return df.loc[(df[\"Time(Local)\"] == date), (df[\"metering_point_id\"] == meter_id)]\n",
    "            \n",
    "        "
   ]
  },
  {
   "cell_type": "code",
   "execution_count": null,
   "metadata": {},
   "outputs": [],
   "source": []
  }
 ],
 "metadata": {
  "kernelspec": {
   "display_name": "INF265",
   "language": "python",
   "name": "python3"
  },
  "language_info": {
   "codemirror_mode": {
    "name": "ipython",
    "version": 3
   },
   "file_extension": ".py",
   "mimetype": "text/x-python",
   "name": "python",
   "nbconvert_exporter": "python",
   "pygments_lexer": "ipython3",
   "version": "3.9.12"
  }
 },
 "nbformat": 4,
 "nbformat_minor": 2
}
