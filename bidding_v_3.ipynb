{
 "cells": [
  {
   "cell_type": "markdown",
   "metadata": {},
   "source": [
    "#### This file should build on what i made in v_2 and make it more in to a RL problem. I will have to define an episode, the state space and different states. The actions and the reward function has to be made as well."
   ]
  },
  {
   "cell_type": "code",
   "execution_count": 3,
   "metadata": {},
   "outputs": [],
   "source": [
    "import gurobipy as gp\n",
    "import pandas as pd\n",
    "from code_map import final_markets, new_meters, utils, data_handling, timeframes\n",
    "import numpy as np\n",
    "from datetime import datetime, timedelta\n",
    "from collections import defaultdict, Counter\n",
    "import random"
   ]
  },
  {
   "cell_type": "code",
   "execution_count": 4,
   "metadata": {},
   "outputs": [],
   "source": [
    "L, M, F, H, freq_data, power_meter_dict, consumption_data, L_u, L_d, Fu_h_l, Fd_h_l, R_h_l, P_h_m, Vp_h_m, Vm_m, R_m, dominant_directions, Ir_hlm, Ia_hlm, Va_hm, compatible_list = data_handling.load_collections(\"./half_month_collections.pkl\")"
   ]
  },
  {
   "cell_type": "code",
   "execution_count": 6,
   "metadata": {},
   "outputs": [],
   "source": [
    "compatible_dict = utils.get_compatibility_dict(L = L ,M = M, index = False)"
   ]
  },
  {
   "cell_type": "markdown",
   "metadata": {},
   "source": [
    "One episode should be for one week. That means that I should use have hours from two days before the week starts until the saturday. "
   ]
  },
  {
   "cell_type": "code",
   "execution_count": null,
   "metadata": {},
   "outputs": [],
   "source": [
    "def random_arg_max(possible_actions):\n",
    "    imax = 0\n",
    "    xmax = possible_actions[imax]  # Current maximum\n",
    "    nmax = 1  # Number of maximum values at the moment\n",
    "\n",
    "    for i in range(1, len(possible_actions)):\n",
    "        if possible_actions[i] == xmax:\n",
    "            nmax += 1\n",
    "            if nmax * random.random() < 1.0:\n",
    "                imax = i\n",
    "        elif possible_actions[i] > xmax:\n",
    "            nmax = 1  # Reset count since a new maximum is found\n",
    "            imax = i\n",
    "            xmax = possible_actions[i]  # Update the new maximum\n",
    "\n",
    "    return imax\n"
   ]
  },
  {
   "cell_type": "code",
   "execution_count": null,
   "metadata": {},
   "outputs": [],
   "source": [
    "def greedy_action(Q : np.array, epsilon : float ):\n",
    "    \"\"\" Function to get the possible dates for placing a bid given the current date\n",
    "    One action should be to locate a given amount of assets in to one market. the mininmum amount of assets is as many is needed to cover the demand in the market. The maximum amount of assets is the total amount of assets. The action is chosen greedily with respect to the expected reward of the action. The expected reward is the expected reward of the action given the current state. \n",
    "    The current state is the current date and the current location of the assets. The expected reward\n",
    "\n",
    "    Args:\n",
    "        date (pd.Timestamp): the current date\n",
    "\n",
    "    Returns:\n",
    "        (pd.date_range, str): the possible dates for placing a bid and for which market\n",
    "    \"\"\"\n",
    "    if random() <= (1- epsilon): # pick greedy\n",
    "        return random_arg_max(Q)\n",
    "    else:\n",
    "        return random.randint(len(Q)) # random\n"
   ]
  },
  {
   "cell_type": "code",
   "execution_count": 7,
   "metadata": {},
   "outputs": [],
   "source": [
    "def get_possible_dates(date : pd.Timestamp):\n",
    "    \"\"\" Function to get the possible dates for placing a bid given the current date\n",
    "\n",
    "    Args:\n",
    "        date (pd.Timestamp): the current date\n",
    "\n",
    "    Returns:\n",
    "        (pd.date_range, str): the possible dates for placing a bid and for which market\n",
    "    \"\"\"\n",
    "    if date.hour == 17: # FCR D-2\n",
    "        return (pd.date_range(date + timedelta(days=1) + timedelta(hours=7), date + timedelta(days = 2) + timedelta(hours = 6), freq='H', tz = \"Europe/Oslo\"), \"D_2\")\n",
    "    elif date.hour == 7: # aFRR\n",
    "        return (pd.date_range(date + timedelta(hours = 17), date + timedelta(days = 1) + timedelta(hours = 16), freq='H', tz = \"Europe/Oslo\"), \"aFRR\")\n",
    "    elif date.hour == 18: # FCR D-1\n",
    "        return (pd.date_range(date + timedelta(hours=6), date + timedelta(days = 1) + timedelta(hours = 5), freq='H', tz = \"Europe/Oslo\"), \"D_1\")\n",
    "    else:\n",
    "        return ([], \"No bids\")"
   ]
  },
  {
   "cell_type": "code",
   "execution_count": 8,
   "metadata": {},
   "outputs": [],
   "source": [
    "def check_constraints_for_hour(possible_assets : [[new_meters.PowerMeter]], hour : pd.Timestamp, possible_volume : float, expected_price : float, market : final_markets.ReserveMarket):\n",
    "            \n",
    "    max_vol = market.volume_data.loc[market.volume_data[\"Time(Local)\"] == hour].values[0][1]  # set of volumes for markets\n",
    "    constrained_vol = possible_volume if possible_volume >= market.min_volume and possible_volume < max_vol else 0\n",
    "    # get the prices for the given market within the given hours\n",
    "    possible_price = market.price_data.loc[market.price_data[\"Time(Local)\"] == hour].values[0][1]  #price for markets\n",
    "    # Calculate the possible revenues\n",
    "    \"\"\"print(f\"possible_prices in function : {possible_prices}\")\n",
    "    print(f\"expected_prices in function : {expected_prices}\")\"\"\"\n",
    "    bids_to_be_made = possible_price if possible_price >= expected_price else 0\n",
    "    \"\"\"print(f\"bids_to_be_made in function : {bids_to_be_made}\")\n",
    "    print(f\"possible_volumes in function : {constrained_vols}\")\"\"\"\n",
    "    possible_revenue = constrained_vol * bids_to_be_made\n",
    "    \n",
    "    #print(f\"possible_revenues in function : {possible_revenues}\")\n",
    "    possible_assets = possible_assets if possible_revenue > 0 else [] \n",
    "    #print(f\"possible_assets in function : {possible_assets}\")\n",
    "    return possible_revenue, possible_assets"
   ]
  },
  {
   "cell_type": "code",
   "execution_count": 9,
   "metadata": {},
   "outputs": [],
   "source": [
    "def place_hourly_bids(hour : pd.Timestamp, expected_price : float, available_assets : dict, market : final_markets.ReserveMarket):\n",
    "    \"\"\" Function to place bids for a given market and set of hours. The bids are placed for every hour in the set of hours. The bids are placed for the assets that are not already bid in to other markets in the given hours. The bids are placed for the assets that are compatible with the given market.\n",
    "\n",
    "    Args:\n",
    "        possible_hours (pd.Timestamp]): The time stamps for which the bids are placed\n",
    "        available_assets (dict): Dictionary with the available assets for each hour\n",
    "        market (final_markets.ReserveMarket): the market to be bid in to\n",
    "\n",
    "    Returns:\n",
    "        tuple (np.array, np.array): The possible revenue of the placed bids for each hour and the assets which are bid for each hour\n",
    "    \"\"\"\n",
    "    #hourly_assets = [available_assets[hour] for hour in possible_hours]\n",
    "    possible_assets = [asset for asset in possible_assets if asset in compatible_list[market]]\n",
    "\n",
    "    if market.direction == \"up\":\n",
    "        # check the compatibility for the assets\n",
    "        possible_volume = sum([asset.up_flex_volume[\"value\"].loc[asset.up_flex_volume[\"Time(Local)\"] == hour].values[0] for asset in possible_assets])\n",
    "        #print(f\"possible_volumes: {possible_volumes}\")\n",
    "        possible_revenue, possible_assets = check_constraints_for_hour(possible_assets, hour ,possible_volume,  expected_price , market)\n",
    "    elif market.direction == \"down\":\n",
    "        possible_volume = sum([asset.down_flex_volume[\"value\"].loc[asset.down_flex_volume[\"Time(Local)\"] == hour].values[0] for asset in possible_assets])\n",
    "        #print(f\"possible_volumes: {possible_volumes}\")\n",
    "\n",
    "        possible_revenue, possible_assets = check_constraints_for_hour(possible_assets, hour, possible_volume, expected_price, market)\n",
    "    else:        \n",
    "        possible_up_volume = sum([asset.up_flex_volume[\"value\"].loc[asset.up_flex_volume[\"Time(Local)\"] == hour].values[0] if asset.direction != \"down\" else 0 for asset in possible_assets])\n",
    "        possible_down_volume = sum([asset.down_flex_volume[\"value\"].loc[asset.down_flex_volume[\"Time(Local)\"] == hour].values[0] if asset.direction != \"up\" else 0 for asset in possible_assets])\n",
    "        #print(f\"possible_up_volumes: {possible_up_volumes}\")\n",
    "        #print(f\"possible_down_volumes: {possible_down_volumes}\")\n",
    "        # possible volumes should be != 0 if both up and down volume is higher than min_volume. If both vols are higher than min_volume, then the actuale volume should be decided by the lowest one\n",
    "        actual_volumes = min(possible_up_volume, possible_down_volume)\n",
    "        #print(f\"actual_volumes: {actual_volumes}\")\n",
    "        # Find the hours where both up and down volume is higher than min_volume\n",
    "        possible_volume = actual_volumes if possible_up_volume >= market.min_volume and possible_down_volume >= market.min_volume else 0 \n",
    "        #possible_volumes = np.where((possible_up_volumes >= min_vols and possible_down_volumes >= min_vols), actual_volumes, 0) \n",
    "        #print(f\"possible_volumes: {possible_volumes}\")\n",
    "        possible_revenue, possible_assets = check_constraints_for_hour(possible_assets, hour, possible_volume, expected_price, market)\n",
    "        \"\"\"print(f\"possible_revenues: {possible_revenues}\")\n",
    "        print(f\"possible_assets: {possible_assets}\")\"\"\"\n",
    "    return (possible_revenue, possible_assets)\n"
   ]
  },
  {
   "cell_type": "code",
   "execution_count": null,
   "metadata": {},
   "outputs": [],
   "source": [
    "def Sarsa(epsilon, n_episodes, alpha, L, M, H):\n",
    "    \n",
    "    revenue = 0\n",
    "    bid_timeframe = pd.date_range(H[-1] + timedelta(hours=1), periods=48, freq='H', tz=\"Europe/Oslo\")\n",
    "    available_assets = {hour: L.copy() for hour in bid_timeframe}\n",
    "    bids = {(market.name, hour): [] for hour in bid_timeframe for market in M}\n",
    "    markets_name_dict = {market.name: market for market in M}\n",
    "    sup_market_names = [\"FCR\", \"aFRR\"]\n",
    "    market_names = [market.name for market in M if market.name in sup_market_names[0] or market.name in sup_market_names[1]]\n",
    "    terminal_state = False\n",
    "    #state space consists of day of week, hour of day, available assets, possible markets\n",
    "    Q = np.zeros(7, 24, len(L), len(market_names), len(L)) # day of week, hour of day, available assets, possible markets, assets already bid\n",
    "    (possible_hours, market_name) = get_possible_dates(H[0])\n",
    "    q_0 = Q[possible_hours[0].weekday(), possible_hours[0].hour, len(available_assets[possible_hours[0]]), :, len(L) - len(available_assets[possible_hours[0]])]\n",
    "    \"an action should be to bid in to on of the possible markets\"\n",
    "    action_0 = greedy_action(q_0, epsilon)\n",
    "    value_0 = Q[possible_hours[0].weekday(), possible_hours[0].hour, len(available_assets[possible_hours[0]]), action_0, len(L) - len(available_assets[possible_hours[0]])]\n",
    "    while not terminal_state:\n",
    "        for hour in H:\n",
    "            (possible_hours, market_name) = get_possible_dates(hour)\n",
    "            if len(possible_hours) != 24:\n",
    "                #print(f\"No bids for {hour}\")\n",
    "                #print(f\"possible_hours: {len(possible_hours)}\")\n",
    "                continue\n",
    "\n",
    "            possible_markets = [m for m in M if market_name in m.name]\n",
    "            for market in possible_markets:\n",
    "                markets_to_check = [m for m in markets_name_dict.values() if m.area == market.area and m.direction == market.direction]\n",
    "                expected_prices = np.array([np.mean([market.price_data.loc[market.price_data[\"Time(Local)\"] == hour].values[0][1] for market in markets_to_check]) for hour in possible_hours])\n",
    "                for h, bid_hour in enumerate(possible_hours):\n",
    "                    \n",
    "                    (possible_revenues, possible_assets) = place_hourly_bids(market=market, available_assets=available_assets[hour], hour=hour, expected_price=expected_prices[h])\n",
    "                    revenue += np.sum(possible_revenues)\n",
    "\n",
    "                    # Select assets with positive revenue for bidding\n",
    "                    assets_to_bid = [asset for asset in possible_assets[h] if possible_revenues[h] > 0]\n",
    "                    # Flatten the list if it's a list of lists\n",
    "                    #assets_to_bid = [item for sublist in assets_to_bid for item in sublist]\n",
    "                    # Store the bid information\n",
    "                    bids[(market.name, bid_hour)] = [asset.meter_id for asset in assets_to_bid]\n",
    "                    # Update available assets\n",
    "                    available_assets[bid_hour] = [asset for asset in available_assets[bid_hour] if asset not in assets_to_bid]\n",
    "\n",
    "    return bids, revenue, available_assets\n",
    "    \n",
    "    \n",
    "    "
   ]
  }
 ],
 "metadata": {
  "kernelspec": {
   "display_name": "myenv",
   "language": "python",
   "name": "python3"
  },
  "language_info": {
   "codemirror_mode": {
    "name": "ipython",
    "version": 3
   },
   "file_extension": ".py",
   "mimetype": "text/x-python",
   "name": "python",
   "nbconvert_exporter": "python",
   "pygments_lexer": "ipython3",
   "version": "3.9.18"
  }
 },
 "nbformat": 4,
 "nbformat_minor": 2
}
