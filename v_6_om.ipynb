{
 "cells": [
  {
   "cell_type": "markdown",
   "metadata": {},
   "source": [
    "# From version 5 I have now divided the flex volume by up and down"
   ]
  },
  {
   "cell_type": "code",
   "execution_count": 47,
   "metadata": {},
   "outputs": [],
   "source": [
    "from gurobipy import Model, GRB\n",
    "import pandas as pd\n",
    "from code_map import new_meters, new_markets, Inputs\n",
    "import numpy as np\n",
    "import matplotlib.pyplot as plt\n",
    "import calendar \n",
    "from datetime import datetime\n",
    "import pytz\n",
    "import openpyxl\n",
    "from itertools import combinations, product\n"
   ]
  },
  {
   "cell_type": "code",
   "execution_count": 48,
   "metadata": {},
   "outputs": [
    {
     "name": "stderr",
     "output_type": "stream",
     "text": [
      "/Users/sandermeland/Documents/Dokumenter – Sanders MacBook Air/Jobb/Volte/master-kode/code_map/Inputs.py:52: SettingWithCopyWarning: \n",
      "A value is trying to be set on a copy of a slice from a DataFrame\n",
      "\n",
      "See the caveats in the documentation: https://pandas.pydata.org/pandas-docs/stable/user_guide/indexing.html#returning-a-view-versus-a-copy\n",
      "  filtered_df.sort_values(by = \"Time\", inplace = True)\n"
     ]
    }
   ],
   "source": [
    "consumption_data =pd.read_csv('customers-data/added_type_and_comp.csv')\n",
    "timeframe = Inputs.one_day\n",
    "freq_data = Inputs.get_frequency_data(timeframe, 'frequency_data/2023-06')\n",
    "power_meter_dict = new_meters.create_meter_objects(consumption_data, timeframe)\n"
   ]
  },
  {
   "cell_type": "code",
   "execution_count": 49,
   "metadata": {},
   "outputs": [],
   "source": [
    "H = Inputs.get_timestamps(timeframe)\n",
    "\n",
    "# Define the sets\n",
    "L = list(power_meter_dict.values())  # List of PowerMeter objects\n",
    "M = new_markets.all_market_list  # List of ReserveMarket objects\n",
    "\n",
    "# make a list of only the meters that have direction up or both\n",
    "L_u = [meter for meter in L if meter.direction != 'down']\n",
    "L_d = [meter for meter in L if meter.direction != 'up']"
   ]
  },
  {
   "cell_type": "code",
   "execution_count": 50,
   "metadata": {},
   "outputs": [
    {
     "name": "stdout",
     "output_type": "stream",
     "text": [
      "Amount of markets : 62\n",
      "Amount of meters : 2202\n",
      "Amount of meters with direction up or both : 2072\n",
      "Amount of meters with direction down or both : 2034\n",
      "Amount of hours : 24\n"
     ]
    }
   ],
   "source": [
    "print(f\"Amount of markets : {len(M)}\")\n",
    "print(f\"Amount of meters : {len(L)}\")\n",
    "print(f\"Amount of meters with direction up or both : {len(L_u)}\")\n",
    "print(f\"Amount of meters with direction down or both : {len(L_d)}\")\n",
    "print(f\"Amount of hours : {len(H)}\")"
   ]
  },
  {
   "cell_type": "code",
   "execution_count": 51,
   "metadata": {},
   "outputs": [],
   "source": [
    "Fu_h_l = np.array([[load.up_flex_volume[\"value\"].loc[load.up_flex_volume[\"Time(Local)\"] == hour].values[0] if load.direction != \"down\" else 0 for load in L] for hour in H]) # set of flex volumes for meters, if load.direction != \"down\"\n",
    "Fd_h_l = np.array([[load.down_flex_volume[\"value\"].loc[load.down_flex_volume[\"Time(Local)\"] == hour].values[0] if load.direction != \"up\" else 0 for load in L] for hour in H]) # set of flex volumes for meters, if load.direction != \"up\"\n",
    "\n",
    "R_h_l = np.array([[load.response_time for load in L]] * len(H)) # set of response times for meters\n",
    "\n",
    "P_h_m = np.array([[market.price_data.loc[market.price_data[\"Time(Local)\"] == hour].values[0][1] for market in M] for hour in H]) # set of prices for markets\n",
    "Vp_h_m = np.array([[market.volume_data.loc[market.volume_data[\"Time(Local)\"] == hour].values[0][1] for market in M] for hour in H]) # set of volumes for markets\n",
    "\n",
    "Vm_m = [market.min_volume for market in M] # set of min values for markets\n",
    "R_m = [market.response_time for market in M] # set of response times for markets\n"
   ]
  },
  {
   "cell_type": "code",
   "execution_count": 52,
   "metadata": {},
   "outputs": [
    {
     "data": {
      "text/plain": [
       "212.49699"
      ]
     },
     "execution_count": 52,
     "metadata": {},
     "output_type": "execute_result"
    }
   ],
   "source": [
    "np.sum(Fu_h_l)"
   ]
  },
  {
   "cell_type": "code",
   "execution_count": 53,
   "metadata": {},
   "outputs": [
    {
     "name": "stdout",
     "output_type": "stream",
     "text": [
      "Total up flex volume: 212.49699\n",
      "Total down flex volume: 534.9483650000001\n",
      "Average flex volume pr hour up: 8.85404125\n",
      "Average flex volume pr hour down: 22.289515208333338\n"
     ]
    }
   ],
   "source": [
    "total_up_flex = np.sum(Fu_h_l) # total available flex volume up\n",
    "total_down_flex = np.sum(Fd_h_l) # total available flex volume down\n",
    "#total_flex = total_up_flex + total_down_flex\n",
    "hourly_flex_up = total_up_flex/len(H)\n",
    "hourly_flex_down = total_down_flex/len(H)\n",
    "\n",
    "print(f\"Total up flex volume: {total_up_flex}\")\n",
    "print(f\"Total down flex volume: {total_down_flex}\")\n",
    "print(f\"Average flex volume pr hour up: {hourly_flex_up}\")\n",
    "print(f\"Average flex volume pr hour down: {hourly_flex_down}\")"
   ]
  },
  {
   "cell_type": "code",
   "execution_count": 54,
   "metadata": {},
   "outputs": [],
   "source": [
    "def get_dominant_direction(freq_df : pd.DataFrame, hour : pd.Timestamp):\n",
    "    \"\"\"will find out which direction is dominant within an hour\n",
    "\n",
    "    Args:\n",
    "        freq_data (pd.DataFrame): dataframe of the frequency data\n",
    "        hour (pd.Timestamp): the wanted hour\n",
    "    \"\"\"\n",
    "    start_datetime = hour \n",
    "    if hour.hour == 23:\n",
    "        end_datetime = hour.replace(hour = 0, day= hour.day+1)\n",
    "    else:\n",
    "        end_datetime = hour.replace(hour = hour.hour + 1)\n",
    "        \n",
    "    filtered_df = freq_df[(freq_df[\"Time\"] >= start_datetime) & (freq_df[\"Time\"] <= end_datetime)]\n",
    "    #print(filtered_df)\n",
    "    avg_freq = filtered_df[\"Value\"].mean()\n",
    "    #print(avg_freq)\n",
    "    if avg_freq > 50.0:\n",
    "        return \"up\"\n",
    "    else:\n",
    "        return \"down\""
   ]
  },
  {
   "cell_type": "code",
   "execution_count": 55,
   "metadata": {},
   "outputs": [
    {
     "data": {
      "text/plain": [
       "'down'"
      ]
     },
     "execution_count": 55,
     "metadata": {},
     "output_type": "execute_result"
    }
   ],
   "source": [
    "get_dominant_direction(freq_data, H[5])"
   ]
  },
  {
   "cell_type": "code",
   "execution_count": 56,
   "metadata": {},
   "outputs": [
    {
     "data": {
      "text/plain": [
       "DatetimeIndex(['2023-06-26 00:00:00+02:00', '2023-06-26 01:00:00+02:00',\n",
       "               '2023-06-26 02:00:00+02:00', '2023-06-26 03:00:00+02:00',\n",
       "               '2023-06-26 04:00:00+02:00', '2023-06-26 05:00:00+02:00',\n",
       "               '2023-06-26 06:00:00+02:00', '2023-06-26 07:00:00+02:00',\n",
       "               '2023-06-26 08:00:00+02:00', '2023-06-26 09:00:00+02:00',\n",
       "               '2023-06-26 10:00:00+02:00', '2023-06-26 11:00:00+02:00',\n",
       "               '2023-06-26 12:00:00+02:00', '2023-06-26 13:00:00+02:00',\n",
       "               '2023-06-26 14:00:00+02:00', '2023-06-26 15:00:00+02:00',\n",
       "               '2023-06-26 16:00:00+02:00', '2023-06-26 17:00:00+02:00',\n",
       "               '2023-06-26 18:00:00+02:00', '2023-06-26 19:00:00+02:00',\n",
       "               '2023-06-26 20:00:00+02:00', '2023-06-26 21:00:00+02:00',\n",
       "               '2023-06-26 22:00:00+02:00', '2023-06-26 23:00:00+02:00'],\n",
       "              dtype='datetime64[ns, Europe/Oslo]', freq='H')"
      ]
     },
     "execution_count": 56,
     "metadata": {},
     "output_type": "execute_result"
    }
   ],
   "source": [
    "H"
   ]
  },
  {
   "cell_type": "code",
   "execution_count": 57,
   "metadata": {},
   "outputs": [],
   "source": [
    "dominant_directions = [get_dominant_direction(freq_data, hour) for hour in H]"
   ]
  },
  {
   "cell_type": "code",
   "execution_count": 58,
   "metadata": {},
   "outputs": [
    {
     "data": {
      "text/plain": [
       "['up',\n",
       " 'up',\n",
       " 'down',\n",
       " 'up',\n",
       " 'up',\n",
       " 'down',\n",
       " 'down',\n",
       " 'down',\n",
       " 'down',\n",
       " 'down',\n",
       " 'down',\n",
       " 'up',\n",
       " 'down',\n",
       " 'up',\n",
       " 'down',\n",
       " 'up',\n",
       " 'down',\n",
       " 'down',\n",
       " 'down',\n",
       " 'down',\n",
       " 'down',\n",
       " 'up',\n",
       " 'down',\n",
       " 'down']"
      ]
     },
     "execution_count": 58,
     "metadata": {},
     "output_type": "execute_result"
    }
   ],
   "source": [
    "dominant_directions"
   ]
  },
  {
   "cell_type": "code",
   "execution_count": 59,
   "metadata": {},
   "outputs": [],
   "source": [
    "I = {}\n",
    "\n",
    "for h, hour in enumerate(H):\n",
    "    for l, load in enumerate(L): \n",
    "        for m, market in enumerate(M):\n",
    "            if market.direction == \"both\":\n",
    "                if load.direction == \"both\":\n",
    "                    if dominant_directions[h] == \"up\":\n",
    "                        I[h,l,m] = Fu_h_l[h,l] * P_h_m[h,m]\n",
    "                    else:\n",
    "                        I[h,l ,m] = Fd_h_l[h,l] * P_h_m[h,m]\n",
    "                    #I[h,l,m] =(Fu_h_l[h,l]+ Fd_h_l[h,l])/2 * P_h_m[h,m]\n",
    "                else:\n",
    "                    I[h,l,m] = 0\n",
    "            elif market.direction == \"up\":\n",
    "                if load.direction != \"down\":\n",
    "                    I[h,l,m] = Fu_h_l[h,l] * P_h_m[h,m]\n",
    "                else:\n",
    "                    I[h,l,m] = 0\n",
    "            else: # market.direction == \"down\"\n",
    "                if load.direction != \"up\":\n",
    "                    I[h,l,m] = Fd_h_l[h,l] * P_h_m[h,m]\n",
    "                else:\n",
    "                    I[h,l,m] = 0\n",
    "        "
   ]
  },
  {
   "cell_type": "code",
   "execution_count": 60,
   "metadata": {},
   "outputs": [],
   "source": [
    "\"\"\"else:\n",
    "        continue\"\"\"\n",
    "\n",
    "compatible_list = []\n",
    "for h, hour in enumerate(H):\n",
    "    hour_list = []\n",
    "    for l, asset in enumerate(L):\n",
    "        asset_list = []\n",
    "        for m, market in enumerate(M):\n",
    "            if asset.direction == \"up\":\n",
    "                if market.direction == \"up\":\n",
    "                    if market.area == asset.area or market.area == \"all\":\n",
    "                        asset_list.append(m)\n",
    "            elif asset.direction == \"down\":\n",
    "                if market.area == asset.area or market.area == \"all\":\n",
    "                    if market.direction == \"down\":\n",
    "                        asset_list.append(m)\n",
    "                \n",
    "            elif asset.direction == \"both\":\n",
    "                if market.area == asset.area  or market.area == \"all\":\n",
    "                    asset_list.append(m)\n",
    "        hour_list.append(asset_list)\n",
    "    compatible_list.append(hour_list)\n",
    "\n",
    "                \n",
    "    \n",
    "    "
   ]
  },
  {
   "cell_type": "code",
   "execution_count": 61,
   "metadata": {},
   "outputs": [
    {
     "name": "stdout",
     "output_type": "stream",
     "text": [
      "Gurobi Optimizer version 10.0.3 build v10.0.3rc0 (mac64[rosetta2])\n",
      "\n",
      "CPU model: Apple M1\n",
      "Thread count: 8 physical cores, 8 logical processors, using up to 8 threads\n",
      "\n",
      "Optimize a model with 6610464 rows, 3278064 columns and 21366084 nonzeros\n",
      "Model fingerprint: 0xeffd1b34\n",
      "Variable types: 0 continuous, 3278064 integer (3278064 binary)\n",
      "Coefficient statistics:\n",
      "  Matrix range     [1e-06, 2e+03]\n",
      "  Objective range  [2e-06, 1e+02]\n",
      "  Bounds range     [1e+00, 1e+00]\n",
      "  RHS range        [1e+00, 1e+00]\n",
      "Found heuristic solution: objective -0.0000000\n",
      "Presolve removed 6558904 rows and 3242128 columns (presolve time = 6s) ...\n",
      "Presolve removed 6563882 rows and 3246990 columns (presolve time = 10s) ...\n",
      "Presolve removed 6609979 rows and 3277740 columns\n",
      "Presolve time: 13.67s\n",
      "Presolved: 485 rows, 324 columns, 1290 nonzeros\n",
      "Found heuristic solution: objective 3225.9704642\n",
      "Variable types: 0 continuous, 324 integer (324 binary)\n",
      "\n",
      "Root simplex log...\n",
      "\n",
      "Iteration    Objective       Primal Inf.    Dual Inf.      Time\n",
      "       0    3.2722730e+03   5.271690e-01   0.000000e+00     16s\n",
      "      43    3.2702485e+03   0.000000e+00   0.000000e+00     16s\n",
      "\n",
      "Root relaxation: objective 3.270249e+03, 43 iterations, 0.01 seconds (0.00 work units)\n",
      "\n",
      "    Nodes    |    Current Node    |     Objective Bounds      |     Work\n",
      " Expl Unexpl |  Obj  Depth IntInf | Incumbent    BestBd   Gap | It/Node Time\n",
      "\n",
      "     0     0 3270.24855    0    2 3225.97046 3270.24855  1.37%     -   16s\n",
      "H    0     0                    3270.1022722 3270.24855  0.00%     -   16s\n",
      "\n",
      "Explored 1 nodes (43 simplex iterations) in 18.09 seconds (20.97 work units)\n",
      "Thread count was 8 (of 8 available processors)\n",
      "\n",
      "Solution count 3: 3270.1 3225.97 -0 \n",
      "\n",
      "Optimal solution found (tolerance 1.00e-04)\n",
      "Best objective 3.270102272210e+03, best bound 3.270248548281e+03, gap 0.0045%\n"
     ]
    }
   ],
   "source": [
    "# Create a new model\n",
    "test_model = Model(\"AssetToMarket\")\n",
    "\n",
    "# Create decision variables\n",
    "x = {}\n",
    "d = {}\n",
    "y = {}\n",
    "for h in range(len(H)):\n",
    "    for l in range(len(L)):\n",
    "        for m in range(len(M)):\n",
    "            # asset i is connected to market j at hour h\n",
    "            x[h, l, m] = test_model.addVar(lb = 0, ub = 1, vtype=GRB.BINARY, name=f\"x_{h}_{l}_{m}\")\n",
    "\n",
    "            d[h,l,m] = 1 if m in compatible_list[h][l] else 0 # compatible_list takes care of both the area constraint and the direction constraint\n",
    "            \n",
    "            # adding the constraint\n",
    "            test_model.addConstr(x[h,l,m] <= d[h,l,m])\n",
    "    for m in range(len(M)):\n",
    "        # market j is active at hour h\n",
    "        y[h, m] = test_model.addVar(lb = 0, ub = 1, vtype=GRB.BINARY, name=f\"y_{h}_{m}\")\n",
    "\n",
    "\n",
    "# Set objective\n",
    "test_model.setObjective(\n",
    "    # maxmize income \n",
    "    sum(x[h, l, m] *I[h, l, m] for l in range(len(L)) for m in range(len(M)) for h in range(len(H))), GRB.MAXIMIZE)\n",
    "\n",
    "# Add constraints\n",
    "for h in range(len(H)):\n",
    "    for l in range(len(L)):\n",
    "        # Each asset can only be connected to one market at a time\n",
    "        test_model.addConstr(sum(x[h, l, m] for m in range(len(M))) <= 1, f\"single_market_for_asset_at_hour_{h}_nr.{l}\")\n",
    "\n",
    "    for m in range(len(M)):\n",
    "        # Connect the binary variables by using big M\n",
    "        test_model.addConstr((sum(x[h, l, m] for l in range(len(L)))) <= len(L) * y[h, m], f\"asset_connection_for_hour_{h}_market_{m}\")\n",
    "        \n",
    "        # Min volume constraint\n",
    "        if market.direction == \"up\":\n",
    "            test_model.addConstr(sum(x[h, l, m] * Fu_h_l[h,l] for l in range(len((L)))) >= Vm_m[m] * y[h, m], f\"min_volume_for_hour_{h}_market_{m}\") # denne må sjekkes\n",
    "        elif market.direction == \"down\":\n",
    "            test_model.addConstr(sum(x[h, l, m] * Fd_h_l[h,l] for l in range(len((L)))) >= Vm_m[m] * y[h, m], f\"min_volume_for_hour_{h}_market_{m}\") # denne må sjekkes\n",
    "        else:\n",
    "            if dominant_directions[h] == \"up\":\n",
    "                test_model.addConstr(sum(x[h, l, m] * Fu_h_l[h,l] for l in range(len((L)))) >= Vm_m[m] * y[h, m], f\"min_volume_for_hour_{h}_market_{m}\") # denne må sjekkes\n",
    "            else:\n",
    "                test_model.addConstr(sum(x[h, l, m] * Fd_h_l[h,l] for l in range(len((L)))) >= Vm_m[m] * y[h, m], f\"min_volume_for_hour_{h}_market_{m}\") # denne må sjekkes\n",
    "\n",
    "        # Weighted average constraint for response time\n",
    "        #total_response_time = sum(x[h, l, m] * R_h_l[h,l] for l in range(len(L)))\n",
    "        #total_assigned_assets = sum(x[h, l, m] for l in range(len(L)))\n",
    "        #test_model.addConstr(total_response_time <= R_m[m] * total_assigned_assets, f\"avg_response_time_for_hour_{h}_market_{m}\")\n",
    "\n",
    "        # Max volume constraint\n",
    "        \n",
    "        if market.direction == \"up\":\n",
    "            test_model.addConstr(sum(x[h, l, m] * Fu_h_l[h,l] for l in range(len(L))) <=  Vp_h_m[h,m]  * y[h,m], f\"max_volume_for_hour_{h}_market_{m}\")\n",
    "        elif market.direction == \"down\":\n",
    "            test_model.addConstr(sum(x[h, l, m] * Fd_h_l[h,l] for l in range(len(L))) <=  Vp_h_m[h,m]  * y[h,m], f\"max_volume_for_hour_{h}_market_{m}\")\n",
    "        else:\n",
    "            if dominant_directions[h] == \"up\":\n",
    "                test_model.addConstr(sum(x[h, l, m] * Fu_h_l[h,l] for l in range(len(L))) <=  Vp_h_m[h,m]  * y[h,m], f\"max_volume_for_hour_{h}_market_{m}\")\n",
    "            else:\n",
    "                test_model.addConstr(sum(x[h, l, m] * Fd_h_l[h,l] for l in range(len(L))) <=  Vp_h_m[h,m]  * y[h,m], f\"max_volume_for_hour_{h}_market_{m}\")\n",
    "        for l in range(len(L)):\n",
    "            test_model.addConstr(x[h,l,m] * R_h_l[h,l] <= R_m[m] * y[h,m], f\"response_time_for_hour_{h}_market_{m}\")\n",
    "\n",
    "# Solve the model\n",
    "test_model.optimize()\n",
    "    \n",
    "if test_model.status == GRB.Status.INFEASIBLE:\n",
    "    test_model.computeIIS()\n"
   ]
  },
  {
   "cell_type": "code",
   "execution_count": 62,
   "metadata": {},
   "outputs": [],
   "source": [
    "def get_market_count_dict(x):\n",
    "    data = []\n",
    "\n",
    "    for h, hour in enumerate(H):\n",
    "        for l, load in enumerate(L):\n",
    "            for m, market in enumerate(M):\n",
    "                if x[h, l, m].X > 0.5:\n",
    "                    data.append([hour, load.meter_id, market.name])\n",
    "\n",
    "    df = pd.DataFrame(data, columns=[\"Hour\", \"Asset Meter ID\", \"Market\"])\n",
    "    #print(df)\n",
    "\n",
    "\n",
    "    market_count_dict = {}\n",
    "    for hour in H:\n",
    "        hour_df = df.loc[(df[\"Hour\"] == hour)]\n",
    "        # get the number of assets in each market\n",
    "        market_count = hour_df.groupby([\"Market\", \"Hour\"]).agg(\"count\").reset_index().rename(columns={\"Asset Meter ID\": \"Asset Count\"})\n",
    "        market_count_dict[hour] = market_count\n",
    "    return market_count_dict"
   ]
  },
  {
   "cell_type": "code",
   "execution_count": 63,
   "metadata": {},
   "outputs": [],
   "source": [
    "market_count_dict = get_market_count_dict(x)\n"
   ]
  },
  {
   "cell_type": "code",
   "execution_count": 64,
   "metadata": {},
   "outputs": [
    {
     "data": {
      "text/html": [
       "<div>\n",
       "<style scoped>\n",
       "    .dataframe tbody tr th:only-of-type {\n",
       "        vertical-align: middle;\n",
       "    }\n",
       "\n",
       "    .dataframe tbody tr th {\n",
       "        vertical-align: top;\n",
       "    }\n",
       "\n",
       "    .dataframe thead th {\n",
       "        text-align: right;\n",
       "    }\n",
       "</style>\n",
       "<table border=\"1\" class=\"dataframe\">\n",
       "  <thead>\n",
       "    <tr style=\"text-align: right;\">\n",
       "      <th></th>\n",
       "      <th>Market</th>\n",
       "      <th>Hour</th>\n",
       "      <th>Asset Count</th>\n",
       "    </tr>\n",
       "  </thead>\n",
       "  <tbody>\n",
       "    <tr>\n",
       "      <th>0</th>\n",
       "      <td>aFRR down_NO5</td>\n",
       "      <td>2023-06-26 00:00:00+02:00</td>\n",
       "      <td>612</td>\n",
       "    </tr>\n",
       "    <tr>\n",
       "      <th>1</th>\n",
       "      <td>aFRR up_NO5</td>\n",
       "      <td>2023-06-26 00:00:00+02:00</td>\n",
       "      <td>300</td>\n",
       "    </tr>\n",
       "  </tbody>\n",
       "</table>\n",
       "</div>"
      ],
      "text/plain": [
       "          Market                      Hour  Asset Count\n",
       "0  aFRR down_NO5 2023-06-26 00:00:00+02:00          612\n",
       "1    aFRR up_NO5 2023-06-26 00:00:00+02:00          300"
      ]
     },
     "execution_count": 64,
     "metadata": {},
     "output_type": "execute_result"
    }
   ],
   "source": [
    "market_count_dict[H[0]]"
   ]
  },
  {
   "cell_type": "code",
   "execution_count": 65,
   "metadata": {},
   "outputs": [],
   "source": [
    "def test_solution_validity(x, y, L, M, H):\n",
    "    for h, hour in enumerate(H):\n",
    "        for l, load in enumerate(L):\n",
    "            # Each asset can only be connected to one market at a time\n",
    "            assert sum(x[h, l, m].X for m in range(len(M))) <= 1, f\"Asset {l} connected to multiple markets at hour {h}\"\n",
    "            for m, market in enumerate(M):\n",
    "                # Directionality constraints\n",
    "                if load.direction == \"up\" and market.direction == \"down\":\n",
    "                    assert x[h, l, m].X == 0, f\"Up-direction asset {l} connected to down-direction market {m} at hour {h}\"\n",
    "                elif load.direction == \"down\" and market.direction == \"up\":\n",
    "                    assert x[h, l, m].X == 0, f\"Down-direction asset {l} connected to up-direction market {m} at hour {h}\"\n",
    "                elif market.direction == \"both\" and load.direction != \"both\":\n",
    "                    assert x[h, l, m].X == 0, f\"Asset {l} with specific direction connected to both-direction market {m} at hour {h}\"\n",
    "                elif market.area != load.area:\n",
    "                    assert x[h, l, m].X == 0, f\"Asset {l} in area {load.area} connected to market {m} in area {market.area} at hour {h}\"\n",
    "                \n",
    "                # Response time constraints\n",
    "                assert x[h, l, m].X * load.response_time <= market.response_time * y[h, m].X, f\"Asset {l} connected to market {m} at hour {h} violates response time constraint\"\n",
    "                \n",
    "        for m, market in enumerate(M):\n",
    "            # Connect the binary variables by using big M\n",
    "            assert sum(x[h, l, m].X for l in range(len(L))) <= len(L) * y[h, m].X, f\"More than allowed assets connected at hour {h} to market {m}\"\n",
    "\n",
    "            #total_flex_volume = sum(x[h, l, m].X * load.flex_volume[\"value\"].loc[load.flex_volume[\"Time(Local)\"] == hour].values[0] for l, load in enumerate(L))\n",
    "\n",
    "            # Min volume constraint\n",
    "            if market.direction == \"up\":\n",
    "                total_flex_volume = sum(x[h, l, m].X * load.up_flex_volume[\"value\"].loc[load.up_flex_volume[\"Time(Local)\"] == hour].values[0] for l, load in enumerate(L) if load.direction != \"down\")\n",
    "            elif market.direction == \"down\":\n",
    "                total_flex_volume = sum(x[h, l, m].X * load.down_flex_volume[\"value\"].loc[load.down_flex_volume[\"Time(Local)\"] == hour].values[0] for l, load in enumerate(L) if load.direction != \"up\")\n",
    "            else:\n",
    "                if dominant_directions[h] == \"up\":\n",
    "                    total_flex_volume = sum(x[h, l, m].X * load.up_flex_volume[\"value\"].loc[load.up_flex_volume[\"Time(Local)\"] == hour].values[0] for l, load in enumerate(L) if load.direction != \"down\")\n",
    "                else:\n",
    "                    total_flex_volume = sum(x[h, l, m].X * load.down_flex_volume[\"value\"].loc[load.down_flex_volume[\"Time(Local)\"] == hour].values[0] for l, load in enumerate(L) if load.direction != \"up\")\n",
    "                    \n",
    "            assert total_flex_volume >= market.min_volume * y[h, m].X, f\"Minimum volume constraint violated at hour {h} for market {m}\"\n",
    "\n",
    "            # test_model.addConstr(sum(x[h, l, m] * F_h_l[h,l] for l in range(len((L)))) >= Vm_m[m] * y[h, m], f\"min_volume_for_hour_{h}_market_{m}\") # denne må sjekkes\n",
    "            # F_h_l = np.array([[meter.flex_volume[\"value\"].loc[meter.flex_volume[\"Time(Local)\"] == hour].values[0] for meter in L] for hour in H]) # set of flex volumes for meters\n",
    "\n",
    "\n",
    "            # Weighted average constraint for response time\n",
    "            \"\"\"total_response_time = sum(x[h, l, m].X * load.response_time for l, load in enumerate(L))\n",
    "            total_assigned_assets = sum(x[h, l, m].X for l in range(len(L)))\n",
    "            assert total_response_time <= market.response_time * total_assigned_assets, f\"Average response time constraint violated at hour {h} for market {m}\"\"\"\n",
    "            \n",
    "            # Max volume constraint\n",
    "            if market.direction == \"up\":\n",
    "                total_max_volume = sum(x[h, l, m].X * load.up_flex_volume[\"value\"].loc[load.up_flex_volume[\"Time(Local)\"] == hour].values[0] for l, load in enumerate(L) if load.direction != \"down\")\n",
    "            elif market.direction == \"down\":\n",
    "                total_max_volume = sum(x[h, l, m].X * load.down_flex_volume[\"value\"].loc[load.down_flex_volume[\"Time(Local)\"] == hour].values[0] for l, load in enumerate(L) if load.direction != \"up\")\n",
    "            else:\n",
    "                if dominant_directions[h] == \"up\":\n",
    "                    total_max_volume = sum(x[h, l, m].X * load.up_flex_volume[\"value\"].loc[load.up_flex_volume[\"Time(Local)\"] == hour].values[0] for l, load in enumerate(L) if load.direction != \"down\")\n",
    "                else:\n",
    "                    total_max_volume = sum(x[h, l, m].X * load.down_flex_volume[\"value\"].loc[load.down_flex_volume[\"Time(Local)\"] == hour].values[0] for l, load in enumerate(L) if load.direction != \"up\")\n",
    "                \n",
    "            market_max_volume = market.volume_data.loc[market.volume_data[\"Time(Local)\"] == hour].values[0][1]\n",
    "            assert total_max_volume <= market_max_volume * y[h,m].X, f\"Maximum volume constraint violated at hour {h} for market {m}\"\n",
    "\n",
    "\n",
    "\n"
   ]
  },
  {
   "cell_type": "code",
   "execution_count": 66,
   "metadata": {},
   "outputs": [],
   "source": [
    "test_solution_validity(x, y, L, M, H)\n"
   ]
  },
  {
   "cell_type": "code",
   "execution_count": 67,
   "metadata": {},
   "outputs": [],
   "source": [
    "for h, hour in enumerate(H):\n",
    "    for l, load in enumerate(L):\n",
    "        if load.direction != \"down\":\n",
    "            if load.up_flex_volume[\"value\"].loc[load.up_flex_volume[\"Time(Local)\"] == hour].values[0] != Fu_h_l[h,l]:\n",
    "                print(\"ERROR\")\n",
    "                print(load.flex_volume[\"value\"].loc[load.flex_volume[\"Time(Local)\"] == hour].values[0], Fu_h_l[h,l])\n",
    "        elif load.direction != \"up\":\n",
    "            if load.down_flex_volume[\"value\"].loc[load.down_flex_volume[\"Time(Local)\"] == hour].values[0] != Fd_h_l[h,l]:\n",
    "                print(\"ERROR\")\n",
    "                print(load.flex_volume[\"value\"].loc[load.flex_volume[\"Time(Local)\"] == hour].values[0], Fd_h_l[h,l])\n",
    "                \n",
    "for m, market in enumerate(M):\n",
    "    if Vm_m[m] != market.min_volume:\n",
    "        print(\"ERROR\")\n",
    "        print(Vm_m[m], market.min_volume)"
   ]
  },
  {
   "cell_type": "code",
   "execution_count": 68,
   "metadata": {},
   "outputs": [
    {
     "name": "stdout",
     "output_type": "stream",
     "text": [
      " the up sums are eaqual : True\n",
      " the down sums are eaqual : True\n",
      " the up sums are eaqual : True\n",
      " the down sums are eaqual : True\n",
      " the up sums are eaqual : True\n",
      " the down sums are eaqual : True\n",
      " the up sums are eaqual : True\n",
      " the down sums are eaqual : True\n",
      " the up sums are eaqual : True\n",
      " the down sums are eaqual : True\n",
      " the up sums are eaqual : True\n",
      " the down sums are eaqual : True\n",
      " the up sums are eaqual : True\n",
      " the down sums are eaqual : True\n",
      " the up sums are eaqual : True\n",
      " the down sums are eaqual : True\n",
      " the up sums are eaqual : True\n",
      " the down sums are eaqual : True\n",
      " the up sums are eaqual : True\n",
      " the down sums are eaqual : True\n",
      " the up sums are eaqual : True\n",
      " the down sums are eaqual : True\n",
      " the up sums are eaqual : True\n",
      " the down sums are eaqual : True\n",
      " the up sums are eaqual : True\n",
      " the down sums are eaqual : True\n",
      " the up sums are eaqual : True\n",
      " the down sums are eaqual : True\n",
      " the up sums are eaqual : True\n",
      " the down sums are eaqual : True\n",
      " the up sums are eaqual : True\n",
      " the down sums are eaqual : True\n",
      " the up sums are eaqual : True\n",
      " the down sums are eaqual : True\n",
      " the up sums are eaqual : True\n",
      " the down sums are eaqual : True\n",
      " the up sums are eaqual : True\n",
      " the down sums are eaqual : True\n",
      " the up sums are eaqual : True\n",
      " the down sums are eaqual : True\n",
      " the up sums are eaqual : True\n",
      " the down sums are eaqual : True\n",
      " the up sums are eaqual : True\n",
      " the down sums are eaqual : True\n",
      " the up sums are eaqual : True\n",
      " the down sums are eaqual : True\n",
      " the up sums are eaqual : True\n",
      " the down sums are eaqual : True\n"
     ]
    },
    {
     "data": {
      "text/plain": [
       "'print(f\"The flex volume list for the test for market {m} at hour {h} is {total_flex_volume_test}\")\\nprint(f\"The flex volume list for the model for market {m} at hour {h} is {total_flex_volume_mod}\")\\nprint(f\"The total flex volume in the test for market {m} at hour {h} is {test_sum}\")\\nprint(f\"The total flex volume in the model for market {m} at hour {h} is {mod_sum}\")'"
      ]
     },
     "execution_count": 68,
     "metadata": {},
     "output_type": "execute_result"
    }
   ],
   "source": [
    "#h = 0\n",
    "m = 26\n",
    "for hour in range(len(H)):\n",
    "    total_up_flex_volume_test = [x[h, l, m].X * load.up_flex_volume[\"value\"].loc[load.up_flex_volume[\"Time(Local)\"] == H[h]].values[0] for l, load in enumerate(L) if load.direction != \"down\"]\n",
    "    total_up_flex_volume_mod = [x[h, l, m].X * Fu_h_l[h,l] for l, load in enumerate(L)]\n",
    "    test_sum_up = sum(total_up_flex_volume_test)\n",
    "    mod_sum_up = sum(total_up_flex_volume_mod)\n",
    "    print(f\" the up sums are eaqual : {test_sum_up == mod_sum_up}\")\n",
    "    #print(f\"all the values are eaqual : {all(total_flex_volume_test == total_flex_volume_mod)}\")\n",
    "    \n",
    "    total_down_flex_volume_test = [x[h, l, m].X * load.down_flex_volume[\"value\"].loc[load.down_flex_volume[\"Time(Local)\"] == H[h]].values[0] for l, load in enumerate(L) if load.direction != \"up\"]\n",
    "    total_down_flex_volume_mod = [x[h, l, m].X * Fd_h_l[h,l] for l, load in enumerate(L)]\n",
    "    test_sum_down = sum(total_down_flex_volume_test)\n",
    "    mod_sum_down = sum(total_down_flex_volume_mod)\n",
    "    print(f\" the down sums are eaqual : {test_sum_down == mod_sum_down}\")\n",
    "\n",
    "\n",
    "\"\"\"print(f\"The flex volume list for the test for market {m} at hour {h} is {total_flex_volume_test}\")\n",
    "print(f\"The flex volume list for the model for market {m} at hour {h} is {total_flex_volume_mod}\")\n",
    "print(f\"The total flex volume in the test for market {m} at hour {h} is {test_sum}\")\n",
    "print(f\"The total flex volume in the model for market {m} at hour {h} is {mod_sum}\")\"\"\"\n",
    "    "
   ]
  },
  {
   "cell_type": "code",
   "execution_count": null,
   "metadata": {},
   "outputs": [],
   "source": []
  }
 ],
 "metadata": {
  "kernelspec": {
   "display_name": "INF264",
   "language": "python",
   "name": "python3"
  },
  "language_info": {
   "codemirror_mode": {
    "name": "ipython",
    "version": 3
   },
   "file_extension": ".py",
   "mimetype": "text/x-python",
   "name": "python",
   "nbconvert_exporter": "python",
   "pygments_lexer": "ipython3",
   "version": "3.9.12"
  }
 },
 "nbformat": 4,
 "nbformat_minor": 2
}
