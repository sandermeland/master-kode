{
 "cells": [
  {
   "cell_type": "code",
   "execution_count": 2,
   "metadata": {},
   "outputs": [],
   "source": [
    "import gurobipy as gp\n",
    "import pandas as pd\n",
    "from code_map import data_handling, utils, new_meters, final_markets\n",
    "import numpy as np\n",
    "import calendar \n",
    "from datetime import datetime\n",
    "import pytz\n",
    "import openpyxl\n",
    "import os\n",
    "import pickle\n"
   ]
  },
  {
   "cell_type": "code",
   "execution_count": 3,
   "metadata": {},
   "outputs": [],
   "source": [
    "L, M, F, H, freq_data, power_meter_dict, consumption_data, L_u, L_d, Fu_h_l, Fd_h_l, R_h_l, P_h_m, Vp_h_m, Vm_m, R_m, dominant_directions, Ir_hlm, Ia_hlm, Va_hm, compatible_list = data_handling.load_collections(\"./half_month_collections.pkl\")"
   ]
  },
  {
   "cell_type": "code",
   "execution_count": 4,
   "metadata": {},
   "outputs": [
    {
     "name": "stdout",
     "output_type": "stream",
     "text": [
      "Amount of markets : 62\n",
      "Amount of meters : 2189\n",
      "Amount of meters with direction up or both : 2044\n",
      "Amount of meters with direction down or both : 2039\n",
      "Amount of hours : 408\n"
     ]
    }
   ],
   "source": [
    "print(f\"Amount of markets : {len(M)}\")\n",
    "print(f\"Amount of meters : {len(L)}\")\n",
    "print(f\"Amount of meters with direction up or both : {len(L_u)}\")\n",
    "print(f\"Amount of meters with direction down or both : {len(L_d)}\")\n",
    "print(f\"Amount of hours : {len(H)}\")"
   ]
  },
  {
   "cell_type": "code",
   "execution_count": null,
   "metadata": {},
   "outputs": [],
   "source": [
    "# Create a new model\n",
    "half_month_model = gp.Model(\"AssetToMarket\")\n",
    "\n",
    "# Create decision variables\n",
    "x = {}\n",
    "d = {}\n",
    "y = {}\n",
    "w = {}\n",
    "for h in range(len(H)):\n",
    "    for l in range(len(L)):\n",
    "        for m in range(len(M)):\n",
    "            # asset i is connected to market j at hour h\n",
    "            x[h, l, m] = half_month_model.addVar(lb = 0, ub = 1, vtype=gp.GRB.BINARY, name=f\"x_{h}_{l}_{m}\")\n",
    "\n",
    "            d[h,l,m] = 1 if m in compatible_list[h][l] else 0 # compatible_list takes care of both the area constraint and the direction constraint\n",
    "            \n",
    "            # adding the constraint\n",
    "            half_month_model.addConstr(x[h,l,m] <= d[h,l,m])\n",
    "    for m in range(len(M)):\n",
    "        # market m has a bid at hour h\n",
    "        y[h, m] = half_month_model.addVar(lb = 0, ub = 1, vtype=gp.GRB.BINARY, name=f\"y_{h}_{m}\")\n",
    "        # market m is activated at hour h\n",
    "        w[h, m] = half_month_model.addVar(lb = 0, ub = 1, vtype=gp.GRB.BINARY , name=f\"w_{h}_{m}\")\n",
    "        \n",
    "\n",
    "# Set objective            \n",
    "\n",
    "# Set the objective to maximize the total income expression\n",
    "half_month_model.setObjective(sum(Ir_hlm[h,l,m] * x[h,l,m] + Ia_hlm[h,l,m] * x[h,l,m] * w[h,m] for h in range(len(H)) for l in range(len(L)) for m in range(len(M)))\n",
    "                        , gp.GRB.MAXIMIZE) # can possibly remove the x on the activation income\n",
    "\n",
    "# Add constraints\n",
    "for h in range(len(H)):\n",
    "    for l in range(len(L)):\n",
    "        # Each asset can only be connected to one market at a time\n",
    "        half_month_model.addConstr(sum(x[h, l, m] for m in range(len(M))) <= 1, f\"single_market_for_asset_at_hour_{h}_nr.{l}\")\n",
    "        \n",
    "\n",
    "    for m, market in enumerate(M):\n",
    "        \n",
    "        up_val, down_val = F[h,m]\n",
    "        if up_val + down_val > 0:\n",
    "            half_month_model.addConstr(w[h,m] <= y[h,m], f\"market_{m}_can_not_be_activated_at_hour_{h}_if_it_is_not_active\")\n",
    "        else:\n",
    "            half_month_model.addConstr(w[h,m] == 0, f\"market_{m}_can_not_be_activated_at_hour_{h}_if_it_is_not_active\")\n",
    "        \n",
    "        \n",
    "        # Connect the binary variables by using big M\n",
    "        #test_model.addConstr(sum(x[h, l, m] for l in range(len(L))) <= len(L) * y[h, m], f\"asset_connection_for_hour_{h}_market_{m}\")\n",
    "     \n",
    "        # Max volume constraint\n",
    "        \n",
    "        if market.direction == \"up\":\n",
    "            # capacity volume constraint\n",
    "            half_month_model.addConstr(sum(x[h, l, m] * Fu_h_l[h,l] for l in range(len(L))) <= Vp_h_m[h,m]  * y[h,m], f\"max_volume_for_hour_{h}_market_{m}\")\n",
    "            # activation volume constraint\n",
    "            half_month_model.addConstr(sum(x[h, l, m] * Fu_h_l[h,l] for l in range(len(L))) * w[h,m] <= Va_hm[h,m], f\"max_volume_for_activation_in-_market_{m}_at_hour_{h}\")\n",
    "            # min volume capacity constraint\n",
    "            half_month_model.addConstr(sum(x[h, l, m] * Fu_h_l[h,l] for l in range(len(L))) >= Vm_m[m] * y[h, m], f\"min_volume_for_hour_{h}_market_{m}\") \n",
    "\n",
    "        elif market.direction == \"down\":\n",
    "            # max capacity volume constraint\n",
    "            half_month_model.addConstr(sum(x[h, l, m] * Fd_h_l[h,l] for l in range(len(L))) <=  Vp_h_m[h,m]  * y[h,m], f\"max_volume_for_hour_{h}_market_{m}\")\n",
    "            # max activation volume constraint\n",
    "            half_month_model.addConstr(sum(x[h, l, m] * Fd_h_l[h,l] for l in range(len(L))) * w[h,m] <= Va_hm[h,m], f\"max_volume_for_activation_in_market_{m}_at_hour_{h}\")\n",
    "            # min volume capacity constraint\n",
    "            half_month_model.addConstr(sum(x[h, l, m] * Fd_h_l[h,l] for l in range(len(L))) >= Vm_m[m] * y[h, m], f\"min_volume_for_hour_{h}_market_{m}\") \n",
    "\n",
    "        else: # market.direction == \"both\"\n",
    "            if dominant_directions[h] == \"up\":\n",
    "                # max capacity volume constraint\n",
    "                half_month_model.addConstr(sum(x[h, l, m] * Fu_h_l[h,l] for l in range(len(L))) <= Vp_h_m[h,m]  * y[h,m], f\"max_volume_for_hour_{h}_market_{m}\")\n",
    "                # max activation volume constraint\n",
    "                half_month_model.addConstr(sum(x[h, l, m] * Fu_h_l[h,l] for l in range(len(L))) * w[h,m] <= Va_hm[h,m] , f\"max_volume_for_activation_in_market_{m}_at_hour_{h}\")\n",
    "                # min capacity volume constraint\n",
    "                half_month_model.addConstr(sum(x[h, l, m] * Fu_h_l[h,l] for l in range(len(L))) >= Vm_m[m] * y[h, m], f\"min_volume_for_hour_{h}_market_{m}\") \n",
    "\n",
    "            else:\n",
    "                # max capacity volume constraint\n",
    "                half_month_model.addConstr(sum(x[h, l, m] * Fd_h_l[h,l] for l in range(len(L))) <= Vp_h_m[h,m] * y[h,m], f\"max_volume_for_hour_{h}_market_{m}\")\n",
    "                # max activation volume constraint\n",
    "                half_month_model.addConstr(sum(x[h, l, m] * Fd_h_l[h,l] for l in range(len(L))) * w[h,m] <= Va_hm[h,m], f\"max_volume_for_activation_in_market_{m}_at_hour_{h}\")\n",
    "                # min capacity volume constraint\n",
    "                half_month_model.addConstr(sum(x[h, l, m] * Fd_h_l[h,l] for l in range(len(L))) >= Vm_m[m] * y[h, m], f\"min_volume_for_hour_{h}_market_{m}\") \n",
    "\n",
    "    \n",
    "        \n",
    "        # The response times for loads l connected to market m cannot exceed the max response time for m\n",
    "        for l in range(len(L)):\n",
    "            half_month_model.addConstr(x[h,l,m] * R_h_l[h,l] <= R_m[m] * y[h,m], f\"response_time_for_hour_{h}_market_{m}\")\n",
    "        \n",
    "            \n",
    "            \n",
    "            \n",
    "# Enable logging\n",
    "half_month_model.setParam('LogFile', 'half_month_test_model.log')\n",
    "\n",
    "# Solve the model\n",
    "half_month_model.optimize()\n",
    "    \n",
    "if half_month_model.status == gp.GRB.Status.INFEASIBLE:\n",
    "    half_month_model.computeIIS()\n"
   ]
  },
  {
   "cell_type": "code",
   "execution_count": null,
   "metadata": {},
   "outputs": [],
   "source": [
    "utils.test_solution_validity(x, y, w, Va_hm, L, M, H)"
   ]
  },
  {
   "cell_type": "code",
   "execution_count": null,
   "metadata": {},
   "outputs": [],
   "source": [
    "new_x_values = {(h, l, m): half_month_model.getVarByName(f\"x_{h}_{l}_{m}\").X for h in range(len(H)) for l in range(len(L)) for m in range(len(M))}\n"
   ]
  }
 ],
 "metadata": {
  "kernelspec": {
   "display_name": "myenv",
   "language": "python",
   "name": "python3"
  },
  "language_info": {
   "codemirror_mode": {
    "name": "ipython",
    "version": 3
   },
   "file_extension": ".py",
   "mimetype": "text/x-python",
   "name": "python",
   "nbconvert_exporter": "python",
   "pygments_lexer": "ipython3",
   "version": "3.9.18"
  }
 },
 "nbformat": 4,
 "nbformat_minor": 2
}
