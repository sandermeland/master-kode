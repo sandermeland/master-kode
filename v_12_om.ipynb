{
 "cells": [
  {
   "cell_type": "code",
   "execution_count": 1,
   "metadata": {},
   "outputs": [],
   "source": [
    "from code_map import data_handling, utils\n",
    "import pickle\n"
   ]
  },
  {
   "cell_type": "code",
   "execution_count": 2,
   "metadata": {},
   "outputs": [],
   "source": [
    "#return L, M, F, H, freq_data, power_meter_dict, consumption_data, L_u, L_d, Fu_h_l, Fd_h_l, R_h_l, P_h_m, Vp_h_m, Vm_m, R_m, dominant_directions, Ir_hlm, Ia_hlm, Va_hm, compatible_list\n",
    "L, M, F, H, freq_data, power_meter_dict, consumption_data, L_u, L_d, Fu_h_l, Fd_h_l, R_h_l, P_h_m, Vp_h_m, Vm_m, R_m, dominant_directions, Ir_hlm, Ia_hlm, Va_hm, compatible_list = data_handling.load_collections(\"./one_week_collections.pkl\")"
   ]
  },
  {
   "cell_type": "code",
   "execution_count": 3,
   "metadata": {},
   "outputs": [],
   "source": [
    "compatible_list = utils.get_compatibility_dict(L, M)"
   ]
  },
  {
   "cell_type": "code",
   "execution_count": 4,
   "metadata": {},
   "outputs": [
    {
     "name": "stdout",
     "output_type": "stream",
     "text": [
      "Amount of markets : 62\n",
      "Amount of meters : 2189\n",
      "Amount of meters with direction up or both : 2040\n",
      "Amount of meters with direction down or both : 2041\n",
      "Amount of hours : 168\n"
     ]
    }
   ],
   "source": [
    "print(f\"Amount of markets : {len(M)}\")\n",
    "print(f\"Amount of meters : {len(L)}\")\n",
    "print(f\"Amount of meters with direction up or both : {len(L_u)}\")\n",
    "print(f\"Amount of meters with direction down or both : {len(L_d)}\")\n",
    "print(f\"Amount of hours : {len(H)}\")"
   ]
  },
  {
   "cell_type": "code",
   "execution_count": 5,
   "metadata": {},
   "outputs": [
    {
     "name": "stdout",
     "output_type": "stream",
     "text": [
      "Set parameter Username\n",
      "Academic license - for non-commercial use only - expires 2024-12-13\n",
      "Set parameter LogFile to value \"new_week_test.log_batch_0\"\n",
      "Gurobi Optimizer version 11.0.0 build v11.0.0rc2 (mac64[rosetta2] - Darwin 23.1.0 23B92)Gurobi Optimizer version 11.0.0 build v11.0.0rc2 (mac64[rosetta2] - Darwin 23.1.0 23B92)\n",
      "\n",
      "CPU model: Apple M1CPU model: Apple M1\n",
      "Thread count: 8 physical cores, 8 logical processors, using up to 8 threadsThread count: 8 physical cores, 8 logical processors, using up to 8 threads\n",
      "\n",
      "Optimize a model with 6573432 rows, 3260208 columns and 20661508 nonzerosOptimize a model with 6573432 rows, 3260208 columns and 20661508 nonzeros\n",
      "Model fingerprint: 0x7260d72bModel fingerprint: 0x7260d72b\n",
      "Model has 153524 quadratic objective termsModel has 153524 quadratic objective terms\n",
      "Model has 1728 quadratic constraintsModel has 1728 quadratic constraints\n",
      "Variable types: 0 continuous, 3260208 integer (3260208 binary)Variable types: 0 continuous, 3260208 integer (3260208 binary)\n",
      "Coefficient statistics:Coefficient statistics:\n",
      "Matrix range     [1e-06, 2e+03]  Matrix range     [1e-06, 2e+03]\n",
      "QMatrix range    [1e-06, 8e-01]  QMatrix range    [1e-06, 8e-01]\n",
      "Objective range  [4e-07, 6e+01]  Objective range  [4e-07, 6e+01]\n",
      "QObjective range [3e-07, 5e+01]  QObjective range [3e-07, 5e+01]\n",
      "Bounds range     [1e+00, 1e+00]  Bounds range     [1e+00, 1e+00]\n",
      "RHS range        [1e+00, 1e+00]  RHS range        [1e+00, 1e+00]\n",
      "QRHS range       [1e+00, 1e+02]  QRHS range       [1e+00, 1e+02]\n",
      "Found heuristic solution: objective -0.0000000Found heuristic solution: objective -0.0000000\n",
      "Presolve removed 6490456 rows and 1717755 columns (presolve time = 7s) ...Presolve removed 6490456 rows and 1717755 columns (presolve time = 7s) ...\n",
      "Presolve removed 6490456 rows and 1717755 columnsPresolve removed 6490456 rows and 1717755 columns\n",
      "Presolve time: 6.85sPresolve time: 6.85s\n",
      "Presolved: 100040 rows, 1550985 columns, 437083 nonzerosPresolved: 100040 rows, 1550985 columns, 437083 nonzeros\n",
      "Variable types: 0 continuous, 1550985 integer (1550985 binary)Variable types: 0 continuous, 1550985 integer (1550985 binary)\n",
      "Found heuristic solution: objective 3026.1079931Found heuristic solution: objective 3026.1079931\n",
      "Current best objective: 3026.107993097509, Best bound: 7412.160641306217\n",
      "Current best objective: 3026.107993097509, Best bound: 7412.160641306217\n",
      "\n",
      "Root simplex log...Root simplex log...\n",
      "\n",
      "Iteration    Objective       Primal Inf.    Dual Inf.      TimeIteration    Objective       Primal Inf.    Dual Inf.      Time\n",
      "0    3.0831721e+03   8.488450e-01   0.000000e+00     15s       0    3.0831721e+03   8.488450e-01   0.000000e+00     15s\n",
      "51    3.0814744e+03   0.000000e+00   0.000000e+00     15s      51    3.0814744e+03   0.000000e+00   0.000000e+00     15s\n",
      "\n",
      "Root relaxation: objective 3.081474e+03, 51 iterations, 0.01 seconds (0.00 work units)Root relaxation: objective 3.081474e+03, 51 iterations, 0.01 seconds (0.00 work units)\n",
      "Current best objective: 3026.107993097509, Best bound: 3081.4744330975086\n",
      "\n",
      "Nodes    |    Current Node    |     Objective Bounds      |     Work    Nodes    |    Current Node    |     Objective Bounds      |     Work\n",
      "Expl Unexpl |  Obj  Depth IntInf | Incumbent    BestBd   Gap | It/Node Time Expl Unexpl |  Obj  Depth IntInf | Incumbent    BestBd   Gap | It/Node Time\n",
      "\n",
      "0     0 3081.47443    0    2 3026.10799 3081.47443  1.83%     -   14s     0     0 3081.47443    0    2 3026.10799 3081.47443  1.83%     -   14s\n",
      "H    0     0                    3081.4744271 3081.47443  0.00%     -   15sH    0     0                    3081.4744271 3081.47443  0.00%     -   15s\n",
      "\n",
      "Explored 1 nodes (51 simplex iterations) in 16.39 seconds (11.93 work units)Explored 1 nodes (51 simplex iterations) in 16.39 seconds (11.93 work units)\n",
      "Thread count was 8 (of 8 available processors)Thread count was 8 (of 8 available processors)\n",
      "\n",
      "Solution count 3: 3081.47 3026.11 -0Solution count 3: 3081.47 3026.11 -0 \n",
      "\n",
      "Optimal solution found (tolerance 1.00e-04)Optimal solution found (tolerance 1.00e-04)\n",
      "Warning: max constraint violation (1.0000e-06) exceeds toleranceWarning: max constraint violation (1.0000e-06) exceeds tolerance\n",
      "Best objective 3.081474427098e+03, best bound 3.081474433098e+03, gap 0.0000%Best objective 3.081474427098e+03, best bound 3.081474433098e+03, gap 0.0000%\n",
      "\n",
      "User-callback calls 1614, time in user-callback 0.11 secUser-callback calls 1614, time in user-callback 0.11 sec\n",
      "Set parameter LogFile to value \"new_week_test.log_batch_1\"\n"
     ]
    },
    {
     "ename": "KeyboardInterrupt",
     "evalue": "",
     "output_type": "error",
     "traceback": [
      "\u001b[0;31m---------------------------------------------------------------------------\u001b[0m",
      "\u001b[0;31mKeyboardInterrupt\u001b[0m                         Traceback (most recent call last)",
      "Cell \u001b[0;32mIn[5], line 1\u001b[0m\n\u001b[0;32m----> 1\u001b[0m aggregated_results \u001b[38;5;241m=\u001b[39m \u001b[43mutils\u001b[49m\u001b[38;5;241;43m.\u001b[39;49m\u001b[43mrun_batched_optimization_model\u001b[49m\u001b[43m(\u001b[49m\u001b[43mL\u001b[49m\u001b[43m,\u001b[49m\u001b[43m \u001b[49m\u001b[43mM\u001b[49m\u001b[43m,\u001b[49m\u001b[43m \u001b[49m\u001b[43mH\u001b[49m\u001b[43m,\u001b[49m\u001b[43m \u001b[49m\u001b[43mF\u001b[49m\u001b[43m,\u001b[49m\u001b[43m \u001b[49m\u001b[43mIr_hlm\u001b[49m\u001b[43m,\u001b[49m\u001b[43m \u001b[49m\u001b[43mIa_hlm\u001b[49m\u001b[43m,\u001b[49m\u001b[43m \u001b[49m\u001b[43mVa_hm\u001b[49m\u001b[43m,\u001b[49m\u001b[43m \u001b[49m\u001b[43mVp_h_m\u001b[49m\u001b[43m,\u001b[49m\u001b[43m \u001b[49m\u001b[43mVm_m\u001b[49m\u001b[43m,\u001b[49m\u001b[43m \u001b[49m\u001b[43mR_m\u001b[49m\u001b[43m,\u001b[49m\u001b[43m \u001b[49m\u001b[43mR_h_l\u001b[49m\u001b[43m,\u001b[49m\u001b[43m \u001b[49m\u001b[43mFu_h_l\u001b[49m\u001b[43m,\u001b[49m\u001b[43m \u001b[49m\u001b[43mFd_h_l\u001b[49m\u001b[43m,\u001b[49m\u001b[43m \u001b[49m\u001b[43mcompatible_list\u001b[49m\u001b[43m,\u001b[49m\u001b[43m \u001b[49m\u001b[38;5;124;43m\"\u001b[39;49m\u001b[38;5;124;43mnew_week_test.log\u001b[39;49m\u001b[38;5;124;43m\"\u001b[39;49m\u001b[43m,\u001b[49m\u001b[43m \u001b[49m\u001b[38;5;124;43m\"\u001b[39;49m\u001b[38;5;124;43mtest_model\u001b[39;49m\u001b[38;5;124;43m\"\u001b[39;49m\u001b[43m)\u001b[49m\n",
      "File \u001b[0;32m~/Documents/UIB/Master/master-kode/code_map/utils.py:778\u001b[0m, in \u001b[0;36mrun_batched_optimization_model\u001b[0;34m(L, M, H, F, Ir_hlm, Ia_hlm, Va_hm, Vp_h_m, Vm_m, R_m, R_h_l, Fu_h_l, Fd_h_l, compatible_list, log_filename, model_name)\u001b[0m\n\u001b[1;32m    775\u001b[0m batch_Fd_h_l \u001b[38;5;241m=\u001b[39m Fd_h_l[start_index:end_index, :]\n\u001b[1;32m    777\u001b[0m \u001b[38;5;66;03m# Run the optimization model for this batch\u001b[39;00m\n\u001b[0;32m--> 778\u001b[0m model, x, y, w, d \u001b[38;5;241m=\u001b[39m \u001b[43mrun_optimization_model\u001b[49m\u001b[43m(\u001b[49m\u001b[43mL\u001b[49m\u001b[43m,\u001b[49m\u001b[43m \u001b[49m\u001b[43mM\u001b[49m\u001b[43m,\u001b[49m\u001b[43m \u001b[49m\u001b[43mbatch_H\u001b[49m\u001b[43m,\u001b[49m\u001b[43m \u001b[49m\u001b[43mF\u001b[49m\u001b[43m,\u001b[49m\u001b[43m \u001b[49m\u001b[43mIr_hlm\u001b[49m\u001b[43m,\u001b[49m\u001b[43m \u001b[49m\u001b[43mIa_hlm\u001b[49m\u001b[43m,\u001b[49m\u001b[43m \u001b[49m\u001b[43mVa_hm\u001b[49m\u001b[43m,\u001b[49m\u001b[43m \u001b[49m\u001b[43mVp_h_m\u001b[49m\u001b[43m,\u001b[49m\u001b[43m \u001b[49m\u001b[43mVm_m\u001b[49m\u001b[43m,\u001b[49m\u001b[43m \u001b[49m\u001b[43mR_m\u001b[49m\u001b[43m,\u001b[49m\u001b[43m \u001b[49m\u001b[43mbatch_R_h_l\u001b[49m\u001b[43m,\u001b[49m\u001b[43m \u001b[49m\u001b[43mbatch_Fu_h_l\u001b[49m\u001b[43m,\u001b[49m\u001b[43m \u001b[49m\u001b[43mbatch_Fd_h_l\u001b[49m\u001b[43m,\u001b[49m\u001b[43m \u001b[49m\u001b[43mcompatible_list\u001b[49m\u001b[43m,\u001b[49m\u001b[43m \u001b[49m\u001b[38;5;124;43mf\u001b[39;49m\u001b[38;5;124;43m\"\u001b[39;49m\u001b[38;5;132;43;01m{\u001b[39;49;00m\u001b[43mlog_filename\u001b[49m\u001b[38;5;132;43;01m}\u001b[39;49;00m\u001b[38;5;124;43m_batch_\u001b[39;49m\u001b[38;5;132;43;01m{\u001b[39;49;00m\u001b[43mb\u001b[49m\u001b[38;5;132;43;01m}\u001b[39;49;00m\u001b[38;5;124;43m\"\u001b[39;49m\u001b[43m,\u001b[49m\u001b[43m \u001b[49m\u001b[38;5;124;43mf\u001b[39;49m\u001b[38;5;124;43m\"\u001b[39;49m\u001b[38;5;132;43;01m{\u001b[39;49;00m\u001b[43mmodel_name\u001b[49m\u001b[38;5;132;43;01m}\u001b[39;49;00m\u001b[38;5;124;43m_batch_\u001b[39;49m\u001b[38;5;132;43;01m{\u001b[39;49;00m\u001b[43mb\u001b[49m\u001b[38;5;132;43;01m}\u001b[39;49;00m\u001b[38;5;124;43m\"\u001b[39;49m\u001b[43m)\u001b[49m\n\u001b[1;32m    779\u001b[0m \u001b[38;5;66;03m# Store results\u001b[39;00m\n\u001b[1;32m    780\u001b[0m aggregated_results[\u001b[38;5;124m'\u001b[39m\u001b[38;5;124mmodels\u001b[39m\u001b[38;5;124m'\u001b[39m]\u001b[38;5;241m.\u001b[39mappend(model)\n",
      "File \u001b[0;32m~/Documents/UIB/Master/master-kode/code_map/utils.py:511\u001b[0m, in \u001b[0;36mrun_optimization_model\u001b[0;34m(L, M, H, F, Ir_hlm, Ia_hlm, Va_hm, Vp_h_m, Vm_m, R_m, R_h_l, Fu_h_l, Fd_h_l, compatible_list, log_filename, model_name)\u001b[0m\n\u001b[1;32m    508\u001b[0m         w[h, m] \u001b[38;5;241m=\u001b[39m model\u001b[38;5;241m.\u001b[39maddVar(lb \u001b[38;5;241m=\u001b[39m \u001b[38;5;241m0\u001b[39m, ub \u001b[38;5;241m=\u001b[39m \u001b[38;5;241m1\u001b[39m, vtype\u001b[38;5;241m=\u001b[39mgp\u001b[38;5;241m.\u001b[39mGRB\u001b[38;5;241m.\u001b[39mBINARY , name\u001b[38;5;241m=\u001b[39m\u001b[38;5;124mf\u001b[39m\u001b[38;5;124m\"\u001b[39m\u001b[38;5;124mw_\u001b[39m\u001b[38;5;132;01m{\u001b[39;00mh\u001b[38;5;132;01m}\u001b[39;00m\u001b[38;5;124m_\u001b[39m\u001b[38;5;132;01m{\u001b[39;00mm\u001b[38;5;132;01m}\u001b[39;00m\u001b[38;5;124m\"\u001b[39m)\n\u001b[1;32m    510\u001b[0m \u001b[38;5;66;03m# Set the objective to maximize the total income expression\u001b[39;00m\n\u001b[0;32m--> 511\u001b[0m model\u001b[38;5;241m.\u001b[39msetObjective(\u001b[38;5;28;43msum\u001b[39;49m\u001b[43m(\u001b[49m\u001b[43mx\u001b[49m\u001b[43m[\u001b[49m\u001b[43mh\u001b[49m\u001b[43m,\u001b[49m\u001b[43ml\u001b[49m\u001b[43m,\u001b[49m\u001b[43mm\u001b[49m\u001b[43m]\u001b[49m\u001b[43m \u001b[49m\u001b[38;5;241;43m*\u001b[39;49m\u001b[43m \u001b[49m\u001b[43m(\u001b[49m\u001b[43mIr_hlm\u001b[49m\u001b[43m[\u001b[49m\u001b[43mh\u001b[49m\u001b[43m,\u001b[49m\u001b[43ml\u001b[49m\u001b[43m,\u001b[49m\u001b[43mm\u001b[49m\u001b[43m]\u001b[49m\u001b[43m \u001b[49m\u001b[38;5;241;43m+\u001b[39;49m\u001b[43m \u001b[49m\u001b[43mIa_hlm\u001b[49m\u001b[43m[\u001b[49m\u001b[43mh\u001b[49m\u001b[43m,\u001b[49m\u001b[43ml\u001b[49m\u001b[43m,\u001b[49m\u001b[43mm\u001b[49m\u001b[43m]\u001b[49m\u001b[43m \u001b[49m\u001b[38;5;241;43m*\u001b[39;49m\u001b[43m \u001b[49m\u001b[43mw\u001b[49m\u001b[43m[\u001b[49m\u001b[43mh\u001b[49m\u001b[43m,\u001b[49m\u001b[43mm\u001b[49m\u001b[43m]\u001b[49m\u001b[43m)\u001b[49m\u001b[43m \u001b[49m\u001b[38;5;28;43;01mfor\u001b[39;49;00m\u001b[43m \u001b[49m\u001b[43mh\u001b[49m\u001b[43m \u001b[49m\u001b[38;5;129;43;01min\u001b[39;49;00m\u001b[43m \u001b[49m\u001b[38;5;28;43mrange\u001b[39;49m\u001b[43m(\u001b[49m\u001b[38;5;28;43mlen\u001b[39;49m\u001b[43m(\u001b[49m\u001b[43mH\u001b[49m\u001b[43m)\u001b[49m\u001b[43m)\u001b[49m\u001b[43m \u001b[49m\u001b[38;5;28;43;01mfor\u001b[39;49;00m\u001b[43m \u001b[49m\u001b[43ml\u001b[49m\u001b[43m \u001b[49m\u001b[38;5;129;43;01min\u001b[39;49;00m\u001b[43m \u001b[49m\u001b[38;5;28;43mrange\u001b[39;49m\u001b[43m(\u001b[49m\u001b[38;5;28;43mlen\u001b[39;49m\u001b[43m(\u001b[49m\u001b[43mL\u001b[49m\u001b[43m)\u001b[49m\u001b[43m)\u001b[49m\u001b[43m \u001b[49m\u001b[38;5;28;43;01mfor\u001b[39;49;00m\u001b[43m \u001b[49m\u001b[43mm\u001b[49m\u001b[43m \u001b[49m\u001b[38;5;129;43;01min\u001b[39;49;00m\u001b[43m \u001b[49m\u001b[38;5;28;43mrange\u001b[39;49m\u001b[43m(\u001b[49m\u001b[38;5;28;43mlen\u001b[39;49m\u001b[43m(\u001b[49m\u001b[43mM\u001b[49m\u001b[43m)\u001b[49m\u001b[43m)\u001b[49m\u001b[43m)\u001b[49m, gp\u001b[38;5;241m.\u001b[39mGRB\u001b[38;5;241m.\u001b[39mMAXIMIZE) \u001b[38;5;66;03m# can possibly remove the x on the activation income\u001b[39;00m\n\u001b[1;32m    513\u001b[0m \u001b[38;5;66;03m# Add constraints\u001b[39;00m\n\u001b[1;32m    514\u001b[0m \u001b[38;5;28;01mfor\u001b[39;00m h \u001b[38;5;129;01min\u001b[39;00m \u001b[38;5;28mrange\u001b[39m(\u001b[38;5;28mlen\u001b[39m(H)):\n",
      "File \u001b[0;32m~/Documents/UIB/Master/master-kode/code_map/utils.py:511\u001b[0m, in \u001b[0;36m<genexpr>\u001b[0;34m(.0)\u001b[0m\n\u001b[1;32m    508\u001b[0m         w[h, m] \u001b[38;5;241m=\u001b[39m model\u001b[38;5;241m.\u001b[39maddVar(lb \u001b[38;5;241m=\u001b[39m \u001b[38;5;241m0\u001b[39m, ub \u001b[38;5;241m=\u001b[39m \u001b[38;5;241m1\u001b[39m, vtype\u001b[38;5;241m=\u001b[39mgp\u001b[38;5;241m.\u001b[39mGRB\u001b[38;5;241m.\u001b[39mBINARY , name\u001b[38;5;241m=\u001b[39m\u001b[38;5;124mf\u001b[39m\u001b[38;5;124m\"\u001b[39m\u001b[38;5;124mw_\u001b[39m\u001b[38;5;132;01m{\u001b[39;00mh\u001b[38;5;132;01m}\u001b[39;00m\u001b[38;5;124m_\u001b[39m\u001b[38;5;132;01m{\u001b[39;00mm\u001b[38;5;132;01m}\u001b[39;00m\u001b[38;5;124m\"\u001b[39m)\n\u001b[1;32m    510\u001b[0m \u001b[38;5;66;03m# Set the objective to maximize the total income expression\u001b[39;00m\n\u001b[0;32m--> 511\u001b[0m model\u001b[38;5;241m.\u001b[39msetObjective(\u001b[38;5;28msum\u001b[39m(x[h,l,m] \u001b[38;5;241m*\u001b[39m (\u001b[43mIr_hlm\u001b[49m\u001b[43m[\u001b[49m\u001b[43mh\u001b[49m\u001b[43m,\u001b[49m\u001b[43ml\u001b[49m\u001b[43m,\u001b[49m\u001b[43mm\u001b[49m\u001b[43m]\u001b[49m \u001b[38;5;241m+\u001b[39m Ia_hlm[h,l,m] \u001b[38;5;241m*\u001b[39m w[h,m]) \u001b[38;5;28;01mfor\u001b[39;00m h \u001b[38;5;129;01min\u001b[39;00m \u001b[38;5;28mrange\u001b[39m(\u001b[38;5;28mlen\u001b[39m(H)) \u001b[38;5;28;01mfor\u001b[39;00m l \u001b[38;5;129;01min\u001b[39;00m \u001b[38;5;28mrange\u001b[39m(\u001b[38;5;28mlen\u001b[39m(L)) \u001b[38;5;28;01mfor\u001b[39;00m m \u001b[38;5;129;01min\u001b[39;00m \u001b[38;5;28mrange\u001b[39m(\u001b[38;5;28mlen\u001b[39m(M))), gp\u001b[38;5;241m.\u001b[39mGRB\u001b[38;5;241m.\u001b[39mMAXIMIZE) \u001b[38;5;66;03m# can possibly remove the x on the activation income\u001b[39;00m\n\u001b[1;32m    513\u001b[0m \u001b[38;5;66;03m# Add constraints\u001b[39;00m\n\u001b[1;32m    514\u001b[0m \u001b[38;5;28;01mfor\u001b[39;00m h \u001b[38;5;129;01min\u001b[39;00m \u001b[38;5;28mrange\u001b[39m(\u001b[38;5;28mlen\u001b[39m(H)):\n",
      "\u001b[0;31mKeyboardInterrupt\u001b[0m: "
     ]
    }
   ],
   "source": [
    "aggregated_results = utils.run_batched_optimization_model(L, M, H, F, Ir_hlm, Ia_hlm, Va_hm, Vp_h_m, Vm_m, R_m, R_h_l, Fu_h_l, Fd_h_l, compatible_list, \"new_week_test.log\", \"test_model\")"
   ]
  },
  {
   "cell_type": "code",
   "execution_count": null,
   "metadata": {},
   "outputs": [],
   "source": [
    "one_week_model, x, y, w, d  = utils.run_optimization_model(L, M, H, F, Ir_hlm, Ia_hlm, Va_hm, Vp_h_m, Vm_m, R_m, R_h_l, Fu_h_l, Fd_h_l, compatible_list, \"new_week_test.log\", \"test_model\")"
   ]
  },
  {
   "cell_type": "code",
   "execution_count": null,
   "metadata": {},
   "outputs": [],
   "source": [
    "utils.test_solution_validity(x, y, w, Va_hm, L, M, H, dominant_directions= dominant_directions, F = F)"
   ]
  },
  {
   "cell_type": "code",
   "execution_count": null,
   "metadata": {},
   "outputs": [],
   "source": [
    "new_x_values = {(h, l, m): one_week_model.getVarByName(f\"x_{h}_{l}_{m}\").X for h in range(len(H)) for l in range(len(L)) for m in range(len(M))}"
   ]
  },
  {
   "cell_type": "code",
   "execution_count": null,
   "metadata": {},
   "outputs": [],
   "source": [
    "utils.compare_current_and_new_solution(current_x_pkl_file= \"current_x_values_for_day.pkl\", new_x_values= new_x_values, L= L, M= M, H= H, dominant_directions= dominant_directions)"
   ]
  },
  {
   "cell_type": "code",
   "execution_count": null,
   "metadata": {},
   "outputs": [],
   "source": [
    "\n",
    "# Save these values\n",
    "with open('current_x_values_for_week.pkl', 'wb') as f:\n",
    "    pickle.dump(new_x_values, f)\n",
    "                "
   ]
  },
  {
   "cell_type": "code",
   "execution_count": null,
   "metadata": {},
   "outputs": [],
   "source": []
  }
 ],
 "metadata": {
  "kernelspec": {
   "display_name": "myenv",
   "language": "python",
   "name": "python3"
  },
  "language_info": {
   "codemirror_mode": {
    "name": "ipython",
    "version": 3
   },
   "file_extension": ".py",
   "mimetype": "text/x-python",
   "name": "python",
   "nbconvert_exporter": "python",
   "pygments_lexer": "ipython3",
   "version": "3.9.18"
  }
 },
 "nbformat": 4,
 "nbformat_minor": 2
}
