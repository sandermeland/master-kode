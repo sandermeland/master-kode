{
 "cells": [
  {
   "cell_type": "code",
   "execution_count": 1,
   "metadata": {},
   "outputs": [],
   "source": [
    "import gurobipy as gp\n",
    "import pandas as pd\n",
    "from code_map import data_handling, utils, new_meters, final_markets\n",
    "import numpy as np\n",
    "import calendar \n",
    "from datetime import datetime\n",
    "import pytz\n",
    "import openpyxl\n",
    "import os\n",
    "import pickle\n"
   ]
  },
  {
   "cell_type": "code",
   "execution_count": 2,
   "metadata": {},
   "outputs": [],
   "source": [
    "#return L, M, F, H, freq_data, power_meter_dict, consumption_data, L_u, L_d, Fu_h_l, Fd_h_l, R_h_l, P_h_m, Vp_h_m, Vm_m, R_m, dominant_directions, Ir_hlm, Ia_hlm, Va_hm, compatible_list\n",
    "L, M, F, H, freq_data, power_meter_dict, consumption_data, L_u, L_d, Fu_h_l, Fd_h_l, R_h_l, P_h_m, Vp_h_m, Vm_m, R_m, dominant_directions, Ir_hlm, Ia_hlm, Va_hm, compatible_list = data_handling.load_collections(\"./one_week_collections.pkl\")"
   ]
  },
  {
   "cell_type": "code",
   "execution_count": 3,
   "metadata": {},
   "outputs": [
    {
     "name": "stdout",
     "output_type": "stream",
     "text": [
      "Amount of markets : 62\n",
      "Amount of meters : 2189\n",
      "Amount of meters with direction up or both : 2040\n",
      "Amount of meters with direction down or both : 2041\n",
      "Amount of hours : 168\n"
     ]
    }
   ],
   "source": [
    "print(f\"Amount of markets : {len(M)}\")\n",
    "print(f\"Amount of meters : {len(L)}\")\n",
    "print(f\"Amount of meters with direction up or both : {len(L_u)}\")\n",
    "print(f\"Amount of meters with direction down or both : {len(L_d)}\")\n",
    "print(f\"Amount of hours : {len(H)}\")"
   ]
  },
  {
   "cell_type": "code",
   "execution_count": 4,
   "metadata": {},
   "outputs": [
    {
     "name": "stdout",
     "output_type": "stream",
     "text": [
      "Set parameter Username\n",
      "Academic license - for non-commercial use only - expires 2024-12-13\n",
      "Set parameter LogFile to value \"weekly_test_model.log\"\n",
      "Gurobi Optimizer version 11.0.0 build v11.0.0rc2 (mac64[rosetta2] - Darwin 23.1.0 23B92)\n",
      "\n",
      "CPU model: Apple M1\n",
      "Thread count: 8 physical cores, 8 logical processors, using up to 8 threads\n",
      "\n",
      "Optimize a model with 46014024 rows, 22821456 columns and 144938485 nonzeros\n",
      "Model fingerprint: 0x54551e8d\n",
      "Model has 1176027 quadratic objective terms\n",
      "Model has 12096 quadratic constraints\n",
      "Variable types: 0 continuous, 22821456 integer (22821456 binary)\n",
      "Coefficient statistics:\n",
      "  Matrix range     [1e-06, 2e+03]\n",
      "  QMatrix range    [1e-06, 9e-01]\n",
      "  Objective range  [4e-07, 1e+02]\n",
      "  QObjective range [3e-07, 8e+01]\n",
      "  Bounds range     [1e+00, 1e+00]\n",
      "  RHS range        [1e+00, 1e+00]\n",
      "  QRHS range       [1e+00, 1e+02]\n",
      "Found heuristic solution: objective -0.0000000\n"
     ]
    },
    {
     "ename": "",
     "evalue": "",
     "output_type": "error",
     "traceback": [
      "\u001b[1;31mThe Kernel crashed while executing code in the the current cell or a previous cell. Please review the code in the cell(s) to identify a possible cause of the failure. Click <a href='https://aka.ms/vscodeJupyterKernelCrash'>here</a> for more info. View Jupyter <a href='command:jupyter.viewOutput'>log</a> for further details."
     ]
    }
   ],
   "source": [
    "one_week_model, x, y, w, d  = utils.run_optimization_model(L, M, H, F, Ir_hlm, Ia_hlm, Va_hm, Vp_h_m, Vm_m, R_m, R_h_l, Fu_h_l, Fd_h_l, dominant_directions, compatible_list, \"weekly_test_model.log\", \"one_week_model\")"
   ]
  },
  {
   "cell_type": "code",
   "execution_count": 5,
   "metadata": {},
   "outputs": [
    {
     "data": {
      "text/plain": [
       "dict"
      ]
     },
     "execution_count": 5,
     "metadata": {},
     "output_type": "execute_result"
    }
   ],
   "source": [
    "type(x)"
   ]
  },
  {
   "cell_type": "code",
   "execution_count": null,
   "metadata": {},
   "outputs": [
    {
     "data": {
      "text/plain": [
       "'Solution is valid'"
      ]
     },
     "execution_count": 6,
     "metadata": {},
     "output_type": "execute_result"
    }
   ],
   "source": [
    "utils.test_solution_validity(x, y, w, Va_hm, L, M, H, dominant_directions= dominant_directions, F = F)"
   ]
  },
  {
   "cell_type": "code",
   "execution_count": 7,
   "metadata": {},
   "outputs": [],
   "source": [
    "new_x_values = {(h, l, m): one_week_model.getVarByName(f\"x_{h}_{l}_{m}\").X for h in range(len(H)) for l in range(len(L)) for m in range(len(M))}"
   ]
  },
  {
   "cell_type": "code",
   "execution_count": 29,
   "metadata": {},
   "outputs": [],
   "source": [
    "\n",
    "# Save these values\n",
    "with open('current_x_values_for_week.pkl', 'wb') as f:\n",
    "    pickle.dump(new_x_values, f)\n",
    "                "
   ]
  },
  {
   "cell_type": "code",
   "execution_count": null,
   "metadata": {},
   "outputs": [],
   "source": []
  }
 ],
 "metadata": {
  "kernelspec": {
   "display_name": "myenv",
   "language": "python",
   "name": "python3"
  },
  "language_info": {
   "codemirror_mode": {
    "name": "ipython",
    "version": 3
   },
   "file_extension": ".py",
   "mimetype": "text/x-python",
   "name": "python",
   "nbconvert_exporter": "python",
   "pygments_lexer": "ipython3",
   "version": "3.9.18"
  }
 },
 "nbformat": 4,
 "nbformat_minor": 2
}
