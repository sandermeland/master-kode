{
 "cells": [
  {
   "cell_type": "code",
   "execution_count": null,
   "metadata": {},
   "outputs": [],
   "source": [
    "import gurobipy as gp\n",
    "import pandas as pd\n",
    "from code_map import final_markets, new_meters, Inputs\n",
    "import numpy as np\n",
    "import matplotlib.pyplot as plt\n",
    "import calendar \n",
    "from datetime import datetime\n",
    "import pytz\n",
    "import openpyxl\n",
    "import os\n"
   ]
  },
  {
   "cell_type": "code",
   "execution_count": null,
   "metadata": {},
   "outputs": [],
   "source": [
    "#fcr_d_1_df_2022 = pd.read_excel(\"/Users/sandermeland/Documents/Jobb/Volte/master-kode/markets/markets-data/new_fcrd1.xlsx\")\n",
    "#fcr_d_2_df_2022 = pd.read_excel(\"/Users/sandermeland/Documents/Jobb/Volte/master-kode/markets/markets-data/new_fcrd2.xlsx\")\n",
    "#FCR DIRECTORIES\n",
    "fcr_d_1_directory = \"../master-data/markets-data/FCR_D-1-2023.xlsx\"\n",
    "fcr_d_2_directory = \"../master-data/markets-data/FCR_D-2-2023.xlsx\"\n",
    "\n",
    "# aFRR DIRECTORIES\n",
    "afrr_up_directory = '../master-data/markets-data/aFFR/up_2023'\n",
    "afrr_down_directory = '../master-data/markets-data/aFFR/down_2023'\n",
    "\n",
    "# RK DIRECTORIES\n",
    "rk_price_down_path = \"../master-data/markets-data/RK/new_rk_price_down.csv\"\n",
    "rk_price_up_path = \"../master-data/markets-data/RK/new_rk_price_up.csv\"\n",
    "rk_volume_up_path = \"../master-data/markets-data/RK/new_rk_vol_up.csv\"\n",
    "rk_volume_down_path = \"../master-data/markets-data/RK/new_rk_vol_down.csv\"\n",
    "\n",
    "# RKOM DIRECTORIES\n",
    "rkom_2022_path = \"../master-data/markets-data/RKOM.xlsx\"\n",
    "rkom_2023_path = \"../master-data/markets-data/Rkom-2023.xlsx\"\n",
    "\n",
    "#SPOT PRICE DIRECTORY\n",
    "spot_path = \"../master-data/spot_data/spot_june_23.csv\"\n",
    "\n",
    "# CATEGORY DIRECTORIES\n",
    "cat_path_list = [\"../master-data/categorization_data/harktech_meters.csv\",  \"../master-data/categorization_data/ev_meters.csv\"]\n"
   ]
  },
  {
   "cell_type": "code",
   "execution_count": null,
   "metadata": {},
   "outputs": [],
   "source": [
    "timeframe = Inputs.one_day\n",
    "consumption_data =pd.read_csv('../master-data/customers-data/added_type_and_comp.csv')\n"
   ]
  },
  {
   "cell_type": "code",
   "execution_count": null,
   "metadata": {},
   "outputs": [],
   "source": [
    "all_market_list = final_markets.get_market_list(tf = timeframe, spot_path=spot_path, fcr_d_1_path= fcr_d_1_directory, fcr_d_2_path=fcr_d_2_directory, afrr_up_directory=afrr_up_directory, afrr_down_directory=afrr_down_directory, rk_price_down_path=rk_price_down_path,rk_price_up_path= rk_price_up_path, rk_volume_up_path=rk_volume_up_path, rk_volume_down_path=rk_volume_down_path, rkom_22_path=rkom_2022_path, rkom_23_path= rkom_2023_path)\n",
    "power_meter_dict = new_meters.create_meter_objects(consumption_data = consumption_data, tf= timeframe, reference_tf= Inputs.one_month, category_path_list=cat_path_list) \n",
    "freq_data = Inputs.get_frequency_data(timeframe, '../master-data/frequency_data/2023-06')\n",
    "afrr_activation_up = Inputs.get_afrr_activation_data(tf = timeframe, afrr_directory = '../master-data/aFRR_activation/', direction = \"Up\")\n",
    "afrr_activation_down = Inputs.get_afrr_activation_data(tf = timeframe, afrr_directory = '../master-data/aFRR_activation/', direction = \"Down\")"
   ]
  }
 ],
 "metadata": {
  "language_info": {
   "name": "python"
  }
 },
 "nbformat": 4,
 "nbformat_minor": 2
}
