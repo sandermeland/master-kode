{
 "cells": [
  {
   "cell_type": "markdown",
   "metadata": {},
   "source": [
    "## this version should be an upggrade of the previous one where I find a better way to give rewards. Instead of an ordinary TD(0) update as I used in the previous version I should now use a n-step method where I dont give rewards before every bid is given for an hour. "
   ]
  },
  {
   "cell_type": "code",
   "execution_count": 1,
   "metadata": {},
   "outputs": [],
   "source": [
    "import gurobipy as gp\n",
    "import pandas as pd\n",
    "from code_map import final_markets, new_meters, utils, weather, timeframes, rl_utils\n",
    "import numpy as np\n",
    "from datetime import datetime, timedelta\n",
    "from collections import defaultdict, Counter\n",
    "import random\n",
    "import sklearn"
   ]
  },
  {
   "cell_type": "code",
   "execution_count": 2,
   "metadata": {},
   "outputs": [
    {
     "name": "stderr",
     "output_type": "stream",
     "text": [
      "/Users/sandermeland/Documents/UIB/Master/master-kode/code_map/utils.py:176: SettingWithCopyWarning: \n",
      "A value is trying to be set on a copy of a slice from a DataFrame\n",
      "\n",
      "See the caveats in the documentation: https://pandas.pydata.org/pandas-docs/stable/user_guide/indexing.html#returning-a-view-versus-a-copy\n",
      "  filtered_df.sort_values(by = \"Time\", inplace = True)\n",
      "/Users/sandermeland/Documents/UIB/Master/master-kode/code_map/utils.py:176: SettingWithCopyWarning: \n",
      "A value is trying to be set on a copy of a slice from a DataFrame\n",
      "\n",
      "See the caveats in the documentation: https://pandas.pydata.org/pandas-docs/stable/user_guide/indexing.html#returning-a-view-versus-a-copy\n",
      "  filtered_df.sort_values(by = \"Time\", inplace = True)\n"
     ]
    }
   ],
   "source": [
    "tf = timeframes.one_week\n",
    "L, M, F, H, freq_data, power_meter_dict, consumption_data = utils.get_all_sets(timeframe= tf, areas = [\"NO5\"])\n",
    "L_u, L_d, Fu_h_l, Fd_h_l, R_h_l, P_h_m, Vp_h_m, Vm_m, R_m = utils.get_parameters(L = L, M = M, H = H)\n",
    "Ir_hlm, Ia_hlm, Va_hm = utils.get_income_dictionaries(H=H, L = L, M = M, freq_data= freq_data, Fu_h_l= Fu_h_l, Fd_h_l= Fd_h_l, P_h_m= P_h_m, Vp_h_m= Vp_h_m, F = F, markets_dict = {market.name : market for market in M}, timeframe = tf, areas = [\"NO5\"])\n",
    "compatible_dict = utils.get_compatibility_dict(L = L ,M = M, index = False)"
   ]
  },
  {
   "cell_type": "code",
   "execution_count": 3,
   "metadata": {},
   "outputs": [],
   "source": [
    "sup_market_names = [\"FCR\", \"aFRR\"]\n",
    "markets = [market for market in M if sup_market_names[0] in market.name  or sup_market_names[1] in market.name]\n",
    "exp_price_dict, exp_vol_dict = rl_utils.get_expected_prices_and_volumes_dict(bid_timeframe= H, markets= markets)\n",
    "norm_exp_price_dict = rl_utils.normalize_dict_vals(exp_price_dict, norm_method= \"min_max\")\n",
    "norm_exp_vol_dict = rl_utils.normalize_dict_vals(exp_vol_dict, norm_method= \"min_max\")\n",
    "weather_data = weather.get_weather_data(tf= tf, areas = [\"NO5\"])\n",
    "norm_w_df = rl_utils.normalize_weather_data(weather_data= weather_data)\n"
   ]
  },
  {
   "cell_type": "code",
   "execution_count": 4,
   "metadata": {},
   "outputs": [],
   "source": [
    "spot_path = \"../master-data/spot_data/spot_june_23.csv\"\n",
    "norm_da_df = final_markets.preprocess_spot_data(pd.read_csv(spot_path), year = tf.year, start_month = tf.start_month, end_month = tf.end_month, start_day = tf.start_day, end_day = tf.end_day, start_hour = tf.start_hour, end_hour = tf.end_hour, area = \"NO5\", normalize= True)\n"
   ]
  },
  {
   "cell_type": "code",
   "execution_count": 5,
   "metadata": {},
   "outputs": [
    {
     "name": "stdout",
     "output_type": "stream",
     "text": [
      "['FCR_D_D_1_NO5', 'FCR_D_D_2_NO5', 'FCR_N_D_1_NO5', 'FCR_N_D_2_NO5', 'aFRR up_NO5', 'aFRR down_NO5']\n"
     ]
    }
   ],
   "source": [
    "markets = [market for market in M if sup_market_names[0] in market.name  or sup_market_names[1] in market.name]\n",
    "print([m.name for m in markets])"
   ]
  },
  {
   "cell_type": "code",
   "execution_count": 240,
   "metadata": {},
   "outputs": [],
   "source": [
    "def get_features(bid_hour : pd.Timestamp, available_assets : [new_meters.PowerMeter], market : final_markets.ReserveMarket, norm_exp_price_dict : dict, norm_exp_vol_dict : dict, norm_w_df : pd.DataFrame, norm_da_df : pd.DataFrame, L : [new_meters.PowerMeter], markets : [final_markets.ReserveMarket]):\n",
    "    \"\"\" Function to get the features for the given hour and market. It is important to use features that will help the model learn which actions to take \n",
    "        and update the weights correctly for the given state.\n",
    "        The features that possibly can be used here are the following:\n",
    "        - day of week\n",
    "        - hour of day\n",
    "        - number of possible assets\n",
    "        - Day Ahead (DA) price\n",
    "        - Weather forecast\n",
    "        - Market historical prices\n",
    "        - Market historical volumes\n",
    "        - frequency data (historical)\n",
    "        \n",
    "    Args:\n",
    "        available_assets (new_meters.PowerMeter]): _description_\n",
    "        hour (pd.Timestamp): _description_\n",
    "        market (final_markets.ReserveMarket): _description_\n",
    "        norm_exp_price_dict (dict) : dictionary of the normalized expected prices for each direction and area in the bid_timeframe \n",
    "        norm_exp_vol_dict (dict) : of the normalized expected volumes for each direction and area in the bid_timeframe \n",
    "        norm_w_df (pd.DataFrame) : normalized weather data \n",
    "        norm_da_df (pd.DataFrame) : normalized day ahead prices \n",
    "        L ([new_meters.PowerMeter]) : list of all possible assets\n",
    "\n",
    "    Returns:\n",
    "        np.array: np.array of the normalized features which depends on which market, hour and available assets are given\n",
    "    \"\"\"\n",
    "    day_of_week = bid_hour.weekday()\n",
    "    hour_of_day = bid_hour.hour\n",
    "    expected_price = norm_exp_price_dict[(market.direction, market.area, bid_hour)]\n",
    "    expected_volume = norm_exp_vol_dict[(market.direction, market.area, bid_hour)]\n",
    "    precipitation = norm_w_df[\"precipitation\"].loc[norm_w_df[\"Time (Local)\"] == bid_hour]\n",
    "    temperature = norm_w_df[\"air_temp\"].loc[norm_w_df[\"Time (Local)\"] == bid_hour]\n",
    "    da_price = norm_da_df[\"settlement\"].loc[norm_da_df[\"Time(Local)\"] == bid_hour]\n",
    "    market_nr = (markets.index(market)+1)/6\n",
    "    \n",
    "    \n",
    "    return np.array([day_of_week/7, hour_of_day/24, expected_price, expected_volume, len(available_assets)/len(L), precipitation.values[0], temperature.values[0], da_price.values[0], market_nr])\n",
    "\n",
    "# info opp til 2 dager tilbake i tid kan være interessant, (en type moving average e.l.), skal jeg da ha det for det markedet som er relevant eller for alle? Skal det være for prisene i markedene, volum, begge? DA priser? Vær?\n",
    "# uforventede utfall - umms - planlagte utfall ligger tilgjengelig - historiske umms ligger på nordpool. Trenger å vite tilgjegelig kapasitet og produksjon for forskjelige teknologier i hvert prisområde og om endringer er planlagt eller uplanlagt. når man får vite det\n",
    "# bør adde wind speed og skydekke. Dette sier litt om produksjon fra vind og sol og kan derfor påvirke priser. \n",
    "# czc mellom budområdene. Regnes ut ved å se på DA prisen for to dager siden og differanse mellom to budområder. \n",
    "# vannstand - hvor data hentes fra NVE. Det er interessant, spesielt å se på om vannstand i noen av kraftverkene er tett opp mot 100% av tilgjengelig kapasitet da de må se seg nødt til å produsere mer for å unngå oversvømmelse.\n"
   ]
  },
  {
   "cell_type": "code",
   "execution_count": null,
   "metadata": {},
   "outputs": [],
   "source": [
    "def initialize_weights(n_features :int , n_actions : int, zeros : bool = True):\n",
    "    if zeros:\n",
    "        return np.array([np.zeros((n_features)) for _ in range(n_actions)])\n",
    "    else:\n",
    "        return np.array([np.random.normal(0, 0.1, n_features) for _ in range(n_actions)])"
   ]
  },
  {
   "cell_type": "code",
   "execution_count": 401,
   "metadata": {},
   "outputs": [],
   "source": [
    "def train_nstep_model(epsilon : float, alpha : float, gamma : float, num_episodes : int, L : [new_meters.PowerMeter], M : [final_markets.ReserveMarket], H : [pd.Timestamp], norm_exp_price_dict : dict, norm_exp_vol_dict : dict, norm_w_df : pd.DataFrame, norm_da_df : pd.DataFrame, n_actions : int, n_features : int):\n",
    "    \"\"\" Training function to learn how to bid in to the markets due to the bidding constraints and the asset constraints as well as optimizing the weights. \n",
    "    The function will learn how to bid in to the markets by updating the weights due to the features. \n",
    "    The change from v_4 is that this function will compare bids that are set to the same hour to get a better estimate of the reward.\n",
    "    \n",
    "    Args:\n",
    "        epsilon (float): float number between 0 and 1, says how much the agent should explore\n",
    "        alpha (float): float number between 0 and 1, also known as the learning rate\n",
    "        gamma (float): float number between 0 and 1, also known as the discount factor\n",
    "        num_episodes (int): number of episodes to be ran\n",
    "        L ([new_meters.PowerMeter]): list of PowerMeter objects\n",
    "        M ([final_markets.Reservemarket]): list of ReserveMarket objects\n",
    "        H ([pd.Timestamp]): list of timestamps\n",
    "        norm_exp_price_dict (dict): dictionary of the normalized expected prices for each direction and area in the bid_timeframe\n",
    "        norm_exp_vol_dict (dict): dictionary of the normalized expected volumes for each direction and area in the bid_timeframe\n",
    "        norm_w_df (pd.DataFrame) : normalized weather data in pd.dataframe format\n",
    "        norm_da_df (pd.DataFrame) : normalized day ahead prices in pd.dataframe format\n",
    "        n_actions (int): number of actions\n",
    "        n_features (int): number of features\n",
    "\n",
    "    Returns:\n",
    "        bids (dict): dictionary that holds control over the final bids for each market and each hour. The keys are tuples of the market name and the hour and the values are the the assets that were bid for the given market and hour. The values are tuples including the list of assets and the aggregated volume.\n",
    "        revenues (dict): dictionary that holds the revenue for each episode\n",
    "        available_assets (dict): dictionary that holds the available assets for each hour\n",
    "        episode_weights (dict): dictionary that holds the weights for each episode\n",
    "        action_feature_dict: dictionary that holds the features for each action for each episode\n",
    "        asset_bids (list): list that holds the bids for each episode. The indexes are the episode number and the values are dataframes that holds the bids for each market and each hour for each episode.\n",
    "    \"\"\"\n",
    "    revenues = {}\n",
    "    bid_timeframe = H[24:] # the hours where bids can be placed in\n",
    "    place_bid_hours = [hour for hour in H[:-48] if hour.hour == 7 or hour.hour == 17 or hour.hour == 18] # the hours where bids can be placed from\n",
    "    bids = {}\n",
    "    asset_bids = []\n",
    "    sup_market_names = [\"FCR\", \"aFRR\"]\n",
    "    markets = [market for market in M if sup_market_names[0] in market.name  or sup_market_names[1] in market.name]\n",
    "    #market_names = [market.name for market in markets]\n",
    "    # will only use FCR-N, FCR-D and aFRR. The FCR markets are both D-1 and D-2 and the aFRR market is D-1 but it is both up and down\n",
    "    \n",
    "    available_assets = {hour: L.copy() for hour in bid_timeframe} \n",
    "    #bids = {(market.name, hour): [] for hour in bid_timeframe for market in markets}\n",
    "    \"For each hour, an action should be to either bid in every feasible asset, to bid the minimum volume or to bid nothing\"\n",
    "    (possible_hours, market_name) = rl_utils.get_possible_dates(place_bid_hours[0]) # the market_name is not the full name of the market, but rather a substring of the full name. Since FCR-D and FCR-N has the same deadlines there will be two markets with the same substring\n",
    "    \n",
    "    possible_markets = [m for m in markets if market_name in m.name] # will either be one or two markets\n",
    "    #indexes = [market_names.index(m.name) for m in possible_markets] # the indexes for each market. This is used to slice the Q-table so it is not necessary in this case\n",
    "    features = get_features(bid_hour = possible_hours[0], available_assets= available_assets[possible_hours[0]], market = possible_markets[0], norm_da_df=norm_da_df, norm_exp_price_dict= norm_exp_price_dict, norm_exp_vol_dict= norm_exp_vol_dict, norm_w_df= norm_w_df, L = L, markets= markets) # update the features\n",
    "\n",
    "    \n",
    "    action_0 = random.randint(0, n_actions-1)\n",
    "    action_feature_dict = {}\n",
    "    weights = initialize_weights(n_actions = n_actions, n_features = n_features, zeros = False)\n",
    "\n",
    "    # extract hours from H where hour == 7, 17, 18\n",
    "    epsilon_decay = epsilon/num_episodes\n",
    "    alpha_decay = alpha/num_episodes\n",
    "    episode_weights = {}\n",
    "    for episode_n in range(num_episodes):\n",
    "        if episode_n > episode_n/10:\n",
    "            epsilon -= epsilon_decay\n",
    "            alpha -= alpha_decay\n",
    "        revenue = 0\n",
    "        episode_bid_df = pd.DataFrame(columns= [\"Market\", \"Hour\", \"Asset Count\", \"Total Flex Volume\"])\n",
    "        episode_bid_dict = {}\n",
    "        reward_bid_hour_dict = {}\n",
    "       \n",
    "        #print(f\" weights at the start of episode nr {episode_n}: {weights}\")\n",
    "\n",
    "        available_assets = {hour: L.copy() for hour in bid_timeframe}\n",
    "        for place_hour in place_bid_hours: # the hours when the bids are placed from\n",
    "            (possible_hours, market_name) = rl_utils.get_possible_dates(place_hour) # returns the possible hours for the market to place bids in\n",
    "            if len(possible_hours) != 24:\n",
    "                print(f\"No bids for {place_hour}\")\n",
    "                print(f\"possible_hours: {len(possible_hours)}\")\n",
    "                break\n",
    "            #print(f\"possible_hours when bidding: {possible_hours}\")\n",
    "            possible_markets = [m for m in markets if market_name in m.name] # because i am now using only no5 markets, this list should be of length 1 or 2.\n",
    "            \n",
    "            for current_market in possible_markets: # the markets that are possible to bid in\n",
    "                #print(f\"current_market : {current_market.name}\")\n",
    "                for bid_hour in possible_hours:\n",
    "                    chosen_portfolio, reward, flex_vol = rl_utils.make_bid(current_market, bid_hour, action_0, available_assets[bid_hour], compatible_dict) # get portfolio and reward for a bid - will have to figure out a better way to define reward\n",
    "                    if bid_hour not in reward_bid_hour_dict.keys():\n",
    "                        reward_bid_hour_dict[bid_hour] = [reward]\n",
    "                    else:\n",
    "                        reward_bid_hour_dict[bid_hour].append(reward)\n",
    "\n",
    "                    available_assets[bid_hour] = [asset for asset in available_assets[bid_hour] if asset not in chosen_portfolio] # remove the assets that were bid from the available assets\n",
    "\n",
    "                    if len(chosen_portfolio) > 0:\n",
    "                        episode_bid_df.loc[len(episode_bid_df)] = [current_market.name, bid_hour, len(chosen_portfolio), flex_vol] # add the bid to the episode_bid_df\n",
    "\n",
    "                    episode_bid_dict[(current_market.name, bid_hour)] = (chosen_portfolio, flex_vol) # add the bid to the bids dictionary\n",
    "                    \n",
    "                    new_features = get_features(bid_hour = bid_hour, available_assets= available_assets[bid_hour], market = current_market, norm_da_df=norm_da_df, norm_exp_price_dict= norm_exp_price_dict, norm_exp_vol_dict= norm_exp_vol_dict, norm_w_df= norm_w_df, L = L, markets = markets) # update the features\n",
    "                    #print(f\"weights : {weights}\")\n",
    "                    possible_actions = [np.dot(weights[action], new_features) for action in range(n_actions)] \n",
    "                    \n",
    "                    new_action = rl_utils.greedy_action(possible_actions, epsilon)\n",
    "                    action_feature_dict[(episode_n, current_market.name, bid_hour)] = (action_0, new_action, features, new_features)\n",
    "                    features, action_0 = new_features, new_action\n",
    "                    revenue += reward\n",
    "            #print([m.name for m in possible_markets])\n",
    "            # Instead of updating the weights after each hour, the weights are updated after each market. This is to get a better estimate of the reward since the rewards are given after each of the markets are considererd for an hour.\n",
    "            if \"FCR_N_D_1_NO5\" in [m.name for m in possible_markets]: # The FCR D-1 markets has the latest deadline, so after these markets has been considered, all markets has been considered for the given hour.\n",
    "                #print(f\"Possible hours when updating the weights : {possible_hours}\")\n",
    "                for bid_hour in possible_hours: \n",
    "                    total_reward = sum(reward_bid_hour_dict[bid_hour])\n",
    "                    #print(f\"total_reward: {total_reward}\")\n",
    "                    for market in markets:\n",
    "                        if (episode_n, market.name, bid_hour) in action_feature_dict.keys(): # should maybe rearrange the structure of the code so that this if statement is not necessary\n",
    "                            action_0, new_action, features, new_features = action_feature_dict[(episode_n, market.name, bid_hour)]\n",
    "                            #delta = total_reward + np.dot(weights[new_action], new_features) - np.dot(weights[action_0], features)\n",
    "                            #weights = weights + alpha * delta * np.array(features + [action_0]) - denne har jeg ikke brukt \n",
    "                            #weights[action_0] = weights[action_0] + alpha * delta * features[action_0] # * features???\n",
    "                            q_values_next_state = np.array([np.dot(weights[a], new_features) for a in range(n_actions)])\n",
    "                            #print(f\"q_values_next_state: {q_values_next_state}\")\n",
    "                            \"\"\" print(type(weights), weights.shape)\n",
    "                            print(type(weights[action_0]), weights[action_0].shape)\n",
    "                            print(type(features), features.shape)\"\"\"\n",
    "                            #print(total_reward)\n",
    "                            #print(f\" updated weights : {weights[action_0] + alpha * (total_reward/1000 + gamma * np.max(q_values_next_state) - np.dot(weights[action_0], features)) * features}\")\n",
    "                            weights[action_0] = weights[action_0] + alpha * (total_reward/255 + gamma * np.max(q_values_next_state) - np.dot(weights[action_0], features)) * features\n",
    "                            #print(f\"weights after updating: {weights}\")\n",
    "\n",
    "        episode_weights[episode_n] = weights.copy()        \n",
    "        bids[episode_n] = episode_bid_df.sort_values(by = [\"Hour\"])\n",
    "        revenues[episode_n] = revenue\n",
    "        asset_bids.append(episode_bid_dict)\n",
    "    return bids, revenues, available_assets, episode_weights, action_feature_dict, asset_bids"
   ]
  },
  {
   "cell_type": "code",
   "execution_count": 402,
   "metadata": {},
   "outputs": [],
   "source": [
    "bids, revenues, available_assets, weights, action_list, asset_bids = train_nstep_model(epsilon = 0.3, alpha = 0.3, gamma = 0.9, num_episodes = 100, L = L, M = M, H = H, norm_exp_price_dict = norm_exp_price_dict, norm_exp_vol_dict = norm_exp_vol_dict, norm_w_df = norm_w_df, norm_da_df = norm_da_df, n_features= 9, n_actions= 3)"
   ]
  },
  {
   "cell_type": "code",
   "execution_count": 369,
   "metadata": {},
   "outputs": [],
   "source": [
    "action_dict = {}\n",
    "for e in range(2):\n",
    "    action_0s = []\n",
    "    actions = []\n",
    "    feature_list = []\n",
    "    new_feature_list = []    \n",
    "    for market in markets:\n",
    "        for hour in H:\n",
    "            if (e, market.name, hour) in action_list.keys():\n",
    "                action_0, new_action, features, new_features = action_list[(e, market.name, hour)]\n",
    "                action_0s.append(action_0)\n",
    "                actions.append(new_action)\n",
    "                feature_list.append(features)\n",
    "                new_feature_list.append(new_features)\n",
    "\n",
    "    action_dict[e] = (action_0s, actions, feature_list, new_feature_list)"
   ]
  },
  {
   "cell_type": "code",
   "execution_count": 370,
   "metadata": {},
   "outputs": [
    {
     "data": {
      "text/plain": [
       "False"
      ]
     },
     "execution_count": 370,
     "metadata": {},
     "output_type": "execute_result"
    }
   ],
   "source": [
    "action_dict[0][0] == action_dict[1][0]"
   ]
  },
  {
   "cell_type": "code",
   "execution_count": 371,
   "metadata": {},
   "outputs": [
    {
     "data": {
      "text/plain": [
       "array([[False, False, False, False, False, False, False, False, False],\n",
       "       [False, False, False, False, False, False, False, False, False],\n",
       "       [False, False, False, False, False, False, False, False, False]])"
      ]
     },
     "execution_count": 371,
     "metadata": {},
     "output_type": "execute_result"
    }
   ],
   "source": [
    "weights[0] == weights[1]"
   ]
  },
  {
   "cell_type": "code",
   "execution_count": 403,
   "metadata": {},
   "outputs": [],
   "source": [
    "import plotly.graph_objs as go\n",
    "from plotly.subplots import make_subplots\n",
    "\n",
    "def make_plots_for_sol(dict_of_dfs : dict, sol_name : str = \"Optimization\", rl_df : pd.DataFrame = None, y_axis : str = \"Asset Count\"):\n",
    "    \"\"\" function to make plot of the results recieved from the wanted model. This function can either plot how many assets that were bid in each market for each hour or the total flex volume that was bid in each market for each hour.\n",
    "\n",
    "    Args:\n",
    "        dict_of_dfs (dict): for the optimization model, the results are stored in a dict. The keys are the hours and the values are dataframes that holds the results for each hour.\n",
    "        sol_name (str, optional): Either \"Optimization\" or \"RL. Defaults to \"Optimization\".\n",
    "        rl_df (pd.DataFrame, optional): The results for the RL df are stored in a dataframe and this should be given here if the results from the RL model is wanted. The RL model returns a list of dataframes, and that list with the wanted index (episode) should be given. Defaults to None.\n",
    "        y_axis (str, optional): Choose which y-axis value that is wanted. Can be either \"Asset Count\" or \"Total Flex Volume\". Defaults to \"Asset Count\".\n",
    "    \"\"\"\n",
    "    if sol_name == \"Optimization\":\n",
    "        combined_df = pd.concat(dict_of_dfs, ignore_index=True)\n",
    "        combined_df = combined_df.loc[combined_df[\"Hour\"]>= pd.Timestamp(2023, 6, 20, 0, 0, 0, tz = \"Europe/Oslo\")]\n",
    "    else:\n",
    "        combined_df = rl_df.copy()\n",
    "    # Create a figure with secondary y-axis\n",
    "    fig = make_subplots(specs=[[{\"secondary_y\": True}]])\n",
    "    # Iterate over each market and add a scatter trace for Asset Count and Total Flex Volume\n",
    "    for market in combined_df['Market'].unique():\n",
    "        market_data = combined_df[combined_df['Market'] == market]\n",
    "        if y_axis == \"Asset Count\":\n",
    "            # Scatter for Asset Count\n",
    "            fig.add_trace(\n",
    "                go.Scatter(x=market_data['Hour'], y=market_data['Asset Count'], \n",
    "                        mode='markers', name=f\"Asset Count - {market}\"),\n",
    "                secondary_y=False,\n",
    "            )\n",
    "        elif y_axis == \"Total Flex Volume\":\n",
    "            # Scatter for Total Flex Volume\n",
    "            fig.add_trace(\n",
    "                go.Scatter(x=market_data['Hour'], y=market_data['Total Flex Volume'], \n",
    "                        mode='markers', name=f\"Total Flex Volume - {market}\"),\n",
    "                secondary_y=True,\n",
    "            )\n",
    "\n",
    "    # Add figure title and layout\n",
    "    fig.update_layout(title_text=f\"{y_axis} by Market and Hour from the {sol_name} model\")\n",
    "\n",
    "    # Set x-axis title\n",
    "    fig.update_xaxes(title_text=\"Hours\")\n",
    "\n",
    "    # Set y-axes titles\n",
    "    fig.update_yaxes(title_text=\"Asset Count\", secondary_y=False)\n",
    "    fig.update_yaxes(title_text=\"Total Flex Volume\", secondary_y=True)\n",
    "\n",
    "    # Show the figure\n",
    "    fig.show()"
   ]
  },
  {
   "cell_type": "code",
   "execution_count": 404,
   "metadata": {},
   "outputs": [
    {
     "data": {
      "application/vnd.plotly.v1+json": {
       "config": {
        "plotlyServerURL": "https://plot.ly"
       },
       "data": [
        {
         "mode": "markers",
         "name": "Asset Count - aFRR down_NO5",
         "type": "scatter",
         "x": [
          "2023-06-20T02:00:00+02:00",
          "2023-06-20T06:00:00+02:00",
          "2023-06-20T17:00:00+02:00",
          "2023-06-21T00:00:00+02:00",
          "2023-06-21T02:00:00+02:00",
          "2023-06-21T03:00:00+02:00",
          "2023-06-21T05:00:00+02:00",
          "2023-06-21T10:00:00+02:00",
          "2023-06-21T11:00:00+02:00",
          "2023-06-21T12:00:00+02:00",
          "2023-06-22T01:00:00+02:00",
          "2023-06-22T12:00:00+02:00",
          "2023-06-22T13:00:00+02:00",
          "2023-06-22T14:00:00+02:00",
          "2023-06-22T17:00:00+02:00",
          "2023-06-22T18:00:00+02:00",
          "2023-06-22T19:00:00+02:00",
          "2023-06-22T20:00:00+02:00",
          "2023-06-22T21:00:00+02:00",
          "2023-06-23T00:00:00+02:00",
          "2023-06-23T01:00:00+02:00",
          "2023-06-23T02:00:00+02:00",
          "2023-06-23T03:00:00+02:00",
          "2023-06-23T04:00:00+02:00",
          "2023-06-23T05:00:00+02:00",
          "2023-06-23T07:00:00+02:00",
          "2023-06-23T08:00:00+02:00",
          "2023-06-23T09:00:00+02:00",
          "2023-06-23T14:00:00+02:00",
          "2023-06-23T15:00:00+02:00",
          "2023-06-23T16:00:00+02:00",
          "2023-06-23T17:00:00+02:00",
          "2023-06-23T18:00:00+02:00",
          "2023-06-23T19:00:00+02:00",
          "2023-06-23T20:00:00+02:00",
          "2023-06-23T21:00:00+02:00",
          "2023-06-23T22:00:00+02:00",
          "2023-06-23T23:00:00+02:00",
          "2023-06-24T08:00:00+02:00",
          "2023-06-24T12:00:00+02:00",
          "2023-06-24T13:00:00+02:00",
          "2023-06-24T14:00:00+02:00",
          "2023-06-24T15:00:00+02:00",
          "2023-06-24T16:00:00+02:00",
          "2023-06-24T17:00:00+02:00",
          "2023-06-24T19:00:00+02:00",
          "2023-06-24T20:00:00+02:00",
          "2023-06-24T21:00:00+02:00",
          "2023-06-24T22:00:00+02:00"
         ],
         "xaxis": "x",
         "y": [
          37,
          895,
          45,
          895,
          71,
          65,
          19,
          895,
          856,
          883,
          74,
          394,
          62,
          74,
          22,
          14,
          53,
          377,
          416,
          434,
          815,
          27,
          38,
          872,
          76,
          895,
          873,
          895,
          405,
          39,
          58,
          35,
          49,
          55,
          50,
          29,
          26,
          397,
          867,
          32,
          24,
          369,
          415,
          389,
          52,
          43,
          83,
          862,
          61
         ],
         "yaxis": "y"
        },
        {
         "mode": "markers",
         "name": "Asset Count - aFRR up_NO5",
         "type": "scatter",
         "x": [
          "2023-06-20T03:00:00+02:00",
          "2023-06-20T04:00:00+02:00",
          "2023-06-20T05:00:00+02:00",
          "2023-06-20T10:00:00+02:00",
          "2023-06-21T02:00:00+02:00",
          "2023-06-21T03:00:00+02:00",
          "2023-06-21T04:00:00+02:00",
          "2023-06-21T05:00:00+02:00",
          "2023-06-21T06:00:00+02:00",
          "2023-06-21T07:00:00+02:00",
          "2023-06-21T08:00:00+02:00",
          "2023-06-21T09:00:00+02:00",
          "2023-06-21T11:00:00+02:00",
          "2023-06-21T12:00:00+02:00",
          "2023-06-21T13:00:00+02:00",
          "2023-06-21T14:00:00+02:00",
          "2023-06-21T15:00:00+02:00",
          "2023-06-21T16:00:00+02:00",
          "2023-06-21T17:00:00+02:00",
          "2023-06-21T18:00:00+02:00",
          "2023-06-21T19:00:00+02:00",
          "2023-06-21T20:00:00+02:00",
          "2023-06-21T21:00:00+02:00",
          "2023-06-21T22:00:00+02:00",
          "2023-06-21T23:00:00+02:00",
          "2023-06-22T00:00:00+02:00",
          "2023-06-22T01:00:00+02:00",
          "2023-06-22T02:00:00+02:00",
          "2023-06-22T03:00:00+02:00",
          "2023-06-22T04:00:00+02:00",
          "2023-06-22T05:00:00+02:00",
          "2023-06-22T06:00:00+02:00",
          "2023-06-22T07:00:00+02:00",
          "2023-06-22T08:00:00+02:00",
          "2023-06-22T09:00:00+02:00",
          "2023-06-22T10:00:00+02:00",
          "2023-06-22T11:00:00+02:00",
          "2023-06-22T12:00:00+02:00",
          "2023-06-22T13:00:00+02:00",
          "2023-06-22T14:00:00+02:00",
          "2023-06-22T15:00:00+02:00",
          "2023-06-22T16:00:00+02:00",
          "2023-06-22T17:00:00+02:00",
          "2023-06-22T18:00:00+02:00",
          "2023-06-22T19:00:00+02:00",
          "2023-06-22T20:00:00+02:00",
          "2023-06-22T21:00:00+02:00",
          "2023-06-22T22:00:00+02:00",
          "2023-06-22T23:00:00+02:00",
          "2023-06-23T02:00:00+02:00",
          "2023-06-23T03:00:00+02:00",
          "2023-06-23T04:00:00+02:00",
          "2023-06-23T05:00:00+02:00",
          "2023-06-23T06:00:00+02:00",
          "2023-06-23T08:00:00+02:00",
          "2023-06-23T10:00:00+02:00",
          "2023-06-23T11:00:00+02:00",
          "2023-06-23T12:00:00+02:00",
          "2023-06-23T13:00:00+02:00",
          "2023-06-23T14:00:00+02:00",
          "2023-06-23T15:00:00+02:00",
          "2023-06-23T16:00:00+02:00",
          "2023-06-23T17:00:00+02:00",
          "2023-06-23T18:00:00+02:00",
          "2023-06-23T19:00:00+02:00",
          "2023-06-23T20:00:00+02:00",
          "2023-06-23T21:00:00+02:00",
          "2023-06-23T22:00:00+02:00",
          "2023-06-23T23:00:00+02:00",
          "2023-06-24T00:00:00+02:00",
          "2023-06-24T01:00:00+02:00",
          "2023-06-24T02:00:00+02:00",
          "2023-06-24T03:00:00+02:00",
          "2023-06-24T04:00:00+02:00",
          "2023-06-24T05:00:00+02:00",
          "2023-06-24T06:00:00+02:00",
          "2023-06-24T07:00:00+02:00",
          "2023-06-24T08:00:00+02:00",
          "2023-06-24T09:00:00+02:00",
          "2023-06-24T10:00:00+02:00",
          "2023-06-24T11:00:00+02:00",
          "2023-06-24T12:00:00+02:00",
          "2023-06-24T13:00:00+02:00",
          "2023-06-24T14:00:00+02:00",
          "2023-06-24T15:00:00+02:00",
          "2023-06-24T16:00:00+02:00",
          "2023-06-24T17:00:00+02:00",
          "2023-06-24T18:00:00+02:00",
          "2023-06-24T19:00:00+02:00",
          "2023-06-24T20:00:00+02:00",
          "2023-06-24T21:00:00+02:00",
          "2023-06-24T22:00:00+02:00",
          "2023-06-24T23:00:00+02:00"
         ],
         "xaxis": "x",
         "y": [
          893,
          20,
          40,
          68,
          13,
          29,
          28,
          18,
          893,
          893,
          893,
          893,
          42,
          13,
          893,
          893,
          437,
          893,
          893,
          46,
          893,
          893,
          893,
          893,
          893,
          437,
          50,
          58,
          893,
          76,
          85,
          52,
          67,
          71,
          70,
          74,
          32,
          41,
          31,
          27,
          52,
          64,
          22,
          39,
          18,
          62,
          19,
          437,
          21,
          24,
          15,
          26,
          7,
          893,
          24,
          437,
          437,
          437,
          437,
          30,
          27,
          38,
          57,
          9,
          47,
          8,
          37,
          17,
          39,
          812,
          893,
          893,
          893,
          893,
          893,
          893,
          893,
          31,
          893,
          893,
          12,
          13,
          35,
          71,
          21,
          47,
          26,
          13,
          59,
          49,
          37,
          44,
          55
         ],
         "yaxis": "y"
        },
        {
         "mode": "markers",
         "name": "Asset Count - FCR_N_D_1_NO5",
         "type": "scatter",
         "x": [
          "2023-06-20T14:00:00+02:00",
          "2023-06-20T15:00:00+02:00",
          "2023-06-20T22:00:00+02:00",
          "2023-06-22T17:00:00+02:00",
          "2023-06-23T20:00:00+02:00"
         ],
         "xaxis": "x",
         "y": [
          494,
          494,
          63,
          88,
          89
         ],
         "yaxis": "y"
        },
        {
         "mode": "markers",
         "name": "Asset Count - FCR_N_D_2_NO5",
         "type": "scatter",
         "x": [
          "2023-06-21T15:00:00+02:00",
          "2023-06-22T00:00:00+02:00",
          "2023-06-22T01:00:00+02:00",
          "2023-06-22T09:00:00+02:00",
          "2023-06-22T10:00:00+02:00",
          "2023-06-22T11:00:00+02:00",
          "2023-06-22T12:00:00+02:00",
          "2023-06-22T13:00:00+02:00",
          "2023-06-22T14:00:00+02:00",
          "2023-06-22T15:00:00+02:00",
          "2023-06-22T16:00:00+02:00",
          "2023-06-22T18:00:00+02:00",
          "2023-06-22T19:00:00+02:00",
          "2023-06-22T20:00:00+02:00",
          "2023-06-22T21:00:00+02:00",
          "2023-06-22T22:00:00+02:00",
          "2023-06-22T23:00:00+02:00",
          "2023-06-23T00:00:00+02:00",
          "2023-06-23T01:00:00+02:00",
          "2023-06-23T02:00:00+02:00",
          "2023-06-23T10:00:00+02:00",
          "2023-06-23T11:00:00+02:00",
          "2023-06-23T12:00:00+02:00",
          "2023-06-23T13:00:00+02:00",
          "2023-06-23T14:00:00+02:00",
          "2023-06-23T15:00:00+02:00",
          "2023-06-23T16:00:00+02:00",
          "2023-06-23T17:00:00+02:00",
          "2023-06-23T18:00:00+02:00",
          "2023-06-23T19:00:00+02:00",
          "2023-06-23T21:00:00+02:00",
          "2023-06-23T23:00:00+02:00",
          "2023-06-24T00:00:00+02:00",
          "2023-06-24T14:00:00+02:00",
          "2023-06-24T15:00:00+02:00",
          "2023-06-24T16:00:00+02:00",
          "2023-06-24T18:00:00+02:00",
          "2023-06-24T19:00:00+02:00",
          "2023-06-24T20:00:00+02:00",
          "2023-06-25T16:00:00+02:00",
          "2023-06-25T17:00:00+02:00",
          "2023-06-25T18:00:00+02:00",
          "2023-06-25T19:00:00+02:00",
          "2023-06-25T20:00:00+02:00",
          "2023-06-25T21:00:00+02:00",
          "2023-06-25T22:00:00+02:00",
          "2023-06-25T23:00:00+02:00"
         ],
         "xaxis": "x",
         "y": [
          494,
          494,
          494,
          494,
          494,
          494,
          494,
          494,
          494,
          494,
          494,
          494,
          494,
          494,
          494,
          494,
          494,
          494,
          89,
          494,
          494,
          494,
          494,
          494,
          494,
          54,
          69,
          74,
          51,
          84,
          79,
          494,
          92,
          494,
          494,
          494,
          85,
          100,
          81,
          494,
          61,
          73,
          82,
          53,
          81,
          74,
          94
         ],
         "yaxis": "y"
        }
       ],
       "layout": {
        "template": {
         "data": {
          "bar": [
           {
            "error_x": {
             "color": "#2a3f5f"
            },
            "error_y": {
             "color": "#2a3f5f"
            },
            "marker": {
             "line": {
              "color": "#E5ECF6",
              "width": 0.5
             },
             "pattern": {
              "fillmode": "overlay",
              "size": 10,
              "solidity": 0.2
             }
            },
            "type": "bar"
           }
          ],
          "barpolar": [
           {
            "marker": {
             "line": {
              "color": "#E5ECF6",
              "width": 0.5
             },
             "pattern": {
              "fillmode": "overlay",
              "size": 10,
              "solidity": 0.2
             }
            },
            "type": "barpolar"
           }
          ],
          "carpet": [
           {
            "aaxis": {
             "endlinecolor": "#2a3f5f",
             "gridcolor": "white",
             "linecolor": "white",
             "minorgridcolor": "white",
             "startlinecolor": "#2a3f5f"
            },
            "baxis": {
             "endlinecolor": "#2a3f5f",
             "gridcolor": "white",
             "linecolor": "white",
             "minorgridcolor": "white",
             "startlinecolor": "#2a3f5f"
            },
            "type": "carpet"
           }
          ],
          "choropleth": [
           {
            "colorbar": {
             "outlinewidth": 0,
             "ticks": ""
            },
            "type": "choropleth"
           }
          ],
          "contour": [
           {
            "colorbar": {
             "outlinewidth": 0,
             "ticks": ""
            },
            "colorscale": [
             [
              0,
              "#0d0887"
             ],
             [
              0.1111111111111111,
              "#46039f"
             ],
             [
              0.2222222222222222,
              "#7201a8"
             ],
             [
              0.3333333333333333,
              "#9c179e"
             ],
             [
              0.4444444444444444,
              "#bd3786"
             ],
             [
              0.5555555555555556,
              "#d8576b"
             ],
             [
              0.6666666666666666,
              "#ed7953"
             ],
             [
              0.7777777777777778,
              "#fb9f3a"
             ],
             [
              0.8888888888888888,
              "#fdca26"
             ],
             [
              1,
              "#f0f921"
             ]
            ],
            "type": "contour"
           }
          ],
          "contourcarpet": [
           {
            "colorbar": {
             "outlinewidth": 0,
             "ticks": ""
            },
            "type": "contourcarpet"
           }
          ],
          "heatmap": [
           {
            "colorbar": {
             "outlinewidth": 0,
             "ticks": ""
            },
            "colorscale": [
             [
              0,
              "#0d0887"
             ],
             [
              0.1111111111111111,
              "#46039f"
             ],
             [
              0.2222222222222222,
              "#7201a8"
             ],
             [
              0.3333333333333333,
              "#9c179e"
             ],
             [
              0.4444444444444444,
              "#bd3786"
             ],
             [
              0.5555555555555556,
              "#d8576b"
             ],
             [
              0.6666666666666666,
              "#ed7953"
             ],
             [
              0.7777777777777778,
              "#fb9f3a"
             ],
             [
              0.8888888888888888,
              "#fdca26"
             ],
             [
              1,
              "#f0f921"
             ]
            ],
            "type": "heatmap"
           }
          ],
          "heatmapgl": [
           {
            "colorbar": {
             "outlinewidth": 0,
             "ticks": ""
            },
            "colorscale": [
             [
              0,
              "#0d0887"
             ],
             [
              0.1111111111111111,
              "#46039f"
             ],
             [
              0.2222222222222222,
              "#7201a8"
             ],
             [
              0.3333333333333333,
              "#9c179e"
             ],
             [
              0.4444444444444444,
              "#bd3786"
             ],
             [
              0.5555555555555556,
              "#d8576b"
             ],
             [
              0.6666666666666666,
              "#ed7953"
             ],
             [
              0.7777777777777778,
              "#fb9f3a"
             ],
             [
              0.8888888888888888,
              "#fdca26"
             ],
             [
              1,
              "#f0f921"
             ]
            ],
            "type": "heatmapgl"
           }
          ],
          "histogram": [
           {
            "marker": {
             "pattern": {
              "fillmode": "overlay",
              "size": 10,
              "solidity": 0.2
             }
            },
            "type": "histogram"
           }
          ],
          "histogram2d": [
           {
            "colorbar": {
             "outlinewidth": 0,
             "ticks": ""
            },
            "colorscale": [
             [
              0,
              "#0d0887"
             ],
             [
              0.1111111111111111,
              "#46039f"
             ],
             [
              0.2222222222222222,
              "#7201a8"
             ],
             [
              0.3333333333333333,
              "#9c179e"
             ],
             [
              0.4444444444444444,
              "#bd3786"
             ],
             [
              0.5555555555555556,
              "#d8576b"
             ],
             [
              0.6666666666666666,
              "#ed7953"
             ],
             [
              0.7777777777777778,
              "#fb9f3a"
             ],
             [
              0.8888888888888888,
              "#fdca26"
             ],
             [
              1,
              "#f0f921"
             ]
            ],
            "type": "histogram2d"
           }
          ],
          "histogram2dcontour": [
           {
            "colorbar": {
             "outlinewidth": 0,
             "ticks": ""
            },
            "colorscale": [
             [
              0,
              "#0d0887"
             ],
             [
              0.1111111111111111,
              "#46039f"
             ],
             [
              0.2222222222222222,
              "#7201a8"
             ],
             [
              0.3333333333333333,
              "#9c179e"
             ],
             [
              0.4444444444444444,
              "#bd3786"
             ],
             [
              0.5555555555555556,
              "#d8576b"
             ],
             [
              0.6666666666666666,
              "#ed7953"
             ],
             [
              0.7777777777777778,
              "#fb9f3a"
             ],
             [
              0.8888888888888888,
              "#fdca26"
             ],
             [
              1,
              "#f0f921"
             ]
            ],
            "type": "histogram2dcontour"
           }
          ],
          "mesh3d": [
           {
            "colorbar": {
             "outlinewidth": 0,
             "ticks": ""
            },
            "type": "mesh3d"
           }
          ],
          "parcoords": [
           {
            "line": {
             "colorbar": {
              "outlinewidth": 0,
              "ticks": ""
             }
            },
            "type": "parcoords"
           }
          ],
          "pie": [
           {
            "automargin": true,
            "type": "pie"
           }
          ],
          "scatter": [
           {
            "fillpattern": {
             "fillmode": "overlay",
             "size": 10,
             "solidity": 0.2
            },
            "type": "scatter"
           }
          ],
          "scatter3d": [
           {
            "line": {
             "colorbar": {
              "outlinewidth": 0,
              "ticks": ""
             }
            },
            "marker": {
             "colorbar": {
              "outlinewidth": 0,
              "ticks": ""
             }
            },
            "type": "scatter3d"
           }
          ],
          "scattercarpet": [
           {
            "marker": {
             "colorbar": {
              "outlinewidth": 0,
              "ticks": ""
             }
            },
            "type": "scattercarpet"
           }
          ],
          "scattergeo": [
           {
            "marker": {
             "colorbar": {
              "outlinewidth": 0,
              "ticks": ""
             }
            },
            "type": "scattergeo"
           }
          ],
          "scattergl": [
           {
            "marker": {
             "colorbar": {
              "outlinewidth": 0,
              "ticks": ""
             }
            },
            "type": "scattergl"
           }
          ],
          "scattermapbox": [
           {
            "marker": {
             "colorbar": {
              "outlinewidth": 0,
              "ticks": ""
             }
            },
            "type": "scattermapbox"
           }
          ],
          "scatterpolar": [
           {
            "marker": {
             "colorbar": {
              "outlinewidth": 0,
              "ticks": ""
             }
            },
            "type": "scatterpolar"
           }
          ],
          "scatterpolargl": [
           {
            "marker": {
             "colorbar": {
              "outlinewidth": 0,
              "ticks": ""
             }
            },
            "type": "scatterpolargl"
           }
          ],
          "scatterternary": [
           {
            "marker": {
             "colorbar": {
              "outlinewidth": 0,
              "ticks": ""
             }
            },
            "type": "scatterternary"
           }
          ],
          "surface": [
           {
            "colorbar": {
             "outlinewidth": 0,
             "ticks": ""
            },
            "colorscale": [
             [
              0,
              "#0d0887"
             ],
             [
              0.1111111111111111,
              "#46039f"
             ],
             [
              0.2222222222222222,
              "#7201a8"
             ],
             [
              0.3333333333333333,
              "#9c179e"
             ],
             [
              0.4444444444444444,
              "#bd3786"
             ],
             [
              0.5555555555555556,
              "#d8576b"
             ],
             [
              0.6666666666666666,
              "#ed7953"
             ],
             [
              0.7777777777777778,
              "#fb9f3a"
             ],
             [
              0.8888888888888888,
              "#fdca26"
             ],
             [
              1,
              "#f0f921"
             ]
            ],
            "type": "surface"
           }
          ],
          "table": [
           {
            "cells": {
             "fill": {
              "color": "#EBF0F8"
             },
             "line": {
              "color": "white"
             }
            },
            "header": {
             "fill": {
              "color": "#C8D4E3"
             },
             "line": {
              "color": "white"
             }
            },
            "type": "table"
           }
          ]
         },
         "layout": {
          "annotationdefaults": {
           "arrowcolor": "#2a3f5f",
           "arrowhead": 0,
           "arrowwidth": 1
          },
          "autotypenumbers": "strict",
          "coloraxis": {
           "colorbar": {
            "outlinewidth": 0,
            "ticks": ""
           }
          },
          "colorscale": {
           "diverging": [
            [
             0,
             "#8e0152"
            ],
            [
             0.1,
             "#c51b7d"
            ],
            [
             0.2,
             "#de77ae"
            ],
            [
             0.3,
             "#f1b6da"
            ],
            [
             0.4,
             "#fde0ef"
            ],
            [
             0.5,
             "#f7f7f7"
            ],
            [
             0.6,
             "#e6f5d0"
            ],
            [
             0.7,
             "#b8e186"
            ],
            [
             0.8,
             "#7fbc41"
            ],
            [
             0.9,
             "#4d9221"
            ],
            [
             1,
             "#276419"
            ]
           ],
           "sequential": [
            [
             0,
             "#0d0887"
            ],
            [
             0.1111111111111111,
             "#46039f"
            ],
            [
             0.2222222222222222,
             "#7201a8"
            ],
            [
             0.3333333333333333,
             "#9c179e"
            ],
            [
             0.4444444444444444,
             "#bd3786"
            ],
            [
             0.5555555555555556,
             "#d8576b"
            ],
            [
             0.6666666666666666,
             "#ed7953"
            ],
            [
             0.7777777777777778,
             "#fb9f3a"
            ],
            [
             0.8888888888888888,
             "#fdca26"
            ],
            [
             1,
             "#f0f921"
            ]
           ],
           "sequentialminus": [
            [
             0,
             "#0d0887"
            ],
            [
             0.1111111111111111,
             "#46039f"
            ],
            [
             0.2222222222222222,
             "#7201a8"
            ],
            [
             0.3333333333333333,
             "#9c179e"
            ],
            [
             0.4444444444444444,
             "#bd3786"
            ],
            [
             0.5555555555555556,
             "#d8576b"
            ],
            [
             0.6666666666666666,
             "#ed7953"
            ],
            [
             0.7777777777777778,
             "#fb9f3a"
            ],
            [
             0.8888888888888888,
             "#fdca26"
            ],
            [
             1,
             "#f0f921"
            ]
           ]
          },
          "colorway": [
           "#636efa",
           "#EF553B",
           "#00cc96",
           "#ab63fa",
           "#FFA15A",
           "#19d3f3",
           "#FF6692",
           "#B6E880",
           "#FF97FF",
           "#FECB52"
          ],
          "font": {
           "color": "#2a3f5f"
          },
          "geo": {
           "bgcolor": "white",
           "lakecolor": "white",
           "landcolor": "#E5ECF6",
           "showlakes": true,
           "showland": true,
           "subunitcolor": "white"
          },
          "hoverlabel": {
           "align": "left"
          },
          "hovermode": "closest",
          "mapbox": {
           "style": "light"
          },
          "paper_bgcolor": "white",
          "plot_bgcolor": "#E5ECF6",
          "polar": {
           "angularaxis": {
            "gridcolor": "white",
            "linecolor": "white",
            "ticks": ""
           },
           "bgcolor": "#E5ECF6",
           "radialaxis": {
            "gridcolor": "white",
            "linecolor": "white",
            "ticks": ""
           }
          },
          "scene": {
           "xaxis": {
            "backgroundcolor": "#E5ECF6",
            "gridcolor": "white",
            "gridwidth": 2,
            "linecolor": "white",
            "showbackground": true,
            "ticks": "",
            "zerolinecolor": "white"
           },
           "yaxis": {
            "backgroundcolor": "#E5ECF6",
            "gridcolor": "white",
            "gridwidth": 2,
            "linecolor": "white",
            "showbackground": true,
            "ticks": "",
            "zerolinecolor": "white"
           },
           "zaxis": {
            "backgroundcolor": "#E5ECF6",
            "gridcolor": "white",
            "gridwidth": 2,
            "linecolor": "white",
            "showbackground": true,
            "ticks": "",
            "zerolinecolor": "white"
           }
          },
          "shapedefaults": {
           "line": {
            "color": "#2a3f5f"
           }
          },
          "ternary": {
           "aaxis": {
            "gridcolor": "white",
            "linecolor": "white",
            "ticks": ""
           },
           "baxis": {
            "gridcolor": "white",
            "linecolor": "white",
            "ticks": ""
           },
           "bgcolor": "#E5ECF6",
           "caxis": {
            "gridcolor": "white",
            "linecolor": "white",
            "ticks": ""
           }
          },
          "title": {
           "x": 0.05
          },
          "xaxis": {
           "automargin": true,
           "gridcolor": "white",
           "linecolor": "white",
           "ticks": "",
           "title": {
            "standoff": 15
           },
           "zerolinecolor": "white",
           "zerolinewidth": 2
          },
          "yaxis": {
           "automargin": true,
           "gridcolor": "white",
           "linecolor": "white",
           "ticks": "",
           "title": {
            "standoff": 15
           },
           "zerolinecolor": "white",
           "zerolinewidth": 2
          }
         }
        },
        "title": {
         "text": "Asset Count by Market and Hour from the RL model"
        },
        "xaxis": {
         "anchor": "y",
         "domain": [
          0,
          0.94
         ],
         "title": {
          "text": "Hours"
         }
        },
        "yaxis": {
         "anchor": "x",
         "domain": [
          0,
          1
         ],
         "title": {
          "text": "Asset Count"
         }
        },
        "yaxis2": {
         "anchor": "x",
         "overlaying": "y",
         "side": "right",
         "title": {
          "text": "Total Flex Volume"
         }
        }
       }
      }
     },
     "metadata": {},
     "output_type": "display_data"
    }
   ],
   "source": [
    "make_plots_for_sol(None, sol_name= \"RL\", rl_df= bids[19])"
   ]
  },
  {
   "cell_type": "code",
   "execution_count": 408,
   "metadata": {},
   "outputs": [
    {
     "data": {
      "application/vnd.plotly.v1+json": {
       "config": {
        "plotlyServerURL": "https://plot.ly"
       },
       "data": [
        {
         "mode": "markers",
         "type": "scatter",
         "x": [
          0,
          1,
          2,
          3,
          4,
          5,
          6,
          7,
          8,
          9,
          10,
          11,
          12,
          13,
          14,
          15,
          16,
          17,
          18,
          19,
          20,
          21,
          22,
          23,
          24,
          25,
          26,
          27,
          28,
          29,
          30,
          31,
          32,
          33,
          34,
          35,
          36,
          37,
          38,
          39,
          40,
          41,
          42,
          43,
          44,
          45,
          46,
          47,
          48,
          49,
          50,
          51,
          52,
          53,
          54,
          55,
          56,
          57,
          58,
          59,
          60,
          61,
          62,
          63,
          64,
          65,
          66,
          67,
          68,
          69,
          70,
          71,
          72,
          73,
          74,
          75,
          76,
          77,
          78,
          79,
          80,
          81,
          82,
          83,
          84,
          85,
          86,
          87,
          88,
          89,
          90,
          91,
          92,
          93,
          94,
          95,
          96,
          97,
          98,
          99
         ],
         "y": [
          4415.608451030001,
          5015.354442220002,
          4251.289326610001,
          4768.486587200002,
          4435.323067749999,
          4793.066720119999,
          5150.591461790002,
          5663.90419641,
          4829.15971407,
          4767.147806880001,
          5225.065003360004,
          5024.51408791,
          4930.927696639999,
          4701.707811730001,
          4846.100484709999,
          5094.190130720001,
          5076.450305059999,
          4884.9318642399985,
          5675.553203460001,
          5061.559664500001,
          5752.561383080002,
          5337.260159470001,
          5293.734974570002,
          4715.712904350001,
          5455.77438208,
          5877.791655259999,
          5212.267309140001,
          4729.950528789999,
          5635.720387850001,
          4828.24381927,
          5827.035960989998,
          4611.783709429998,
          5073.134851190004,
          4914.405014070003,
          5300.3665493399985,
          4903.421345110001,
          4163.614737719999,
          4533.564821050001,
          5461.934920220003,
          4685.683358430002,
          5503.787813350002,
          4747.7068682900035,
          4245.807310340001,
          5413.215849279999,
          4931.1728437300035,
          4045.2932022200002,
          5850.689615189997,
          4745.6834071500025,
          4957.951706340002,
          5610.128156400001,
          5184.608526010003,
          4491.938846290003,
          5404.888527039999,
          4021.294994830002,
          3757.71716271,
          6092.47677519,
          4877.928277430001,
          5483.387030410002,
          5098.466637750002,
          5293.597754240001,
          4753.679682290002,
          5242.797755489999,
          5718.2971554099995,
          5420.348017500001,
          5520.60539096,
          6054.65933467,
          5618.29879566,
          6143.80696538,
          6055.7538391200005,
          5594.518208490003,
          4654.555193370001,
          5376.915484500002,
          4668.836768359998,
          6864.459120539998,
          4841.82789944,
          5485.54021341,
          5485.268322319998,
          5687.667337940003,
          4356.00491732,
          4981.420774030002,
          5522.566988899999,
          5578.47491503,
          4493.67099709,
          5761.042400219999,
          5165.997408309999,
          6887.7463252299995,
          4930.951087470003,
          6791.861808119999,
          5765.3530257799985,
          6830.513274499998,
          6898.734094739998,
          6614.15088797,
          6731.379939779999,
          6354.031272660001,
          6857.325677309998,
          6513.788191209997,
          6752.902978689997,
          6272.186599110001,
          6588.2942251999975,
          6619.897054099997
         ]
        },
        {
         "mode": "lines",
         "type": "scatter",
         "x": [
          0,
          1,
          2,
          3,
          4,
          5,
          6,
          7,
          8,
          9,
          10,
          11,
          12,
          13,
          14,
          15,
          16,
          17,
          18,
          19,
          20,
          21,
          22,
          23,
          24,
          25,
          26,
          27,
          28,
          29,
          30,
          31,
          32,
          33,
          34,
          35,
          36,
          37,
          38,
          39,
          40,
          41,
          42,
          43,
          44,
          45,
          46,
          47,
          48,
          49,
          50,
          51,
          52,
          53,
          54,
          55,
          56,
          57,
          58,
          59,
          60,
          61,
          62,
          63,
          64,
          65,
          66,
          67,
          68,
          69,
          70,
          71,
          72,
          73,
          74,
          75,
          76,
          77,
          78,
          79,
          80,
          81,
          82,
          83,
          84,
          85,
          86,
          87,
          88,
          89,
          90,
          91,
          92,
          93,
          94,
          95,
          96,
          97,
          98,
          99
         ],
         "y": [
          4415.608451030001,
          5015.354442220002,
          4251.289326610001,
          4768.486587200002,
          4435.323067749999,
          4793.066720119999,
          5150.591461790002,
          5663.90419641,
          4829.15971407,
          4767.147806880001,
          5225.065003360004,
          5024.51408791,
          4930.927696639999,
          4701.707811730001,
          4846.100484709999,
          5094.190130720001,
          5076.450305059999,
          4884.9318642399985,
          5675.553203460001,
          5061.559664500001,
          5752.561383080002,
          5337.260159470001,
          5293.734974570002,
          4715.712904350001,
          5455.77438208,
          5877.791655259999,
          5212.267309140001,
          4729.950528789999,
          5635.720387850001,
          4828.24381927,
          5827.035960989998,
          4611.783709429998,
          5073.134851190004,
          4914.405014070003,
          5300.3665493399985,
          4903.421345110001,
          4163.614737719999,
          4533.564821050001,
          5461.934920220003,
          4685.683358430002,
          5503.787813350002,
          4747.7068682900035,
          4245.807310340001,
          5413.215849279999,
          4931.1728437300035,
          4045.2932022200002,
          5850.689615189997,
          4745.6834071500025,
          4957.951706340002,
          5610.128156400001,
          5184.608526010003,
          4491.938846290003,
          5404.888527039999,
          4021.294994830002,
          3757.71716271,
          6092.47677519,
          4877.928277430001,
          5483.387030410002,
          5098.466637750002,
          5293.597754240001,
          4753.679682290002,
          5242.797755489999,
          5718.2971554099995,
          5420.348017500001,
          5520.60539096,
          6054.65933467,
          5618.29879566,
          6143.80696538,
          6055.7538391200005,
          5594.518208490003,
          4654.555193370001,
          5376.915484500002,
          4668.836768359998,
          6864.459120539998,
          4841.82789944,
          5485.54021341,
          5485.268322319998,
          5687.667337940003,
          4356.00491732,
          4981.420774030002,
          5522.566988899999,
          5578.47491503,
          4493.67099709,
          5761.042400219999,
          5165.997408309999,
          6887.7463252299995,
          4930.951087470003,
          6791.861808119999,
          5765.3530257799985,
          6830.513274499998,
          6898.734094739998,
          6614.15088797,
          6731.379939779999,
          6354.031272660001,
          6857.325677309998,
          6513.788191209997,
          6752.902978689997,
          6272.186599110001,
          6588.2942251999975,
          6619.897054099997
         ]
        }
       ],
       "layout": {
        "template": {
         "data": {
          "bar": [
           {
            "error_x": {
             "color": "#2a3f5f"
            },
            "error_y": {
             "color": "#2a3f5f"
            },
            "marker": {
             "line": {
              "color": "#E5ECF6",
              "width": 0.5
             },
             "pattern": {
              "fillmode": "overlay",
              "size": 10,
              "solidity": 0.2
             }
            },
            "type": "bar"
           }
          ],
          "barpolar": [
           {
            "marker": {
             "line": {
              "color": "#E5ECF6",
              "width": 0.5
             },
             "pattern": {
              "fillmode": "overlay",
              "size": 10,
              "solidity": 0.2
             }
            },
            "type": "barpolar"
           }
          ],
          "carpet": [
           {
            "aaxis": {
             "endlinecolor": "#2a3f5f",
             "gridcolor": "white",
             "linecolor": "white",
             "minorgridcolor": "white",
             "startlinecolor": "#2a3f5f"
            },
            "baxis": {
             "endlinecolor": "#2a3f5f",
             "gridcolor": "white",
             "linecolor": "white",
             "minorgridcolor": "white",
             "startlinecolor": "#2a3f5f"
            },
            "type": "carpet"
           }
          ],
          "choropleth": [
           {
            "colorbar": {
             "outlinewidth": 0,
             "ticks": ""
            },
            "type": "choropleth"
           }
          ],
          "contour": [
           {
            "colorbar": {
             "outlinewidth": 0,
             "ticks": ""
            },
            "colorscale": [
             [
              0,
              "#0d0887"
             ],
             [
              0.1111111111111111,
              "#46039f"
             ],
             [
              0.2222222222222222,
              "#7201a8"
             ],
             [
              0.3333333333333333,
              "#9c179e"
             ],
             [
              0.4444444444444444,
              "#bd3786"
             ],
             [
              0.5555555555555556,
              "#d8576b"
             ],
             [
              0.6666666666666666,
              "#ed7953"
             ],
             [
              0.7777777777777778,
              "#fb9f3a"
             ],
             [
              0.8888888888888888,
              "#fdca26"
             ],
             [
              1,
              "#f0f921"
             ]
            ],
            "type": "contour"
           }
          ],
          "contourcarpet": [
           {
            "colorbar": {
             "outlinewidth": 0,
             "ticks": ""
            },
            "type": "contourcarpet"
           }
          ],
          "heatmap": [
           {
            "colorbar": {
             "outlinewidth": 0,
             "ticks": ""
            },
            "colorscale": [
             [
              0,
              "#0d0887"
             ],
             [
              0.1111111111111111,
              "#46039f"
             ],
             [
              0.2222222222222222,
              "#7201a8"
             ],
             [
              0.3333333333333333,
              "#9c179e"
             ],
             [
              0.4444444444444444,
              "#bd3786"
             ],
             [
              0.5555555555555556,
              "#d8576b"
             ],
             [
              0.6666666666666666,
              "#ed7953"
             ],
             [
              0.7777777777777778,
              "#fb9f3a"
             ],
             [
              0.8888888888888888,
              "#fdca26"
             ],
             [
              1,
              "#f0f921"
             ]
            ],
            "type": "heatmap"
           }
          ],
          "heatmapgl": [
           {
            "colorbar": {
             "outlinewidth": 0,
             "ticks": ""
            },
            "colorscale": [
             [
              0,
              "#0d0887"
             ],
             [
              0.1111111111111111,
              "#46039f"
             ],
             [
              0.2222222222222222,
              "#7201a8"
             ],
             [
              0.3333333333333333,
              "#9c179e"
             ],
             [
              0.4444444444444444,
              "#bd3786"
             ],
             [
              0.5555555555555556,
              "#d8576b"
             ],
             [
              0.6666666666666666,
              "#ed7953"
             ],
             [
              0.7777777777777778,
              "#fb9f3a"
             ],
             [
              0.8888888888888888,
              "#fdca26"
             ],
             [
              1,
              "#f0f921"
             ]
            ],
            "type": "heatmapgl"
           }
          ],
          "histogram": [
           {
            "marker": {
             "pattern": {
              "fillmode": "overlay",
              "size": 10,
              "solidity": 0.2
             }
            },
            "type": "histogram"
           }
          ],
          "histogram2d": [
           {
            "colorbar": {
             "outlinewidth": 0,
             "ticks": ""
            },
            "colorscale": [
             [
              0,
              "#0d0887"
             ],
             [
              0.1111111111111111,
              "#46039f"
             ],
             [
              0.2222222222222222,
              "#7201a8"
             ],
             [
              0.3333333333333333,
              "#9c179e"
             ],
             [
              0.4444444444444444,
              "#bd3786"
             ],
             [
              0.5555555555555556,
              "#d8576b"
             ],
             [
              0.6666666666666666,
              "#ed7953"
             ],
             [
              0.7777777777777778,
              "#fb9f3a"
             ],
             [
              0.8888888888888888,
              "#fdca26"
             ],
             [
              1,
              "#f0f921"
             ]
            ],
            "type": "histogram2d"
           }
          ],
          "histogram2dcontour": [
           {
            "colorbar": {
             "outlinewidth": 0,
             "ticks": ""
            },
            "colorscale": [
             [
              0,
              "#0d0887"
             ],
             [
              0.1111111111111111,
              "#46039f"
             ],
             [
              0.2222222222222222,
              "#7201a8"
             ],
             [
              0.3333333333333333,
              "#9c179e"
             ],
             [
              0.4444444444444444,
              "#bd3786"
             ],
             [
              0.5555555555555556,
              "#d8576b"
             ],
             [
              0.6666666666666666,
              "#ed7953"
             ],
             [
              0.7777777777777778,
              "#fb9f3a"
             ],
             [
              0.8888888888888888,
              "#fdca26"
             ],
             [
              1,
              "#f0f921"
             ]
            ],
            "type": "histogram2dcontour"
           }
          ],
          "mesh3d": [
           {
            "colorbar": {
             "outlinewidth": 0,
             "ticks": ""
            },
            "type": "mesh3d"
           }
          ],
          "parcoords": [
           {
            "line": {
             "colorbar": {
              "outlinewidth": 0,
              "ticks": ""
             }
            },
            "type": "parcoords"
           }
          ],
          "pie": [
           {
            "automargin": true,
            "type": "pie"
           }
          ],
          "scatter": [
           {
            "fillpattern": {
             "fillmode": "overlay",
             "size": 10,
             "solidity": 0.2
            },
            "type": "scatter"
           }
          ],
          "scatter3d": [
           {
            "line": {
             "colorbar": {
              "outlinewidth": 0,
              "ticks": ""
             }
            },
            "marker": {
             "colorbar": {
              "outlinewidth": 0,
              "ticks": ""
             }
            },
            "type": "scatter3d"
           }
          ],
          "scattercarpet": [
           {
            "marker": {
             "colorbar": {
              "outlinewidth": 0,
              "ticks": ""
             }
            },
            "type": "scattercarpet"
           }
          ],
          "scattergeo": [
           {
            "marker": {
             "colorbar": {
              "outlinewidth": 0,
              "ticks": ""
             }
            },
            "type": "scattergeo"
           }
          ],
          "scattergl": [
           {
            "marker": {
             "colorbar": {
              "outlinewidth": 0,
              "ticks": ""
             }
            },
            "type": "scattergl"
           }
          ],
          "scattermapbox": [
           {
            "marker": {
             "colorbar": {
              "outlinewidth": 0,
              "ticks": ""
             }
            },
            "type": "scattermapbox"
           }
          ],
          "scatterpolar": [
           {
            "marker": {
             "colorbar": {
              "outlinewidth": 0,
              "ticks": ""
             }
            },
            "type": "scatterpolar"
           }
          ],
          "scatterpolargl": [
           {
            "marker": {
             "colorbar": {
              "outlinewidth": 0,
              "ticks": ""
             }
            },
            "type": "scatterpolargl"
           }
          ],
          "scatterternary": [
           {
            "marker": {
             "colorbar": {
              "outlinewidth": 0,
              "ticks": ""
             }
            },
            "type": "scatterternary"
           }
          ],
          "surface": [
           {
            "colorbar": {
             "outlinewidth": 0,
             "ticks": ""
            },
            "colorscale": [
             [
              0,
              "#0d0887"
             ],
             [
              0.1111111111111111,
              "#46039f"
             ],
             [
              0.2222222222222222,
              "#7201a8"
             ],
             [
              0.3333333333333333,
              "#9c179e"
             ],
             [
              0.4444444444444444,
              "#bd3786"
             ],
             [
              0.5555555555555556,
              "#d8576b"
             ],
             [
              0.6666666666666666,
              "#ed7953"
             ],
             [
              0.7777777777777778,
              "#fb9f3a"
             ],
             [
              0.8888888888888888,
              "#fdca26"
             ],
             [
              1,
              "#f0f921"
             ]
            ],
            "type": "surface"
           }
          ],
          "table": [
           {
            "cells": {
             "fill": {
              "color": "#EBF0F8"
             },
             "line": {
              "color": "white"
             }
            },
            "header": {
             "fill": {
              "color": "#C8D4E3"
             },
             "line": {
              "color": "white"
             }
            },
            "type": "table"
           }
          ]
         },
         "layout": {
          "annotationdefaults": {
           "arrowcolor": "#2a3f5f",
           "arrowhead": 0,
           "arrowwidth": 1
          },
          "autotypenumbers": "strict",
          "coloraxis": {
           "colorbar": {
            "outlinewidth": 0,
            "ticks": ""
           }
          },
          "colorscale": {
           "diverging": [
            [
             0,
             "#8e0152"
            ],
            [
             0.1,
             "#c51b7d"
            ],
            [
             0.2,
             "#de77ae"
            ],
            [
             0.3,
             "#f1b6da"
            ],
            [
             0.4,
             "#fde0ef"
            ],
            [
             0.5,
             "#f7f7f7"
            ],
            [
             0.6,
             "#e6f5d0"
            ],
            [
             0.7,
             "#b8e186"
            ],
            [
             0.8,
             "#7fbc41"
            ],
            [
             0.9,
             "#4d9221"
            ],
            [
             1,
             "#276419"
            ]
           ],
           "sequential": [
            [
             0,
             "#0d0887"
            ],
            [
             0.1111111111111111,
             "#46039f"
            ],
            [
             0.2222222222222222,
             "#7201a8"
            ],
            [
             0.3333333333333333,
             "#9c179e"
            ],
            [
             0.4444444444444444,
             "#bd3786"
            ],
            [
             0.5555555555555556,
             "#d8576b"
            ],
            [
             0.6666666666666666,
             "#ed7953"
            ],
            [
             0.7777777777777778,
             "#fb9f3a"
            ],
            [
             0.8888888888888888,
             "#fdca26"
            ],
            [
             1,
             "#f0f921"
            ]
           ],
           "sequentialminus": [
            [
             0,
             "#0d0887"
            ],
            [
             0.1111111111111111,
             "#46039f"
            ],
            [
             0.2222222222222222,
             "#7201a8"
            ],
            [
             0.3333333333333333,
             "#9c179e"
            ],
            [
             0.4444444444444444,
             "#bd3786"
            ],
            [
             0.5555555555555556,
             "#d8576b"
            ],
            [
             0.6666666666666666,
             "#ed7953"
            ],
            [
             0.7777777777777778,
             "#fb9f3a"
            ],
            [
             0.8888888888888888,
             "#fdca26"
            ],
            [
             1,
             "#f0f921"
            ]
           ]
          },
          "colorway": [
           "#636efa",
           "#EF553B",
           "#00cc96",
           "#ab63fa",
           "#FFA15A",
           "#19d3f3",
           "#FF6692",
           "#B6E880",
           "#FF97FF",
           "#FECB52"
          ],
          "font": {
           "color": "#2a3f5f"
          },
          "geo": {
           "bgcolor": "white",
           "lakecolor": "white",
           "landcolor": "#E5ECF6",
           "showlakes": true,
           "showland": true,
           "subunitcolor": "white"
          },
          "hoverlabel": {
           "align": "left"
          },
          "hovermode": "closest",
          "mapbox": {
           "style": "light"
          },
          "paper_bgcolor": "white",
          "plot_bgcolor": "#E5ECF6",
          "polar": {
           "angularaxis": {
            "gridcolor": "white",
            "linecolor": "white",
            "ticks": ""
           },
           "bgcolor": "#E5ECF6",
           "radialaxis": {
            "gridcolor": "white",
            "linecolor": "white",
            "ticks": ""
           }
          },
          "scene": {
           "xaxis": {
            "backgroundcolor": "#E5ECF6",
            "gridcolor": "white",
            "gridwidth": 2,
            "linecolor": "white",
            "showbackground": true,
            "ticks": "",
            "zerolinecolor": "white"
           },
           "yaxis": {
            "backgroundcolor": "#E5ECF6",
            "gridcolor": "white",
            "gridwidth": 2,
            "linecolor": "white",
            "showbackground": true,
            "ticks": "",
            "zerolinecolor": "white"
           },
           "zaxis": {
            "backgroundcolor": "#E5ECF6",
            "gridcolor": "white",
            "gridwidth": 2,
            "linecolor": "white",
            "showbackground": true,
            "ticks": "",
            "zerolinecolor": "white"
           }
          },
          "shapedefaults": {
           "line": {
            "color": "#2a3f5f"
           }
          },
          "ternary": {
           "aaxis": {
            "gridcolor": "white",
            "linecolor": "white",
            "ticks": ""
           },
           "baxis": {
            "gridcolor": "white",
            "linecolor": "white",
            "ticks": ""
           },
           "bgcolor": "#E5ECF6",
           "caxis": {
            "gridcolor": "white",
            "linecolor": "white",
            "ticks": ""
           }
          },
          "title": {
           "x": 0.05
          },
          "xaxis": {
           "automargin": true,
           "gridcolor": "white",
           "linecolor": "white",
           "ticks": "",
           "title": {
            "standoff": 15
           },
           "zerolinecolor": "white",
           "zerolinewidth": 2
          },
          "yaxis": {
           "automargin": true,
           "gridcolor": "white",
           "linecolor": "white",
           "ticks": "",
           "title": {
            "standoff": 15
           },
           "zerolinecolor": "white",
           "zerolinewidth": 2
          }
         }
        },
        "title": {
         "text": "Revenue per episode for RL model"
        },
        "xaxis": {
         "title": {
          "text": "Episode"
         }
        },
        "yaxis": {
         "title": {
          "text": "Revenue"
         }
        }
       }
      }
     },
     "metadata": {},
     "output_type": "display_data"
    }
   ],
   "source": [
    "fig = go.Figure()\n",
    "fig.add_trace(go.Scatter(x= [i for i in range(len(revenues.keys()))], y= [i for i in revenues.values()], mode= \"markers\"))\n",
    "# add title and axis labels\n",
    "fig.update_layout(title_text=\"Revenue per episode for RL model\", xaxis_title=\"Episode\", yaxis_title=\"Revenue\")\n",
    "# add a regression line for the revenue values for each episode.\n",
    "fig.add_trace(go.Scatter(x= [i for i in range(len(revenues.keys()))], y= [i for i in revenues.values()], mode= \"lines\"))\n",
    "fig.show()"
   ]
  },
  {
   "cell_type": "code",
   "execution_count": 406,
   "metadata": {},
   "outputs": [
    {
     "data": {
      "application/vnd.plotly.v1+json": {
       "config": {
        "plotlyServerURL": "https://plot.ly"
       },
       "data": [
        {
         "mode": "markers",
         "name": "weight 0",
         "type": "scatter",
         "x": [
          0,
          1,
          2,
          3,
          4,
          5,
          6,
          7,
          8,
          9,
          10,
          11,
          12,
          13,
          14,
          15,
          16,
          17,
          18,
          19,
          20,
          21,
          22,
          23,
          24,
          25,
          26,
          27,
          28,
          29,
          30,
          31,
          32,
          33,
          34,
          35,
          36,
          37,
          38,
          39,
          40,
          41,
          42,
          43,
          44,
          45,
          46,
          47,
          48,
          49,
          50,
          51,
          52,
          53,
          54,
          55,
          56,
          57,
          58,
          59,
          60,
          61,
          62,
          63,
          64,
          65,
          66,
          67,
          68,
          69,
          70,
          71,
          72,
          73,
          74,
          75,
          76,
          77,
          78,
          79,
          80,
          81,
          82,
          83,
          84,
          85,
          86,
          87,
          88,
          89,
          90,
          91,
          92,
          93,
          94,
          95,
          96,
          97,
          98,
          99
         ],
         "y": [
          6.979415060086853,
          7.1537180625338195,
          5.40954872466716,
          7.957290156194003,
          4.886274561657062,
          10.047289351365325,
          8.9229341874312,
          7.8303669840555346,
          6.08244010520488,
          9.261063515007946,
          6.956185077127977,
          6.353320566460697,
          6.668018960632712,
          5.776256680297262,
          6.957051549538019,
          5.623743759648405,
          7.596896122826394,
          7.573014541075051,
          8.766306734470044,
          8.16580101510387,
          7.828831660062169,
          7.661856882401464,
          9.600121525018979,
          6.124611038049121,
          6.915878335829148,
          6.02760812012633,
          8.13961576981589,
          5.466827121320344,
          7.310853521723758,
          5.884701063022684,
          7.0548087627390474,
          5.619699417087051,
          7.821702458140061,
          5.725302504340145,
          6.288338922409817,
          4.148304667768104,
          5.368969544389181,
          6.877067321927086,
          6.892364306117329,
          4.889294717826799,
          6.459767343580616,
          6.201134030002107,
          5.49298168209087,
          5.881749201311204,
          6.915209270249475,
          5.144406345557341,
          6.857413009022493,
          6.537747246565999,
          4.975087709086788,
          5.811148796814862,
          6.0775677332441305,
          4.916233329757686,
          5.26646319560509,
          5.4908011653756486,
          4.72817007426655,
          6.038382728110859,
          4.819903242148104,
          5.12644896672746,
          4.673096260676628,
          5.544133342097554,
          4.606703582318511,
          4.901838242474729,
          5.073996683113922,
          4.6005520643463536,
          5.108178902345315,
          6.408382919599144,
          5.795742464558208,
          5.465208346308493,
          6.236842110705276,
          6.691341162021998,
          5.681561992510478,
          5.727838833594635,
          4.727477447824832,
          5.6162282361769655,
          5.712722667096482,
          5.725326619899403,
          5.472403133457544,
          6.287263503504511,
          6.026329316106246,
          5.855649458115561,
          6.073424867555848,
          6.307531771456136,
          5.118746519773155,
          5.521074973079508,
          5.083824658413331,
          5.359855397352874,
          4.653158434092163,
          5.021611168090158,
          5.132791158702704,
          5.272133834616608,
          5.3825528832331795,
          5.347934023870958,
          5.3998005016044806,
          5.500497546704592,
          5.416062909697539,
          5.452529679375301,
          5.415303846167648,
          5.3899956628508345,
          5.254762011520631,
          5.260073480972343
         ]
        },
        {
         "mode": "markers",
         "name": "weight 1",
         "type": "scatter",
         "x": [
          0,
          1,
          2,
          3,
          4,
          5,
          6,
          7,
          8,
          9,
          10,
          11,
          12,
          13,
          14,
          15,
          16,
          17,
          18,
          19,
          20,
          21,
          22,
          23,
          24,
          25,
          26,
          27,
          28,
          29,
          30,
          31,
          32,
          33,
          34,
          35,
          36,
          37,
          38,
          39,
          40,
          41,
          42,
          43,
          44,
          45,
          46,
          47,
          48,
          49,
          50,
          51,
          52,
          53,
          54,
          55,
          56,
          57,
          58,
          59,
          60,
          61,
          62,
          63,
          64,
          65,
          66,
          67,
          68,
          69,
          70,
          71,
          72,
          73,
          74,
          75,
          76,
          77,
          78,
          79,
          80,
          81,
          82,
          83,
          84,
          85,
          86,
          87,
          88,
          89,
          90,
          91,
          92,
          93,
          94,
          95,
          96,
          97,
          98,
          99
         ],
         "y": [
          8.014487805748544,
          7.675741915191059,
          5.418608736442786,
          7.52351109313954,
          4.430092789284035,
          9.63812627612588,
          9.300439772965309,
          8.425139359307838,
          5.136423934931811,
          8.959869689370255,
          6.907554584363027,
          6.352829715686932,
          6.346520037447518,
          5.65165941209953,
          6.793454584775342,
          5.029776746812561,
          6.646632714890842,
          7.249247681255313,
          8.07954261698148,
          7.596246651574957,
          7.142375743657508,
          6.778250820415164,
          8.987361856368189,
          6.0070123395442145,
          6.332230442825851,
          5.6894694091924,
          7.8099656448142545,
          5.13983455515499,
          6.449856660569375,
          5.765741676172208,
          6.221378410533866,
          6.069294943973841,
          7.550539480507015,
          5.388515564553805,
          6.286145980606108,
          3.9082379888325502,
          5.4593716415360305,
          6.465299498458084,
          6.395570995245844,
          4.736332049858856,
          6.802931223516245,
          5.672912679326274,
          5.452666592252892,
          5.431022356552876,
          6.1697307702682975,
          5.024583830683848,
          6.2285170292198675,
          6.454547565454522,
          5.225576420534551,
          5.834300011397814,
          5.951527758701979,
          4.888561732414893,
          5.191759322157749,
          5.2964856016139725,
          4.493914929008369,
          5.513944273746377,
          5.160856951539966,
          5.303580585417998,
          4.954953515655615,
          5.417919927125968,
          4.951168652495535,
          4.865400473462767,
          5.395586927970196,
          4.5292945856843305,
          5.442726919216022,
          6.069133593169283,
          5.80006077390776,
          5.411983564181614,
          6.121782888341156,
          7.06752732009639,
          5.547039690873938,
          5.840865495053766,
          4.508220554159257,
          5.902059603634256,
          5.675953244309303,
          5.50548239990087,
          5.416196961057913,
          6.218997280941661,
          6.065478913121722,
          5.892469292002841,
          6.300350313541383,
          6.682017867365407,
          5.087807228341227,
          5.689459688599766,
          5.06956266470272,
          5.930773227520512,
          4.637086889596764,
          5.483755882827179,
          4.98681314444988,
          4.937803680114688,
          5.572836128616936,
          5.521427781534462,
          5.800692562057796,
          5.391599574780199,
          5.647200351132142,
          5.462731423092281,
          5.530073767368862,
          5.270803869791053,
          5.3155618918891,
          5.273674371888507
         ]
        },
        {
         "mode": "markers",
         "name": "weight 2",
         "type": "scatter",
         "x": [
          0,
          1,
          2,
          3,
          4,
          5,
          6,
          7,
          8,
          9,
          10,
          11,
          12,
          13,
          14,
          15,
          16,
          17,
          18,
          19,
          20,
          21,
          22,
          23,
          24,
          25,
          26,
          27,
          28,
          29,
          30,
          31,
          32,
          33,
          34,
          35,
          36,
          37,
          38,
          39,
          40,
          41,
          42,
          43,
          44,
          45,
          46,
          47,
          48,
          49,
          50,
          51,
          52,
          53,
          54,
          55,
          56,
          57,
          58,
          59,
          60,
          61,
          62,
          63,
          64,
          65,
          66,
          67,
          68,
          69,
          70,
          71,
          72,
          73,
          74,
          75,
          76,
          77,
          78,
          79,
          80,
          81,
          82,
          83,
          84,
          85,
          86,
          87,
          88,
          89,
          90,
          91,
          92,
          93,
          94,
          95,
          96,
          97,
          98,
          99
         ],
         "y": [
          6.89522428244134,
          6.81024318699034,
          5.089057245548359,
          6.867348000372642,
          4.768121978681144,
          8.798343597838013,
          8.143407157689303,
          7.388573847789,
          5.515456737270609,
          8.680241825240312,
          6.937788876460642,
          5.618183385710803,
          6.063310960738169,
          6.044606641071187,
          6.572360480664829,
          5.315705012084194,
          6.59353943080937,
          7.5724343145037345,
          8.437945651955221,
          8.554835788175662,
          6.982905470016156,
          6.957467666013853,
          8.703858787037843,
          6.630847518832663,
          7.068936837039141,
          5.512631805457675,
          7.3545813812130625,
          5.608322242224713,
          6.908045912252972,
          6.16448435388409,
          6.4945960813782735,
          5.506648715125099,
          7.443299459073755,
          5.321258871616598,
          6.21351993585555,
          4.017069564323226,
          5.454297119457232,
          7.518383152302457,
          6.895989131514609,
          4.724021393957863,
          6.213558811765099,
          5.669824978915118,
          5.869126450714999,
          5.381826058673021,
          5.77768958227837,
          5.5253476280701515,
          6.03535493901096,
          6.91588050606217,
          5.29223292787817,
          6.104506198859306,
          5.434002076009543,
          5.350556462978499,
          5.1872268078173835,
          5.413362093812596,
          5.180377364729559,
          5.616999272988275,
          4.7927550385468844,
          5.288287242789288,
          4.571243598732765,
          5.107060474463031,
          4.583115903922612,
          5.2343563198603436,
          5.080259895925817,
          4.910974405139605,
          5.051189853532192,
          6.4704611856968155,
          6.381252941532487,
          5.762428171201335,
          6.61343716987961,
          6.8937384810965,
          6.270238741018321,
          6.285384426572045,
          5.333370277363197,
          6.078632167907547,
          6.221439113155771,
          6.154982505884339,
          5.8032124048068106,
          6.340117576026152,
          6.133026842915214,
          6.122075454428201,
          6.420831634478398,
          6.668143504709356,
          6.075081901679047,
          6.087236159388818,
          5.730087102001165,
          6.233139399847968,
          5.476253361208148,
          5.9801009320806395,
          5.527739897231313,
          5.95916348866059,
          5.92752790920662,
          6.3066105662687315,
          6.020705889069905,
          6.12197351410044,
          5.999399995359376,
          6.083424642713659,
          5.962613497678706,
          5.8963729923613615,
          5.938878441850667,
          5.92544387908778
         ]
        }
       ],
       "layout": {
        "template": {
         "data": {
          "bar": [
           {
            "error_x": {
             "color": "#2a3f5f"
            },
            "error_y": {
             "color": "#2a3f5f"
            },
            "marker": {
             "line": {
              "color": "#E5ECF6",
              "width": 0.5
             },
             "pattern": {
              "fillmode": "overlay",
              "size": 10,
              "solidity": 0.2
             }
            },
            "type": "bar"
           }
          ],
          "barpolar": [
           {
            "marker": {
             "line": {
              "color": "#E5ECF6",
              "width": 0.5
             },
             "pattern": {
              "fillmode": "overlay",
              "size": 10,
              "solidity": 0.2
             }
            },
            "type": "barpolar"
           }
          ],
          "carpet": [
           {
            "aaxis": {
             "endlinecolor": "#2a3f5f",
             "gridcolor": "white",
             "linecolor": "white",
             "minorgridcolor": "white",
             "startlinecolor": "#2a3f5f"
            },
            "baxis": {
             "endlinecolor": "#2a3f5f",
             "gridcolor": "white",
             "linecolor": "white",
             "minorgridcolor": "white",
             "startlinecolor": "#2a3f5f"
            },
            "type": "carpet"
           }
          ],
          "choropleth": [
           {
            "colorbar": {
             "outlinewidth": 0,
             "ticks": ""
            },
            "type": "choropleth"
           }
          ],
          "contour": [
           {
            "colorbar": {
             "outlinewidth": 0,
             "ticks": ""
            },
            "colorscale": [
             [
              0,
              "#0d0887"
             ],
             [
              0.1111111111111111,
              "#46039f"
             ],
             [
              0.2222222222222222,
              "#7201a8"
             ],
             [
              0.3333333333333333,
              "#9c179e"
             ],
             [
              0.4444444444444444,
              "#bd3786"
             ],
             [
              0.5555555555555556,
              "#d8576b"
             ],
             [
              0.6666666666666666,
              "#ed7953"
             ],
             [
              0.7777777777777778,
              "#fb9f3a"
             ],
             [
              0.8888888888888888,
              "#fdca26"
             ],
             [
              1,
              "#f0f921"
             ]
            ],
            "type": "contour"
           }
          ],
          "contourcarpet": [
           {
            "colorbar": {
             "outlinewidth": 0,
             "ticks": ""
            },
            "type": "contourcarpet"
           }
          ],
          "heatmap": [
           {
            "colorbar": {
             "outlinewidth": 0,
             "ticks": ""
            },
            "colorscale": [
             [
              0,
              "#0d0887"
             ],
             [
              0.1111111111111111,
              "#46039f"
             ],
             [
              0.2222222222222222,
              "#7201a8"
             ],
             [
              0.3333333333333333,
              "#9c179e"
             ],
             [
              0.4444444444444444,
              "#bd3786"
             ],
             [
              0.5555555555555556,
              "#d8576b"
             ],
             [
              0.6666666666666666,
              "#ed7953"
             ],
             [
              0.7777777777777778,
              "#fb9f3a"
             ],
             [
              0.8888888888888888,
              "#fdca26"
             ],
             [
              1,
              "#f0f921"
             ]
            ],
            "type": "heatmap"
           }
          ],
          "heatmapgl": [
           {
            "colorbar": {
             "outlinewidth": 0,
             "ticks": ""
            },
            "colorscale": [
             [
              0,
              "#0d0887"
             ],
             [
              0.1111111111111111,
              "#46039f"
             ],
             [
              0.2222222222222222,
              "#7201a8"
             ],
             [
              0.3333333333333333,
              "#9c179e"
             ],
             [
              0.4444444444444444,
              "#bd3786"
             ],
             [
              0.5555555555555556,
              "#d8576b"
             ],
             [
              0.6666666666666666,
              "#ed7953"
             ],
             [
              0.7777777777777778,
              "#fb9f3a"
             ],
             [
              0.8888888888888888,
              "#fdca26"
             ],
             [
              1,
              "#f0f921"
             ]
            ],
            "type": "heatmapgl"
           }
          ],
          "histogram": [
           {
            "marker": {
             "pattern": {
              "fillmode": "overlay",
              "size": 10,
              "solidity": 0.2
             }
            },
            "type": "histogram"
           }
          ],
          "histogram2d": [
           {
            "colorbar": {
             "outlinewidth": 0,
             "ticks": ""
            },
            "colorscale": [
             [
              0,
              "#0d0887"
             ],
             [
              0.1111111111111111,
              "#46039f"
             ],
             [
              0.2222222222222222,
              "#7201a8"
             ],
             [
              0.3333333333333333,
              "#9c179e"
             ],
             [
              0.4444444444444444,
              "#bd3786"
             ],
             [
              0.5555555555555556,
              "#d8576b"
             ],
             [
              0.6666666666666666,
              "#ed7953"
             ],
             [
              0.7777777777777778,
              "#fb9f3a"
             ],
             [
              0.8888888888888888,
              "#fdca26"
             ],
             [
              1,
              "#f0f921"
             ]
            ],
            "type": "histogram2d"
           }
          ],
          "histogram2dcontour": [
           {
            "colorbar": {
             "outlinewidth": 0,
             "ticks": ""
            },
            "colorscale": [
             [
              0,
              "#0d0887"
             ],
             [
              0.1111111111111111,
              "#46039f"
             ],
             [
              0.2222222222222222,
              "#7201a8"
             ],
             [
              0.3333333333333333,
              "#9c179e"
             ],
             [
              0.4444444444444444,
              "#bd3786"
             ],
             [
              0.5555555555555556,
              "#d8576b"
             ],
             [
              0.6666666666666666,
              "#ed7953"
             ],
             [
              0.7777777777777778,
              "#fb9f3a"
             ],
             [
              0.8888888888888888,
              "#fdca26"
             ],
             [
              1,
              "#f0f921"
             ]
            ],
            "type": "histogram2dcontour"
           }
          ],
          "mesh3d": [
           {
            "colorbar": {
             "outlinewidth": 0,
             "ticks": ""
            },
            "type": "mesh3d"
           }
          ],
          "parcoords": [
           {
            "line": {
             "colorbar": {
              "outlinewidth": 0,
              "ticks": ""
             }
            },
            "type": "parcoords"
           }
          ],
          "pie": [
           {
            "automargin": true,
            "type": "pie"
           }
          ],
          "scatter": [
           {
            "fillpattern": {
             "fillmode": "overlay",
             "size": 10,
             "solidity": 0.2
            },
            "type": "scatter"
           }
          ],
          "scatter3d": [
           {
            "line": {
             "colorbar": {
              "outlinewidth": 0,
              "ticks": ""
             }
            },
            "marker": {
             "colorbar": {
              "outlinewidth": 0,
              "ticks": ""
             }
            },
            "type": "scatter3d"
           }
          ],
          "scattercarpet": [
           {
            "marker": {
             "colorbar": {
              "outlinewidth": 0,
              "ticks": ""
             }
            },
            "type": "scattercarpet"
           }
          ],
          "scattergeo": [
           {
            "marker": {
             "colorbar": {
              "outlinewidth": 0,
              "ticks": ""
             }
            },
            "type": "scattergeo"
           }
          ],
          "scattergl": [
           {
            "marker": {
             "colorbar": {
              "outlinewidth": 0,
              "ticks": ""
             }
            },
            "type": "scattergl"
           }
          ],
          "scattermapbox": [
           {
            "marker": {
             "colorbar": {
              "outlinewidth": 0,
              "ticks": ""
             }
            },
            "type": "scattermapbox"
           }
          ],
          "scatterpolar": [
           {
            "marker": {
             "colorbar": {
              "outlinewidth": 0,
              "ticks": ""
             }
            },
            "type": "scatterpolar"
           }
          ],
          "scatterpolargl": [
           {
            "marker": {
             "colorbar": {
              "outlinewidth": 0,
              "ticks": ""
             }
            },
            "type": "scatterpolargl"
           }
          ],
          "scatterternary": [
           {
            "marker": {
             "colorbar": {
              "outlinewidth": 0,
              "ticks": ""
             }
            },
            "type": "scatterternary"
           }
          ],
          "surface": [
           {
            "colorbar": {
             "outlinewidth": 0,
             "ticks": ""
            },
            "colorscale": [
             [
              0,
              "#0d0887"
             ],
             [
              0.1111111111111111,
              "#46039f"
             ],
             [
              0.2222222222222222,
              "#7201a8"
             ],
             [
              0.3333333333333333,
              "#9c179e"
             ],
             [
              0.4444444444444444,
              "#bd3786"
             ],
             [
              0.5555555555555556,
              "#d8576b"
             ],
             [
              0.6666666666666666,
              "#ed7953"
             ],
             [
              0.7777777777777778,
              "#fb9f3a"
             ],
             [
              0.8888888888888888,
              "#fdca26"
             ],
             [
              1,
              "#f0f921"
             ]
            ],
            "type": "surface"
           }
          ],
          "table": [
           {
            "cells": {
             "fill": {
              "color": "#EBF0F8"
             },
             "line": {
              "color": "white"
             }
            },
            "header": {
             "fill": {
              "color": "#C8D4E3"
             },
             "line": {
              "color": "white"
             }
            },
            "type": "table"
           }
          ]
         },
         "layout": {
          "annotationdefaults": {
           "arrowcolor": "#2a3f5f",
           "arrowhead": 0,
           "arrowwidth": 1
          },
          "autotypenumbers": "strict",
          "coloraxis": {
           "colorbar": {
            "outlinewidth": 0,
            "ticks": ""
           }
          },
          "colorscale": {
           "diverging": [
            [
             0,
             "#8e0152"
            ],
            [
             0.1,
             "#c51b7d"
            ],
            [
             0.2,
             "#de77ae"
            ],
            [
             0.3,
             "#f1b6da"
            ],
            [
             0.4,
             "#fde0ef"
            ],
            [
             0.5,
             "#f7f7f7"
            ],
            [
             0.6,
             "#e6f5d0"
            ],
            [
             0.7,
             "#b8e186"
            ],
            [
             0.8,
             "#7fbc41"
            ],
            [
             0.9,
             "#4d9221"
            ],
            [
             1,
             "#276419"
            ]
           ],
           "sequential": [
            [
             0,
             "#0d0887"
            ],
            [
             0.1111111111111111,
             "#46039f"
            ],
            [
             0.2222222222222222,
             "#7201a8"
            ],
            [
             0.3333333333333333,
             "#9c179e"
            ],
            [
             0.4444444444444444,
             "#bd3786"
            ],
            [
             0.5555555555555556,
             "#d8576b"
            ],
            [
             0.6666666666666666,
             "#ed7953"
            ],
            [
             0.7777777777777778,
             "#fb9f3a"
            ],
            [
             0.8888888888888888,
             "#fdca26"
            ],
            [
             1,
             "#f0f921"
            ]
           ],
           "sequentialminus": [
            [
             0,
             "#0d0887"
            ],
            [
             0.1111111111111111,
             "#46039f"
            ],
            [
             0.2222222222222222,
             "#7201a8"
            ],
            [
             0.3333333333333333,
             "#9c179e"
            ],
            [
             0.4444444444444444,
             "#bd3786"
            ],
            [
             0.5555555555555556,
             "#d8576b"
            ],
            [
             0.6666666666666666,
             "#ed7953"
            ],
            [
             0.7777777777777778,
             "#fb9f3a"
            ],
            [
             0.8888888888888888,
             "#fdca26"
            ],
            [
             1,
             "#f0f921"
            ]
           ]
          },
          "colorway": [
           "#636efa",
           "#EF553B",
           "#00cc96",
           "#ab63fa",
           "#FFA15A",
           "#19d3f3",
           "#FF6692",
           "#B6E880",
           "#FF97FF",
           "#FECB52"
          ],
          "font": {
           "color": "#2a3f5f"
          },
          "geo": {
           "bgcolor": "white",
           "lakecolor": "white",
           "landcolor": "#E5ECF6",
           "showlakes": true,
           "showland": true,
           "subunitcolor": "white"
          },
          "hoverlabel": {
           "align": "left"
          },
          "hovermode": "closest",
          "mapbox": {
           "style": "light"
          },
          "paper_bgcolor": "white",
          "plot_bgcolor": "#E5ECF6",
          "polar": {
           "angularaxis": {
            "gridcolor": "white",
            "linecolor": "white",
            "ticks": ""
           },
           "bgcolor": "#E5ECF6",
           "radialaxis": {
            "gridcolor": "white",
            "linecolor": "white",
            "ticks": ""
           }
          },
          "scene": {
           "xaxis": {
            "backgroundcolor": "#E5ECF6",
            "gridcolor": "white",
            "gridwidth": 2,
            "linecolor": "white",
            "showbackground": true,
            "ticks": "",
            "zerolinecolor": "white"
           },
           "yaxis": {
            "backgroundcolor": "#E5ECF6",
            "gridcolor": "white",
            "gridwidth": 2,
            "linecolor": "white",
            "showbackground": true,
            "ticks": "",
            "zerolinecolor": "white"
           },
           "zaxis": {
            "backgroundcolor": "#E5ECF6",
            "gridcolor": "white",
            "gridwidth": 2,
            "linecolor": "white",
            "showbackground": true,
            "ticks": "",
            "zerolinecolor": "white"
           }
          },
          "shapedefaults": {
           "line": {
            "color": "#2a3f5f"
           }
          },
          "ternary": {
           "aaxis": {
            "gridcolor": "white",
            "linecolor": "white",
            "ticks": ""
           },
           "baxis": {
            "gridcolor": "white",
            "linecolor": "white",
            "ticks": ""
           },
           "bgcolor": "#E5ECF6",
           "caxis": {
            "gridcolor": "white",
            "linecolor": "white",
            "ticks": ""
           }
          },
          "title": {
           "x": 0.05
          },
          "xaxis": {
           "automargin": true,
           "gridcolor": "white",
           "linecolor": "white",
           "ticks": "",
           "title": {
            "standoff": 15
           },
           "zerolinecolor": "white",
           "zerolinewidth": 2
          },
          "yaxis": {
           "automargin": true,
           "gridcolor": "white",
           "linecolor": "white",
           "ticks": "",
           "title": {
            "standoff": 15
           },
           "zerolinecolor": "white",
           "zerolinewidth": 2
          }
         }
        },
        "title": {
         "text": "Weights per episode for RL model"
        },
        "xaxis": {
         "title": {
          "text": "Episode"
         }
        },
        "yaxis": {
         "title": {
          "text": "sum of the weights"
         }
        }
       }
      }
     },
     "metadata": {},
     "output_type": "display_data"
    }
   ],
   "source": [
    "fig = go.Figure()\n",
    "for w in range(3):\n",
    "    fig.add_trace(go.Scatter(x= [i for i in range(len(weights.keys()))], y= [np.sum(i[w]) for i in list(weights.values())], mode= \"markers\", name= f\"weight {w}\"))\n",
    "# add title and axis labels\n",
    "fig.update_layout(title_text=\"Weights per episode for RL model\", xaxis_title=\"Episode\", yaxis_title=\"sum of the weights\")\n",
    "fig.show()"
   ]
  },
  {
   "cell_type": "code",
   "execution_count": 407,
   "metadata": {},
   "outputs": [
    {
     "data": {
      "application/vnd.plotly.v1+json": {
       "config": {
        "plotlyServerURL": "https://plot.ly"
       },
       "data": [
        {
         "mode": "markers",
         "name": "feature 0 for weight 0",
         "type": "scatter",
         "x": [
          0,
          1,
          2,
          3,
          4,
          5,
          6,
          7,
          8,
          9,
          10,
          11,
          12,
          13,
          14,
          15,
          16,
          17,
          18,
          19,
          20,
          21,
          22,
          23,
          24,
          25,
          26,
          27,
          28,
          29,
          30,
          31,
          32,
          33,
          34,
          35,
          36,
          37,
          38,
          39,
          40,
          41,
          42,
          43,
          44,
          45,
          46,
          47,
          48,
          49,
          50,
          51,
          52,
          53,
          54,
          55,
          56,
          57,
          58,
          59,
          60,
          61,
          62,
          63,
          64,
          65,
          66,
          67,
          68,
          69,
          70,
          71,
          72,
          73,
          74,
          75,
          76,
          77,
          78,
          79,
          80,
          81,
          82,
          83,
          84,
          85,
          86,
          87,
          88,
          89,
          90,
          91,
          92,
          93,
          94,
          95,
          96,
          97,
          98,
          99
         ],
         "y": [
          1.1611411266840994,
          1.4958246910329651,
          1.2600959619540975,
          1.5148457578973347,
          1.35787329339499,
          2.0892612982297174,
          2.4137567438471597,
          2.364646068916447,
          2.045693393053908,
          2.7323229695575697,
          2.7993693118288094,
          2.5653754734102994,
          2.346801330499506,
          2.285453735378589,
          2.336494419119318,
          2.104536891335897,
          2.28206850297766,
          2.595885292437791,
          3.0636461655864236,
          2.837752585466372,
          2.766905200173131,
          2.899771721024145,
          3.3959539993847887,
          3.026984914322818,
          2.8127960211903886,
          2.71641801009901,
          2.6724609769132166,
          2.521914339125669,
          2.47688406646306,
          2.4220483829623944,
          2.5263657939622663,
          2.4703441255672565,
          2.689999369408131,
          2.6213833098445796,
          2.704123938268665,
          2.1595823725421623,
          2.10622150573432,
          2.242033070828592,
          2.2233831727360465,
          2.062357563323111,
          2.1760987240143383,
          2.095484240658831,
          2.0991934143290245,
          2.07333393618346,
          2.371410550479088,
          2.253807737681341,
          2.3738506215677377,
          2.481104270487242,
          2.1753351894749238,
          2.0937825907558385,
          2.1967048617989424,
          2.11150632911811,
          2.018629598805037,
          2.039887388929233,
          1.9718258767016437,
          1.9909233402874478,
          1.875683206626911,
          1.8147789096164737,
          1.7551971951176488,
          1.947271264099678,
          1.8743504937310822,
          1.8674336303157888,
          1.7912141752732944,
          1.6750142866899327,
          1.6479318615880008,
          1.8179575708920956,
          1.8413585421579313,
          1.8983946876115347,
          2.0231390633698525,
          2.1839266022203714,
          2.1263329724930125,
          2.128122387997692,
          1.9616003210758104,
          2.0758232598713917,
          2.1058009268650806,
          2.1440347327091853,
          2.089664599580719,
          2.227817324962444,
          2.3208938444709823,
          2.365243855662585,
          2.4167250202152752,
          2.4862311957598418,
          2.3431873537482857,
          2.401500301979945,
          2.3256614328038947,
          2.345229768757571,
          2.2205725964796974,
          2.2926766927496347,
          2.294621356116733,
          2.3301644442269103,
          2.3505301591305563,
          2.3382468097691307,
          2.3433758454322073,
          2.3602130690346455,
          2.340963440388214,
          2.3435305022581594,
          2.328337339214986,
          2.321063818765401,
          2.2959856564962045,
          2.2965025037209355
         ]
        },
        {
         "mode": "markers",
         "name": "feature 1 for weight 0",
         "type": "scatter",
         "x": [
          0,
          1,
          2,
          3,
          4,
          5,
          6,
          7,
          8,
          9,
          10,
          11,
          12,
          13,
          14,
          15,
          16,
          17,
          18,
          19,
          20,
          21,
          22,
          23,
          24,
          25,
          26,
          27,
          28,
          29,
          30,
          31,
          32,
          33,
          34,
          35,
          36,
          37,
          38,
          39,
          40,
          41,
          42,
          43,
          44,
          45,
          46,
          47,
          48,
          49,
          50,
          51,
          52,
          53,
          54,
          55,
          56,
          57,
          58,
          59,
          60,
          61,
          62,
          63,
          64,
          65,
          66,
          67,
          68,
          69,
          70,
          71,
          72,
          73,
          74,
          75,
          76,
          77,
          78,
          79,
          80,
          81,
          82,
          83,
          84,
          85,
          86,
          87,
          88,
          89,
          90,
          91,
          92,
          93,
          94,
          95,
          96,
          97,
          98,
          99
         ],
         "y": [
          0.6194256944447716,
          0.4445746627756427,
          0.11883836968669685,
          0.35428713681419444,
          -0.1123263755730103,
          0.5726126279420021,
          0.7692707886855322,
          0.23215530358439068,
          -0.12908926146050462,
          0.44319970036287293,
          0.13453655321758795,
          -0.29739498461024166,
          0.09571221754321355,
          0.233753686547335,
          0.18023293537417184,
          0.06717893293823514,
          0.6200120887421827,
          0.6720124915102585,
          0.6951401906312129,
          0.40501120544935726,
          0.4119950685318024,
          0.5862271065325565,
          0.8424260459704269,
          0.2593872504870756,
          0.3412791210058736,
          0.0868680050139636,
          0.509988816674808,
          -0.036464145934189056,
          0.3619219101418234,
          0.3345932679861022,
          0.41252200441998266,
          0.17000771195250447,
          0.34225843520655697,
          0.1561353566355235,
          0.17362581210725364,
          -0.132358371910484,
          0.016399917281719557,
          0.19937222259624637,
          0.34854714059570757,
          0.05586369774591684,
          0.23376017223359274,
          0.18326118127114988,
          0.16073622832786857,
          0.21739589925455421,
          0.43051673423743375,
          0.129742436864515,
          0.37260443195490056,
          0.31762373840413705,
          -0.013276611756474786,
          0.16355184958783622,
          0.1513229613705267,
          0.11491350000275706,
          0.15303441858613084,
          0.19180827059471828,
          0.1309498771224467,
          0.3519659888143253,
          0.11824243122263088,
          0.15854372744292552,
          0.1966868906223415,
          0.34828029218947654,
          0.12773681161784528,
          0.23107290966988747,
          0.2384017047405858,
          0.20033510079622974,
          0.23381862352961805,
          0.3777336621833809,
          0.3431764469163349,
          0.22036495609603268,
          0.35705290224381725,
          0.39135032689410837,
          0.18934751957279566,
          0.1895117163451985,
          0.0185353784788751,
          0.1686324730235816,
          0.17708950334662088,
          0.2519277966777453,
          0.19165404426690016,
          0.34615763576661157,
          0.2805144240185848,
          0.22763479008540755,
          0.25316255121866066,
          0.28491309394644404,
          0.10581008723311028,
          0.15865914913611623,
          0.08469419008157582,
          0.15525893851465175,
          0.03503606619245742,
          0.0928281941703538,
          0.1084966973875637,
          0.15528423691138032,
          0.17955790375644487,
          0.18277302231948017,
          0.19172335901465043,
          0.208879791338406,
          0.20560231786381303,
          0.2135377993826449,
          0.2162274602836141,
          0.2171102130141876,
          0.19836603921895174,
          0.19946997810094969
         ]
        },
        {
         "mode": "markers",
         "name": "feature 2 for weight 0",
         "type": "scatter",
         "x": [
          0,
          1,
          2,
          3,
          4,
          5,
          6,
          7,
          8,
          9,
          10,
          11,
          12,
          13,
          14,
          15,
          16,
          17,
          18,
          19,
          20,
          21,
          22,
          23,
          24,
          25,
          26,
          27,
          28,
          29,
          30,
          31,
          32,
          33,
          34,
          35,
          36,
          37,
          38,
          39,
          40,
          41,
          42,
          43,
          44,
          45,
          46,
          47,
          48,
          49,
          50,
          51,
          52,
          53,
          54,
          55,
          56,
          57,
          58,
          59,
          60,
          61,
          62,
          63,
          64,
          65,
          66,
          67,
          68,
          69,
          70,
          71,
          72,
          73,
          74,
          75,
          76,
          77,
          78,
          79,
          80,
          81,
          82,
          83,
          84,
          85,
          86,
          87,
          88,
          89,
          90,
          91,
          92,
          93,
          94,
          95,
          96,
          97,
          98,
          99
         ],
         "y": [
          0.8649394971963527,
          0.9078518603063764,
          0.9137890285195045,
          1.1907412677366689,
          1.0159368915798601,
          1.4435847690127612,
          1.449325706490739,
          0.9948490770124524,
          0.7390625252371702,
          1.097616124688391,
          1.0909640596518733,
          0.9557880644322789,
          0.9163040322097281,
          0.8264610864437555,
          0.9310301739295623,
          0.8762213213022998,
          0.9806648742787083,
          0.9765065966248491,
          1.1588864659925415,
          1.203682622180734,
          1.1210060520868426,
          1.3482323984642468,
          1.698827248839763,
          1.401265419854675,
          1.2834243510082621,
          1.4138724293144593,
          1.5297228314668294,
          1.2249865768969201,
          1.43963665711539,
          1.2125863516250286,
          1.2137448911961883,
          0.961383512849084,
          1.0743083376632985,
          1.0103839648138604,
          1.166986494959283,
          0.840100028562392,
          0.8121268331737745,
          0.9033497662114285,
          1.0341657558481563,
          0.8425216170166987,
          0.8271318894786586,
          0.8123176053543609,
          0.6728761535163437,
          0.668632947343795,
          0.8366715694892921,
          0.6186603211442203,
          0.8824954347121708,
          0.8347537402956059,
          0.6807753272836556,
          0.6493566190129609,
          0.8085690201285413,
          0.6775321874710883,
          0.6152889394070392,
          0.5923720096441125,
          0.5167650807351047,
          0.5155769656986621,
          0.46881789157859866,
          0.46606031017013577,
          0.45892668823030575,
          0.5044065766986462,
          0.47492790448859884,
          0.44323158814130226,
          0.47041133008499053,
          0.3955894554099901,
          0.41130169067648553,
          0.43980310097303865,
          0.4126496806987811,
          0.5115573634228298,
          0.632700927981459,
          0.6842066180949667,
          0.6846665569039605,
          0.7894020807335885,
          0.7465741450947676,
          0.7599944428058786,
          0.7701934584498576,
          0.7816285161022183,
          0.777808509694272,
          0.8226026761415269,
          0.8410480341386422,
          0.8534425702845942,
          0.8874414993395138,
          0.9094822940962015,
          0.8803023673174885,
          0.8921295954521234,
          0.876270882764633,
          0.8891199240980531,
          0.8664754428044689,
          0.8831823425257016,
          0.8891482285159601,
          0.89504786961195,
          0.9030461681539512,
          0.9022534357231734,
          0.9083917410492549,
          0.9128816363861305,
          0.9106597516085342,
          0.9120887614497862,
          0.9102863150664581,
          0.9092435458891722,
          0.9032574981228652,
          0.903446433911253
         ]
        },
        {
         "mode": "markers",
         "name": "feature 3 for weight 0",
         "type": "scatter",
         "x": [
          0,
          1,
          2,
          3,
          4,
          5,
          6,
          7,
          8,
          9,
          10,
          11,
          12,
          13,
          14,
          15,
          16,
          17,
          18,
          19,
          20,
          21,
          22,
          23,
          24,
          25,
          26,
          27,
          28,
          29,
          30,
          31,
          32,
          33,
          34,
          35,
          36,
          37,
          38,
          39,
          40,
          41,
          42,
          43,
          44,
          45,
          46,
          47,
          48,
          49,
          50,
          51,
          52,
          53,
          54,
          55,
          56,
          57,
          58,
          59,
          60,
          61,
          62,
          63,
          64,
          65,
          66,
          67,
          68,
          69,
          70,
          71,
          72,
          73,
          74,
          75,
          76,
          77,
          78,
          79,
          80,
          81,
          82,
          83,
          84,
          85,
          86,
          87,
          88,
          89,
          90,
          91,
          92,
          93,
          94,
          95,
          96,
          97,
          98,
          99
         ],
         "y": [
          1.0406560187722478,
          0.8652919836006462,
          0.20305350714323997,
          0.8007578191770556,
          0.22682155203587884,
          1.1872166162575464,
          0.815754002421792,
          0.7983997660026015,
          0.5949332012502948,
          1.0293906778962383,
          0.6612141390935522,
          0.3565150238797126,
          0.36981401000761416,
          0.26144372890257284,
          0.521451294765052,
          0.27072515196959285,
          0.5751879233659611,
          0.615026947496079,
          0.8434423432328825,
          0.8620570646061112,
          0.7657622010586757,
          0.6088134813474367,
          0.5357449207618095,
          0.10238091163690508,
          0.27002525229678104,
          0.18027945125560438,
          0.49789740047263326,
          0.2742728966172398,
          0.4716674692696924,
          0.23472967705239675,
          0.5084110894566004,
          0.24682676077179194,
          0.6485033115380515,
          0.41765200965029103,
          0.5464199965951319,
          0.11409962871549,
          0.31179882491486716,
          0.41051484912649044,
          0.492477406636582,
          0.18571995212705486,
          0.44026495563172335,
          0.4562542241230976,
          0.4094315437950323,
          0.4449140891634021,
          0.6200869490458758,
          0.2462199714517667,
          0.43676623199139974,
          0.5124898905674289,
          0.2619984624134492,
          0.35762023324939934,
          0.26522145469036973,
          0.13823853669312194,
          0.16266148561307067,
          0.23843318407817904,
          0.14382242934696302,
          0.4785412756112785,
          0.2614107051601785,
          0.3364670313488246,
          0.22931822057925633,
          0.36102662593512413,
          0.23565658233011738,
          0.2793481719124431,
          0.34772471530457943,
          0.29798249591625176,
          0.4203209692181094,
          0.5971165816810206,
          0.3815058788512576,
          0.3809836635542654,
          0.4828738628088363,
          0.4877455631558618,
          0.3603330725570374,
          0.32473246784061405,
          0.20346850339040515,
          0.3184725163301656,
          0.3040382981068188,
          0.2590385501190038,
          0.2544544076280918,
          0.3607964226904739,
          0.29379081277007874,
          0.26390666141121644,
          0.2852208859324009,
          0.3253283978053433,
          0.16902558291334469,
          0.21498101303479825,
          0.16044822666207328,
          0.2013905914269044,
          0.1288928300412125,
          0.18955375915869965,
          0.2067006158323424,
          0.22925911598301513,
          0.2552188999704591,
          0.2513204691249891,
          0.2599429986248852,
          0.27367855143996633,
          0.25550449400863406,
          0.25873995907743996,
          0.25231869934393764,
          0.24629155228489685,
          0.22535478055463423,
          0.22627881420606497
         ]
        },
        {
         "mode": "markers",
         "name": "feature 4 for weight 0",
         "type": "scatter",
         "x": [
          0,
          1,
          2,
          3,
          4,
          5,
          6,
          7,
          8,
          9,
          10,
          11,
          12,
          13,
          14,
          15,
          16,
          17,
          18,
          19,
          20,
          21,
          22,
          23,
          24,
          25,
          26,
          27,
          28,
          29,
          30,
          31,
          32,
          33,
          34,
          35,
          36,
          37,
          38,
          39,
          40,
          41,
          42,
          43,
          44,
          45,
          46,
          47,
          48,
          49,
          50,
          51,
          52,
          53,
          54,
          55,
          56,
          57,
          58,
          59,
          60,
          61,
          62,
          63,
          64,
          65,
          66,
          67,
          68,
          69,
          70,
          71,
          72,
          73,
          74,
          75,
          76,
          77,
          78,
          79,
          80,
          81,
          82,
          83,
          84,
          85,
          86,
          87,
          88,
          89,
          90,
          91,
          92,
          93,
          94,
          95,
          96,
          97,
          98,
          99
         ],
         "y": [
          -0.18351364699551767,
          0.01862020576086059,
          -0.05258377696208225,
          0.43624341285720175,
          -0.13392388426096447,
          0.5642032166105104,
          0.436004362171599,
          0.19437654994056214,
          -0.09790158282592104,
          -0.3638079676858609,
          -0.10344783624748066,
          0.1848162721749037,
          0.13858227636860038,
          0.05303161858534668,
          0.2316342640212185,
          0.06853791509258568,
          0.3518626920974321,
          0.22253080783548873,
          0.3657170175854861,
          0.31060139317155383,
          0.18184785960226735,
          0.14645576697443305,
          0.36733108824766775,
          0.06545524210410404,
          0.26294543127579995,
          0.08371362667130514,
          0.32582887048648385,
          -0.02705993033570267,
          -0.029454623642738247,
          -0.1590139036845659,
          0.28195469441637944,
          -0.04720948327739098,
          0.3987394578949347,
          -0.044131775075854016,
          0.14074944015714608,
          -0.05738855609969751,
          0.12787460312876733,
          0.22012353977301033,
          -0.07112974069198258,
          -0.03281666457489175,
          0.2188284532204858,
          0.030340681437881153,
          0.1246227970619058,
          0.1745940676672686,
          0.16930342178493374,
          -0.003843249520690601,
          0.07678808357509201,
          -0.0766968265414705,
          -0.13382479223537622,
          -0.05210228897312927,
          0.18867512626909425,
          -0.002451363857501604,
          0.0013955433773230191,
          0.11775724032316778,
          0.060924755026895976,
          0.06984386515701506,
          -0.0501487881665662,
          0.026287004036610988,
          0.06490663532303634,
          0.18273270598254737,
          -0.013401260827810839,
          -0.011405723167176321,
          -0.036853424654671244,
          -0.12552514697218622,
          -0.03767213703714171,
          0.1831384415946102,
          0.10425901482470369,
          0.06202971373836546,
          0.14689418537058513,
          0.2552294767109139,
          0.09409215733804698,
          0.04941019318286392,
          -0.1305769079496605,
          -0.14243912774841969,
          0.006853156643147481,
          0.10517455382578374,
          0.045630579025947415,
          0.14402026262426892,
          0.07585675638010489,
          0.08420876290332867,
          0.14079259165008132,
          0.18416042257982856,
          -0.0827617036543071,
          -0.03890862424501424,
          -0.07257664782756998,
          -0.06413070520818955,
          -0.20464386421394742,
          -0.2138422041627488,
          -0.2003715726638174,
          -0.19919005049344174,
          -0.19824883099239982,
          -0.19871362248704852,
          -0.1948196043146731,
          -0.1578729098085116,
          -0.14815852844610009,
          -0.13978641296153813,
          -0.13510998329538498,
          -0.13151561800107048,
          -0.1359064119952487,
          -0.1358634592014978
         ]
        },
        {
         "mode": "markers",
         "name": "feature 5 for weight 0",
         "type": "scatter",
         "x": [
          0,
          1,
          2,
          3,
          4,
          5,
          6,
          7,
          8,
          9,
          10,
          11,
          12,
          13,
          14,
          15,
          16,
          17,
          18,
          19,
          20,
          21,
          22,
          23,
          24,
          25,
          26,
          27,
          28,
          29,
          30,
          31,
          32,
          33,
          34,
          35,
          36,
          37,
          38,
          39,
          40,
          41,
          42,
          43,
          44,
          45,
          46,
          47,
          48,
          49,
          50,
          51,
          52,
          53,
          54,
          55,
          56,
          57,
          58,
          59,
          60,
          61,
          62,
          63,
          64,
          65,
          66,
          67,
          68,
          69,
          70,
          71,
          72,
          73,
          74,
          75,
          76,
          77,
          78,
          79,
          80,
          81,
          82,
          83,
          84,
          85,
          86,
          87,
          88,
          89,
          90,
          91,
          92,
          93,
          94,
          95,
          96,
          97,
          98,
          99
         ],
         "y": [
          0.01615419764193351,
          0.021424893316627804,
          0.0010585272266697711,
          0.01955892930018756,
          0.017150712114607225,
          -0.011906235427806382,
          -0.022339011627007566,
          -0.034280352857461276,
          -0.0516882771569957,
          0.08625008303793233,
          0.10504442194714128,
          0.09172264698034055,
          0.09119668457485108,
          0.09795659487876304,
          0.11481935077366552,
          0.05788365083181755,
          0.04337721121564947,
          0.04932950949284785,
          0.006348486429087847,
          -0.01595301343876277,
          0.02621031329085402,
          0.0250497232642694,
          0.013079669967380995,
          -0.006782318084467313,
          0.012553178218548483,
          0.028132923470805177,
          0.05439780059156637,
          0.0317736271834461,
          0.024008381687544794,
          -0.008315705289974338,
          0.023108063327070424,
          0.023058916527976397,
          0.01629041360697287,
          0.005948641032423618,
          0.03758767756287367,
          0.02435418661124762,
          0.032703901271587614,
          0.032912311810272814,
          0.03848382574753165,
          0.054949515832731916,
          0.06668151117795203,
          0.07748995872314496,
          0.08906737690347048,
          0.09556842675926723,
          0.10883670072094348,
          0.07773215302717523,
          -0.004764938676047212,
          0.0347537390998232,
          0.027971041175763125,
          0.05956946634055601,
          0.05688614173111639,
          0.06152907424455638,
          0.10786428565727324,
          0.12132199194977876,
          0.15040991288327324,
          0.14429248789315688,
          0.11982646270173426,
          0.12932620299342176,
          0.1318617858464608,
          0.13630571269166153,
          0.12704195965139603,
          0.142752965368213,
          0.14313703343782694,
          0.14703215265228034,
          0.16367731261136137,
          0.17694254161514458,
          0.17704436631684892,
          0.16906634089557798,
          0.17323301477072955,
          0.1249653709362234,
          0.10881367934121468,
          0.0943175567175007,
          0.0941258540744362,
          0.10230296947391547,
          0.09312000932423817,
          0.10103950250840957,
          0.09541506082735698,
          0.0938423023825333,
          0.08100917149044316,
          0.07939270727840836,
          0.04610658020592563,
          0.044273249734416514,
          0.028653152422819034,
          0.028653152422819034,
          0.034808648933806106,
          0.035351704786268257,
          0.03560217994770271,
          0.03520929920871704,
          0.03520929920871704,
          0.035375203183064065,
          0.03559215291292387,
          0.03545531785147674,
          0.03545531785147674,
          0.03564205821715125,
          0.03527737263662063,
          0.035451220610945924,
          0.035451220610945924,
          0.03543522561109998,
          0.03543522561109998,
          0.03543522561109998
         ]
        },
        {
         "mode": "markers",
         "name": "feature 6 for weight 0",
         "type": "scatter",
         "x": [
          0,
          1,
          2,
          3,
          4,
          5,
          6,
          7,
          8,
          9,
          10,
          11,
          12,
          13,
          14,
          15,
          16,
          17,
          18,
          19,
          20,
          21,
          22,
          23,
          24,
          25,
          26,
          27,
          28,
          29,
          30,
          31,
          32,
          33,
          34,
          35,
          36,
          37,
          38,
          39,
          40,
          41,
          42,
          43,
          44,
          45,
          46,
          47,
          48,
          49,
          50,
          51,
          52,
          53,
          54,
          55,
          56,
          57,
          58,
          59,
          60,
          61,
          62,
          63,
          64,
          65,
          66,
          67,
          68,
          69,
          70,
          71,
          72,
          73,
          74,
          75,
          76,
          77,
          78,
          79,
          80,
          81,
          82,
          83,
          84,
          85,
          86,
          87,
          88,
          89,
          90,
          91,
          92,
          93,
          94,
          95,
          96,
          97,
          98,
          99
         ],
         "y": [
          1.2079602699582883,
          1.274537601858862,
          1.3613704670766384,
          1.6220073542646745,
          1.0339886790030701,
          1.6591739700933532,
          1.3822047747321897,
          1.3797494330954225,
          1.4436934275320825,
          1.7881411486511496,
          1.2946953512127326,
          1.257681598965962,
          1.2794413089682368,
          0.9249091751543507,
          1.016574852432762,
          0.8672649460799271,
          0.9216471414407853,
          1.0093632605013467,
          1.2646633132862688,
          1.226799318779279,
          1.1500380872274445,
          1.0599568913252755,
          1.4332938904600563,
          0.9267066086913258,
          1.2803676883836983,
          1.1414145872992434,
          1.526988025545274,
          0.9911005933413352,
          1.5702550092483143,
          1.077885474232575,
          1.233523928402816,
          1.1129117994493114,
          1.5098409960415287,
          1.0203130838167245,
          1.0345763195320017,
          0.9655025105849933,
          1.230177510143066,
          1.5209989351683688,
          1.553232125407115,
          1.1371466034287747,
          1.2919458565082285,
          1.3571326102140746,
          0.9904781911770579,
          1.2106881667721083,
          1.2672832265004446,
          1.0567038043438035,
          1.5531583462601404,
          1.3723566968458825,
          1.2151927387221328,
          1.4969804283454775,
          1.4767936190986102,
          1.1570507443897833,
          1.2640417744871766,
          1.2637601813408224,
          1.0132595872935695,
          1.2305170588065515,
          1.0500389456926944,
          1.0720104316736294,
          0.8861299387953858,
          0.941487322471227,
          0.8510317968786562,
          0.8420243548773582,
          0.9516709941871307,
          0.8736237973342075,
          0.9294341381580132,
          1.1113840074617392,
          1.010858980765104,
          0.8853513815294668,
          0.9919703647923771,
          1.164237335950112,
          1.0186156636521266,
          1.095050490410129,
          0.9587193458816369,
          1.141007684266097,
          1.146126558641346,
          1.1230507984146176,
          1.0892946597322108,
          1.2628399948126683,
          1.2512956069785113,
          1.2174557778142274,
          1.2966308858040114,
          1.3524314647954347,
          1.22275574969355,
          1.3213181338901068,
          1.2516414732885421,
          1.2990865151067708,
          1.2189031921883728,
          1.2681695656363412,
          1.2876872138305655,
          1.311678441149162,
          1.3289184771718587,
          1.3225074366437155,
          1.3250307702534478,
          1.3294417284350324,
          1.3235089985414388,
          1.3283762138256079,
          1.3269380711636882,
          1.325827236773391,
          1.307276560775744,
          1.307970929464864
         ]
        },
        {
         "mode": "markers",
         "name": "feature 7 for weight 0",
         "type": "scatter",
         "x": [
          0,
          1,
          2,
          3,
          4,
          5,
          6,
          7,
          8,
          9,
          10,
          11,
          12,
          13,
          14,
          15,
          16,
          17,
          18,
          19,
          20,
          21,
          22,
          23,
          24,
          25,
          26,
          27,
          28,
          29,
          30,
          31,
          32,
          33,
          34,
          35,
          36,
          37,
          38,
          39,
          40,
          41,
          42,
          43,
          44,
          45,
          46,
          47,
          48,
          49,
          50,
          51,
          52,
          53,
          54,
          55,
          56,
          57,
          58,
          59,
          60,
          61,
          62,
          63,
          64,
          65,
          66,
          67,
          68,
          69,
          70,
          71,
          72,
          73,
          74,
          75,
          76,
          77,
          78,
          79,
          80,
          81,
          82,
          83,
          84,
          85,
          86,
          87,
          88,
          89,
          90,
          91,
          92,
          93,
          94,
          95,
          96,
          97,
          98,
          99
         ],
         "y": [
          1.1065628855516474,
          1.0812531707563386,
          1.166560690941786,
          1.5009141292663912,
          1.1219253853604645,
          1.4122109426060097,
          1.0347660918449357,
          1.104719074368727,
          1.1893747793015796,
          1.1300580514108147,
          0.6093184934558264,
          0.7949816243443512,
          0.9183714649556041,
          0.6350372917888637,
          1.039180065870687,
          1.0438605185600942,
          1.1388814744220217,
          1.0831794691523617,
          0.8445907664040163,
          0.7838737984701768,
          0.8615180009860602,
          0.5649614933033414,
          0.5911507922668461,
          0.1388742260573762,
          0.47413962171535495,
          0.4268075389776156,
          0.6541345764399242,
          0.4556636127803544,
          0.679427268574733,
          0.40965320797867005,
          0.511357863639567,
          0.3828372257675127,
          0.6061039321205317,
          0.3430381927224467,
          0.2826902191971866,
          0.28989000921769137,
          0.5489663332219329,
          0.6323036276655822,
          0.6286615941995882,
          0.40710008111389645,
          0.7456598509091474,
          0.6694155459398584,
          0.5624452293187415,
          0.6866147902460377,
          0.6345832289488393,
          0.4953977186041087,
          0.6347628412864773,
          0.4851782555388266,
          0.43897310228721775,
          0.6239633890989411,
          0.5035862008394173,
          0.3981473971634809,
          0.6040479015166964,
          0.605589719787586,
          0.51486348160259,
          0.759396169928034,
          0.6759543999861254,
          0.7984262289461629,
          0.7449105187216414,
          0.8036546660169077,
          0.7338318736252519,
          0.8945204891166777,
          0.9534242468644246,
          1.0076668323670872,
          1.1237142273372698,
          1.2676445925368724,
          1.2141316460679168,
          1.0988997528532378,
          1.1384724705428801,
          1.166501653501935,
          1.0128016410917604,
          0.9471162674678755,
          0.8525887877506226,
          1.0139743456933372,
          0.9591054127626398,
          0.8856615606258826,
          0.8554696192164667,
          0.9020443375913912,
          0.7874248445652949,
          0.6838811479061419,
          0.6489707814446,
          0.6088019490913034,
          0.46178599690819594,
          0.5131800071578945,
          0.44487522744304536,
          0.48708667900512376,
          0.42210937084131356,
          0.4710869291468765,
          0.48502581933529154,
          0.49225779318493423,
          0.49126275390210417,
          0.4775445814585171,
          0.4788342947731577,
          0.4815307239111741,
          0.46637089373616064,
          0.4698606714525013,
          0.46124475318002256,
          0.4570976939977886,
          0.44210071797249684,
          0.4428430879013494
         ]
        },
        {
         "mode": "markers",
         "name": "feature 8 for weight 0",
         "type": "scatter",
         "x": [
          0,
          1,
          2,
          3,
          4,
          5,
          6,
          7,
          8,
          9,
          10,
          11,
          12,
          13,
          14,
          15,
          16,
          17,
          18,
          19,
          20,
          21,
          22,
          23,
          24,
          25,
          26,
          27,
          28,
          29,
          30,
          31,
          32,
          33,
          34,
          35,
          36,
          37,
          38,
          39,
          40,
          41,
          42,
          43,
          44,
          45,
          46,
          47,
          48,
          49,
          50,
          51,
          52,
          53,
          54,
          55,
          56,
          57,
          58,
          59,
          60,
          61,
          62,
          63,
          64,
          65,
          66,
          67,
          68,
          69,
          70,
          71,
          72,
          73,
          74,
          75,
          76,
          77,
          78,
          79,
          80,
          81,
          82,
          83,
          84,
          85,
          86,
          87,
          88,
          89,
          90,
          91,
          92,
          93,
          94,
          95,
          96,
          97,
          98,
          99
         ],
         "y": [
          1.1460890168330302,
          1.0443389931254996,
          0.4373659490806098,
          0.5179343488802948,
          0.35882830800216664,
          1.130932146041232,
          0.6441907288642593,
          0.7957520639923926,
          0.34836190027326636,
          1.3178927270888376,
          0.36449058296793546,
          0.4438348468830904,
          0.5117956355053576,
          0.45820976261768553,
          0.5856341932515825,
          0.26753443153795536,
          0.6831942142859931,
          0.3491801660240291,
          0.523871985322126,
          0.5519760404190496,
          0.543548877105091,
          0.42238830016576,
          0.7223138691202394,
          0.21033878297930922,
          0.17834767073443997,
          -0.04989845197567584,
          0.3681964712251541,
          0.030639551645271493,
          0.31650738286593827,
          0.3605343101600568,
          0.3438204339181772,
          0.2995388474790043,
          0.5356582046600553,
          0.19457972090014858,
          0.20157902403027594,
          -0.05547714045569019,
          0.18270011551914458,
          0.7154589987470943,
          0.6445430256385848,
          0.17645235181350688,
          0.4593959304064886,
          0.5194379822797085,
          0.38413074766142563,
          0.31000687792131104,
          0.47651688904262485,
          0.2699854519611017,
          0.5317519563506204,
          0.576183741868523,
          0.32194325172149646,
          0.41842650939698245,
          0.4298083473175123,
          0.2597669245322897,
          0.33949924815534344,
          0.3198711787280508,
          0.22534907355406267,
          0.49732557591438786,
          0.3000779873457976,
          0.3245491204992744,
          0.20515838744055104,
          0.3189681760122851,
          0.19552742082337501,
          0.21285985624023523,
          0.21486590787576051,
          0.12883309015256053,
          0.2156522162635984,
          0.43666242066124233,
          0.31075790795932967,
          0.23856048660718163,
          0.29050531882473957,
          0.23317821455750543,
          0.08655872956052246,
          0.11017567289917285,
          0.02244202002793807,
          0.1784596724610175,
          0.15039534295673304,
          0.07377060891655624,
          0.07301165348557934,
          0.1271425465325935,
          0.09449582129360341,
          0.0804831847696515,
          0.09837407174537831,
          0.11190970364732272,
          -0.010012066809331858,
          0.02956224425071845,
          -0.021998775736669796,
          0.011461980865720131,
          -0.06978938018911525,
          0.0027465896565824106,
          0.026273501139348843,
          0.022256780859633323,
          0.03667519922728173,
          0.03654657346752329,
          0.05186577892007399,
          0.056102897750597173,
          0.026334169360223546,
          0.030730964279752807,
          0.019609970599379092,
          0.009441994515966803,
          -0.017108055236116578,
          -0.016010032742675952
         ]
        }
       ],
       "layout": {
        "template": {
         "data": {
          "bar": [
           {
            "error_x": {
             "color": "#2a3f5f"
            },
            "error_y": {
             "color": "#2a3f5f"
            },
            "marker": {
             "line": {
              "color": "#E5ECF6",
              "width": 0.5
             },
             "pattern": {
              "fillmode": "overlay",
              "size": 10,
              "solidity": 0.2
             }
            },
            "type": "bar"
           }
          ],
          "barpolar": [
           {
            "marker": {
             "line": {
              "color": "#E5ECF6",
              "width": 0.5
             },
             "pattern": {
              "fillmode": "overlay",
              "size": 10,
              "solidity": 0.2
             }
            },
            "type": "barpolar"
           }
          ],
          "carpet": [
           {
            "aaxis": {
             "endlinecolor": "#2a3f5f",
             "gridcolor": "white",
             "linecolor": "white",
             "minorgridcolor": "white",
             "startlinecolor": "#2a3f5f"
            },
            "baxis": {
             "endlinecolor": "#2a3f5f",
             "gridcolor": "white",
             "linecolor": "white",
             "minorgridcolor": "white",
             "startlinecolor": "#2a3f5f"
            },
            "type": "carpet"
           }
          ],
          "choropleth": [
           {
            "colorbar": {
             "outlinewidth": 0,
             "ticks": ""
            },
            "type": "choropleth"
           }
          ],
          "contour": [
           {
            "colorbar": {
             "outlinewidth": 0,
             "ticks": ""
            },
            "colorscale": [
             [
              0,
              "#0d0887"
             ],
             [
              0.1111111111111111,
              "#46039f"
             ],
             [
              0.2222222222222222,
              "#7201a8"
             ],
             [
              0.3333333333333333,
              "#9c179e"
             ],
             [
              0.4444444444444444,
              "#bd3786"
             ],
             [
              0.5555555555555556,
              "#d8576b"
             ],
             [
              0.6666666666666666,
              "#ed7953"
             ],
             [
              0.7777777777777778,
              "#fb9f3a"
             ],
             [
              0.8888888888888888,
              "#fdca26"
             ],
             [
              1,
              "#f0f921"
             ]
            ],
            "type": "contour"
           }
          ],
          "contourcarpet": [
           {
            "colorbar": {
             "outlinewidth": 0,
             "ticks": ""
            },
            "type": "contourcarpet"
           }
          ],
          "heatmap": [
           {
            "colorbar": {
             "outlinewidth": 0,
             "ticks": ""
            },
            "colorscale": [
             [
              0,
              "#0d0887"
             ],
             [
              0.1111111111111111,
              "#46039f"
             ],
             [
              0.2222222222222222,
              "#7201a8"
             ],
             [
              0.3333333333333333,
              "#9c179e"
             ],
             [
              0.4444444444444444,
              "#bd3786"
             ],
             [
              0.5555555555555556,
              "#d8576b"
             ],
             [
              0.6666666666666666,
              "#ed7953"
             ],
             [
              0.7777777777777778,
              "#fb9f3a"
             ],
             [
              0.8888888888888888,
              "#fdca26"
             ],
             [
              1,
              "#f0f921"
             ]
            ],
            "type": "heatmap"
           }
          ],
          "heatmapgl": [
           {
            "colorbar": {
             "outlinewidth": 0,
             "ticks": ""
            },
            "colorscale": [
             [
              0,
              "#0d0887"
             ],
             [
              0.1111111111111111,
              "#46039f"
             ],
             [
              0.2222222222222222,
              "#7201a8"
             ],
             [
              0.3333333333333333,
              "#9c179e"
             ],
             [
              0.4444444444444444,
              "#bd3786"
             ],
             [
              0.5555555555555556,
              "#d8576b"
             ],
             [
              0.6666666666666666,
              "#ed7953"
             ],
             [
              0.7777777777777778,
              "#fb9f3a"
             ],
             [
              0.8888888888888888,
              "#fdca26"
             ],
             [
              1,
              "#f0f921"
             ]
            ],
            "type": "heatmapgl"
           }
          ],
          "histogram": [
           {
            "marker": {
             "pattern": {
              "fillmode": "overlay",
              "size": 10,
              "solidity": 0.2
             }
            },
            "type": "histogram"
           }
          ],
          "histogram2d": [
           {
            "colorbar": {
             "outlinewidth": 0,
             "ticks": ""
            },
            "colorscale": [
             [
              0,
              "#0d0887"
             ],
             [
              0.1111111111111111,
              "#46039f"
             ],
             [
              0.2222222222222222,
              "#7201a8"
             ],
             [
              0.3333333333333333,
              "#9c179e"
             ],
             [
              0.4444444444444444,
              "#bd3786"
             ],
             [
              0.5555555555555556,
              "#d8576b"
             ],
             [
              0.6666666666666666,
              "#ed7953"
             ],
             [
              0.7777777777777778,
              "#fb9f3a"
             ],
             [
              0.8888888888888888,
              "#fdca26"
             ],
             [
              1,
              "#f0f921"
             ]
            ],
            "type": "histogram2d"
           }
          ],
          "histogram2dcontour": [
           {
            "colorbar": {
             "outlinewidth": 0,
             "ticks": ""
            },
            "colorscale": [
             [
              0,
              "#0d0887"
             ],
             [
              0.1111111111111111,
              "#46039f"
             ],
             [
              0.2222222222222222,
              "#7201a8"
             ],
             [
              0.3333333333333333,
              "#9c179e"
             ],
             [
              0.4444444444444444,
              "#bd3786"
             ],
             [
              0.5555555555555556,
              "#d8576b"
             ],
             [
              0.6666666666666666,
              "#ed7953"
             ],
             [
              0.7777777777777778,
              "#fb9f3a"
             ],
             [
              0.8888888888888888,
              "#fdca26"
             ],
             [
              1,
              "#f0f921"
             ]
            ],
            "type": "histogram2dcontour"
           }
          ],
          "mesh3d": [
           {
            "colorbar": {
             "outlinewidth": 0,
             "ticks": ""
            },
            "type": "mesh3d"
           }
          ],
          "parcoords": [
           {
            "line": {
             "colorbar": {
              "outlinewidth": 0,
              "ticks": ""
             }
            },
            "type": "parcoords"
           }
          ],
          "pie": [
           {
            "automargin": true,
            "type": "pie"
           }
          ],
          "scatter": [
           {
            "fillpattern": {
             "fillmode": "overlay",
             "size": 10,
             "solidity": 0.2
            },
            "type": "scatter"
           }
          ],
          "scatter3d": [
           {
            "line": {
             "colorbar": {
              "outlinewidth": 0,
              "ticks": ""
             }
            },
            "marker": {
             "colorbar": {
              "outlinewidth": 0,
              "ticks": ""
             }
            },
            "type": "scatter3d"
           }
          ],
          "scattercarpet": [
           {
            "marker": {
             "colorbar": {
              "outlinewidth": 0,
              "ticks": ""
             }
            },
            "type": "scattercarpet"
           }
          ],
          "scattergeo": [
           {
            "marker": {
             "colorbar": {
              "outlinewidth": 0,
              "ticks": ""
             }
            },
            "type": "scattergeo"
           }
          ],
          "scattergl": [
           {
            "marker": {
             "colorbar": {
              "outlinewidth": 0,
              "ticks": ""
             }
            },
            "type": "scattergl"
           }
          ],
          "scattermapbox": [
           {
            "marker": {
             "colorbar": {
              "outlinewidth": 0,
              "ticks": ""
             }
            },
            "type": "scattermapbox"
           }
          ],
          "scatterpolar": [
           {
            "marker": {
             "colorbar": {
              "outlinewidth": 0,
              "ticks": ""
             }
            },
            "type": "scatterpolar"
           }
          ],
          "scatterpolargl": [
           {
            "marker": {
             "colorbar": {
              "outlinewidth": 0,
              "ticks": ""
             }
            },
            "type": "scatterpolargl"
           }
          ],
          "scatterternary": [
           {
            "marker": {
             "colorbar": {
              "outlinewidth": 0,
              "ticks": ""
             }
            },
            "type": "scatterternary"
           }
          ],
          "surface": [
           {
            "colorbar": {
             "outlinewidth": 0,
             "ticks": ""
            },
            "colorscale": [
             [
              0,
              "#0d0887"
             ],
             [
              0.1111111111111111,
              "#46039f"
             ],
             [
              0.2222222222222222,
              "#7201a8"
             ],
             [
              0.3333333333333333,
              "#9c179e"
             ],
             [
              0.4444444444444444,
              "#bd3786"
             ],
             [
              0.5555555555555556,
              "#d8576b"
             ],
             [
              0.6666666666666666,
              "#ed7953"
             ],
             [
              0.7777777777777778,
              "#fb9f3a"
             ],
             [
              0.8888888888888888,
              "#fdca26"
             ],
             [
              1,
              "#f0f921"
             ]
            ],
            "type": "surface"
           }
          ],
          "table": [
           {
            "cells": {
             "fill": {
              "color": "#EBF0F8"
             },
             "line": {
              "color": "white"
             }
            },
            "header": {
             "fill": {
              "color": "#C8D4E3"
             },
             "line": {
              "color": "white"
             }
            },
            "type": "table"
           }
          ]
         },
         "layout": {
          "annotationdefaults": {
           "arrowcolor": "#2a3f5f",
           "arrowhead": 0,
           "arrowwidth": 1
          },
          "autotypenumbers": "strict",
          "coloraxis": {
           "colorbar": {
            "outlinewidth": 0,
            "ticks": ""
           }
          },
          "colorscale": {
           "diverging": [
            [
             0,
             "#8e0152"
            ],
            [
             0.1,
             "#c51b7d"
            ],
            [
             0.2,
             "#de77ae"
            ],
            [
             0.3,
             "#f1b6da"
            ],
            [
             0.4,
             "#fde0ef"
            ],
            [
             0.5,
             "#f7f7f7"
            ],
            [
             0.6,
             "#e6f5d0"
            ],
            [
             0.7,
             "#b8e186"
            ],
            [
             0.8,
             "#7fbc41"
            ],
            [
             0.9,
             "#4d9221"
            ],
            [
             1,
             "#276419"
            ]
           ],
           "sequential": [
            [
             0,
             "#0d0887"
            ],
            [
             0.1111111111111111,
             "#46039f"
            ],
            [
             0.2222222222222222,
             "#7201a8"
            ],
            [
             0.3333333333333333,
             "#9c179e"
            ],
            [
             0.4444444444444444,
             "#bd3786"
            ],
            [
             0.5555555555555556,
             "#d8576b"
            ],
            [
             0.6666666666666666,
             "#ed7953"
            ],
            [
             0.7777777777777778,
             "#fb9f3a"
            ],
            [
             0.8888888888888888,
             "#fdca26"
            ],
            [
             1,
             "#f0f921"
            ]
           ],
           "sequentialminus": [
            [
             0,
             "#0d0887"
            ],
            [
             0.1111111111111111,
             "#46039f"
            ],
            [
             0.2222222222222222,
             "#7201a8"
            ],
            [
             0.3333333333333333,
             "#9c179e"
            ],
            [
             0.4444444444444444,
             "#bd3786"
            ],
            [
             0.5555555555555556,
             "#d8576b"
            ],
            [
             0.6666666666666666,
             "#ed7953"
            ],
            [
             0.7777777777777778,
             "#fb9f3a"
            ],
            [
             0.8888888888888888,
             "#fdca26"
            ],
            [
             1,
             "#f0f921"
            ]
           ]
          },
          "colorway": [
           "#636efa",
           "#EF553B",
           "#00cc96",
           "#ab63fa",
           "#FFA15A",
           "#19d3f3",
           "#FF6692",
           "#B6E880",
           "#FF97FF",
           "#FECB52"
          ],
          "font": {
           "color": "#2a3f5f"
          },
          "geo": {
           "bgcolor": "white",
           "lakecolor": "white",
           "landcolor": "#E5ECF6",
           "showlakes": true,
           "showland": true,
           "subunitcolor": "white"
          },
          "hoverlabel": {
           "align": "left"
          },
          "hovermode": "closest",
          "mapbox": {
           "style": "light"
          },
          "paper_bgcolor": "white",
          "plot_bgcolor": "#E5ECF6",
          "polar": {
           "angularaxis": {
            "gridcolor": "white",
            "linecolor": "white",
            "ticks": ""
           },
           "bgcolor": "#E5ECF6",
           "radialaxis": {
            "gridcolor": "white",
            "linecolor": "white",
            "ticks": ""
           }
          },
          "scene": {
           "xaxis": {
            "backgroundcolor": "#E5ECF6",
            "gridcolor": "white",
            "gridwidth": 2,
            "linecolor": "white",
            "showbackground": true,
            "ticks": "",
            "zerolinecolor": "white"
           },
           "yaxis": {
            "backgroundcolor": "#E5ECF6",
            "gridcolor": "white",
            "gridwidth": 2,
            "linecolor": "white",
            "showbackground": true,
            "ticks": "",
            "zerolinecolor": "white"
           },
           "zaxis": {
            "backgroundcolor": "#E5ECF6",
            "gridcolor": "white",
            "gridwidth": 2,
            "linecolor": "white",
            "showbackground": true,
            "ticks": "",
            "zerolinecolor": "white"
           }
          },
          "shapedefaults": {
           "line": {
            "color": "#2a3f5f"
           }
          },
          "ternary": {
           "aaxis": {
            "gridcolor": "white",
            "linecolor": "white",
            "ticks": ""
           },
           "baxis": {
            "gridcolor": "white",
            "linecolor": "white",
            "ticks": ""
           },
           "bgcolor": "#E5ECF6",
           "caxis": {
            "gridcolor": "white",
            "linecolor": "white",
            "ticks": ""
           }
          },
          "title": {
           "x": 0.05
          },
          "xaxis": {
           "automargin": true,
           "gridcolor": "white",
           "linecolor": "white",
           "ticks": "",
           "title": {
            "standoff": 15
           },
           "zerolinecolor": "white",
           "zerolinewidth": 2
          },
          "yaxis": {
           "automargin": true,
           "gridcolor": "white",
           "linecolor": "white",
           "ticks": "",
           "title": {
            "standoff": 15
           },
           "zerolinecolor": "white",
           "zerolinewidth": 2
          }
         }
        },
        "title": {
         "text": "Weights per episode for RL model for weight 0"
        },
        "xaxis": {
         "title": {
          "text": "Episode"
         }
        },
        "yaxis": {
         "title": {
          "text": "sum of the weights"
         }
        }
       }
      }
     },
     "metadata": {},
     "output_type": "display_data"
    },
    {
     "data": {
      "application/vnd.plotly.v1+json": {
       "config": {
        "plotlyServerURL": "https://plot.ly"
       },
       "data": [
        {
         "mode": "markers",
         "name": "feature 0 for weight 1",
         "type": "scatter",
         "x": [
          0,
          1,
          2,
          3,
          4,
          5,
          6,
          7,
          8,
          9,
          10,
          11,
          12,
          13,
          14,
          15,
          16,
          17,
          18,
          19,
          20,
          21,
          22,
          23,
          24,
          25,
          26,
          27,
          28,
          29,
          30,
          31,
          32,
          33,
          34,
          35,
          36,
          37,
          38,
          39,
          40,
          41,
          42,
          43,
          44,
          45,
          46,
          47,
          48,
          49,
          50,
          51,
          52,
          53,
          54,
          55,
          56,
          57,
          58,
          59,
          60,
          61,
          62,
          63,
          64,
          65,
          66,
          67,
          68,
          69,
          70,
          71,
          72,
          73,
          74,
          75,
          76,
          77,
          78,
          79,
          80,
          81,
          82,
          83,
          84,
          85,
          86,
          87,
          88,
          89,
          90,
          91,
          92,
          93,
          94,
          95,
          96,
          97,
          98,
          99
         ],
         "y": [
          1.118794155066813,
          1.6760303139784993,
          1.5378036356691196,
          2.2305841143480656,
          1.7250483271781911,
          2.479423341000893,
          2.924704147957478,
          3.1841278839649165,
          2.7299853575348774,
          3.090928127626572,
          2.9539101077248984,
          2.825960333825856,
          2.974234996324144,
          2.61017382318126,
          2.97464901792031,
          2.775589440473981,
          2.997809826084718,
          3.0184957063145195,
          3.131666381126519,
          3.087647587042028,
          3.2841087758144245,
          3.4044622462898357,
          3.5686204328962186,
          3.2714028633589822,
          3.1838614540221113,
          2.829230979746313,
          3.1020161176480574,
          2.9840509880672386,
          3.1878215547265163,
          2.9965448530028853,
          2.799523162318914,
          2.520450053526871,
          2.820991429350314,
          2.7360030565106244,
          2.896325680238841,
          2.4234171288063875,
          2.455987687918532,
          2.7305191617591755,
          2.846844738246413,
          2.540570837177631,
          2.8072845194620095,
          2.711638459903064,
          2.707151085324242,
          2.5754007686634415,
          2.7440493980211946,
          2.485525885434544,
          2.632999785588833,
          2.746827332528874,
          2.5777405035691903,
          2.6402463376319862,
          2.557724080538028,
          2.4110736569591054,
          2.342094201914817,
          2.2503614594573733,
          2.124597896051353,
          2.2936848366872074,
          2.1035272494802406,
          2.1390434632744966,
          1.9967755592864902,
          2.1720867753787547,
          2.0483318206952643,
          2.0314162961904723,
          2.0703718130352513,
          1.9636954154872908,
          2.0556944939102673,
          2.2385934469317785,
          2.205043466213362,
          2.1282456287762606,
          2.269246476616067,
          2.474504184873748,
          2.433399832564399,
          2.4787567939302213,
          2.279249548864948,
          2.493737989276683,
          2.483617994528095,
          2.444574653696639,
          2.4082148205535905,
          2.514575188310704,
          2.5992697749041174,
          2.6460346564156647,
          2.711297943795941,
          2.7892283448064807,
          2.5889858284240543,
          2.6447589528635413,
          2.526575627253483,
          2.6414925315710645,
          2.478633844608759,
          2.5655682694848374,
          2.5219473350194743,
          2.517601952062134,
          2.6139606567245224,
          2.58962713881212,
          2.6271225419638955,
          2.549762786003149,
          2.587050281045618,
          2.54538311181471,
          2.5568372435859827,
          2.5096611732954863,
          2.514007875389733,
          2.504845115598233
         ]
        },
        {
         "mode": "markers",
         "name": "feature 1 for weight 1",
         "type": "scatter",
         "x": [
          0,
          1,
          2,
          3,
          4,
          5,
          6,
          7,
          8,
          9,
          10,
          11,
          12,
          13,
          14,
          15,
          16,
          17,
          18,
          19,
          20,
          21,
          22,
          23,
          24,
          25,
          26,
          27,
          28,
          29,
          30,
          31,
          32,
          33,
          34,
          35,
          36,
          37,
          38,
          39,
          40,
          41,
          42,
          43,
          44,
          45,
          46,
          47,
          48,
          49,
          50,
          51,
          52,
          53,
          54,
          55,
          56,
          57,
          58,
          59,
          60,
          61,
          62,
          63,
          64,
          65,
          66,
          67,
          68,
          69,
          70,
          71,
          72,
          73,
          74,
          75,
          76,
          77,
          78,
          79,
          80,
          81,
          82,
          83,
          84,
          85,
          86,
          87,
          88,
          89,
          90,
          91,
          92,
          93,
          94,
          95,
          96,
          97,
          98,
          99
         ],
         "y": [
          0.8091905956172026,
          0.5617316195442094,
          0.4563796117128649,
          0.3588097844081786,
          0.08087165925382231,
          0.8071632880479406,
          0.7529283067314166,
          0.6493091587776745,
          -0.016797998433359315,
          0.7481451340721093,
          0.3727536646256327,
          0.3888604975768364,
          0.34805475679131803,
          0.21895599367874236,
          0.3650482427542848,
          0.07375014481814585,
          0.2598635123513817,
          0.32798593502210444,
          0.39089775932237764,
          0.43695316501453757,
          0.4651801144520604,
          0.39287410826510116,
          0.446479471025524,
          0.25362508417709884,
          0.17022968966638372,
          0.06919736606520263,
          0.4120583219148079,
          -0.08826353520013061,
          0.20828330039371834,
          0.08471528767145763,
          0.15974729629734957,
          0.19991411037392684,
          0.5170099712308214,
          0.07715892840234598,
          0.0529272511825067,
          -0.08572522262695154,
          0.186932743159058,
          0.3847926826258297,
          0.477241533710266,
          0.10718053454280488,
          0.2557341582169833,
          0.07722464555578146,
          0.23029481508943378,
          0.1689181610651864,
          0.3532996957173049,
          0.15479047468306922,
          0.3471858585480256,
          0.25722483442053146,
          0.05901858649652128,
          0.21596891972313237,
          0.11694725778334497,
          0.02876033082144712,
          0.2622058729992924,
          0.2569440278592202,
          0.15363389885697284,
          0.21151179957533994,
          0.15152064145854544,
          0.16316584984153107,
          0.12327470990446629,
          0.2114025336478597,
          0.20381265016900513,
          0.1420451459096991,
          0.2557308639873598,
          0.05831063845597338,
          0.23552938822162348,
          0.30054514027138807,
          0.18527888384103122,
          0.11049671362534885,
          0.18889720203296814,
          0.30368724423335663,
          0.0866516029370796,
          0.09442785270750563,
          -0.03914013633073544,
          0.2257098492434592,
          0.1865825205745308,
          0.18740196287149122,
          0.18464875697037897,
          0.3114160302078252,
          0.25847483411753674,
          0.24735140194211427,
          0.3139500419021591,
          0.3611678856349655,
          0.14120084168287783,
          0.22241736657554528,
          0.13963190996098934,
          0.32350910332637817,
          0.09972863385801835,
          0.2579441547518828,
          0.09337820165337084,
          0.08914335963464808,
          0.19433234173828148,
          0.1639090318782117,
          0.22444042171435097,
          0.1730948193836199,
          0.2179464888235422,
          0.1885085131362051,
          0.20238281817349457,
          0.1698760839389164,
          0.18097091939263116,
          0.17666368755861364
         ]
        },
        {
         "mode": "markers",
         "name": "feature 2 for weight 1",
         "type": "scatter",
         "x": [
          0,
          1,
          2,
          3,
          4,
          5,
          6,
          7,
          8,
          9,
          10,
          11,
          12,
          13,
          14,
          15,
          16,
          17,
          18,
          19,
          20,
          21,
          22,
          23,
          24,
          25,
          26,
          27,
          28,
          29,
          30,
          31,
          32,
          33,
          34,
          35,
          36,
          37,
          38,
          39,
          40,
          41,
          42,
          43,
          44,
          45,
          46,
          47,
          48,
          49,
          50,
          51,
          52,
          53,
          54,
          55,
          56,
          57,
          58,
          59,
          60,
          61,
          62,
          63,
          64,
          65,
          66,
          67,
          68,
          69,
          70,
          71,
          72,
          73,
          74,
          75,
          76,
          77,
          78,
          79,
          80,
          81,
          82,
          83,
          84,
          85,
          86,
          87,
          88,
          89,
          90,
          91,
          92,
          93,
          94,
          95,
          96,
          97,
          98,
          99
         ],
         "y": [
          0.9736196735764309,
          1.2918654521465698,
          0.9453301465035169,
          1.2107715620087638,
          0.8204591471737791,
          1.4060766753791212,
          1.3965808026092725,
          1.3986834809433808,
          1.0133674927874126,
          1.2113025489534988,
          1.4698696555815032,
          1.4743593434340445,
          1.2686400687816808,
          0.9213795240934535,
          1.1530975342614522,
          0.9813650761020765,
          0.997518071835319,
          0.9607231416596191,
          0.8484614225070294,
          0.8969645898624764,
          0.9857719619256299,
          1.035968286546295,
          1.128641122137191,
          0.9112678574409163,
          0.9463785303631561,
          0.9442828506324707,
          0.9009242495084651,
          0.8301458341426898,
          0.9353583238688846,
          1.0051700077730532,
          0.906695860900539,
          0.8609518129114193,
          0.9302492485964438,
          0.8432026788982325,
          0.8790428757105728,
          0.6383236816222896,
          0.7303980195258238,
          0.8752801048713315,
          0.9125767146214877,
          0.865947650077268,
          0.954104531919268,
          0.9459106326832247,
          0.812590646994895,
          0.8286651810422412,
          0.8691966304285474,
          0.7308931563326556,
          0.9377322926472986,
          0.9388662915569159,
          0.8250767956442763,
          0.8843473639576492,
          0.8538853070424028,
          0.6986523040343849,
          0.648216720472456,
          0.6068811103829146,
          0.5428489554245269,
          0.6154031535342672,
          0.5580716306552459,
          0.47385204073290044,
          0.3988851732658319,
          0.4581112051338901,
          0.3750109163886396,
          0.37701534764188405,
          0.3983338651376908,
          0.3745924759535291,
          0.4105810503580624,
          0.5546001946655021,
          0.604576553713493,
          0.5445116004514163,
          0.6271004550872884,
          0.8011406504356702,
          0.8014235193209331,
          0.8270524828518855,
          0.7653340203605348,
          0.8292543674608974,
          0.8970035889588148,
          0.8618303357291809,
          0.8311615143485984,
          0.9121826873557858,
          0.9386018458501486,
          0.9725974282026564,
          1.002110278279158,
          1.0671586267586777,
          1.0108952223841725,
          1.0712281403483437,
          1.0297797258090065,
          1.0692560072007724,
          1.02811197286798,
          1.0744776821821793,
          1.0745467572141976,
          1.0605473972187525,
          1.0934918668802862,
          1.1039344181600566,
          1.1282031778472885,
          1.118334344337414,
          1.1397751388846893,
          1.1436402801308443,
          1.1539267307051766,
          1.1484612254609774,
          1.1523259524900382,
          1.1514280781393236
         ]
        },
        {
         "mode": "markers",
         "name": "feature 3 for weight 1",
         "type": "scatter",
         "x": [
          0,
          1,
          2,
          3,
          4,
          5,
          6,
          7,
          8,
          9,
          10,
          11,
          12,
          13,
          14,
          15,
          16,
          17,
          18,
          19,
          20,
          21,
          22,
          23,
          24,
          25,
          26,
          27,
          28,
          29,
          30,
          31,
          32,
          33,
          34,
          35,
          36,
          37,
          38,
          39,
          40,
          41,
          42,
          43,
          44,
          45,
          46,
          47,
          48,
          49,
          50,
          51,
          52,
          53,
          54,
          55,
          56,
          57,
          58,
          59,
          60,
          61,
          62,
          63,
          64,
          65,
          66,
          67,
          68,
          69,
          70,
          71,
          72,
          73,
          74,
          75,
          76,
          77,
          78,
          79,
          80,
          81,
          82,
          83,
          84,
          85,
          86,
          87,
          88,
          89,
          90,
          91,
          92,
          93,
          94,
          95,
          96,
          97,
          98,
          99
         ],
         "y": [
          0.8096097395797032,
          0.8614039356105275,
          0.7041013869982462,
          0.9115161407901397,
          0.1668064352970562,
          0.8766153178173308,
          0.9610267511391696,
          0.7122998304458988,
          0.3121304333543533,
          0.7468624068269055,
          0.42842508570788307,
          0.34867413483163734,
          0.5401173314046774,
          0.3251995776454801,
          0.5806954610910505,
          0.31052264652488254,
          0.3455181981903438,
          0.5273964579456943,
          0.4799046327678208,
          0.6705156781032259,
          0.6863845122371056,
          0.7787151230851188,
          0.7115567123699721,
          0.30084539056765514,
          0.25816073849410565,
          0.26678131891193724,
          0.7067349292860039,
          0.24549106204180937,
          0.32377140325865006,
          0.19731796906593957,
          0.3333850005679571,
          0.33933876113714484,
          0.5608665119446634,
          0.38426546747873336,
          0.6252228264215481,
          0.029402807780235046,
          0.2657797083018236,
          0.5243510542022857,
          0.4750875178555123,
          0.2702412523273189,
          0.6700931769075531,
          0.49095390078969653,
          0.3604177375470111,
          0.397152021218918,
          0.6616991926765673,
          0.4351436632654274,
          0.549630303324838,
          0.5770301202776174,
          0.31302463280875564,
          0.3832369323285205,
          0.2679169885013662,
          0.2097540168670161,
          0.14263228035407363,
          0.13597054569570738,
          0.10789655704828065,
          0.3281152489506113,
          0.24979882023864153,
          0.33835518542185394,
          0.22687235694655294,
          0.36658487999911166,
          0.3303993024608716,
          0.32981455232459633,
          0.33872713275984323,
          0.22125281731813545,
          0.3695017604648849,
          0.454643488083916,
          0.46376094756837416,
          0.3783468065578123,
          0.5383238931104685,
          0.6337100507235699,
          0.35262841975151993,
          0.3656041403077833,
          0.08186344589580156,
          0.30466479606896857,
          0.35584301681860736,
          0.2659585170747562,
          0.22132421794431992,
          0.34361904732062964,
          0.32482389170248704,
          0.266058955668273,
          0.31634111305376567,
          0.3333571146706096,
          0.12473737534756246,
          0.253792679510011,
          0.1769091891819376,
          0.3181453084128861,
          0.1389204541143377,
          0.270878891017788,
          0.203646057991444,
          0.19073120057817958,
          0.2871325955703679,
          0.2887902524646377,
          0.33752810093438645,
          0.2945182400265976,
          0.33494310424171503,
          0.3161762268353894,
          0.32618506291511845,
          0.29841924325114005,
          0.3063099194254916,
          0.30233323269295675
         ]
        },
        {
         "mode": "markers",
         "name": "feature 4 for weight 1",
         "type": "scatter",
         "x": [
          0,
          1,
          2,
          3,
          4,
          5,
          6,
          7,
          8,
          9,
          10,
          11,
          12,
          13,
          14,
          15,
          16,
          17,
          18,
          19,
          20,
          21,
          22,
          23,
          24,
          25,
          26,
          27,
          28,
          29,
          30,
          31,
          32,
          33,
          34,
          35,
          36,
          37,
          38,
          39,
          40,
          41,
          42,
          43,
          44,
          45,
          46,
          47,
          48,
          49,
          50,
          51,
          52,
          53,
          54,
          55,
          56,
          57,
          58,
          59,
          60,
          61,
          62,
          63,
          64,
          65,
          66,
          67,
          68,
          69,
          70,
          71,
          72,
          73,
          74,
          75,
          76,
          77,
          78,
          79,
          80,
          81,
          82,
          83,
          84,
          85,
          86,
          87,
          88,
          89,
          90,
          91,
          92,
          93,
          94,
          95,
          96,
          97,
          98,
          99
         ],
         "y": [
          0.7661730208742562,
          0.315147203656638,
          -0.28547799183610534,
          -0.24578646124629103,
          -0.06166148850382635,
          0.5529175620547404,
          0.4419936306190233,
          -0.30092581419984954,
          -0.08963733364163107,
          0.12577638645298309,
          -0.06808057290782345,
          -0.02406945946525034,
          -0.23185204772324675,
          0.04506598344179151,
          -0.21269523634854848,
          -0.0558171547240386,
          -0.05695586792232923,
          0.13886054665503025,
          0.10579677853660177,
          0.10378301346167948,
          -0.011859451598664944,
          -0.10898635479164787,
          0.5006808922131827,
          -0.14794774553460197,
          0.29317407056904665,
          -0.10021885893574088,
          0.3134611598863013,
          -0.05135541143505831,
          0.24796934250962221,
          0.10288646222171315,
          0.12036811424262638,
          -0.11365248159920749,
          0.40549405157773866,
          0.010343832397647894,
          0.17268852005939114,
          -0.19031216553176217,
          0.154566493385034,
          0.07565667510088923,
          0.06656565456806819,
          -0.13533527827004035,
          0.17548314159165612,
          0.052990048561631635,
          -0.011526363717217495,
          0.03967315551471576,
          0.12567331419666972,
          0.06766796521755257,
          0.17704072060431186,
          0.28086359681034223,
          0.0932875820025274,
          0.07962182655609078,
          0.33135756864549665,
          0.11912639732993163,
          0.12863366134801035,
          0.14618156108620017,
          0.09508857762631664,
          0.15030660983229926,
          0.04469092875390695,
          0.047283885432287676,
          0.1410682964505389,
          0.008450220156592192,
          0.018753521553998006,
          -0.02905849363375272,
          0.07757582092386796,
          -0.04785221672844088,
          0.02836588565728633,
          0.15755175620486297,
          0.09152050352618839,
          -0.02627773851718913,
          0.10678202881446423,
          0.3487483670260379,
          0.017201290334828083,
          0.1434923075976538,
          -0.08263058198574154,
          -0.012044977214657155,
          0.013857531737957899,
          0.18385548957807007,
          0.12283698977207827,
          0.26433033362501457,
          0.2872150679633975,
          0.22482941188019412,
          0.3289875885130043,
          0.4046531590833557,
          0.07269226508706578,
          0.1260024950522949,
          0.00484343859924799,
          0.07318155389283885,
          -0.1497534633306153,
          -0.03902497521831395,
          -0.04400671010210842,
          -0.06068926725045988,
          0.008351759346483306,
          0.07736348666434438,
          0.1022778804304849,
          0.06078972030785821,
          0.0913734151011175,
          0.08786881594583722,
          0.09738593075408124,
          0.0482476924752265,
          0.055553778335801704,
          0.04932265087198337
         ]
        },
        {
         "mode": "markers",
         "name": "feature 5 for weight 1",
         "type": "scatter",
         "x": [
          0,
          1,
          2,
          3,
          4,
          5,
          6,
          7,
          8,
          9,
          10,
          11,
          12,
          13,
          14,
          15,
          16,
          17,
          18,
          19,
          20,
          21,
          22,
          23,
          24,
          25,
          26,
          27,
          28,
          29,
          30,
          31,
          32,
          33,
          34,
          35,
          36,
          37,
          38,
          39,
          40,
          41,
          42,
          43,
          44,
          45,
          46,
          47,
          48,
          49,
          50,
          51,
          52,
          53,
          54,
          55,
          56,
          57,
          58,
          59,
          60,
          61,
          62,
          63,
          64,
          65,
          66,
          67,
          68,
          69,
          70,
          71,
          72,
          73,
          74,
          75,
          76,
          77,
          78,
          79,
          80,
          81,
          82,
          83,
          84,
          85,
          86,
          87,
          88,
          89,
          90,
          91,
          92,
          93,
          94,
          95,
          96,
          97,
          98,
          99
         ],
         "y": [
          0.03794966296101586,
          0.05066858049571711,
          -0.03412834700143196,
          0.006380106007266097,
          -0.005730205505911878,
          -0.03477577987653726,
          -0.08900419381078176,
          -0.03386408587570936,
          -0.0659747334290099,
          -0.02889170059859903,
          -0.058236818109944445,
          -0.04854844237965656,
          -0.03314034582168607,
          -0.026797731065911157,
          -0.03894924965612109,
          -0.11308847686438293,
          -0.09207021780417443,
          -0.06658145741806501,
          -0.08049700696582215,
          -0.10095939693162886,
          -0.09028417872752223,
          -0.0764969923893472,
          -0.07987941181603662,
          -0.03880404992672727,
          0.005611629389002893,
          0.0055345805740439225,
          0.0017447368058830163,
          0.01875392389295455,
          0.019385508157546482,
          0.009812955148235979,
          -0.011352653378409079,
          -0.007279957901283642,
          -0.009994622087804307,
          -0.030576067619791793,
          0.03438955737266651,
          0.021216707811077887,
          0.04415436318636575,
          0.03955355871911881,
          -0.020968726493123764,
          -0.03431620460693863,
          0.001564799537537888,
          0.012453396761509932,
          0.023092318999166986,
          0.0526082024013154,
          0.0393102112894884,
          0.04725601647670686,
          0.035543574228767916,
          0.021488837003618862,
          0.025068498290131004,
          0.022125121759784185,
          0.03924008578797667,
          0.07329866181973696,
          0.08060997855089527,
          0.09389640137820902,
          0.05254300284177465,
          0.048733637960414106,
          0.03510434998828721,
          0.04206231103399398,
          0.045709377958257975,
          0.04094633561890966,
          0.04691666030186725,
          0.038248712342785963,
          0.039807419183025945,
          0.02969729586470746,
          0.03224851169493208,
          0.0062092436914358935,
          0.0067289812611430215,
          0.006437897412377209,
          0.011024011805705064,
          0.008845858421847269,
          0.017855653594569976,
          0.0343990699950084,
          0.03271831225927074,
          0.04016691994940311,
          0.03843359695128442,
          0.03721399564744552,
          0.04001366448840594,
          0.041983400252972605,
          0.02951597643853845,
          0.03148488019523348,
          0.025313610608702276,
          0.026369503911834496,
          0.019687939863907034,
          0.018604941310834268,
          0.023150572473474934,
          0.040315138347403655,
          0.02712076258220257,
          0.031823971146086,
          0.035331336932184,
          0.03600230676124653,
          0.036009874666192036,
          0.04412678138357719,
          0.04412678138357719,
          0.04210829072904744,
          0.04210829072904744,
          0.0429564929371073,
          0.0429564929371073,
          0.0432948822781036,
          0.0432948822781036,
          0.043318667257960686
         ]
        },
        {
         "mode": "markers",
         "name": "feature 6 for weight 1",
         "type": "scatter",
         "x": [
          0,
          1,
          2,
          3,
          4,
          5,
          6,
          7,
          8,
          9,
          10,
          11,
          12,
          13,
          14,
          15,
          16,
          17,
          18,
          19,
          20,
          21,
          22,
          23,
          24,
          25,
          26,
          27,
          28,
          29,
          30,
          31,
          32,
          33,
          34,
          35,
          36,
          37,
          38,
          39,
          40,
          41,
          42,
          43,
          44,
          45,
          46,
          47,
          48,
          49,
          50,
          51,
          52,
          53,
          54,
          55,
          56,
          57,
          58,
          59,
          60,
          61,
          62,
          63,
          64,
          65,
          66,
          67,
          68,
          69,
          70,
          71,
          72,
          73,
          74,
          75,
          76,
          77,
          78,
          79,
          80,
          81,
          82,
          83,
          84,
          85,
          86,
          87,
          88,
          89,
          90,
          91,
          92,
          93,
          94,
          95,
          96,
          97,
          98,
          99
         ],
         "y": [
          1.3625340809641862,
          1.2710440798206746,
          0.9873314595935231,
          1.211274743335417,
          0.670909590418861,
          1.3378615231126263,
          1.1975588550552578,
          1.1802891354094207,
          0.6738039632058913,
          1.4222416045269295,
          0.9651930445695813,
          0.9096227680674528,
          0.9026789079347003,
          0.863435197446012,
          0.9817125198875505,
          0.7319515453932343,
          1.0482647830500447,
          1.1968511122452454,
          1.5526258523302559,
          1.524962725053482,
          1.3953207675315047,
          1.1242278789247278,
          1.5212549858986621,
          1.2258543021553396,
          1.0008440589086192,
          1.2142288737924685,
          1.4316134077413734,
          0.8086650879309402,
          0.8089366860024108,
          0.676274232761212,
          0.93194444856151,
          1.200063366638418,
          1.437776692386575,
          1.1135855721163461,
          1.0457233738805265,
          0.8136531011799064,
          0.9940801713663588,
          1.0600848139997072,
          1.0435611782772372,
          0.8638970071477325,
          0.999764633856573,
          0.8682569763969337,
          0.7611849442979688,
          0.8172992356192689,
          0.7974048331972601,
          0.6241373688160222,
          0.9118210729380167,
          0.8660906192578107,
          0.7421664719783373,
          0.9074974072134235,
          0.9428023036802097,
          0.6114395922036633,
          0.7003112922282625,
          0.8360439387719706,
          0.6691496372057241,
          0.6980455698059286,
          0.7547871075812134,
          0.7284478661586998,
          0.7213044680913623,
          0.7103313772620519,
          0.6518490255842998,
          0.6283723456133967,
          0.7341702532027812,
          0.5763181282003051,
          0.7051099090876481,
          0.7965434551044763,
          0.8216681704973957,
          0.8403382798054837,
          0.9568042974734563,
          1.1285623050018623,
          0.893879738950143,
          0.9151150141402657,
          0.7192985731956046,
          0.9345895999577203,
          0.8467632201632316,
          0.7993927015410676,
          0.7971727942485909,
          0.9267311278546677,
          0.9106704486816731,
          0.8941184675424947,
          0.9830524267796041,
          1.0923258978428507,
          0.9252398747414453,
          1.049543429879989,
          0.9884494271673275,
          1.161007030886961,
          1.0054514768338803,
          1.1718069427424636,
          1.0545944386937776,
          1.0607675568609432,
          1.1766050112368274,
          1.1233789089932598,
          1.1983996913912756,
          1.1377143345032537,
          1.2025006079290896,
          1.1765803606551153,
          1.2009561951678824,
          1.1773621293835281,
          1.193533303908236,
          1.1901941254248534
         ]
        },
        {
         "mode": "markers",
         "name": "feature 7 for weight 1",
         "type": "scatter",
         "x": [
          0,
          1,
          2,
          3,
          4,
          5,
          6,
          7,
          8,
          9,
          10,
          11,
          12,
          13,
          14,
          15,
          16,
          17,
          18,
          19,
          20,
          21,
          22,
          23,
          24,
          25,
          26,
          27,
          28,
          29,
          30,
          31,
          32,
          33,
          34,
          35,
          36,
          37,
          38,
          39,
          40,
          41,
          42,
          43,
          44,
          45,
          46,
          47,
          48,
          49,
          50,
          51,
          52,
          53,
          54,
          55,
          56,
          57,
          58,
          59,
          60,
          61,
          62,
          63,
          64,
          65,
          66,
          67,
          68,
          69,
          70,
          71,
          72,
          73,
          74,
          75,
          76,
          77,
          78,
          79,
          80,
          81,
          82,
          83,
          84,
          85,
          86,
          87,
          88,
          89,
          90,
          91,
          92,
          93,
          94,
          95,
          96,
          97,
          98,
          99
         ],
         "y": [
          1.0636710469445845,
          0.8366017374250416,
          0.7306854884907064,
          0.8834408145844972,
          0.8097826709754277,
          1.1386266956174582,
          0.8850597271987914,
          0.842135008400329,
          0.2087127177279383,
          0.7375527841729039,
          0.21385810353343454,
          0.06936368697768178,
          0.09155302135245395,
          0.3751306331335929,
          0.3267261510774116,
          0.10407653159597055,
          0.44219948546765786,
          0.5516357182141159,
          0.731628650486958,
          0.277923122325518,
          -0.054498143188398886,
          -0.09123837791067785,
          0.40349039140676796,
          0.01844951111417997,
          0.09794192663586489,
          0.2554055372482861,
          0.44712153144497896,
          0.2254517991630169,
          0.4398472122245693,
          0.3045803731980211,
          0.4979314434947488,
          0.6427054217380409,
          0.4422711519985787,
          0.11907422916696868,
          0.2876782658841232,
          0.17863571390565802,
          0.332606427721257,
          0.38781368489123413,
          0.30097399921647544,
          0.15519777278030128,
          0.3864252224764223,
          0.16589209441451142,
          0.32742060336378376,
          0.23061914753256638,
          0.21494103802302938,
          0.2890153231231145,
          0.354819994932525,
          0.4583554997779059,
          0.37451212230536424,
          0.41081178899824833,
          0.47623794474131614,
          0.4688489182604192,
          0.5153013330548741,
          0.6221427674174002,
          0.5844539600496078,
          0.7867811446822455,
          0.8827514671256592,
          0.9862522456279464,
          1.03123790049844,
          1.1206736249018283,
          1.1265050531775875,
          1.1904077068839773,
          1.2214183336847668,
          1.182794972902606,
          1.3192846192799736,
          1.281069005485955,
          1.1852241467234519,
          1.200199512627009,
          1.1436701301661814,
          1.007440610351701,
          0.751574874469828,
          0.7582080942120749,
          0.662184504067753,
          0.7946144514048769,
          0.644941890199722,
          0.5743403894497299,
          0.6546978644126623,
          0.6430192789010056,
          0.518485312636392,
          0.4297181672394793,
          0.40154657013244277,
          0.3408166067546841,
          0.14229798473293626,
          0.16308057118789923,
          0.12458791220184569,
          0.14162602392335008,
          0.009324651798580955,
          0.05796298290986134,
          0.001604957895760845,
          0.014786600504330007,
          0.04584824465657858,
          0.02896028270645197,
          0.025666544724881023,
          -0.02936980473068448,
          -0.035123315586868153,
          -0.07113841757788704,
          -0.08381853203630359,
          -0.11897414017800483,
          -0.1247332051585092,
          -0.13225783530651722
         ]
        },
        {
         "mode": "markers",
         "name": "feature 8 for weight 1",
         "type": "scatter",
         "x": [
          0,
          1,
          2,
          3,
          4,
          5,
          6,
          7,
          8,
          9,
          10,
          11,
          12,
          13,
          14,
          15,
          16,
          17,
          18,
          19,
          20,
          21,
          22,
          23,
          24,
          25,
          26,
          27,
          28,
          29,
          30,
          31,
          32,
          33,
          34,
          35,
          36,
          37,
          38,
          39,
          40,
          41,
          42,
          43,
          44,
          45,
          46,
          47,
          48,
          49,
          50,
          51,
          52,
          53,
          54,
          55,
          56,
          57,
          58,
          59,
          60,
          61,
          62,
          63,
          64,
          65,
          66,
          67,
          68,
          69,
          70,
          71,
          72,
          73,
          74,
          75,
          76,
          77,
          78,
          79,
          80,
          81,
          82,
          83,
          84,
          85,
          86,
          87,
          88,
          89,
          90,
          91,
          92,
          93,
          94,
          95,
          96,
          97,
          98,
          99
         ],
         "y": [
          1.0729458301643529,
          0.811248992513182,
          0.3765833463123468,
          0.9565202889035032,
          0.2236066529966357,
          1.0742176529723066,
          0.8295917454656816,
          0.7930847614417775,
          0.37083403582533725,
          0.9059523973369519,
          0.6298623136378617,
          0.4086068528183302,
          0.486233348403476,
          0.3191164105451083,
          0.6631701437879516,
          0.22142699349269293,
          0.7044849236378795,
          0.5938805206170483,
          0.9190581468697386,
          0.6984561676436389,
          0.4822513852113693,
          0.31872490239575857,
          0.786517260236706,
          0.2123191261913707,
          0.3760283447775603,
          0.20502676115741886,
          0.49429119057838417,
          0.1668948065515298,
          0.27848332942745657,
          0.3884395353296908,
          0.4831357375286298,
          0.42680385714851093,
          0.4458750455096848,
          0.13545786720269792,
          0.2921476298559324,
          0.07962623588570945,
          0.2948660269717779,
          0.38724776228851177,
          0.29368838524350804,
          0.10294847868277832,
          0.5524770395482403,
          0.3475925242599197,
          0.2420408043536084,
          0.320686483495223,
          0.3641564567182352,
          0.19015397733475453,
          0.28174342640725175,
          0.30780043382090555,
          0.21568122743944776,
          0.29044431322897896,
          0.3654162219818377,
          0.267607854119189,
          0.3717539812350678,
          0.34806378956497774,
          0.16370244390381242,
          0.38136227271806444,
          0.38060475625822554,
          0.38511773789428794,
          0.26982567325367435,
          0.3293329750269703,
          0.1495897021640014,
          0.1571388601897078,
          0.25945142605560884,
          0.17048505823022428,
          0.28641130054134306,
          0.2793778627299673,
          0.23625912056332066,
          0.22968486344309438,
          0.2799343932345569,
          0.3608880490285975,
          0.192424758950637,
          0.22380973931136652,
          0.08934286783182105,
          0.29136660748690446,
          0.20890988437705957,
          0.1509143543124909,
          0.15612633831928716,
          0.26114018711305576,
          0.19842176082743002,
          0.1802759229167306,
          0.21775074047660498,
          0.2669407279019495,
          0.06206989607720479,
          0.14003111187130707,
          0.05563486205540712,
          0.16224052995885777,
          -0.00045144373637952,
          0.09231796381039493,
          0.045770769151779876,
          0.02891257374491391,
          0.11710377779739778,
          0.10133748047180294,
          0.1129274216676567,
          0.04464684421994302,
          0.06662633996419164,
          0.03275603921495901,
          0.033261825166322395,
          -0.005544420114319651,
          -0.005701534172426178,
          -0.012173350348901088
         ]
        }
       ],
       "layout": {
        "template": {
         "data": {
          "bar": [
           {
            "error_x": {
             "color": "#2a3f5f"
            },
            "error_y": {
             "color": "#2a3f5f"
            },
            "marker": {
             "line": {
              "color": "#E5ECF6",
              "width": 0.5
             },
             "pattern": {
              "fillmode": "overlay",
              "size": 10,
              "solidity": 0.2
             }
            },
            "type": "bar"
           }
          ],
          "barpolar": [
           {
            "marker": {
             "line": {
              "color": "#E5ECF6",
              "width": 0.5
             },
             "pattern": {
              "fillmode": "overlay",
              "size": 10,
              "solidity": 0.2
             }
            },
            "type": "barpolar"
           }
          ],
          "carpet": [
           {
            "aaxis": {
             "endlinecolor": "#2a3f5f",
             "gridcolor": "white",
             "linecolor": "white",
             "minorgridcolor": "white",
             "startlinecolor": "#2a3f5f"
            },
            "baxis": {
             "endlinecolor": "#2a3f5f",
             "gridcolor": "white",
             "linecolor": "white",
             "minorgridcolor": "white",
             "startlinecolor": "#2a3f5f"
            },
            "type": "carpet"
           }
          ],
          "choropleth": [
           {
            "colorbar": {
             "outlinewidth": 0,
             "ticks": ""
            },
            "type": "choropleth"
           }
          ],
          "contour": [
           {
            "colorbar": {
             "outlinewidth": 0,
             "ticks": ""
            },
            "colorscale": [
             [
              0,
              "#0d0887"
             ],
             [
              0.1111111111111111,
              "#46039f"
             ],
             [
              0.2222222222222222,
              "#7201a8"
             ],
             [
              0.3333333333333333,
              "#9c179e"
             ],
             [
              0.4444444444444444,
              "#bd3786"
             ],
             [
              0.5555555555555556,
              "#d8576b"
             ],
             [
              0.6666666666666666,
              "#ed7953"
             ],
             [
              0.7777777777777778,
              "#fb9f3a"
             ],
             [
              0.8888888888888888,
              "#fdca26"
             ],
             [
              1,
              "#f0f921"
             ]
            ],
            "type": "contour"
           }
          ],
          "contourcarpet": [
           {
            "colorbar": {
             "outlinewidth": 0,
             "ticks": ""
            },
            "type": "contourcarpet"
           }
          ],
          "heatmap": [
           {
            "colorbar": {
             "outlinewidth": 0,
             "ticks": ""
            },
            "colorscale": [
             [
              0,
              "#0d0887"
             ],
             [
              0.1111111111111111,
              "#46039f"
             ],
             [
              0.2222222222222222,
              "#7201a8"
             ],
             [
              0.3333333333333333,
              "#9c179e"
             ],
             [
              0.4444444444444444,
              "#bd3786"
             ],
             [
              0.5555555555555556,
              "#d8576b"
             ],
             [
              0.6666666666666666,
              "#ed7953"
             ],
             [
              0.7777777777777778,
              "#fb9f3a"
             ],
             [
              0.8888888888888888,
              "#fdca26"
             ],
             [
              1,
              "#f0f921"
             ]
            ],
            "type": "heatmap"
           }
          ],
          "heatmapgl": [
           {
            "colorbar": {
             "outlinewidth": 0,
             "ticks": ""
            },
            "colorscale": [
             [
              0,
              "#0d0887"
             ],
             [
              0.1111111111111111,
              "#46039f"
             ],
             [
              0.2222222222222222,
              "#7201a8"
             ],
             [
              0.3333333333333333,
              "#9c179e"
             ],
             [
              0.4444444444444444,
              "#bd3786"
             ],
             [
              0.5555555555555556,
              "#d8576b"
             ],
             [
              0.6666666666666666,
              "#ed7953"
             ],
             [
              0.7777777777777778,
              "#fb9f3a"
             ],
             [
              0.8888888888888888,
              "#fdca26"
             ],
             [
              1,
              "#f0f921"
             ]
            ],
            "type": "heatmapgl"
           }
          ],
          "histogram": [
           {
            "marker": {
             "pattern": {
              "fillmode": "overlay",
              "size": 10,
              "solidity": 0.2
             }
            },
            "type": "histogram"
           }
          ],
          "histogram2d": [
           {
            "colorbar": {
             "outlinewidth": 0,
             "ticks": ""
            },
            "colorscale": [
             [
              0,
              "#0d0887"
             ],
             [
              0.1111111111111111,
              "#46039f"
             ],
             [
              0.2222222222222222,
              "#7201a8"
             ],
             [
              0.3333333333333333,
              "#9c179e"
             ],
             [
              0.4444444444444444,
              "#bd3786"
             ],
             [
              0.5555555555555556,
              "#d8576b"
             ],
             [
              0.6666666666666666,
              "#ed7953"
             ],
             [
              0.7777777777777778,
              "#fb9f3a"
             ],
             [
              0.8888888888888888,
              "#fdca26"
             ],
             [
              1,
              "#f0f921"
             ]
            ],
            "type": "histogram2d"
           }
          ],
          "histogram2dcontour": [
           {
            "colorbar": {
             "outlinewidth": 0,
             "ticks": ""
            },
            "colorscale": [
             [
              0,
              "#0d0887"
             ],
             [
              0.1111111111111111,
              "#46039f"
             ],
             [
              0.2222222222222222,
              "#7201a8"
             ],
             [
              0.3333333333333333,
              "#9c179e"
             ],
             [
              0.4444444444444444,
              "#bd3786"
             ],
             [
              0.5555555555555556,
              "#d8576b"
             ],
             [
              0.6666666666666666,
              "#ed7953"
             ],
             [
              0.7777777777777778,
              "#fb9f3a"
             ],
             [
              0.8888888888888888,
              "#fdca26"
             ],
             [
              1,
              "#f0f921"
             ]
            ],
            "type": "histogram2dcontour"
           }
          ],
          "mesh3d": [
           {
            "colorbar": {
             "outlinewidth": 0,
             "ticks": ""
            },
            "type": "mesh3d"
           }
          ],
          "parcoords": [
           {
            "line": {
             "colorbar": {
              "outlinewidth": 0,
              "ticks": ""
             }
            },
            "type": "parcoords"
           }
          ],
          "pie": [
           {
            "automargin": true,
            "type": "pie"
           }
          ],
          "scatter": [
           {
            "fillpattern": {
             "fillmode": "overlay",
             "size": 10,
             "solidity": 0.2
            },
            "type": "scatter"
           }
          ],
          "scatter3d": [
           {
            "line": {
             "colorbar": {
              "outlinewidth": 0,
              "ticks": ""
             }
            },
            "marker": {
             "colorbar": {
              "outlinewidth": 0,
              "ticks": ""
             }
            },
            "type": "scatter3d"
           }
          ],
          "scattercarpet": [
           {
            "marker": {
             "colorbar": {
              "outlinewidth": 0,
              "ticks": ""
             }
            },
            "type": "scattercarpet"
           }
          ],
          "scattergeo": [
           {
            "marker": {
             "colorbar": {
              "outlinewidth": 0,
              "ticks": ""
             }
            },
            "type": "scattergeo"
           }
          ],
          "scattergl": [
           {
            "marker": {
             "colorbar": {
              "outlinewidth": 0,
              "ticks": ""
             }
            },
            "type": "scattergl"
           }
          ],
          "scattermapbox": [
           {
            "marker": {
             "colorbar": {
              "outlinewidth": 0,
              "ticks": ""
             }
            },
            "type": "scattermapbox"
           }
          ],
          "scatterpolar": [
           {
            "marker": {
             "colorbar": {
              "outlinewidth": 0,
              "ticks": ""
             }
            },
            "type": "scatterpolar"
           }
          ],
          "scatterpolargl": [
           {
            "marker": {
             "colorbar": {
              "outlinewidth": 0,
              "ticks": ""
             }
            },
            "type": "scatterpolargl"
           }
          ],
          "scatterternary": [
           {
            "marker": {
             "colorbar": {
              "outlinewidth": 0,
              "ticks": ""
             }
            },
            "type": "scatterternary"
           }
          ],
          "surface": [
           {
            "colorbar": {
             "outlinewidth": 0,
             "ticks": ""
            },
            "colorscale": [
             [
              0,
              "#0d0887"
             ],
             [
              0.1111111111111111,
              "#46039f"
             ],
             [
              0.2222222222222222,
              "#7201a8"
             ],
             [
              0.3333333333333333,
              "#9c179e"
             ],
             [
              0.4444444444444444,
              "#bd3786"
             ],
             [
              0.5555555555555556,
              "#d8576b"
             ],
             [
              0.6666666666666666,
              "#ed7953"
             ],
             [
              0.7777777777777778,
              "#fb9f3a"
             ],
             [
              0.8888888888888888,
              "#fdca26"
             ],
             [
              1,
              "#f0f921"
             ]
            ],
            "type": "surface"
           }
          ],
          "table": [
           {
            "cells": {
             "fill": {
              "color": "#EBF0F8"
             },
             "line": {
              "color": "white"
             }
            },
            "header": {
             "fill": {
              "color": "#C8D4E3"
             },
             "line": {
              "color": "white"
             }
            },
            "type": "table"
           }
          ]
         },
         "layout": {
          "annotationdefaults": {
           "arrowcolor": "#2a3f5f",
           "arrowhead": 0,
           "arrowwidth": 1
          },
          "autotypenumbers": "strict",
          "coloraxis": {
           "colorbar": {
            "outlinewidth": 0,
            "ticks": ""
           }
          },
          "colorscale": {
           "diverging": [
            [
             0,
             "#8e0152"
            ],
            [
             0.1,
             "#c51b7d"
            ],
            [
             0.2,
             "#de77ae"
            ],
            [
             0.3,
             "#f1b6da"
            ],
            [
             0.4,
             "#fde0ef"
            ],
            [
             0.5,
             "#f7f7f7"
            ],
            [
             0.6,
             "#e6f5d0"
            ],
            [
             0.7,
             "#b8e186"
            ],
            [
             0.8,
             "#7fbc41"
            ],
            [
             0.9,
             "#4d9221"
            ],
            [
             1,
             "#276419"
            ]
           ],
           "sequential": [
            [
             0,
             "#0d0887"
            ],
            [
             0.1111111111111111,
             "#46039f"
            ],
            [
             0.2222222222222222,
             "#7201a8"
            ],
            [
             0.3333333333333333,
             "#9c179e"
            ],
            [
             0.4444444444444444,
             "#bd3786"
            ],
            [
             0.5555555555555556,
             "#d8576b"
            ],
            [
             0.6666666666666666,
             "#ed7953"
            ],
            [
             0.7777777777777778,
             "#fb9f3a"
            ],
            [
             0.8888888888888888,
             "#fdca26"
            ],
            [
             1,
             "#f0f921"
            ]
           ],
           "sequentialminus": [
            [
             0,
             "#0d0887"
            ],
            [
             0.1111111111111111,
             "#46039f"
            ],
            [
             0.2222222222222222,
             "#7201a8"
            ],
            [
             0.3333333333333333,
             "#9c179e"
            ],
            [
             0.4444444444444444,
             "#bd3786"
            ],
            [
             0.5555555555555556,
             "#d8576b"
            ],
            [
             0.6666666666666666,
             "#ed7953"
            ],
            [
             0.7777777777777778,
             "#fb9f3a"
            ],
            [
             0.8888888888888888,
             "#fdca26"
            ],
            [
             1,
             "#f0f921"
            ]
           ]
          },
          "colorway": [
           "#636efa",
           "#EF553B",
           "#00cc96",
           "#ab63fa",
           "#FFA15A",
           "#19d3f3",
           "#FF6692",
           "#B6E880",
           "#FF97FF",
           "#FECB52"
          ],
          "font": {
           "color": "#2a3f5f"
          },
          "geo": {
           "bgcolor": "white",
           "lakecolor": "white",
           "landcolor": "#E5ECF6",
           "showlakes": true,
           "showland": true,
           "subunitcolor": "white"
          },
          "hoverlabel": {
           "align": "left"
          },
          "hovermode": "closest",
          "mapbox": {
           "style": "light"
          },
          "paper_bgcolor": "white",
          "plot_bgcolor": "#E5ECF6",
          "polar": {
           "angularaxis": {
            "gridcolor": "white",
            "linecolor": "white",
            "ticks": ""
           },
           "bgcolor": "#E5ECF6",
           "radialaxis": {
            "gridcolor": "white",
            "linecolor": "white",
            "ticks": ""
           }
          },
          "scene": {
           "xaxis": {
            "backgroundcolor": "#E5ECF6",
            "gridcolor": "white",
            "gridwidth": 2,
            "linecolor": "white",
            "showbackground": true,
            "ticks": "",
            "zerolinecolor": "white"
           },
           "yaxis": {
            "backgroundcolor": "#E5ECF6",
            "gridcolor": "white",
            "gridwidth": 2,
            "linecolor": "white",
            "showbackground": true,
            "ticks": "",
            "zerolinecolor": "white"
           },
           "zaxis": {
            "backgroundcolor": "#E5ECF6",
            "gridcolor": "white",
            "gridwidth": 2,
            "linecolor": "white",
            "showbackground": true,
            "ticks": "",
            "zerolinecolor": "white"
           }
          },
          "shapedefaults": {
           "line": {
            "color": "#2a3f5f"
           }
          },
          "ternary": {
           "aaxis": {
            "gridcolor": "white",
            "linecolor": "white",
            "ticks": ""
           },
           "baxis": {
            "gridcolor": "white",
            "linecolor": "white",
            "ticks": ""
           },
           "bgcolor": "#E5ECF6",
           "caxis": {
            "gridcolor": "white",
            "linecolor": "white",
            "ticks": ""
           }
          },
          "title": {
           "x": 0.05
          },
          "xaxis": {
           "automargin": true,
           "gridcolor": "white",
           "linecolor": "white",
           "ticks": "",
           "title": {
            "standoff": 15
           },
           "zerolinecolor": "white",
           "zerolinewidth": 2
          },
          "yaxis": {
           "automargin": true,
           "gridcolor": "white",
           "linecolor": "white",
           "ticks": "",
           "title": {
            "standoff": 15
           },
           "zerolinecolor": "white",
           "zerolinewidth": 2
          }
         }
        },
        "title": {
         "text": "Weights per episode for RL model for weight 1"
        },
        "xaxis": {
         "title": {
          "text": "Episode"
         }
        },
        "yaxis": {
         "title": {
          "text": "sum of the weights"
         }
        }
       }
      }
     },
     "metadata": {},
     "output_type": "display_data"
    },
    {
     "data": {
      "application/vnd.plotly.v1+json": {
       "config": {
        "plotlyServerURL": "https://plot.ly"
       },
       "data": [
        {
         "mode": "markers",
         "name": "feature 0 for weight 2",
         "type": "scatter",
         "x": [
          0,
          1,
          2,
          3,
          4,
          5,
          6,
          7,
          8,
          9,
          10,
          11,
          12,
          13,
          14,
          15,
          16,
          17,
          18,
          19,
          20,
          21,
          22,
          23,
          24,
          25,
          26,
          27,
          28,
          29,
          30,
          31,
          32,
          33,
          34,
          35,
          36,
          37,
          38,
          39,
          40,
          41,
          42,
          43,
          44,
          45,
          46,
          47,
          48,
          49,
          50,
          51,
          52,
          53,
          54,
          55,
          56,
          57,
          58,
          59,
          60,
          61,
          62,
          63,
          64,
          65,
          66,
          67,
          68,
          69,
          70,
          71,
          72,
          73,
          74,
          75,
          76,
          77,
          78,
          79,
          80,
          81,
          82,
          83,
          84,
          85,
          86,
          87,
          88,
          89,
          90,
          91,
          92,
          93,
          94,
          95,
          96,
          97,
          98,
          99
         ],
         "y": [
          1.0865469786501945,
          1.8980134918399532,
          1.6973357035969112,
          2.0986937754439894,
          1.9263866527083369,
          2.715849926865529,
          2.922414450899252,
          3.0941838999694578,
          2.909429500801637,
          3.4889556178885464,
          3.2672459436648107,
          3.1115993806609468,
          3.0103704496214365,
          2.8759404154228005,
          3.1279060450703886,
          2.8215623303638466,
          2.9857902680925243,
          3.1482809220680847,
          3.5511435262319297,
          3.6279414238584935,
          3.531367737918879,
          3.4335333177427185,
          3.798250704298304,
          3.198711515708799,
          3.141315531138829,
          2.8882870064125745,
          3.1773601047298645,
          2.6988574042379687,
          2.9476168686495905,
          2.6843726004795028,
          2.7508439612928868,
          2.6808353029632555,
          3.0030979092402954,
          2.66158001341911,
          2.6277858945375407,
          2.2321536205994916,
          2.2748777706559262,
          2.683369341267257,
          2.864004659957514,
          2.4803685206679207,
          2.589788587182898,
          2.5699875295189423,
          2.4586878618302555,
          2.4477168064603947,
          2.417959293151987,
          2.4014971952778743,
          2.504961697066948,
          2.466890699384186,
          2.404569431063411,
          2.494926636725721,
          2.502438804299119,
          2.4167436788961143,
          2.2557918096589393,
          2.2614873864269915,
          2.187228980628431,
          2.2747569075550036,
          2.170235279096761,
          2.1732083007965692,
          2.052211986074307,
          2.1034900577877704,
          1.978830626225182,
          2.063984274513271,
          1.969500674622612,
          1.9631780272540371,
          1.9240473514529328,
          2.1562331881892702,
          2.1695259510969285,
          2.166009802392147,
          2.243369969734721,
          2.226450149782921,
          2.153976398455884,
          2.156084125673702,
          1.9739802330848584,
          2.1107283155279486,
          2.070419786733282,
          2.105781374676796,
          2.079670975638983,
          2.0966994505224754,
          2.0785735885235654,
          2.0820967129492387,
          2.0815499100051778,
          2.110653554499507,
          2.020862842084447,
          2.0334070270285336,
          2.002324495942843,
          2.029053174030302,
          1.9015716108916227,
          1.9486267267157416,
          1.8744153720856105,
          1.9348199448547427,
          1.927179417913844,
          1.9728613125008772,
          1.9510333277137104,
          1.9625532041753544,
          1.9591522677892317,
          1.9703335608719106,
          1.9545803046558932,
          1.9430375879922501,
          1.9502705265517606,
          1.9482887728002753
         ]
        },
        {
         "mode": "markers",
         "name": "feature 1 for weight 2",
         "type": "scatter",
         "x": [
          0,
          1,
          2,
          3,
          4,
          5,
          6,
          7,
          8,
          9,
          10,
          11,
          12,
          13,
          14,
          15,
          16,
          17,
          18,
          19,
          20,
          21,
          22,
          23,
          24,
          25,
          26,
          27,
          28,
          29,
          30,
          31,
          32,
          33,
          34,
          35,
          36,
          37,
          38,
          39,
          40,
          41,
          42,
          43,
          44,
          45,
          46,
          47,
          48,
          49,
          50,
          51,
          52,
          53,
          54,
          55,
          56,
          57,
          58,
          59,
          60,
          61,
          62,
          63,
          64,
          65,
          66,
          67,
          68,
          69,
          70,
          71,
          72,
          73,
          74,
          75,
          76,
          77,
          78,
          79,
          80,
          81,
          82,
          83,
          84,
          85,
          86,
          87,
          88,
          89,
          90,
          91,
          92,
          93,
          94,
          95,
          96,
          97,
          98,
          99
         ],
         "y": [
          0.46254595991470393,
          0.32901002090253484,
          0.498172832806824,
          0.5276287593017013,
          0.17832435049993411,
          0.6338014263973515,
          0.4866825583468699,
          0.2716055226621916,
          0.1231995427810755,
          0.3868670799024453,
          0.12360161730815668,
          0.12806421513871244,
          0.23695833794747942,
          0.40137756247804285,
          0.4008772755669467,
          0.17382381998470936,
          0.2661776189563913,
          0.5651001402383669,
          0.5675688540508423,
          0.6478884099493283,
          0.319409884885077,
          0.40544638226637764,
          0.597317093893733,
          0.28112602571614387,
          0.49668904141781844,
          0.0006710265235930733,
          0.3524398246728214,
          0.11711887806779742,
          0.3213582068711391,
          0.1235942816345384,
          0.28862464275964345,
          0.20183224333356212,
          0.6394122022329627,
          0.0016149119209404178,
          0.18937309417785203,
          -0.07544323207247694,
          0.26139095770720877,
          0.6267340281473175,
          0.4574386120966971,
          0.11287743628393425,
          0.2029480272209483,
          0.1227563119172588,
          0.23836705785520004,
          0.16653262622332424,
          0.33077753506680674,
          0.34724678350653476,
          0.3164193099641814,
          0.4307298943474339,
          0.11370037647422532,
          0.24057717976976734,
          0.07330226380664305,
          0.1644602575894598,
          0.16639328820605956,
          0.272000013211256,
          0.24691373259573307,
          0.22437108121653546,
          0.08469199468421888,
          0.18739994320542552,
          0.08944202947920438,
          0.19945365165996176,
          0.11653324406682042,
          0.29941299530511223,
          0.23810040987413825,
          0.1628216143031427,
          0.19723363326509452,
          0.35893650595333343,
          0.31397932560130365,
          0.13526120173922165,
          0.2530919222725745,
          0.29350076295619704,
          0.23712967308006844,
          0.3195612506605747,
          0.1537911941547087,
          0.1686388099689585,
          0.30723488295235396,
          0.3604111031810989,
          0.27032983583475123,
          0.28808225434996176,
          0.27371240600402647,
          0.2236631756445745,
          0.23320812331349886,
          0.249358123036605,
          0.23785991909139378,
          0.28030078893788246,
          0.27411130940832645,
          0.26289496563045817,
          0.20969272907058048,
          0.2726523730731019,
          0.2630455091417855,
          0.2915949933742268,
          0.26189248593580566,
          0.36212515829888664,
          0.32881894207684664,
          0.36667969032586406,
          0.34340787229932307,
          0.3841635074194368,
          0.3742993157801822,
          0.3783325337206862,
          0.3887574670626321,
          0.38974394146619806
         ]
        },
        {
         "mode": "markers",
         "name": "feature 2 for weight 2",
         "type": "scatter",
         "x": [
          0,
          1,
          2,
          3,
          4,
          5,
          6,
          7,
          8,
          9,
          10,
          11,
          12,
          13,
          14,
          15,
          16,
          17,
          18,
          19,
          20,
          21,
          22,
          23,
          24,
          25,
          26,
          27,
          28,
          29,
          30,
          31,
          32,
          33,
          34,
          35,
          36,
          37,
          38,
          39,
          40,
          41,
          42,
          43,
          44,
          45,
          46,
          47,
          48,
          49,
          50,
          51,
          52,
          53,
          54,
          55,
          56,
          57,
          58,
          59,
          60,
          61,
          62,
          63,
          64,
          65,
          66,
          67,
          68,
          69,
          70,
          71,
          72,
          73,
          74,
          75,
          76,
          77,
          78,
          79,
          80,
          81,
          82,
          83,
          84,
          85,
          86,
          87,
          88,
          89,
          90,
          91,
          92,
          93,
          94,
          95,
          96,
          97,
          98,
          99
         ],
         "y": [
          0.28928293013864775,
          0.48575110277074435,
          0.43740483581839273,
          0.7936328394185,
          0.8758969784596866,
          1.1546957726203908,
          0.8147140924834707,
          0.8618682421631478,
          0.9287215061620819,
          1.1610908888309606,
          1.0371894047826868,
          0.8541550769890021,
          1.0384421637005434,
          0.9934446001061619,
          1.172361913520775,
          1.0127193030783912,
          1.1809779799887203,
          1.4593258385554437,
          1.5000723992932177,
          1.6541837500651317,
          1.344745712685358,
          1.1131392015664638,
          1.2243042144319778,
          1.0338197059099226,
          1.2129920281319748,
          1.0340988898739436,
          1.1077745238033414,
          0.9574923290171874,
          1.1238224212158616,
          0.8948579333627645,
          0.9298282391288405,
          0.8110847463664467,
          1.0818043101796022,
          0.8416566453992588,
          0.9369747753203093,
          0.7755709466879808,
          0.8554926586814344,
          1.1019845651559281,
          1.074052034215576,
          0.7560026334860217,
          0.790360841502727,
          0.7547983415373418,
          0.7016184626182833,
          0.6865649795183801,
          0.6136152334674421,
          0.6633112315360303,
          0.7206890966543601,
          0.790112826226005,
          0.7490283923071595,
          0.8339288921559961,
          0.8647504714438936,
          0.7825536012353731,
          0.6968656064869968,
          0.6872087771051787,
          0.6497110468420426,
          0.6384886782759058,
          0.5795820059466498,
          0.568034862161554,
          0.47923313542477375,
          0.46318371138525755,
          0.49004778072739097,
          0.5287198593839805,
          0.5541817141792403,
          0.5771228089348304,
          0.5685205141185884,
          0.7950418976207284,
          0.913316768093046,
          0.9579616853277646,
          1.1029108445047988,
          1.234523976929418,
          1.2266359012506554,
          1.3021983375034205,
          1.1459401059001237,
          1.2611466759643581,
          1.2756439376848783,
          1.2934995762258554,
          1.1887271590742128,
          1.2397638039227508,
          1.3029453902363195,
          1.3533765219093625,
          1.3949345252201157,
          1.4569540750270087,
          1.378379521035302,
          1.4729222353125848,
          1.4395487600944956,
          1.5113599569915361,
          1.4331301695044811,
          1.473474038632043,
          1.427220612740633,
          1.476764693655336,
          1.495604654392927,
          1.4884454879637177,
          1.4805040339231867,
          1.46851335682079,
          1.4756924269643923,
          1.4669166918377585,
          1.4596147884903516,
          1.4488145892226578,
          1.451882549450778,
          1.4495742444763624
         ]
        },
        {
         "mode": "markers",
         "name": "feature 3 for weight 2",
         "type": "scatter",
         "x": [
          0,
          1,
          2,
          3,
          4,
          5,
          6,
          7,
          8,
          9,
          10,
          11,
          12,
          13,
          14,
          15,
          16,
          17,
          18,
          19,
          20,
          21,
          22,
          23,
          24,
          25,
          26,
          27,
          28,
          29,
          30,
          31,
          32,
          33,
          34,
          35,
          36,
          37,
          38,
          39,
          40,
          41,
          42,
          43,
          44,
          45,
          46,
          47,
          48,
          49,
          50,
          51,
          52,
          53,
          54,
          55,
          56,
          57,
          58,
          59,
          60,
          61,
          62,
          63,
          64,
          65,
          66,
          67,
          68,
          69,
          70,
          71,
          72,
          73,
          74,
          75,
          76,
          77,
          78,
          79,
          80,
          81,
          82,
          83,
          84,
          85,
          86,
          87,
          88,
          89,
          90,
          91,
          92,
          93,
          94,
          95,
          96,
          97,
          98,
          99
         ],
         "y": [
          1.218240108776084,
          1.0779681226224873,
          0.6060274635176274,
          0.786807104839684,
          0.4095064337717083,
          0.9778730811010193,
          0.798318761139503,
          0.44381031232739615,
          0.1996365435749995,
          0.7881754495938237,
          0.45736047778416244,
          0.24004932482595503,
          0.3268247293454196,
          0.3324552044529803,
          0.3732649536322106,
          0.06506666201921774,
          0.30499699736565516,
          0.5840746539072843,
          0.9247663636429162,
          0.645784084523432,
          0.4519227107640703,
          0.28992536028517496,
          0.7882714405974547,
          0.13725922625690504,
          0.11134160947745003,
          0.30427962291766103,
          0.4123358720958533,
          0.173495667481525,
          0.5340003473758468,
          0.5336851742772554,
          0.4310877137022838,
          0.2179241495034104,
          0.5107131229072798,
          0.22678483509730346,
          0.18413745086049504,
          -0.09306765613300004,
          0.15342775747031906,
          0.6151495612884649,
          0.40418288906909305,
          -0.027741234621366313,
          0.2624337602821567,
          0.17569794043499942,
          0.29602755489140753,
          0.19937615149401772,
          0.1519112476386563,
          0.27868588279284107,
          0.37441921618819646,
          0.5055103970851502,
          0.25529679712722403,
          0.4099424808149825,
          0.3167943971155449,
          0.22317422208786386,
          0.235617312496895,
          0.31210485237962887,
          0.2999058181208638,
          0.16140591501138865,
          0.08652014602428382,
          0.14871793915342554,
          0.10557222125621084,
          0.18959149212533122,
          0.09737617525229908,
          0.16322874248062685,
          0.16306064447430638,
          0.15525354112668724,
          0.1268735035979551,
          0.30130315301441973,
          0.261518802385022,
          0.22435418558958464,
          0.2364931260708633,
          0.28753154555737936,
          0.18283442252077484,
          0.13121522327883536,
          0.007693413888001944,
          0.190731291842608,
          0.1546723226644132,
          0.18072138615765151,
          0.10438320788154593,
          0.1489616610581174,
          0.11938291035121283,
          0.11529732403457427,
          0.16984395501902363,
          0.21428263481262538,
          0.11414624397624829,
          0.10521732959359807,
          0.06144253934462882,
          0.20087819673312773,
          0.10352545856581798,
          0.20261668565002128,
          0.12366318274057977,
          0.21615927088450324,
          0.20741435507782766,
          0.25626240670795736,
          0.21873564083970579,
          0.22335453461894328,
          0.21105064895106737,
          0.2201384759350116,
          0.20977369857168657,
          0.1973417574068125,
          0.21047102202179355,
          0.20723035119213862
         ]
        },
        {
         "mode": "markers",
         "name": "feature 4 for weight 2",
         "type": "scatter",
         "x": [
          0,
          1,
          2,
          3,
          4,
          5,
          6,
          7,
          8,
          9,
          10,
          11,
          12,
          13,
          14,
          15,
          16,
          17,
          18,
          19,
          20,
          21,
          22,
          23,
          24,
          25,
          26,
          27,
          28,
          29,
          30,
          31,
          32,
          33,
          34,
          35,
          36,
          37,
          38,
          39,
          40,
          41,
          42,
          43,
          44,
          45,
          46,
          47,
          48,
          49,
          50,
          51,
          52,
          53,
          54,
          55,
          56,
          57,
          58,
          59,
          60,
          61,
          62,
          63,
          64,
          65,
          66,
          67,
          68,
          69,
          70,
          71,
          72,
          73,
          74,
          75,
          76,
          77,
          78,
          79,
          80,
          81,
          82,
          83,
          84,
          85,
          86,
          87,
          88,
          89,
          90,
          91,
          92,
          93,
          94,
          95,
          96,
          97,
          98,
          99
         ],
         "y": [
          0.47303711121070524,
          0.05208112920015528,
          -0.20432783306233632,
          0.30246216313888263,
          -0.12044960135448296,
          0.5687525725680682,
          0.26113952836716436,
          0.15681416621029487,
          -0.04242427939960111,
          0.13225075350323226,
          -0.2714863127512197,
          -0.04343637311346639,
          0.18359848849211602,
          0.24784455560783597,
          0.03701236712610756,
          0.043856057648790844,
          0.32866785168555873,
          0.22314571001325115,
          0.06626959987039326,
          0.23507605108054844,
          0.08285012007227252,
          0.07506421345172866,
          0.21430070857911276,
          0.0026206784710330958,
          0.15379322610950893,
          -0.12663249717373312,
          0.21560150463306282,
          0.0498834434146324,
          0.01110047614856098,
          -0.061129240573539384,
          -0.11757898788867027,
          -0.10411931657433186,
          -0.08692917399317378,
          -0.039386009246903164,
          0.2193492998246131,
          -0.13909170684114497,
          0.10705698584030415,
          -0.19225589396982834,
          -0.23048605910677677,
          -0.2082221052971202,
          0.20318832131332898,
          0.10619495497648077,
          0.0618934293334007,
          0.1691559583238728,
          0.3147905506370341,
          0.05517111330743913,
          -0.08284843176271345,
          0.13535032890619023,
          -0.07586533359646708,
          -0.015929505515353465,
          0.006284517199662592,
          0.031273694680870025,
          0.14685175920359633,
          0.06298728150709881,
          0.006814681958745135,
          0.11716182047685014,
          -0.06529052889785081,
          0.11742177508835375,
          0.03400424640856412,
          -0.03842011068217468,
          0.02815051827747988,
          -0.03838646370404068,
          0.02178513813264602,
          -0.06897502450606481,
          0.03104902732002257,
          0.17139100527956846,
          0.21914416949999482,
          0.03554988439216756,
          0.09469558355880611,
          0.1920298821080018,
          0.0318169965016601,
          0.06747145826659341,
          -0.10855898132833508,
          0.0712936759905871,
          0.18432251040635983,
          0.12315983054535876,
          0.028431497382336912,
          0.17118755261476853,
          0.13078513691360316,
          0.1413321487535951,
          0.17922629507906093,
          0.16227335076771887,
          0.011105821415897683,
          0.04708868440444605,
          -0.01414962466801446,
          0.059489349671467885,
          -0.08794976832705702,
          0.02031910388853811,
          -0.020351240017550717,
          -0.0013511685511452174,
          -0.0061788919541535285,
          0.010125078682174826,
          -0.006890514373179376,
          -0.013475856821978523,
          -0.03498484792102496,
          -0.0264702542354581,
          -0.03561573058643876,
          -0.03703505995234828,
          -0.04096175704322583,
          -0.03766754191996846
         ]
        },
        {
         "mode": "markers",
         "name": "feature 5 for weight 2",
         "type": "scatter",
         "x": [
          0,
          1,
          2,
          3,
          4,
          5,
          6,
          7,
          8,
          9,
          10,
          11,
          12,
          13,
          14,
          15,
          16,
          17,
          18,
          19,
          20,
          21,
          22,
          23,
          24,
          25,
          26,
          27,
          28,
          29,
          30,
          31,
          32,
          33,
          34,
          35,
          36,
          37,
          38,
          39,
          40,
          41,
          42,
          43,
          44,
          45,
          46,
          47,
          48,
          49,
          50,
          51,
          52,
          53,
          54,
          55,
          56,
          57,
          58,
          59,
          60,
          61,
          62,
          63,
          64,
          65,
          66,
          67,
          68,
          69,
          70,
          71,
          72,
          73,
          74,
          75,
          76,
          77,
          78,
          79,
          80,
          81,
          82,
          83,
          84,
          85,
          86,
          87,
          88,
          89,
          90,
          91,
          92,
          93,
          94,
          95,
          96,
          97,
          98,
          99
         ],
         "y": [
          0.04834714666879588,
          -0.09308800720632972,
          -0.09174934552771691,
          -0.04345962812413801,
          -0.04529117355832583,
          -0.06685888517034339,
          -0.07425680688734071,
          -0.0017327442243068153,
          -0.003349091140554952,
          0.06415659841434712,
          0.06555297446983933,
          0.017036244312017248,
          -0.011511257326733094,
          0.04095390586017862,
          0.041919237201067994,
          -0.005114496475718265,
          -0.007342764043119496,
          -0.0037513770458495674,
          0.040071850697971825,
          -0.0027468917183128753,
          -0.05179512573864262,
          -0.04280192038321601,
          -0.0401618983246971,
          -0.04402475135866496,
          -0.022052723056236692,
          0.029968722674057396,
          0.015228132310259886,
          -0.013710385822575749,
          0.02733979335414498,
          0.003077049801367891,
          0.02600487545654637,
          0.010616969599590168,
          -0.012845492735790949,
          -0.004798065574558312,
          0.003418257411048316,
          -0.00816635185162167,
          -0.0090030923340578,
          -0.007694916296911031,
          0.0041257109322367855,
          -0.018895666964937264,
          -0.008936577001892128,
          -0.0169719054678905,
          -0.0095894616112585,
          -0.052107411963273516,
          -0.04151845735725059,
          -0.03910545241966412,
          -0.0744750258677666,
          -0.0733639967540402,
          -0.054101163755852034,
          -0.04523764384630189,
          -0.033421250702399034,
          -0.03402577611960672,
          -0.011515750445884997,
          0.015934534394085684,
          0.029300691481630482,
          -0.009561690527356207,
          -0.01937857640173215,
          0.006060296838051431,
          0.007808292887894004,
          0.017445501679651396,
          -0.0032369235828996197,
          -0.012472043923205351,
          -0.007061155683230649,
          -0.010240380893166381,
          -0.004814453247112545,
          0.007248788925633629,
          -0.003601047318914577,
          -0.01198781633676193,
          -0.008764253924469178,
          -0.025158470049244833,
          -0.02663891257912151,
          -0.035124134394713555,
          -0.02108025381307877,
          -0.004855310354608011,
          -0.00017807183058259803,
          0.00472979035459346,
          -0.008273793933885058,
          -0.01377835262616392,
          -0.024212163360602397,
          -0.025210070668660562,
          -0.037180099400845705,
          -0.025939443212145703,
          -0.031144484615199836,
          -0.027667523439368732,
          -0.023607365501576605,
          -0.013522334725754799,
          -0.011719627660473084,
          -0.0076027684632802225,
          -0.013815780247744242,
          -0.009574641658854648,
          -0.008690753525729318,
          -0.011240031270426078,
          -0.015690834332204775,
          -0.01803138053676028,
          -0.02051520324051556,
          -0.022285730692192675,
          -0.024753176225199368,
          -0.025566168139225763,
          -0.02641673377979244,
          -0.026947936940438278
         ]
        },
        {
         "mode": "markers",
         "name": "feature 6 for weight 2",
         "type": "scatter",
         "x": [
          0,
          1,
          2,
          3,
          4,
          5,
          6,
          7,
          8,
          9,
          10,
          11,
          12,
          13,
          14,
          15,
          16,
          17,
          18,
          19,
          20,
          21,
          22,
          23,
          24,
          25,
          26,
          27,
          28,
          29,
          30,
          31,
          32,
          33,
          34,
          35,
          36,
          37,
          38,
          39,
          40,
          41,
          42,
          43,
          44,
          45,
          46,
          47,
          48,
          49,
          50,
          51,
          52,
          53,
          54,
          55,
          56,
          57,
          58,
          59,
          60,
          61,
          62,
          63,
          64,
          65,
          66,
          67,
          68,
          69,
          70,
          71,
          72,
          73,
          74,
          75,
          76,
          77,
          78,
          79,
          80,
          81,
          82,
          83,
          84,
          85,
          86,
          87,
          88,
          89,
          90,
          91,
          92,
          93,
          94,
          95,
          96,
          97,
          98,
          99
         ],
         "y": [
          1.2906807355826855,
          1.2883511063307473,
          1.1969540740559936,
          1.2798392477626943,
          0.8666467669211061,
          1.33830836261145,
          1.2477969170002197,
          1.0319333814875875,
          0.7790696368176584,
          1.1070308470840897,
          0.8731486587017373,
          0.5729285524214129,
          0.5261373691303131,
          0.5206243586207718,
          0.6300860456292912,
          0.5598646282956083,
          0.54013351804163,
          0.7093247261132726,
          0.7681058520717229,
          0.9089996105964062,
          0.5851540501458117,
          0.7886809278034089,
          1.166235968300593,
          1.2069801714228559,
          1.291981960233828,
          0.9369712730948709,
          1.1180892669378637,
          0.966755326991616,
          1.036026202209237,
          0.898612072251575,
          0.9289129340973544,
          0.7292528595867701,
          1.0215329198724636,
          0.744146076901925,
          0.9949088643357747,
          0.7111470909813622,
          0.884858615460474,
          1.1495397281963702,
          1.0504502530018205,
          0.8205768732952972,
          0.8528355256504588,
          0.7919642547120301,
          0.8102266939214833,
          0.7844411662750495,
          0.8375274687657666,
          0.8091087746746887,
          1.0117609617601684,
          1.1860448727852093,
          0.8517212766005098,
          0.9573521252754416,
          0.8416909451937665,
          0.8713004684236108,
          0.8178257755287403,
          0.8225235763247956,
          0.7694797863733068,
          0.7923581188813189,
          0.6076602413513268,
          0.5935905301511101,
          0.43443889873852426,
          0.5069080632306671,
          0.4357598509233585,
          0.5654780330311124,
          0.5570363366311697,
          0.5273949340879734,
          0.5199039621708494,
          0.6569968016085338,
          0.6797550574329517,
          0.5217501091999274,
          0.7037003357480499,
          0.7867665021043581,
          0.8157730127271668,
          0.9078045711520148,
          0.8329601443767455,
          0.7894694515115448,
          0.8674430853172068,
          0.8587901957638769,
          0.8587248522134904,
          1.0089794719543277,
          1.0291523577566999,
          1.0299332616613759,
          1.104568018495635,
          1.1425378293490445,
          1.1426266202875883,
          1.1552247711165329,
          1.1090759997535624,
          1.1220402511510115,
          1.055792667975875,
          1.0567101011705007,
          1.025588428068661,
          1.049470382148395,
          1.0112139181598583,
          1.0747539523602911,
          1.014042304948762,
          1.040485074914964,
          1.0077832380081608,
          1.0231302946573364,
          1.0062179385656735,
          1.0023146848082125,
          1.0064246416261597,
          1.0051636789569718
         ]
        },
        {
         "mode": "markers",
         "name": "feature 7 for weight 2",
         "type": "scatter",
         "x": [
          0,
          1,
          2,
          3,
          4,
          5,
          6,
          7,
          8,
          9,
          10,
          11,
          12,
          13,
          14,
          15,
          16,
          17,
          18,
          19,
          20,
          21,
          22,
          23,
          24,
          25,
          26,
          27,
          28,
          29,
          30,
          31,
          32,
          33,
          34,
          35,
          36,
          37,
          38,
          39,
          40,
          41,
          42,
          43,
          44,
          45,
          46,
          47,
          48,
          49,
          50,
          51,
          52,
          53,
          54,
          55,
          56,
          57,
          58,
          59,
          60,
          61,
          62,
          63,
          64,
          65,
          66,
          67,
          68,
          69,
          70,
          71,
          72,
          73,
          74,
          75,
          76,
          77,
          78,
          79,
          80,
          81,
          82,
          83,
          84,
          85,
          86,
          87,
          88,
          89,
          90,
          91,
          92,
          93,
          94,
          95,
          96,
          97,
          98,
          99
         ],
         "y": [
          0.860977509255268,
          0.8129405113937082,
          0.618396577504392,
          0.6134460371897668,
          0.3707177334912844,
          0.5612110477942592,
          0.8453916171473052,
          0.8069253720492867,
          0.4479236957622857,
          0.5209488811994982,
          0.4679300802830182,
          0.35558148154075664,
          0.37254659614874647,
          0.3413662354231792,
          0.27976684265965496,
          0.2892830393220857,
          0.44263519405770574,
          0.3298392712167841,
          0.3422288992578006,
          0.05925347053526698,
          -0.014988484105765863,
          0.26735583702448146,
          0.28308338297924357,
          0.4098485412747121,
          0.33812127901013,
          0.26972034022379937,
          0.454778791024632,
          0.41121882354402545,
          0.5336532721873776,
          0.6455459132224296,
          0.6792827422682136,
          0.5744729139108156,
          0.521959903236463,
          0.4859819742545179,
          0.6602235930480719,
          0.4959473749568248,
          0.6185486652316269,
          0.6898880294937868,
          0.513301179686322,
          0.5802501551570546,
          0.8433352512016614,
          0.641390058601539,
          0.7437361915086705,
          0.710629688031921,
          0.7581969166192793,
          0.7519593573353711,
          0.7161177929403746,
          0.7973757800050412,
          0.6398152804221766,
          0.7515479953822206,
          0.5292772928906697,
          0.629582890254915,
          0.7072224249529133,
          0.7501642275218052,
          0.7790803933300722,
          0.9897848047149844,
          0.9868987877034756,
          1.0954289127551877,
          1.1120343854500854,
          1.2929566815073459,
          1.2142729412725806,
          1.344568324764384,
          1.341660935425127,
          1.4062467942626435,
          1.4617009749225138,
          1.6018738938381754,
          1.5096098651154344,
          1.4171897797883926,
          1.573300917620193,
          1.4634425231655002,
          1.3901748673839596,
          1.2784352871973763,
          1.2896423893433107,
          1.2769103938894948,
          1.1896767783810778,
          1.1300198966536104,
          1.163360815318118,
          1.2129099400315655,
          1.1107696294014238,
          1.0886325675862352,
          1.1011868272833292,
          1.106376406441284,
          1.0560015385981276,
          0.9543202488218974,
          0.8949600153498978,
          0.9551388790160842,
          0.8804107774567833,
          0.9242765559701868,
          0.8690081265014344,
          0.906807538731263,
          0.9220288540892624,
          1.000475546561366,
          0.9656194973658844,
          0.9952490037579027,
          0.9840673747010816,
          1.0015953206784884,
          0.9908200473850537,
          0.9847543621424969,
          0.9910385024142105,
          0.9906449485754382
         ]
        },
        {
         "mode": "markers",
         "name": "feature 8 for weight 2",
         "type": "scatter",
         "x": [
          0,
          1,
          2,
          3,
          4,
          5,
          6,
          7,
          8,
          9,
          10,
          11,
          12,
          13,
          14,
          15,
          16,
          17,
          18,
          19,
          20,
          21,
          22,
          23,
          24,
          25,
          26,
          27,
          28,
          29,
          30,
          31,
          32,
          33,
          34,
          35,
          36,
          37,
          38,
          39,
          40,
          41,
          42,
          43,
          44,
          45,
          46,
          47,
          48,
          49,
          50,
          51,
          52,
          53,
          54,
          55,
          56,
          57,
          58,
          59,
          60,
          61,
          62,
          63,
          64,
          65,
          66,
          67,
          68,
          69,
          70,
          71,
          72,
          73,
          74,
          75,
          76,
          77,
          78,
          79,
          80,
          81,
          82,
          83,
          84,
          85,
          86,
          87,
          88,
          89,
          90,
          91,
          92,
          93,
          94,
          95,
          96,
          97,
          98,
          99
         ],
         "y": [
          1.1655658022442563,
          0.9592157091363399,
          0.33084293683827193,
          0.5082977014015619,
          0.30638383774189615,
          0.9147102930502884,
          0.8412060391928589,
          0.7231656951439446,
          0.17324968191102774,
          1.030765708823369,
          0.9172460322174504,
          0.3822054829354654,
          0.3799440836788475,
          0.2905998030992367,
          0.5091658002583871,
          0.3546436678472628,
          0.5515027666643035,
          0.5570944294370963,
          0.6777183068384275,
          0.7784558792853686,
          0.7342388633890966,
          0.6271243462567158,
          0.6722571722821205,
          0.40450640543095606,
          0.3447548845758379,
          0.17526742091090747,
          0.5009733610053646,
          0.24721075529253683,
          0.3731283242412138,
          0.4418685694281946,
          0.5775899605611745,
          0.38474884643558016,
          0.7645537581336529,
          0.4036784894450029,
          0.39734870633984565,
          0.11801947799581064,
          0.3076468007439969,
          0.8516687090200716,
          0.7589198516621263,
          0.22880478195105863,
          0.4776050744128118,
          0.5240074926844159,
          0.5681586603675567,
          0.2695160943093339,
          0.39442979428864916,
          0.25747274205903514,
          0.5483103220672116,
          0.6772297040769949,
          0.408067871235783,
          0.47739803809683273,
          0.3328846347626423,
          0.2654934259298991,
          0.17217458172912778,
          0.22895144494175557,
          0.21194223339873405,
          0.42823363738364495,
          0.36183568903975133,
          0.3984246826396107,
          0.25649840301320087,
          0.37245142576922075,
          0.22538169076040065,
          0.31982259800910334,
          0.24199519826980767,
          0.19817209056952112,
          0.2266753399313485,
          0.4214359512671517,
          0.3180040496267205,
          0.31633933910889106,
          0.41463872429407184,
          0.4346516085419692,
          0.25853638167727366,
          0.15773830723424104,
          0.059002031756861806,
          0.21456886356665533,
          0.17220388084678215,
          0.09786935232549762,
          0.11785785539725784,
          0.18731179419834942,
          0.11191758708896556,
          0.11295381255790468,
          0.1934940794634039,
          0.25164697398770824,
          0.1452438798052418,
          0.066422597612711,
          -0.013619027722998472,
          0.10580696134973483,
          -0.008200656269482357,
          0.08902811544378558,
          -0.02103431378209657,
          0.09447247522212328,
          0.1170638691169781,
          0.15280165446388694,
          0.0845334909071937,
          0.0966458868453606,
          0.07374621780765936,
          0.06590277624136781,
          0.027676311041503057,
          0.0043787051598182265,
          0.007412223546350508,
          -0.0005865795191976326
         ]
        }
       ],
       "layout": {
        "template": {
         "data": {
          "bar": [
           {
            "error_x": {
             "color": "#2a3f5f"
            },
            "error_y": {
             "color": "#2a3f5f"
            },
            "marker": {
             "line": {
              "color": "#E5ECF6",
              "width": 0.5
             },
             "pattern": {
              "fillmode": "overlay",
              "size": 10,
              "solidity": 0.2
             }
            },
            "type": "bar"
           }
          ],
          "barpolar": [
           {
            "marker": {
             "line": {
              "color": "#E5ECF6",
              "width": 0.5
             },
             "pattern": {
              "fillmode": "overlay",
              "size": 10,
              "solidity": 0.2
             }
            },
            "type": "barpolar"
           }
          ],
          "carpet": [
           {
            "aaxis": {
             "endlinecolor": "#2a3f5f",
             "gridcolor": "white",
             "linecolor": "white",
             "minorgridcolor": "white",
             "startlinecolor": "#2a3f5f"
            },
            "baxis": {
             "endlinecolor": "#2a3f5f",
             "gridcolor": "white",
             "linecolor": "white",
             "minorgridcolor": "white",
             "startlinecolor": "#2a3f5f"
            },
            "type": "carpet"
           }
          ],
          "choropleth": [
           {
            "colorbar": {
             "outlinewidth": 0,
             "ticks": ""
            },
            "type": "choropleth"
           }
          ],
          "contour": [
           {
            "colorbar": {
             "outlinewidth": 0,
             "ticks": ""
            },
            "colorscale": [
             [
              0,
              "#0d0887"
             ],
             [
              0.1111111111111111,
              "#46039f"
             ],
             [
              0.2222222222222222,
              "#7201a8"
             ],
             [
              0.3333333333333333,
              "#9c179e"
             ],
             [
              0.4444444444444444,
              "#bd3786"
             ],
             [
              0.5555555555555556,
              "#d8576b"
             ],
             [
              0.6666666666666666,
              "#ed7953"
             ],
             [
              0.7777777777777778,
              "#fb9f3a"
             ],
             [
              0.8888888888888888,
              "#fdca26"
             ],
             [
              1,
              "#f0f921"
             ]
            ],
            "type": "contour"
           }
          ],
          "contourcarpet": [
           {
            "colorbar": {
             "outlinewidth": 0,
             "ticks": ""
            },
            "type": "contourcarpet"
           }
          ],
          "heatmap": [
           {
            "colorbar": {
             "outlinewidth": 0,
             "ticks": ""
            },
            "colorscale": [
             [
              0,
              "#0d0887"
             ],
             [
              0.1111111111111111,
              "#46039f"
             ],
             [
              0.2222222222222222,
              "#7201a8"
             ],
             [
              0.3333333333333333,
              "#9c179e"
             ],
             [
              0.4444444444444444,
              "#bd3786"
             ],
             [
              0.5555555555555556,
              "#d8576b"
             ],
             [
              0.6666666666666666,
              "#ed7953"
             ],
             [
              0.7777777777777778,
              "#fb9f3a"
             ],
             [
              0.8888888888888888,
              "#fdca26"
             ],
             [
              1,
              "#f0f921"
             ]
            ],
            "type": "heatmap"
           }
          ],
          "heatmapgl": [
           {
            "colorbar": {
             "outlinewidth": 0,
             "ticks": ""
            },
            "colorscale": [
             [
              0,
              "#0d0887"
             ],
             [
              0.1111111111111111,
              "#46039f"
             ],
             [
              0.2222222222222222,
              "#7201a8"
             ],
             [
              0.3333333333333333,
              "#9c179e"
             ],
             [
              0.4444444444444444,
              "#bd3786"
             ],
             [
              0.5555555555555556,
              "#d8576b"
             ],
             [
              0.6666666666666666,
              "#ed7953"
             ],
             [
              0.7777777777777778,
              "#fb9f3a"
             ],
             [
              0.8888888888888888,
              "#fdca26"
             ],
             [
              1,
              "#f0f921"
             ]
            ],
            "type": "heatmapgl"
           }
          ],
          "histogram": [
           {
            "marker": {
             "pattern": {
              "fillmode": "overlay",
              "size": 10,
              "solidity": 0.2
             }
            },
            "type": "histogram"
           }
          ],
          "histogram2d": [
           {
            "colorbar": {
             "outlinewidth": 0,
             "ticks": ""
            },
            "colorscale": [
             [
              0,
              "#0d0887"
             ],
             [
              0.1111111111111111,
              "#46039f"
             ],
             [
              0.2222222222222222,
              "#7201a8"
             ],
             [
              0.3333333333333333,
              "#9c179e"
             ],
             [
              0.4444444444444444,
              "#bd3786"
             ],
             [
              0.5555555555555556,
              "#d8576b"
             ],
             [
              0.6666666666666666,
              "#ed7953"
             ],
             [
              0.7777777777777778,
              "#fb9f3a"
             ],
             [
              0.8888888888888888,
              "#fdca26"
             ],
             [
              1,
              "#f0f921"
             ]
            ],
            "type": "histogram2d"
           }
          ],
          "histogram2dcontour": [
           {
            "colorbar": {
             "outlinewidth": 0,
             "ticks": ""
            },
            "colorscale": [
             [
              0,
              "#0d0887"
             ],
             [
              0.1111111111111111,
              "#46039f"
             ],
             [
              0.2222222222222222,
              "#7201a8"
             ],
             [
              0.3333333333333333,
              "#9c179e"
             ],
             [
              0.4444444444444444,
              "#bd3786"
             ],
             [
              0.5555555555555556,
              "#d8576b"
             ],
             [
              0.6666666666666666,
              "#ed7953"
             ],
             [
              0.7777777777777778,
              "#fb9f3a"
             ],
             [
              0.8888888888888888,
              "#fdca26"
             ],
             [
              1,
              "#f0f921"
             ]
            ],
            "type": "histogram2dcontour"
           }
          ],
          "mesh3d": [
           {
            "colorbar": {
             "outlinewidth": 0,
             "ticks": ""
            },
            "type": "mesh3d"
           }
          ],
          "parcoords": [
           {
            "line": {
             "colorbar": {
              "outlinewidth": 0,
              "ticks": ""
             }
            },
            "type": "parcoords"
           }
          ],
          "pie": [
           {
            "automargin": true,
            "type": "pie"
           }
          ],
          "scatter": [
           {
            "fillpattern": {
             "fillmode": "overlay",
             "size": 10,
             "solidity": 0.2
            },
            "type": "scatter"
           }
          ],
          "scatter3d": [
           {
            "line": {
             "colorbar": {
              "outlinewidth": 0,
              "ticks": ""
             }
            },
            "marker": {
             "colorbar": {
              "outlinewidth": 0,
              "ticks": ""
             }
            },
            "type": "scatter3d"
           }
          ],
          "scattercarpet": [
           {
            "marker": {
             "colorbar": {
              "outlinewidth": 0,
              "ticks": ""
             }
            },
            "type": "scattercarpet"
           }
          ],
          "scattergeo": [
           {
            "marker": {
             "colorbar": {
              "outlinewidth": 0,
              "ticks": ""
             }
            },
            "type": "scattergeo"
           }
          ],
          "scattergl": [
           {
            "marker": {
             "colorbar": {
              "outlinewidth": 0,
              "ticks": ""
             }
            },
            "type": "scattergl"
           }
          ],
          "scattermapbox": [
           {
            "marker": {
             "colorbar": {
              "outlinewidth": 0,
              "ticks": ""
             }
            },
            "type": "scattermapbox"
           }
          ],
          "scatterpolar": [
           {
            "marker": {
             "colorbar": {
              "outlinewidth": 0,
              "ticks": ""
             }
            },
            "type": "scatterpolar"
           }
          ],
          "scatterpolargl": [
           {
            "marker": {
             "colorbar": {
              "outlinewidth": 0,
              "ticks": ""
             }
            },
            "type": "scatterpolargl"
           }
          ],
          "scatterternary": [
           {
            "marker": {
             "colorbar": {
              "outlinewidth": 0,
              "ticks": ""
             }
            },
            "type": "scatterternary"
           }
          ],
          "surface": [
           {
            "colorbar": {
             "outlinewidth": 0,
             "ticks": ""
            },
            "colorscale": [
             [
              0,
              "#0d0887"
             ],
             [
              0.1111111111111111,
              "#46039f"
             ],
             [
              0.2222222222222222,
              "#7201a8"
             ],
             [
              0.3333333333333333,
              "#9c179e"
             ],
             [
              0.4444444444444444,
              "#bd3786"
             ],
             [
              0.5555555555555556,
              "#d8576b"
             ],
             [
              0.6666666666666666,
              "#ed7953"
             ],
             [
              0.7777777777777778,
              "#fb9f3a"
             ],
             [
              0.8888888888888888,
              "#fdca26"
             ],
             [
              1,
              "#f0f921"
             ]
            ],
            "type": "surface"
           }
          ],
          "table": [
           {
            "cells": {
             "fill": {
              "color": "#EBF0F8"
             },
             "line": {
              "color": "white"
             }
            },
            "header": {
             "fill": {
              "color": "#C8D4E3"
             },
             "line": {
              "color": "white"
             }
            },
            "type": "table"
           }
          ]
         },
         "layout": {
          "annotationdefaults": {
           "arrowcolor": "#2a3f5f",
           "arrowhead": 0,
           "arrowwidth": 1
          },
          "autotypenumbers": "strict",
          "coloraxis": {
           "colorbar": {
            "outlinewidth": 0,
            "ticks": ""
           }
          },
          "colorscale": {
           "diverging": [
            [
             0,
             "#8e0152"
            ],
            [
             0.1,
             "#c51b7d"
            ],
            [
             0.2,
             "#de77ae"
            ],
            [
             0.3,
             "#f1b6da"
            ],
            [
             0.4,
             "#fde0ef"
            ],
            [
             0.5,
             "#f7f7f7"
            ],
            [
             0.6,
             "#e6f5d0"
            ],
            [
             0.7,
             "#b8e186"
            ],
            [
             0.8,
             "#7fbc41"
            ],
            [
             0.9,
             "#4d9221"
            ],
            [
             1,
             "#276419"
            ]
           ],
           "sequential": [
            [
             0,
             "#0d0887"
            ],
            [
             0.1111111111111111,
             "#46039f"
            ],
            [
             0.2222222222222222,
             "#7201a8"
            ],
            [
             0.3333333333333333,
             "#9c179e"
            ],
            [
             0.4444444444444444,
             "#bd3786"
            ],
            [
             0.5555555555555556,
             "#d8576b"
            ],
            [
             0.6666666666666666,
             "#ed7953"
            ],
            [
             0.7777777777777778,
             "#fb9f3a"
            ],
            [
             0.8888888888888888,
             "#fdca26"
            ],
            [
             1,
             "#f0f921"
            ]
           ],
           "sequentialminus": [
            [
             0,
             "#0d0887"
            ],
            [
             0.1111111111111111,
             "#46039f"
            ],
            [
             0.2222222222222222,
             "#7201a8"
            ],
            [
             0.3333333333333333,
             "#9c179e"
            ],
            [
             0.4444444444444444,
             "#bd3786"
            ],
            [
             0.5555555555555556,
             "#d8576b"
            ],
            [
             0.6666666666666666,
             "#ed7953"
            ],
            [
             0.7777777777777778,
             "#fb9f3a"
            ],
            [
             0.8888888888888888,
             "#fdca26"
            ],
            [
             1,
             "#f0f921"
            ]
           ]
          },
          "colorway": [
           "#636efa",
           "#EF553B",
           "#00cc96",
           "#ab63fa",
           "#FFA15A",
           "#19d3f3",
           "#FF6692",
           "#B6E880",
           "#FF97FF",
           "#FECB52"
          ],
          "font": {
           "color": "#2a3f5f"
          },
          "geo": {
           "bgcolor": "white",
           "lakecolor": "white",
           "landcolor": "#E5ECF6",
           "showlakes": true,
           "showland": true,
           "subunitcolor": "white"
          },
          "hoverlabel": {
           "align": "left"
          },
          "hovermode": "closest",
          "mapbox": {
           "style": "light"
          },
          "paper_bgcolor": "white",
          "plot_bgcolor": "#E5ECF6",
          "polar": {
           "angularaxis": {
            "gridcolor": "white",
            "linecolor": "white",
            "ticks": ""
           },
           "bgcolor": "#E5ECF6",
           "radialaxis": {
            "gridcolor": "white",
            "linecolor": "white",
            "ticks": ""
           }
          },
          "scene": {
           "xaxis": {
            "backgroundcolor": "#E5ECF6",
            "gridcolor": "white",
            "gridwidth": 2,
            "linecolor": "white",
            "showbackground": true,
            "ticks": "",
            "zerolinecolor": "white"
           },
           "yaxis": {
            "backgroundcolor": "#E5ECF6",
            "gridcolor": "white",
            "gridwidth": 2,
            "linecolor": "white",
            "showbackground": true,
            "ticks": "",
            "zerolinecolor": "white"
           },
           "zaxis": {
            "backgroundcolor": "#E5ECF6",
            "gridcolor": "white",
            "gridwidth": 2,
            "linecolor": "white",
            "showbackground": true,
            "ticks": "",
            "zerolinecolor": "white"
           }
          },
          "shapedefaults": {
           "line": {
            "color": "#2a3f5f"
           }
          },
          "ternary": {
           "aaxis": {
            "gridcolor": "white",
            "linecolor": "white",
            "ticks": ""
           },
           "baxis": {
            "gridcolor": "white",
            "linecolor": "white",
            "ticks": ""
           },
           "bgcolor": "#E5ECF6",
           "caxis": {
            "gridcolor": "white",
            "linecolor": "white",
            "ticks": ""
           }
          },
          "title": {
           "x": 0.05
          },
          "xaxis": {
           "automargin": true,
           "gridcolor": "white",
           "linecolor": "white",
           "ticks": "",
           "title": {
            "standoff": 15
           },
           "zerolinecolor": "white",
           "zerolinewidth": 2
          },
          "yaxis": {
           "automargin": true,
           "gridcolor": "white",
           "linecolor": "white",
           "ticks": "",
           "title": {
            "standoff": 15
           },
           "zerolinecolor": "white",
           "zerolinewidth": 2
          }
         }
        },
        "title": {
         "text": "Weights per episode for RL model for weight 2"
        },
        "xaxis": {
         "title": {
          "text": "Episode"
         }
        },
        "yaxis": {
         "title": {
          "text": "sum of the weights"
         }
        }
       }
      }
     },
     "metadata": {},
     "output_type": "display_data"
    }
   ],
   "source": [
    "for w in range(3):\n",
    "    fig = go.Figure()\n",
    "    for f in range(9):\n",
    "        fig.add_trace(go.Scatter(x= [i for i in range(len(weights.keys()))], y= [np.sum(i[w, f]) for i in list(weights.values())], mode= \"markers\", name= f\"feature {f} for weight {w}\"))\n",
    "    fig.update_layout(title_text=f\"Weights per episode for RL model for weight {w}\", xaxis_title=\"Episode\", yaxis_title=\"sum of the weights\")\n",
    "    fig.show()"
   ]
  },
  {
   "cell_type": "code",
   "execution_count": 81,
   "metadata": {},
   "outputs": [],
   "source": [
    "compatible_list = utils.get_compatibility_dict(L = L, M = M, index = True)"
   ]
  },
  {
   "cell_type": "code",
   "execution_count": 82,
   "metadata": {},
   "outputs": [
    {
     "name": "stdout",
     "output_type": "stream",
     "text": [
      "Set parameter Username\n",
      "Academic license - for non-commercial use only - expires 2024-12-13\n",
      "Set parameter LogFile to value \"week_mod_no5.log\"\n",
      "Gurobi Optimizer version 11.0.0 build v11.0.0rc2 (mac64[arm] - Darwin 23.2.0 23C71)Gurobi Optimizer version 11.0.0 build v11.0.0rc2 (mac64[arm] - Darwin 23.2.0 23C71)\n",
      "\n",
      "CPU model: Apple M1CPU model: Apple M1\n",
      "Thread count: 8 physical cores, 8 logical processors, using up to 8 threadsThread count: 8 physical cores, 8 logical processors, using up to 8 threads\n",
      "\n",
      "Optimize a model with 4687200 rows, 2262624 columns and 14380786 nonzerosOptimize a model with 4687200 rows, 2262624 columns and 14380786 nonzeros\n",
      "Model fingerprint: 0x8c74d6e7Model fingerprint: 0x8c74d6e7\n",
      "Model has 82782 quadratic objective termsModel has 82782 quadratic objective terms\n",
      "Model has 2688 quadratic constraintsModel has 2688 quadratic constraints\n",
      "Variable types: 0 continuous, 2262624 integer (2262624 binary)Variable types: 0 continuous, 2262624 integer (2262624 binary)\n",
      "Coefficient statistics:Coefficient statistics:\n",
      "Matrix range     [1e-06, 1e+03]  Matrix range     [1e-06, 1e+03]\n",
      "QMatrix range    [1e-06, 9e-01]  QMatrix range    [1e-06, 9e-01]\n",
      "Objective range  [8e-07, 1e+02]  Objective range  [8e-07, 1e+02]\n",
      "QObjective range [9e-08, 8e+01]  QObjective range [9e-08, 8e+01]\n",
      "Bounds range     [1e+00, 1e+00]  Bounds range     [1e+00, 1e+00]\n",
      "RHS range        [1e+00, 1e+00]  RHS range        [1e+00, 1e+00]\n",
      "QRHS range       [1e+00, 1e+02]  QRHS range       [1e+00, 1e+02]\n",
      "Found heuristic solution: objective -0.0000000Found heuristic solution: objective -0.0000000\n",
      "Presolve removed 4393517 rows and 1053487 columnsPresolve removed 4393517 rows and 1053487 columns\n",
      "Presolve time: 2.46sPresolve time: 2.46s\n",
      "Presolved: 319059 rows, 1221825 columns, 1409343 nonzerosPresolved: 319059 rows, 1221825 columns, 1409343 nonzeros\n",
      "Variable types: 0 continuous, 1221825 integer (1221825 binary)Variable types: 0 continuous, 1221825 integer (1221825 binary)\n",
      "Found heuristic solution: objective 12027.711823Found heuristic solution: objective 12027.711823\n",
      "Current best objective: 12027.71182318067, Best bound: 23087.03649738482\n",
      "Current best objective: 12027.71182318067, Best bound: 23087.03649738482\n",
      "\n",
      "Root simplex log...Root simplex log...\n",
      "\n",
      "Iteration    Objective       Primal Inf.    Dual Inf.      TimeIteration    Objective       Primal Inf.    Dual Inf.      Time\n",
      "0    1.2110224e+04   8.500711e+01   0.000000e+00      8s       0    1.2110224e+04   8.500711e+01   0.000000e+00      8s\n",
      "1    1.2110224e+04   0.000000e+00   0.000000e+00      8s       1    1.2110224e+04   0.000000e+00   0.000000e+00      8s\n",
      "\n",
      "Root relaxation: objective 1.211022e+04, 1 iterations, 0.00 seconds (0.00 work units)Root relaxation: objective 1.211022e+04, 1 iterations, 0.00 seconds (0.00 work units)\n",
      "Current best objective: 12027.71182318067, Best bound: 12110.22429676176\n",
      "\n",
      "Nodes    |    Current Node    |     Objective Bounds      |     Work    Nodes    |    Current Node    |     Objective Bounds      |     Work\n",
      "Expl Unexpl |  Obj  Depth IntInf | Incumbent    BestBd   Gap | It/Node Time Expl Unexpl |  Obj  Depth IntInf | Incumbent    BestBd   Gap | It/Node Time\n",
      "\n",
      "0     0 12110.2243    0    2 12027.7118 12110.2243  0.69%     -    7s     0     0 12110.2243    0    2 12027.7118 12110.2243  0.69%     -    7s\n",
      "H    0     0                    12110.176965 12110.2243  0.00%     -    7sH    0     0                    12110.176965 12110.2243  0.00%     -    7s\n",
      "\n",
      "Explored 1 nodes (1 simplex iterations) in 7.80 seconds (12.00 work units)Explored 1 nodes (1 simplex iterations) in 7.80 seconds (12.00 work units)\n",
      "Thread count was 8 (of 8 available processors)Thread count was 8 (of 8 available processors)\n",
      "\n",
      "Solution count 3: 12110.2 12027.7 -0Solution count 3: 12110.2 12027.7 -0 \n",
      "\n",
      "Optimal solution found (tolerance 1.00e-04)Optimal solution found (tolerance 1.00e-04)\n",
      "Best objective 1.211017696476e+04, best bound 1.211022429676e+04, gap 0.0004%Best objective 1.211017696476e+04, best bound 1.211022429676e+04, gap 0.0004%\n",
      "\n",
      "User-callback calls 1248, time in user-callback 0.03 secUser-callback calls 1248, time in user-callback 0.03 sec\n"
     ]
    }
   ],
   "source": [
    "mod, x, y, w, d = utils.run_optimization_model(L = L, M = M, F = F, H = H, Fu_h_l = Fu_h_l, Fd_h_l = Fd_h_l, R_h_l = R_h_l, Vp_h_m = Vp_h_m, Vm_m = Vm_m, R_m = R_m, Ir_hlm = Ir_hlm, Ia_hlm = Ia_hlm, Va_hm = Va_hm, compatible_list= compatible_list, log_filename= \"week_mod_no5.log\", model_name= \"week_mod_no5\")"
   ]
  },
  {
   "cell_type": "markdown",
   "metadata": {},
   "source": [
    "## The functions below are to check the revenue for each hour for the optimization model"
   ]
  },
  {
   "cell_type": "code",
   "execution_count": 194,
   "metadata": {},
   "outputs": [],
   "source": [
    "def get_market_count_df(x : dict, y: dict, w : dict,  H : [pd.Timestamp], L : [new_meters.PowerMeter], M : [final_markets.ReserveMarket]):\n",
    "    \"\"\" function to get a dictionary of the results of the optimization problem.\n",
    "        The solution is represented as a dataframe for each hour which tells how many assets and how much flex volume is connected to each market for each hour.\n",
    "\n",
    "    Args:\n",
    "        x (dict): dictionary of the binary variable which tells if an asset is connected to a market\n",
    "        L (list(PowerMeter)): list of powermeter objects with the data for each meter within the timeframe\n",
    "        M (list(ReserveMarket)): list of reservemarket objects with the data for each market within the timeframe\n",
    "        H (list(pd.TimeStamp)): list of hourly timestamps within the timeframe\n",
    "        dominant_directions (list(str)): list of the dominant direction for each hour\n",
    "\n",
    "    Returns:\n",
    "        dict: the solution of the optimization problem\n",
    "    \"\"\"\n",
    "    \n",
    "    df = pd.DataFrame(columns=[\"Market\", \"Hour\", \"Asset Count\",\"Total Flex Volume [MWh]\", \"Total capacity revenue [EUR]\", \"Total activation revenue [EUR]\"])\n",
    "    for h, hour in enumerate(H):\n",
    "        for m, market in enumerate(M):\n",
    "            if y[h, m].X > 0:\n",
    "                amount_of_assets = sum(x[h, l, m].X for l in range(len(L)))\n",
    "                capacity_income = sum(x[h, l, m].X * Ir_hlm[h, l, m] for l in range(len(L)))\n",
    "                activation_income = sum(x[h, l, m].X * Ia_hlm[h, l, m] * w[h,m].X for l in range(len(L)))\n",
    "                if market.direction == \"up\":\n",
    "                    total_flex_volume = sum(x[h, l, m].X * Fu_h_l[h,l] for l in range(len(L)))\n",
    "                elif market.direction == \"down\":\n",
    "                    total_flex_volume = sum(x[h, l, m].X * Fd_h_l[h,l] for l in range(len(L)))\n",
    "                else:\n",
    "                    total_flex_volume = 0\n",
    "                    for l, load in enumerate(L):\n",
    "                        if load.direction == \"up\":\n",
    "                            total_flex_volume += x[h, l, m].X * Fu_h_l[h,l]\n",
    "                        elif load.direction == \"down\":\n",
    "                            total_flex_volume += x[h, l, m].X * Fd_h_l[h,l]\n",
    "                        else:\n",
    "                            total_flex_volume += min(x[h, l, m].X * Fu_h_l[h,l], x[h, l, m].X * Fd_h_l[h,l])\n",
    "                           \n",
    "                df.loc[len(df)] = [market.name, hour, amount_of_assets, total_flex_volume, capacity_income, activation_income]\n",
    "    return df"
   ]
  },
  {
   "cell_type": "code",
   "execution_count": 195,
   "metadata": {},
   "outputs": [],
   "source": [
    "mcd = get_market_count_df(x = x,y =y, w = w, H = H, L = L, M = M)"
   ]
  },
  {
   "cell_type": "code",
   "execution_count": 196,
   "metadata": {},
   "outputs": [
    {
     "data": {
      "text/html": [
       "<div>\n",
       "<style scoped>\n",
       "    .dataframe tbody tr th:only-of-type {\n",
       "        vertical-align: middle;\n",
       "    }\n",
       "\n",
       "    .dataframe tbody tr th {\n",
       "        vertical-align: top;\n",
       "    }\n",
       "\n",
       "    .dataframe thead th {\n",
       "        text-align: right;\n",
       "    }\n",
       "</style>\n",
       "<table border=\"1\" class=\"dataframe\">\n",
       "  <thead>\n",
       "    <tr style=\"text-align: right;\">\n",
       "      <th></th>\n",
       "      <th>Market</th>\n",
       "      <th>Hour</th>\n",
       "      <th>Asset Count</th>\n",
       "      <th>Total Flex Volume [MWh]</th>\n",
       "      <th>Total capacity revenue [EUR]</th>\n",
       "      <th>Total activation revenue [EUR]</th>\n",
       "    </tr>\n",
       "  </thead>\n",
       "  <tbody>\n",
       "    <tr>\n",
       "      <th>0</th>\n",
       "      <td>aFRR up_NO5</td>\n",
       "      <td>2023-06-19 00:00:00+02:00</td>\n",
       "      <td>580.0</td>\n",
       "      <td>3.351549</td>\n",
       "      <td>67.030980</td>\n",
       "      <td>0.0</td>\n",
       "    </tr>\n",
       "    <tr>\n",
       "      <th>1</th>\n",
       "      <td>aFRR up_NO5</td>\n",
       "      <td>2023-06-19 05:00:00+02:00</td>\n",
       "      <td>531.0</td>\n",
       "      <td>2.706115</td>\n",
       "      <td>62.240645</td>\n",
       "      <td>0.0</td>\n",
       "    </tr>\n",
       "    <tr>\n",
       "      <th>2</th>\n",
       "      <td>aFRR up_NO5</td>\n",
       "      <td>2023-06-19 06:00:00+02:00</td>\n",
       "      <td>529.0</td>\n",
       "      <td>2.383027</td>\n",
       "      <td>52.426594</td>\n",
       "      <td>0.0</td>\n",
       "    </tr>\n",
       "    <tr>\n",
       "      <th>3</th>\n",
       "      <td>aFRR up_NO5</td>\n",
       "      <td>2023-06-19 07:00:00+02:00</td>\n",
       "      <td>543.0</td>\n",
       "      <td>2.800745</td>\n",
       "      <td>61.616390</td>\n",
       "      <td>0.0</td>\n",
       "    </tr>\n",
       "    <tr>\n",
       "      <th>4</th>\n",
       "      <td>aFRR up_NO5</td>\n",
       "      <td>2023-06-19 08:00:00+02:00</td>\n",
       "      <td>575.0</td>\n",
       "      <td>2.930003</td>\n",
       "      <td>64.460066</td>\n",
       "      <td>0.0</td>\n",
       "    </tr>\n",
       "    <tr>\n",
       "      <th>...</th>\n",
       "      <td>...</td>\n",
       "      <td>...</td>\n",
       "      <td>...</td>\n",
       "      <td>...</td>\n",
       "      <td>...</td>\n",
       "      <td>...</td>\n",
       "    </tr>\n",
       "    <tr>\n",
       "      <th>223</th>\n",
       "      <td>FCR_N_D_1_NO5</td>\n",
       "      <td>2023-06-25 20:00:00+02:00</td>\n",
       "      <td>308.0</td>\n",
       "      <td>1.538675</td>\n",
       "      <td>50.167515</td>\n",
       "      <td>0.0</td>\n",
       "    </tr>\n",
       "    <tr>\n",
       "      <th>224</th>\n",
       "      <td>aFRR down_NO5</td>\n",
       "      <td>2023-06-25 20:00:00+02:00</td>\n",
       "      <td>257.0</td>\n",
       "      <td>2.809341</td>\n",
       "      <td>72.717125</td>\n",
       "      <td>0.0</td>\n",
       "    </tr>\n",
       "    <tr>\n",
       "      <th>225</th>\n",
       "      <td>aFRR down_NO5</td>\n",
       "      <td>2023-06-25 21:00:00+02:00</td>\n",
       "      <td>529.0</td>\n",
       "      <td>3.912382</td>\n",
       "      <td>169.331840</td>\n",
       "      <td>0.0</td>\n",
       "    </tr>\n",
       "    <tr>\n",
       "      <th>226</th>\n",
       "      <td>aFRR down_NO5</td>\n",
       "      <td>2023-06-25 22:00:00+02:00</td>\n",
       "      <td>528.0</td>\n",
       "      <td>3.874730</td>\n",
       "      <td>167.631080</td>\n",
       "      <td>0.0</td>\n",
       "    </tr>\n",
       "    <tr>\n",
       "      <th>227</th>\n",
       "      <td>aFRR down_NO5</td>\n",
       "      <td>2023-06-25 23:00:00+02:00</td>\n",
       "      <td>519.0</td>\n",
       "      <td>3.522999</td>\n",
       "      <td>150.086640</td>\n",
       "      <td>0.0</td>\n",
       "    </tr>\n",
       "  </tbody>\n",
       "</table>\n",
       "<p>228 rows × 6 columns</p>\n",
       "</div>"
      ],
      "text/plain": [
       "            Market                      Hour  Asset Count  \\\n",
       "0      aFRR up_NO5 2023-06-19 00:00:00+02:00        580.0   \n",
       "1      aFRR up_NO5 2023-06-19 05:00:00+02:00        531.0   \n",
       "2      aFRR up_NO5 2023-06-19 06:00:00+02:00        529.0   \n",
       "3      aFRR up_NO5 2023-06-19 07:00:00+02:00        543.0   \n",
       "4      aFRR up_NO5 2023-06-19 08:00:00+02:00        575.0   \n",
       "..             ...                       ...          ...   \n",
       "223  FCR_N_D_1_NO5 2023-06-25 20:00:00+02:00        308.0   \n",
       "224  aFRR down_NO5 2023-06-25 20:00:00+02:00        257.0   \n",
       "225  aFRR down_NO5 2023-06-25 21:00:00+02:00        529.0   \n",
       "226  aFRR down_NO5 2023-06-25 22:00:00+02:00        528.0   \n",
       "227  aFRR down_NO5 2023-06-25 23:00:00+02:00        519.0   \n",
       "\n",
       "     Total Flex Volume [MWh]  Total capacity revenue [EUR]  \\\n",
       "0                   3.351549                     67.030980   \n",
       "1                   2.706115                     62.240645   \n",
       "2                   2.383027                     52.426594   \n",
       "3                   2.800745                     61.616390   \n",
       "4                   2.930003                     64.460066   \n",
       "..                       ...                           ...   \n",
       "223                 1.538675                     50.167515   \n",
       "224                 2.809341                     72.717125   \n",
       "225                 3.912382                    169.331840   \n",
       "226                 3.874730                    167.631080   \n",
       "227                 3.522999                    150.086640   \n",
       "\n",
       "     Total activation revenue [EUR]  \n",
       "0                               0.0  \n",
       "1                               0.0  \n",
       "2                               0.0  \n",
       "3                               0.0  \n",
       "4                               0.0  \n",
       "..                              ...  \n",
       "223                             0.0  \n",
       "224                             0.0  \n",
       "225                             0.0  \n",
       "226                             0.0  \n",
       "227                             0.0  \n",
       "\n",
       "[228 rows x 6 columns]"
      ]
     },
     "metadata": {},
     "output_type": "display_data"
    }
   ],
   "source": [
    "display(mcd)"
   ]
  },
  {
   "cell_type": "code",
   "execution_count": 197,
   "metadata": {},
   "outputs": [
    {
     "name": "stdout",
     "output_type": "stream",
     "text": [
      "['aFRR up_NO5' 'aFRR down_NO5' 'FCR_N_D_1_NO5' 'FCR_N_D_2_NO5']\n"
     ]
    }
   ],
   "source": [
    "print(mcd[\"Market\"].unique())"
   ]
  },
  {
   "cell_type": "code",
   "execution_count": 198,
   "metadata": {},
   "outputs": [
    {
     "data": {
      "text/plain": [
       "11789.22083146058"
      ]
     },
     "execution_count": 198,
     "metadata": {},
     "output_type": "execute_result"
    }
   ],
   "source": [
    "sum(mcd[\"Total capacity revenue [EUR]\"])"
   ]
  },
  {
   "cell_type": "code",
   "execution_count": 199,
   "metadata": {},
   "outputs": [
    {
     "data": {
      "text/plain": [
       "320.9561333012502"
      ]
     },
     "execution_count": 199,
     "metadata": {},
     "output_type": "execute_result"
    }
   ],
   "source": [
    "sum(mcd[\"Total activation revenue [EUR]\"])"
   ]
  },
  {
   "cell_type": "code",
   "execution_count": 200,
   "metadata": {},
   "outputs": [],
   "source": [
    "sol_df_sum = sum(mcd[\"Total capacity revenue [EUR]\"]) + sum(mcd[\"Total activation revenue [EUR]\"])"
   ]
  },
  {
   "cell_type": "code",
   "execution_count": 202,
   "metadata": {},
   "outputs": [
    {
     "data": {
      "text/plain": [
       "12110.17696476183"
      ]
     },
     "execution_count": 202,
     "metadata": {},
     "output_type": "execute_result"
    }
   ],
   "source": [
    "sol_df_sum"
   ]
  },
  {
   "cell_type": "code",
   "execution_count": 184,
   "metadata": {},
   "outputs": [],
   "source": [
    "opt_mod_tot_rev = sum(x[h,l,m].X * (Ir_hlm[h,l,m] + Ia_hlm[h,l,m] * w[h,m].X) for h in range(len(H)) for l in range(len(L)) for m in range(len(M)))"
   ]
  },
  {
   "cell_type": "code",
   "execution_count": 203,
   "metadata": {},
   "outputs": [
    {
     "data": {
      "text/plain": [
       "12110.176964761939"
      ]
     },
     "execution_count": 203,
     "metadata": {},
     "output_type": "execute_result"
    }
   ],
   "source": [
    "opt_mod_tot_rev"
   ]
  },
  {
   "cell_type": "code",
   "execution_count": 204,
   "metadata": {},
   "outputs": [],
   "source": [
    "capacity_income = mcd[\"Total capacity revenue [EUR]\"]"
   ]
  },
  {
   "cell_type": "code",
   "execution_count": 205,
   "metadata": {},
   "outputs": [
    {
     "data": {
      "text/plain": [
       "253.2188907600004"
      ]
     },
     "execution_count": 205,
     "metadata": {},
     "output_type": "execute_result"
    }
   ],
   "source": [
    "max(capacity_income)"
   ]
  },
  {
   "cell_type": "code",
   "execution_count": null,
   "metadata": {},
   "outputs": [],
   "source": []
  }
 ],
 "metadata": {
  "kernelspec": {
   "display_name": "master-kode-mqTzi66U-py3.11",
   "language": "python",
   "name": "python3"
  },
  "language_info": {
   "codemirror_mode": {
    "name": "ipython",
    "version": 3
   },
   "file_extension": ".py",
   "mimetype": "text/x-python",
   "name": "python",
   "nbconvert_exporter": "python",
   "pygments_lexer": "ipython3",
   "version": "3.11.7"
  }
 },
 "nbformat": 4,
 "nbformat_minor": 2
}
