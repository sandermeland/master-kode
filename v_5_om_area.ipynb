{
 "cells": [
  {
   "cell_type": "code",
   "execution_count": 33,
   "metadata": {},
   "outputs": [],
   "source": [
    "from gurobipy import Model, GRB\n",
    "import pandas as pd\n",
    "from code_map import old_meters, new_markets, Inputs\n",
    "import numpy as np\n",
    "import matplotlib.pyplot as plt\n",
    "import calendar \n",
    "from datetime import datetime\n",
    "import pytz\n",
    "import openpyxl\n",
    "from itertools import combinations, product\n"
   ]
  },
  {
   "cell_type": "code",
   "execution_count": 2,
   "metadata": {},
   "outputs": [],
   "source": [
    "i_v = Inputs.one_day\n",
    "H = pd.date_range(start=pd.Timestamp(year= i_v.year, month= i_v.start_month, day = i_v.start_day, hour = i_v.start_hour), \n",
    "                              end= pd.Timestamp(year = i_v.year, month = i_v.end_month, day = i_v.end_day, hour = i_v.end_hour), freq=\"H\", tz = \"Europe/Oslo\")\n",
    "\n",
    "power_meter_dict = old_meters.power_meters\n",
    "\n",
    "# Define the sets\n",
    "L = list(power_meter_dict.values())  # List of PowerMeter objects\n",
    "M = new_markets.all_market_list  # List of ReserveMarket objects"
   ]
  },
  {
   "cell_type": "code",
   "execution_count": 3,
   "metadata": {},
   "outputs": [
    {
     "name": "stdout",
     "output_type": "stream",
     "text": [
      "Amount of meters : 62\n",
      "Amount of markets : 2202\n",
      "Amount of hours : 24\n"
     ]
    }
   ],
   "source": [
    "print(f\"Amount of meters : {len(M)}\")\n",
    "print(f\"Amount of markets : {len(L)}\")\n",
    "print(f\"Amount of hours : {len(H)}\")"
   ]
  },
  {
   "cell_type": "code",
   "execution_count": 4,
   "metadata": {},
   "outputs": [],
   "source": [
    "#pp = np.array([[ len(market.price_data.loc[market.price_data[\"Time(Local)\"] == hour].values) for market in M] for hour in H])"
   ]
  },
  {
   "cell_type": "code",
   "execution_count": 5,
   "metadata": {},
   "outputs": [],
   "source": [
    "#pp[3][1]"
   ]
  },
  {
   "cell_type": "code",
   "execution_count": 6,
   "metadata": {},
   "outputs": [
    {
     "data": {
      "text/plain": [
       "'for i in range(pp.shape[0]):\\n    for j in range(pp.shape[1]):\\n        if pp[i,j] != 1:\\n            print(i, j, pp[i,j])\\n            '"
      ]
     },
     "execution_count": 6,
     "metadata": {},
     "output_type": "execute_result"
    }
   ],
   "source": [
    "\"\"\"for i in range(pp.shape[0]):\n",
    "    for j in range(pp.shape[1]):\n",
    "        if pp[i,j] != 1:\n",
    "            print(i, j, pp[i,j])\n",
    "            \"\"\""
   ]
  },
  {
   "cell_type": "code",
   "execution_count": 7,
   "metadata": {},
   "outputs": [],
   "source": [
    "#M[15].price_data.loc[M[15].price_data[\"Time(Local)\"] == H[7]].values"
   ]
  },
  {
   "cell_type": "code",
   "execution_count": 8,
   "metadata": {},
   "outputs": [],
   "source": [
    "#M[15].price_data"
   ]
  },
  {
   "cell_type": "code",
   "execution_count": 9,
   "metadata": {},
   "outputs": [],
   "source": [
    "#M[20].name"
   ]
  },
  {
   "cell_type": "code",
   "execution_count": 18,
   "metadata": {},
   "outputs": [],
   "source": [
    "F_h_l = np.array([[load.flex_volume[\"value\"].loc[load.flex_volume[\"Time(Local)\"] == hour].values[0] for load in L] for hour in H]) # set of flex volumes for meters\n",
    "\n",
    "R_h_l = np.array([[load.response_time for load in L]] * len(H)) # set of response times for meters\n",
    "\n",
    "P_h_m = np.array([[market.price_data.loc[market.price_data[\"Time(Local)\"] == hour].values[0][1] for market in M] for hour in H]) # set of prices for markets\n",
    "Vp_h_m = np.array([[market.volume_data.loc[market.volume_data[\"Time(Local)\"] == hour].values[0][1] for market in M] for hour in H]) # set of volumes for markets\n",
    "\n",
    "Vm_m = [market.min_volume for market in M] # set of min values for markets\n",
    "R_m = [market.response_time for market in M] # set of response times for markets\n"
   ]
  },
  {
   "cell_type": "code",
   "execution_count": 19,
   "metadata": {},
   "outputs": [
    {
     "name": "stdout",
     "output_type": "stream",
     "text": [
      "Total flex volume [MW]: 195.31786599999995\n",
      "Flex pr hour [MW]: 8.138244416666664\n"
     ]
    }
   ],
   "source": [
    "\n",
    "total_flex = np.sum(F_h_l)\n",
    "flex_pr_hour = total_flex/len(H)\n",
    "\n",
    "print(f\"Total flex volume [MW]: {total_flex}\")\n",
    "print(f\"Flex pr hour [MW]: {flex_pr_hour}\")"
   ]
  },
  {
   "cell_type": "code",
   "execution_count": 20,
   "metadata": {},
   "outputs": [
    {
     "name": "stdout",
     "output_type": "stream",
     "text": [
      "Mean price [EUR/MWH]: 15.389086021505376\n"
     ]
    }
   ],
   "source": [
    "mean_price = np.mean(P_h_m)\n",
    "print(f\"Mean price [EUR/MWH]: {mean_price}\")"
   ]
  },
  {
   "cell_type": "code",
   "execution_count": 21,
   "metadata": {},
   "outputs": [
    {
     "data": {
      "text/plain": [
       "True"
      ]
     },
     "execution_count": 21,
     "metadata": {},
     "output_type": "execute_result"
    }
   ],
   "source": [
    "len(F_h_l) == len(R_h_l) == len(P_h_m) == len(Vp_h_m)"
   ]
  },
  {
   "cell_type": "code",
   "execution_count": 22,
   "metadata": {},
   "outputs": [
    {
     "data": {
      "text/plain": [
       "True"
      ]
     },
     "execution_count": 22,
     "metadata": {},
     "output_type": "execute_result"
    }
   ],
   "source": [
    "len(Vm_m) == len(R_m)"
   ]
  },
  {
   "cell_type": "code",
   "execution_count": 23,
   "metadata": {},
   "outputs": [],
   "source": [
    "I = {}\n",
    "for l in range(len(L)):\n",
    "    for m in range(len(M)): \n",
    "        for h in range(len(H)):\n",
    "            I[h,l,m] = F_h_l[h,l] * P_h_m[h,m] "
   ]
  },
  {
   "cell_type": "code",
   "execution_count": 24,
   "metadata": {},
   "outputs": [],
   "source": [
    "\"\"\"else:\n",
    "        continue\"\"\"\n",
    "\n",
    "compatible_list = []\n",
    "for h, hour in enumerate(H):\n",
    "    hour_list = []\n",
    "    for l, asset in enumerate(L):\n",
    "        asset_list = []\n",
    "        for m, market in enumerate(M):\n",
    "            if asset.direction == \"up\":\n",
    "                if market.direction == \"up\":\n",
    "                    if market.area == asset.area or market.area == \"all\":\n",
    "                        asset_list.append(m)\n",
    "            elif asset.direction == \"down\":\n",
    "                if market.area == asset.area or market.area == \"all\":\n",
    "                    if market.direction == \"down\":\n",
    "                        asset_list.append(m)\n",
    "                \n",
    "            elif asset.direction == \"both\":\n",
    "                if market.area == asset.area  or market.area == \"all\":\n",
    "                    asset_list.append(m)\n",
    "        hour_list.append(asset_list)\n",
    "    compatible_list.append(hour_list)\n",
    "\n",
    "                \n",
    "    \n",
    "    "
   ]
  },
  {
   "cell_type": "code",
   "execution_count": 25,
   "metadata": {},
   "outputs": [
    {
     "name": "stdout",
     "output_type": "stream",
     "text": [
      "Set parameter Username\n",
      "Academic license - for non-commercial use only - expires 2024-10-18\n",
      "Gurobi Optimizer version 10.0.3 build v10.0.3rc0 (mac64[rosetta2])\n",
      "\n",
      "CPU model: Apple M1\n",
      "Thread count: 8 physical cores, 8 logical processors, using up to 8 threads\n",
      "\n",
      "Optimize a model with 3335376 rows, 3278064 columns and 19181204 nonzeros\n",
      "Model fingerprint: 0x2cdc46a8\n",
      "Variable types: 0 continuous, 3278064 integer (3278064 binary)\n",
      "Coefficient statistics:\n",
      "  Matrix range     [5e-07, 2e+03]\n",
      "  Objective range  [1e-06, 8e+01]\n",
      "  Bounds range     [1e+00, 1e+00]\n",
      "  RHS range        [1e+00, 1e+00]\n",
      "Found heuristic solution: objective -0.0000000\n",
      "Presolve removed 3296904 rows and 3131089 columns (presolve time = 5s) ...\n",
      "Presolve removed 3306511 rows and 3159286 columns (presolve time = 10s) ...\n",
      "Presolve removed 3334504 rows and 3273933 columns (presolve time = 17s) ...\n",
      "Presolve removed 3334504 rows and 3273933 columns\n",
      "Presolve time: 17.57s\n",
      "Presolved: 872 rows, 4131 columns, 18887 nonzeros\n",
      "Found heuristic solution: objective 2552.1033410\n",
      "Variable types: 0 continuous, 4131 integer (4129 binary)\n",
      "\n",
      "Root simplex log...\n",
      "\n",
      "Iteration    Objective       Primal Inf.    Dual Inf.      Time\n",
      "       0    2.6206518e+03   3.067065e+03   0.000000e+00     20s\n",
      "     848    2.6142274e+03   0.000000e+00   0.000000e+00     20s\n",
      "\n",
      "Root relaxation: objective 2.614227e+03, 848 iterations, 0.02 seconds (0.01 work units)\n",
      "\n",
      "    Nodes    |    Current Node    |     Objective Bounds      |     Work\n",
      " Expl Unexpl |  Obj  Depth IntInf | Incumbent    BestBd   Gap | It/Node Time\n",
      "\n",
      "     0     0 2614.22740    0    3 2552.10334 2614.22740  2.43%     -   20s\n",
      "H    0     0                    2612.0721440 2614.22740  0.08%     -   22s\n",
      "H    0     0                    2612.1412970 2614.22740  0.08%     -   23s\n",
      "H    0     0                    2612.5943050 2614.22740  0.06%     -   25s\n",
      "H    0     0                    2612.6610590 2614.22636  0.06%     -   26s\n",
      "     0     0 2614.22618    0    5 2612.66106 2614.22618  0.06%     -   26s\n",
      "H    0     0                    2613.6594790 2614.22618  0.02%     -   27s\n",
      "H    0     0                    2613.7090110 2614.22618  0.02%     -   28s\n",
      "H    0     0                    2613.9039620 2614.22618  0.01%     -   30s\n",
      "H    0     0                    2613.9363590 2614.22618  0.01%     -   31s\n",
      "     0     0 2613.95250    0    4 2613.93636 2613.95250  0.00%     -   31s\n",
      "\n",
      "Cutting planes:\n",
      "  Cover: 2\n",
      "  Clique: 104\n",
      "  Flow cover: 1\n",
      "  RLT: 3\n",
      "\n",
      "Explored 1 nodes (941 simplex iterations) in 33.21 seconds (15.98 work units)\n",
      "Thread count was 8 (of 8 available processors)\n",
      "\n",
      "Solution count 10: 2613.94 2613.9 2613.71 ... -0\n",
      "\n",
      "Optimal solution found (tolerance 1.00e-04)\n",
      "Best objective 2.613936359035e+03, best bound 2.613952503035e+03, gap 0.0006%\n"
     ]
    }
   ],
   "source": [
    "# Create a new model\n",
    "test_model = Model(\"AssetToMarket\")\n",
    "\n",
    "# Create decision variables\n",
    "x = {}\n",
    "d = {}\n",
    "y = {}\n",
    "for h in range(len(H)):\n",
    "    for l in range(len(L)):\n",
    "        for m in range(len(M)):\n",
    "            # asset i is connected to market j at hour h\n",
    "            x[h, l, m] = test_model.addVar(lb = 0, ub = 1, vtype=GRB.BINARY, name=f\"x_{h}_{l}_{m}\")\n",
    "\n",
    "            d[h,l,m] = 1 if m in compatible_list[h][l] else 0\n",
    "            \n",
    "            # adding the constraint\n",
    "            test_model.addConstr(x[h,l,m] <= d[h,l,m])\n",
    "    for m in range(len(M)):\n",
    "        # market j is active at hour h\n",
    "        y[h, m] = test_model.addVar(lb = 0, ub = 1, vtype=GRB.BINARY, name=f\"y_{h}_{m}\")\n",
    "\n",
    "\n",
    "# Set objective\n",
    "test_model.setObjective(\n",
    "    # maxmize income \n",
    "    sum(x[h, l, m] *I[h, l, m] for l in range(len(L)) for m in range(len(M)) for h in range(len(H))), GRB.MAXIMIZE)\n",
    "\n",
    "# Add constraints\n",
    "for h in range(len(H)):\n",
    "    for l in range(len(L)):\n",
    "        # Each asset can only be connected to one market at a time\n",
    "        test_model.addConstr(sum(x[h, l, m] for m in range(len(M))) <= 1, f\"single_market_for_asset_at_hour_{h}_nr.{l}\")\n",
    "\n",
    "    for m in range(len(M)):\n",
    "        # Connect the binary variables by using big M\n",
    "        test_model.addConstr((sum(x[h, l, m] for l in range(len(L)))) <= len(L) * y[h, m], f\"asset_connection_for_hour_{h}_market_{m}\")\n",
    "        \n",
    "        # Min volume constraint\n",
    "        test_model.addConstr(sum(x[h, l, m] * F_h_l[h,l] for l in range(len((L)))) >= Vm_m[m] * y[h, m], f\"min_volume_for_hour_{h}_market_{m}\") # denne må sjekkes\n",
    "\n",
    "        # Weighted average constraint for response time\n",
    "        total_response_time = sum(x[h, l, m] * R_h_l[h,l] for l in range(len(L)))\n",
    "        total_assigned_assets = sum(x[h, l, m] for l in range(len(L)))\n",
    "        test_model.addConstr(total_response_time <= R_m[m] * total_assigned_assets, f\"avg_response_time_for_hour_{h}_market_{m}\")\n",
    "\n",
    "        # Max volume constraint\n",
    "        test_model.addConstr(sum(x[h, l, m] * F_h_l[h,l] for l in range(len(L))) <=  Vp_h_m[h,m]  * y[h,m], f\"max_volume_for_hour_{h}_market_{m}\")\n",
    "\n",
    "# Solve the model\n",
    "test_model.optimize()\n",
    "    \n",
    "if test_model.status == GRB.Status.INFEASIBLE:\n",
    "    test_model.computeIIS()\n"
   ]
  },
  {
   "cell_type": "code",
   "execution_count": 26,
   "metadata": {},
   "outputs": [],
   "source": [
    "def get_market_count_dict(x):\n",
    "    data = []\n",
    "\n",
    "    for h, hour in enumerate(H):\n",
    "        for l, load in enumerate(L):\n",
    "            for m, market in enumerate(M):\n",
    "                if x[h, l, m].X > 0.5:\n",
    "                    data.append([hour, load.meter_id, market.name])\n",
    "\n",
    "    df = pd.DataFrame(data, columns=[\"Hour\", \"Asset Meter ID\", \"Market\"])\n",
    "    #print(df)\n",
    "\n",
    "\n",
    "    market_count_dict = {}\n",
    "    for hour in H:\n",
    "        hour_df = df.loc[(df[\"Hour\"] == hour)]\n",
    "        # get the number of assets in each market\n",
    "        market_count = hour_df.groupby([\"Market\", \"Hour\"]).agg(\"count\").reset_index().rename(columns={\"Asset Meter ID\": \"Asset Count\"})\n",
    "        market_count_dict[hour] = market_count\n",
    "    return market_count_dict"
   ]
  },
  {
   "cell_type": "code",
   "execution_count": 27,
   "metadata": {},
   "outputs": [],
   "source": [
    "market_count_dict = get_market_count_dict(x)\n"
   ]
  },
  {
   "cell_type": "code",
   "execution_count": 28,
   "metadata": {},
   "outputs": [],
   "source": [
    "def test_solution_validity(x, y, L, M, H):\n",
    "    for h, hour in enumerate(H):\n",
    "        for l, load in enumerate(L):\n",
    "            # Each asset can only be connected to one market at a time\n",
    "            assert sum(x[h, l, m].X for m in range(len(M))) <= 1, f\"Asset {l} connected to multiple markets at hour {h}\"\n",
    "            for m, market in enumerate(M):\n",
    "                # Directionality constraints\n",
    "                if load.direction == \"up\" and market.direction == \"down\":\n",
    "                    assert x[h, l, m].X == 0, f\"Up-direction asset {l} connected to down-direction market {m} at hour {h}\"\n",
    "                elif load.direction == \"down\" and market.direction == \"up\":\n",
    "                    assert x[h, l, m].X == 0, f\"Down-direction asset {l} connected to up-direction market {m} at hour {h}\"\n",
    "                elif market.direction == \"both\" and load.direction != \"both\":\n",
    "                    assert x[h, l, m].X == 0, f\"Asset {l} with specific direction connected to both-direction market {m} at hour {h}\"\n",
    "                elif market.area != load.area:\n",
    "                    assert x[h, l, m].X == 0, f\"Asset {l} in area {load.area} connected to market {m} in area {market.area} at hour {h}\"\n",
    "        for m, market in enumerate(M):\n",
    "            # Connect the binary variables by using big M\n",
    "            assert sum(x[h, l, m].X for l in range(len(L))) <= len(L) * y[h, m].X, f\"More than allowed assets connected at hour {h} to market {m}\"\n",
    "\n",
    "            # Min volume constraint\n",
    "            total_flex_volume = sum(x[h, l, m].X * load.flex_volume[\"value\"].loc[load.flex_volume[\"Time(Local)\"] == hour].values[0] for l, load in enumerate(L))\n",
    "            assert total_flex_volume >= market.min_volume * y[h, m].X, f\"Minimum volume constraint violated at hour {h} for market {m}\"\n",
    "\n",
    "            # test_model.addConstr(sum(x[h, l, m] * F_h_l[h,l] for l in range(len((L)))) >= Vm_m[m] * y[h, m], f\"min_volume_for_hour_{h}_market_{m}\") # denne må sjekkes\n",
    "            # F_h_l = np.array([[meter.flex_volume[\"value\"].loc[meter.flex_volume[\"Time(Local)\"] == hour].values[0] for meter in L] for hour in H]) # set of flex volumes for meters\n",
    "\n",
    "\n",
    "            # Weighted average constraint for response time\n",
    "            total_response_time = sum(x[h, l, m].X * load.response_time for l, load in enumerate(L))\n",
    "            total_assigned_assets = sum(x[h, l, m].X for l in range(len(L)))\n",
    "            assert total_response_time <= market.response_time * total_assigned_assets, f\"Average response time constraint violated at hour {h} for market {m}\"\n",
    "\n",
    "            # Max volume constraint\n",
    "            total_max_volume = sum(x[h, l, m].X * load.flex_volume[\"value\"].loc[load.flex_volume[\"Time(Local)\"] == hour].values[0] for l, load in enumerate(L))\n",
    "            market_max_volume = market.volume_data.loc[market.volume_data[\"Time(Local)\"] == hour].values[0][1]\n",
    "            assert total_max_volume <= market_max_volume * y[h,m].X, f\"Maximum volume constraint violated at hour {h} for market {m}\"\n",
    "\n",
    "\n",
    "\n"
   ]
  },
  {
   "cell_type": "code",
   "execution_count": 29,
   "metadata": {},
   "outputs": [],
   "source": [
    "test_solution_validity(x, y, L, M, H)\n"
   ]
  },
  {
   "cell_type": "code",
   "execution_count": 30,
   "metadata": {},
   "outputs": [],
   "source": [
    "for h, hour in enumerate(H):\n",
    "    for l, load in enumerate(L):\n",
    "        if load.flex_volume[\"value\"].loc[load.flex_volume[\"Time(Local)\"] == hour].values[0] != F_h_l[h,l]:\n",
    "            print(\"ERROR\")\n",
    "            print(load.flex_volume[\"value\"].loc[load.flex_volume[\"Time(Local)\"] == hour].values[0], F_h_l[h,l])\n"
   ]
  },
  {
   "cell_type": "code",
   "execution_count": 31,
   "metadata": {},
   "outputs": [],
   "source": [
    "for m, market in enumerate(M):\n",
    "    if Vm_m[m] != market.min_volume:\n",
    "        print(\"ERROR\")\n",
    "        print(Vm_m[m], market.min_volume)"
   ]
  },
  {
   "cell_type": "code",
   "execution_count": 32,
   "metadata": {},
   "outputs": [],
   "source": [
    "F_h_l = np.array([[load.flex_volume[\"value\"].loc[load.flex_volume[\"Time(Local)\"] == hour].values[0] for load in L] for hour in H]) # set of flex volumes for meters\n"
   ]
  },
  {
   "cell_type": "code",
   "execution_count": null,
   "metadata": {},
   "outputs": [],
   "source": [
    "all(F_h_l[0,:] == [load.flex_volume[\"value\"].loc[load.flex_volume[\"Time(Local)\"] == H[0]].values[0] for l, load in enumerate(L)])"
   ]
  },
  {
   "cell_type": "code",
   "execution_count": null,
   "metadata": {},
   "outputs": [],
   "source": [
    "#h = 0\n",
    "m = 26\n",
    "for hour in range(len(H)):\n",
    "    total_flex_volume_test = [x[h, l, m].X * load.flex_volume[\"value\"].loc[load.flex_volume[\"Time(Local)\"] == H[h]].values[0] for l, load in enumerate(L)]\n",
    "    total_flex_volume_mod = [x[h, l, m].X * F_h_l[h,l] for l, load in enumerate(L)]\n",
    "    test_sum = sum(total_flex_volume_test)\n",
    "    mod_sum = sum(total_flex_volume_mod)\n",
    "    print(f\" the sums are eaqual : {test_sum == mod_sum}\")\n",
    "    #print(f\"all the values are eaqual : {all(total_flex_volume_test == total_flex_volume_mod)}\")\n",
    "\n",
    "\n",
    "\"\"\"print(f\"The flex volume list for the test for market {m} at hour {h} is {total_flex_volume_test}\")\n",
    "print(f\"The flex volume list for the model for market {m} at hour {h} is {total_flex_volume_mod}\")\n",
    "print(f\"The total flex volume in the test for market {m} at hour {h} is {test_sum}\")\n",
    "print(f\"The total flex volume in the model for market {m} at hour {h} is {mod_sum}\")\"\"\"\n",
    "    "
   ]
  },
  {
   "cell_type": "code",
   "execution_count": null,
   "metadata": {},
   "outputs": [],
   "source": [
    "market_count_dict[H[23]]"
   ]
  },
  {
   "cell_type": "code",
   "execution_count": null,
   "metadata": {},
   "outputs": [],
   "source": [
    "M[26].name"
   ]
  },
  {
   "cell_type": "code",
   "execution_count": null,
   "metadata": {},
   "outputs": [],
   "source": []
  }
 ],
 "metadata": {
  "kernelspec": {
   "display_name": "INF264",
   "language": "python",
   "name": "python3"
  },
  "language_info": {
   "codemirror_mode": {
    "name": "ipython",
    "version": 3
   },
   "file_extension": ".py",
   "mimetype": "text/x-python",
   "name": "python",
   "nbconvert_exporter": "python",
   "pygments_lexer": "ipython3",
   "version": "3.9.12"
  }
 },
 "nbformat": 4,
 "nbformat_minor": 2
}
