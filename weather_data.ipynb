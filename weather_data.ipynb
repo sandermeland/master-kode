{
 "cells": [
  {
   "cell_type": "code",
   "execution_count": 3,
   "metadata": {},
   "outputs": [],
   "source": [
    "import gurobipy as gp\n",
    "import pandas as pd\n",
    "from code_map import data_handling\n",
    "import numpy as np\n",
    "import calendar \n",
    "from datetime import datetime\n",
    "import pytz\n",
    "import openpyxl\n",
    "import os\n",
    "import plotly.graph_objects as go\n",
    "import plotly.express as px\n"
   ]
  },
  {
   "cell_type": "code",
   "execution_count": null,
   "metadata": {},
   "outputs": [],
   "source": [
    "# get access to data from the yr-weather module which is used to get weather data from the yr.no API. I have installed the module from the terminal using the command: pip install yr-weather\n",
    "import yr_weather.yr_weather as yr_weather\n",
    "# Replace with your own User-Agent. See MET API Terms of Service for correct User-Agents.\n",
    "headers = {\n",
    "    \"User-Agent\": \"sander_meland_master_thesis/1.0 sander.meland@student.uib.no\"\n",
    "}\n",
    "\n",
    "my_client = yr_weather.Locationforecast(headers=headers)\n",
    "\n",
    "# Get air temperature in Oslo, Norway\n",
    "oslo_temp = my_client.get_air_temperature(59.91, 10.75)\n",
    "\n",
    "print(oslo_temp)\n",
    "# Example output: 8.0\n",
    "\n",
    "# Get full forecast for Oslo, Norway\n",
    "forecast = my_client.get_forecast(59.91, 10.75)\n",
    "\n",
    "# Select the forecast for the time right now (as it's possible to select a time further in the future)\n",
    "forecast_now = forecast.now()\n",
    "\n",
    "# You can now select from multiple data points. As an example, we show air pressure and wind speed.\n",
    "pressure = forecast_now.details.air_pressure_at_sea_level\n",
    "wind_speed = forecast_now.details.wind_speed\n",
    "\n",
    "print(f\"Air pressure at sea level in Oslo, Norway, is {pressure} hPa and the wind speed is {wind_speed} m/s\")"
   ]
  },
  {
   "cell_type": "markdown",
   "metadata": {},
   "source": [
    "### The code under is from when i tried to download a csv file and preprocess it. I dont think it will ever be useful again, but i dont want to delete it just in case."
   ]
  },
  {
   "cell_type": "code",
   "execution_count": 9,
   "metadata": {},
   "outputs": [],
   "source": [
    "weather_data = pd.read_csv('../master-data/weather_data/weather_5_meters.csv', sep=';')"
   ]
  },
  {
   "cell_type": "code",
   "execution_count": 10,
   "metadata": {},
   "outputs": [
    {
     "data": {
      "text/plain": [
       "Index(['Navn', 'Stasjon', 'Tid(norsk normaltid)', 'Nedbør (1 t)',\n",
       "       'Lufttemperatur'],\n",
       "      dtype='object')"
      ]
     },
     "execution_count": 10,
     "metadata": {},
     "output_type": "execute_result"
    }
   ],
   "source": [
    "weather_data.columns"
   ]
  },
  {
   "cell_type": "code",
   "execution_count": 35,
   "metadata": {},
   "outputs": [],
   "source": [
    "def preprocess_weather_data(df : pd.DataFrame):\n",
    "    #df.drop(df.loc[df[\"Navn\"] ==  'Data er gyldig per 06.12.2023 (CC BY 4.0), Meteorologisk institutt (MET)'], inplace=True)\n",
    "    df = df.copy()\n",
    "    df.rename(columns={'Tid(norsk normaltid)' : 'Time (Local)', \\\n",
    "                       \"Navn\" : \"station_name\", \\\n",
    "                       \"Stasjon\" : \"station\", \\\n",
    "                       \"Lufttemperatur\" : \"air_temp\", \\\n",
    "                       \"Vindretning\" : \"wind_direction\" , \\\n",
    "                       \"Nedbør (1 t)\" : \"precipitation\"}, inplace=True)\n",
    "    # convert from str to float\n",
    "    for column_name in ['precipitation',  'air_temp']:\n",
    "        df[column_name] = df[column_name].str.replace(',', '.')\n",
    "        df[column_name] = df[column_name].astype(float)\n",
    "\n",
    "    df[\"area\"] = df[\"station_name\"].apply(lambda x : \"NO1\" if x == 'Gardermoen' else \"NO2\" if x == 'Kristiansand - Sømskleiva' else \"NO3\" if x == 'Trondheim - Risvollan' else \"NO4\" if x == 'Tromsø' else \"NO5\" if x == 'Bergen - Florida' else \"None\")\n",
    "    # get this format : 01.01.2022 01:00\n",
    "    format = '%d.%m.%Y %H:%M'\n",
    "    df['Time (Local)'] = pd.to_datetime(df['Time (Local)'], format= format, utc=True)\n",
    "    df['Time (Local)'] = df['Time (Local)'].dt.tz_convert('Europe/Oslo')\n",
    "    df.sort_values(by=['Time (Local)'], inplace=True)\n",
    "    df = df.loc[(df[\"Time (Local)\"] >= pd.Timestamp(2023, 6, 1, 0, 0, 0, tz='Europe/Oslo')) & (df[\"Time (Local)\"] < pd.Timestamp(2023, 7, 1, 0, 0, 0, tz='Europe/Oslo')) ]\n",
    "    df.reset_index(drop=True, inplace= True)\n",
    "\n",
    "    df.drop(['station_name', 'station'], axis=1, inplace=True)\n",
    "    return df"
   ]
  },
  {
   "cell_type": "markdown",
   "metadata": {},
   "source": [
    "### It seems like the data misses several hours - will probably be better to try API\n",
    "\n"
   ]
  },
  {
   "cell_type": "code",
   "execution_count": 36,
   "metadata": {},
   "outputs": [],
   "source": [
    "weather_data_df = preprocess_weather_data(weather_data)"
   ]
  },
  {
   "cell_type": "code",
   "execution_count": 25,
   "metadata": {},
   "outputs": [
    {
     "data": {
      "text/html": [
       "<div>\n",
       "<style scoped>\n",
       "    .dataframe tbody tr th:only-of-type {\n",
       "        vertical-align: middle;\n",
       "    }\n",
       "\n",
       "    .dataframe tbody tr th {\n",
       "        vertical-align: top;\n",
       "    }\n",
       "\n",
       "    .dataframe thead th {\n",
       "        text-align: right;\n",
       "    }\n",
       "</style>\n",
       "<table border=\"1\" class=\"dataframe\">\n",
       "  <thead>\n",
       "    <tr style=\"text-align: right;\">\n",
       "      <th></th>\n",
       "      <th>station_name</th>\n",
       "      <th>station</th>\n",
       "      <th>Time (Local)</th>\n",
       "      <th>precipitation</th>\n",
       "      <th>air_temp</th>\n",
       "    </tr>\n",
       "  </thead>\n",
       "  <tbody>\n",
       "    <tr>\n",
       "      <th>0</th>\n",
       "      <td>Trondheim - Risvollan</td>\n",
       "      <td>SN68230</td>\n",
       "      <td>2023-06-01 00:00:00+02:00</td>\n",
       "      <td>0,2</td>\n",
       "      <td>4</td>\n",
       "    </tr>\n",
       "    <tr>\n",
       "      <th>1</th>\n",
       "      <td>Kristiansand - Sømskleiva</td>\n",
       "      <td>SN39150</td>\n",
       "      <td>2023-06-01 00:00:00+02:00</td>\n",
       "      <td>0</td>\n",
       "      <td>15,3</td>\n",
       "    </tr>\n",
       "    <tr>\n",
       "      <th>2</th>\n",
       "      <td>Tromsø</td>\n",
       "      <td>SN90450</td>\n",
       "      <td>2023-06-01 00:00:00+02:00</td>\n",
       "      <td>0</td>\n",
       "      <td>0,9</td>\n",
       "    </tr>\n",
       "    <tr>\n",
       "      <th>3</th>\n",
       "      <td>Bergen - Florida</td>\n",
       "      <td>SN50540</td>\n",
       "      <td>2023-06-01 00:00:00+02:00</td>\n",
       "      <td>0</td>\n",
       "      <td>9,4</td>\n",
       "    </tr>\n",
       "    <tr>\n",
       "      <th>4</th>\n",
       "      <td>Gardermoen</td>\n",
       "      <td>SN4780</td>\n",
       "      <td>2023-06-01 00:00:00+02:00</td>\n",
       "      <td>0</td>\n",
       "      <td>12,3</td>\n",
       "    </tr>\n",
       "    <tr>\n",
       "      <th>...</th>\n",
       "      <td>...</td>\n",
       "      <td>...</td>\n",
       "      <td>...</td>\n",
       "      <td>...</td>\n",
       "      <td>...</td>\n",
       "    </tr>\n",
       "    <tr>\n",
       "      <th>3595</th>\n",
       "      <td>Tromsø</td>\n",
       "      <td>SN90450</td>\n",
       "      <td>2023-06-30 23:00:00+02:00</td>\n",
       "      <td>0</td>\n",
       "      <td>17,9</td>\n",
       "    </tr>\n",
       "    <tr>\n",
       "      <th>3596</th>\n",
       "      <td>Bergen - Florida</td>\n",
       "      <td>SN50540</td>\n",
       "      <td>2023-06-30 23:00:00+02:00</td>\n",
       "      <td>0</td>\n",
       "      <td>13,9</td>\n",
       "    </tr>\n",
       "    <tr>\n",
       "      <th>3597</th>\n",
       "      <td>Trondheim - Risvollan</td>\n",
       "      <td>SN68230</td>\n",
       "      <td>2023-06-30 23:00:00+02:00</td>\n",
       "      <td>0</td>\n",
       "      <td>11,6</td>\n",
       "    </tr>\n",
       "    <tr>\n",
       "      <th>3598</th>\n",
       "      <td>Kristiansand - Sømskleiva</td>\n",
       "      <td>SN39150</td>\n",
       "      <td>2023-06-30 23:00:00+02:00</td>\n",
       "      <td>0</td>\n",
       "      <td>15,9</td>\n",
       "    </tr>\n",
       "    <tr>\n",
       "      <th>3599</th>\n",
       "      <td>Gardermoen</td>\n",
       "      <td>SN4780</td>\n",
       "      <td>2023-06-30 23:00:00+02:00</td>\n",
       "      <td>2,6</td>\n",
       "      <td>16,7</td>\n",
       "    </tr>\n",
       "  </tbody>\n",
       "</table>\n",
       "<p>3600 rows × 5 columns</p>\n",
       "</div>"
      ],
      "text/plain": [
       "                   station_name  station              Time (Local)  \\\n",
       "0         Trondheim - Risvollan  SN68230 2023-06-01 00:00:00+02:00   \n",
       "1     Kristiansand - Sømskleiva  SN39150 2023-06-01 00:00:00+02:00   \n",
       "2                        Tromsø  SN90450 2023-06-01 00:00:00+02:00   \n",
       "3              Bergen - Florida  SN50540 2023-06-01 00:00:00+02:00   \n",
       "4                    Gardermoen   SN4780 2023-06-01 00:00:00+02:00   \n",
       "...                         ...      ...                       ...   \n",
       "3595                     Tromsø  SN90450 2023-06-30 23:00:00+02:00   \n",
       "3596           Bergen - Florida  SN50540 2023-06-30 23:00:00+02:00   \n",
       "3597      Trondheim - Risvollan  SN68230 2023-06-30 23:00:00+02:00   \n",
       "3598  Kristiansand - Sømskleiva  SN39150 2023-06-30 23:00:00+02:00   \n",
       "3599                 Gardermoen   SN4780 2023-06-30 23:00:00+02:00   \n",
       "\n",
       "     precipitation air_temp  \n",
       "0              0,2        4  \n",
       "1                0     15,3  \n",
       "2                0      0,9  \n",
       "3                0      9,4  \n",
       "4                0     12,3  \n",
       "...            ...      ...  \n",
       "3595             0     17,9  \n",
       "3596             0     13,9  \n",
       "3597             0     11,6  \n",
       "3598             0     15,9  \n",
       "3599           2,6     16,7  \n",
       "\n",
       "[3600 rows x 5 columns]"
      ]
     },
     "metadata": {},
     "output_type": "display_data"
    }
   ],
   "source": [
    "display(weather_data_df)"
   ]
  },
  {
   "cell_type": "code",
   "execution_count": 26,
   "metadata": {},
   "outputs": [
    {
     "data": {
      "text/plain": [
       "array(['Trondheim - Risvollan', 'Kristiansand - Sømskleiva', 'Tromsø',\n",
       "       'Bergen - Florida', 'Gardermoen'], dtype=object)"
      ]
     },
     "execution_count": 26,
     "metadata": {},
     "output_type": "execute_result"
    }
   ],
   "source": [
    "weather_data_df[\"station_name\"].unique()"
   ]
  },
  {
   "cell_type": "code",
   "execution_count": 37,
   "metadata": {},
   "outputs": [
    {
     "data": {
      "text/plain": [
       "numpy.float64"
      ]
     },
     "execution_count": 37,
     "metadata": {},
     "output_type": "execute_result"
    }
   ],
   "source": [
    "type(weather_data_df[\"precipitation\"].iloc[0])"
   ]
  },
  {
   "cell_type": "code",
   "execution_count": 38,
   "metadata": {},
   "outputs": [
    {
     "data": {
      "text/html": [
       "<div>\n",
       "<style scoped>\n",
       "    .dataframe tbody tr th:only-of-type {\n",
       "        vertical-align: middle;\n",
       "    }\n",
       "\n",
       "    .dataframe tbody tr th {\n",
       "        vertical-align: top;\n",
       "    }\n",
       "\n",
       "    .dataframe thead th {\n",
       "        text-align: right;\n",
       "    }\n",
       "</style>\n",
       "<table border=\"1\" class=\"dataframe\">\n",
       "  <thead>\n",
       "    <tr style=\"text-align: right;\">\n",
       "      <th></th>\n",
       "      <th>Time (Local)</th>\n",
       "      <th>precipitation</th>\n",
       "      <th>air_temp</th>\n",
       "      <th>area</th>\n",
       "    </tr>\n",
       "  </thead>\n",
       "  <tbody>\n",
       "    <tr>\n",
       "      <th>0</th>\n",
       "      <td>2023-06-01 00:00:00+02:00</td>\n",
       "      <td>0.2</td>\n",
       "      <td>4.0</td>\n",
       "      <td>NO3</td>\n",
       "    </tr>\n",
       "    <tr>\n",
       "      <th>1</th>\n",
       "      <td>2023-06-01 00:00:00+02:00</td>\n",
       "      <td>0.0</td>\n",
       "      <td>15.3</td>\n",
       "      <td>NO2</td>\n",
       "    </tr>\n",
       "    <tr>\n",
       "      <th>2</th>\n",
       "      <td>2023-06-01 00:00:00+02:00</td>\n",
       "      <td>0.0</td>\n",
       "      <td>0.9</td>\n",
       "      <td>NO4</td>\n",
       "    </tr>\n",
       "    <tr>\n",
       "      <th>3</th>\n",
       "      <td>2023-06-01 00:00:00+02:00</td>\n",
       "      <td>0.0</td>\n",
       "      <td>9.4</td>\n",
       "      <td>NO5</td>\n",
       "    </tr>\n",
       "    <tr>\n",
       "      <th>4</th>\n",
       "      <td>2023-06-01 00:00:00+02:00</td>\n",
       "      <td>0.0</td>\n",
       "      <td>12.3</td>\n",
       "      <td>NO1</td>\n",
       "    </tr>\n",
       "    <tr>\n",
       "      <th>5</th>\n",
       "      <td>2023-06-01 01:00:00+02:00</td>\n",
       "      <td>0.0</td>\n",
       "      <td>3.6</td>\n",
       "      <td>NO3</td>\n",
       "    </tr>\n",
       "    <tr>\n",
       "      <th>6</th>\n",
       "      <td>2023-06-01 01:00:00+02:00</td>\n",
       "      <td>0.0</td>\n",
       "      <td>11.5</td>\n",
       "      <td>NO1</td>\n",
       "    </tr>\n",
       "    <tr>\n",
       "      <th>7</th>\n",
       "      <td>2023-06-01 01:00:00+02:00</td>\n",
       "      <td>0.0</td>\n",
       "      <td>13.5</td>\n",
       "      <td>NO2</td>\n",
       "    </tr>\n",
       "    <tr>\n",
       "      <th>8</th>\n",
       "      <td>2023-06-01 01:00:00+02:00</td>\n",
       "      <td>0.0</td>\n",
       "      <td>9.2</td>\n",
       "      <td>NO5</td>\n",
       "    </tr>\n",
       "    <tr>\n",
       "      <th>9</th>\n",
       "      <td>2023-06-01 01:00:00+02:00</td>\n",
       "      <td>0.1</td>\n",
       "      <td>0.4</td>\n",
       "      <td>NO4</td>\n",
       "    </tr>\n",
       "  </tbody>\n",
       "</table>\n",
       "</div>"
      ],
      "text/plain": [
       "               Time (Local)  precipitation  air_temp area\n",
       "0 2023-06-01 00:00:00+02:00            0.2       4.0  NO3\n",
       "1 2023-06-01 00:00:00+02:00            0.0      15.3  NO2\n",
       "2 2023-06-01 00:00:00+02:00            0.0       0.9  NO4\n",
       "3 2023-06-01 00:00:00+02:00            0.0       9.4  NO5\n",
       "4 2023-06-01 00:00:00+02:00            0.0      12.3  NO1\n",
       "5 2023-06-01 01:00:00+02:00            0.0       3.6  NO3\n",
       "6 2023-06-01 01:00:00+02:00            0.0      11.5  NO1\n",
       "7 2023-06-01 01:00:00+02:00            0.0      13.5  NO2\n",
       "8 2023-06-01 01:00:00+02:00            0.0       9.2  NO5\n",
       "9 2023-06-01 01:00:00+02:00            0.1       0.4  NO4"
      ]
     },
     "execution_count": 38,
     "metadata": {},
     "output_type": "execute_result"
    }
   ],
   "source": [
    "weather_data_df.head(10)"
   ]
  },
  {
   "cell_type": "code",
   "execution_count": null,
   "metadata": {},
   "outputs": [],
   "source": []
  }
 ],
 "metadata": {
  "kernelspec": {
   "display_name": "myenv",
   "language": "python",
   "name": "python3"
  },
  "language_info": {
   "codemirror_mode": {
    "name": "ipython",
    "version": 3
   },
   "file_extension": ".py",
   "mimetype": "text/x-python",
   "name": "python",
   "nbconvert_exporter": "python",
   "pygments_lexer": "ipython3",
   "version": "3.9.18"
  }
 },
 "nbformat": 4,
 "nbformat_minor": 2
}
