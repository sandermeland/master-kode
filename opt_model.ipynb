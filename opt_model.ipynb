{
 "cells": [
  {
   "cell_type": "code",
   "execution_count": 2,
   "metadata": {},
   "outputs": [],
   "source": [
    "\n",
    "from gurobipy import Model, GRB, quicksum\n",
    "import pandas as pd\n",
    "from code_map import meters, markets\n",
    "import numpy as np\n",
    "import matplotlib.pyplot as plt\n",
    "import calendar \n",
    "from datetime import datetime\n",
    "import pytz\n",
    "import openpyxl\n",
    "from itertools import combinations, product\n"
   ]
  },
  {
   "cell_type": "code",
   "execution_count": 3,
   "metadata": {},
   "outputs": [],
   "source": [
    "class Portfolio:\n",
    "    def __init__(self, assets : list[meters.PowerMeter], hour : pd.Timestamp):\n",
    "        self.assets = assets\n",
    "        self.hour = hour\n",
    "        self.response_time = self.get_response_time()\n",
    "        self.flex_volume_up = self.get_flex_volume_up(hour)\n",
    "        self.flex_volume_down = self.get_flex_volume_down(hour)\n",
    "        self.sleep_time = self.get_sleep_time()\n",
    "    \n",
    "    def add_asset(self, asset):\n",
    "        self.assets.append(asset)\n",
    "        \n",
    "    def remove_asset(self, asset):\n",
    "        self.assets.remove(asset)\n",
    "    \n",
    "    def get_response_time(self):\n",
    "        return np.mean([asset.response_time for asset in self.assets])\n",
    "    \n",
    "    def get_sleep_time(self):\n",
    "        return np.mean([asset.sleep_time for asset in self.assets])\n",
    "    \n",
    "    def get_flex_volume_up(self, hour : pd.Timestamp):\n",
    "        return sum([asset.flex_volume[\"value\"].loc[(asset.flex_volume[\"Time(Local)\"] == hour)] for asset in self.assets if asset.direction != \"down\"])\n",
    "    \n",
    "    def get_flex_volume_down(self, hour : pd.Timestamp):\n",
    "        return sum([asset.flex_volume[\"value\"].loc[(asset.flex_volume[\"Time(Local)\"] == hour)] for asset in self.assets if asset.direction != \"up\"])"
   ]
  },
  {
   "cell_type": "code",
   "execution_count": 4,
   "metadata": {},
   "outputs": [],
   "source": [
    "market_list = markets.all_market_list"
   ]
  },
  {
   "cell_type": "code",
   "execution_count": 5,
   "metadata": {},
   "outputs": [],
   "source": [
    "market_dict = {market.name : market for market in market_list}"
   ]
  },
  {
   "cell_type": "code",
   "execution_count": 7,
   "metadata": {},
   "outputs": [],
   "source": [
    "timeframe = pd.date_range(start=pd.Timestamp(year= markets.year, month= markets.start_month, day = markets.start_day, hour = markets.start_hour), \n",
    "                              end= pd.Timestamp(year = markets.year, month = markets.end_month, day = markets.end_day, hour = markets.end_hour), freq=\"H\", tz = \"Europe/Oslo\")"
   ]
  },
  {
   "cell_type": "code",
   "execution_count": 8,
   "metadata": {},
   "outputs": [],
   "source": [
    "market_names = [market.name for market in market_list]"
   ]
  },
  {
   "cell_type": "code",
   "execution_count": 9,
   "metadata": {},
   "outputs": [],
   "source": [
    "power_meter_dict = meters.power_meters"
   ]
  },
  {
   "cell_type": "code",
   "execution_count": 10,
   "metadata": {},
   "outputs": [],
   "source": [
    "# make all possible combination of portfolios for each hour and every power-meter and every market\n",
    "def generate_portfolios(assets : list[meters.PowerMeter], markets : list[markets.ReserveMarket], timestamps):\n",
    "    portfolios = []\n",
    "\n",
    "    for hour in timestamps:\n",
    "        for num_assets in range(len(assets) + 1):\n",
    "            # Generate all possible combinations of assets for the current hour\n",
    "            asset_combinations = combinations(assets, num_assets)\n",
    "\n",
    "            for asset_combination in asset_combinations:\n",
    "                portfolio = Portfolio(list(asset_combination), hour)\n",
    "                portfolios.append(portfolio)\n",
    "\n",
    "    return portfolios"
   ]
  },
  {
   "cell_type": "code",
   "execution_count": 11,
   "metadata": {},
   "outputs": [],
   "source": [
    "#portfolios = generate_portfolios(list(power_meter_dict.values()), market_list, timeframe)"
   ]
  },
  {
   "cell_type": "code",
   "execution_count": 12,
   "metadata": {},
   "outputs": [],
   "source": [
    "\n",
    "H = timeframe # set of hours in timehorizone\n",
    "M = market_list # set of markets\n",
    "\n",
    "market_per_hour = [market_list] * len(H) # set of markets per hour\n",
    "\n",
    "P = []  #set of portfolios\n",
    "L = list(power_meter_dict.values()) # set of meters\n",
    "\n",
    "load_pr_hour = [L] * len(H) # set of meters per hour\n",
    "\n",
    "\n"
   ]
  },
  {
   "cell_type": "code",
   "execution_count": 13,
   "metadata": {},
   "outputs": [
    {
     "data": {
      "text/plain": [
       "[24, 24, 24, 24, 24, 24, 24, 24, 24, 24, 24, 24, 24, 24]"
      ]
     },
     "execution_count": 13,
     "metadata": {},
     "output_type": "execute_result"
    }
   ],
   "source": [
    "[len(market.price_data) for market in M]"
   ]
  },
  {
   "cell_type": "code",
   "execution_count": 14,
   "metadata": {},
   "outputs": [
    {
     "data": {
      "text/plain": [
       "['FFR_flex',\n",
       " 'FFR_profile',\n",
       " 'FCR_D_1_D',\n",
       " 'FCR_D_1_N',\n",
       " 'FCR_D_2_D',\n",
       " 'FCR_D_2_N',\n",
       " 'aFRR up',\n",
       " 'aFRR down',\n",
       " 'RK_up',\n",
       " 'RK_down',\n",
       " 'RKOM_H_up',\n",
       " 'RKOM_H_down',\n",
       " 'RKOM_B_up',\n",
       " 'RKOM_B_down']"
      ]
     },
     "execution_count": 14,
     "metadata": {},
     "output_type": "execute_result"
    }
   ],
   "source": [
    "[market.name for market in M]"
   ]
  },
  {
   "cell_type": "code",
   "execution_count": 26,
   "metadata": {},
   "outputs": [],
   "source": [
    "L_v = [[meter.flex_volume[\"value\"].loc[meter.flex_volume[\"Time(Local)\"] == hour].values[0] for meter in L] for hour in H] # set of flex volumes for meters\n",
    "\n",
    "L_s = [[meter.sleep_time for meter in L]] * len(H) # set of sleep times for meters\n",
    "L_r = [[meter.response_time for meter in L]] * len(H) # set of response times for meters\n",
    "\n",
    "M_p = [[market.price_data.loc[market.price_data[\"Time(Local)\"] == hour].values[0][1] for market in M] for hour in H] # set of prices for markets\n",
    "M_v = [[market.volume_data.loc[market.volume_data[\"Time(Local)\"] == hour].values[0][1] for market in M] for hour in H] # set of volumes for markets\n",
    "\n",
    "M_m = [[market.min_volume for market in M]] * len(H) # set of min values for markets\n",
    "M_r = [[market.response_time for market in M]] * len(H) # set of response times for markets\n",
    "M_s = [[market.sleep_time for market in M]] * len(H) # set of sleep times for markets\n",
    "\n"
   ]
  },
  {
   "cell_type": "code",
   "execution_count": 27,
   "metadata": {},
   "outputs": [
    {
     "data": {
      "text/plain": [
       "[[5, 1, 1, 1, 1, 1, 1, 1, 10, 10, 10, 10, 10, 10],\n",
       " [5, 1, 1, 1, 1, 1, 1, 1, 10, 10, 10, 10, 10, 10],\n",
       " [5, 1, 1, 1, 1, 1, 1, 1, 10, 10, 10, 10, 10, 10],\n",
       " [5, 1, 1, 1, 1, 1, 1, 1, 10, 10, 10, 10, 10, 10],\n",
       " [5, 1, 1, 1, 1, 1, 1, 1, 10, 10, 10, 10, 10, 10],\n",
       " [5, 1, 1, 1, 1, 1, 1, 1, 10, 10, 10, 10, 10, 10],\n",
       " [5, 1, 1, 1, 1, 1, 1, 1, 10, 10, 10, 10, 10, 10],\n",
       " [5, 1, 1, 1, 1, 1, 1, 1, 10, 10, 10, 10, 10, 10],\n",
       " [5, 1, 1, 1, 1, 1, 1, 1, 10, 10, 10, 10, 10, 10],\n",
       " [5, 1, 1, 1, 1, 1, 1, 1, 10, 10, 10, 10, 10, 10],\n",
       " [5, 1, 1, 1, 1, 1, 1, 1, 10, 10, 10, 10, 10, 10],\n",
       " [5, 1, 1, 1, 1, 1, 1, 1, 10, 10, 10, 10, 10, 10],\n",
       " [5, 1, 1, 1, 1, 1, 1, 1, 10, 10, 10, 10, 10, 10],\n",
       " [5, 1, 1, 1, 1, 1, 1, 1, 10, 10, 10, 10, 10, 10],\n",
       " [5, 1, 1, 1, 1, 1, 1, 1, 10, 10, 10, 10, 10, 10],\n",
       " [5, 1, 1, 1, 1, 1, 1, 1, 10, 10, 10, 10, 10, 10],\n",
       " [5, 1, 1, 1, 1, 1, 1, 1, 10, 10, 10, 10, 10, 10],\n",
       " [5, 1, 1, 1, 1, 1, 1, 1, 10, 10, 10, 10, 10, 10],\n",
       " [5, 1, 1, 1, 1, 1, 1, 1, 10, 10, 10, 10, 10, 10],\n",
       " [5, 1, 1, 1, 1, 1, 1, 1, 10, 10, 10, 10, 10, 10],\n",
       " [5, 1, 1, 1, 1, 1, 1, 1, 10, 10, 10, 10, 10, 10],\n",
       " [5, 1, 1, 1, 1, 1, 1, 1, 10, 10, 10, 10, 10, 10],\n",
       " [5, 1, 1, 1, 1, 1, 1, 1, 10, 10, 10, 10, 10, 10],\n",
       " [5, 1, 1, 1, 1, 1, 1, 1, 10, 10, 10, 10, 10, 10]]"
      ]
     },
     "execution_count": 27,
     "metadata": {},
     "output_type": "execute_result"
    }
   ],
   "source": [
    "M_m"
   ]
  },
  {
   "cell_type": "code",
   "execution_count": null,
   "metadata": {},
   "outputs": [],
   "source": [
    "len(market_per_hour)"
   ]
  },
  {
   "cell_type": "code",
   "execution_count": 28,
   "metadata": {},
   "outputs": [],
   "source": [
    "portfolio1 = Portfolio(assets = L[:6], hour = timeframe[5])"
   ]
  },
  {
   "cell_type": "code",
   "execution_count": 29,
   "metadata": {},
   "outputs": [
    {
     "data": {
      "text/plain": [
       "[<code_map.meters.PowerMeter at 0x7fb562457c40>,\n",
       " <code_map.meters.PowerMeter at 0x7fb550564760>,\n",
       " <code_map.meters.PowerMeter at 0x7fb550564ee0>,\n",
       " <code_map.meters.PowerMeter at 0x7fb550564fa0>,\n",
       " <code_map.meters.PowerMeter at 0x7fb550c585e0>,\n",
       " <code_map.meters.PowerMeter at 0x7fb550c58940>]"
      ]
     },
     "execution_count": 29,
     "metadata": {},
     "output_type": "execute_result"
    }
   ],
   "source": [
    "portfolio1.assets"
   ]
  },
  {
   "cell_type": "code",
   "execution_count": null,
   "metadata": {},
   "outputs": [],
   "source": [
    "portfolio1.sleep_time"
   ]
  },
  {
   "cell_type": "code",
   "execution_count": null,
   "metadata": {},
   "outputs": [],
   "source": [
    "type(L)"
   ]
  },
  {
   "cell_type": "code",
   "execution_count": null,
   "metadata": {},
   "outputs": [],
   "source": [
    "capacity_strings = [\"FFR\", \"FCR\", \"aFRR\", \"RKOM\"] # set of markets for controllable load\n",
    "Mc = [m for m in M if any(s in m.name for s in capacity_strings)] # set of capacity markets\n",
    "Ma = [m for m in M if not any(s in m.name for s in capacity_strings)] # set of activation markets\n",
    "\n"
   ]
  },
  {
   "cell_type": "markdown",
   "metadata": {},
   "source": [
    "income = tilgjengelig volum * pris"
   ]
  },
  {
   "cell_type": "code",
   "execution_count": null,
   "metadata": {},
   "outputs": [],
   "source": [
    "def get_portfolio_income(portfolio : Portfolio, market : markets.ReserveMarket, hour : pd.Timestamp):\n",
    "    \n",
    "    if market.direction == \"up\": \n",
    "        return portfolio.flex_volume_up * market.price_data.loc[(market.price_data[\"Time(Local)\"] == hour)].values[0]\n",
    "    elif market.direction == \"down\":\n",
    "        return portfolio.flex_volume_down * market.price_data.loc[(market.price_data[\"Time(Local)\"] == hour)].values[0]\n",
    "    else:\n",
    "        return max(portfolio.flex_volume_up, portfolio.flex_volume_down) * market.price_data.loc[(market.price_data[\"Time(Local)\"] == hour)].values[0]\n",
    "        "
   ]
  },
  {
   "cell_type": "code",
   "execution_count": null,
   "metadata": {},
   "outputs": [],
   "source": [
    "def get_possible_arming_income(hour : pd.Timestamp, load : meters.PowerMeter, market : markets.ReserveMarket):\n",
    "    \"\"\" Returns the possible income for a given hour, load and capacity market\n",
    "\n",
    "    Args:\n",
    "        hour (pd.Timestamp): _description_\n",
    "        load (meters.PowerMeter): _description_\n",
    "        market (markets.ReserveMarket): _description_\n",
    "\n",
    "    Returns:\n",
    "        _type_: _description_\n",
    "    \"\"\"\n",
    "    consumption_df = load.consumption_data\n",
    "    available_flex = consumption_df.loc[(consumption_df[\"Time(Local)\"] == hour)]\n",
    "    market_df = market.price_data\n",
    "    volume_df = market.volume_data\n",
    "    possbile_income = market_df.loc[market_df[\"Time(Local)\"] == hour] if volume_df.loc[volume_df[\"Time(Local)\"] == hour] > 0 else 0\n",
    "    return available_flex * possbile_income"
   ]
  },
  {
   "cell_type": "code",
   "execution_count": null,
   "metadata": {},
   "outputs": [],
   "source": [
    "def get_possible_rk_income(hour : pd.Timestamp, load : meters.PowerMeter, market : markets.ReserveMarket, direction : str):\n",
    "    \"\"\"income for activating portfolio p that was bid into activation market m at hour h\n",
    "    \"\"\"\n",
    "    rk_up_price = market_dict[\"RK_up\"].price_data.loc[market_dict[\"RK_up\"].price_data[\"Time(Local)\"] == hour] if market_dict[\"RK_up\"].volume_data.loc[market_dict[\"RK_up\"].volume_data[\"Time(Local)\"] == hour] > 0 else 0\n",
    "    rk_down_price = market_dict[\"RK_down\"].price_data.loc[market_dict[\"RK_down\"].price_data[\"Time(Local)\"] == hour] if market_dict[\"RK_down\"].volume_data.loc[market_dict[\"RK_down\"].volume_data[\"Time(Local)\"] == hour] > 0 else 0\n",
    "       \n",
    "    if direction == \"up\":\n",
    "            return rk_up_price * load.consumption_data.loc[load.consumption_data[\"Time(Local)\"] == hour]\n",
    "    elif direction == \"down\":\n",
    "        return rk_down_price * load.consumption_data.loc[load.consumption_data[\"Time(Local)\"] == hour]\n",
    "    else:\n",
    "        return max(rk_up_price, rk_down_price) * load.consumption_data.loc[load.consumption_data[\"Time(Local)\"] == hour]\n",
    "    "
   ]
  },
  {
   "cell_type": "code",
   "execution_count": null,
   "metadata": {},
   "outputs": [],
   "source": [
    "def get_possible_activation_income(hour : pd.Timestamp, load : meters.PowerMeter, market : markets.ReserveMarket, direction : str):\n",
    "    \"\"\" Returns the possible income for a given hour, load and activation market\n",
    "     income for activating portfolio p that was bid into cap market m at hour h\n",
    "    \"\"\"\n",
    "    # FCR-D => RK pris\n",
    "    # FCR-N => ingen pris\n",
    "    # RKOM => RK pris\n",
    "    # aFRR => ?\n",
    "     \n",
    "    if market.name.isin([\"FCR-D\", \"RKOM\"]):\n",
    "        return get_possible_rk_income(hour, load, market, direction)\n",
    "    else:\n",
    "        return 0\n",
    "    "
   ]
  },
  {
   "cell_type": "code",
   "execution_count": null,
   "metadata": {},
   "outputs": [],
   "source": [
    "def get_possible_fee():\n",
    "    \"\"\"fee for not activating portfolio p in cap market m that recieved an activation signal in hour h\n",
    "    \"\"\"\n",
    "    # Avkortning (EUR) = avviksfaktor A x pris (EUR/MWh) x manglende effektvolum (MWh), A= 2\n",
    "    "
   ]
  },
  {
   "cell_type": "code",
   "execution_count": null,
   "metadata": {},
   "outputs": [],
   "source": [
    "def get_available_flex_volume(meter : meters.PowerMeter, hour: pd.Timestamp, ):\n",
    "    return meter.flex_volume.loc[meter.flex_volume[\"Time(Local)\"] == hour].values[0]"
   ]
  },
  {
   "cell_type": "code",
   "execution_count": null,
   "metadata": {},
   "outputs": [],
   "source": [
    "def get_market_volume(market : markets.ReserveMarket, hour: pd.Timestamp):\n",
    "    return market.volume_data.loc[market.volume_data[\"Time(Local)\"] == hour].values[0]"
   ]
  },
  {
   "cell_type": "code",
   "execution_count": null,
   "metadata": {},
   "outputs": [],
   "source": [
    "def get_possible_duration_for_meter(meter : meters.PowerMeter, hour : pd.Timestamp):\n",
    "    \"\"\" returns the number of hours a meter can durate from a given hour\n",
    "\n",
    "    Args:\n",
    "        meter (meters.PowerMeter): the given power meter\n",
    "        hour (pd.Timestamp): the given hour\n",
    "\n",
    "    Returns:\n",
    "        int: number of minutes the meter can durate\n",
    "    \"\"\"\n",
    "    # A meter can durate for the same amount of hours as it has a higher or equal flex volume in the following hours\n",
    "    following_hours = meter.flex_volume.loc[meter.flex_volume[\"Time(Local)\"] >= hour]\n",
    "    # find how many hours where the value is higher than the value for the current hour\n",
    "    amount_of_hours = 0\n",
    "    for value in following_hours[\"value\"][1:]:\n",
    "        if value >= meter.flex_volume[\"value\"].loc[meter.flex_volume[\"Time(Local)\"] == hour].values[0]:\n",
    "            amount_of_hours += 1\n",
    "        else:\n",
    "            return amount_of_hours * 60"
   ]
  },
  {
   "cell_type": "code",
   "execution_count": null,
   "metadata": {},
   "outputs": [],
   "source": [
    "#def add_load_to_portfolio(portfolio : Portfolio, load : meters.PowerMeter, portfolio_list : list[Portfolio]):\n",
    "    "
   ]
  },
  {
   "cell_type": "code",
   "execution_count": null,
   "metadata": {},
   "outputs": [],
   "source": [
    "get_possible_duration_for_meter(power_meter_dict[L[0].meter_id], pd.Timestamp(year = 2022, month = 6, day = 26, hour = 4, tz = \"Europe/Oslo\"))"
   ]
  },
  {
   "cell_type": "markdown",
   "metadata": {},
   "source": [
    "# Optimization model"
   ]
  },
  {
   "cell_type": "code",
   "execution_count": null,
   "metadata": {},
   "outputs": [],
   "source": [
    "opt_model = Model(name=\"Optimization Model\")"
   ]
  },
  {
   "cell_type": "markdown",
   "metadata": {},
   "source": [
    "## Decision Variables"
   ]
  },
  {
   "cell_type": "code",
   "execution_count": null,
   "metadata": {},
   "outputs": [],
   "source": [
    "# Add multiple binary decision variables\n",
    "x = opt_model.addVars(len(L) * len(H), vtype = GRB.BINARY, name = \"x\") # load l is in portfolio p at hour h\n",
    "z = opt_model.addVars(len(M) * len(H), vtype = GRB.BINARY, name = \"z\") # portfolio p is bid to market m at hour h\n",
    "#w = opt_model.addVars(len(M) * len(H), vtype = GRB.BINARY, name = \"w\") # portfolio p recieves activation signal in market m at hour h\n",
    "#y = opt_model.addVars(len(M) * len(H), vtype = GRB.BINARY, name = \"y\") # portfolio p is activated in market m at hour h\n",
    "\n",
    "# Continous variables\n",
    "d = opt_model.addVars(len(M) * len(H), vtype = GRB.CONTINUOUS, name = \"d\") # flex volume bid in to market m in hour h\n"
   ]
  },
  {
   "cell_type": "markdown",
   "metadata": {},
   "source": [
    "## Constraints"
   ]
  },
  {
   "cell_type": "code",
   "execution_count": null,
   "metadata": {},
   "outputs": [],
   "source": [
    "# one portfolio per meter\n",
    "opt_model.addConstrs((sum(x[l,p, h] for p in P) <= 1 for l in L for h in H), name = \"one_portfolio_per_meter\")\n",
    "# one market per portfolio\n",
    "opt_model.addConstrs((sum(z[m,p, h] for m in M) <= 1 for p in P for h in H), name = \"one_market_per_portfolio\")\n",
    "# minimum volume for up markets\n",
    "opt_model.addConstrs(((p.flex_volume_up - m.min_volume) * z[m,p,h] >= 0  for m in M for p in P for h in H), name = \"min_bid_vol_up\")\n",
    "# minimum volume for down markets\n",
    "opt_model.addConstrs(((p.flex_volume_down - m.min_volume) * z[m,p,h] >= 0  for m in M for p in P for h in H), name = \"min_bid_vol_down\")\n",
    "# response time faster than market criteria\n",
    "opt_model.addConstrs(((p.response_time - m.response_time) * z[p,m,h] <= 0 for m in M for p in P for h in H), name = \"response_time\")\n",
    "# sleep time shorter than market criteria\n",
    "opt_model.addConstrs(((p.sleep_time - m.sleep_time ) * z[p,m,h] <= 0 for m in M for p in P for h in H), name = \"sleep_time\")\n",
    "# can only be activated in one market\n",
    "#opt_model.addConstrs((sum(y[p,m,h]*w[p,m,h] for m in Mc) <= 1 for p in P for h in H), name = \"only activated in one market\")\n",
    "# can only be activated if bid\n",
    "#opt_model.addConstrs((w[p,m,h] <= z[p,m,h] for m in Mc for p in P for h in H), name = \"only activated if bid\")\n",
    "# can only be activated if signal\n",
    "#opt_model.addConstrs((w[p,m,h] <= y[p,m,h] for m in Mc for p in P for h in H), name = \"only activated if signal\")\n"
   ]
  },
  {
   "cell_type": "code",
   "execution_count": null,
   "metadata": {},
   "outputs": [],
   "source": [
    "#obj_fn = sum(sum( (sum(get_possible_rk_income(h, p, m, m.direction)*z[m,p,h]) for m in Ma) + sum(get_possible_arming_income(h, p, m) * z[p,m,h] for m in Mc) ) for p in P for h in H) - sum(sum(get_possible_activation_income(h, p, m, m.direction) * y[p,m,h] for m in Mc) for p in P for h in H)\n",
    "\n",
    "obj_fn = sum(sum(sum(get_portfolio_income(p, m, h) * z[p,m,h] for m in M) for p in P) for h in H)\n",
    "\n",
    "opt_model.setObjective(obj_fn, GRB.MAXIMIZE)\n",
    "\n",
    "opt_model.print_information()"
   ]
  },
  {
   "cell_type": "code",
   "execution_count": null,
   "metadata": {},
   "outputs": [],
   "source": [
    "opt_model.optimize()\n",
    "\n"
   ]
  }
 ],
 "metadata": {
  "kernelspec": {
   "display_name": "INF265",
   "language": "python",
   "name": "python3"
  },
  "language_info": {
   "codemirror_mode": {
    "name": "ipython",
    "version": 3
   },
   "file_extension": ".py",
   "mimetype": "text/x-python",
   "name": "python",
   "nbconvert_exporter": "python",
   "pygments_lexer": "ipython3",
   "version": "3.9.12"
  }
 },
 "nbformat": 4,
 "nbformat_minor": 2
}
