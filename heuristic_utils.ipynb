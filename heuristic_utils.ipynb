{
 "cells": [
  {
   "cell_type": "code",
   "execution_count": 1,
   "metadata": {},
   "outputs": [
    {
     "name": "stdout",
     "output_type": "stream",
     "text": [
      "[<code_map.markets.ReserveMarket object at 0x7ff748b8d400>, <code_map.markets.ReserveMarket object at 0x7ff748b8d370>, <code_map.markets.ReserveMarket object at 0x7ff748b8d430>, <code_map.markets.ReserveMarket object at 0x7ff748b8d460>, <code_map.markets.ReserveMarket object at 0x7ff748b8d490>, <code_map.markets.ReserveMarket object at 0x7ff748b8d4c0>, <code_map.markets.ReserveMarket object at 0x7ff748b8d5e0>, <code_map.markets.ReserveMarket object at 0x7ff748b8d610>]\n"
     ]
    }
   ],
   "source": [
    "from code_map import meters, markets\n",
    "import pandas as pd\n",
    "import numpy as np\n",
    "import openpyxl\n",
    "import matplotlib.pyplot as plt\n",
    "import calendar \n",
    "from collections import OrderedDict\n",
    "from pandas.tseries.offsets import MonthEnd\n",
    "from datetime import datetime\n",
    "import pytz"
   ]
  },
  {
   "cell_type": "code",
   "execution_count": 6,
   "metadata": {},
   "outputs": [],
   "source": [
    "def dummy_solution(markets : list[markets.ReserveMarket], dummy_percentage : int, start_date : str, end_date : str):\n",
    "    \"\"\" creates a feasible and valid dummy solution \n",
    "\n",
    "    Args:\n",
    "        markets (list[ReserveMarket]): list of the reserve markets to bid in\n",
    "        dummy_percentage (int): how big percentage to initially be out of use\n",
    "        start_date (str): start date in string format : \"year-month-day\"\n",
    "        end_date (str): end date in string format : \"year-month-day\"\n",
    "\n",
    "    Returns:\n",
    "        pd.DataFrame: dataframe showing the distribution of bids in the different markets\n",
    "    \"\"\"\n",
    "    d = dict()\n",
    "    start = datetime.strptime(start_date, \"%Y-%m-%d\")\n",
    "    end = datetime.strptime(end_date, \"%Y-%m-%d\")\n",
    "\n",
    "    date_list = pd.date_range(start, end, freq=\"H\")\n",
    "    d[\"Date\"] = date_list\n",
    "    for market in markets:\n",
    "        d[market.name] = [0 for _ in range(len(date_list))]\n",
    "    \n",
    "    d[\"not_used\"] = [dummy_percentage for _ in range(len(date_list))]\n",
    "    df = pd.DataFrame(d)\n",
    "    return df\n",
    "    "
   ]
  },
  {
   "cell_type": "code",
   "execution_count": 9,
   "metadata": {},
   "outputs": [
    {
     "name": "stdout",
     "output_type": "stream",
     "text": [
      "                    Date  FFR_flex  FFR_profile  FCR_D_up  FCR_N  aFRR  \\\n",
      "0    2022-01-01 00:00:00         0            0         0      0     0   \n",
      "1    2022-01-01 01:00:00         0            0         0      0     0   \n",
      "2    2022-01-01 02:00:00         0            0         0      0     0   \n",
      "3    2022-01-01 03:00:00         0            0         0      0     0   \n",
      "4    2022-01-01 04:00:00         0            0         0      0     0   \n",
      "...                  ...       ...          ...       ...    ...   ...   \n",
      "8756 2022-12-31 20:00:00         0            0         0      0     0   \n",
      "8757 2022-12-31 21:00:00         0            0         0      0     0   \n",
      "8758 2022-12-31 22:00:00         0            0         0      0     0   \n",
      "8759 2022-12-31 23:00:00         0            0         0      0     0   \n",
      "8760 2023-01-01 00:00:00         0            0         0      0     0   \n",
      "\n",
      "      mFRR_EAM  mFRR_CM  RKOM_uke  not_used  \n",
      "0            0        0         0       0.5  \n",
      "1            0        0         0       0.5  \n",
      "2            0        0         0       0.5  \n",
      "3            0        0         0       0.5  \n",
      "4            0        0         0       0.5  \n",
      "...        ...      ...       ...       ...  \n",
      "8756         0        0         0       0.5  \n",
      "8757         0        0         0       0.5  \n",
      "8758         0        0         0       0.5  \n",
      "8759         0        0         0       0.5  \n",
      "8760         0        0         0       0.5  \n",
      "\n",
      "[8761 rows x 10 columns]\n"
     ]
    }
   ],
   "source": [
    "dummy_df = dummy_solution(markets=markets.market_list, dummy_percentage=0.5, start_date= \"2022-01-01\", end_date= \"2023-01-01\")\n",
    "print(dummy_df)"
   ]
  },
  {
   "cell_type": "code",
   "execution_count": null,
   "metadata": {},
   "outputs": [],
   "source": [
    "def feasibility_check(solution : pd.DataFrame, meters : list[meters.PowerMeter], markets : list[markets.ReserveMarket]):\n",
    "    total_volume = sum([meter.flex_volume for meter in meters])\n",
    "    \n",
    "    for market in markets:\n",
    "        if len(market.available_hours) < 24: # has to check if the market is open\n",
    "            #if solution\n",
    "            continue\n",
    "        if market.opening_date != None:\n",
    "            continue\n",
    "        \n",
    "        for i in solution[market.name]:\n",
    "            if i * total_volume < market.min_volume:\n",
    "                return False\n",
    "            \n",
    "    "
   ]
  },
  {
   "cell_type": "code",
   "execution_count": null,
   "metadata": {},
   "outputs": [],
   "source": [
    "def compatible(market : markets.ReserveMarket, power_meter : meters.PowerMeter):\n",
    "    \"\"\" Function to check if a power meter is compatible with a market\n",
    "    - checks the response time\n",
    "    - checks the opening hours/days\n",
    "    - checks the \n",
    "    -\n",
    "    -\n",
    "    \n",
    "\n",
    "    Args:\n",
    "        market (ReserveMarket): market to check compatibility with\n",
    "        power_meter (PowerMeter): power meter to check compatibility with\n",
    "\n",
    "    Returns:\n",
    "        bool: true if compatible, false if not\n",
    "    \"\"\"\n",
    "    if power_meter.response_time > market.response_time or power_meter.sleep_time > market.sleep_time:\n",
    "        return False\n",
    "    else:\n",
    "        return True\n",
    "    "
   ]
  },
  {
   "cell_type": "code",
   "execution_count": null,
   "metadata": {},
   "outputs": [],
   "source": [
    "def get_flex_income(solution : pd.DataFrame, meters : list[meters.PowerMeter], markets : list[markets.ReserveMarket]):\n",
    "    total_volume = sum([meter.flex_volume for meter in meters])\n",
    "    total_income = 0\n",
    "\n",
    "    for hour in range(len(solution)):\n",
    "        for market in markets:\n",
    "            total_income += solution[market.name][hour] * total_volume * market.price\n",
    "            \n",
    "    \n",
    "\n",
    "            "
   ]
  }
 ],
 "metadata": {
  "kernelspec": {
   "display_name": "INF265",
   "language": "python",
   "name": "python3"
  },
  "language_info": {
   "codemirror_mode": {
    "name": "ipython",
    "version": 3
   },
   "file_extension": ".py",
   "mimetype": "text/x-python",
   "name": "python",
   "nbconvert_exporter": "python",
   "pygments_lexer": "ipython3",
   "version": "3.9.17"
  },
  "orig_nbformat": 4
 },
 "nbformat": 4,
 "nbformat_minor": 2
}
