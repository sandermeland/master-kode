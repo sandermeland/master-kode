{
 "cells": [
  {
   "cell_type": "markdown",
   "metadata": {},
   "source": [
    "### In this file I will try to further develop the model and use the inspiration from the previous bidding files. The goal is to end up with a deep reinforcement learning model that can handle the bidding process and be able to make bids without knowing the prices. "
   ]
  },
  {
   "cell_type": "code",
   "execution_count": 1,
   "metadata": {},
   "outputs": [],
   "source": [
    "import gurobipy as gp\n",
    "import pandas as pd\n",
    "from code_map import final_markets, new_meters, utils, weather, timeframes\n",
    "import numpy as np\n",
    "from datetime import datetime, timedelta\n",
    "from collections import defaultdict, Counter\n",
    "import random\n",
    "import sklearn"
   ]
  },
  {
   "cell_type": "code",
   "execution_count": 2,
   "metadata": {},
   "outputs": [],
   "source": [
    "tf = timeframes.one_week"
   ]
  },
  {
   "cell_type": "code",
   "execution_count": 3,
   "metadata": {},
   "outputs": [],
   "source": [
    "L, M, F, H, freq_data, power_meter_dict, consumption_data = utils.get_all_sets(timeframe= tf, areas = [\"NO5\"])"
   ]
  },
  {
   "cell_type": "code",
   "execution_count": 4,
   "metadata": {},
   "outputs": [],
   "source": [
    "L_u, L_d, Fu_h_l, Fd_h_l, R_h_l, P_h_m, Vp_h_m, Vm_m, R_m = utils.get_parameters(L = L, M = M, H = H)"
   ]
  },
  {
   "cell_type": "code",
   "execution_count": 5,
   "metadata": {},
   "outputs": [
    {
     "name": "stderr",
     "output_type": "stream",
     "text": [
      "/Users/sandermeland/Documents/UIB/Master/master-kode/code_map/utils.py:176: SettingWithCopyWarning: \n",
      "A value is trying to be set on a copy of a slice from a DataFrame\n",
      "\n",
      "See the caveats in the documentation: https://pandas.pydata.org/pandas-docs/stable/user_guide/indexing.html#returning-a-view-versus-a-copy\n",
      "  filtered_df.sort_values(by = \"Time\", inplace = True)\n",
      "/Users/sandermeland/Documents/UIB/Master/master-kode/code_map/utils.py:176: SettingWithCopyWarning: \n",
      "A value is trying to be set on a copy of a slice from a DataFrame\n",
      "\n",
      "See the caveats in the documentation: https://pandas.pydata.org/pandas-docs/stable/user_guide/indexing.html#returning-a-view-versus-a-copy\n",
      "  filtered_df.sort_values(by = \"Time\", inplace = True)\n"
     ]
    }
   ],
   "source": [
    "Ir_hlm, Ia_hlm, Va_hm = utils.get_income_dictionaries(H=H, L = L, M = M, freq_data= freq_data, Fu_h_l= Fu_h_l, Fd_h_l= Fd_h_l, P_h_m= P_h_m, Vp_h_m= Vp_h_m, F = F, markets_dict = {market.name : market for market in M}, timeframe = tf, areas = [\"NO5\"])"
   ]
  },
  {
   "cell_type": "code",
   "execution_count": 6,
   "metadata": {},
   "outputs": [],
   "source": [
    "compatible_dict = utils.get_compatibility_dict(L = L ,M = M, index = False)"
   ]
  },
  {
   "cell_type": "code",
   "execution_count": 7,
   "metadata": {},
   "outputs": [
    {
     "data": {
      "text/plain": [
       "960"
      ]
     },
     "execution_count": 7,
     "metadata": {},
     "output_type": "execute_result"
    }
   ],
   "source": [
    "len(L)"
   ]
  },
  {
   "cell_type": "code",
   "execution_count": 276,
   "metadata": {},
   "outputs": [
    {
     "name": "stdout",
     "output_type": "stream",
     "text": [
      "Total up flex volume: 532.630979 MW\n",
      "Total down flex volume: 556.472583 MW\n",
      "Average flex volume pr hour up: 3.170422494047619 MWh\n",
      "Average flex volume pr hour down: 3.3123368035714287 MWh\n",
      "Average response time: 144.45269926517432 seconds\n"
     ]
    }
   ],
   "source": [
    "total_up_flex = np.sum(Fu_h_l) # total available flex volume up\n",
    "total_down_flex = np.sum(Fd_h_l) # total available flex volume down\n",
    "total_response_time = np.sum(R_h_l) # total response time\n",
    "#total_flex = total_up_flex + total_down_flex\n",
    "average_response_time = total_response_time/ (len(H)*len(L))\n",
    "hourly_flex_up = total_up_flex/len(H)\n",
    "hourly_flex_down = total_down_flex/len(H)\n",
    "\n",
    "print(f\"Total up flex volume: {total_up_flex} MW\")\n",
    "print(f\"Total down flex volume: {total_down_flex} MW\")\n",
    "print(f\"Average flex volume pr hour up: {hourly_flex_up} MWh\")\n",
    "print(f\"Average flex volume pr hour down: {hourly_flex_down} MWh\")\n",
    "print(f\"Average response time: {average_response_time} seconds\")"
   ]
  },
  {
   "cell_type": "code",
   "execution_count": 8,
   "metadata": {},
   "outputs": [],
   "source": [
    "def random_arg_max(possible_actions):\n",
    "    imax = 0\n",
    "    xmax = possible_actions[imax]  # Current maximum\n",
    "    nmax = 1  # Number of maximum values at the moment\n",
    "    for i in range(1, len(possible_actions)):\n",
    "        if possible_actions[i] == xmax:\n",
    "            nmax += 1\n",
    "            if nmax * random.random() < 1.0:\n",
    "                imax = i\n",
    "        elif possible_actions[i] > xmax:\n",
    "            nmax = 1  # Reset count since a new maximum is found\n",
    "            imax = i\n",
    "            xmax = possible_actions[i]  # Update the new maximum\n",
    "    return imax\n"
   ]
  },
  {
   "cell_type": "code",
   "execution_count": 9,
   "metadata": {},
   "outputs": [],
   "source": [
    "def greedy_action(possible_actions : list, epsilon : float ):\n",
    "    \"\"\"returns the index of the greedy action\n",
    "\n",
    "    Args:\n",
    "        possible_actions (lsit): list of the possible actions\n",
    "        epsilon (float): float number between 0 and 1, often close to 0\n",
    "\n",
    "    Returns:\n",
    "        int: index of the greedy action\n",
    "    \"\"\"\n",
    "    if random.random() <= (1- epsilon): # pick greedy\n",
    "        return random_arg_max(possible_actions)\n",
    "    else:\n",
    "        return random.randint(0, len(possible_actions)-1) # random\n"
   ]
  },
  {
   "cell_type": "code",
   "execution_count": 10,
   "metadata": {},
   "outputs": [],
   "source": [
    "def get_expected_prices_and_volumes_dict(bid_timeframe, markets):\n",
    "    \"\"\" function to calculate the expected prices for each direction and area in the bid_timeframe\n",
    "\n",
    "    Args:\n",
    "        bid_timeframe (_type_): _description_\n",
    "        markets (_type_): _description_\n",
    "\n",
    "    Returns:\n",
    "        _type_: _description_\n",
    "    \"\"\"\n",
    "    expected_prices = {}\n",
    "    expected_volumes = {}\n",
    "    for directions in [\"up\", \"down\", \"both\"]:\n",
    "        #for area in [\"NO1\", \"NO2\", \"NO3\", \"NO4\", \"NO5\"]:\n",
    "        area = \"NO5\"\n",
    "        for hour in bid_timeframe:\n",
    "            if np.isnan(np.mean([market.price_data.loc[market.price_data[\"Time(Local)\"] == hour].values[0][1] for market in markets if market.area == area and market.direction == directions])):\n",
    "                print(\"nan\")\n",
    "                print([market.price_data.loc[market.price_data[\"Time(Local)\"] == hour].values[0][1] for market in markets if market.area == area and market.direction == directions])\n",
    "                print(f\"directions: {directions}, area: {area}, hour: {hour}\")\n",
    "            expected_prices[(directions, area, hour)] = np.mean([market.price_data.loc[market.price_data[\"Time(Local)\"] == hour].values[0][1] for market in markets if market.area == area and market.direction == directions])\n",
    "            if np.isnan(np.mean([market.volume_data.loc[market.volume_data[\"Time(Local)\"] == hour].values[0][1] for market in markets if market.area == area and market.direction == directions])):\n",
    "                print(\"nan\")\n",
    "                print([market.volume_data.loc[market.volume_data[\"Time(Local)\"] == hour].values[0][1] for market in markets if market.area == area and market.direction == directions])\n",
    "                print(f\"directions: {directions}, area: {area}, hour: {hour}\")\n",
    "            expected_volumes[(directions, area, hour)] = np.mean([market.volume_data.loc[market.volume_data[\"Time(Local)\"] == hour].values[0][1] for market in markets if market.area == area and market.direction == directions])\n",
    "    return expected_prices, expected_volumes\n"
   ]
  },
  {
   "cell_type": "code",
   "execution_count": 11,
   "metadata": {},
   "outputs": [],
   "source": [
    "sup_market_names = [\"FCR\", \"aFRR\"]\n",
    "markets = [market for market in M if sup_market_names[0] in market.name  or sup_market_names[1] in market.name]\n",
    "exp_price_dict, exp_vol_dict = get_expected_prices_and_volumes_dict(bid_timeframe= H, markets= markets)"
   ]
  },
  {
   "cell_type": "code",
   "execution_count": 12,
   "metadata": {},
   "outputs": [
    {
     "data": {
      "text/plain": [
       "3.8666666666666667"
      ]
     },
     "execution_count": 12,
     "metadata": {},
     "output_type": "execute_result"
    }
   ],
   "source": [
    "exp_price_dict[(\"up\", \"NO5\", H[4])]"
   ]
  },
  {
   "cell_type": "code",
   "execution_count": 13,
   "metadata": {},
   "outputs": [
    {
     "data": {
      "text/plain": [
       "2.0"
      ]
     },
     "execution_count": 13,
     "metadata": {},
     "output_type": "execute_result"
    }
   ],
   "source": [
    "exp_vol_dict[(\"up\", \"NO5\", H[4])]"
   ]
  },
  {
   "cell_type": "code",
   "execution_count": 14,
   "metadata": {},
   "outputs": [],
   "source": [
    "def normalize_dict_vals(dict : dict, norm_method :str = \"min_max\" ) -> dict:\n",
    "    \"\"\"Function to normalize the values of a dictionary\n",
    "\n",
    "    Args:\n",
    "        dict (dict): [description]\n",
    "        norm_method (str): Normalization method; can choose between min-max normalization or z-score normalization. Defaults to \"min_max\".\n",
    "\n",
    "    Returns:\n",
    "        dict: the same dictionary as input, but with normalized values\n",
    "    \"\"\"\n",
    "    if norm_method == \"min_max\":\n",
    "        values = list(dict.values())\n",
    "        min_value = min(values)\n",
    "        max_value = max(values)\n",
    "\n",
    "        # Normalize and update the dictionary\n",
    "        normalized_dict = {k: (v - min_value) / (max_value - min_value) for k, v in dict.items()}\n",
    "    else:\n",
    "        import statistics\n",
    "        mean = statistics.mean(values)\n",
    "        std = statistics.stdev(values)\n",
    "        # Normalize and update the dictionary\n",
    "        normalized_dict = {k: (v - mean) / std for k, v in dict.items()}\n",
    "\n",
    "    return normalized_dict\n",
    " "
   ]
  },
  {
   "cell_type": "code",
   "execution_count": 15,
   "metadata": {},
   "outputs": [],
   "source": [
    "norm_exp_price_dict = normalize_dict_vals(exp_price_dict, norm_method= \"min_max\")\n",
    "norm_exp_vol_dict = normalize_dict_vals(exp_vol_dict, norm_method= \"min_max\")"
   ]
  },
  {
   "cell_type": "code",
   "execution_count": 16,
   "metadata": {},
   "outputs": [
    {
     "data": {
      "text/plain": [
       "dict_values([0.11697205256339072, 0.042939107903016846, 0.040347954839903756, 0.040347954839903756, 0.042939107903016846, 0.1254858411993337, 0.12178419396631501, 0.12178419396631501, 0.12415324819544697, 0.1110494169905608, 0.11674995372940959, 0.12215435868961688, 0.11845271145659818, 0.11845271145659818, 0.11845271145659818, 0.11141958171386267, 0.1110494169905608, 0.10364612252452342, 0.10697760503424024, 0.10364612252452342, 0.10379418841384415, 0.10697760503424024, 0.10379418841384415, 0.1110494169905608, 0.11093836757357024, 0.03668332407921525, 0.03668332407921525, 0.03668332407921525, 0.03668332407921525, 0.11686100314640015, 0.11071626873958913, 0.10216546363131596, 0.09106052193225987, 0.08883953359244864, 0.09624282805848602, 0.09624282805848602, 0.09624282805848602, 0.09624282805848602, 0.09624282805848602, 0.09624282805848602, 0.09624282805848602, 0.09624282805848602, 0.09624282805848602, 0.09624282805848602, 0.09846381639829725, 0.08735887469924117, 0.09106052193225987, 0.09106052193225987, 0.07773459189339256, 0.03631315935591338, 0.03631315935591338, 0.03631315935591338, 0.03631315935591338, 0.12400518230612623, 0.1133074218027022, 0.10216546363131596, 0.1110494169905608, 0.09624282805848602, 0.09624282805848602, 0.08883953359244864, 0.08883953359244864, 0.09254118082546735, 0.08883953359244864, 0.08817323709050529, 0.08547103461040162, 0.08365722746622248, 0.08365722746622248, 0.08513788635942995, 0.08365722746622248, 0.08739589117157136, 0.08369424393855265, 0.08369424393855265, 0.0844345733851564, 0.03668332407921525, 0.03668332407921525, 0.03668332407921525, 0.03668332407921525, 0.11686100314640015, 0.1122339441051268, 0.10331297427355172, 0.12585600592263557, 0.09291134554876922, 0.08432352396816584, 0.09594669627984453, 0.09779751989635388, 0.0974643716453822, 0.0974643716453822, 0.09816768461965576, 0.09557653155654267, 0.0869887099759393, 0.09254118082546735, 0.10309087543957061, 0.09291134554876922, 0.09291134554876922, 0.08735887469924117, 0.09291134554876922, 0.12881732370905052, 0.02813251897094207, 0.02813251897094207, 0.02813251897094207, 0.02813251897094207, 0.16583379603923745, 0.1254858411993337, 0.11697205256339072, 0.1147510642235795, 0.10775495095317417, 0.09924116231723118, 0.12589302239496578, 0.11515824541921155, 0.11515824541921155, 0.12589302239496578, 0.12485656116972053, 0.12548584119933373, 0.12589302239496578, 0.09924116231723118, 0.09924116231723118, 0.10775495095317417, 0.10327595780122154, 0.10216546363131596, 0.10109198593374052, 0.15546918378678512, 0.041088284286507494, 0.025911530631130855, 0.025911530631130855, 0.025911530631130855, 0.14806588932074774, 0.09994447529150473, 0.09254118082546735, 0.08883953359244864, 0.09761243753470296, 0.12289468813622063, 0.17064593744216178, 0.18915417360725525, 0.22172866925781973, 0.18915417360725525, 0.18915417360725525, 0.14806588932074774, 0.08883953359244864, 0.08883953359244864, 0.09661299278178791, 0.08920969831575051, 0.08550805108273182, 0.08550805108273182, 0.09661299278178791, 0.06292800296131779, 0.025911530631130855, 0.024430871737923375, 0.024430871737923375, 0.024430871737923375, 0.07403294466037387, 0.07403294466037387, 0.10401628724782529, 0.10105496946141032, 0.10401628724782529, 0.12511567647603183, 0.12326485285952249, 0.12215435868961688, 0.12215435868961688, 0.12992781787895616, 0.12030353507310754, 0.12030353507310754, 0.09254118082546735, 0.06322413473995928, 0.0577827133074218, 0.0688506385341477, 0.06292800296131779, 0.07403294466037387, 0.0688506385341477, 0.16657412548584122, 0.0, 0.0, 0.0, 0.0, 0.16657412548584122, 0.16657412548584122, 0.16657412548584122, 0.16657412548584122, 0.16657412548584122, 0.16657412548584122, 0.16657412548584122, 0.16657412548584122, 0.16657412548584122, 0.16657412548584122, 0.16657412548584122, 0.16657412548584122, 0.16657412548584122, 0.16657412548584122, 0.16657412548584122, 0.16657412548584122, 0.16657412548584122, 0.16657412548584122, 0.16657412548584122, 0.1776790671848973, 0.0, 0.0, 0.0, 0.0, 0.1776790671848973, 0.1776790671848973, 0.1776790671848973, 0.1776790671848973, 0.1776790671848973, 0.1776790671848973, 0.1776790671848973, 0.1776790671848973, 0.1776790671848973, 0.1776790671848973, 0.1776790671848973, 0.1776790671848973, 0.1776790671848973, 0.1776790671848973, 0.1776790671848973, 0.1776790671848973, 0.1776790671848973, 0.1776790671848973, 0.1776790671848973, 0.13325930038867295, 0.0, 0.0, 0.0, 0.0, 0.13325930038867295, 0.14436424208772905, 0.14436424208772905, 0.14436424208772905, 0.16657412548584122, 0.14436424208772905, 0.14436424208772905, 0.14436424208772905, 0.14436424208772905, 0.14436424208772905, 0.14436424208772905, 0.14436424208772905, 0.14436424208772905, 0.14436424208772905, 0.14436424208772905, 0.14436424208772905, 0.14436424208772905, 0.14436424208772905, 0.14436424208772905, 0.09994447529150473, 0.0, 0.0, 0.0, 0.0, 0.09994447529150473, 0.10549694614103276, 0.12215435868961688, 0.33314825097168244, 0.1110494169905608, 0.1110494169905608, 0.11660188784008885, 0.09994447529150473, 0.09994447529150473, 0.09994447529150473, 0.09994447529150473, 0.09994447529150473, 0.09994447529150473, 0.09994447529150473, 0.09994447529150473, 0.09994447529150473, 0.09994447529150473, 0.09994447529150473, 0.09994447529150473, 0.09994447529150473, 0.0, 0.0, 0.0, 0.0, 0.12770682953914492, 0.12215435868961688, 0.10549694614103276, 0.09994447529150473, 0.09994447529150473, 0.16657412548584122, 0.16657412548584122, 0.16657412548584122, 0.16657412548584122, 0.16657412548584122, 0.16657412548584122, 0.16657412548584122, 0.16657412548584122, 0.16657412548584122, 0.10549694614103276, 0.10549694614103276, 0.09994447529150473, 0.09994447529150473, 0.09994447529150473, 0.21099389228206553, 0.0, 0.0, 0.0, 0.0, 0.2054414214325375, 0.18323153803442532, 0.16102165463631316, 0.27762354247640203, 0.27762354247640203, 0.27762354247640203, 0.4997223764575236, 0.48495280399777907, 0.509494725152693, 0.4664075513603554, 0.4441976679622432, 0.39866740699611325, 0.27762354247640203, 0.16657412548584122, 0.27762354247640203, 0.27762354247640203, 0.4441976679622432, 0.4441976679622432, 0.4441976679622432, 0.4441976679622432, 0.0, 0.0, 0.0, 0.0, 0.4441976679622432, 0.4441976679622432, 0.4441976679622432, 0.27762354247640203, 0.27762354247640203, 0.31093836757357024, 0.6443087173792338, 0.6662965019433649, 0.6662965019433649, 0.6662965019433649, 0.6443087173792338, 0.3553581343697946, 0.27762354247640203, 0.27762354247640203, 0.27762354247640203, 0.27762354247640203, 0.4441976679622432, 0.4441976679622432, 0.4441976679622432, 0.17212659633536925, 0.2065519156024431, 0.220988339811216, 0.220988339811216, 0.2065519156024431, 0.18878400888395336, 0.1776790671848973, 0.19822320932815105, 0.21599111604664076, 0.2054414214325375, 0.24264297612437538, 0.2048861743475847, 0.1943364797334814, 0.20155469183786784, 0.18878400888395336, 0.18878400888395336, 0.18156579677956694, 0.1776790671848973, 0.1776790671848973, 0.16213214880621876, 0.1676846196557468, 0.16657412548584122, 0.17101610216546365, 0.16102165463631316, 0.2704053303720156, 0.2504164353137146, 0.27612437534702944, 0.27612437534702944, 0.27429205996668515, 0.22792892837312603, 0.20433092726263186, 0.2126596335369239, 0.21821210438645197, 0.20433092726263186, 0.20266518600777347, 0.20266518600777347, 0.22792892837312603, 0.22792892837312603, 0.22792892837312603, 0.22792892837312603, 0.19711271515824544, 0.19489172681843422, 0.20666296501943365, 0.21721265963353695, 0.20721821210438646, 0.20721821210438646, 0.19555802332037756, 0.18323153803442532, 0.19161576901721267, 0.19733481399222655, 0.19733481399222655, 0.23042754025541368, 0.19733481399222655, 0.17334813992226542, 0.1722376457523598, 0.2026096612992782, 0.18983897834536367, 0.20044419766796226, 0.1960022209883398, 0.19766796224319824, 0.21821210438645197, 0.2126596335369239, 0.19777901166018882, 0.1850083287062743, 0.17556912826207663, 0.1722376457523598, 0.17212659633536925, 0.17779011660188782, 0.17779011660188782, 0.1850083287062743, 0.17779011660188782, 0.17212659633536925, 0.21710161021654634, 0.21066074403109383, 0.21099389228206553, 0.21099389228206553, 0.21099389228206553, 0.20322043309272628, 0.18656302054414214, 0.18656302054414214, 0.2215435868961688, 0.23325930038867299, 0.22765130483064966, 0.19822320932815105, 0.19822320932815105, 0.20377568017767908, 0.19822320932815105, 0.20377568017767908, 0.20843975569128262, 0.2252637423653526, 0.19489172681843422, 0.1937812326485286, 0.2087729039422543, 0.2054414214325375, 0.21676846196557467, 0.21515824541921155, 0.2087729039422543, 0.2756246529705719, 0.2792892837312604, 0.2537479178234314, 0.2537479178234314, 0.2337590227651305, 0.18323153803442532, 0.17212659633536925, 0.18323153803442532, 0.18323153803442532, 0.18323153803442532, 0.24597445863409217, 0.24597445863409217, 0.21821210438645197, 0.2890061077179345, 0.3014991671293726, 0.28262076624097726, 0.18323153803442532, 0.18878400888395336, 0.18323153803442532, 0.18267629094947252, 0.17434758467518044, 0.17379233759022766, 0.17379233759022766, 0.19988895058300946, 0.21710161021654636, 0.21710161021654636, 0.21066074403109383, 0.22304275402554138, 0.2085508051082732, 0.19777901166018882, 0.2294836202109939, 0.2521932259855636, 0.2715158245419212, 0.42698500832870634, 0.6685174902831761, 0.9444752915047196, 0.8889505830094392, 0.8889505830094392, 1.0, 0.464741810105497, 0.2903942254303165, 0.18445308162132149, 0.17212659633536925, 0.1893392559689062, 0.1893392559689062, 0.1893392559689062, 0.1893392559689062, 0.20183231538034427, 0.21149361465852307, 0.20266518600777347, 0.20266518600777347, 0.20266518600777347, 0.20266518600777347, 0.2865074958356469, 0.37967795669072735, 0.38450860632981676, 0.38089950027762354, 0.6679622431982233, 0.7834536368684064, 0.7895613548028872, 0.7951138256524153, 0.7473625763464742, 0.7590227651304831, 0.3581343697945586, 0.3420322043309273, 0.26429761243753475, 0.2715713492504165, 0.28039977790116605, 0.28095502498611885, 0.2726263187118268, 0.2706274292059967])"
      ]
     },
     "execution_count": 16,
     "metadata": {},
     "output_type": "execute_result"
    }
   ],
   "source": [
    "norm_exp_price_dict.values()"
   ]
  },
  {
   "cell_type": "markdown",
   "metadata": {},
   "source": [
    "#### Will have to determine which type of network to use, and how to implement it. May look into the INF265 tasks for inspiration. Deep Feedforward Network (Multilayer Perceptron) is interesting. May look in to attention mechanisms and how to implement them. Also actor-critic architectures is interesting. May end up in a hybrid model."
   ]
  },
  {
   "cell_type": "code",
   "execution_count": 17,
   "metadata": {},
   "outputs": [],
   "source": [
    "def get_possible_dates(date : pd.Timestamp):\n",
    "    \"\"\" Function to get the possible dates for placing a bid given the current date\n",
    "\n",
    "    Args:\n",
    "        date (pd.Timestamp): the current date\n",
    "\n",
    "    Returns:\n",
    "        (pd.date_range, str): the possible dates for placing a bid and for which market\n",
    "    \"\"\"\n",
    "    if date.hour == 17: # FCR D-2\n",
    "        return (pd.date_range(date + timedelta(days=1) + timedelta(hours=7), date + timedelta(days = 2) + timedelta(hours = 6), freq='H', tz = \"Europe/Oslo\"), \"D_2\")\n",
    "    elif date.hour == 7: # aFRR\n",
    "        return (pd.date_range(date + timedelta(hours = 17), date + timedelta(days = 1) + timedelta(hours = 16), freq='H', tz = \"Europe/Oslo\"), \"aFRR\")\n",
    "    elif date.hour == 18: # FCR D-1\n",
    "        return (pd.date_range(date + timedelta(hours=6), date + timedelta(days = 1) + timedelta(hours = 5), freq='H', tz = \"Europe/Oslo\"), \"D_1\")\n",
    "    else:\n",
    "        return ([], \"No bids\")"
   ]
  },
  {
   "cell_type": "code",
   "execution_count": 134,
   "metadata": {},
   "outputs": [],
   "source": [
    "def get_feasible_portfolio_for_market(possible_assets : [new_meters.PowerMeter], market : final_markets.ReserveMarket, hour : pd.Timestamp):\n",
    "    \"\"\"This function will return one feasible combination quickly.\n",
    "        DISCLAIMER : This function doesnt take procured volume in the given market in to account.\n",
    "\n",
    "    Args:\n",
    "        possible_assets ([new_meters.PowerMeter]): list of possible assets for the given market and given hour\n",
    "        market (final_markets.ReserveMarket): the market for which the portfolio is to be found\n",
    "        hour (pd.Timestamp): the hour for which the portfolio is to be found\n",
    "\n",
    "    Returns:\n",
    "        list(new_meters.PowerMeter): the feasible portfolio that will be used for the given market in the given hour\n",
    "    \"\"\"\n",
    "   \n",
    "    # Fetch volumes for each asset at the given hour\n",
    "    feasible_assets = [asset for asset in possible_assets if asset in compatible_dict[market]] # exclude assets that are not compatible with the given market\n",
    "    # Fetch volumes for each asset at the given hour\n",
    "    asset_volumes = []\n",
    "    for asset in feasible_assets:\n",
    "        if market.direction == \"both\":\n",
    "            if asset.direction == \"both\":\n",
    "                vol = min(asset.up_flex_volume[\"value\"].loc[asset.up_flex_volume[\"Time(Local)\"] == hour].values[0], asset.down_flex_volume[\"value\"].loc[asset.down_flex_volume[\"Time(Local)\"] == hour].values[0])\n",
    "                asset_volumes.append((asset, vol))\n",
    "            else:\n",
    "                vol = asset.up_flex_volume[\"value\"].loc[asset.up_flex_volume[\"Time(Local)\"] == hour].values[0] if asset.direction == \"up\" else asset.down_flex_volume[\"value\"].loc[asset.down_flex_volume[\"Time(Local)\"] == hour].values[0]\n",
    "                asset_volumes.append((asset, vol))\n",
    "        else:\n",
    "            vol = asset.up_flex_volume[\"value\"].loc[asset.up_flex_volume[\"Time(Local)\"] == hour].values[0] if market.direction == \"up\" else asset.down_flex_volume[\"value\"].loc[asset.down_flex_volume[\"Time(Local)\"] == hour].values[0]\n",
    "            asset_volumes.append((asset, vol))\n",
    "            \n",
    "\n",
    "    # Sort assets by volume in descending order\n",
    "    asset_volumes.sort(key=lambda x: x[1], reverse=True)\n",
    "\n",
    "    # Find a feasible combination\n",
    "    feasible_combination = []\n",
    "    total_volume = 0\n",
    "    for asset, volume in asset_volumes:\n",
    "        feasible_combination.append(asset)\n",
    "        total_volume += volume\n",
    "        if total_volume >= market.min_volume:\n",
    "            break\n",
    "    \n",
    "    if total_volume < market.min_volume:\n",
    "        return [], 0\n",
    "\n",
    "    return feasible_combination, total_volume\n",
    "\n"
   ]
  },
  {
   "cell_type": "markdown",
   "metadata": {},
   "source": [
    "Idea for new way to define flex volume for each asset when not knowing the actual consumption for given hour. Due to the strong patterns in the consumption i can find the average consumption for each load for every hour of day and day of week as well as seasonal variations. Then i can find some sort of variance as well to define the flex volume as a range. This will be done for each load. Should ask Trond to see if this is a good idea and get some help from him. \n",
    "\n",
    "To do this I need a bigger dataset of the consumption. As per now i only have consumption data for june. Maybe I have to do this in databricks. Should talk to Trond about this. "
   ]
  },
  {
   "cell_type": "code",
   "execution_count": 135,
   "metadata": {},
   "outputs": [],
   "source": [
    "def get_n_portfolios_for_market(possible_assets : [new_meters.PowerMeter], market : final_markets.ReserveMarket, hour : pd.Timestamp, top_n=100, iterations=100):\n",
    "    \"\"\"function to find a diverse and large subset of feasible combinations without the computational overhead of checking all possible combinations.\n",
    "        DISCLAIMER : This function doesnt take procured volume in the given market in to account.\n",
    "\n",
    "    Args:\n",
    "        possible_assets ([new_meters.PowerMeter]): list of possible assets for the given market and given hour\n",
    "        market (final_markets.ReserveMarket): the market for which the portfolio is to be found\n",
    "        hour (pd.Timestamp): the hour for which the portfolio is to be found\n",
    "        top_n (int, optional): controls the number of top assets to consider. Defaults to 100.\n",
    "        iterations (int, optional):  determines how many different combinations to try and generate. Defaults to 100.\n",
    "\n",
    "    Returns:\n",
    "        feasible_combinations: dict of top_n feasible combinations of assets that can be bid to the given market in the given hour where the values holds the portfolio's aggregated volume\n",
    "    \"\"\"\n",
    "    feasible_assets = [asset for asset in possible_assets if asset in compatible_dict[market]] # exclude assets that are not compatible with the given market\n",
    "    # Fetch volumes for each asset at the given hour\n",
    "    \n",
    "    asset_volumes = []\n",
    "    for asset in feasible_assets:\n",
    "        if market.direction == \"both\":\n",
    "            if asset.direction == \"both\":\n",
    "                vol = min(asset.up_flex_volume[\"value\"].loc[asset.up_flex_volume[\"Time(Local)\"] == hour].values[0], asset.down_flex_volume[\"value\"].loc[asset.down_flex_volume[\"Time(Local)\"] == hour].values[0])\n",
    "                asset_volumes.append((asset, vol))\n",
    "            else:\n",
    "                vol = asset.up_flex_volume[\"value\"].loc[asset.up_flex_volume[\"Time(Local)\"] == hour].values[0] if asset.direction == \"up\" else asset.down_flex_volume[\"value\"].loc[asset.down_flex_volume[\"Time(Local)\"] == hour].values[0]\n",
    "                asset_volumes.append((asset, vol))\n",
    "        else:\n",
    "            vol = asset.up_flex_volume[\"value\"].loc[asset.up_flex_volume[\"Time(Local)\"] == hour].values[0] if market.direction == \"up\" else asset.down_flex_volume[\"value\"].loc[asset.down_flex_volume[\"Time(Local)\"] == hour].values[0]\n",
    "            asset_volumes.append((asset, vol))\n",
    "            \n",
    "\n",
    "    # Sort assets by volume in descending order\n",
    "    asset_volumes.sort(key=lambda x: x[1], reverse=True)\n",
    "\n",
    "    # Select top N assets\n",
    "    top_assets = asset_volumes[:top_n]\n",
    "    \n",
    "    #feasible_combinations = set()\n",
    "    feasible_combinations = {}\n",
    "    if len(top_assets) > 0:\n",
    "        for _ in range(iterations):\n",
    "            # Randomly sample a smaller subset from top assets\n",
    "            num_assets_to_sample = min(len(top_assets), random.randint(1, top_n))\n",
    "\n",
    "            sampled_assets = random.sample(top_assets, k=num_assets_to_sample)\n",
    "\n",
    "            # Greedy addition to meet minimum volume\n",
    "            combination, total_volume = [], 0\n",
    "            for asset, volume in sampled_assets:\n",
    "                combination.append(asset)\n",
    "                total_volume += volume\n",
    "                if total_volume >= market.min_volume:\n",
    "                    #feasible_combinations.add((tuple(combination), total_volume))\n",
    "                    feasible_combinations[tuple(combination)] = total_volume\n",
    "                    break\n",
    "    \n",
    "    return feasible_combinations\n"
   ]
  },
  {
   "cell_type": "code",
   "execution_count": 255,
   "metadata": {},
   "outputs": [],
   "source": [
    "def get_max_portfolio_for_market(possible_assets : [new_meters.PowerMeter], market : final_markets.ReserveMarket, hour : pd.Timestamp):\n",
    "    \"\"\" Heuristic to bid all feasible assets in to the market in given hour. Equivalent to greedy approach\n",
    "        DISCLAIMER : This function doesnt take procured volume in the given market in to account.\n",
    "    Args:\n",
    "        possible_assets ([new_meters.PowerMeter]): list of possible assets for the given market and given hour\n",
    "        market (final_markets.ReserveMarket): the market for which the portfolio is to be found\n",
    "        hour (pd.Timestamp): the hour for which the portfolio is to be found\n",
    "\n",
    "    Returns:\n",
    "        feasible_assets ([new_meters.PowerMeter]): list of the assets that will be bid in to the given market in the given hour\n",
    "        total_volume (float): the total volume of the feasible assets for the given hour\n",
    "    \"\"\"\n",
    "    feasible_assets = [asset for asset in possible_assets if asset in compatible_dict[market]] # exclude assets that are not compatible with the given market\n",
    "    # Fetch volumes for each asset at the given hour\n",
    "    \n",
    "    asset_volumes = []\n",
    "    for asset in feasible_assets:\n",
    "        if market.direction == \"both\":\n",
    "            if asset.direction == \"both\":\n",
    "                vol = min(asset.up_flex_volume[\"value\"].loc[asset.up_flex_volume[\"Time(Local)\"] == hour].values[0], asset.down_flex_volume[\"value\"].loc[asset.down_flex_volume[\"Time(Local)\"] == hour].values[0])\n",
    "                asset_volumes.append(vol)\n",
    "            else:\n",
    "                vol = asset.up_flex_volume[\"value\"].loc[asset.up_flex_volume[\"Time(Local)\"] == hour].values[0] if asset.direction == \"up\" else asset.down_flex_volume[\"value\"].loc[asset.down_flex_volume[\"Time(Local)\"] == hour].values[0]\n",
    "                asset_volumes.append(vol)\n",
    "        else:\n",
    "            vol = asset.up_flex_volume[\"value\"].loc[asset.up_flex_volume[\"Time(Local)\"] == hour].values[0] if market.direction == \"up\" else asset.down_flex_volume[\"value\"].loc[asset.down_flex_volume[\"Time(Local)\"] == hour].values[0]\n",
    "            asset_volumes.append(vol)\n",
    "        \n",
    "    if sum(asset_volumes) >= market.min_volume:\n",
    "        return feasible_assets, sum(asset_volumes)\n",
    "    else:\n",
    "        return [], 0"
   ]
  },
  {
   "cell_type": "markdown",
   "metadata": {},
   "source": [
    "### The get_portfolio_for_market function where I try to find each and every combination of assets for a given market in a given hour is useless even though I only have NO5 assets and markets. The function is way to computationally expensive. I will have to find a way to make it more efficient or find another way of defining the action space"
   ]
  },
  {
   "cell_type": "markdown",
   "metadata": {},
   "source": [
    "### It will be important to notice that the bidding deadlines are not the same for all markets. This will have to be taken into account when training the model. I will have to make some sort of iteration process that will make the model learn the bidding deadlines for each market and how this affects the bidding process. I must take in to account that the bids is not necessarily being accepted and i will have to make a method where the model will recieve a signal if the bid is accepted or not before it makes the next bid. "
   ]
  },
  {
   "cell_type": "markdown",
   "metadata": {},
   "source": [
    "### Think it will be a good idea to use RL for choosing which markets that will be bid in to and then using some sort of heuristic to determine which of the assets that will be bid in to the chosen market(s)."
   ]
  },
  {
   "cell_type": "code",
   "execution_count": 256,
   "metadata": {},
   "outputs": [],
   "source": [
    "from sklearn.preprocessing import StandardScaler, MinMaxScaler"
   ]
  },
  {
   "cell_type": "code",
   "execution_count": 257,
   "metadata": {},
   "outputs": [],
   "source": [
    "weather_data = weather.get_weather_data(tf= tf, areas = [\"NO5\"])"
   ]
  },
  {
   "cell_type": "code",
   "execution_count": 258,
   "metadata": {},
   "outputs": [],
   "source": [
    "def normalize_weather_data(weather_data, scaler = sklearn.preprocessing.MinMaxScaler()):\n",
    "    data = weather_data.copy()\n",
    "    data[\"precipitation\"] = scaler.fit_transform(data[[\"precipitation\"]])\n",
    "    data[\"air_temp\"] = scaler.fit_transform(data[[\"air_temp\"]])\n",
    "    return data\n"
   ]
  },
  {
   "cell_type": "code",
   "execution_count": 259,
   "metadata": {},
   "outputs": [],
   "source": [
    "norm_w_df = normalize_weather_data(weather_data= weather_data)"
   ]
  },
  {
   "cell_type": "code",
   "execution_count": 260,
   "metadata": {},
   "outputs": [
    {
     "data": {
      "text/html": [
       "<div>\n",
       "<style scoped>\n",
       "    .dataframe tbody tr th:only-of-type {\n",
       "        vertical-align: middle;\n",
       "    }\n",
       "\n",
       "    .dataframe tbody tr th {\n",
       "        vertical-align: top;\n",
       "    }\n",
       "\n",
       "    .dataframe thead th {\n",
       "        text-align: right;\n",
       "    }\n",
       "</style>\n",
       "<table border=\"1\" class=\"dataframe\">\n",
       "  <thead>\n",
       "    <tr style=\"text-align: right;\">\n",
       "      <th></th>\n",
       "      <th>Time (Local)</th>\n",
       "      <th>precipitation</th>\n",
       "      <th>air_temp</th>\n",
       "      <th>area</th>\n",
       "    </tr>\n",
       "  </thead>\n",
       "  <tbody>\n",
       "    <tr>\n",
       "      <th>1</th>\n",
       "      <td>2023-06-19 00:00:00+02:00</td>\n",
       "      <td>0.0</td>\n",
       "      <td>0.645833</td>\n",
       "      <td>NO5</td>\n",
       "    </tr>\n",
       "    <tr>\n",
       "      <th>7</th>\n",
       "      <td>2023-06-19 01:00:00+02:00</td>\n",
       "      <td>0.0</td>\n",
       "      <td>0.611111</td>\n",
       "      <td>NO5</td>\n",
       "    </tr>\n",
       "    <tr>\n",
       "      <th>12</th>\n",
       "      <td>2023-06-19 02:00:00+02:00</td>\n",
       "      <td>0.0</td>\n",
       "      <td>0.541667</td>\n",
       "      <td>NO5</td>\n",
       "    </tr>\n",
       "    <tr>\n",
       "      <th>15</th>\n",
       "      <td>2023-06-19 03:00:00+02:00</td>\n",
       "      <td>0.0</td>\n",
       "      <td>0.520833</td>\n",
       "      <td>NO5</td>\n",
       "    </tr>\n",
       "    <tr>\n",
       "      <th>21</th>\n",
       "      <td>2023-06-19 04:00:00+02:00</td>\n",
       "      <td>0.0</td>\n",
       "      <td>0.520833</td>\n",
       "      <td>NO5</td>\n",
       "    </tr>\n",
       "    <tr>\n",
       "      <th>...</th>\n",
       "      <td>...</td>\n",
       "      <td>...</td>\n",
       "      <td>...</td>\n",
       "      <td>...</td>\n",
       "    </tr>\n",
       "    <tr>\n",
       "      <th>817</th>\n",
       "      <td>2023-06-25 19:00:00+02:00</td>\n",
       "      <td>0.0</td>\n",
       "      <td>0.861111</td>\n",
       "      <td>NO5</td>\n",
       "    </tr>\n",
       "    <tr>\n",
       "      <th>820</th>\n",
       "      <td>2023-06-25 20:00:00+02:00</td>\n",
       "      <td>0.0</td>\n",
       "      <td>0.854167</td>\n",
       "      <td>NO5</td>\n",
       "    </tr>\n",
       "    <tr>\n",
       "      <th>829</th>\n",
       "      <td>2023-06-25 21:00:00+02:00</td>\n",
       "      <td>0.0</td>\n",
       "      <td>0.736111</td>\n",
       "      <td>NO5</td>\n",
       "    </tr>\n",
       "    <tr>\n",
       "      <th>830</th>\n",
       "      <td>2023-06-25 22:00:00+02:00</td>\n",
       "      <td>0.0</td>\n",
       "      <td>0.576389</td>\n",
       "      <td>NO5</td>\n",
       "    </tr>\n",
       "    <tr>\n",
       "      <th>836</th>\n",
       "      <td>2023-06-25 23:00:00+02:00</td>\n",
       "      <td>0.0</td>\n",
       "      <td>0.493056</td>\n",
       "      <td>NO5</td>\n",
       "    </tr>\n",
       "  </tbody>\n",
       "</table>\n",
       "<p>168 rows × 4 columns</p>\n",
       "</div>"
      ],
      "text/plain": [
       "                 Time (Local)  precipitation  air_temp area\n",
       "1   2023-06-19 00:00:00+02:00            0.0  0.645833  NO5\n",
       "7   2023-06-19 01:00:00+02:00            0.0  0.611111  NO5\n",
       "12  2023-06-19 02:00:00+02:00            0.0  0.541667  NO5\n",
       "15  2023-06-19 03:00:00+02:00            0.0  0.520833  NO5\n",
       "21  2023-06-19 04:00:00+02:00            0.0  0.520833  NO5\n",
       "..                        ...            ...       ...  ...\n",
       "817 2023-06-25 19:00:00+02:00            0.0  0.861111  NO5\n",
       "820 2023-06-25 20:00:00+02:00            0.0  0.854167  NO5\n",
       "829 2023-06-25 21:00:00+02:00            0.0  0.736111  NO5\n",
       "830 2023-06-25 22:00:00+02:00            0.0  0.576389  NO5\n",
       "836 2023-06-25 23:00:00+02:00            0.0  0.493056  NO5\n",
       "\n",
       "[168 rows x 4 columns]"
      ]
     },
     "execution_count": 260,
     "metadata": {},
     "output_type": "execute_result"
    }
   ],
   "source": [
    "norm_w_df"
   ]
  },
  {
   "cell_type": "code",
   "execution_count": 261,
   "metadata": {},
   "outputs": [],
   "source": [
    "spot_path = \"../master-data/spot_data/spot_june_23.csv\"\n",
    "\n",
    "norm_da_df = final_markets.preprocess_spot_data(pd.read_csv(spot_path), year = tf.year, start_month = tf.start_month, end_month = tf.end_month, start_day = tf.start_day, end_day = tf.end_day, start_hour = tf.start_hour, end_hour = tf.end_hour, area = \"NO5\", normalize= True)\n"
   ]
  },
  {
   "cell_type": "code",
   "execution_count": 262,
   "metadata": {},
   "outputs": [
    {
     "data": {
      "text/html": [
       "<div>\n",
       "<style scoped>\n",
       "    .dataframe tbody tr th:only-of-type {\n",
       "        vertical-align: middle;\n",
       "    }\n",
       "\n",
       "    .dataframe tbody tr th {\n",
       "        vertical-align: top;\n",
       "    }\n",
       "\n",
       "    .dataframe thead th {\n",
       "        text-align: right;\n",
       "    }\n",
       "</style>\n",
       "<table border=\"1\" class=\"dataframe\">\n",
       "  <thead>\n",
       "    <tr style=\"text-align: right;\">\n",
       "      <th></th>\n",
       "      <th>delivery_area</th>\n",
       "      <th>currency</th>\n",
       "      <th>Time(Local)</th>\n",
       "      <th>product</th>\n",
       "      <th>settlement</th>\n",
       "    </tr>\n",
       "  </thead>\n",
       "  <tbody>\n",
       "    <tr>\n",
       "      <th>0</th>\n",
       "      <td>NO5</td>\n",
       "      <td>EUR</td>\n",
       "      <td>2023-06-19 00:00:00+02:00</td>\n",
       "      <td>SPOT</td>\n",
       "      <td>0.528142</td>\n",
       "    </tr>\n",
       "    <tr>\n",
       "      <th>1</th>\n",
       "      <td>NO5</td>\n",
       "      <td>EUR</td>\n",
       "      <td>2023-06-19 01:00:00+02:00</td>\n",
       "      <td>SPOT</td>\n",
       "      <td>0.527085</td>\n",
       "    </tr>\n",
       "    <tr>\n",
       "      <th>2</th>\n",
       "      <td>NO5</td>\n",
       "      <td>EUR</td>\n",
       "      <td>2023-06-19 02:00:00+02:00</td>\n",
       "      <td>SPOT</td>\n",
       "      <td>0.523229</td>\n",
       "    </tr>\n",
       "    <tr>\n",
       "      <th>3</th>\n",
       "      <td>NO5</td>\n",
       "      <td>EUR</td>\n",
       "      <td>2023-06-19 03:00:00+02:00</td>\n",
       "      <td>SPOT</td>\n",
       "      <td>0.520804</td>\n",
       "    </tr>\n",
       "    <tr>\n",
       "      <th>4</th>\n",
       "      <td>NO5</td>\n",
       "      <td>EUR</td>\n",
       "      <td>2023-06-19 04:00:00+02:00</td>\n",
       "      <td>SPOT</td>\n",
       "      <td>0.519622</td>\n",
       "    </tr>\n",
       "  </tbody>\n",
       "</table>\n",
       "</div>"
      ],
      "text/plain": [
       "  delivery_area currency               Time(Local) product  settlement\n",
       "0           NO5      EUR 2023-06-19 00:00:00+02:00    SPOT    0.528142\n",
       "1           NO5      EUR 2023-06-19 01:00:00+02:00    SPOT    0.527085\n",
       "2           NO5      EUR 2023-06-19 02:00:00+02:00    SPOT    0.523229\n",
       "3           NO5      EUR 2023-06-19 03:00:00+02:00    SPOT    0.520804\n",
       "4           NO5      EUR 2023-06-19 04:00:00+02:00    SPOT    0.519622"
      ]
     },
     "execution_count": 262,
     "metadata": {},
     "output_type": "execute_result"
    }
   ],
   "source": [
    "norm_da_df.head()"
   ]
  },
  {
   "cell_type": "code",
   "execution_count": 263,
   "metadata": {},
   "outputs": [
    {
     "name": "stdout",
     "output_type": "stream",
     "text": [
      "21    0.0\n",
      "Name: precipitation, dtype: float64\n",
      "21    0.520833\n",
      "Name: air_temp, dtype: float64\n",
      "4    0.519622\n",
      "Name: settlement, dtype: float64\n",
      "0.0\n",
      "0.5208333333333334\n",
      "0.5196218670315318\n"
     ]
    }
   ],
   "source": [
    "precipitation = norm_w_df[\"precipitation\"].loc[norm_w_df[\"Time (Local)\"] == H[4]]\n",
    "temperature = norm_w_df[\"air_temp\"].loc[norm_w_df[\"Time (Local)\"] == H[4]]\n",
    "da_price = norm_da_df[\"settlement\"].loc[norm_da_df[\"Time(Local)\"] == H[4]]\n",
    "\n",
    "print(precipitation)\n",
    "print(temperature)\n",
    "print(da_price)\n",
    "\n",
    "# only print the value\n",
    "print(precipitation.values[0])\n",
    "print(temperature.values[0])\n",
    "print(da_price.values[0])"
   ]
  },
  {
   "cell_type": "code",
   "execution_count": 264,
   "metadata": {},
   "outputs": [],
   "source": [
    "def get_features(bid_hour : pd.Timestamp, available_assets : [new_meters.PowerMeter], market : final_markets.ReserveMarket):\n",
    "    \"\"\" Function to get the features for the given hour and market. It is important to use features that will help the model learn which actions to take \n",
    "        and update the weights correctly for the given state.\n",
    "        The features that possibly can be used here are the following:\n",
    "        - day of week\n",
    "        - hour of day\n",
    "        - number of possible assets\n",
    "        - Day Ahead (DA) price\n",
    "        - Weather forecast\n",
    "        - Market historical prices\n",
    "        - Market historical volumes\n",
    "        - frequency data (historical)\n",
    "        \n",
    "    Args:\n",
    "        available_assets (new_meters.PowerMeter]): _description_\n",
    "        hour (pd.Timestamp): _description_\n",
    "        market (final_markets.ReserveMarket): _description_\n",
    "\n",
    "    Returns:\n",
    "        _type_: _description_\n",
    "    \"\"\"\n",
    "    day_of_week = bid_hour.weekday()\n",
    "    hour_of_day = bid_hour.hour\n",
    "    expected_price = norm_exp_price_dict[(market.direction, market.area, bid_hour)]\n",
    "    expected_volume = norm_exp_vol_dict[(market.direction, market.area, bid_hour)]\n",
    "    precipitation = norm_w_df[\"precipitation\"].loc[norm_w_df[\"Time (Local)\"] == bid_hour]\n",
    "    temperature = norm_w_df[\"air_temp\"].loc[norm_w_df[\"Time (Local)\"] == bid_hour]\n",
    "    da_price = norm_da_df[\"settlement\"].loc[norm_da_df[\"Time(Local)\"] == bid_hour]\n",
    "    \n",
    "    \n",
    "    return [day_of_week/7, hour_of_day/24, expected_price, expected_volume, len(available_assets)/len(L), precipitation.values[0], temperature.values[0], da_price.values[0]]"
   ]
  },
  {
   "cell_type": "code",
   "execution_count": 265,
   "metadata": {},
   "outputs": [],
   "source": [
    "def get_income_for_portfolio(volume : float, market : final_markets.ReserveMarket, hour : pd.Timestamp):\n",
    "    \"\"\"function to calculate the income for a given portfolio\n",
    "\n",
    "    Args:\n",
    "        portfolio ([new_meters.PowerMeter]): the portfolio for which the income is to be calculated\n",
    "        market (final_markets.ReserveMarket): the market for which the income is to be calculated\n",
    "        hour (pd.Timestamp): the hour for which the income is to be calculated\n",
    "\n",
    "    Returns:\n",
    "        float: the income for the given portfolio\n",
    "    \"\"\"\n",
    "    \n",
    "    return volume * market.price_data.loc[market.price_data[\"Time(Local)\"] == hour].values[0][1]\n"
   ]
  },
  {
   "cell_type": "code",
   "execution_count": 266,
   "metadata": {},
   "outputs": [],
   "source": [
    "def make_bid(market : final_markets.ReserveMarket, hour : pd.Timestamp, action : int, possible_assets : [new_meters.PowerMeter]):\n",
    "    \"\"\"Function to make a bid to a given market in a given hour\n",
    "\n",
    "    Args:\n",
    "        market (final_markets.ReserveMarket): the market to bid to\n",
    "        hour (pd.Timestamp): the hour to bid to\n",
    "        action (int): the index of the portfolio to bid\n",
    "        possible_assets ([new_meters.PowerMeter]): list of possible assets for the given market and given hour\n",
    "\n",
    "    Returns:\n",
    "        portfolio (list(new_meters.PowerMeter)): the portfolio that was bid\n",
    "        income (float): the income for the portfolio in the given market at the given hour\n",
    "    \"\"\"\n",
    "    if action == 0:\n",
    "        return [], 0, 0\n",
    "    elif action == 1:\n",
    "        portfolio_dict = get_n_portfolios_for_market(possible_assets = possible_assets, market = market, hour = hour, top_n=100, iterations=100)\n",
    "        portfolio = list(portfolio_dict.keys())[0] if len(portfolio_dict.keys()) > 0 else []\n",
    "        volume = portfolio_dict[portfolio] if len(portfolio) > 0 else 0\n",
    "        return portfolio, get_income_for_portfolio(volume, market, hour), volume\n",
    "    else:\n",
    "        #portfolio, volume = get_feasible_portfolio_for_market(possible_assets = possible_assets, market = market, hour = hour)\n",
    "        portfolio, volume = get_max_portfolio_for_market(possible_assets = possible_assets, market = market, hour = hour)\n",
    "        return portfolio, get_income_for_portfolio(volume, market, hour), volume"
   ]
  },
  {
   "cell_type": "code",
   "execution_count": 309,
   "metadata": {},
   "outputs": [],
   "source": [
    "def train_model(epsilon, alpha, weights, num_episodes, L, M, H):\n",
    "    \"\"\" Training function to learn how to bid in to the markets due to the bidding constraints and the asset constraints as well as optimizing the weights. \n",
    "    The function will learn how to bid in to the markets by updating the weights due to the features. \n",
    "    \n",
    "\n",
    "    Args:\n",
    "        epsilon (float): float number between 0 and 1, often close to 0\n",
    "        alpha (float): float number between 0 and 1, also known as the learning rate\n",
    "        num_episodes (int): number of episodes to be ran\n",
    "        L ([new_meters.PowerMeter]): list of PowerMeter objects\n",
    "        M ([final_markets.Reservemarket]): list of ReserveMarket objects\n",
    "        H ([pd.Timestamp]): list of timestamps\n",
    "\n",
    "    Returns:\n",
    "        bids (dict): dictionary that holds control over the final bids for each market and each hour. The keys are tuples of the market name and the hour and the values are the the assets that were bid for the given market and hour. The values are tuples including the list of assets and the aggregated volume.\n",
    "        revenues (dict): dictionary that holds the revenue for each episode\n",
    "        available_assets (dict): dictionary that holds the available assets for each hour\n",
    "        weights (np.array): the weights that were learned\n",
    "        action_list (list): list of all actions that were taken\n",
    "        asset_bids (list): list that holds the bids for each episode. The indexes are the episode number and the values are dataframes that holds the bids for each market and each hour for each episode.\n",
    "    \"\"\"\n",
    "    revenues = {}\n",
    "    bid_timeframe = H[24:] # the hours where bids can be placed in\n",
    "    place_bid_hours = [hour for hour in H[:-48] if hour.hour == 7 or hour.hour == 17 or hour.hour == 18] # the hours where bids can be placed from\n",
    "    bids = {}\n",
    "    asset_bids = []\n",
    "    sup_market_names = [\"FCR\", \"aFRR\"]\n",
    "    markets = [market for market in M if sup_market_names[0] in market.name  or sup_market_names[1] in market.name]\n",
    "    #market_names = [market.name for market in markets]\n",
    "    # will only use FCR-N, FCR-D and aFRR. The FCR markets are both D-1 and D-2 and the aFRR market is D-1 but it is both up and down\n",
    "    \n",
    "    available_assets = {hour: L.copy() for hour in bid_timeframe} \n",
    "    #bids = {(market.name, hour): [] for hour in bid_timeframe for market in markets}\n",
    "    n_actions = 3\n",
    "    \"For each hour, an action should be to either bid in every feasible asset, to bid the minimum volume or to bid nothing\"\n",
    "   \n",
    "    (possible_hours, market_name) = get_possible_dates(place_bid_hours[0]) # the market_name is not the full name of the market, but rather a substring of the full name. Since FCR-D and FCR-N has the same deadlines there will be two markets with the same substring\n",
    "    \n",
    "    possible_markets = [m for m in markets if market_name in m.name] # will either be one or two markets\n",
    "    #indexes = [market_names.index(m.name) for m in possible_markets] # the indexes for each market. This is used to slice the Q-table so it is not necessary in this case\n",
    "    features = get_features(bid_hour = possible_hours[0], available_assets= available_assets[possible_hours[0]], market = possible_markets[0])\n",
    "    \n",
    "    action_0 = random.randint(0, n_actions-1)\n",
    "    action_list = [] # list to keep track of the actions taken.\n",
    "    \n",
    "    # extract hours from H where hour == 7, 17, 18\n",
    "    epsilon_decay = epsilon/num_episodes\n",
    "    \n",
    "    for episode_n in range(num_episodes):\n",
    "        if episode_n > 0:\n",
    "            epsilon -= epsilon_decay\n",
    "            alpha -= 0.001\n",
    "        revenue = 0\n",
    "        episode_bid_df = pd.DataFrame(columns= [\"Market\", \"Hour\", \"Asset Count\", \"Total Flex Volume\"])\n",
    "        episode_bid_dict = {}\n",
    "        available_assets = {hour: L.copy() for hour in bid_timeframe}\n",
    "        for place_hour in place_bid_hours:\n",
    "            (possible_hours, market_name) = get_possible_dates(place_hour)\n",
    "            if len(possible_hours) != 24:\n",
    "                print(f\"No bids for {place_hour}\")\n",
    "                print(f\"possible_hours: {len(possible_hours)}\")\n",
    "                break\n",
    "            possible_markets = [m for m in markets if market_name in m.name] # because i am now using only no5 markets, this list should be of length 1 or 2.\n",
    "            \n",
    "            for current_market in possible_markets:\n",
    "                #print(f\"current_market : {current_market.name}\")\n",
    "                for bid_hour in possible_hours:\n",
    "                    \n",
    "                    chosen_portfolio, reward, flex_vol = make_bid(current_market, bid_hour, action_0, available_assets[bid_hour]) # get portfolio and reward for a bid - will have to figure out a better way to define reward\n",
    "                    available_assets[bid_hour] = [asset for asset in available_assets[bid_hour] if asset not in chosen_portfolio] # remove the assets that were bid from the available assets\n",
    "                    if len(chosen_portfolio) > 0:\n",
    "                        episode_bid_df.loc[len(episode_bid_df)] = [current_market.name, bid_hour, len(chosen_portfolio), flex_vol] # add the bid to the episode_bid_df\n",
    "                    episode_bid_dict[(current_market.name, bid_hour)] = (chosen_portfolio, flex_vol) # add the bid to the bids dictionary\n",
    "                    \n",
    "                    new_features = get_features(bid_hour = bid_hour, available_assets= available_assets[bid_hour], market = current_market) # update the features\n",
    "                    \n",
    "                    possible_actions = [np.dot(weights[action], new_features) for action in range(n_actions)] \n",
    "                    \n",
    "                    new_action = greedy_action(possible_actions, epsilon)\n",
    "                    \n",
    "                    action_list.append(new_action)\n",
    "                    \n",
    "                    delta = reward + np.dot(weights[new_action], new_features) - np.dot(weights[action_0], features)\n",
    "                    \n",
    "                    #weights = weights + alpha * delta * np.array(features + [action_0])\n",
    "                    weights[action_0] = weights[action_0] + alpha * delta * features[action_0] # * features???\n",
    "                    \n",
    "                    features, action_0 = new_features, new_action\n",
    "                    revenue += reward\n",
    "                    \n",
    "        bids[episode_n] = episode_bid_df.sort_values(by = [\"Hour\"])\n",
    "        revenues[episode_n] = revenue\n",
    "        asset_bids.append(episode_bid_dict)\n",
    "    return bids, revenues, available_assets, weights, action_list, asset_bids"
   ]
  },
  {
   "cell_type": "code",
   "execution_count": 310,
   "metadata": {},
   "outputs": [],
   "source": [
    "def initialize_weights(n_features :int , n_actions : int):\n",
    "    return np.array([np.zeros((n_features)) for _ in range(n_actions)])"
   ]
  },
  {
   "cell_type": "code",
   "execution_count": 327,
   "metadata": {},
   "outputs": [],
   "source": [
    "bids, revenues, available_assets, weights, action_list, asset_bids = train_model(epsilon = 0.4, alpha = 0.4, weights = initialize_weights(8, 3), num_episodes = 100, L = L, M = M, H = H)"
   ]
  },
  {
   "cell_type": "code",
   "execution_count": 202,
   "metadata": {},
   "outputs": [
    {
     "data": {
      "text/plain": [
       "['FCR_D_D_1_NO5',\n",
       " 'FCR_D_D_2_NO5',\n",
       " 'FCR_N_D_1_NO5',\n",
       " 'FCR_N_D_2_NO5',\n",
       " 'aFRR up_NO5',\n",
       " 'aFRR down_NO5']"
      ]
     },
     "execution_count": 202,
     "metadata": {},
     "output_type": "execute_result"
    }
   ],
   "source": [
    "[m.name for m in M[2:8]]"
   ]
  },
  {
   "cell_type": "code",
   "execution_count": 208,
   "metadata": {},
   "outputs": [],
   "source": [
    "compatible_list = utils.get_compatibility_dict(L = L ,M = M)"
   ]
  },
  {
   "cell_type": "code",
   "execution_count": 209,
   "metadata": {},
   "outputs": [
    {
     "name": "stdout",
     "output_type": "stream",
     "text": [
      "Set parameter LogFile to value \"week_mod_no5.log\"\n",
      "Gurobi Optimizer version 11.0.0 build v11.0.0rc2 (mac64[arm] - Darwin 23.2.0 23C71)Gurobi Optimizer version 11.0.0 build v11.0.0rc2 (mac64[arm] - Darwin 23.2.0 23C71)\n",
      "\n",
      "CPU model: Apple M1CPU model: Apple M1\n",
      "Thread count: 8 physical cores, 8 logical processors, using up to 8 threadsThread count: 8 physical cores, 8 logical processors, using up to 8 threads\n",
      "\n",
      "Optimize a model with 4687200 rows, 2262624 columns and 14380786 nonzerosOptimize a model with 4687200 rows, 2262624 columns and 14380786 nonzeros\n",
      "Model fingerprint: 0x8c74d6e7Model fingerprint: 0x8c74d6e7\n",
      "Model has 82782 quadratic objective termsModel has 82782 quadratic objective terms\n",
      "Model has 2688 quadratic constraintsModel has 2688 quadratic constraints\n",
      "Variable types: 0 continuous, 2262624 integer (2262624 binary)Variable types: 0 continuous, 2262624 integer (2262624 binary)\n",
      "Coefficient statistics:Coefficient statistics:\n",
      "Matrix range     [1e-06, 1e+03]  Matrix range     [1e-06, 1e+03]\n",
      "QMatrix range    [1e-06, 9e-01]  QMatrix range    [1e-06, 9e-01]\n",
      "Objective range  [8e-07, 1e+02]  Objective range  [8e-07, 1e+02]\n",
      "QObjective range [9e-08, 8e+01]  QObjective range [9e-08, 8e+01]\n",
      "Bounds range     [1e+00, 1e+00]  Bounds range     [1e+00, 1e+00]\n",
      "RHS range        [1e+00, 1e+00]  RHS range        [1e+00, 1e+00]\n",
      "QRHS range       [1e+00, 1e+02]  QRHS range       [1e+00, 1e+02]\n",
      "Found heuristic solution: objective -0.0000000Found heuristic solution: objective -0.0000000\n",
      "Presolve removed 4393517 rows and 1053487 columnsPresolve removed 4393517 rows and 1053487 columns\n",
      "Presolve time: 3.39sPresolve time: 3.39s\n",
      "Presolved: 319059 rows, 1221825 columns, 1409343 nonzerosPresolved: 319059 rows, 1221825 columns, 1409343 nonzeros\n",
      "Variable types: 0 continuous, 1221825 integer (1221825 binary)Variable types: 0 continuous, 1221825 integer (1221825 binary)\n",
      "Found heuristic solution: objective 12027.711823Found heuristic solution: objective 12027.711823\n",
      "Current best objective: 12027.71182318067, Best bound: 23087.03649738482\n",
      "Current best objective: 12027.71182318067, Best bound: 23087.03649738482\n",
      "\n",
      "Root simplex log...Root simplex log...\n",
      "\n",
      "Iteration    Objective       Primal Inf.    Dual Inf.      TimeIteration    Objective       Primal Inf.    Dual Inf.      Time\n",
      "0    1.2110224e+04   8.500711e+01   0.000000e+00     11s       0    1.2110224e+04   8.500711e+01   0.000000e+00     11s\n",
      "1    1.2110224e+04   0.000000e+00   0.000000e+00     11s       1    1.2110224e+04   0.000000e+00   0.000000e+00     11s\n",
      "\n",
      "Root relaxation: objective 1.211022e+04, 1 iterations, 0.00 seconds (0.00 work units)Root relaxation: objective 1.211022e+04, 1 iterations, 0.00 seconds (0.00 work units)\n",
      "Current best objective: 12027.71182318067, Best bound: 12110.22429676176\n",
      "\n",
      "Nodes    |    Current Node    |     Objective Bounds      |     Work    Nodes    |    Current Node    |     Objective Bounds      |     Work\n",
      "Expl Unexpl |  Obj  Depth IntInf | Incumbent    BestBd   Gap | It/Node Time Expl Unexpl |  Obj  Depth IntInf | Incumbent    BestBd   Gap | It/Node Time\n",
      "\n",
      "0     0 12110.2243    0    2 12027.7118 12110.2243  0.69%     -   11s     0     0 12110.2243    0    2 12027.7118 12110.2243  0.69%     -   11s\n",
      "H    0     0                    12110.176965 12110.2243  0.00%     -   11sH    0     0                    12110.176965 12110.2243  0.00%     -   11s\n",
      "\n",
      "Explored 1 nodes (1 simplex iterations) in 11.61 seconds (12.00 work units)Explored 1 nodes (1 simplex iterations) in 11.61 seconds (12.00 work units)\n",
      "Thread count was 8 (of 8 available processors)Thread count was 8 (of 8 available processors)\n",
      "\n",
      "Solution count 3: 12110.2 12027.7 -0Solution count 3: 12110.2 12027.7 -0 \n",
      "\n",
      "Optimal solution found (tolerance 1.00e-04)Optimal solution found (tolerance 1.00e-04)\n",
      "Best objective 1.211017696476e+04, best bound 1.211022429676e+04, gap 0.0004%Best objective 1.211017696476e+04, best bound 1.211022429676e+04, gap 0.0004%\n",
      "\n",
      "User-callback calls 1514, time in user-callback 0.06 secUser-callback calls 1514, time in user-callback 0.06 sec\n"
     ]
    }
   ],
   "source": [
    "mod, x, y, w, d = utils.run_optimization_model(L = L, M = M, F = F, H = H, Fu_h_l = Fu_h_l, Fd_h_l = Fd_h_l, R_h_l = R_h_l, Vp_h_m = Vp_h_m, Vm_m = Vm_m, R_m = R_m, Ir_hlm = Ir_hlm, Ia_hlm = Ia_hlm, Va_hm = Va_hm, compatible_list= compatible_list, log_filename= \"week_mod_no5.log\", model_name= \"week_mod_no5\")"
   ]
  },
  {
   "cell_type": "code",
   "execution_count": 225,
   "metadata": {},
   "outputs": [],
   "source": [
    "def get_market_count_dict(x : dict, H : [pd.Timestamp], L : [new_meters.PowerMeter], M : [final_markets.ReserveMarket], dominant_directions):\n",
    "    \"\"\" function to get a dictionary of the results of the optimization problem.\n",
    "        The solution is represented as a dataframe for each hour which tells how many assets and how much flex volume is connected to each market for each hour.\n",
    "\n",
    "    Args:\n",
    "        x (dict): dictionary of the binary variable which tells if an asset is connected to a market\n",
    "        L (list(PowerMeter)): list of powermeter objects with the data for each meter within the timeframe\n",
    "        M (list(ReserveMarket)): list of reservemarket objects with the data for each market within the timeframe\n",
    "        H (list(pd.TimeStamp)): list of hourly timestamps within the timeframe\n",
    "        dominant_directions (list(str)): list of the dominant direction for each hour\n",
    "\n",
    "    Returns:\n",
    "        dict: the solution of the optimization problem\n",
    "    \"\"\"\n",
    "    data = []\n",
    "\n",
    "    for h, hour in enumerate(H):\n",
    "        for l, load in enumerate(L):\n",
    "            for m, market in enumerate(M):\n",
    "                if x[h, l, m].X > 0.5:\n",
    "                    # Calculate flex volume for this asset, market, and hour\n",
    "        \n",
    "                    data.append([hour, load.meter_id, market.name])\n",
    "\n",
    "    df = pd.DataFrame(data, columns=[\"Hour\", \"Asset Meter ID\", \"Market\"])\n",
    "    market_names = [m.name for m in M]\n",
    "    market_count_dict = {}\n",
    "    for h, hour in enumerate(H):\n",
    "        hour_df = df.loc[(df[\"Hour\"] == hour)]\n",
    "        # Aggregate data by market and hour, counting assets and summing flex volumes\n",
    "        market_count = hour_df.groupby([\"Market\", \"Hour\"]).agg({\"Asset Meter ID\": \"count\"}).reset_index().rename(columns={\"Asset Meter ID\": \"Asset Count\"})\n",
    "        flex_volumes = []\n",
    "        for market_name in market_count[\"Market\"]:\n",
    "            m = market_names.index(market_name)\n",
    "            market = M[m]\n",
    "            if market.direction == \"up\":\n",
    "                total_flex_volume = sum(x[h, l, m].X * load.up_flex_volume[\"value\"].loc[load.up_flex_volume[\"Time(Local)\"] == hour].values[0] for l, load in enumerate(L) if load.direction != \"down\")\n",
    "            elif market.direction == \"down\":\n",
    "                total_flex_volume = sum(x[h, l, m].X * load.down_flex_volume[\"value\"].loc[load.down_flex_volume[\"Time(Local)\"] == hour].values[0] for l, load in enumerate(L) if load.direction != \"up\")\n",
    "            else:\n",
    "                total_flex_volume = 0\n",
    "                for load in L:\n",
    "                    if load.direction == \"up\":\n",
    "                        total_flex_volume += x[h, l, m].X * load.up_flex_volume[\"value\"].loc[load.up_flex_volume[\"Time(Local)\"] == hour].values[0] \n",
    "                    elif load.direction == \"down\":\n",
    "                        total_flex_volume += x[h, l, m].X * load.down_flex_volume[\"value\"].loc[load.down_flex_volume[\"Time(Local)\"] == hour].values[0]\n",
    "                    else:\n",
    "                        total_flex_volume += min(x[h, l, m].X * load.up_flex_volume[\"value\"].loc[load.up_flex_volume[\"Time(Local)\"] == hour].values[0], x[h, l, m].X * load.down_flex_volume[\"value\"].loc[load.down_flex_volume[\"Time(Local)\"] == hour].values[0])\n",
    "                \n",
    "            flex_volumes.append(total_flex_volume)\n",
    "        market_count[\"Total Flex Volume [MWh]\"] = flex_volumes\n",
    "        market_count_dict[hour] = market_count\n",
    "    return market_count_dict"
   ]
  },
  {
   "cell_type": "code",
   "execution_count": 210,
   "metadata": {},
   "outputs": [],
   "source": [
    "dominant_directions = [utils.get_dominant_direction(freq_data, hour) for hour in H]"
   ]
  },
  {
   "cell_type": "code",
   "execution_count": 217,
   "metadata": {},
   "outputs": [],
   "source": [
    "market_count_dict = get_market_count_dict(x = x, L = L, M = M, H = H, dominant_directions= dominant_directions)"
   ]
  },
  {
   "cell_type": "code",
   "execution_count": 283,
   "metadata": {},
   "outputs": [],
   "source": [
    "combined_df = pd.concat(market_count_dict, ignore_index=True)"
   ]
  },
  {
   "cell_type": "code",
   "execution_count": 284,
   "metadata": {},
   "outputs": [
    {
     "data": {
      "text/html": [
       "<div>\n",
       "<style scoped>\n",
       "    .dataframe tbody tr th:only-of-type {\n",
       "        vertical-align: middle;\n",
       "    }\n",
       "\n",
       "    .dataframe tbody tr th {\n",
       "        vertical-align: top;\n",
       "    }\n",
       "\n",
       "    .dataframe thead th {\n",
       "        text-align: right;\n",
       "    }\n",
       "</style>\n",
       "<table border=\"1\" class=\"dataframe\">\n",
       "  <thead>\n",
       "    <tr style=\"text-align: right;\">\n",
       "      <th></th>\n",
       "      <th>Market</th>\n",
       "      <th>Hour</th>\n",
       "      <th>Asset Count</th>\n",
       "      <th>Total Flex Volume</th>\n",
       "    </tr>\n",
       "  </thead>\n",
       "  <tbody>\n",
       "    <tr>\n",
       "      <th>0</th>\n",
       "      <td>aFRR up_NO5</td>\n",
       "      <td>2023-06-19 00:00:00+02:00</td>\n",
       "      <td>580</td>\n",
       "      <td>3.351549</td>\n",
       "    </tr>\n",
       "    <tr>\n",
       "      <th>1</th>\n",
       "      <td>aFRR up_NO5</td>\n",
       "      <td>2023-06-19 05:00:00+02:00</td>\n",
       "      <td>531</td>\n",
       "      <td>2.706115</td>\n",
       "    </tr>\n",
       "    <tr>\n",
       "      <th>2</th>\n",
       "      <td>aFRR up_NO5</td>\n",
       "      <td>2023-06-19 06:00:00+02:00</td>\n",
       "      <td>529</td>\n",
       "      <td>2.383027</td>\n",
       "    </tr>\n",
       "    <tr>\n",
       "      <th>3</th>\n",
       "      <td>aFRR up_NO5</td>\n",
       "      <td>2023-06-19 07:00:00+02:00</td>\n",
       "      <td>543</td>\n",
       "      <td>2.800745</td>\n",
       "    </tr>\n",
       "    <tr>\n",
       "      <th>4</th>\n",
       "      <td>aFRR up_NO5</td>\n",
       "      <td>2023-06-19 08:00:00+02:00</td>\n",
       "      <td>575</td>\n",
       "      <td>2.930003</td>\n",
       "    </tr>\n",
       "    <tr>\n",
       "      <th>...</th>\n",
       "      <td>...</td>\n",
       "      <td>...</td>\n",
       "      <td>...</td>\n",
       "      <td>...</td>\n",
       "    </tr>\n",
       "    <tr>\n",
       "      <th>223</th>\n",
       "      <td>FCR_N_D_1_NO5</td>\n",
       "      <td>2023-06-25 20:00:00+02:00</td>\n",
       "      <td>308</td>\n",
       "      <td>1.337819</td>\n",
       "    </tr>\n",
       "    <tr>\n",
       "      <th>224</th>\n",
       "      <td>aFRR down_NO5</td>\n",
       "      <td>2023-06-25 20:00:00+02:00</td>\n",
       "      <td>257</td>\n",
       "      <td>2.908685</td>\n",
       "    </tr>\n",
       "    <tr>\n",
       "      <th>225</th>\n",
       "      <td>aFRR down_NO5</td>\n",
       "      <td>2023-06-25 21:00:00+02:00</td>\n",
       "      <td>529</td>\n",
       "      <td>4.233296</td>\n",
       "    </tr>\n",
       "    <tr>\n",
       "      <th>226</th>\n",
       "      <td>aFRR down_NO5</td>\n",
       "      <td>2023-06-25 22:00:00+02:00</td>\n",
       "      <td>528</td>\n",
       "      <td>4.190777</td>\n",
       "    </tr>\n",
       "    <tr>\n",
       "      <th>227</th>\n",
       "      <td>aFRR down_NO5</td>\n",
       "      <td>2023-06-25 23:00:00+02:00</td>\n",
       "      <td>519</td>\n",
       "      <td>3.752166</td>\n",
       "    </tr>\n",
       "  </tbody>\n",
       "</table>\n",
       "<p>228 rows × 4 columns</p>\n",
       "</div>"
      ],
      "text/plain": [
       "            Market                      Hour  Asset Count  Total Flex Volume\n",
       "0      aFRR up_NO5 2023-06-19 00:00:00+02:00          580           3.351549\n",
       "1      aFRR up_NO5 2023-06-19 05:00:00+02:00          531           2.706115\n",
       "2      aFRR up_NO5 2023-06-19 06:00:00+02:00          529           2.383027\n",
       "3      aFRR up_NO5 2023-06-19 07:00:00+02:00          543           2.800745\n",
       "4      aFRR up_NO5 2023-06-19 08:00:00+02:00          575           2.930003\n",
       "..             ...                       ...          ...                ...\n",
       "223  FCR_N_D_1_NO5 2023-06-25 20:00:00+02:00          308           1.337819\n",
       "224  aFRR down_NO5 2023-06-25 20:00:00+02:00          257           2.908685\n",
       "225  aFRR down_NO5 2023-06-25 21:00:00+02:00          529           4.233296\n",
       "226  aFRR down_NO5 2023-06-25 22:00:00+02:00          528           4.190777\n",
       "227  aFRR down_NO5 2023-06-25 23:00:00+02:00          519           3.752166\n",
       "\n",
       "[228 rows x 4 columns]"
      ]
     },
     "metadata": {},
     "output_type": "display_data"
    }
   ],
   "source": [
    "display(combined_df)"
   ]
  },
  {
   "cell_type": "code",
   "execution_count": 334,
   "metadata": {},
   "outputs": [],
   "source": [
    "import plotly.graph_objs as go\n",
    "from plotly.subplots import make_subplots\n",
    "\n",
    "def make_plots_for_sol(dict_of_dfs : dict, sol_name : str = \"Optimization\", rl_df : pd.DataFrame = None, y_axis : str = \"Asset Count\"):\n",
    "    \"\"\" function to make plot of the results recieved from the wanted model. This function can either plot how many assets that were bid in each market for each hour or the total flex volume that was bid in each market for each hour.\n",
    "\n",
    "    Args:\n",
    "        dict_of_dfs (dict): for the optimization model, the results are stored in a dict. The keys are the hours and the values are dataframes that holds the results for each hour.\n",
    "        sol_name (str, optional): Either \"Optimization\" or \"RL. Defaults to \"Optimization\".\n",
    "        rl_df (pd.DataFrame, optional): The results for the RL df are stored in a dataframe and this should be given here if the results from the RL model is wanted. The RL model returns a list of dataframes, and that list with the wanted index (episode) should be given. Defaults to None.\n",
    "        y_axis (str, optional): Choose which y-axis value that is wanted. Can be either \"Asset Count\" or \"Total Flex Volume\". Defaults to \"Asset Count\".\n",
    "    \"\"\"\n",
    "    if sol_name == \"Optimization\":\n",
    "        combined_df = pd.concat(dict_of_dfs, ignore_index=True)\n",
    "        combined_df = combined_df.loc[combined_df[\"Hour\"]>= pd.Timestamp(2023, 6, 20, 0, 0, 0, tz = \"Europe/Oslo\")]\n",
    "    else:\n",
    "        combined_df = rl_df.copy()\n",
    "    # Create a figure with secondary y-axis\n",
    "    fig = make_subplots(specs=[[{\"secondary_y\": True}]])\n",
    "    # Iterate over each market and add a scatter trace for Asset Count and Total Flex Volume\n",
    "    for market in combined_df['Market'].unique():\n",
    "        market_data = combined_df[combined_df['Market'] == market]\n",
    "        if y_axis == \"Asset Count\":\n",
    "            # Scatter for Asset Count\n",
    "            fig.add_trace(\n",
    "                go.Scatter(x=market_data['Hour'], y=market_data['Asset Count'], \n",
    "                        mode='markers', name=f\"Asset Count - {market}\"),\n",
    "                secondary_y=False,\n",
    "            )\n",
    "        elif y_axis == \"Total Flex Volume\":\n",
    "            # Scatter for Total Flex Volume\n",
    "            fig.add_trace(\n",
    "                go.Scatter(x=market_data['Hour'], y=market_data['Total Flex Volume'], \n",
    "                        mode='markers', name=f\"Total Flex Volume - {market}\"),\n",
    "                secondary_y=True,\n",
    "            )\n",
    "\n",
    "    # Add figure title and layout\n",
    "    fig.update_layout(title_text=f\"{y_axis} by Market and Hour from the {sol_name} model\")\n",
    "\n",
    "    # Set x-axis title\n",
    "    fig.update_xaxes(title_text=\"Hours\")\n",
    "\n",
    "    # Set y-axes titles\n",
    "    fig.update_yaxes(title_text=\"Asset Count\", secondary_y=False)\n",
    "    fig.update_yaxes(title_text=\"Total Flex Volume\", secondary_y=True)\n",
    "\n",
    "    # Show the figure\n",
    "    fig.show()"
   ]
  },
  {
   "cell_type": "code",
   "execution_count": 335,
   "metadata": {},
   "outputs": [
    {
     "data": {
      "application/vnd.plotly.v1+json": {
       "config": {
        "plotlyServerURL": "https://plot.ly"
       },
       "data": [
        {
         "mode": "markers",
         "name": "Asset Count - FCR_N_D_1_NO5",
         "type": "scatter",
         "x": [
          "2023-06-20T00:00:00+02:00",
          "2023-06-20T11:00:00+02:00",
          "2023-06-20T12:00:00+02:00",
          "2023-06-20T13:00:00+02:00",
          "2023-06-20T14:00:00+02:00",
          "2023-06-20T15:00:00+02:00",
          "2023-06-20T16:00:00+02:00",
          "2023-06-20T17:00:00+02:00",
          "2023-06-20T18:00:00+02:00",
          "2023-06-20T19:00:00+02:00",
          "2023-06-20T20:00:00+02:00",
          "2023-06-20T22:00:00+02:00",
          "2023-06-20T23:00:00+02:00",
          "2023-06-21T10:00:00+02:00",
          "2023-06-21T11:00:00+02:00",
          "2023-06-21T12:00:00+02:00",
          "2023-06-21T13:00:00+02:00",
          "2023-06-21T14:00:00+02:00",
          "2023-06-21T15:00:00+02:00",
          "2023-06-21T16:00:00+02:00",
          "2023-06-21T17:00:00+02:00",
          "2023-06-21T18:00:00+02:00",
          "2023-06-21T19:00:00+02:00",
          "2023-06-21T20:00:00+02:00",
          "2023-06-21T21:00:00+02:00",
          "2023-06-21T22:00:00+02:00",
          "2023-06-21T23:00:00+02:00",
          "2023-06-22T00:00:00+02:00",
          "2023-06-22T10:00:00+02:00",
          "2023-06-22T11:00:00+02:00",
          "2023-06-22T12:00:00+02:00",
          "2023-06-22T13:00:00+02:00",
          "2023-06-22T14:00:00+02:00",
          "2023-06-22T15:00:00+02:00",
          "2023-06-22T16:00:00+02:00",
          "2023-06-22T17:00:00+02:00",
          "2023-06-22T18:00:00+02:00",
          "2023-06-22T19:00:00+02:00",
          "2023-06-22T20:00:00+02:00",
          "2023-06-22T21:00:00+02:00",
          "2023-06-22T22:00:00+02:00",
          "2023-06-22T23:00:00+02:00",
          "2023-06-23T00:00:00+02:00",
          "2023-06-23T01:00:00+02:00",
          "2023-06-23T11:00:00+02:00",
          "2023-06-23T12:00:00+02:00",
          "2023-06-23T13:00:00+02:00",
          "2023-06-23T14:00:00+02:00",
          "2023-06-23T15:00:00+02:00",
          "2023-06-23T16:00:00+02:00",
          "2023-06-23T20:00:00+02:00",
          "2023-06-23T21:00:00+02:00",
          "2023-06-25T16:00:00+02:00",
          "2023-06-25T17:00:00+02:00",
          "2023-06-25T18:00:00+02:00",
          "2023-06-25T19:00:00+02:00",
          "2023-06-25T20:00:00+02:00"
         ],
         "xaxis": "x",
         "y": [
          308,
          291,
          295,
          313,
          310,
          326,
          303,
          275,
          311,
          320,
          311,
          309,
          254,
          203,
          303,
          326,
          319,
          333,
          332,
          161,
          204,
          197,
          337,
          336,
          341,
          351,
          349,
          350,
          344,
          337,
          358,
          361,
          346,
          357,
          345,
          354,
          349,
          349,
          383,
          356,
          358,
          358,
          373,
          351,
          366,
          240,
          377,
          365,
          353,
          375,
          136,
          156,
          288,
          291,
          304,
          287,
          308
         ],
         "yaxis": "y"
        },
        {
         "mode": "markers",
         "name": "Asset Count - aFRR up_NO5",
         "type": "scatter",
         "x": [
          "2023-06-20T00:00:00+02:00",
          "2023-06-20T05:00:00+02:00",
          "2023-06-20T06:00:00+02:00",
          "2023-06-20T07:00:00+02:00",
          "2023-06-20T08:00:00+02:00",
          "2023-06-20T09:00:00+02:00",
          "2023-06-20T10:00:00+02:00",
          "2023-06-20T11:00:00+02:00",
          "2023-06-20T12:00:00+02:00",
          "2023-06-20T13:00:00+02:00",
          "2023-06-20T14:00:00+02:00",
          "2023-06-20T15:00:00+02:00",
          "2023-06-20T16:00:00+02:00",
          "2023-06-20T17:00:00+02:00",
          "2023-06-20T18:00:00+02:00",
          "2023-06-20T19:00:00+02:00",
          "2023-06-20T20:00:00+02:00",
          "2023-06-20T21:00:00+02:00",
          "2023-06-20T22:00:00+02:00",
          "2023-06-20T23:00:00+02:00",
          "2023-06-21T00:00:00+02:00",
          "2023-06-21T05:00:00+02:00",
          "2023-06-21T06:00:00+02:00",
          "2023-06-21T07:00:00+02:00",
          "2023-06-21T08:00:00+02:00",
          "2023-06-21T09:00:00+02:00",
          "2023-06-21T10:00:00+02:00",
          "2023-06-21T11:00:00+02:00",
          "2023-06-21T12:00:00+02:00",
          "2023-06-21T13:00:00+02:00",
          "2023-06-21T14:00:00+02:00",
          "2023-06-21T15:00:00+02:00",
          "2023-06-21T16:00:00+02:00",
          "2023-06-21T17:00:00+02:00",
          "2023-06-21T18:00:00+02:00",
          "2023-06-21T19:00:00+02:00",
          "2023-06-21T20:00:00+02:00",
          "2023-06-21T21:00:00+02:00",
          "2023-06-21T22:00:00+02:00",
          "2023-06-21T23:00:00+02:00",
          "2023-06-22T00:00:00+02:00",
          "2023-06-22T05:00:00+02:00",
          "2023-06-22T06:00:00+02:00",
          "2023-06-22T07:00:00+02:00",
          "2023-06-22T09:00:00+02:00",
          "2023-06-22T10:00:00+02:00",
          "2023-06-22T11:00:00+02:00",
          "2023-06-22T12:00:00+02:00",
          "2023-06-22T13:00:00+02:00",
          "2023-06-22T14:00:00+02:00",
          "2023-06-22T15:00:00+02:00",
          "2023-06-22T16:00:00+02:00",
          "2023-06-22T17:00:00+02:00",
          "2023-06-22T18:00:00+02:00",
          "2023-06-22T19:00:00+02:00",
          "2023-06-22T20:00:00+02:00",
          "2023-06-22T21:00:00+02:00",
          "2023-06-22T22:00:00+02:00",
          "2023-06-22T23:00:00+02:00",
          "2023-06-23T00:00:00+02:00",
          "2023-06-23T05:00:00+02:00",
          "2023-06-23T06:00:00+02:00",
          "2023-06-23T07:00:00+02:00",
          "2023-06-23T08:00:00+02:00",
          "2023-06-23T09:00:00+02:00",
          "2023-06-23T10:00:00+02:00",
          "2023-06-23T11:00:00+02:00",
          "2023-06-23T12:00:00+02:00",
          "2023-06-23T13:00:00+02:00",
          "2023-06-23T14:00:00+02:00",
          "2023-06-23T15:00:00+02:00",
          "2023-06-23T16:00:00+02:00",
          "2023-06-23T17:00:00+02:00",
          "2023-06-23T18:00:00+02:00",
          "2023-06-23T19:00:00+02:00",
          "2023-06-23T20:00:00+02:00",
          "2023-06-23T21:00:00+02:00",
          "2023-06-23T22:00:00+02:00",
          "2023-06-23T23:00:00+02:00",
          "2023-06-24T00:00:00+02:00",
          "2023-06-24T05:00:00+02:00",
          "2023-06-24T06:00:00+02:00",
          "2023-06-24T07:00:00+02:00",
          "2023-06-24T13:00:00+02:00",
          "2023-06-24T18:00:00+02:00"
         ],
         "xaxis": "x",
         "y": [
          262,
          520,
          489,
          509,
          511,
          515,
          540,
          282,
          277,
          277,
          261,
          281,
          282,
          340,
          276,
          280,
          267,
          228,
          292,
          334,
          563,
          509,
          513,
          492,
          490,
          518,
          367,
          254,
          290,
          281,
          293,
          296,
          448,
          441,
          412,
          302,
          313,
          287,
          297,
          298,
          301,
          601,
          602,
          609,
          613,
          309,
          305,
          314,
          326,
          311,
          317,
          324,
          333,
          321,
          316,
          333,
          322,
          318,
          319,
          315,
          611,
          630,
          641,
          632,
          618,
          531,
          327,
          170,
          191,
          197,
          184,
          168,
          495,
          418,
          489,
          534,
          488,
          179,
          541,
          186,
          557,
          405,
          351,
          411,
          551
         ],
         "yaxis": "y"
        },
        {
         "mode": "markers",
         "name": "Asset Count - aFRR down_NO5",
         "type": "scatter",
         "x": [
          "2023-06-20T21:00:00+02:00",
          "2023-06-20T22:00:00+02:00",
          "2023-06-22T08:00:00+02:00",
          "2023-06-23T10:00:00+02:00",
          "2023-06-23T12:00:00+02:00",
          "2023-06-23T13:00:00+02:00",
          "2023-06-23T14:00:00+02:00",
          "2023-06-23T15:00:00+02:00",
          "2023-06-23T16:00:00+02:00",
          "2023-06-23T17:00:00+02:00",
          "2023-06-23T18:00:00+02:00",
          "2023-06-23T19:00:00+02:00",
          "2023-06-23T22:00:00+02:00",
          "2023-06-23T23:00:00+02:00",
          "2023-06-24T00:00:00+02:00",
          "2023-06-24T06:00:00+02:00",
          "2023-06-24T07:00:00+02:00",
          "2023-06-24T08:00:00+02:00",
          "2023-06-24T09:00:00+02:00",
          "2023-06-24T10:00:00+02:00",
          "2023-06-24T11:00:00+02:00",
          "2023-06-24T12:00:00+02:00",
          "2023-06-24T13:00:00+02:00",
          "2023-06-24T14:00:00+02:00",
          "2023-06-24T15:00:00+02:00",
          "2023-06-24T16:00:00+02:00",
          "2023-06-24T17:00:00+02:00",
          "2023-06-24T18:00:00+02:00",
          "2023-06-24T19:00:00+02:00",
          "2023-06-24T20:00:00+02:00",
          "2023-06-24T21:00:00+02:00",
          "2023-06-24T22:00:00+02:00",
          "2023-06-24T23:00:00+02:00",
          "2023-06-25T00:00:00+02:00",
          "2023-06-25T05:00:00+02:00",
          "2023-06-25T06:00:00+02:00",
          "2023-06-25T07:00:00+02:00",
          "2023-06-25T08:00:00+02:00",
          "2023-06-25T09:00:00+02:00",
          "2023-06-25T10:00:00+02:00",
          "2023-06-25T11:00:00+02:00",
          "2023-06-25T12:00:00+02:00",
          "2023-06-25T13:00:00+02:00",
          "2023-06-25T14:00:00+02:00",
          "2023-06-25T15:00:00+02:00",
          "2023-06-25T16:00:00+02:00",
          "2023-06-25T17:00:00+02:00",
          "2023-06-25T18:00:00+02:00",
          "2023-06-25T19:00:00+02:00",
          "2023-06-25T20:00:00+02:00",
          "2023-06-25T21:00:00+02:00",
          "2023-06-25T22:00:00+02:00",
          "2023-06-25T23:00:00+02:00"
         ],
         "xaxis": "x",
         "y": [
          397,
          20,
          602,
          173,
          290,
          159,
          150,
          157,
          175,
          221,
          255,
          175,
          509,
          145,
          421,
          171,
          235,
          557,
          573,
          553,
          547,
          563,
          160,
          541,
          562,
          260,
          555,
          42,
          520,
          557,
          527,
          532,
          535,
          507,
          517,
          522,
          489,
          511,
          496,
          513,
          528,
          513,
          525,
          525,
          524,
          267,
          264,
          256,
          257,
          257,
          529,
          528,
          519
         ],
         "yaxis": "y"
        },
        {
         "mode": "markers",
         "name": "Asset Count - FCR_N_D_2_NO5",
         "type": "scatter",
         "x": [
          "2023-06-22T01:00:00+02:00",
          "2023-06-24T16:00:00+02:00"
         ],
         "xaxis": "x",
         "y": [
          352,
          297
         ],
         "yaxis": "y"
        }
       ],
       "layout": {
        "template": {
         "data": {
          "bar": [
           {
            "error_x": {
             "color": "#2a3f5f"
            },
            "error_y": {
             "color": "#2a3f5f"
            },
            "marker": {
             "line": {
              "color": "#E5ECF6",
              "width": 0.5
             },
             "pattern": {
              "fillmode": "overlay",
              "size": 10,
              "solidity": 0.2
             }
            },
            "type": "bar"
           }
          ],
          "barpolar": [
           {
            "marker": {
             "line": {
              "color": "#E5ECF6",
              "width": 0.5
             },
             "pattern": {
              "fillmode": "overlay",
              "size": 10,
              "solidity": 0.2
             }
            },
            "type": "barpolar"
           }
          ],
          "carpet": [
           {
            "aaxis": {
             "endlinecolor": "#2a3f5f",
             "gridcolor": "white",
             "linecolor": "white",
             "minorgridcolor": "white",
             "startlinecolor": "#2a3f5f"
            },
            "baxis": {
             "endlinecolor": "#2a3f5f",
             "gridcolor": "white",
             "linecolor": "white",
             "minorgridcolor": "white",
             "startlinecolor": "#2a3f5f"
            },
            "type": "carpet"
           }
          ],
          "choropleth": [
           {
            "colorbar": {
             "outlinewidth": 0,
             "ticks": ""
            },
            "type": "choropleth"
           }
          ],
          "contour": [
           {
            "colorbar": {
             "outlinewidth": 0,
             "ticks": ""
            },
            "colorscale": [
             [
              0,
              "#0d0887"
             ],
             [
              0.1111111111111111,
              "#46039f"
             ],
             [
              0.2222222222222222,
              "#7201a8"
             ],
             [
              0.3333333333333333,
              "#9c179e"
             ],
             [
              0.4444444444444444,
              "#bd3786"
             ],
             [
              0.5555555555555556,
              "#d8576b"
             ],
             [
              0.6666666666666666,
              "#ed7953"
             ],
             [
              0.7777777777777778,
              "#fb9f3a"
             ],
             [
              0.8888888888888888,
              "#fdca26"
             ],
             [
              1,
              "#f0f921"
             ]
            ],
            "type": "contour"
           }
          ],
          "contourcarpet": [
           {
            "colorbar": {
             "outlinewidth": 0,
             "ticks": ""
            },
            "type": "contourcarpet"
           }
          ],
          "heatmap": [
           {
            "colorbar": {
             "outlinewidth": 0,
             "ticks": ""
            },
            "colorscale": [
             [
              0,
              "#0d0887"
             ],
             [
              0.1111111111111111,
              "#46039f"
             ],
             [
              0.2222222222222222,
              "#7201a8"
             ],
             [
              0.3333333333333333,
              "#9c179e"
             ],
             [
              0.4444444444444444,
              "#bd3786"
             ],
             [
              0.5555555555555556,
              "#d8576b"
             ],
             [
              0.6666666666666666,
              "#ed7953"
             ],
             [
              0.7777777777777778,
              "#fb9f3a"
             ],
             [
              0.8888888888888888,
              "#fdca26"
             ],
             [
              1,
              "#f0f921"
             ]
            ],
            "type": "heatmap"
           }
          ],
          "heatmapgl": [
           {
            "colorbar": {
             "outlinewidth": 0,
             "ticks": ""
            },
            "colorscale": [
             [
              0,
              "#0d0887"
             ],
             [
              0.1111111111111111,
              "#46039f"
             ],
             [
              0.2222222222222222,
              "#7201a8"
             ],
             [
              0.3333333333333333,
              "#9c179e"
             ],
             [
              0.4444444444444444,
              "#bd3786"
             ],
             [
              0.5555555555555556,
              "#d8576b"
             ],
             [
              0.6666666666666666,
              "#ed7953"
             ],
             [
              0.7777777777777778,
              "#fb9f3a"
             ],
             [
              0.8888888888888888,
              "#fdca26"
             ],
             [
              1,
              "#f0f921"
             ]
            ],
            "type": "heatmapgl"
           }
          ],
          "histogram": [
           {
            "marker": {
             "pattern": {
              "fillmode": "overlay",
              "size": 10,
              "solidity": 0.2
             }
            },
            "type": "histogram"
           }
          ],
          "histogram2d": [
           {
            "colorbar": {
             "outlinewidth": 0,
             "ticks": ""
            },
            "colorscale": [
             [
              0,
              "#0d0887"
             ],
             [
              0.1111111111111111,
              "#46039f"
             ],
             [
              0.2222222222222222,
              "#7201a8"
             ],
             [
              0.3333333333333333,
              "#9c179e"
             ],
             [
              0.4444444444444444,
              "#bd3786"
             ],
             [
              0.5555555555555556,
              "#d8576b"
             ],
             [
              0.6666666666666666,
              "#ed7953"
             ],
             [
              0.7777777777777778,
              "#fb9f3a"
             ],
             [
              0.8888888888888888,
              "#fdca26"
             ],
             [
              1,
              "#f0f921"
             ]
            ],
            "type": "histogram2d"
           }
          ],
          "histogram2dcontour": [
           {
            "colorbar": {
             "outlinewidth": 0,
             "ticks": ""
            },
            "colorscale": [
             [
              0,
              "#0d0887"
             ],
             [
              0.1111111111111111,
              "#46039f"
             ],
             [
              0.2222222222222222,
              "#7201a8"
             ],
             [
              0.3333333333333333,
              "#9c179e"
             ],
             [
              0.4444444444444444,
              "#bd3786"
             ],
             [
              0.5555555555555556,
              "#d8576b"
             ],
             [
              0.6666666666666666,
              "#ed7953"
             ],
             [
              0.7777777777777778,
              "#fb9f3a"
             ],
             [
              0.8888888888888888,
              "#fdca26"
             ],
             [
              1,
              "#f0f921"
             ]
            ],
            "type": "histogram2dcontour"
           }
          ],
          "mesh3d": [
           {
            "colorbar": {
             "outlinewidth": 0,
             "ticks": ""
            },
            "type": "mesh3d"
           }
          ],
          "parcoords": [
           {
            "line": {
             "colorbar": {
              "outlinewidth": 0,
              "ticks": ""
             }
            },
            "type": "parcoords"
           }
          ],
          "pie": [
           {
            "automargin": true,
            "type": "pie"
           }
          ],
          "scatter": [
           {
            "fillpattern": {
             "fillmode": "overlay",
             "size": 10,
             "solidity": 0.2
            },
            "type": "scatter"
           }
          ],
          "scatter3d": [
           {
            "line": {
             "colorbar": {
              "outlinewidth": 0,
              "ticks": ""
             }
            },
            "marker": {
             "colorbar": {
              "outlinewidth": 0,
              "ticks": ""
             }
            },
            "type": "scatter3d"
           }
          ],
          "scattercarpet": [
           {
            "marker": {
             "colorbar": {
              "outlinewidth": 0,
              "ticks": ""
             }
            },
            "type": "scattercarpet"
           }
          ],
          "scattergeo": [
           {
            "marker": {
             "colorbar": {
              "outlinewidth": 0,
              "ticks": ""
             }
            },
            "type": "scattergeo"
           }
          ],
          "scattergl": [
           {
            "marker": {
             "colorbar": {
              "outlinewidth": 0,
              "ticks": ""
             }
            },
            "type": "scattergl"
           }
          ],
          "scattermapbox": [
           {
            "marker": {
             "colorbar": {
              "outlinewidth": 0,
              "ticks": ""
             }
            },
            "type": "scattermapbox"
           }
          ],
          "scatterpolar": [
           {
            "marker": {
             "colorbar": {
              "outlinewidth": 0,
              "ticks": ""
             }
            },
            "type": "scatterpolar"
           }
          ],
          "scatterpolargl": [
           {
            "marker": {
             "colorbar": {
              "outlinewidth": 0,
              "ticks": ""
             }
            },
            "type": "scatterpolargl"
           }
          ],
          "scatterternary": [
           {
            "marker": {
             "colorbar": {
              "outlinewidth": 0,
              "ticks": ""
             }
            },
            "type": "scatterternary"
           }
          ],
          "surface": [
           {
            "colorbar": {
             "outlinewidth": 0,
             "ticks": ""
            },
            "colorscale": [
             [
              0,
              "#0d0887"
             ],
             [
              0.1111111111111111,
              "#46039f"
             ],
             [
              0.2222222222222222,
              "#7201a8"
             ],
             [
              0.3333333333333333,
              "#9c179e"
             ],
             [
              0.4444444444444444,
              "#bd3786"
             ],
             [
              0.5555555555555556,
              "#d8576b"
             ],
             [
              0.6666666666666666,
              "#ed7953"
             ],
             [
              0.7777777777777778,
              "#fb9f3a"
             ],
             [
              0.8888888888888888,
              "#fdca26"
             ],
             [
              1,
              "#f0f921"
             ]
            ],
            "type": "surface"
           }
          ],
          "table": [
           {
            "cells": {
             "fill": {
              "color": "#EBF0F8"
             },
             "line": {
              "color": "white"
             }
            },
            "header": {
             "fill": {
              "color": "#C8D4E3"
             },
             "line": {
              "color": "white"
             }
            },
            "type": "table"
           }
          ]
         },
         "layout": {
          "annotationdefaults": {
           "arrowcolor": "#2a3f5f",
           "arrowhead": 0,
           "arrowwidth": 1
          },
          "autotypenumbers": "strict",
          "coloraxis": {
           "colorbar": {
            "outlinewidth": 0,
            "ticks": ""
           }
          },
          "colorscale": {
           "diverging": [
            [
             0,
             "#8e0152"
            ],
            [
             0.1,
             "#c51b7d"
            ],
            [
             0.2,
             "#de77ae"
            ],
            [
             0.3,
             "#f1b6da"
            ],
            [
             0.4,
             "#fde0ef"
            ],
            [
             0.5,
             "#f7f7f7"
            ],
            [
             0.6,
             "#e6f5d0"
            ],
            [
             0.7,
             "#b8e186"
            ],
            [
             0.8,
             "#7fbc41"
            ],
            [
             0.9,
             "#4d9221"
            ],
            [
             1,
             "#276419"
            ]
           ],
           "sequential": [
            [
             0,
             "#0d0887"
            ],
            [
             0.1111111111111111,
             "#46039f"
            ],
            [
             0.2222222222222222,
             "#7201a8"
            ],
            [
             0.3333333333333333,
             "#9c179e"
            ],
            [
             0.4444444444444444,
             "#bd3786"
            ],
            [
             0.5555555555555556,
             "#d8576b"
            ],
            [
             0.6666666666666666,
             "#ed7953"
            ],
            [
             0.7777777777777778,
             "#fb9f3a"
            ],
            [
             0.8888888888888888,
             "#fdca26"
            ],
            [
             1,
             "#f0f921"
            ]
           ],
           "sequentialminus": [
            [
             0,
             "#0d0887"
            ],
            [
             0.1111111111111111,
             "#46039f"
            ],
            [
             0.2222222222222222,
             "#7201a8"
            ],
            [
             0.3333333333333333,
             "#9c179e"
            ],
            [
             0.4444444444444444,
             "#bd3786"
            ],
            [
             0.5555555555555556,
             "#d8576b"
            ],
            [
             0.6666666666666666,
             "#ed7953"
            ],
            [
             0.7777777777777778,
             "#fb9f3a"
            ],
            [
             0.8888888888888888,
             "#fdca26"
            ],
            [
             1,
             "#f0f921"
            ]
           ]
          },
          "colorway": [
           "#636efa",
           "#EF553B",
           "#00cc96",
           "#ab63fa",
           "#FFA15A",
           "#19d3f3",
           "#FF6692",
           "#B6E880",
           "#FF97FF",
           "#FECB52"
          ],
          "font": {
           "color": "#2a3f5f"
          },
          "geo": {
           "bgcolor": "white",
           "lakecolor": "white",
           "landcolor": "#E5ECF6",
           "showlakes": true,
           "showland": true,
           "subunitcolor": "white"
          },
          "hoverlabel": {
           "align": "left"
          },
          "hovermode": "closest",
          "mapbox": {
           "style": "light"
          },
          "paper_bgcolor": "white",
          "plot_bgcolor": "#E5ECF6",
          "polar": {
           "angularaxis": {
            "gridcolor": "white",
            "linecolor": "white",
            "ticks": ""
           },
           "bgcolor": "#E5ECF6",
           "radialaxis": {
            "gridcolor": "white",
            "linecolor": "white",
            "ticks": ""
           }
          },
          "scene": {
           "xaxis": {
            "backgroundcolor": "#E5ECF6",
            "gridcolor": "white",
            "gridwidth": 2,
            "linecolor": "white",
            "showbackground": true,
            "ticks": "",
            "zerolinecolor": "white"
           },
           "yaxis": {
            "backgroundcolor": "#E5ECF6",
            "gridcolor": "white",
            "gridwidth": 2,
            "linecolor": "white",
            "showbackground": true,
            "ticks": "",
            "zerolinecolor": "white"
           },
           "zaxis": {
            "backgroundcolor": "#E5ECF6",
            "gridcolor": "white",
            "gridwidth": 2,
            "linecolor": "white",
            "showbackground": true,
            "ticks": "",
            "zerolinecolor": "white"
           }
          },
          "shapedefaults": {
           "line": {
            "color": "#2a3f5f"
           }
          },
          "ternary": {
           "aaxis": {
            "gridcolor": "white",
            "linecolor": "white",
            "ticks": ""
           },
           "baxis": {
            "gridcolor": "white",
            "linecolor": "white",
            "ticks": ""
           },
           "bgcolor": "#E5ECF6",
           "caxis": {
            "gridcolor": "white",
            "linecolor": "white",
            "ticks": ""
           }
          },
          "title": {
           "x": 0.05
          },
          "xaxis": {
           "automargin": true,
           "gridcolor": "white",
           "linecolor": "white",
           "ticks": "",
           "title": {
            "standoff": 15
           },
           "zerolinecolor": "white",
           "zerolinewidth": 2
          },
          "yaxis": {
           "automargin": true,
           "gridcolor": "white",
           "linecolor": "white",
           "ticks": "",
           "title": {
            "standoff": 15
           },
           "zerolinecolor": "white",
           "zerolinewidth": 2
          }
         }
        },
        "title": {
         "text": "Asset Count and Total Flex Volume by Market and Hour from the Optimization model"
        },
        "xaxis": {
         "anchor": "y",
         "domain": [
          0,
          0.94
         ],
         "title": {
          "text": "Hours"
         }
        },
        "yaxis": {
         "anchor": "x",
         "domain": [
          0,
          1
         ],
         "title": {
          "text": "Asset Count"
         }
        },
        "yaxis2": {
         "anchor": "x",
         "overlaying": "y",
         "side": "right",
         "title": {
          "text": "Total Flex Volume"
         }
        }
       }
      }
     },
     "metadata": {},
     "output_type": "display_data"
    }
   ],
   "source": [
    "make_plots_for_sol(market_count_dict, y_axis = \"Asset Count\")"
   ]
  },
  {
   "cell_type": "code",
   "execution_count": 336,
   "metadata": {},
   "outputs": [
    {
     "data": {
      "application/vnd.plotly.v1+json": {
       "config": {
        "plotlyServerURL": "https://plot.ly"
       },
       "data": [
        {
         "mode": "markers",
         "name": "Asset Count - aFRR up_NO5",
         "type": "scatter",
         "x": [
          "2023-06-20T00:00:00+02:00",
          "2023-06-20T01:00:00+02:00",
          "2023-06-20T02:00:00+02:00",
          "2023-06-20T03:00:00+02:00",
          "2023-06-20T04:00:00+02:00",
          "2023-06-20T05:00:00+02:00",
          "2023-06-20T06:00:00+02:00",
          "2023-06-20T07:00:00+02:00",
          "2023-06-20T08:00:00+02:00",
          "2023-06-20T09:00:00+02:00",
          "2023-06-20T10:00:00+02:00",
          "2023-06-20T11:00:00+02:00",
          "2023-06-20T12:00:00+02:00",
          "2023-06-20T13:00:00+02:00",
          "2023-06-20T14:00:00+02:00",
          "2023-06-20T15:00:00+02:00",
          "2023-06-20T16:00:00+02:00",
          "2023-06-20T17:00:00+02:00",
          "2023-06-20T18:00:00+02:00",
          "2023-06-20T19:00:00+02:00",
          "2023-06-20T20:00:00+02:00",
          "2023-06-20T21:00:00+02:00",
          "2023-06-20T22:00:00+02:00",
          "2023-06-20T23:00:00+02:00",
          "2023-06-21T00:00:00+02:00",
          "2023-06-21T01:00:00+02:00",
          "2023-06-21T02:00:00+02:00",
          "2023-06-21T03:00:00+02:00",
          "2023-06-21T04:00:00+02:00",
          "2023-06-21T05:00:00+02:00",
          "2023-06-21T06:00:00+02:00",
          "2023-06-21T07:00:00+02:00",
          "2023-06-21T08:00:00+02:00",
          "2023-06-21T09:00:00+02:00",
          "2023-06-21T10:00:00+02:00",
          "2023-06-21T11:00:00+02:00",
          "2023-06-21T12:00:00+02:00",
          "2023-06-21T13:00:00+02:00",
          "2023-06-21T14:00:00+02:00",
          "2023-06-21T15:00:00+02:00",
          "2023-06-21T16:00:00+02:00",
          "2023-06-21T17:00:00+02:00",
          "2023-06-21T18:00:00+02:00",
          "2023-06-21T19:00:00+02:00",
          "2023-06-21T20:00:00+02:00",
          "2023-06-21T21:00:00+02:00",
          "2023-06-21T22:00:00+02:00",
          "2023-06-21T23:00:00+02:00",
          "2023-06-22T00:00:00+02:00",
          "2023-06-22T01:00:00+02:00",
          "2023-06-22T02:00:00+02:00",
          "2023-06-22T03:00:00+02:00",
          "2023-06-22T04:00:00+02:00",
          "2023-06-22T05:00:00+02:00",
          "2023-06-22T06:00:00+02:00",
          "2023-06-22T07:00:00+02:00",
          "2023-06-22T08:00:00+02:00",
          "2023-06-22T09:00:00+02:00",
          "2023-06-22T10:00:00+02:00",
          "2023-06-22T11:00:00+02:00",
          "2023-06-22T12:00:00+02:00",
          "2023-06-22T13:00:00+02:00",
          "2023-06-22T14:00:00+02:00",
          "2023-06-22T15:00:00+02:00",
          "2023-06-22T16:00:00+02:00",
          "2023-06-22T17:00:00+02:00",
          "2023-06-22T18:00:00+02:00",
          "2023-06-22T19:00:00+02:00",
          "2023-06-22T20:00:00+02:00",
          "2023-06-22T21:00:00+02:00",
          "2023-06-22T22:00:00+02:00",
          "2023-06-22T23:00:00+02:00",
          "2023-06-23T00:00:00+02:00",
          "2023-06-23T01:00:00+02:00",
          "2023-06-23T02:00:00+02:00",
          "2023-06-23T03:00:00+02:00",
          "2023-06-23T04:00:00+02:00",
          "2023-06-23T05:00:00+02:00",
          "2023-06-23T06:00:00+02:00",
          "2023-06-23T07:00:00+02:00",
          "2023-06-23T08:00:00+02:00",
          "2023-06-23T09:00:00+02:00",
          "2023-06-23T10:00:00+02:00",
          "2023-06-23T11:00:00+02:00",
          "2023-06-23T12:00:00+02:00",
          "2023-06-23T13:00:00+02:00",
          "2023-06-23T14:00:00+02:00",
          "2023-06-23T15:00:00+02:00",
          "2023-06-23T16:00:00+02:00",
          "2023-06-23T17:00:00+02:00",
          "2023-06-23T18:00:00+02:00",
          "2023-06-23T19:00:00+02:00",
          "2023-06-23T20:00:00+02:00",
          "2023-06-23T21:00:00+02:00",
          "2023-06-23T22:00:00+02:00",
          "2023-06-23T23:00:00+02:00",
          "2023-06-24T00:00:00+02:00",
          "2023-06-24T01:00:00+02:00",
          "2023-06-24T02:00:00+02:00",
          "2023-06-24T03:00:00+02:00",
          "2023-06-24T04:00:00+02:00",
          "2023-06-24T05:00:00+02:00",
          "2023-06-24T06:00:00+02:00",
          "2023-06-24T07:00:00+02:00",
          "2023-06-24T08:00:00+02:00",
          "2023-06-24T10:00:00+02:00"
         ],
         "xaxis": "x",
         "y": [
          893,
          893,
          893,
          893,
          893,
          893,
          893,
          893,
          893,
          893,
          893,
          893,
          893,
          893,
          893,
          893,
          893,
          893,
          893,
          893,
          893,
          893,
          893,
          893,
          893,
          893,
          893,
          893,
          893,
          893,
          893,
          893,
          893,
          437,
          437,
          437,
          437,
          437,
          437,
          437,
          437,
          437,
          437,
          437,
          437,
          437,
          437,
          437,
          437,
          437,
          893,
          893,
          893,
          893,
          893,
          893,
          893,
          437,
          437,
          437,
          437,
          437,
          437,
          437,
          437,
          437,
          437,
          437,
          437,
          437,
          437,
          437,
          893,
          893,
          893,
          893,
          893,
          893,
          893,
          893,
          893,
          893,
          893,
          893,
          893,
          893,
          893,
          893,
          893,
          893,
          893,
          893,
          893,
          893,
          893,
          893,
          437,
          893,
          893,
          893,
          893,
          893,
          893,
          893,
          893,
          893
         ],
         "yaxis": "y"
        },
        {
         "mode": "markers",
         "name": "Asset Count - FCR_N_D_2_NO5",
         "type": "scatter",
         "x": [
          "2023-06-21T09:00:00+02:00",
          "2023-06-21T10:00:00+02:00",
          "2023-06-21T11:00:00+02:00",
          "2023-06-21T12:00:00+02:00",
          "2023-06-21T13:00:00+02:00",
          "2023-06-21T14:00:00+02:00",
          "2023-06-21T15:00:00+02:00",
          "2023-06-21T16:00:00+02:00",
          "2023-06-21T17:00:00+02:00",
          "2023-06-21T18:00:00+02:00",
          "2023-06-21T19:00:00+02:00",
          "2023-06-21T20:00:00+02:00",
          "2023-06-21T21:00:00+02:00",
          "2023-06-21T22:00:00+02:00",
          "2023-06-21T23:00:00+02:00",
          "2023-06-22T00:00:00+02:00",
          "2023-06-22T01:00:00+02:00",
          "2023-06-22T09:00:00+02:00",
          "2023-06-22T10:00:00+02:00",
          "2023-06-22T11:00:00+02:00",
          "2023-06-22T12:00:00+02:00",
          "2023-06-22T13:00:00+02:00",
          "2023-06-22T14:00:00+02:00",
          "2023-06-22T15:00:00+02:00",
          "2023-06-22T16:00:00+02:00",
          "2023-06-22T17:00:00+02:00",
          "2023-06-22T18:00:00+02:00",
          "2023-06-22T19:00:00+02:00",
          "2023-06-22T20:00:00+02:00",
          "2023-06-22T21:00:00+02:00",
          "2023-06-22T22:00:00+02:00",
          "2023-06-22T23:00:00+02:00",
          "2023-06-24T00:00:00+02:00",
          "2023-06-24T14:00:00+02:00",
          "2023-06-24T15:00:00+02:00",
          "2023-06-24T16:00:00+02:00",
          "2023-06-24T17:00:00+02:00",
          "2023-06-24T18:00:00+02:00",
          "2023-06-24T19:00:00+02:00",
          "2023-06-24T20:00:00+02:00",
          "2023-06-25T13:00:00+02:00",
          "2023-06-25T14:00:00+02:00",
          "2023-06-25T16:00:00+02:00",
          "2023-06-25T17:00:00+02:00",
          "2023-06-25T18:00:00+02:00",
          "2023-06-25T19:00:00+02:00",
          "2023-06-25T20:00:00+02:00",
          "2023-06-25T21:00:00+02:00",
          "2023-06-25T22:00:00+02:00",
          "2023-06-25T23:00:00+02:00"
         ],
         "xaxis": "x",
         "y": [
          494,
          494,
          494,
          494,
          494,
          494,
          494,
          494,
          494,
          494,
          494,
          494,
          494,
          494,
          494,
          494,
          494,
          494,
          494,
          494,
          494,
          494,
          494,
          494,
          494,
          494,
          494,
          494,
          494,
          494,
          494,
          494,
          494,
          98,
          89,
          85,
          82,
          96,
          99,
          72,
          494,
          494,
          494,
          494,
          494,
          494,
          494,
          494,
          494,
          494
         ],
         "yaxis": "y"
        },
        {
         "mode": "markers",
         "name": "Asset Count - aFRR down_NO5",
         "type": "scatter",
         "x": [
          "2023-06-24T09:00:00+02:00",
          "2023-06-24T11:00:00+02:00",
          "2023-06-24T12:00:00+02:00",
          "2023-06-24T13:00:00+02:00",
          "2023-06-24T14:00:00+02:00",
          "2023-06-24T15:00:00+02:00",
          "2023-06-24T16:00:00+02:00",
          "2023-06-24T17:00:00+02:00",
          "2023-06-24T18:00:00+02:00",
          "2023-06-24T19:00:00+02:00",
          "2023-06-24T20:00:00+02:00",
          "2023-06-24T21:00:00+02:00",
          "2023-06-24T22:00:00+02:00",
          "2023-06-24T23:00:00+02:00"
         ],
         "xaxis": "x",
         "y": [
          895,
          895,
          895,
          895,
          805,
          813,
          815,
          820,
          810,
          810,
          832,
          895,
          895,
          895
         ],
         "yaxis": "y"
        }
       ],
       "layout": {
        "template": {
         "data": {
          "bar": [
           {
            "error_x": {
             "color": "#2a3f5f"
            },
            "error_y": {
             "color": "#2a3f5f"
            },
            "marker": {
             "line": {
              "color": "#E5ECF6",
              "width": 0.5
             },
             "pattern": {
              "fillmode": "overlay",
              "size": 10,
              "solidity": 0.2
             }
            },
            "type": "bar"
           }
          ],
          "barpolar": [
           {
            "marker": {
             "line": {
              "color": "#E5ECF6",
              "width": 0.5
             },
             "pattern": {
              "fillmode": "overlay",
              "size": 10,
              "solidity": 0.2
             }
            },
            "type": "barpolar"
           }
          ],
          "carpet": [
           {
            "aaxis": {
             "endlinecolor": "#2a3f5f",
             "gridcolor": "white",
             "linecolor": "white",
             "minorgridcolor": "white",
             "startlinecolor": "#2a3f5f"
            },
            "baxis": {
             "endlinecolor": "#2a3f5f",
             "gridcolor": "white",
             "linecolor": "white",
             "minorgridcolor": "white",
             "startlinecolor": "#2a3f5f"
            },
            "type": "carpet"
           }
          ],
          "choropleth": [
           {
            "colorbar": {
             "outlinewidth": 0,
             "ticks": ""
            },
            "type": "choropleth"
           }
          ],
          "contour": [
           {
            "colorbar": {
             "outlinewidth": 0,
             "ticks": ""
            },
            "colorscale": [
             [
              0,
              "#0d0887"
             ],
             [
              0.1111111111111111,
              "#46039f"
             ],
             [
              0.2222222222222222,
              "#7201a8"
             ],
             [
              0.3333333333333333,
              "#9c179e"
             ],
             [
              0.4444444444444444,
              "#bd3786"
             ],
             [
              0.5555555555555556,
              "#d8576b"
             ],
             [
              0.6666666666666666,
              "#ed7953"
             ],
             [
              0.7777777777777778,
              "#fb9f3a"
             ],
             [
              0.8888888888888888,
              "#fdca26"
             ],
             [
              1,
              "#f0f921"
             ]
            ],
            "type": "contour"
           }
          ],
          "contourcarpet": [
           {
            "colorbar": {
             "outlinewidth": 0,
             "ticks": ""
            },
            "type": "contourcarpet"
           }
          ],
          "heatmap": [
           {
            "colorbar": {
             "outlinewidth": 0,
             "ticks": ""
            },
            "colorscale": [
             [
              0,
              "#0d0887"
             ],
             [
              0.1111111111111111,
              "#46039f"
             ],
             [
              0.2222222222222222,
              "#7201a8"
             ],
             [
              0.3333333333333333,
              "#9c179e"
             ],
             [
              0.4444444444444444,
              "#bd3786"
             ],
             [
              0.5555555555555556,
              "#d8576b"
             ],
             [
              0.6666666666666666,
              "#ed7953"
             ],
             [
              0.7777777777777778,
              "#fb9f3a"
             ],
             [
              0.8888888888888888,
              "#fdca26"
             ],
             [
              1,
              "#f0f921"
             ]
            ],
            "type": "heatmap"
           }
          ],
          "heatmapgl": [
           {
            "colorbar": {
             "outlinewidth": 0,
             "ticks": ""
            },
            "colorscale": [
             [
              0,
              "#0d0887"
             ],
             [
              0.1111111111111111,
              "#46039f"
             ],
             [
              0.2222222222222222,
              "#7201a8"
             ],
             [
              0.3333333333333333,
              "#9c179e"
             ],
             [
              0.4444444444444444,
              "#bd3786"
             ],
             [
              0.5555555555555556,
              "#d8576b"
             ],
             [
              0.6666666666666666,
              "#ed7953"
             ],
             [
              0.7777777777777778,
              "#fb9f3a"
             ],
             [
              0.8888888888888888,
              "#fdca26"
             ],
             [
              1,
              "#f0f921"
             ]
            ],
            "type": "heatmapgl"
           }
          ],
          "histogram": [
           {
            "marker": {
             "pattern": {
              "fillmode": "overlay",
              "size": 10,
              "solidity": 0.2
             }
            },
            "type": "histogram"
           }
          ],
          "histogram2d": [
           {
            "colorbar": {
             "outlinewidth": 0,
             "ticks": ""
            },
            "colorscale": [
             [
              0,
              "#0d0887"
             ],
             [
              0.1111111111111111,
              "#46039f"
             ],
             [
              0.2222222222222222,
              "#7201a8"
             ],
             [
              0.3333333333333333,
              "#9c179e"
             ],
             [
              0.4444444444444444,
              "#bd3786"
             ],
             [
              0.5555555555555556,
              "#d8576b"
             ],
             [
              0.6666666666666666,
              "#ed7953"
             ],
             [
              0.7777777777777778,
              "#fb9f3a"
             ],
             [
              0.8888888888888888,
              "#fdca26"
             ],
             [
              1,
              "#f0f921"
             ]
            ],
            "type": "histogram2d"
           }
          ],
          "histogram2dcontour": [
           {
            "colorbar": {
             "outlinewidth": 0,
             "ticks": ""
            },
            "colorscale": [
             [
              0,
              "#0d0887"
             ],
             [
              0.1111111111111111,
              "#46039f"
             ],
             [
              0.2222222222222222,
              "#7201a8"
             ],
             [
              0.3333333333333333,
              "#9c179e"
             ],
             [
              0.4444444444444444,
              "#bd3786"
             ],
             [
              0.5555555555555556,
              "#d8576b"
             ],
             [
              0.6666666666666666,
              "#ed7953"
             ],
             [
              0.7777777777777778,
              "#fb9f3a"
             ],
             [
              0.8888888888888888,
              "#fdca26"
             ],
             [
              1,
              "#f0f921"
             ]
            ],
            "type": "histogram2dcontour"
           }
          ],
          "mesh3d": [
           {
            "colorbar": {
             "outlinewidth": 0,
             "ticks": ""
            },
            "type": "mesh3d"
           }
          ],
          "parcoords": [
           {
            "line": {
             "colorbar": {
              "outlinewidth": 0,
              "ticks": ""
             }
            },
            "type": "parcoords"
           }
          ],
          "pie": [
           {
            "automargin": true,
            "type": "pie"
           }
          ],
          "scatter": [
           {
            "fillpattern": {
             "fillmode": "overlay",
             "size": 10,
             "solidity": 0.2
            },
            "type": "scatter"
           }
          ],
          "scatter3d": [
           {
            "line": {
             "colorbar": {
              "outlinewidth": 0,
              "ticks": ""
             }
            },
            "marker": {
             "colorbar": {
              "outlinewidth": 0,
              "ticks": ""
             }
            },
            "type": "scatter3d"
           }
          ],
          "scattercarpet": [
           {
            "marker": {
             "colorbar": {
              "outlinewidth": 0,
              "ticks": ""
             }
            },
            "type": "scattercarpet"
           }
          ],
          "scattergeo": [
           {
            "marker": {
             "colorbar": {
              "outlinewidth": 0,
              "ticks": ""
             }
            },
            "type": "scattergeo"
           }
          ],
          "scattergl": [
           {
            "marker": {
             "colorbar": {
              "outlinewidth": 0,
              "ticks": ""
             }
            },
            "type": "scattergl"
           }
          ],
          "scattermapbox": [
           {
            "marker": {
             "colorbar": {
              "outlinewidth": 0,
              "ticks": ""
             }
            },
            "type": "scattermapbox"
           }
          ],
          "scatterpolar": [
           {
            "marker": {
             "colorbar": {
              "outlinewidth": 0,
              "ticks": ""
             }
            },
            "type": "scatterpolar"
           }
          ],
          "scatterpolargl": [
           {
            "marker": {
             "colorbar": {
              "outlinewidth": 0,
              "ticks": ""
             }
            },
            "type": "scatterpolargl"
           }
          ],
          "scatterternary": [
           {
            "marker": {
             "colorbar": {
              "outlinewidth": 0,
              "ticks": ""
             }
            },
            "type": "scatterternary"
           }
          ],
          "surface": [
           {
            "colorbar": {
             "outlinewidth": 0,
             "ticks": ""
            },
            "colorscale": [
             [
              0,
              "#0d0887"
             ],
             [
              0.1111111111111111,
              "#46039f"
             ],
             [
              0.2222222222222222,
              "#7201a8"
             ],
             [
              0.3333333333333333,
              "#9c179e"
             ],
             [
              0.4444444444444444,
              "#bd3786"
             ],
             [
              0.5555555555555556,
              "#d8576b"
             ],
             [
              0.6666666666666666,
              "#ed7953"
             ],
             [
              0.7777777777777778,
              "#fb9f3a"
             ],
             [
              0.8888888888888888,
              "#fdca26"
             ],
             [
              1,
              "#f0f921"
             ]
            ],
            "type": "surface"
           }
          ],
          "table": [
           {
            "cells": {
             "fill": {
              "color": "#EBF0F8"
             },
             "line": {
              "color": "white"
             }
            },
            "header": {
             "fill": {
              "color": "#C8D4E3"
             },
             "line": {
              "color": "white"
             }
            },
            "type": "table"
           }
          ]
         },
         "layout": {
          "annotationdefaults": {
           "arrowcolor": "#2a3f5f",
           "arrowhead": 0,
           "arrowwidth": 1
          },
          "autotypenumbers": "strict",
          "coloraxis": {
           "colorbar": {
            "outlinewidth": 0,
            "ticks": ""
           }
          },
          "colorscale": {
           "diverging": [
            [
             0,
             "#8e0152"
            ],
            [
             0.1,
             "#c51b7d"
            ],
            [
             0.2,
             "#de77ae"
            ],
            [
             0.3,
             "#f1b6da"
            ],
            [
             0.4,
             "#fde0ef"
            ],
            [
             0.5,
             "#f7f7f7"
            ],
            [
             0.6,
             "#e6f5d0"
            ],
            [
             0.7,
             "#b8e186"
            ],
            [
             0.8,
             "#7fbc41"
            ],
            [
             0.9,
             "#4d9221"
            ],
            [
             1,
             "#276419"
            ]
           ],
           "sequential": [
            [
             0,
             "#0d0887"
            ],
            [
             0.1111111111111111,
             "#46039f"
            ],
            [
             0.2222222222222222,
             "#7201a8"
            ],
            [
             0.3333333333333333,
             "#9c179e"
            ],
            [
             0.4444444444444444,
             "#bd3786"
            ],
            [
             0.5555555555555556,
             "#d8576b"
            ],
            [
             0.6666666666666666,
             "#ed7953"
            ],
            [
             0.7777777777777778,
             "#fb9f3a"
            ],
            [
             0.8888888888888888,
             "#fdca26"
            ],
            [
             1,
             "#f0f921"
            ]
           ],
           "sequentialminus": [
            [
             0,
             "#0d0887"
            ],
            [
             0.1111111111111111,
             "#46039f"
            ],
            [
             0.2222222222222222,
             "#7201a8"
            ],
            [
             0.3333333333333333,
             "#9c179e"
            ],
            [
             0.4444444444444444,
             "#bd3786"
            ],
            [
             0.5555555555555556,
             "#d8576b"
            ],
            [
             0.6666666666666666,
             "#ed7953"
            ],
            [
             0.7777777777777778,
             "#fb9f3a"
            ],
            [
             0.8888888888888888,
             "#fdca26"
            ],
            [
             1,
             "#f0f921"
            ]
           ]
          },
          "colorway": [
           "#636efa",
           "#EF553B",
           "#00cc96",
           "#ab63fa",
           "#FFA15A",
           "#19d3f3",
           "#FF6692",
           "#B6E880",
           "#FF97FF",
           "#FECB52"
          ],
          "font": {
           "color": "#2a3f5f"
          },
          "geo": {
           "bgcolor": "white",
           "lakecolor": "white",
           "landcolor": "#E5ECF6",
           "showlakes": true,
           "showland": true,
           "subunitcolor": "white"
          },
          "hoverlabel": {
           "align": "left"
          },
          "hovermode": "closest",
          "mapbox": {
           "style": "light"
          },
          "paper_bgcolor": "white",
          "plot_bgcolor": "#E5ECF6",
          "polar": {
           "angularaxis": {
            "gridcolor": "white",
            "linecolor": "white",
            "ticks": ""
           },
           "bgcolor": "#E5ECF6",
           "radialaxis": {
            "gridcolor": "white",
            "linecolor": "white",
            "ticks": ""
           }
          },
          "scene": {
           "xaxis": {
            "backgroundcolor": "#E5ECF6",
            "gridcolor": "white",
            "gridwidth": 2,
            "linecolor": "white",
            "showbackground": true,
            "ticks": "",
            "zerolinecolor": "white"
           },
           "yaxis": {
            "backgroundcolor": "#E5ECF6",
            "gridcolor": "white",
            "gridwidth": 2,
            "linecolor": "white",
            "showbackground": true,
            "ticks": "",
            "zerolinecolor": "white"
           },
           "zaxis": {
            "backgroundcolor": "#E5ECF6",
            "gridcolor": "white",
            "gridwidth": 2,
            "linecolor": "white",
            "showbackground": true,
            "ticks": "",
            "zerolinecolor": "white"
           }
          },
          "shapedefaults": {
           "line": {
            "color": "#2a3f5f"
           }
          },
          "ternary": {
           "aaxis": {
            "gridcolor": "white",
            "linecolor": "white",
            "ticks": ""
           },
           "baxis": {
            "gridcolor": "white",
            "linecolor": "white",
            "ticks": ""
           },
           "bgcolor": "#E5ECF6",
           "caxis": {
            "gridcolor": "white",
            "linecolor": "white",
            "ticks": ""
           }
          },
          "title": {
           "x": 0.05
          },
          "xaxis": {
           "automargin": true,
           "gridcolor": "white",
           "linecolor": "white",
           "ticks": "",
           "title": {
            "standoff": 15
           },
           "zerolinecolor": "white",
           "zerolinewidth": 2
          },
          "yaxis": {
           "automargin": true,
           "gridcolor": "white",
           "linecolor": "white",
           "ticks": "",
           "title": {
            "standoff": 15
           },
           "zerolinecolor": "white",
           "zerolinewidth": 2
          }
         }
        },
        "title": {
         "text": "Asset Count and Total Flex Volume by Market and Hour from the RL model"
        },
        "xaxis": {
         "anchor": "y",
         "domain": [
          0,
          0.94
         ],
         "title": {
          "text": "Hours"
         }
        },
        "yaxis": {
         "anchor": "x",
         "domain": [
          0,
          1
         ],
         "title": {
          "text": "Asset Count"
         }
        },
        "yaxis2": {
         "anchor": "x",
         "overlaying": "y",
         "side": "right",
         "title": {
          "text": "Total Flex Volume"
         }
        }
       }
      }
     },
     "metadata": {},
     "output_type": "display_data"
    }
   ],
   "source": [
    "make_plots_for_sol(market_count_dict, sol_name= \"RL\", rl_df= bids[98])"
   ]
  },
  {
   "cell_type": "code",
   "execution_count": 338,
   "metadata": {},
   "outputs": [
    {
     "data": {
      "application/vnd.plotly.v1+json": {
       "config": {
        "plotlyServerURL": "https://plot.ly"
       },
       "data": [
        {
         "mode": "markers",
         "type": "scatter",
         "x": [
          0,
          1,
          2,
          3,
          4,
          5,
          6,
          7,
          8,
          9,
          10,
          11,
          12,
          13,
          14,
          15,
          16,
          17,
          18,
          19,
          20,
          21,
          22,
          23,
          24,
          25,
          26,
          27,
          28,
          29,
          30,
          31,
          32,
          33,
          34,
          35,
          36,
          37,
          38,
          39,
          40,
          41,
          42,
          43,
          44,
          45,
          46,
          47,
          48,
          49,
          50,
          51,
          52,
          53,
          54,
          55,
          56,
          57,
          58,
          59,
          60,
          61,
          62,
          63,
          64,
          65,
          66,
          67,
          68,
          69,
          70,
          71,
          72,
          73,
          74,
          75,
          76,
          77,
          78,
          79,
          80,
          81,
          82,
          83,
          84,
          85,
          86,
          87,
          88,
          89,
          90,
          91,
          92,
          93,
          94,
          95,
          96,
          97,
          98,
          99
         ],
         "y": [
          5565.813255290001,
          4242.00817365,
          4124.94531895,
          4147.759205949999,
          4084.3421911700016,
          5085.29640312,
          4142.41522659,
          4924.693235420001,
          4718.085529529999,
          4159.055476379999,
          4916.430241640003,
          5458.681164390003,
          4310.495796610003,
          5053.806130109998,
          5540.867974860002,
          4969.398633159999,
          5368.303655980001,
          4863.1407191,
          4165.816954539999,
          4743.163827320001,
          4763.583077870001,
          4493.605383970002,
          5512.33078957,
          3446.998694409999,
          4237.968033970002,
          4888.87614847,
          4954.210316890003,
          4836.648304880001,
          4991.558633560001,
          4245.851813540003,
          4946.924358309999,
          5184.208699380001,
          4299.735792040002,
          4758.697305400001,
          4097.447916790001,
          4684.975794390002,
          4517.433995250003,
          4726.183713730001,
          3806.5730400899997,
          4331.916141799999,
          4930.345047070002,
          5321.765011669999,
          4204.024596919999,
          5353.565835380004,
          3804.676328840002,
          4598.438967679999,
          4823.850997040003,
          4537.6248419,
          5118.512104289999,
          3859.392416570001,
          4966.112706650002,
          4123.55287135,
          5461.0917425800035,
          4315.4168493900015,
          5098.929815309999,
          5019.251920050001,
          4892.20567124,
          5498.230750810004,
          4308.50642134,
          5551.427846530003,
          4463.088113819999,
          3101.2297450500005,
          5836.612111540006,
          4410.246582730001,
          5127.980879450001,
          3792.2802617200023,
          6270.62379149,
          5546.56952819,
          4320.533750119999,
          5971.13360827,
          5717.989136400002,
          3486.7534869299984,
          5715.8635468799985,
          5434.80637504,
          5512.817164450002,
          4319.168852900002,
          5033.207563270002,
          4668.127142130002,
          4676.69126163,
          5313.522076789999,
          4545.489316080004,
          4004.7397191700006,
          3954.17884389,
          5414.119326590001,
          4605.620669820001,
          6549.005052830001,
          6252.2797040600035,
          6128.162031700001,
          4275.5523778,
          6542.9971269299995,
          5418.1027706800005,
          5352.525700209997,
          6288.986012379999,
          5742.158986710002,
          5350.5035538500015,
          6868.035557780002,
          6632.90129575,
          5959.970858679997,
          7523.002885900003,
          6871.281343999999
         ]
        },
        {
         "mode": "lines",
         "type": "scatter",
         "x": [
          0,
          1,
          2,
          3,
          4,
          5,
          6,
          7,
          8,
          9,
          10,
          11,
          12,
          13,
          14,
          15,
          16,
          17,
          18,
          19,
          20,
          21,
          22,
          23,
          24,
          25,
          26,
          27,
          28,
          29,
          30,
          31,
          32,
          33,
          34,
          35,
          36,
          37,
          38,
          39,
          40,
          41,
          42,
          43,
          44,
          45,
          46,
          47,
          48,
          49,
          50,
          51,
          52,
          53,
          54,
          55,
          56,
          57,
          58,
          59,
          60,
          61,
          62,
          63,
          64,
          65,
          66,
          67,
          68,
          69,
          70,
          71,
          72,
          73,
          74,
          75,
          76,
          77,
          78,
          79,
          80,
          81,
          82,
          83,
          84,
          85,
          86,
          87,
          88,
          89,
          90,
          91,
          92,
          93,
          94,
          95,
          96,
          97,
          98,
          99
         ],
         "y": [
          5565.813255290001,
          4242.00817365,
          4124.94531895,
          4147.759205949999,
          4084.3421911700016,
          5085.29640312,
          4142.41522659,
          4924.693235420001,
          4718.085529529999,
          4159.055476379999,
          4916.430241640003,
          5458.681164390003,
          4310.495796610003,
          5053.806130109998,
          5540.867974860002,
          4969.398633159999,
          5368.303655980001,
          4863.1407191,
          4165.816954539999,
          4743.163827320001,
          4763.583077870001,
          4493.605383970002,
          5512.33078957,
          3446.998694409999,
          4237.968033970002,
          4888.87614847,
          4954.210316890003,
          4836.648304880001,
          4991.558633560001,
          4245.851813540003,
          4946.924358309999,
          5184.208699380001,
          4299.735792040002,
          4758.697305400001,
          4097.447916790001,
          4684.975794390002,
          4517.433995250003,
          4726.183713730001,
          3806.5730400899997,
          4331.916141799999,
          4930.345047070002,
          5321.765011669999,
          4204.024596919999,
          5353.565835380004,
          3804.676328840002,
          4598.438967679999,
          4823.850997040003,
          4537.6248419,
          5118.512104289999,
          3859.392416570001,
          4966.112706650002,
          4123.55287135,
          5461.0917425800035,
          4315.4168493900015,
          5098.929815309999,
          5019.251920050001,
          4892.20567124,
          5498.230750810004,
          4308.50642134,
          5551.427846530003,
          4463.088113819999,
          3101.2297450500005,
          5836.612111540006,
          4410.246582730001,
          5127.980879450001,
          3792.2802617200023,
          6270.62379149,
          5546.56952819,
          4320.533750119999,
          5971.13360827,
          5717.989136400002,
          3486.7534869299984,
          5715.8635468799985,
          5434.80637504,
          5512.817164450002,
          4319.168852900002,
          5033.207563270002,
          4668.127142130002,
          4676.69126163,
          5313.522076789999,
          4545.489316080004,
          4004.7397191700006,
          3954.17884389,
          5414.119326590001,
          4605.620669820001,
          6549.005052830001,
          6252.2797040600035,
          6128.162031700001,
          4275.5523778,
          6542.9971269299995,
          5418.1027706800005,
          5352.525700209997,
          6288.986012379999,
          5742.158986710002,
          5350.5035538500015,
          6868.035557780002,
          6632.90129575,
          5959.970858679997,
          7523.002885900003,
          6871.281343999999
         ]
        }
       ],
       "layout": {
        "template": {
         "data": {
          "bar": [
           {
            "error_x": {
             "color": "#2a3f5f"
            },
            "error_y": {
             "color": "#2a3f5f"
            },
            "marker": {
             "line": {
              "color": "#E5ECF6",
              "width": 0.5
             },
             "pattern": {
              "fillmode": "overlay",
              "size": 10,
              "solidity": 0.2
             }
            },
            "type": "bar"
           }
          ],
          "barpolar": [
           {
            "marker": {
             "line": {
              "color": "#E5ECF6",
              "width": 0.5
             },
             "pattern": {
              "fillmode": "overlay",
              "size": 10,
              "solidity": 0.2
             }
            },
            "type": "barpolar"
           }
          ],
          "carpet": [
           {
            "aaxis": {
             "endlinecolor": "#2a3f5f",
             "gridcolor": "white",
             "linecolor": "white",
             "minorgridcolor": "white",
             "startlinecolor": "#2a3f5f"
            },
            "baxis": {
             "endlinecolor": "#2a3f5f",
             "gridcolor": "white",
             "linecolor": "white",
             "minorgridcolor": "white",
             "startlinecolor": "#2a3f5f"
            },
            "type": "carpet"
           }
          ],
          "choropleth": [
           {
            "colorbar": {
             "outlinewidth": 0,
             "ticks": ""
            },
            "type": "choropleth"
           }
          ],
          "contour": [
           {
            "colorbar": {
             "outlinewidth": 0,
             "ticks": ""
            },
            "colorscale": [
             [
              0,
              "#0d0887"
             ],
             [
              0.1111111111111111,
              "#46039f"
             ],
             [
              0.2222222222222222,
              "#7201a8"
             ],
             [
              0.3333333333333333,
              "#9c179e"
             ],
             [
              0.4444444444444444,
              "#bd3786"
             ],
             [
              0.5555555555555556,
              "#d8576b"
             ],
             [
              0.6666666666666666,
              "#ed7953"
             ],
             [
              0.7777777777777778,
              "#fb9f3a"
             ],
             [
              0.8888888888888888,
              "#fdca26"
             ],
             [
              1,
              "#f0f921"
             ]
            ],
            "type": "contour"
           }
          ],
          "contourcarpet": [
           {
            "colorbar": {
             "outlinewidth": 0,
             "ticks": ""
            },
            "type": "contourcarpet"
           }
          ],
          "heatmap": [
           {
            "colorbar": {
             "outlinewidth": 0,
             "ticks": ""
            },
            "colorscale": [
             [
              0,
              "#0d0887"
             ],
             [
              0.1111111111111111,
              "#46039f"
             ],
             [
              0.2222222222222222,
              "#7201a8"
             ],
             [
              0.3333333333333333,
              "#9c179e"
             ],
             [
              0.4444444444444444,
              "#bd3786"
             ],
             [
              0.5555555555555556,
              "#d8576b"
             ],
             [
              0.6666666666666666,
              "#ed7953"
             ],
             [
              0.7777777777777778,
              "#fb9f3a"
             ],
             [
              0.8888888888888888,
              "#fdca26"
             ],
             [
              1,
              "#f0f921"
             ]
            ],
            "type": "heatmap"
           }
          ],
          "heatmapgl": [
           {
            "colorbar": {
             "outlinewidth": 0,
             "ticks": ""
            },
            "colorscale": [
             [
              0,
              "#0d0887"
             ],
             [
              0.1111111111111111,
              "#46039f"
             ],
             [
              0.2222222222222222,
              "#7201a8"
             ],
             [
              0.3333333333333333,
              "#9c179e"
             ],
             [
              0.4444444444444444,
              "#bd3786"
             ],
             [
              0.5555555555555556,
              "#d8576b"
             ],
             [
              0.6666666666666666,
              "#ed7953"
             ],
             [
              0.7777777777777778,
              "#fb9f3a"
             ],
             [
              0.8888888888888888,
              "#fdca26"
             ],
             [
              1,
              "#f0f921"
             ]
            ],
            "type": "heatmapgl"
           }
          ],
          "histogram": [
           {
            "marker": {
             "pattern": {
              "fillmode": "overlay",
              "size": 10,
              "solidity": 0.2
             }
            },
            "type": "histogram"
           }
          ],
          "histogram2d": [
           {
            "colorbar": {
             "outlinewidth": 0,
             "ticks": ""
            },
            "colorscale": [
             [
              0,
              "#0d0887"
             ],
             [
              0.1111111111111111,
              "#46039f"
             ],
             [
              0.2222222222222222,
              "#7201a8"
             ],
             [
              0.3333333333333333,
              "#9c179e"
             ],
             [
              0.4444444444444444,
              "#bd3786"
             ],
             [
              0.5555555555555556,
              "#d8576b"
             ],
             [
              0.6666666666666666,
              "#ed7953"
             ],
             [
              0.7777777777777778,
              "#fb9f3a"
             ],
             [
              0.8888888888888888,
              "#fdca26"
             ],
             [
              1,
              "#f0f921"
             ]
            ],
            "type": "histogram2d"
           }
          ],
          "histogram2dcontour": [
           {
            "colorbar": {
             "outlinewidth": 0,
             "ticks": ""
            },
            "colorscale": [
             [
              0,
              "#0d0887"
             ],
             [
              0.1111111111111111,
              "#46039f"
             ],
             [
              0.2222222222222222,
              "#7201a8"
             ],
             [
              0.3333333333333333,
              "#9c179e"
             ],
             [
              0.4444444444444444,
              "#bd3786"
             ],
             [
              0.5555555555555556,
              "#d8576b"
             ],
             [
              0.6666666666666666,
              "#ed7953"
             ],
             [
              0.7777777777777778,
              "#fb9f3a"
             ],
             [
              0.8888888888888888,
              "#fdca26"
             ],
             [
              1,
              "#f0f921"
             ]
            ],
            "type": "histogram2dcontour"
           }
          ],
          "mesh3d": [
           {
            "colorbar": {
             "outlinewidth": 0,
             "ticks": ""
            },
            "type": "mesh3d"
           }
          ],
          "parcoords": [
           {
            "line": {
             "colorbar": {
              "outlinewidth": 0,
              "ticks": ""
             }
            },
            "type": "parcoords"
           }
          ],
          "pie": [
           {
            "automargin": true,
            "type": "pie"
           }
          ],
          "scatter": [
           {
            "fillpattern": {
             "fillmode": "overlay",
             "size": 10,
             "solidity": 0.2
            },
            "type": "scatter"
           }
          ],
          "scatter3d": [
           {
            "line": {
             "colorbar": {
              "outlinewidth": 0,
              "ticks": ""
             }
            },
            "marker": {
             "colorbar": {
              "outlinewidth": 0,
              "ticks": ""
             }
            },
            "type": "scatter3d"
           }
          ],
          "scattercarpet": [
           {
            "marker": {
             "colorbar": {
              "outlinewidth": 0,
              "ticks": ""
             }
            },
            "type": "scattercarpet"
           }
          ],
          "scattergeo": [
           {
            "marker": {
             "colorbar": {
              "outlinewidth": 0,
              "ticks": ""
             }
            },
            "type": "scattergeo"
           }
          ],
          "scattergl": [
           {
            "marker": {
             "colorbar": {
              "outlinewidth": 0,
              "ticks": ""
             }
            },
            "type": "scattergl"
           }
          ],
          "scattermapbox": [
           {
            "marker": {
             "colorbar": {
              "outlinewidth": 0,
              "ticks": ""
             }
            },
            "type": "scattermapbox"
           }
          ],
          "scatterpolar": [
           {
            "marker": {
             "colorbar": {
              "outlinewidth": 0,
              "ticks": ""
             }
            },
            "type": "scatterpolar"
           }
          ],
          "scatterpolargl": [
           {
            "marker": {
             "colorbar": {
              "outlinewidth": 0,
              "ticks": ""
             }
            },
            "type": "scatterpolargl"
           }
          ],
          "scatterternary": [
           {
            "marker": {
             "colorbar": {
              "outlinewidth": 0,
              "ticks": ""
             }
            },
            "type": "scatterternary"
           }
          ],
          "surface": [
           {
            "colorbar": {
             "outlinewidth": 0,
             "ticks": ""
            },
            "colorscale": [
             [
              0,
              "#0d0887"
             ],
             [
              0.1111111111111111,
              "#46039f"
             ],
             [
              0.2222222222222222,
              "#7201a8"
             ],
             [
              0.3333333333333333,
              "#9c179e"
             ],
             [
              0.4444444444444444,
              "#bd3786"
             ],
             [
              0.5555555555555556,
              "#d8576b"
             ],
             [
              0.6666666666666666,
              "#ed7953"
             ],
             [
              0.7777777777777778,
              "#fb9f3a"
             ],
             [
              0.8888888888888888,
              "#fdca26"
             ],
             [
              1,
              "#f0f921"
             ]
            ],
            "type": "surface"
           }
          ],
          "table": [
           {
            "cells": {
             "fill": {
              "color": "#EBF0F8"
             },
             "line": {
              "color": "white"
             }
            },
            "header": {
             "fill": {
              "color": "#C8D4E3"
             },
             "line": {
              "color": "white"
             }
            },
            "type": "table"
           }
          ]
         },
         "layout": {
          "annotationdefaults": {
           "arrowcolor": "#2a3f5f",
           "arrowhead": 0,
           "arrowwidth": 1
          },
          "autotypenumbers": "strict",
          "coloraxis": {
           "colorbar": {
            "outlinewidth": 0,
            "ticks": ""
           }
          },
          "colorscale": {
           "diverging": [
            [
             0,
             "#8e0152"
            ],
            [
             0.1,
             "#c51b7d"
            ],
            [
             0.2,
             "#de77ae"
            ],
            [
             0.3,
             "#f1b6da"
            ],
            [
             0.4,
             "#fde0ef"
            ],
            [
             0.5,
             "#f7f7f7"
            ],
            [
             0.6,
             "#e6f5d0"
            ],
            [
             0.7,
             "#b8e186"
            ],
            [
             0.8,
             "#7fbc41"
            ],
            [
             0.9,
             "#4d9221"
            ],
            [
             1,
             "#276419"
            ]
           ],
           "sequential": [
            [
             0,
             "#0d0887"
            ],
            [
             0.1111111111111111,
             "#46039f"
            ],
            [
             0.2222222222222222,
             "#7201a8"
            ],
            [
             0.3333333333333333,
             "#9c179e"
            ],
            [
             0.4444444444444444,
             "#bd3786"
            ],
            [
             0.5555555555555556,
             "#d8576b"
            ],
            [
             0.6666666666666666,
             "#ed7953"
            ],
            [
             0.7777777777777778,
             "#fb9f3a"
            ],
            [
             0.8888888888888888,
             "#fdca26"
            ],
            [
             1,
             "#f0f921"
            ]
           ],
           "sequentialminus": [
            [
             0,
             "#0d0887"
            ],
            [
             0.1111111111111111,
             "#46039f"
            ],
            [
             0.2222222222222222,
             "#7201a8"
            ],
            [
             0.3333333333333333,
             "#9c179e"
            ],
            [
             0.4444444444444444,
             "#bd3786"
            ],
            [
             0.5555555555555556,
             "#d8576b"
            ],
            [
             0.6666666666666666,
             "#ed7953"
            ],
            [
             0.7777777777777778,
             "#fb9f3a"
            ],
            [
             0.8888888888888888,
             "#fdca26"
            ],
            [
             1,
             "#f0f921"
            ]
           ]
          },
          "colorway": [
           "#636efa",
           "#EF553B",
           "#00cc96",
           "#ab63fa",
           "#FFA15A",
           "#19d3f3",
           "#FF6692",
           "#B6E880",
           "#FF97FF",
           "#FECB52"
          ],
          "font": {
           "color": "#2a3f5f"
          },
          "geo": {
           "bgcolor": "white",
           "lakecolor": "white",
           "landcolor": "#E5ECF6",
           "showlakes": true,
           "showland": true,
           "subunitcolor": "white"
          },
          "hoverlabel": {
           "align": "left"
          },
          "hovermode": "closest",
          "mapbox": {
           "style": "light"
          },
          "paper_bgcolor": "white",
          "plot_bgcolor": "#E5ECF6",
          "polar": {
           "angularaxis": {
            "gridcolor": "white",
            "linecolor": "white",
            "ticks": ""
           },
           "bgcolor": "#E5ECF6",
           "radialaxis": {
            "gridcolor": "white",
            "linecolor": "white",
            "ticks": ""
           }
          },
          "scene": {
           "xaxis": {
            "backgroundcolor": "#E5ECF6",
            "gridcolor": "white",
            "gridwidth": 2,
            "linecolor": "white",
            "showbackground": true,
            "ticks": "",
            "zerolinecolor": "white"
           },
           "yaxis": {
            "backgroundcolor": "#E5ECF6",
            "gridcolor": "white",
            "gridwidth": 2,
            "linecolor": "white",
            "showbackground": true,
            "ticks": "",
            "zerolinecolor": "white"
           },
           "zaxis": {
            "backgroundcolor": "#E5ECF6",
            "gridcolor": "white",
            "gridwidth": 2,
            "linecolor": "white",
            "showbackground": true,
            "ticks": "",
            "zerolinecolor": "white"
           }
          },
          "shapedefaults": {
           "line": {
            "color": "#2a3f5f"
           }
          },
          "ternary": {
           "aaxis": {
            "gridcolor": "white",
            "linecolor": "white",
            "ticks": ""
           },
           "baxis": {
            "gridcolor": "white",
            "linecolor": "white",
            "ticks": ""
           },
           "bgcolor": "#E5ECF6",
           "caxis": {
            "gridcolor": "white",
            "linecolor": "white",
            "ticks": ""
           }
          },
          "title": {
           "x": 0.05
          },
          "xaxis": {
           "automargin": true,
           "gridcolor": "white",
           "linecolor": "white",
           "ticks": "",
           "title": {
            "standoff": 15
           },
           "zerolinecolor": "white",
           "zerolinewidth": 2
          },
          "yaxis": {
           "automargin": true,
           "gridcolor": "white",
           "linecolor": "white",
           "ticks": "",
           "title": {
            "standoff": 15
           },
           "zerolinecolor": "white",
           "zerolinewidth": 2
          }
         }
        },
        "title": {
         "text": "Revenue per episode for RL model"
        },
        "xaxis": {
         "title": {
          "text": "Episode"
         }
        },
        "yaxis": {
         "title": {
          "text": "Revenue"
         }
        }
       }
      }
     },
     "metadata": {},
     "output_type": "display_data"
    }
   ],
   "source": [
    "fig = go.Figure()\n",
    "fig.add_trace(go.Scatter(x= [i for i in range(len(revenues.keys()))], y= [i for i in revenues.values()], mode= \"markers\"))\n",
    "# add title and axis labels\n",
    "fig.update_layout(title_text=\"Revenue per episode for RL model\", xaxis_title=\"Episode\", yaxis_title=\"Revenue\")\n",
    "# add a regression line for the revenue values for each episode.\n",
    "fig.add_trace(go.Scatter(x= [i for i in range(len(revenues.keys()))], y= [i for i in revenues.values()], mode= \"lines\"))\n",
    "fig.show()"
   ]
  },
  {
   "cell_type": "code",
   "execution_count": 349,
   "metadata": {},
   "outputs": [
    {
     "data": {
      "text/plain": [
       "[array([437.51433855, 437.51433855, 437.51433855, 437.51433855,\n",
       "        437.51433855, 437.51433855, 437.51433855, 437.51433855]),\n",
       " array([444.82379809, 444.82379809, 444.82379809, 444.82379809,\n",
       "        444.82379809, 444.82379809, 444.82379809, 444.82379809]),\n",
       " array([542.93879871, 542.93879871, 542.93879871, 542.93879871,\n",
       "        542.93879871, 542.93879871, 542.93879871, 542.93879871])]"
      ]
     },
     "execution_count": 349,
     "metadata": {},
     "output_type": "execute_result"
    }
   ],
   "source": [
    "weights"
   ]
  },
  {
   "cell_type": "code",
   "execution_count": 346,
   "metadata": {},
   "outputs": [],
   "source": [
    "def feasibility_check_for_rl_model(bids : dict, chosen_assets : list):\n",
    "    \"\"\"Function to check if the bids that were made are feasible. Especially want to check the flex_volume for each asset and see if it is enough to cover the bids that were made\n",
    "\n",
    "    Args:\n",
    "        bids (dict): dictionary that holds control over the final bids for each market and each hour\n",
    "        chosen_assets (list): list of the chosen assets for each market and each hour\n",
    "\n",
    "    Returns:\n",
    "        bool: True if the bids are feasible, False if not\n",
    "    \"\"\"\n",
    "    for episode in bids.keys():\n",
    "        for hour in bids[episode][\"Hour\"].unique():\n",
    "            for market in bids[episode][\"Market\"].loc[bids[episode][\"Hour\"] == hour]:\n",
    "                #if not np.isnan(bids[episode][market].loc[hour]) and bids[episode][market].loc[hour] > 0:\n",
    "                if \"up\" in market or \"FCR_D\" in market:\n",
    "                    up_flex_vol = sum([asset.up_flex_volume[\"value\"].loc[asset.up_flex_volume[\"Time(Local)\"] == hour].values[0] for asset in chosen_assets[episode][(market, hour)][0]])\n",
    "                    if up_flex_vol < 1:\n",
    "                        print(f\"up_flex_volume for {market} at {hour} in episode {episode} is only {up_flex_vol}\")\n",
    "                        return False\n",
    "                    else:\n",
    "                        continue\n",
    "                elif \"down\" in market:\n",
    "                    down_flex_vol = sum([asset.down_flex_volume[\"value\"].loc[asset.down_flex_volume[\"Time(Local)\"] == hour].values[0] for asset in chosen_assets[episode][(market, hour)][0]])\n",
    "                    if down_flex_vol< 1:\n",
    "                        print(f\"down_flex_volume for {market} at {hour} in episode {episode} is only {down_flex_vol}\")\n",
    "                        return False\n",
    "                    else:\n",
    "                        continue\n",
    "                else:\n",
    "                    \"\"\"print(f\" episode : {type(episode)}\")\n",
    "                    print(f\" hour : {hour}\")\n",
    "                    print(f\" market : {market}\")\n",
    "                    print([asset.direction for asset in chosen_assets[episode][(market, hour)][0]])\"\"\"\n",
    "                    #up_flex_vol = sum([asset.up_flex_volume[\"value\"].loc[asset.up_flex_volume[\"Time(Local)\"] == hour].values[0] for asset in chosen_assets[episode][(market, hour)]])\n",
    "                    total_vol = 0\n",
    "                    for asset in chosen_assets[episode][(market, hour)][0]:\n",
    "                        if asset.direction == \"both\":\n",
    "                            total_vol += min(asset.up_flex_volume[\"value\"].loc[asset.up_flex_volume[\"Time(Local)\"] == hour].values[0], asset.down_flex_volume[\"value\"].loc[asset.down_flex_volume[\"Time(Local)\"] == hour].values[0])\n",
    "                        elif asset.direction == \"up\":\n",
    "                            total_vol += asset.up_flex_volume[\"value\"].loc[asset.up_flex_volume[\"Time(Local)\"] == hour].values[0]\n",
    "                        else:\n",
    "                            total_vol += asset.down_flex_volume[\"value\"].loc[asset.down_flex_volume[\"Time(Local)\"] == hour].values[0]\n",
    "                    if total_vol < 1:\n",
    "                        print(f\"total_flex_vol for {market} at {hour} in episode {episode} is only {total_vol}\")\n",
    "                        return False\n",
    "        \n",
    "    return True"
   ]
  },
  {
   "cell_type": "code",
   "execution_count": 347,
   "metadata": {},
   "outputs": [
    {
     "data": {
      "text/plain": [
       "Index(['Market', 'Hour', 'Asset Count', 'Total Flex Volume'], dtype='object')"
      ]
     },
     "execution_count": 347,
     "metadata": {},
     "output_type": "execute_result"
    }
   ],
   "source": [
    "bids[0].columns"
   ]
  },
  {
   "cell_type": "code",
   "execution_count": 348,
   "metadata": {},
   "outputs": [
    {
     "data": {
      "text/plain": [
       "True"
      ]
     },
     "execution_count": 348,
     "metadata": {},
     "output_type": "execute_result"
    }
   ],
   "source": [
    "feasibility_check_for_rl_model(bids, asset_bids)"
   ]
  },
  {
   "cell_type": "code",
   "execution_count": 92,
   "metadata": {},
   "outputs": [
    {
     "data": {
      "text/plain": [
       "Timestamp('2023-06-20 01:00:00+0200', tz='Europe/Oslo')"
      ]
     },
     "execution_count": 92,
     "metadata": {},
     "output_type": "execute_result"
    }
   ],
   "source": [
    "bids[0].index[1]"
   ]
  },
  {
   "cell_type": "code",
   "execution_count": 94,
   "metadata": {},
   "outputs": [
    {
     "data": {
      "text/plain": [
       "[707057500029643616, 707057500029643623, 707057500029182443]"
      ]
     },
     "execution_count": 94,
     "metadata": {},
     "output_type": "execute_result"
    }
   ],
   "source": [
    "[asset.meter_id for asset in asset_bids[0][(\"aFRR up_NO5\", bids[0].index[1])]]"
   ]
  },
  {
   "cell_type": "code",
   "execution_count": 97,
   "metadata": {},
   "outputs": [],
   "source": [
    "chosen_assets = asset_bids[0][(\"aFRR up_NO5\", bids[0].index[1])]"
   ]
  },
  {
   "cell_type": "code",
   "execution_count": 98,
   "metadata": {},
   "outputs": [],
   "source": [
    "total_flex_volume = sum(load.up_flex_volume[\"value\"].loc[load.up_flex_volume[\"Time(Local)\"] == bids[0].index[1]].values[0] for load in chosen_assets)\n"
   ]
  },
  {
   "cell_type": "code",
   "execution_count": 99,
   "metadata": {},
   "outputs": [
    {
     "data": {
      "text/plain": [
       "1.1752"
      ]
     },
     "execution_count": 99,
     "metadata": {},
     "output_type": "execute_result"
    }
   ],
   "source": [
    "total_flex_volume"
   ]
  },
  {
   "cell_type": "code",
   "execution_count": null,
   "metadata": {},
   "outputs": [],
   "source": []
  }
 ],
 "metadata": {
  "kernelspec": {
   "display_name": "myenv",
   "language": "python",
   "name": "python3"
  },
  "language_info": {
   "codemirror_mode": {
    "name": "ipython",
    "version": 3
   },
   "file_extension": ".py",
   "mimetype": "text/x-python",
   "name": "python",
   "nbconvert_exporter": "python",
   "pygments_lexer": "ipython3",
   "version": "3.11.7"
  }
 },
 "nbformat": 4,
 "nbformat_minor": 2
}
