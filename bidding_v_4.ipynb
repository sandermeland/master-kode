{
 "cells": [
  {
   "cell_type": "markdown",
   "metadata": {},
   "source": [
    "### In this file I will try to further develop the model and use the inspiration from the previous bidding files. The goal is to end up with a deep reinforcement learning model that can handle the bidding process and be able to make bids without knowing the prices. "
   ]
  },
  {
   "cell_type": "code",
   "execution_count": 1,
   "metadata": {},
   "outputs": [],
   "source": [
    "import gurobipy as gp\n",
    "import pandas as pd\n",
    "from code_map import final_markets, new_meters, utils, data_handling, timeframes\n",
    "import numpy as np\n",
    "from datetime import datetime, timedelta\n",
    "from collections import defaultdict, Counter\n",
    "import random"
   ]
  },
  {
   "cell_type": "code",
   "execution_count": 2,
   "metadata": {},
   "outputs": [],
   "source": [
    "tf = timeframes.one_week"
   ]
  },
  {
   "cell_type": "code",
   "execution_count": 4,
   "metadata": {},
   "outputs": [],
   "source": [
    "L, M, F, H, freq_data, power_meter_dict, consumption_data = utils.get_all_sets(timeframe= tf, areas = [\"NO5\"])"
   ]
  },
  {
   "cell_type": "code",
   "execution_count": 5,
   "metadata": {},
   "outputs": [],
   "source": [
    "L_u, L_d, Fu_h_l, Fd_h_l, R_h_l, P_h_m, Vp_h_m, Vm_m, R_m = utils.get_parameters(L = L, M = M, H = H)"
   ]
  },
  {
   "cell_type": "code",
   "execution_count": 6,
   "metadata": {},
   "outputs": [
    {
     "name": "stderr",
     "output_type": "stream",
     "text": [
      "/Users/sandermeland/Documents/UIB/Master/master-kode/code_map/utils.py:174: SettingWithCopyWarning: \n",
      "A value is trying to be set on a copy of a slice from a DataFrame\n",
      "\n",
      "See the caveats in the documentation: https://pandas.pydata.org/pandas-docs/stable/user_guide/indexing.html#returning-a-view-versus-a-copy\n",
      "  filtered_df.sort_values(by = \"Time\", inplace = True)\n",
      "/Users/sandermeland/Documents/UIB/Master/master-kode/code_map/utils.py:174: SettingWithCopyWarning: \n",
      "A value is trying to be set on a copy of a slice from a DataFrame\n",
      "\n",
      "See the caveats in the documentation: https://pandas.pydata.org/pandas-docs/stable/user_guide/indexing.html#returning-a-view-versus-a-copy\n",
      "  filtered_df.sort_values(by = \"Time\", inplace = True)\n"
     ]
    }
   ],
   "source": [
    "Ir_hlm, Ia_hlm, Va_hm = utils.get_income_dictionaries(H=H, L = L, M = M, freq_data= freq_data, Fu_h_l= Fu_h_l, Fd_h_l= Fd_h_l, P_h_m= P_h_m, Vp_h_m= Vp_h_m, F = F, markets_dict = {market.name : market for market in M}, timeframe = tf, areas = [\"NO5\"])"
   ]
  },
  {
   "cell_type": "code",
   "execution_count": 7,
   "metadata": {},
   "outputs": [],
   "source": [
    "compatible_dict = utils.get_compatibility_dict(L = L ,M = M, index = False)"
   ]
  },
  {
   "cell_type": "code",
   "execution_count": 8,
   "metadata": {},
   "outputs": [
    {
     "data": {
      "text/plain": [
       "960"
      ]
     },
     "execution_count": 8,
     "metadata": {},
     "output_type": "execute_result"
    }
   ],
   "source": [
    "len(L)"
   ]
  },
  {
   "cell_type": "code",
   "execution_count": 9,
   "metadata": {},
   "outputs": [],
   "source": [
    "def random_arg_max(possible_actions):\n",
    "    imax = 0\n",
    "    xmax = possible_actions[imax]  # Current maximum\n",
    "    nmax = 1  # Number of maximum values at the moment\n",
    "    for i in range(1, len(possible_actions)):\n",
    "        if possible_actions[i] == xmax:\n",
    "            nmax += 1\n",
    "            if nmax * random.random() < 1.0:\n",
    "                imax = i\n",
    "        elif possible_actions[i] > xmax:\n",
    "            nmax = 1  # Reset count since a new maximum is found\n",
    "            imax = i\n",
    "            xmax = possible_actions[i]  # Update the new maximum\n",
    "    return imax\n"
   ]
  },
  {
   "cell_type": "code",
   "execution_count": null,
   "metadata": {},
   "outputs": [],
   "source": [
    "def greedy_action(Q : np.array, epsilon : float ):\n",
    "    \"\"\"returns the index of the greedy action\n",
    "\n",
    "    Args:\n",
    "        Q (np.array): numpy array which is sliced for the actions\n",
    "        epsilon (float): float number between 0 and 1, often close to 0\n",
    "\n",
    "    Returns:\n",
    "        int: index of the greedy action\n",
    "    \"\"\"\n",
    "    if random.random() <= (1- epsilon): # pick greedy\n",
    "        return random_arg_max(Q)\n",
    "    else:\n",
    "        return random.randint(0, len(Q)-1) # random\n"
   ]
  },
  {
   "cell_type": "markdown",
   "metadata": {},
   "source": [
    "#### Will have to determine which type of network to use, and how to implement it. May look into the INF265 tasks for inspiration. Deep Feedforward Network (Multilayer Perceptron) is interesting. May look in to attention mechanisms and how to implement them. Also actor-critic architectures is interesting. May end up in a hybrid model."
   ]
  },
  {
   "cell_type": "code",
   "execution_count": 10,
   "metadata": {},
   "outputs": [],
   "source": [
    "def get_possible_dates(date : pd.Timestamp):\n",
    "    \"\"\" Function to get the possible dates for placing a bid given the current date\n",
    "\n",
    "    Args:\n",
    "        date (pd.Timestamp): the current date\n",
    "\n",
    "    Returns:\n",
    "        (pd.date_range, str): the possible dates for placing a bid and for which market\n",
    "    \"\"\"\n",
    "    if date.hour == 17: # FCR D-2\n",
    "        return (pd.date_range(date + timedelta(days=1) + timedelta(hours=7), date + timedelta(days = 2) + timedelta(hours = 6), freq='H', tz = \"Europe/Oslo\"), \"D_2\")\n",
    "    elif date.hour == 7: # aFRR\n",
    "        return (pd.date_range(date + timedelta(hours = 17), date + timedelta(days = 1) + timedelta(hours = 16), freq='H', tz = \"Europe/Oslo\"), \"aFRR\")\n",
    "    elif date.hour == 18: # FCR D-1\n",
    "        return (pd.date_range(date + timedelta(hours=6), date + timedelta(days = 1) + timedelta(hours = 5), freq='H', tz = \"Europe/Oslo\"), \"D_1\")\n",
    "    else:\n",
    "        return ([], \"No bids\")"
   ]
  },
  {
   "cell_type": "code",
   "execution_count": 11,
   "metadata": {},
   "outputs": [],
   "source": [
    "def check_constraints_for_hour(possible_assets : [[new_meters.PowerMeter]], hour : pd.Timestamp, possible_volume : float, expected_price : float, market : final_markets.ReserveMarket):\n",
    "            \n",
    "    max_vol = market.volume_data.loc[market.volume_data[\"Time(Local)\"] == hour].values[0][1]  # set of volumes for markets\n",
    "    constrained_vol = possible_volume if possible_volume >= market.min_volume and possible_volume < max_vol else 0\n",
    "    # get the prices for the given market within the given hours\n",
    "    possible_price = market.price_data.loc[market.price_data[\"Time(Local)\"] == hour].values[0][1]  #price for markets\n",
    "    # Calculate the possible revenues\n",
    "    \"\"\"print(f\"possible_prices in function : {possible_prices}\")\n",
    "    print(f\"expected_prices in function : {expected_prices}\")\"\"\"\n",
    "    bids_to_be_made = possible_price if possible_price >= expected_price else 0\n",
    "    \"\"\"print(f\"bids_to_be_made in function : {bids_to_be_made}\")\n",
    "    print(f\"possible_volumes in function : {constrained_vols}\")\"\"\"\n",
    "    possible_revenue = constrained_vol * bids_to_be_made\n",
    "    \n",
    "    #print(f\"possible_revenues in function : {possible_revenues}\")\n",
    "    possible_assets = possible_assets if possible_revenue > 0 else [] \n",
    "    #print(f\"possible_assets in function : {possible_assets}\")\n",
    "    return possible_revenue, possible_assets"
   ]
  },
  {
   "cell_type": "code",
   "execution_count": 16,
   "metadata": {},
   "outputs": [],
   "source": [
    "from itertools import combinations\n",
    "\n",
    "def get_portfolio_for_market(possible_assets : [new_meters.PowerMeter], market : final_markets.ReserveMarket, hour : pd.Timestamp):\n",
    "    \"\"\"This function will return one feasible combination quickly.\n",
    "\n",
    "    Args:\n",
    "        possible_assets ([new_meters.PowerMeter]): _description_\n",
    "        market (final_markets.ReserveMarket): _description_\n",
    "        hour (pd.Timestamp): _description_\n",
    "\n",
    "    Returns:\n",
    "        _type_: _description_\n",
    "    \"\"\"\n",
    "   \n",
    "    # Fetch volumes for each asset at the given hour\n",
    "    asset_volumes = [(asset, asset.up_flex_volume[\"value\"].loc[asset.up_flex_volume[\"Time(Local)\"] == hour].values[0]) \n",
    "                     for asset in possible_assets]\n",
    "\n",
    "    # Sort assets by volume in descending order\n",
    "    asset_volumes.sort(key=lambda x: x[1], reverse=True)\n",
    "\n",
    "    # Find a feasible combination\n",
    "    feasible_combination = []\n",
    "    total_volume = 0\n",
    "    for asset, volume in asset_volumes:\n",
    "        feasible_combination.append(asset)\n",
    "        total_volume += volume\n",
    "        if total_volume >= market.min_volume:\n",
    "            break\n",
    "\n",
    "    return feasible_combination\n",
    "\n"
   ]
  },
  {
   "cell_type": "code",
   "execution_count": null,
   "metadata": {},
   "outputs": [],
   "source": [
    "import random\n",
    "\n",
    "def get_n_portfolios_for_market(possible_assets : [new_meters.PowerMeter], market : final_markets.ReserveMarket, hour : pd.Timestamp, top_n=100, iterations=100):\n",
    "    # Fetch volumes for each asset at the given hour\n",
    "    asset_volumes = [(asset, asset.up_flex_volume[\"value\"].loc[asset.up_flex_volume[\"Time(Local)\"] == hour].values[0]) \n",
    "                     for asset in possible_assets]\n",
    "\n",
    "    # Sort assets by volume in descending order\n",
    "    asset_volumes.sort(key=lambda x: x[1], reverse=True)\n",
    "\n",
    "    # Select top N assets\n",
    "    top_assets = asset_volumes[:top_n]\n",
    "\n",
    "    feasible_combinations = set()\n",
    "\n",
    "    for _ in range(iterations):\n",
    "        # Randomly sample a smaller subset from top assets\n",
    "        sampled_assets = random.sample(top_assets, k=random.randint(1, top_n))\n",
    "\n",
    "        # Greedy addition to meet minimum volume\n",
    "        combination, total_volume = [], 0\n",
    "        for asset, volume in sampled_assets:\n",
    "            combination.append(asset)\n",
    "            total_volume += volume\n",
    "            if total_volume >= market.min_volume:\n",
    "                feasible_combinations.add(tuple(combination))\n",
    "                break\n",
    "\n",
    "    return list(feasible_combinations)\n"
   ]
  },
  {
   "cell_type": "markdown",
   "metadata": {},
   "source": [
    "### The get_portfolio_for_market function is useless even though I only have NO5 assets and markets. The function is way to computationally expensive. I will have to find a way to make it more efficient or find another way of defining the action space"
   ]
  },
  {
   "cell_type": "markdown",
   "metadata": {},
   "source": [
    "### It will be important to notice that the bidding deadlines are not the same for all markets. This will have to be taken into account when training the model. I will have to make some sort of iteration process that will make the model learn the bidding deadlines for each market and how this affects the bidding process. I must take in to account that the bids is not necessarily being accepted and i will have to make a method where the model will recieve a signal if the bid is accepted or not before it makes the next bid. "
   ]
  },
  {
   "cell_type": "markdown",
   "metadata": {},
   "source": [
    "### Think it will be a good idea to use RL for choosing which markets that will be bid in to and then using some sort of heuristic to determine which of the assets that will be bid in to the chosen market(s)."
   ]
  },
  {
   "cell_type": "code",
   "execution_count": null,
   "metadata": {},
   "outputs": [],
   "source": [
    "def get_all_feasible_portfolios(M : [final_markets.ReserveMarket], L : [new_meters.PowerMeter], H : [pd.Timestamp]):\n",
    "    \n",
    "    portfolios = {}\n",
    "    for market in M:\n",
    "        possible_assets = [asset for asset in L if asset in compatible_dict[market]]\n",
    "        for hour in H:\n",
    "            if market.direction == \"up\":\n",
    "                # check the compatibility for the assets\n",
    "                possible_volume = sum([asset.up_flex_volume[\"value\"].loc[asset.up_flex_volume[\"Time(Local)\"] == hour].values[0] for asset in possible_assets])\n",
    "                if possible_volume < market.min_volume:\n",
    "                    possible_assets = []\n",
    "                else:\n",
    "                    # check all possible combination of assets and see if the total volume of the assets in the combination is higher than min_volume\n",
    "                    feasible_combinations = get_portfolios_for_market(possible_assets, market, hour)\n",
    "                    # Add feasible combinations to the portfolio dictionary\n",
    "                    portfolios[(market, hour)] = feasible_combinations\n",
    "                    \n",
    "                \n",
    "                #print(f\"possible_volumes: {possible_volumes}\")\n",
    "                possible_revenue, possible_assets = check_constraints_for_hour(possible_assets, hour ,possible_volume , market)\n",
    "            elif market.direction == \"down\":\n",
    "                possible_volume = sum([asset.down_flex_volume[\"value\"].loc[asset.down_flex_volume[\"Time(Local)\"] == hour].values[0] for asset in possible_assets])\n",
    "                #print(f\"possible_volumes: {possible_volumes}\")\n",
    "\n",
    "                possible_revenue, possible_assets = check_constraints_for_hour(possible_assets, hour, possible_volume, market)\n",
    "            else:        \n",
    "                possible_up_volume = sum([asset.up_flex_volume[\"value\"].loc[asset.up_flex_volume[\"Time(Local)\"] == hour].values[0] if asset.direction != \"down\" else 0 for asset in possible_assets])\n",
    "                possible_down_volume = sum([asset.down_flex_volume[\"value\"].loc[asset.down_flex_volume[\"Time(Local)\"] == hour].values[0] if asset.direction != \"up\" else 0 for asset in possible_assets])\n",
    "                #print(f\"possible_up_volumes: {possible_up_volumes}\")\n",
    "                #print(f\"possible_down_volumes: {possible_down_volumes}\")\n",
    "                # possible volumes should be != 0 if both up and down volume is higher than min_volume. If both vols are higher than min_volume, then the actuale volume should be decided by the lowest one\n",
    "                actual_volumes = min(possible_up_volume, possible_down_volume)\n",
    "                #print(f\"actual_volumes: {actual_volumes}\")\n",
    "                # Find the hours where both up and down volume is higher than min_volume\n",
    "                possible_volume = actual_volumes if possible_up_volume >= market.min_volume and possible_down_volume >= market.min_volume else 0 \n",
    "                #possible_volumes = np.where((possible_up_volumes >= min_vols and possible_down_volumes >= min_vols), actual_volumes, 0) \n",
    "                #print(f\"possible_volumes: {possible_volumes}\")\n",
    "                possible_revenue, possible_assets = check_constraints_for_hour(possible_assets, hour, possible_volume, market)\n",
    "                \"\"\"print(f\"possible_revenues: {possible_revenues}\")\n",
    "                print(f\"possible_assets: {possible_assets}\")\"\"\"\n",
    "\n",
    "    \n",
    "    return portfolios"
   ]
  },
  {
   "cell_type": "code",
   "execution_count": null,
   "metadata": {},
   "outputs": [],
   "source": [
    "def get_features(day_of_week, hour_of_day, available_assets, possible_markets, hour):\n",
    "    \n",
    "    return [day_of_week, hour_of_day, available_assets, possible_markets]"
   ]
  },
  {
   "cell_type": "code",
   "execution_count": null,
   "metadata": {},
   "outputs": [],
   "source": [
    "def train_model(epsilon, alpha, weights, num_episodes, L, M, H):\n",
    "    \"\"\" TRaining function to learn how to bid in to the markets due to the bidding constraints and the asset constraints as well as optimizing the weights. The function will learn how to bid in to the markets by updating the Q-table. \n",
    "    The Q-table will be updated by the Sarsa algorithm. The algorithm will be implemented with an epsilon-greedy policy. The algorithm will be implemented with a function to find the feasible portfolios of assets to bid in to the markets. The algorithm will be implemented with a function to place the bids for the feasible portfolios of assets to bid in to the markets. The algorithm will be implemented with a function to check the constraints for the feasible portfolios of assets to bid in to the markets. The algorithm will be implemented with a function to get the possible dates for placing a bid given the current date. The algorithm will be implemented with a function to get the greedy action. The algorithm will be implemented with a function to get the random action. The algorithm will be implemented with a function to get the possible dates for placing a bid given the current date. \n",
    "    \n",
    "\n",
    "    Args:\n",
    "        epsilon (float): float number between 0 and 1, often close to 0\n",
    "        alpha (float): float number between 0 and 1, also known as the learning rate\n",
    "        num_episodes (int): number of episodes to be ran\n",
    "        L ([new_meters.PowerMeter]): list of PowerMeter objects\n",
    "        M ([final_markets.Reservemarket]): list of ReserveMarket objects\n",
    "        H ([pd.Timestamp]): list of timestamps\n",
    "\n",
    "    Returns:\n",
    "        bids (dict): dictionary that holds control over the final bids for each market and each hour\n",
    "        revenues (dict): dictionary that holds the revenue for each episode\n",
    "        available_assets (dict): dictionary that holds the available assets for each hour\n",
    "        Q (np.array): numpy array that holds the Q-values for each state-action pair\n",
    "    \"\"\"\n",
    "    revenues = {}\n",
    "    bid_timeframe = H[24:] # the hours where bids can be placed in\n",
    "    place_bid_hours = [hour for hour in H[:-48] if hour.hour == 7 or hour.hour == 17 or hour.hour == 18] # the hours where bids can be placed from\n",
    "\n",
    "    sup_market_names = [\"FCR\", \"aFRR\"]\n",
    "    markets = [market for market in M if sup_market_names[0] in market.name  or sup_market_names[1] in market.name]\n",
    "    market_names = [market.name for market in markets]\n",
    "    # will only use FCR and aFRR\n",
    "    \n",
    "    available_assets = {hour: L.copy() for hour in bid_timeframe} \n",
    "    bids = {(market.name, hour): [] for hour in bid_timeframe for market in markets}\n",
    "    n_actions = len(L) * len(market_names)\n",
    "    #Q = np.zeros((7, 24, len(L)+1, len(market_names)+1 )) # day of week, hour of day, available assets, possible markets, assets already bid\n",
    "   \n",
    "    (possible_hours, market_name) = get_possible_dates(place_bid_hours[0])\n",
    "    \n",
    "    \"an action should be to bid in to one of the possible markets returned from get_possible_dates\"\n",
    "    # will have to make a slice of Q where only the indexes for the possible markets are included\n",
    "    possible_markets = [m for m in markets if market_name in m.name]\n",
    "    indexes = [market_names.index(m.name) for m in possible_markets]\n",
    "    #q_0 = Q[possible_hours[0].weekday(), possible_hours[0].hour, :, indexes]\n",
    "    features = get_features(possible_hours[0].weekday(), possible_hours[0].hour, available_assets= available_assets[possible_hours[0]], possible_markets = indexes)\n",
    "    \n",
    "    action_0 = greedy_action(q_0, epsilon, )\n",
    "    value_0 = Q[possible_hours[0].weekday(), possible_hours[0].hour, len(available_assets[possible_hours[0]]), action_0]\n",
    "    # extract hours from H where hour == 7, 17, 18\n",
    "    expected_prices = {}\n",
    "    for directions in [\"up\", \"down\", \"both\"]:\n",
    "        for area in [\"NO1\", \"NO2\", \"NO3\", \"NO4\", \"NO5\"]:\n",
    "            for hour in bid_timeframe:\n",
    "                expected_prices[(directions, area, hour)] = np.mean([market.price_data.loc[market.price_data[\"Time(Local)\"] == hour].values[0][1] for market in markets if market.area == area and market.direction == directions])\n",
    "            \n",
    "    for episode_n in range(num_episodes):\n",
    "        if episode_n > 0:\n",
    "            epsilon -= 0.02\n",
    "            alpha -= 0.001\n",
    "        revenue = 0\n",
    "        bids = {(market.name, hour): [] for hour in bid_timeframe for market in markets}\n",
    "        available_assets = {hour: L.copy() for hour in bid_timeframe}\n",
    "        for place_hour in place_bid_hours:\n",
    "            (possible_hours, market_name) = get_possible_dates(place_hour)\n",
    "            if len(possible_hours) != 24:\n",
    "                #print(f\"No bids for {hour}\")\n",
    "                #print(f\"possible_hours: {len(possible_hours)}\")\n",
    "                continue\n",
    "            possible_markets = [m for m in markets if market_name in m.name]\n",
    "            indexes = [market_names.index(m.name) for m in possible_markets]\n",
    "            for market in possible_markets: # This will turn in to a problem as it should be possible to place several bids for each hour, but the Q-table is only updated once (for one market) for each hour\n",
    "                # if i continue to do it like this, i must change the action to not choose the market, but for each market for each hour choose the number of assets to bid\n",
    "                # maybe ill change the actions to rather be the number of assets to bid. If I do this, I must be secure that the number of assets to bid still holds all of the constraints.\n",
    "                    # If I do this, i should change the espilon-greedy function to change between the valid actions for each hour for each market\n",
    "                    # The epsilon greedy function must find each combination of feasible number of assets and to each market for each hour. Maybe I should precompute this and store it in a dictionary\n",
    "                for h, bid_hour in enumerate(possible_hours):\n",
    "                    (possible_revenues, possible_assets) = place_hourly_bids(market=market, available_assets=available_assets[bid_hour], hour=bid_hour, expected_price=expected_prices[h])\n",
    "                    revenue += np.sum(possible_revenues)\n",
    "                    # Select assets with positive revenue for bidding\n",
    "                    assets_to_bid = [asset for asset in possible_assets if possible_revenues > 0]\n",
    "                    # Flatten the list if it's a list of lists\n",
    "                    #assets_to_bid = [item for sublist in assets_to_bid for item in sublist]\n",
    "                    # Store the bid information\n",
    "                    bids[(market.name, bid_hour)] = [asset.meter_id for asset in assets_to_bid]\n",
    "                    # Update available assets\n",
    "                    available_assets[bid_hour] = [asset for asset in available_assets[bid_hour] if asset not in assets_to_bid]\n",
    "                    q_1 = Q[bid_hour.weekday(), bid_hour.hour, len(available_assets[bid_hour]), indexes]\n",
    "                    action_1 = greedy_action(q_1, epsilon)\n",
    "                    value_1 = Q[bid_hour.weekday(), bid_hour.hour, len(available_assets[bid_hour]), action_1]\n",
    "                    Q[bid_hour.weekday(), bid_hour.hour, len(available_assets[bid_hour]), action_0] = value_0 + alpha * (possible_revenues + value_1 - value_0)\n",
    "                    action_0, value_0 = action_1, value_1\n",
    "        revenues[episode_n] = revenue\n",
    "    return bids, revenues, available_assets, Q"
   ]
  }
 ],
 "metadata": {
  "kernelspec": {
   "display_name": "myenv",
   "language": "python",
   "name": "python3"
  },
  "language_info": {
   "codemirror_mode": {
    "name": "ipython",
    "version": 3
   },
   "file_extension": ".py",
   "mimetype": "text/x-python",
   "name": "python",
   "nbconvert_exporter": "python",
   "pygments_lexer": "ipython3",
   "version": "3.9.18"
  }
 },
 "nbformat": 4,
 "nbformat_minor": 2
}
