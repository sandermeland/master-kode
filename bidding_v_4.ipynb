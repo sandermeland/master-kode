{
 "cells": [
  {
   "cell_type": "markdown",
   "metadata": {},
   "source": [
    "### In this file I will try to further develop the model and use the inspiration from the previous bidding files. The goal is to end up with a deep reinforcement learning model that can handle the bidding process and be able to make bids without knowing the prices. "
   ]
  },
  {
   "cell_type": "code",
   "execution_count": 2,
   "metadata": {},
   "outputs": [],
   "source": [
    "import gurobipy as gp\n",
    "import pandas as pd\n",
    "from code_map import final_markets, new_meters, utils, data_handling, timeframes\n",
    "import numpy as np\n",
    "from datetime import datetime, timedelta\n",
    "from collections import defaultdict, Counter\n",
    "import random"
   ]
  },
  {
   "cell_type": "code",
   "execution_count": 10,
   "metadata": {},
   "outputs": [],
   "source": [
    "tf = timeframes.one_week"
   ]
  },
  {
   "cell_type": "code",
   "execution_count": 11,
   "metadata": {},
   "outputs": [],
   "source": [
    "L, M, F, H, freq_data, power_meter_dict, consumption_data = utils.get_all_sets(timeframe= tf, areas = [\"NO5\"])"
   ]
  },
  {
   "cell_type": "code",
   "execution_count": 12,
   "metadata": {},
   "outputs": [],
   "source": [
    "L_u, L_d, Fu_h_l, Fd_h_l, R_h_l, P_h_m, Vp_h_m, Vm_m, R_m = utils.get_parameters(L = L, M = M, H = H)"
   ]
  },
  {
   "cell_type": "code",
   "execution_count": 13,
   "metadata": {},
   "outputs": [
    {
     "name": "stderr",
     "output_type": "stream",
     "text": [
      "/Users/sandermeland/Documents/UIB/Master/master-kode/code_map/utils.py:174: SettingWithCopyWarning: \n",
      "A value is trying to be set on a copy of a slice from a DataFrame\n",
      "\n",
      "See the caveats in the documentation: https://pandas.pydata.org/pandas-docs/stable/user_guide/indexing.html#returning-a-view-versus-a-copy\n",
      "  filtered_df = afrr_df[(afrr_df[\"Time\"] >= start_datetime) & (afrr_df[\"Time\"] <= end_datetime)]\n",
      "/Users/sandermeland/Documents/UIB/Master/master-kode/code_map/utils.py:174: SettingWithCopyWarning: \n",
      "A value is trying to be set on a copy of a slice from a DataFrame\n",
      "\n",
      "See the caveats in the documentation: https://pandas.pydata.org/pandas-docs/stable/user_guide/indexing.html#returning-a-view-versus-a-copy\n",
      "  filtered_df = afrr_df[(afrr_df[\"Time\"] >= start_datetime) & (afrr_df[\"Time\"] <= end_datetime)]\n"
     ]
    }
   ],
   "source": [
    "Ir_hlm, Ia_hlm, Va_hm = utils.get_income_dictionaries(H=H, L = L, M = M, freq_data= freq_data, Fu_h_l= Fu_h_l, Fd_h_l= Fd_h_l, P_h_m= P_h_m, Vp_h_m= Vp_h_m, F = F, markets_dict = {market.name : market for market in M}, timeframe = tf, areas = [\"NO5\"])"
   ]
  },
  {
   "cell_type": "code",
   "execution_count": 14,
   "metadata": {},
   "outputs": [],
   "source": [
    "compatible_dict = utils.get_compatibility_dict(L = L ,M = M, index = False)"
   ]
  },
  {
   "cell_type": "code",
   "execution_count": 15,
   "metadata": {},
   "outputs": [
    {
     "data": {
      "text/plain": [
       "960"
      ]
     },
     "execution_count": 15,
     "metadata": {},
     "output_type": "execute_result"
    }
   ],
   "source": [
    "len(L)"
   ]
  },
  {
   "cell_type": "code",
   "execution_count": 16,
   "metadata": {},
   "outputs": [],
   "source": [
    "def random_arg_max(possible_actions):\n",
    "    imax = 0\n",
    "    xmax = possible_actions[imax]  # Current maximum\n",
    "    nmax = 1  # Number of maximum values at the moment\n",
    "    for i in range(1, len(possible_actions)):\n",
    "        if possible_actions[i] == xmax:\n",
    "            nmax += 1\n",
    "            if nmax * random.random() < 1.0:\n",
    "                imax = i\n",
    "        elif possible_actions[i] > xmax:\n",
    "            nmax = 1  # Reset count since a new maximum is found\n",
    "            imax = i\n",
    "            xmax = possible_actions[i]  # Update the new maximum\n",
    "    return imax\n"
   ]
  },
  {
   "cell_type": "code",
   "execution_count": 109,
   "metadata": {},
   "outputs": [],
   "source": [
    "def greedy_action(possible_actions : list, epsilon : float ):\n",
    "    \"\"\"returns the index of the greedy action\n",
    "\n",
    "    Args:\n",
    "        possible_actions (lsit): list of the possible actions\n",
    "        epsilon (float): float number between 0 and 1, often close to 0\n",
    "\n",
    "    Returns:\n",
    "        int: index of the greedy action\n",
    "    \"\"\"\n",
    "    if random.random() <= (1- epsilon): # pick greedy\n",
    "        return random_arg_max(possible_actions)\n",
    "    else:\n",
    "        return random.randint(0, len(possible_actions)-1) # random\n"
   ]
  },
  {
   "cell_type": "code",
   "execution_count": 110,
   "metadata": {},
   "outputs": [],
   "source": [
    "def get_expected_prices_and_volumes_dict(bid_timeframe, markets):\n",
    "    \"\"\" function to calculate the expected prices for each direction and area in the bid_timeframe\n",
    "\n",
    "    Args:\n",
    "        bid_timeframe (_type_): _description_\n",
    "        markets (_type_): _description_\n",
    "\n",
    "    Returns:\n",
    "        _type_: _description_\n",
    "    \"\"\"\n",
    "    expected_prices = {}\n",
    "    expected_volumes = {}\n",
    "    for directions in [\"up\", \"down\", \"both\"]:\n",
    "        for area in [\"NO1\", \"NO2\", \"NO3\", \"NO4\", \"NO5\"]:\n",
    "            for hour in bid_timeframe:\n",
    "                expected_prices[(directions, area, hour)] = np.mean([market.price_data.loc[market.price_data[\"Time(Local)\"] == hour].values[0][1] for market in markets if market.area == area and market.direction == directions])\n",
    "                expected_volumes[(directions, area, hour)] = np.mean([market.volume_data.loc[market.volume_data[\"Time(Local)\"] == hour].values[0][1] for market in markets if market.area == area and market.direction == directions])\n",
    "    return expected_prices, expected_volumes\n",
    "    "
   ]
  },
  {
   "cell_type": "code",
   "execution_count": 111,
   "metadata": {},
   "outputs": [
    {
     "name": "stderr",
     "output_type": "stream",
     "text": [
      "/Users/sandermeland/Documents/UIB/Master/master-kode/myenv/lib/python3.9/site-packages/numpy/core/fromnumeric.py:3504: RuntimeWarning: Mean of empty slice.\n",
      "  return _methods._mean(a, axis=axis, dtype=dtype,\n",
      "/Users/sandermeland/Documents/UIB/Master/master-kode/myenv/lib/python3.9/site-packages/numpy/core/_methods.py:129: RuntimeWarning: invalid value encountered in scalar divide\n",
      "  ret = ret.dtype.type(ret / rcount)\n",
      "/Users/sandermeland/Documents/UIB/Master/master-kode/myenv/lib/python3.9/site-packages/numpy/core/fromnumeric.py:3504: RuntimeWarning: Mean of empty slice.\n",
      "  return _methods._mean(a, axis=axis, dtype=dtype,\n",
      "/Users/sandermeland/Documents/UIB/Master/master-kode/myenv/lib/python3.9/site-packages/numpy/core/_methods.py:129: RuntimeWarning: invalid value encountered in scalar divide\n",
      "  ret = ret.dtype.type(ret / rcount)\n",
      "/Users/sandermeland/Documents/UIB/Master/master-kode/myenv/lib/python3.9/site-packages/numpy/core/fromnumeric.py:3504: RuntimeWarning: Mean of empty slice.\n",
      "  return _methods._mean(a, axis=axis, dtype=dtype,\n",
      "/Users/sandermeland/Documents/UIB/Master/master-kode/myenv/lib/python3.9/site-packages/numpy/core/_methods.py:129: RuntimeWarning: invalid value encountered in scalar divide\n",
      "  ret = ret.dtype.type(ret / rcount)\n"
     ]
    }
   ],
   "source": [
    "sup_market_names = [\"FCR\", \"aFRR\"]\n",
    "markets = [market for market in M if sup_market_names[0] in market.name  or sup_market_names[1] in market.name]\n",
    "exp_price_dict, exp_vol_dict = get_expected_prices_and_volumes_dict(bid_timeframe= H, markets= markets)"
   ]
  },
  {
   "cell_type": "code",
   "execution_count": 112,
   "metadata": {},
   "outputs": [
    {
     "data": {
      "text/plain": [
       "3.8666666666666667"
      ]
     },
     "execution_count": 112,
     "metadata": {},
     "output_type": "execute_result"
    }
   ],
   "source": [
    "exp_price_dict[(\"up\", \"NO5\", H[4])]"
   ]
  },
  {
   "cell_type": "code",
   "execution_count": 113,
   "metadata": {},
   "outputs": [
    {
     "data": {
      "text/plain": [
       "2.0"
      ]
     },
     "execution_count": 113,
     "metadata": {},
     "output_type": "execute_result"
    }
   ],
   "source": [
    "exp_vol_dict[(\"up\", \"NO5\", H[4])]"
   ]
  },
  {
   "cell_type": "markdown",
   "metadata": {},
   "source": [
    "#### Will have to determine which type of network to use, and how to implement it. May look into the INF265 tasks for inspiration. Deep Feedforward Network (Multilayer Perceptron) is interesting. May look in to attention mechanisms and how to implement them. Also actor-critic architectures is interesting. May end up in a hybrid model."
   ]
  },
  {
   "cell_type": "code",
   "execution_count": 114,
   "metadata": {},
   "outputs": [],
   "source": [
    "def get_possible_dates(date : pd.Timestamp):\n",
    "    \"\"\" Function to get the possible dates for placing a bid given the current date\n",
    "\n",
    "    Args:\n",
    "        date (pd.Timestamp): the current date\n",
    "\n",
    "    Returns:\n",
    "        (pd.date_range, str): the possible dates for placing a bid and for which market\n",
    "    \"\"\"\n",
    "    if date.hour == 17: # FCR D-2\n",
    "        return (pd.date_range(date + timedelta(days=1) + timedelta(hours=7), date + timedelta(days = 2) + timedelta(hours = 6), freq='H', tz = \"Europe/Oslo\"), \"D_2\")\n",
    "    elif date.hour == 7: # aFRR\n",
    "        return (pd.date_range(date + timedelta(hours = 17), date + timedelta(days = 1) + timedelta(hours = 16), freq='H', tz = \"Europe/Oslo\"), \"aFRR\")\n",
    "    elif date.hour == 18: # FCR D-1\n",
    "        return (pd.date_range(date + timedelta(hours=6), date + timedelta(days = 1) + timedelta(hours = 5), freq='H', tz = \"Europe/Oslo\"), \"D_1\")\n",
    "    else:\n",
    "        return ([], \"No bids\")"
   ]
  },
  {
   "cell_type": "code",
   "execution_count": 115,
   "metadata": {},
   "outputs": [],
   "source": [
    "def get_feasible_portfolio_for_market(possible_assets : [new_meters.PowerMeter], market : final_markets.ReserveMarket, hour : pd.Timestamp):\n",
    "    \"\"\"This function will return one feasible combination quickly.\n",
    "\n",
    "    Args:\n",
    "        possible_assets ([new_meters.PowerMeter]): list of possible assets for the given market and given hour\n",
    "        market (final_markets.ReserveMarket): the market for which the portfolio is to be found\n",
    "        hour (pd.Timestamp): the hour for which the portfolio is to be found\n",
    "\n",
    "    Returns:\n",
    "        list(new_meters.PowerMeter): the feasible portfolio that will be used for the given market in the given hour\n",
    "    \"\"\"\n",
    "   \n",
    "    # Fetch volumes for each asset at the given hour\n",
    "    feasible_assets = [asset for asset in possible_assets if asset in compatible_dict[market]] # exclude assets that are not compatible with the given market\n",
    "    # Fetch volumes for each asset at the given hour\n",
    "    asset_volumes = []\n",
    "    for asset in feasible_assets:\n",
    "        if market.direction == \"both\":\n",
    "            if asset.direction == \"both\":\n",
    "                vol = min(asset.up_flex_volume[\"value\"].loc[asset.up_flex_volume[\"Time(Local)\"] == hour].values[0], asset.down_flex_volume[\"value\"].loc[asset.down_flex_volume[\"Time(Local)\"] == hour].values[0])\n",
    "                asset_volumes.append((asset, vol))\n",
    "            else:\n",
    "                vol = asset.up_flex_volume[\"value\"].loc[asset.up_flex_volume[\"Time(Local)\"] == hour].values[0] if asset.direction == \"up\" else asset.down_flex_volume[\"value\"].loc[asset.down_flex_volume[\"Time(Local)\"] == hour].values[0]\n",
    "                asset_volumes.append((asset, vol))\n",
    "        else:\n",
    "            vol = asset.up_flex_volume[\"value\"].loc[asset.up_flex_volume[\"Time(Local)\"] == hour].values[0] if market.direction == \"up\" else asset.down_flex_volume[\"value\"].loc[asset.down_flex_volume[\"Time(Local)\"] == hour].values[0]\n",
    "            asset_volumes.append((asset, vol))\n",
    "            \n",
    "\n",
    "    # Sort assets by volume in descending order\n",
    "    asset_volumes.sort(key=lambda x: x[1], reverse=True)\n",
    "\n",
    "    # Find a feasible combination\n",
    "    feasible_combination = []\n",
    "    total_volume = 0\n",
    "    for asset, volume in asset_volumes:\n",
    "        feasible_combination.append(asset)\n",
    "        total_volume += volume\n",
    "        if total_volume >= market.min_volume:\n",
    "            break\n",
    "\n",
    "    return feasible_combination, total_volume\n",
    "\n"
   ]
  },
  {
   "cell_type": "markdown",
   "metadata": {},
   "source": [
    "Idea for new way to define flex volume for each asset when not knowing the actual consumption for given hour. Due to the strong patterns in the consumption i can find the average consumption for each load for every hour of day and day of week as well as seasonal variations. Then i can find some sort of variance as well to define the flex volume as a range. This will be done for each load. Should ask Trond to see if this is a good idea and get some help from him. \n",
    "\n",
    "To do this I need a bigger dataset of the consumption. As per now i only have consumption data for june. Maybe I have to do this in databricks. Should talk to Trond about this. "
   ]
  },
  {
   "cell_type": "code",
   "execution_count": 164,
   "metadata": {},
   "outputs": [],
   "source": [
    "def get_n_portfolios_for_market(possible_assets : [new_meters.PowerMeter], market : final_markets.ReserveMarket, hour : pd.Timestamp, top_n=100, iterations=100):\n",
    "    \"\"\"function to find a diverse and large subset of feasible combinations without the computational overhead of checking all possible combinations\n",
    "\n",
    "    Args:\n",
    "        possible_assets ([new_meters.PowerMeter]): list of possible assets for the given market and given hour\n",
    "        market (final_markets.ReserveMarket): the market for which the portfolio is to be found\n",
    "        hour (pd.Timestamp): the hour for which the portfolio is to be found\n",
    "        top_n (int, optional): controls the number of top assets to consider. Defaults to 100.\n",
    "        iterations (int, optional):  determines how many different combinations to try and generate. Defaults to 100.\n",
    "\n",
    "    Returns:\n",
    "        feasible_combinations: dict of top_n feasible combinations of assets that can be bid to the given market in the given hour where the values holds the portfolio's aggregated volume\n",
    "    \"\"\"\n",
    "    feasible_assets = [asset for asset in possible_assets if asset in compatible_dict[market]] # exclude assets that are not compatible with the given market\n",
    "    # Fetch volumes for each asset at the given hour\n",
    "    \n",
    "    asset_volumes = []\n",
    "    for asset in feasible_assets:\n",
    "        if market.direction == \"both\":\n",
    "            if asset.direction == \"both\":\n",
    "                vol = min(asset.up_flex_volume[\"value\"].loc[asset.up_flex_volume[\"Time(Local)\"] == hour].values[0], asset.down_flex_volume[\"value\"].loc[asset.down_flex_volume[\"Time(Local)\"] == hour].values[0])\n",
    "                asset_volumes.append((asset, vol))\n",
    "            else:\n",
    "                vol = asset.up_flex_volume[\"value\"].loc[asset.up_flex_volume[\"Time(Local)\"] == hour].values[0] if asset.direction == \"up\" else asset.down_flex_volume[\"value\"].loc[asset.down_flex_volume[\"Time(Local)\"] == hour].values[0]\n",
    "                asset_volumes.append((asset, vol))\n",
    "        else:\n",
    "            vol = asset.up_flex_volume[\"value\"].loc[asset.up_flex_volume[\"Time(Local)\"] == hour].values[0] if market.direction == \"up\" else asset.down_flex_volume[\"value\"].loc[asset.down_flex_volume[\"Time(Local)\"] == hour].values[0]\n",
    "            asset_volumes.append((asset, vol))\n",
    "            \n",
    "\n",
    "    # Sort assets by volume in descending order\n",
    "    asset_volumes.sort(key=lambda x: x[1], reverse=True)\n",
    "\n",
    "    # Select top N assets\n",
    "    top_assets = asset_volumes[:top_n]\n",
    "    \n",
    "    #feasible_combinations = set()\n",
    "    feasible_combinations = {}\n",
    "    if len(top_assets) > 0:\n",
    "        for _ in range(iterations):\n",
    "            # Randomly sample a smaller subset from top assets\n",
    "            num_assets_to_sample = min(len(top_assets), random.randint(1, top_n))\n",
    "\n",
    "            sampled_assets = random.sample(top_assets, k=num_assets_to_sample)\n",
    "\n",
    "            # Greedy addition to meet minimum volume\n",
    "            combination, total_volume = [], 0\n",
    "            for asset, volume in sampled_assets:\n",
    "                combination.append(asset)\n",
    "                total_volume += volume\n",
    "                if total_volume >= market.min_volume:\n",
    "                    #feasible_combinations.add((tuple(combination), total_volume))\n",
    "                    feasible_combinations[tuple(combination)] = total_volume\n",
    "                    break\n",
    "    \n",
    "    return feasible_combinations\n"
   ]
  },
  {
   "cell_type": "code",
   "execution_count": 165,
   "metadata": {},
   "outputs": [],
   "source": [
    "dd = {}"
   ]
  },
  {
   "cell_type": "code",
   "execution_count": 166,
   "metadata": {},
   "outputs": [
    {
     "data": {
      "text/plain": [
       "0"
      ]
     },
     "execution_count": 166,
     "metadata": {},
     "output_type": "execute_result"
    }
   ],
   "source": [
    "len(dd.keys())"
   ]
  },
  {
   "cell_type": "markdown",
   "metadata": {},
   "source": [
    "### The get_portfolio_for_market function where I try to find each and every combination of assets for a given market in a given hour is useless even though I only have NO5 assets and markets. The function is way to computationally expensive. I will have to find a way to make it more efficient or find another way of defining the action space"
   ]
  },
  {
   "cell_type": "markdown",
   "metadata": {},
   "source": [
    "### It will be important to notice that the bidding deadlines are not the same for all markets. This will have to be taken into account when training the model. I will have to make some sort of iteration process that will make the model learn the bidding deadlines for each market and how this affects the bidding process. I must take in to account that the bids is not necessarily being accepted and i will have to make a method where the model will recieve a signal if the bid is accepted or not before it makes the next bid. "
   ]
  },
  {
   "cell_type": "markdown",
   "metadata": {},
   "source": [
    "### Think it will be a good idea to use RL for choosing which markets that will be bid in to and then using some sort of heuristic to determine which of the assets that will be bid in to the chosen market(s)."
   ]
  },
  {
   "cell_type": "code",
   "execution_count": 167,
   "metadata": {},
   "outputs": [],
   "source": [
    "def get_features(bid_hour : pd.Timestamp, available_assets : [new_meters.PowerMeter], market : final_markets.ReserveMarket):\n",
    "    \"\"\" Function to get the features for the given hour and market. It is important to use features that will help the model learn which actions to take \n",
    "        and update the weights correctly for the given state.\n",
    "        The features that possibly can be used here are the following:\n",
    "        - day of week\n",
    "        - hour of day\n",
    "        - number of possible assets\n",
    "        - Day Ahead (DA) price\n",
    "        - Weather forecast\n",
    "        - Market historical prices\n",
    "        - Market historical volumes\n",
    "        - frequency data (historical)\n",
    "        \n",
    "    Args:\n",
    "        available_assets (new_meters.PowerMeter]): _description_\n",
    "        hour (pd.Timestamp): _description_\n",
    "        market (final_markets.ReserveMarket): _description_\n",
    "\n",
    "    Returns:\n",
    "        _type_: _description_\n",
    "    \"\"\"\n",
    "    day_of_week = bid_hour.weekday()\n",
    "    hour_of_day = bid_hour.hour\n",
    "    expected_price = exp_price_dict[(market.direction, market.area, bid_hour)]\n",
    "    expected_volume = exp_vol_dict[(market.direction, market.area, bid_hour)]\n",
    "    \n",
    "    \n",
    "    return [day_of_week, hour_of_day, expected_price, expected_volume, len(available_assets)]"
   ]
  },
  {
   "cell_type": "code",
   "execution_count": 168,
   "metadata": {},
   "outputs": [],
   "source": [
    "def get_income_for_portfolio(volume : float, market : final_markets.ReserveMarket, hour : pd.Timestamp):\n",
    "    \"\"\"function to calculate the income for a given portfolio\n",
    "\n",
    "    Args:\n",
    "        portfolio ([new_meters.PowerMeter]): the portfolio for which the income is to be calculated\n",
    "        market (final_markets.ReserveMarket): the market for which the income is to be calculated\n",
    "        hour (pd.Timestamp): the hour for which the income is to be calculated\n",
    "\n",
    "    Returns:\n",
    "        float: the income for the given portfolio\n",
    "    \"\"\"\n",
    "    \n",
    "    return volume * market.price_data.loc[market.price_data[\"Time(Local)\"] == hour].values[0][1]\n"
   ]
  },
  {
   "cell_type": "code",
   "execution_count": 169,
   "metadata": {},
   "outputs": [],
   "source": [
    "def make_bid(market : final_markets.ReserveMarket, hour : pd.Timestamp, action : int, possible_assets : [new_meters.PowerMeter]):\n",
    "    \"\"\"Function to make a bid to a given market in a given hour\n",
    "\n",
    "    Args:\n",
    "        market (final_markets.ReserveMarket): the market to bid to\n",
    "        hour (pd.Timestamp): the hour to bid to\n",
    "        action (int): the index of the portfolio to bid\n",
    "        possible_assets ([new_meters.PowerMeter]): list of possible assets for the given market and given hour\n",
    "\n",
    "    Returns:\n",
    "        portfolio (list(new_meters.PowerMeter)): the portfolio that was bid\n",
    "        income (float): the income for the portfolio in the given market at the given hour\n",
    "    \"\"\"\n",
    "    if action == 0:\n",
    "        return [], 0\n",
    "    elif action == 1:\n",
    "        portfolio_dict = get_n_portfolios_for_market(possible_assets = possible_assets, market = market, hour = hour, top_n=100, iterations=100)\n",
    "        portfolio = list(portfolio_dict.keys())[0] if len(portfolio_dict.keys()) > 0 else []\n",
    "        volume = portfolio_dict[portfolio] if len(portfolio_dict.keys()) > 0 else 0\n",
    "        return portfolio, get_income_for_portfolio(volume, market, hour)\n",
    "    else:\n",
    "        portfolio, volume = get_feasible_portfolio_for_market(possible_assets = possible_assets, market = market, hour = hour)\n",
    "        return portfolio, get_income_for_portfolio(volume, market, hour)"
   ]
  },
  {
   "cell_type": "code",
   "execution_count": 170,
   "metadata": {},
   "outputs": [],
   "source": [
    "def train_model(epsilon, alpha, weights, num_episodes, L, M, H):\n",
    "    \"\"\" Training function to learn how to bid in to the markets due to the bidding constraints and the asset constraints as well as optimizing the weights. The function will learn how to bid in to the markets by updating the weights due to the features. \n",
    "    \n",
    "\n",
    "    Args:\n",
    "        epsilon (float): float number between 0 and 1, often close to 0\n",
    "        alpha (float): float number between 0 and 1, also known as the learning rate\n",
    "        num_episodes (int): number of episodes to be ran\n",
    "        L ([new_meters.PowerMeter]): list of PowerMeter objects\n",
    "        M ([final_markets.Reservemarket]): list of ReserveMarket objects\n",
    "        H ([pd.Timestamp]): list of timestamps\n",
    "\n",
    "    Returns:\n",
    "        bids (dict): dictionary that holds control over the final bids for each market and each hour\n",
    "        revenues (dict): dictionary that holds the revenue for each episode\n",
    "        available_assets (dict): dictionary that holds the available assets for each hour\n",
    "    \"\"\"\n",
    "    revenues = {}\n",
    "    bid_timeframe = H[24:] # the hours where bids can be placed in\n",
    "    place_bid_hours = [hour for hour in H[:-48] if hour.hour == 7 or hour.hour == 17 or hour.hour == 18] # the hours where bids can be placed from\n",
    "    bids = {}\n",
    "    sup_market_names = [\"FCR\", \"aFRR\"]\n",
    "    markets = [market for market in M if sup_market_names[0] in market.name  or sup_market_names[1] in market.name]\n",
    "    #market_names = [market.name for market in markets]\n",
    "    # will only use FCR-N, FCR-D and aFRR. The FCR markets are both D-1 and D-2 and the aFRR market is D-1 but it is both up and down\n",
    "    \n",
    "    available_assets = {hour: L.copy() for hour in bid_timeframe} \n",
    "    #bids = {(market.name, hour): [] for hour in bid_timeframe for market in markets}\n",
    "    n_actions = 3\n",
    "    \"For each hour, an action should be to either bid in every feasible asset, to bid the minimum volume or to bid nothing\"\n",
    "   \n",
    "    (possible_hours, market_name) = get_possible_dates(place_bid_hours[0]) # the market_name is not the full name of the market, but rather a substring of the full name. Since FCR-D and FCR-N has the same deadlines there will be two markets with the same substring\n",
    "    \n",
    "    possible_markets = [m for m in markets if market_name in m.name] # will either be one or two markets\n",
    "    #indexes = [market_names.index(m.name) for m in possible_markets] # the indexes for each market. This is used to slice the Q-table so it is not necessary in this case\n",
    "    features = get_features(bid_hour = possible_hours[0], available_assets= available_assets[possible_hours[0]], market = possible_markets[0])\n",
    "    \n",
    "    action_0 = random.randint(0, n_actions-1)\n",
    "    action_list = [] # list to keep track of the actions taken.\n",
    "    \n",
    "    # extract hours from H where hour == 7, 17, 18\n",
    "    \n",
    "    \n",
    "    for episode_n in range(num_episodes):\n",
    "        if episode_n > 0:\n",
    "            epsilon -= 0.02\n",
    "            alpha -= 0.001\n",
    "        revenue = 0\n",
    "        #bids = {(market.name, hour): [] for hour in bid_timeframe for market in markets}\n",
    "        available_assets = {hour: L.copy() for hour in bid_timeframe}\n",
    "        for place_hour in place_bid_hours:\n",
    "            (possible_hours, market_name) = get_possible_dates(place_hour)\n",
    "            if len(possible_hours) != 24:\n",
    "                #print(f\"No bids for {place_hour}\")\n",
    "                #print(f\"possible_hours: {len(possible_hours)}\")\n",
    "                break\n",
    "            possible_markets = [m for m in markets if market_name in m.name] # because i am now using only no5 markets, this list should be of length 1 or 2.\n",
    "            #indexes = [market_names.index(m.name) for m in possible_markets]\n",
    "            #print(f\"place_hour : {place_hour}\")\n",
    "            for current_market in possible_markets:\n",
    "                #print(f\"current_market : {current_market.name}\")\n",
    "                for bid_hour in possible_hours:\n",
    "                    #print(f\"bid_hour : {bid_hour}\")\n",
    "                    #print(f\" action_0 : {action_0}\")\n",
    "                    chosen_portfolio, reward = make_bid(current_market, bid_hour, action_0, available_assets[bid_hour]) # get portfolio and reward for a bid\n",
    "                    #print(f\"reward for {bid_hour} is {reward}\")\n",
    "                    available_assets[bid_hour] = [asset for asset in available_assets[bid_hour] if asset not in chosen_portfolio] # remove the assets that were bid from the available assets\n",
    "                    bids[(current_market.name, bid_hour)] = chosen_portfolio # add the bid to the bids dictionary\n",
    "                    new_features = get_features(bid_hour = bid_hour, available_assets= available_assets[bid_hour], market = current_market) # update the features\n",
    "                    \n",
    "                    possible_actions = [np.dot(weights[action], new_features) for action in range(n_actions)] \n",
    "                    \n",
    "                    new_action = greedy_action(possible_actions, epsilon)\n",
    "                    \n",
    "                    action_list.append(new_action)\n",
    "                    \n",
    "                    delta = reward + np.dot(weights[new_action], new_features) - np.dot(weights[action_0], features)\n",
    "                    \n",
    "                    #weights = weights + alpha * delta * np.array(features + [action_0])\n",
    "                    weights[action_0] = weights[action_0] + alpha * delta * features[action_0] # * features???\n",
    "                    \n",
    "                    features, action_0 = new_features, new_action\n",
    "                    revenue += reward\n",
    "                    \n",
    "                    \n",
    "        revenues[episode_n] = revenue\n",
    "    return bids, revenues, available_assets, weights, action_list"
   ]
  },
  {
   "cell_type": "code",
   "execution_count": 171,
   "metadata": {},
   "outputs": [],
   "source": [
    "def initialize_weights(n_features :int , n_actions : int):\n",
    "    return [np.zeros((n_features)) for _ in range(n_actions)]"
   ]
  },
  {
   "cell_type": "code",
   "execution_count": 172,
   "metadata": {},
   "outputs": [
    {
     "data": {
      "text/plain": [
       "[array([0., 0., 0.]), array([0., 0., 0.]), array([0., 0., 0.])]"
      ]
     },
     "execution_count": 172,
     "metadata": {},
     "output_type": "execute_result"
    }
   ],
   "source": [
    "initialize_weights(3, 3)"
   ]
  },
  {
   "cell_type": "code",
   "execution_count": 173,
   "metadata": {},
   "outputs": [
    {
     "name": "stderr",
     "output_type": "stream",
     "text": [
      "/var/folders/zq/tp7687p50wq08mhvgw4wlv780000gn/T/ipykernel_59685/3109361383.py:77: RuntimeWarning: invalid value encountered in scalar subtract\n",
      "  delta = reward + np.dot(weights[new_action], new_features) - np.dot(weights[action_0], features)\n",
      "/var/folders/zq/tp7687p50wq08mhvgw4wlv780000gn/T/ipykernel_59685/3109361383.py:77: RuntimeWarning: invalid value encountered in scalar subtract\n",
      "  delta = reward + np.dot(weights[new_action], new_features) - np.dot(weights[action_0], features)\n"
     ]
    }
   ],
   "source": [
    "bids, revenues, available_assets, weights, action_list = train_model(epsilon = 0.2, alpha = 0.1, weights = initialize_weights(5, 3), num_episodes = 1, L = L, M = M, H = H)"
   ]
  },
  {
   "cell_type": "code",
   "execution_count": 174,
   "metadata": {},
   "outputs": [
    {
     "data": {
      "text/plain": [
       "{0: 1921.5686056699997}"
      ]
     },
     "execution_count": 174,
     "metadata": {},
     "output_type": "execute_result"
    }
   ],
   "source": [
    "revenues"
   ]
  },
  {
   "cell_type": "code",
   "execution_count": 175,
   "metadata": {},
   "outputs": [
    {
     "data": {
      "text/plain": [
       "dict_keys([('aFRR up_NO5', Timestamp('2023-06-20 00:00:00+0200', tz='Europe/Oslo')), ('aFRR up_NO5', Timestamp('2023-06-20 01:00:00+0200', tz='Europe/Oslo')), ('aFRR up_NO5', Timestamp('2023-06-20 02:00:00+0200', tz='Europe/Oslo')), ('aFRR up_NO5', Timestamp('2023-06-20 03:00:00+0200', tz='Europe/Oslo')), ('aFRR up_NO5', Timestamp('2023-06-20 04:00:00+0200', tz='Europe/Oslo')), ('aFRR up_NO5', Timestamp('2023-06-20 05:00:00+0200', tz='Europe/Oslo')), ('aFRR up_NO5', Timestamp('2023-06-20 06:00:00+0200', tz='Europe/Oslo')), ('aFRR up_NO5', Timestamp('2023-06-20 07:00:00+0200', tz='Europe/Oslo')), ('aFRR up_NO5', Timestamp('2023-06-20 08:00:00+0200', tz='Europe/Oslo')), ('aFRR up_NO5', Timestamp('2023-06-20 09:00:00+0200', tz='Europe/Oslo')), ('aFRR up_NO5', Timestamp('2023-06-20 10:00:00+0200', tz='Europe/Oslo')), ('aFRR up_NO5', Timestamp('2023-06-20 11:00:00+0200', tz='Europe/Oslo')), ('aFRR up_NO5', Timestamp('2023-06-20 12:00:00+0200', tz='Europe/Oslo')), ('aFRR up_NO5', Timestamp('2023-06-20 13:00:00+0200', tz='Europe/Oslo')), ('aFRR up_NO5', Timestamp('2023-06-20 14:00:00+0200', tz='Europe/Oslo')), ('aFRR up_NO5', Timestamp('2023-06-20 15:00:00+0200', tz='Europe/Oslo')), ('aFRR up_NO5', Timestamp('2023-06-20 16:00:00+0200', tz='Europe/Oslo')), ('aFRR up_NO5', Timestamp('2023-06-20 17:00:00+0200', tz='Europe/Oslo')), ('aFRR up_NO5', Timestamp('2023-06-20 18:00:00+0200', tz='Europe/Oslo')), ('aFRR up_NO5', Timestamp('2023-06-20 19:00:00+0200', tz='Europe/Oslo')), ('aFRR up_NO5', Timestamp('2023-06-20 20:00:00+0200', tz='Europe/Oslo')), ('aFRR up_NO5', Timestamp('2023-06-20 21:00:00+0200', tz='Europe/Oslo')), ('aFRR up_NO5', Timestamp('2023-06-20 22:00:00+0200', tz='Europe/Oslo')), ('aFRR up_NO5', Timestamp('2023-06-20 23:00:00+0200', tz='Europe/Oslo')), ('aFRR down_NO5', Timestamp('2023-06-20 00:00:00+0200', tz='Europe/Oslo')), ('aFRR down_NO5', Timestamp('2023-06-20 01:00:00+0200', tz='Europe/Oslo')), ('aFRR down_NO5', Timestamp('2023-06-20 02:00:00+0200', tz='Europe/Oslo')), ('aFRR down_NO5', Timestamp('2023-06-20 03:00:00+0200', tz='Europe/Oslo')), ('aFRR down_NO5', Timestamp('2023-06-20 04:00:00+0200', tz='Europe/Oslo')), ('aFRR down_NO5', Timestamp('2023-06-20 05:00:00+0200', tz='Europe/Oslo')), ('aFRR down_NO5', Timestamp('2023-06-20 06:00:00+0200', tz='Europe/Oslo')), ('aFRR down_NO5', Timestamp('2023-06-20 07:00:00+0200', tz='Europe/Oslo')), ('aFRR down_NO5', Timestamp('2023-06-20 08:00:00+0200', tz='Europe/Oslo')), ('aFRR down_NO5', Timestamp('2023-06-20 09:00:00+0200', tz='Europe/Oslo')), ('aFRR down_NO5', Timestamp('2023-06-20 10:00:00+0200', tz='Europe/Oslo')), ('aFRR down_NO5', Timestamp('2023-06-20 11:00:00+0200', tz='Europe/Oslo')), ('aFRR down_NO5', Timestamp('2023-06-20 12:00:00+0200', tz='Europe/Oslo')), ('aFRR down_NO5', Timestamp('2023-06-20 13:00:00+0200', tz='Europe/Oslo')), ('aFRR down_NO5', Timestamp('2023-06-20 14:00:00+0200', tz='Europe/Oslo')), ('aFRR down_NO5', Timestamp('2023-06-20 15:00:00+0200', tz='Europe/Oslo')), ('aFRR down_NO5', Timestamp('2023-06-20 16:00:00+0200', tz='Europe/Oslo')), ('aFRR down_NO5', Timestamp('2023-06-20 17:00:00+0200', tz='Europe/Oslo')), ('aFRR down_NO5', Timestamp('2023-06-20 18:00:00+0200', tz='Europe/Oslo')), ('aFRR down_NO5', Timestamp('2023-06-20 19:00:00+0200', tz='Europe/Oslo')), ('aFRR down_NO5', Timestamp('2023-06-20 20:00:00+0200', tz='Europe/Oslo')), ('aFRR down_NO5', Timestamp('2023-06-20 21:00:00+0200', tz='Europe/Oslo')), ('aFRR down_NO5', Timestamp('2023-06-20 22:00:00+0200', tz='Europe/Oslo')), ('aFRR down_NO5', Timestamp('2023-06-20 23:00:00+0200', tz='Europe/Oslo')), ('FCR_D_D_2_NO5', Timestamp('2023-06-21 00:00:00+0200', tz='Europe/Oslo')), ('FCR_D_D_2_NO5', Timestamp('2023-06-21 01:00:00+0200', tz='Europe/Oslo')), ('FCR_D_D_2_NO5', Timestamp('2023-06-21 02:00:00+0200', tz='Europe/Oslo')), ('FCR_D_D_2_NO5', Timestamp('2023-06-21 03:00:00+0200', tz='Europe/Oslo')), ('FCR_D_D_2_NO5', Timestamp('2023-06-21 04:00:00+0200', tz='Europe/Oslo')), ('FCR_D_D_2_NO5', Timestamp('2023-06-21 05:00:00+0200', tz='Europe/Oslo')), ('FCR_D_D_2_NO5', Timestamp('2023-06-21 06:00:00+0200', tz='Europe/Oslo')), ('FCR_D_D_2_NO5', Timestamp('2023-06-21 07:00:00+0200', tz='Europe/Oslo')), ('FCR_D_D_2_NO5', Timestamp('2023-06-21 08:00:00+0200', tz='Europe/Oslo')), ('FCR_D_D_2_NO5', Timestamp('2023-06-21 09:00:00+0200', tz='Europe/Oslo')), ('FCR_D_D_2_NO5', Timestamp('2023-06-21 10:00:00+0200', tz='Europe/Oslo')), ('FCR_D_D_2_NO5', Timestamp('2023-06-21 11:00:00+0200', tz='Europe/Oslo')), ('FCR_D_D_2_NO5', Timestamp('2023-06-21 12:00:00+0200', tz='Europe/Oslo')), ('FCR_D_D_2_NO5', Timestamp('2023-06-21 13:00:00+0200', tz='Europe/Oslo')), ('FCR_D_D_2_NO5', Timestamp('2023-06-21 14:00:00+0200', tz='Europe/Oslo')), ('FCR_D_D_2_NO5', Timestamp('2023-06-21 15:00:00+0200', tz='Europe/Oslo')), ('FCR_D_D_2_NO5', Timestamp('2023-06-21 16:00:00+0200', tz='Europe/Oslo')), ('FCR_D_D_2_NO5', Timestamp('2023-06-21 17:00:00+0200', tz='Europe/Oslo')), ('FCR_D_D_2_NO5', Timestamp('2023-06-21 18:00:00+0200', tz='Europe/Oslo')), ('FCR_D_D_2_NO5', Timestamp('2023-06-21 19:00:00+0200', tz='Europe/Oslo')), ('FCR_D_D_2_NO5', Timestamp('2023-06-21 20:00:00+0200', tz='Europe/Oslo')), ('FCR_D_D_2_NO5', Timestamp('2023-06-21 21:00:00+0200', tz='Europe/Oslo')), ('FCR_D_D_2_NO5', Timestamp('2023-06-21 22:00:00+0200', tz='Europe/Oslo')), ('FCR_D_D_2_NO5', Timestamp('2023-06-21 23:00:00+0200', tz='Europe/Oslo')), ('FCR_N_D_2_NO5', Timestamp('2023-06-21 00:00:00+0200', tz='Europe/Oslo')), ('FCR_N_D_2_NO5', Timestamp('2023-06-21 01:00:00+0200', tz='Europe/Oslo')), ('FCR_N_D_2_NO5', Timestamp('2023-06-21 02:00:00+0200', tz='Europe/Oslo')), ('FCR_N_D_2_NO5', Timestamp('2023-06-21 03:00:00+0200', tz='Europe/Oslo')), ('FCR_N_D_2_NO5', Timestamp('2023-06-21 04:00:00+0200', tz='Europe/Oslo')), ('FCR_N_D_2_NO5', Timestamp('2023-06-21 05:00:00+0200', tz='Europe/Oslo')), ('FCR_N_D_2_NO5', Timestamp('2023-06-21 06:00:00+0200', tz='Europe/Oslo')), ('FCR_N_D_2_NO5', Timestamp('2023-06-21 07:00:00+0200', tz='Europe/Oslo')), ('FCR_N_D_2_NO5', Timestamp('2023-06-21 08:00:00+0200', tz='Europe/Oslo')), ('FCR_N_D_2_NO5', Timestamp('2023-06-21 09:00:00+0200', tz='Europe/Oslo')), ('FCR_N_D_2_NO5', Timestamp('2023-06-21 10:00:00+0200', tz='Europe/Oslo')), ('FCR_N_D_2_NO5', Timestamp('2023-06-21 11:00:00+0200', tz='Europe/Oslo')), ('FCR_N_D_2_NO5', Timestamp('2023-06-21 12:00:00+0200', tz='Europe/Oslo')), ('FCR_N_D_2_NO5', Timestamp('2023-06-21 13:00:00+0200', tz='Europe/Oslo')), ('FCR_N_D_2_NO5', Timestamp('2023-06-21 14:00:00+0200', tz='Europe/Oslo')), ('FCR_N_D_2_NO5', Timestamp('2023-06-21 15:00:00+0200', tz='Europe/Oslo')), ('FCR_N_D_2_NO5', Timestamp('2023-06-21 16:00:00+0200', tz='Europe/Oslo')), ('FCR_N_D_2_NO5', Timestamp('2023-06-21 17:00:00+0200', tz='Europe/Oslo')), ('FCR_N_D_2_NO5', Timestamp('2023-06-21 18:00:00+0200', tz='Europe/Oslo')), ('FCR_N_D_2_NO5', Timestamp('2023-06-21 19:00:00+0200', tz='Europe/Oslo')), ('FCR_N_D_2_NO5', Timestamp('2023-06-21 20:00:00+0200', tz='Europe/Oslo')), ('FCR_N_D_2_NO5', Timestamp('2023-06-21 21:00:00+0200', tz='Europe/Oslo')), ('FCR_N_D_2_NO5', Timestamp('2023-06-21 22:00:00+0200', tz='Europe/Oslo')), ('FCR_N_D_2_NO5', Timestamp('2023-06-21 23:00:00+0200', tz='Europe/Oslo')), ('FCR_D_D_1_NO5', Timestamp('2023-06-20 00:00:00+0200', tz='Europe/Oslo')), ('FCR_D_D_1_NO5', Timestamp('2023-06-20 01:00:00+0200', tz='Europe/Oslo')), ('FCR_D_D_1_NO5', Timestamp('2023-06-20 02:00:00+0200', tz='Europe/Oslo')), ('FCR_D_D_1_NO5', Timestamp('2023-06-20 03:00:00+0200', tz='Europe/Oslo')), ('FCR_D_D_1_NO5', Timestamp('2023-06-20 04:00:00+0200', tz='Europe/Oslo')), ('FCR_D_D_1_NO5', Timestamp('2023-06-20 05:00:00+0200', tz='Europe/Oslo')), ('FCR_D_D_1_NO5', Timestamp('2023-06-20 06:00:00+0200', tz='Europe/Oslo')), ('FCR_D_D_1_NO5', Timestamp('2023-06-20 07:00:00+0200', tz='Europe/Oslo')), ('FCR_D_D_1_NO5', Timestamp('2023-06-20 08:00:00+0200', tz='Europe/Oslo')), ('FCR_D_D_1_NO5', Timestamp('2023-06-20 09:00:00+0200', tz='Europe/Oslo')), ('FCR_D_D_1_NO5', Timestamp('2023-06-20 10:00:00+0200', tz='Europe/Oslo')), ('FCR_D_D_1_NO5', Timestamp('2023-06-20 11:00:00+0200', tz='Europe/Oslo')), ('FCR_D_D_1_NO5', Timestamp('2023-06-20 12:00:00+0200', tz='Europe/Oslo')), ('FCR_D_D_1_NO5', Timestamp('2023-06-20 13:00:00+0200', tz='Europe/Oslo')), ('FCR_D_D_1_NO5', Timestamp('2023-06-20 14:00:00+0200', tz='Europe/Oslo')), ('FCR_D_D_1_NO5', Timestamp('2023-06-20 15:00:00+0200', tz='Europe/Oslo')), ('FCR_D_D_1_NO5', Timestamp('2023-06-20 16:00:00+0200', tz='Europe/Oslo')), ('FCR_D_D_1_NO5', Timestamp('2023-06-20 17:00:00+0200', tz='Europe/Oslo')), ('FCR_D_D_1_NO5', Timestamp('2023-06-20 18:00:00+0200', tz='Europe/Oslo')), ('FCR_D_D_1_NO5', Timestamp('2023-06-20 19:00:00+0200', tz='Europe/Oslo')), ('FCR_D_D_1_NO5', Timestamp('2023-06-20 20:00:00+0200', tz='Europe/Oslo')), ('FCR_D_D_1_NO5', Timestamp('2023-06-20 21:00:00+0200', tz='Europe/Oslo')), ('FCR_D_D_1_NO5', Timestamp('2023-06-20 22:00:00+0200', tz='Europe/Oslo')), ('FCR_D_D_1_NO5', Timestamp('2023-06-20 23:00:00+0200', tz='Europe/Oslo')), ('FCR_N_D_1_NO5', Timestamp('2023-06-20 00:00:00+0200', tz='Europe/Oslo')), ('FCR_N_D_1_NO5', Timestamp('2023-06-20 01:00:00+0200', tz='Europe/Oslo')), ('FCR_N_D_1_NO5', Timestamp('2023-06-20 02:00:00+0200', tz='Europe/Oslo')), ('FCR_N_D_1_NO5', Timestamp('2023-06-20 03:00:00+0200', tz='Europe/Oslo')), ('FCR_N_D_1_NO5', Timestamp('2023-06-20 04:00:00+0200', tz='Europe/Oslo')), ('FCR_N_D_1_NO5', Timestamp('2023-06-20 05:00:00+0200', tz='Europe/Oslo')), ('FCR_N_D_1_NO5', Timestamp('2023-06-20 06:00:00+0200', tz='Europe/Oslo')), ('FCR_N_D_1_NO5', Timestamp('2023-06-20 07:00:00+0200', tz='Europe/Oslo')), ('FCR_N_D_1_NO5', Timestamp('2023-06-20 08:00:00+0200', tz='Europe/Oslo')), ('FCR_N_D_1_NO5', Timestamp('2023-06-20 09:00:00+0200', tz='Europe/Oslo')), ('FCR_N_D_1_NO5', Timestamp('2023-06-20 10:00:00+0200', tz='Europe/Oslo')), ('FCR_N_D_1_NO5', Timestamp('2023-06-20 11:00:00+0200', tz='Europe/Oslo')), ('FCR_N_D_1_NO5', Timestamp('2023-06-20 12:00:00+0200', tz='Europe/Oslo')), ('FCR_N_D_1_NO5', Timestamp('2023-06-20 13:00:00+0200', tz='Europe/Oslo')), ('FCR_N_D_1_NO5', Timestamp('2023-06-20 14:00:00+0200', tz='Europe/Oslo')), ('FCR_N_D_1_NO5', Timestamp('2023-06-20 15:00:00+0200', tz='Europe/Oslo')), ('FCR_N_D_1_NO5', Timestamp('2023-06-20 16:00:00+0200', tz='Europe/Oslo')), ('FCR_N_D_1_NO5', Timestamp('2023-06-20 17:00:00+0200', tz='Europe/Oslo')), ('FCR_N_D_1_NO5', Timestamp('2023-06-20 18:00:00+0200', tz='Europe/Oslo')), ('FCR_N_D_1_NO5', Timestamp('2023-06-20 19:00:00+0200', tz='Europe/Oslo')), ('FCR_N_D_1_NO5', Timestamp('2023-06-20 20:00:00+0200', tz='Europe/Oslo')), ('FCR_N_D_1_NO5', Timestamp('2023-06-20 21:00:00+0200', tz='Europe/Oslo')), ('FCR_N_D_1_NO5', Timestamp('2023-06-20 22:00:00+0200', tz='Europe/Oslo')), ('FCR_N_D_1_NO5', Timestamp('2023-06-20 23:00:00+0200', tz='Europe/Oslo')), ('aFRR up_NO5', Timestamp('2023-06-21 00:00:00+0200', tz='Europe/Oslo')), ('aFRR up_NO5', Timestamp('2023-06-21 01:00:00+0200', tz='Europe/Oslo')), ('aFRR up_NO5', Timestamp('2023-06-21 02:00:00+0200', tz='Europe/Oslo')), ('aFRR up_NO5', Timestamp('2023-06-21 03:00:00+0200', tz='Europe/Oslo')), ('aFRR up_NO5', Timestamp('2023-06-21 04:00:00+0200', tz='Europe/Oslo')), ('aFRR up_NO5', Timestamp('2023-06-21 05:00:00+0200', tz='Europe/Oslo')), ('aFRR up_NO5', Timestamp('2023-06-21 06:00:00+0200', tz='Europe/Oslo')), ('aFRR up_NO5', Timestamp('2023-06-21 07:00:00+0200', tz='Europe/Oslo')), ('aFRR up_NO5', Timestamp('2023-06-21 08:00:00+0200', tz='Europe/Oslo')), ('aFRR up_NO5', Timestamp('2023-06-21 09:00:00+0200', tz='Europe/Oslo')), ('aFRR up_NO5', Timestamp('2023-06-21 10:00:00+0200', tz='Europe/Oslo')), ('aFRR up_NO5', Timestamp('2023-06-21 11:00:00+0200', tz='Europe/Oslo')), ('aFRR up_NO5', Timestamp('2023-06-21 12:00:00+0200', tz='Europe/Oslo')), ('aFRR up_NO5', Timestamp('2023-06-21 13:00:00+0200', tz='Europe/Oslo')), ('aFRR up_NO5', Timestamp('2023-06-21 14:00:00+0200', tz='Europe/Oslo')), ('aFRR up_NO5', Timestamp('2023-06-21 15:00:00+0200', tz='Europe/Oslo')), ('aFRR up_NO5', Timestamp('2023-06-21 16:00:00+0200', tz='Europe/Oslo')), ('aFRR up_NO5', Timestamp('2023-06-21 17:00:00+0200', tz='Europe/Oslo')), ('aFRR up_NO5', Timestamp('2023-06-21 18:00:00+0200', tz='Europe/Oslo')), ('aFRR up_NO5', Timestamp('2023-06-21 19:00:00+0200', tz='Europe/Oslo')), ('aFRR up_NO5', Timestamp('2023-06-21 20:00:00+0200', tz='Europe/Oslo')), ('aFRR up_NO5', Timestamp('2023-06-21 21:00:00+0200', tz='Europe/Oslo')), ('aFRR up_NO5', Timestamp('2023-06-21 22:00:00+0200', tz='Europe/Oslo')), ('aFRR up_NO5', Timestamp('2023-06-21 23:00:00+0200', tz='Europe/Oslo')), ('aFRR down_NO5', Timestamp('2023-06-21 00:00:00+0200', tz='Europe/Oslo')), ('aFRR down_NO5', Timestamp('2023-06-21 01:00:00+0200', tz='Europe/Oslo')), ('aFRR down_NO5', Timestamp('2023-06-21 02:00:00+0200', tz='Europe/Oslo')), ('aFRR down_NO5', Timestamp('2023-06-21 03:00:00+0200', tz='Europe/Oslo')), ('aFRR down_NO5', Timestamp('2023-06-21 04:00:00+0200', tz='Europe/Oslo')), ('aFRR down_NO5', Timestamp('2023-06-21 05:00:00+0200', tz='Europe/Oslo')), ('aFRR down_NO5', Timestamp('2023-06-21 06:00:00+0200', tz='Europe/Oslo')), ('aFRR down_NO5', Timestamp('2023-06-21 07:00:00+0200', tz='Europe/Oslo')), ('aFRR down_NO5', Timestamp('2023-06-21 08:00:00+0200', tz='Europe/Oslo')), ('aFRR down_NO5', Timestamp('2023-06-21 09:00:00+0200', tz='Europe/Oslo')), ('aFRR down_NO5', Timestamp('2023-06-21 10:00:00+0200', tz='Europe/Oslo')), ('aFRR down_NO5', Timestamp('2023-06-21 11:00:00+0200', tz='Europe/Oslo')), ('aFRR down_NO5', Timestamp('2023-06-21 12:00:00+0200', tz='Europe/Oslo')), ('aFRR down_NO5', Timestamp('2023-06-21 13:00:00+0200', tz='Europe/Oslo')), ('aFRR down_NO5', Timestamp('2023-06-21 14:00:00+0200', tz='Europe/Oslo')), ('aFRR down_NO5', Timestamp('2023-06-21 15:00:00+0200', tz='Europe/Oslo')), ('aFRR down_NO5', Timestamp('2023-06-21 16:00:00+0200', tz='Europe/Oslo')), ('aFRR down_NO5', Timestamp('2023-06-21 17:00:00+0200', tz='Europe/Oslo')), ('aFRR down_NO5', Timestamp('2023-06-21 18:00:00+0200', tz='Europe/Oslo')), ('aFRR down_NO5', Timestamp('2023-06-21 19:00:00+0200', tz='Europe/Oslo')), ('aFRR down_NO5', Timestamp('2023-06-21 20:00:00+0200', tz='Europe/Oslo')), ('aFRR down_NO5', Timestamp('2023-06-21 21:00:00+0200', tz='Europe/Oslo')), ('aFRR down_NO5', Timestamp('2023-06-21 22:00:00+0200', tz='Europe/Oslo')), ('aFRR down_NO5', Timestamp('2023-06-21 23:00:00+0200', tz='Europe/Oslo')), ('FCR_D_D_2_NO5', Timestamp('2023-06-22 00:00:00+0200', tz='Europe/Oslo')), ('FCR_D_D_2_NO5', Timestamp('2023-06-22 01:00:00+0200', tz='Europe/Oslo')), ('FCR_D_D_2_NO5', Timestamp('2023-06-22 02:00:00+0200', tz='Europe/Oslo')), ('FCR_D_D_2_NO5', Timestamp('2023-06-22 03:00:00+0200', tz='Europe/Oslo')), ('FCR_D_D_2_NO5', Timestamp('2023-06-22 04:00:00+0200', tz='Europe/Oslo')), ('FCR_D_D_2_NO5', Timestamp('2023-06-22 05:00:00+0200', tz='Europe/Oslo')), ('FCR_D_D_2_NO5', Timestamp('2023-06-22 06:00:00+0200', tz='Europe/Oslo')), ('FCR_D_D_2_NO5', Timestamp('2023-06-22 07:00:00+0200', tz='Europe/Oslo')), ('FCR_D_D_2_NO5', Timestamp('2023-06-22 08:00:00+0200', tz='Europe/Oslo')), ('FCR_D_D_2_NO5', Timestamp('2023-06-22 09:00:00+0200', tz='Europe/Oslo')), ('FCR_D_D_2_NO5', Timestamp('2023-06-22 10:00:00+0200', tz='Europe/Oslo')), ('FCR_D_D_2_NO5', Timestamp('2023-06-22 11:00:00+0200', tz='Europe/Oslo')), ('FCR_D_D_2_NO5', Timestamp('2023-06-22 12:00:00+0200', tz='Europe/Oslo')), ('FCR_D_D_2_NO5', Timestamp('2023-06-22 13:00:00+0200', tz='Europe/Oslo')), ('FCR_D_D_2_NO5', Timestamp('2023-06-22 14:00:00+0200', tz='Europe/Oslo')), ('FCR_D_D_2_NO5', Timestamp('2023-06-22 15:00:00+0200', tz='Europe/Oslo')), ('FCR_D_D_2_NO5', Timestamp('2023-06-22 16:00:00+0200', tz='Europe/Oslo')), ('FCR_D_D_2_NO5', Timestamp('2023-06-22 17:00:00+0200', tz='Europe/Oslo')), ('FCR_D_D_2_NO5', Timestamp('2023-06-22 18:00:00+0200', tz='Europe/Oslo')), ('FCR_D_D_2_NO5', Timestamp('2023-06-22 19:00:00+0200', tz='Europe/Oslo')), ('FCR_D_D_2_NO5', Timestamp('2023-06-22 20:00:00+0200', tz='Europe/Oslo')), ('FCR_D_D_2_NO5', Timestamp('2023-06-22 21:00:00+0200', tz='Europe/Oslo')), ('FCR_D_D_2_NO5', Timestamp('2023-06-22 22:00:00+0200', tz='Europe/Oslo')), ('FCR_D_D_2_NO5', Timestamp('2023-06-22 23:00:00+0200', tz='Europe/Oslo')), ('FCR_N_D_2_NO5', Timestamp('2023-06-22 00:00:00+0200', tz='Europe/Oslo')), ('FCR_N_D_2_NO5', Timestamp('2023-06-22 01:00:00+0200', tz='Europe/Oslo')), ('FCR_N_D_2_NO5', Timestamp('2023-06-22 02:00:00+0200', tz='Europe/Oslo')), ('FCR_N_D_2_NO5', Timestamp('2023-06-22 03:00:00+0200', tz='Europe/Oslo')), ('FCR_N_D_2_NO5', Timestamp('2023-06-22 04:00:00+0200', tz='Europe/Oslo')), ('FCR_N_D_2_NO5', Timestamp('2023-06-22 05:00:00+0200', tz='Europe/Oslo')), ('FCR_N_D_2_NO5', Timestamp('2023-06-22 06:00:00+0200', tz='Europe/Oslo')), ('FCR_N_D_2_NO5', Timestamp('2023-06-22 07:00:00+0200', tz='Europe/Oslo')), ('FCR_N_D_2_NO5', Timestamp('2023-06-22 08:00:00+0200', tz='Europe/Oslo')), ('FCR_N_D_2_NO5', Timestamp('2023-06-22 09:00:00+0200', tz='Europe/Oslo')), ('FCR_N_D_2_NO5', Timestamp('2023-06-22 10:00:00+0200', tz='Europe/Oslo')), ('FCR_N_D_2_NO5', Timestamp('2023-06-22 11:00:00+0200', tz='Europe/Oslo')), ('FCR_N_D_2_NO5', Timestamp('2023-06-22 12:00:00+0200', tz='Europe/Oslo')), ('FCR_N_D_2_NO5', Timestamp('2023-06-22 13:00:00+0200', tz='Europe/Oslo')), ('FCR_N_D_2_NO5', Timestamp('2023-06-22 14:00:00+0200', tz='Europe/Oslo')), ('FCR_N_D_2_NO5', Timestamp('2023-06-22 15:00:00+0200', tz='Europe/Oslo')), ('FCR_N_D_2_NO5', Timestamp('2023-06-22 16:00:00+0200', tz='Europe/Oslo')), ('FCR_N_D_2_NO5', Timestamp('2023-06-22 17:00:00+0200', tz='Europe/Oslo')), ('FCR_N_D_2_NO5', Timestamp('2023-06-22 18:00:00+0200', tz='Europe/Oslo')), ('FCR_N_D_2_NO5', Timestamp('2023-06-22 19:00:00+0200', tz='Europe/Oslo')), ('FCR_N_D_2_NO5', Timestamp('2023-06-22 20:00:00+0200', tz='Europe/Oslo')), ('FCR_N_D_2_NO5', Timestamp('2023-06-22 21:00:00+0200', tz='Europe/Oslo')), ('FCR_N_D_2_NO5', Timestamp('2023-06-22 22:00:00+0200', tz='Europe/Oslo')), ('FCR_N_D_2_NO5', Timestamp('2023-06-22 23:00:00+0200', tz='Europe/Oslo')), ('FCR_D_D_1_NO5', Timestamp('2023-06-21 00:00:00+0200', tz='Europe/Oslo')), ('FCR_D_D_1_NO5', Timestamp('2023-06-21 01:00:00+0200', tz='Europe/Oslo')), ('FCR_D_D_1_NO5', Timestamp('2023-06-21 02:00:00+0200', tz='Europe/Oslo')), ('FCR_D_D_1_NO5', Timestamp('2023-06-21 03:00:00+0200', tz='Europe/Oslo')), ('FCR_D_D_1_NO5', Timestamp('2023-06-21 04:00:00+0200', tz='Europe/Oslo')), ('FCR_D_D_1_NO5', Timestamp('2023-06-21 05:00:00+0200', tz='Europe/Oslo')), ('FCR_D_D_1_NO5', Timestamp('2023-06-21 06:00:00+0200', tz='Europe/Oslo')), ('FCR_D_D_1_NO5', Timestamp('2023-06-21 07:00:00+0200', tz='Europe/Oslo')), ('FCR_D_D_1_NO5', Timestamp('2023-06-21 08:00:00+0200', tz='Europe/Oslo')), ('FCR_D_D_1_NO5', Timestamp('2023-06-21 09:00:00+0200', tz='Europe/Oslo')), ('FCR_D_D_1_NO5', Timestamp('2023-06-21 10:00:00+0200', tz='Europe/Oslo')), ('FCR_D_D_1_NO5', Timestamp('2023-06-21 11:00:00+0200', tz='Europe/Oslo')), ('FCR_D_D_1_NO5', Timestamp('2023-06-21 12:00:00+0200', tz='Europe/Oslo')), ('FCR_D_D_1_NO5', Timestamp('2023-06-21 13:00:00+0200', tz='Europe/Oslo')), ('FCR_D_D_1_NO5', Timestamp('2023-06-21 14:00:00+0200', tz='Europe/Oslo')), ('FCR_D_D_1_NO5', Timestamp('2023-06-21 15:00:00+0200', tz='Europe/Oslo')), ('FCR_D_D_1_NO5', Timestamp('2023-06-21 16:00:00+0200', tz='Europe/Oslo')), ('FCR_D_D_1_NO5', Timestamp('2023-06-21 17:00:00+0200', tz='Europe/Oslo')), ('FCR_D_D_1_NO5', Timestamp('2023-06-21 18:00:00+0200', tz='Europe/Oslo')), ('FCR_D_D_1_NO5', Timestamp('2023-06-21 19:00:00+0200', tz='Europe/Oslo')), ('FCR_D_D_1_NO5', Timestamp('2023-06-21 20:00:00+0200', tz='Europe/Oslo')), ('FCR_D_D_1_NO5', Timestamp('2023-06-21 21:00:00+0200', tz='Europe/Oslo')), ('FCR_D_D_1_NO5', Timestamp('2023-06-21 22:00:00+0200', tz='Europe/Oslo')), ('FCR_D_D_1_NO5', Timestamp('2023-06-21 23:00:00+0200', tz='Europe/Oslo')), ('FCR_N_D_1_NO5', Timestamp('2023-06-21 00:00:00+0200', tz='Europe/Oslo')), ('FCR_N_D_1_NO5', Timestamp('2023-06-21 01:00:00+0200', tz='Europe/Oslo')), ('FCR_N_D_1_NO5', Timestamp('2023-06-21 02:00:00+0200', tz='Europe/Oslo')), ('FCR_N_D_1_NO5', Timestamp('2023-06-21 03:00:00+0200', tz='Europe/Oslo')), ('FCR_N_D_1_NO5', Timestamp('2023-06-21 04:00:00+0200', tz='Europe/Oslo')), ('FCR_N_D_1_NO5', Timestamp('2023-06-21 05:00:00+0200', tz='Europe/Oslo')), ('FCR_N_D_1_NO5', Timestamp('2023-06-21 06:00:00+0200', tz='Europe/Oslo')), ('FCR_N_D_1_NO5', Timestamp('2023-06-21 07:00:00+0200', tz='Europe/Oslo')), ('FCR_N_D_1_NO5', Timestamp('2023-06-21 08:00:00+0200', tz='Europe/Oslo')), ('FCR_N_D_1_NO5', Timestamp('2023-06-21 09:00:00+0200', tz='Europe/Oslo')), ('FCR_N_D_1_NO5', Timestamp('2023-06-21 10:00:00+0200', tz='Europe/Oslo')), ('FCR_N_D_1_NO5', Timestamp('2023-06-21 11:00:00+0200', tz='Europe/Oslo')), ('FCR_N_D_1_NO5', Timestamp('2023-06-21 12:00:00+0200', tz='Europe/Oslo')), ('FCR_N_D_1_NO5', Timestamp('2023-06-21 13:00:00+0200', tz='Europe/Oslo')), ('FCR_N_D_1_NO5', Timestamp('2023-06-21 14:00:00+0200', tz='Europe/Oslo')), ('FCR_N_D_1_NO5', Timestamp('2023-06-21 15:00:00+0200', tz='Europe/Oslo')), ('FCR_N_D_1_NO5', Timestamp('2023-06-21 16:00:00+0200', tz='Europe/Oslo')), ('FCR_N_D_1_NO5', Timestamp('2023-06-21 17:00:00+0200', tz='Europe/Oslo')), ('FCR_N_D_1_NO5', Timestamp('2023-06-21 18:00:00+0200', tz='Europe/Oslo')), ('FCR_N_D_1_NO5', Timestamp('2023-06-21 19:00:00+0200', tz='Europe/Oslo')), ('FCR_N_D_1_NO5', Timestamp('2023-06-21 20:00:00+0200', tz='Europe/Oslo')), ('FCR_N_D_1_NO5', Timestamp('2023-06-21 21:00:00+0200', tz='Europe/Oslo')), ('FCR_N_D_1_NO5', Timestamp('2023-06-21 22:00:00+0200', tz='Europe/Oslo')), ('FCR_N_D_1_NO5', Timestamp('2023-06-21 23:00:00+0200', tz='Europe/Oslo')), ('aFRR up_NO5', Timestamp('2023-06-22 00:00:00+0200', tz='Europe/Oslo')), ('aFRR up_NO5', Timestamp('2023-06-22 01:00:00+0200', tz='Europe/Oslo')), ('aFRR up_NO5', Timestamp('2023-06-22 02:00:00+0200', tz='Europe/Oslo')), ('aFRR up_NO5', Timestamp('2023-06-22 03:00:00+0200', tz='Europe/Oslo')), ('aFRR up_NO5', Timestamp('2023-06-22 04:00:00+0200', tz='Europe/Oslo')), ('aFRR up_NO5', Timestamp('2023-06-22 05:00:00+0200', tz='Europe/Oslo')), ('aFRR up_NO5', Timestamp('2023-06-22 06:00:00+0200', tz='Europe/Oslo')), ('aFRR up_NO5', Timestamp('2023-06-22 07:00:00+0200', tz='Europe/Oslo')), ('aFRR up_NO5', Timestamp('2023-06-22 08:00:00+0200', tz='Europe/Oslo')), ('aFRR up_NO5', Timestamp('2023-06-22 09:00:00+0200', tz='Europe/Oslo')), ('aFRR up_NO5', Timestamp('2023-06-22 10:00:00+0200', tz='Europe/Oslo')), ('aFRR up_NO5', Timestamp('2023-06-22 11:00:00+0200', tz='Europe/Oslo')), ('aFRR up_NO5', Timestamp('2023-06-22 12:00:00+0200', tz='Europe/Oslo')), ('aFRR up_NO5', Timestamp('2023-06-22 13:00:00+0200', tz='Europe/Oslo')), ('aFRR up_NO5', Timestamp('2023-06-22 14:00:00+0200', tz='Europe/Oslo')), ('aFRR up_NO5', Timestamp('2023-06-22 15:00:00+0200', tz='Europe/Oslo')), ('aFRR up_NO5', Timestamp('2023-06-22 16:00:00+0200', tz='Europe/Oslo')), ('aFRR up_NO5', Timestamp('2023-06-22 17:00:00+0200', tz='Europe/Oslo')), ('aFRR up_NO5', Timestamp('2023-06-22 18:00:00+0200', tz='Europe/Oslo')), ('aFRR up_NO5', Timestamp('2023-06-22 19:00:00+0200', tz='Europe/Oslo')), ('aFRR up_NO5', Timestamp('2023-06-22 20:00:00+0200', tz='Europe/Oslo')), ('aFRR up_NO5', Timestamp('2023-06-22 21:00:00+0200', tz='Europe/Oslo')), ('aFRR up_NO5', Timestamp('2023-06-22 22:00:00+0200', tz='Europe/Oslo')), ('aFRR up_NO5', Timestamp('2023-06-22 23:00:00+0200', tz='Europe/Oslo')), ('aFRR down_NO5', Timestamp('2023-06-22 00:00:00+0200', tz='Europe/Oslo')), ('aFRR down_NO5', Timestamp('2023-06-22 01:00:00+0200', tz='Europe/Oslo')), ('aFRR down_NO5', Timestamp('2023-06-22 02:00:00+0200', tz='Europe/Oslo')), ('aFRR down_NO5', Timestamp('2023-06-22 03:00:00+0200', tz='Europe/Oslo')), ('aFRR down_NO5', Timestamp('2023-06-22 04:00:00+0200', tz='Europe/Oslo')), ('aFRR down_NO5', Timestamp('2023-06-22 05:00:00+0200', tz='Europe/Oslo')), ('aFRR down_NO5', Timestamp('2023-06-22 06:00:00+0200', tz='Europe/Oslo')), ('aFRR down_NO5', Timestamp('2023-06-22 07:00:00+0200', tz='Europe/Oslo')), ('aFRR down_NO5', Timestamp('2023-06-22 08:00:00+0200', tz='Europe/Oslo')), ('aFRR down_NO5', Timestamp('2023-06-22 09:00:00+0200', tz='Europe/Oslo')), ('aFRR down_NO5', Timestamp('2023-06-22 10:00:00+0200', tz='Europe/Oslo')), ('aFRR down_NO5', Timestamp('2023-06-22 11:00:00+0200', tz='Europe/Oslo')), ('aFRR down_NO5', Timestamp('2023-06-22 12:00:00+0200', tz='Europe/Oslo')), ('aFRR down_NO5', Timestamp('2023-06-22 13:00:00+0200', tz='Europe/Oslo')), ('aFRR down_NO5', Timestamp('2023-06-22 14:00:00+0200', tz='Europe/Oslo')), ('aFRR down_NO5', Timestamp('2023-06-22 15:00:00+0200', tz='Europe/Oslo')), ('aFRR down_NO5', Timestamp('2023-06-22 16:00:00+0200', tz='Europe/Oslo')), ('aFRR down_NO5', Timestamp('2023-06-22 17:00:00+0200', tz='Europe/Oslo')), ('aFRR down_NO5', Timestamp('2023-06-22 18:00:00+0200', tz='Europe/Oslo')), ('aFRR down_NO5', Timestamp('2023-06-22 19:00:00+0200', tz='Europe/Oslo')), ('aFRR down_NO5', Timestamp('2023-06-22 20:00:00+0200', tz='Europe/Oslo')), ('aFRR down_NO5', Timestamp('2023-06-22 21:00:00+0200', tz='Europe/Oslo')), ('aFRR down_NO5', Timestamp('2023-06-22 22:00:00+0200', tz='Europe/Oslo')), ('aFRR down_NO5', Timestamp('2023-06-22 23:00:00+0200', tz='Europe/Oslo')), ('FCR_D_D_2_NO5', Timestamp('2023-06-23 00:00:00+0200', tz='Europe/Oslo')), ('FCR_D_D_2_NO5', Timestamp('2023-06-23 01:00:00+0200', tz='Europe/Oslo')), ('FCR_D_D_2_NO5', Timestamp('2023-06-23 02:00:00+0200', tz='Europe/Oslo')), ('FCR_D_D_2_NO5', Timestamp('2023-06-23 03:00:00+0200', tz='Europe/Oslo')), ('FCR_D_D_2_NO5', Timestamp('2023-06-23 04:00:00+0200', tz='Europe/Oslo')), ('FCR_D_D_2_NO5', Timestamp('2023-06-23 05:00:00+0200', tz='Europe/Oslo')), ('FCR_D_D_2_NO5', Timestamp('2023-06-23 06:00:00+0200', tz='Europe/Oslo')), ('FCR_D_D_2_NO5', Timestamp('2023-06-23 07:00:00+0200', tz='Europe/Oslo')), ('FCR_D_D_2_NO5', Timestamp('2023-06-23 08:00:00+0200', tz='Europe/Oslo')), ('FCR_D_D_2_NO5', Timestamp('2023-06-23 09:00:00+0200', tz='Europe/Oslo')), ('FCR_D_D_2_NO5', Timestamp('2023-06-23 10:00:00+0200', tz='Europe/Oslo')), ('FCR_D_D_2_NO5', Timestamp('2023-06-23 11:00:00+0200', tz='Europe/Oslo')), ('FCR_D_D_2_NO5', Timestamp('2023-06-23 12:00:00+0200', tz='Europe/Oslo')), ('FCR_D_D_2_NO5', Timestamp('2023-06-23 13:00:00+0200', tz='Europe/Oslo')), ('FCR_D_D_2_NO5', Timestamp('2023-06-23 14:00:00+0200', tz='Europe/Oslo')), ('FCR_D_D_2_NO5', Timestamp('2023-06-23 15:00:00+0200', tz='Europe/Oslo')), ('FCR_D_D_2_NO5', Timestamp('2023-06-23 16:00:00+0200', tz='Europe/Oslo')), ('FCR_D_D_2_NO5', Timestamp('2023-06-23 17:00:00+0200', tz='Europe/Oslo')), ('FCR_D_D_2_NO5', Timestamp('2023-06-23 18:00:00+0200', tz='Europe/Oslo')), ('FCR_D_D_2_NO5', Timestamp('2023-06-23 19:00:00+0200', tz='Europe/Oslo')), ('FCR_D_D_2_NO5', Timestamp('2023-06-23 20:00:00+0200', tz='Europe/Oslo')), ('FCR_D_D_2_NO5', Timestamp('2023-06-23 21:00:00+0200', tz='Europe/Oslo')), ('FCR_D_D_2_NO5', Timestamp('2023-06-23 22:00:00+0200', tz='Europe/Oslo')), ('FCR_D_D_2_NO5', Timestamp('2023-06-23 23:00:00+0200', tz='Europe/Oslo')), ('FCR_N_D_2_NO5', Timestamp('2023-06-23 00:00:00+0200', tz='Europe/Oslo')), ('FCR_N_D_2_NO5', Timestamp('2023-06-23 01:00:00+0200', tz='Europe/Oslo')), ('FCR_N_D_2_NO5', Timestamp('2023-06-23 02:00:00+0200', tz='Europe/Oslo')), ('FCR_N_D_2_NO5', Timestamp('2023-06-23 03:00:00+0200', tz='Europe/Oslo')), ('FCR_N_D_2_NO5', Timestamp('2023-06-23 04:00:00+0200', tz='Europe/Oslo')), ('FCR_N_D_2_NO5', Timestamp('2023-06-23 05:00:00+0200', tz='Europe/Oslo')), ('FCR_N_D_2_NO5', Timestamp('2023-06-23 06:00:00+0200', tz='Europe/Oslo')), ('FCR_N_D_2_NO5', Timestamp('2023-06-23 07:00:00+0200', tz='Europe/Oslo')), ('FCR_N_D_2_NO5', Timestamp('2023-06-23 08:00:00+0200', tz='Europe/Oslo')), ('FCR_N_D_2_NO5', Timestamp('2023-06-23 09:00:00+0200', tz='Europe/Oslo')), ('FCR_N_D_2_NO5', Timestamp('2023-06-23 10:00:00+0200', tz='Europe/Oslo')), ('FCR_N_D_2_NO5', Timestamp('2023-06-23 11:00:00+0200', tz='Europe/Oslo')), ('FCR_N_D_2_NO5', Timestamp('2023-06-23 12:00:00+0200', tz='Europe/Oslo')), ('FCR_N_D_2_NO5', Timestamp('2023-06-23 13:00:00+0200', tz='Europe/Oslo')), ('FCR_N_D_2_NO5', Timestamp('2023-06-23 14:00:00+0200', tz='Europe/Oslo')), ('FCR_N_D_2_NO5', Timestamp('2023-06-23 15:00:00+0200', tz='Europe/Oslo')), ('FCR_N_D_2_NO5', Timestamp('2023-06-23 16:00:00+0200', tz='Europe/Oslo')), ('FCR_N_D_2_NO5', Timestamp('2023-06-23 17:00:00+0200', tz='Europe/Oslo')), ('FCR_N_D_2_NO5', Timestamp('2023-06-23 18:00:00+0200', tz='Europe/Oslo')), ('FCR_N_D_2_NO5', Timestamp('2023-06-23 19:00:00+0200', tz='Europe/Oslo')), ('FCR_N_D_2_NO5', Timestamp('2023-06-23 20:00:00+0200', tz='Europe/Oslo')), ('FCR_N_D_2_NO5', Timestamp('2023-06-23 21:00:00+0200', tz='Europe/Oslo')), ('FCR_N_D_2_NO5', Timestamp('2023-06-23 22:00:00+0200', tz='Europe/Oslo')), ('FCR_N_D_2_NO5', Timestamp('2023-06-23 23:00:00+0200', tz='Europe/Oslo')), ('FCR_D_D_1_NO5', Timestamp('2023-06-22 00:00:00+0200', tz='Europe/Oslo')), ('FCR_D_D_1_NO5', Timestamp('2023-06-22 01:00:00+0200', tz='Europe/Oslo')), ('FCR_D_D_1_NO5', Timestamp('2023-06-22 02:00:00+0200', tz='Europe/Oslo')), ('FCR_D_D_1_NO5', Timestamp('2023-06-22 03:00:00+0200', tz='Europe/Oslo')), ('FCR_D_D_1_NO5', Timestamp('2023-06-22 04:00:00+0200', tz='Europe/Oslo')), ('FCR_D_D_1_NO5', Timestamp('2023-06-22 05:00:00+0200', tz='Europe/Oslo')), ('FCR_D_D_1_NO5', Timestamp('2023-06-22 06:00:00+0200', tz='Europe/Oslo')), ('FCR_D_D_1_NO5', Timestamp('2023-06-22 07:00:00+0200', tz='Europe/Oslo')), ('FCR_D_D_1_NO5', Timestamp('2023-06-22 08:00:00+0200', tz='Europe/Oslo')), ('FCR_D_D_1_NO5', Timestamp('2023-06-22 09:00:00+0200', tz='Europe/Oslo')), ('FCR_D_D_1_NO5', Timestamp('2023-06-22 10:00:00+0200', tz='Europe/Oslo')), ('FCR_D_D_1_NO5', Timestamp('2023-06-22 11:00:00+0200', tz='Europe/Oslo')), ('FCR_D_D_1_NO5', Timestamp('2023-06-22 12:00:00+0200', tz='Europe/Oslo')), ('FCR_D_D_1_NO5', Timestamp('2023-06-22 13:00:00+0200', tz='Europe/Oslo')), ('FCR_D_D_1_NO5', Timestamp('2023-06-22 14:00:00+0200', tz='Europe/Oslo')), ('FCR_D_D_1_NO5', Timestamp('2023-06-22 15:00:00+0200', tz='Europe/Oslo')), ('FCR_D_D_1_NO5', Timestamp('2023-06-22 16:00:00+0200', tz='Europe/Oslo')), ('FCR_D_D_1_NO5', Timestamp('2023-06-22 17:00:00+0200', tz='Europe/Oslo')), ('FCR_D_D_1_NO5', Timestamp('2023-06-22 18:00:00+0200', tz='Europe/Oslo')), ('FCR_D_D_1_NO5', Timestamp('2023-06-22 19:00:00+0200', tz='Europe/Oslo')), ('FCR_D_D_1_NO5', Timestamp('2023-06-22 20:00:00+0200', tz='Europe/Oslo')), ('FCR_D_D_1_NO5', Timestamp('2023-06-22 21:00:00+0200', tz='Europe/Oslo')), ('FCR_D_D_1_NO5', Timestamp('2023-06-22 22:00:00+0200', tz='Europe/Oslo')), ('FCR_D_D_1_NO5', Timestamp('2023-06-22 23:00:00+0200', tz='Europe/Oslo')), ('FCR_N_D_1_NO5', Timestamp('2023-06-22 00:00:00+0200', tz='Europe/Oslo')), ('FCR_N_D_1_NO5', Timestamp('2023-06-22 01:00:00+0200', tz='Europe/Oslo')), ('FCR_N_D_1_NO5', Timestamp('2023-06-22 02:00:00+0200', tz='Europe/Oslo')), ('FCR_N_D_1_NO5', Timestamp('2023-06-22 03:00:00+0200', tz='Europe/Oslo')), ('FCR_N_D_1_NO5', Timestamp('2023-06-22 04:00:00+0200', tz='Europe/Oslo')), ('FCR_N_D_1_NO5', Timestamp('2023-06-22 05:00:00+0200', tz='Europe/Oslo')), ('FCR_N_D_1_NO5', Timestamp('2023-06-22 06:00:00+0200', tz='Europe/Oslo')), ('FCR_N_D_1_NO5', Timestamp('2023-06-22 07:00:00+0200', tz='Europe/Oslo')), ('FCR_N_D_1_NO5', Timestamp('2023-06-22 08:00:00+0200', tz='Europe/Oslo')), ('FCR_N_D_1_NO5', Timestamp('2023-06-22 09:00:00+0200', tz='Europe/Oslo')), ('FCR_N_D_1_NO5', Timestamp('2023-06-22 10:00:00+0200', tz='Europe/Oslo')), ('FCR_N_D_1_NO5', Timestamp('2023-06-22 11:00:00+0200', tz='Europe/Oslo')), ('FCR_N_D_1_NO5', Timestamp('2023-06-22 12:00:00+0200', tz='Europe/Oslo')), ('FCR_N_D_1_NO5', Timestamp('2023-06-22 13:00:00+0200', tz='Europe/Oslo')), ('FCR_N_D_1_NO5', Timestamp('2023-06-22 14:00:00+0200', tz='Europe/Oslo')), ('FCR_N_D_1_NO5', Timestamp('2023-06-22 15:00:00+0200', tz='Europe/Oslo')), ('FCR_N_D_1_NO5', Timestamp('2023-06-22 16:00:00+0200', tz='Europe/Oslo')), ('FCR_N_D_1_NO5', Timestamp('2023-06-22 17:00:00+0200', tz='Europe/Oslo')), ('FCR_N_D_1_NO5', Timestamp('2023-06-22 18:00:00+0200', tz='Europe/Oslo')), ('FCR_N_D_1_NO5', Timestamp('2023-06-22 19:00:00+0200', tz='Europe/Oslo')), ('FCR_N_D_1_NO5', Timestamp('2023-06-22 20:00:00+0200', tz='Europe/Oslo')), ('FCR_N_D_1_NO5', Timestamp('2023-06-22 21:00:00+0200', tz='Europe/Oslo')), ('FCR_N_D_1_NO5', Timestamp('2023-06-22 22:00:00+0200', tz='Europe/Oslo')), ('FCR_N_D_1_NO5', Timestamp('2023-06-22 23:00:00+0200', tz='Europe/Oslo')), ('aFRR up_NO5', Timestamp('2023-06-23 00:00:00+0200', tz='Europe/Oslo')), ('aFRR up_NO5', Timestamp('2023-06-23 01:00:00+0200', tz='Europe/Oslo')), ('aFRR up_NO5', Timestamp('2023-06-23 02:00:00+0200', tz='Europe/Oslo')), ('aFRR up_NO5', Timestamp('2023-06-23 03:00:00+0200', tz='Europe/Oslo')), ('aFRR up_NO5', Timestamp('2023-06-23 04:00:00+0200', tz='Europe/Oslo')), ('aFRR up_NO5', Timestamp('2023-06-23 05:00:00+0200', tz='Europe/Oslo')), ('aFRR up_NO5', Timestamp('2023-06-23 06:00:00+0200', tz='Europe/Oslo')), ('aFRR up_NO5', Timestamp('2023-06-23 07:00:00+0200', tz='Europe/Oslo')), ('aFRR up_NO5', Timestamp('2023-06-23 08:00:00+0200', tz='Europe/Oslo')), ('aFRR up_NO5', Timestamp('2023-06-23 09:00:00+0200', tz='Europe/Oslo')), ('aFRR up_NO5', Timestamp('2023-06-23 10:00:00+0200', tz='Europe/Oslo')), ('aFRR up_NO5', Timestamp('2023-06-23 11:00:00+0200', tz='Europe/Oslo')), ('aFRR up_NO5', Timestamp('2023-06-23 12:00:00+0200', tz='Europe/Oslo')), ('aFRR up_NO5', Timestamp('2023-06-23 13:00:00+0200', tz='Europe/Oslo')), ('aFRR up_NO5', Timestamp('2023-06-23 14:00:00+0200', tz='Europe/Oslo')), ('aFRR up_NO5', Timestamp('2023-06-23 15:00:00+0200', tz='Europe/Oslo')), ('aFRR up_NO5', Timestamp('2023-06-23 16:00:00+0200', tz='Europe/Oslo')), ('aFRR up_NO5', Timestamp('2023-06-23 17:00:00+0200', tz='Europe/Oslo')), ('aFRR up_NO5', Timestamp('2023-06-23 18:00:00+0200', tz='Europe/Oslo')), ('aFRR up_NO5', Timestamp('2023-06-23 19:00:00+0200', tz='Europe/Oslo')), ('aFRR up_NO5', Timestamp('2023-06-23 20:00:00+0200', tz='Europe/Oslo')), ('aFRR up_NO5', Timestamp('2023-06-23 21:00:00+0200', tz='Europe/Oslo')), ('aFRR up_NO5', Timestamp('2023-06-23 22:00:00+0200', tz='Europe/Oslo')), ('aFRR up_NO5', Timestamp('2023-06-23 23:00:00+0200', tz='Europe/Oslo')), ('aFRR down_NO5', Timestamp('2023-06-23 00:00:00+0200', tz='Europe/Oslo')), ('aFRR down_NO5', Timestamp('2023-06-23 01:00:00+0200', tz='Europe/Oslo')), ('aFRR down_NO5', Timestamp('2023-06-23 02:00:00+0200', tz='Europe/Oslo')), ('aFRR down_NO5', Timestamp('2023-06-23 03:00:00+0200', tz='Europe/Oslo')), ('aFRR down_NO5', Timestamp('2023-06-23 04:00:00+0200', tz='Europe/Oslo')), ('aFRR down_NO5', Timestamp('2023-06-23 05:00:00+0200', tz='Europe/Oslo')), ('aFRR down_NO5', Timestamp('2023-06-23 06:00:00+0200', tz='Europe/Oslo')), ('aFRR down_NO5', Timestamp('2023-06-23 07:00:00+0200', tz='Europe/Oslo')), ('aFRR down_NO5', Timestamp('2023-06-23 08:00:00+0200', tz='Europe/Oslo')), ('aFRR down_NO5', Timestamp('2023-06-23 09:00:00+0200', tz='Europe/Oslo')), ('aFRR down_NO5', Timestamp('2023-06-23 10:00:00+0200', tz='Europe/Oslo')), ('aFRR down_NO5', Timestamp('2023-06-23 11:00:00+0200', tz='Europe/Oslo')), ('aFRR down_NO5', Timestamp('2023-06-23 12:00:00+0200', tz='Europe/Oslo')), ('aFRR down_NO5', Timestamp('2023-06-23 13:00:00+0200', tz='Europe/Oslo')), ('aFRR down_NO5', Timestamp('2023-06-23 14:00:00+0200', tz='Europe/Oslo')), ('aFRR down_NO5', Timestamp('2023-06-23 15:00:00+0200', tz='Europe/Oslo')), ('aFRR down_NO5', Timestamp('2023-06-23 16:00:00+0200', tz='Europe/Oslo')), ('aFRR down_NO5', Timestamp('2023-06-23 17:00:00+0200', tz='Europe/Oslo')), ('aFRR down_NO5', Timestamp('2023-06-23 18:00:00+0200', tz='Europe/Oslo')), ('aFRR down_NO5', Timestamp('2023-06-23 19:00:00+0200', tz='Europe/Oslo')), ('aFRR down_NO5', Timestamp('2023-06-23 20:00:00+0200', tz='Europe/Oslo')), ('aFRR down_NO5', Timestamp('2023-06-23 21:00:00+0200', tz='Europe/Oslo')), ('aFRR down_NO5', Timestamp('2023-06-23 22:00:00+0200', tz='Europe/Oslo')), ('aFRR down_NO5', Timestamp('2023-06-23 23:00:00+0200', tz='Europe/Oslo')), ('FCR_D_D_2_NO5', Timestamp('2023-06-24 00:00:00+0200', tz='Europe/Oslo')), ('FCR_D_D_2_NO5', Timestamp('2023-06-24 01:00:00+0200', tz='Europe/Oslo')), ('FCR_D_D_2_NO5', Timestamp('2023-06-24 02:00:00+0200', tz='Europe/Oslo')), ('FCR_D_D_2_NO5', Timestamp('2023-06-24 03:00:00+0200', tz='Europe/Oslo')), ('FCR_D_D_2_NO5', Timestamp('2023-06-24 04:00:00+0200', tz='Europe/Oslo')), ('FCR_D_D_2_NO5', Timestamp('2023-06-24 05:00:00+0200', tz='Europe/Oslo')), ('FCR_D_D_2_NO5', Timestamp('2023-06-24 06:00:00+0200', tz='Europe/Oslo')), ('FCR_D_D_2_NO5', Timestamp('2023-06-24 07:00:00+0200', tz='Europe/Oslo')), ('FCR_D_D_2_NO5', Timestamp('2023-06-24 08:00:00+0200', tz='Europe/Oslo')), ('FCR_D_D_2_NO5', Timestamp('2023-06-24 09:00:00+0200', tz='Europe/Oslo')), ('FCR_D_D_2_NO5', Timestamp('2023-06-24 10:00:00+0200', tz='Europe/Oslo')), ('FCR_D_D_2_NO5', Timestamp('2023-06-24 11:00:00+0200', tz='Europe/Oslo')), ('FCR_D_D_2_NO5', Timestamp('2023-06-24 12:00:00+0200', tz='Europe/Oslo')), ('FCR_D_D_2_NO5', Timestamp('2023-06-24 13:00:00+0200', tz='Europe/Oslo')), ('FCR_D_D_2_NO5', Timestamp('2023-06-24 14:00:00+0200', tz='Europe/Oslo')), ('FCR_D_D_2_NO5', Timestamp('2023-06-24 15:00:00+0200', tz='Europe/Oslo')), ('FCR_D_D_2_NO5', Timestamp('2023-06-24 16:00:00+0200', tz='Europe/Oslo')), ('FCR_D_D_2_NO5', Timestamp('2023-06-24 17:00:00+0200', tz='Europe/Oslo')), ('FCR_D_D_2_NO5', Timestamp('2023-06-24 18:00:00+0200', tz='Europe/Oslo')), ('FCR_D_D_2_NO5', Timestamp('2023-06-24 19:00:00+0200', tz='Europe/Oslo')), ('FCR_D_D_2_NO5', Timestamp('2023-06-24 20:00:00+0200', tz='Europe/Oslo')), ('FCR_D_D_2_NO5', Timestamp('2023-06-24 21:00:00+0200', tz='Europe/Oslo')), ('FCR_D_D_2_NO5', Timestamp('2023-06-24 22:00:00+0200', tz='Europe/Oslo')), ('FCR_D_D_2_NO5', Timestamp('2023-06-24 23:00:00+0200', tz='Europe/Oslo')), ('FCR_N_D_2_NO5', Timestamp('2023-06-24 00:00:00+0200', tz='Europe/Oslo')), ('FCR_N_D_2_NO5', Timestamp('2023-06-24 01:00:00+0200', tz='Europe/Oslo')), ('FCR_N_D_2_NO5', Timestamp('2023-06-24 02:00:00+0200', tz='Europe/Oslo')), ('FCR_N_D_2_NO5', Timestamp('2023-06-24 03:00:00+0200', tz='Europe/Oslo')), ('FCR_N_D_2_NO5', Timestamp('2023-06-24 04:00:00+0200', tz='Europe/Oslo')), ('FCR_N_D_2_NO5', Timestamp('2023-06-24 05:00:00+0200', tz='Europe/Oslo')), ('FCR_N_D_2_NO5', Timestamp('2023-06-24 06:00:00+0200', tz='Europe/Oslo')), ('FCR_N_D_2_NO5', Timestamp('2023-06-24 07:00:00+0200', tz='Europe/Oslo')), ('FCR_N_D_2_NO5', Timestamp('2023-06-24 08:00:00+0200', tz='Europe/Oslo')), ('FCR_N_D_2_NO5', Timestamp('2023-06-24 09:00:00+0200', tz='Europe/Oslo')), ('FCR_N_D_2_NO5', Timestamp('2023-06-24 10:00:00+0200', tz='Europe/Oslo')), ('FCR_N_D_2_NO5', Timestamp('2023-06-24 11:00:00+0200', tz='Europe/Oslo')), ('FCR_N_D_2_NO5', Timestamp('2023-06-24 12:00:00+0200', tz='Europe/Oslo')), ('FCR_N_D_2_NO5', Timestamp('2023-06-24 13:00:00+0200', tz='Europe/Oslo')), ('FCR_N_D_2_NO5', Timestamp('2023-06-24 14:00:00+0200', tz='Europe/Oslo')), ('FCR_N_D_2_NO5', Timestamp('2023-06-24 15:00:00+0200', tz='Europe/Oslo')), ('FCR_N_D_2_NO5', Timestamp('2023-06-24 16:00:00+0200', tz='Europe/Oslo')), ('FCR_N_D_2_NO5', Timestamp('2023-06-24 17:00:00+0200', tz='Europe/Oslo')), ('FCR_N_D_2_NO5', Timestamp('2023-06-24 18:00:00+0200', tz='Europe/Oslo')), ('FCR_N_D_2_NO5', Timestamp('2023-06-24 19:00:00+0200', tz='Europe/Oslo')), ('FCR_N_D_2_NO5', Timestamp('2023-06-24 20:00:00+0200', tz='Europe/Oslo')), ('FCR_N_D_2_NO5', Timestamp('2023-06-24 21:00:00+0200', tz='Europe/Oslo')), ('FCR_N_D_2_NO5', Timestamp('2023-06-24 22:00:00+0200', tz='Europe/Oslo')), ('FCR_N_D_2_NO5', Timestamp('2023-06-24 23:00:00+0200', tz='Europe/Oslo')), ('FCR_D_D_1_NO5', Timestamp('2023-06-23 00:00:00+0200', tz='Europe/Oslo')), ('FCR_D_D_1_NO5', Timestamp('2023-06-23 01:00:00+0200', tz='Europe/Oslo')), ('FCR_D_D_1_NO5', Timestamp('2023-06-23 02:00:00+0200', tz='Europe/Oslo')), ('FCR_D_D_1_NO5', Timestamp('2023-06-23 03:00:00+0200', tz='Europe/Oslo')), ('FCR_D_D_1_NO5', Timestamp('2023-06-23 04:00:00+0200', tz='Europe/Oslo')), ('FCR_D_D_1_NO5', Timestamp('2023-06-23 05:00:00+0200', tz='Europe/Oslo')), ('FCR_D_D_1_NO5', Timestamp('2023-06-23 06:00:00+0200', tz='Europe/Oslo')), ('FCR_D_D_1_NO5', Timestamp('2023-06-23 07:00:00+0200', tz='Europe/Oslo')), ('FCR_D_D_1_NO5', Timestamp('2023-06-23 08:00:00+0200', tz='Europe/Oslo')), ('FCR_D_D_1_NO5', Timestamp('2023-06-23 09:00:00+0200', tz='Europe/Oslo')), ('FCR_D_D_1_NO5', Timestamp('2023-06-23 10:00:00+0200', tz='Europe/Oslo')), ('FCR_D_D_1_NO5', Timestamp('2023-06-23 11:00:00+0200', tz='Europe/Oslo')), ('FCR_D_D_1_NO5', Timestamp('2023-06-23 12:00:00+0200', tz='Europe/Oslo')), ('FCR_D_D_1_NO5', Timestamp('2023-06-23 13:00:00+0200', tz='Europe/Oslo')), ('FCR_D_D_1_NO5', Timestamp('2023-06-23 14:00:00+0200', tz='Europe/Oslo')), ('FCR_D_D_1_NO5', Timestamp('2023-06-23 15:00:00+0200', tz='Europe/Oslo')), ('FCR_D_D_1_NO5', Timestamp('2023-06-23 16:00:00+0200', tz='Europe/Oslo')), ('FCR_D_D_1_NO5', Timestamp('2023-06-23 17:00:00+0200', tz='Europe/Oslo')), ('FCR_D_D_1_NO5', Timestamp('2023-06-23 18:00:00+0200', tz='Europe/Oslo')), ('FCR_D_D_1_NO5', Timestamp('2023-06-23 19:00:00+0200', tz='Europe/Oslo')), ('FCR_D_D_1_NO5', Timestamp('2023-06-23 20:00:00+0200', tz='Europe/Oslo')), ('FCR_D_D_1_NO5', Timestamp('2023-06-23 21:00:00+0200', tz='Europe/Oslo')), ('FCR_D_D_1_NO5', Timestamp('2023-06-23 22:00:00+0200', tz='Europe/Oslo')), ('FCR_D_D_1_NO5', Timestamp('2023-06-23 23:00:00+0200', tz='Europe/Oslo')), ('FCR_N_D_1_NO5', Timestamp('2023-06-23 00:00:00+0200', tz='Europe/Oslo')), ('FCR_N_D_1_NO5', Timestamp('2023-06-23 01:00:00+0200', tz='Europe/Oslo')), ('FCR_N_D_1_NO5', Timestamp('2023-06-23 02:00:00+0200', tz='Europe/Oslo')), ('FCR_N_D_1_NO5', Timestamp('2023-06-23 03:00:00+0200', tz='Europe/Oslo')), ('FCR_N_D_1_NO5', Timestamp('2023-06-23 04:00:00+0200', tz='Europe/Oslo')), ('FCR_N_D_1_NO5', Timestamp('2023-06-23 05:00:00+0200', tz='Europe/Oslo')), ('FCR_N_D_1_NO5', Timestamp('2023-06-23 06:00:00+0200', tz='Europe/Oslo')), ('FCR_N_D_1_NO5', Timestamp('2023-06-23 07:00:00+0200', tz='Europe/Oslo')), ('FCR_N_D_1_NO5', Timestamp('2023-06-23 08:00:00+0200', tz='Europe/Oslo')), ('FCR_N_D_1_NO5', Timestamp('2023-06-23 09:00:00+0200', tz='Europe/Oslo')), ('FCR_N_D_1_NO5', Timestamp('2023-06-23 10:00:00+0200', tz='Europe/Oslo')), ('FCR_N_D_1_NO5', Timestamp('2023-06-23 11:00:00+0200', tz='Europe/Oslo')), ('FCR_N_D_1_NO5', Timestamp('2023-06-23 12:00:00+0200', tz='Europe/Oslo')), ('FCR_N_D_1_NO5', Timestamp('2023-06-23 13:00:00+0200', tz='Europe/Oslo')), ('FCR_N_D_1_NO5', Timestamp('2023-06-23 14:00:00+0200', tz='Europe/Oslo')), ('FCR_N_D_1_NO5', Timestamp('2023-06-23 15:00:00+0200', tz='Europe/Oslo')), ('FCR_N_D_1_NO5', Timestamp('2023-06-23 16:00:00+0200', tz='Europe/Oslo')), ('FCR_N_D_1_NO5', Timestamp('2023-06-23 17:00:00+0200', tz='Europe/Oslo')), ('FCR_N_D_1_NO5', Timestamp('2023-06-23 18:00:00+0200', tz='Europe/Oslo')), ('FCR_N_D_1_NO5', Timestamp('2023-06-23 19:00:00+0200', tz='Europe/Oslo')), ('FCR_N_D_1_NO5', Timestamp('2023-06-23 20:00:00+0200', tz='Europe/Oslo')), ('FCR_N_D_1_NO5', Timestamp('2023-06-23 21:00:00+0200', tz='Europe/Oslo')), ('FCR_N_D_1_NO5', Timestamp('2023-06-23 22:00:00+0200', tz='Europe/Oslo')), ('FCR_N_D_1_NO5', Timestamp('2023-06-23 23:00:00+0200', tz='Europe/Oslo')), ('aFRR up_NO5', Timestamp('2023-06-24 00:00:00+0200', tz='Europe/Oslo')), ('aFRR up_NO5', Timestamp('2023-06-24 01:00:00+0200', tz='Europe/Oslo')), ('aFRR up_NO5', Timestamp('2023-06-24 02:00:00+0200', tz='Europe/Oslo')), ('aFRR up_NO5', Timestamp('2023-06-24 03:00:00+0200', tz='Europe/Oslo')), ('aFRR up_NO5', Timestamp('2023-06-24 04:00:00+0200', tz='Europe/Oslo')), ('aFRR up_NO5', Timestamp('2023-06-24 05:00:00+0200', tz='Europe/Oslo')), ('aFRR up_NO5', Timestamp('2023-06-24 06:00:00+0200', tz='Europe/Oslo')), ('aFRR up_NO5', Timestamp('2023-06-24 07:00:00+0200', tz='Europe/Oslo')), ('aFRR up_NO5', Timestamp('2023-06-24 08:00:00+0200', tz='Europe/Oslo')), ('aFRR up_NO5', Timestamp('2023-06-24 09:00:00+0200', tz='Europe/Oslo')), ('aFRR up_NO5', Timestamp('2023-06-24 10:00:00+0200', tz='Europe/Oslo')), ('aFRR up_NO5', Timestamp('2023-06-24 11:00:00+0200', tz='Europe/Oslo')), ('aFRR up_NO5', Timestamp('2023-06-24 12:00:00+0200', tz='Europe/Oslo')), ('aFRR up_NO5', Timestamp('2023-06-24 13:00:00+0200', tz='Europe/Oslo')), ('aFRR up_NO5', Timestamp('2023-06-24 14:00:00+0200', tz='Europe/Oslo')), ('aFRR up_NO5', Timestamp('2023-06-24 15:00:00+0200', tz='Europe/Oslo')), ('aFRR up_NO5', Timestamp('2023-06-24 16:00:00+0200', tz='Europe/Oslo')), ('aFRR up_NO5', Timestamp('2023-06-24 17:00:00+0200', tz='Europe/Oslo')), ('aFRR up_NO5', Timestamp('2023-06-24 18:00:00+0200', tz='Europe/Oslo')), ('aFRR up_NO5', Timestamp('2023-06-24 19:00:00+0200', tz='Europe/Oslo')), ('aFRR up_NO5', Timestamp('2023-06-24 20:00:00+0200', tz='Europe/Oslo')), ('aFRR up_NO5', Timestamp('2023-06-24 21:00:00+0200', tz='Europe/Oslo')), ('aFRR up_NO5', Timestamp('2023-06-24 22:00:00+0200', tz='Europe/Oslo')), ('aFRR up_NO5', Timestamp('2023-06-24 23:00:00+0200', tz='Europe/Oslo')), ('aFRR down_NO5', Timestamp('2023-06-24 00:00:00+0200', tz='Europe/Oslo')), ('aFRR down_NO5', Timestamp('2023-06-24 01:00:00+0200', tz='Europe/Oslo')), ('aFRR down_NO5', Timestamp('2023-06-24 02:00:00+0200', tz='Europe/Oslo')), ('aFRR down_NO5', Timestamp('2023-06-24 03:00:00+0200', tz='Europe/Oslo')), ('aFRR down_NO5', Timestamp('2023-06-24 04:00:00+0200', tz='Europe/Oslo')), ('aFRR down_NO5', Timestamp('2023-06-24 05:00:00+0200', tz='Europe/Oslo')), ('aFRR down_NO5', Timestamp('2023-06-24 06:00:00+0200', tz='Europe/Oslo')), ('aFRR down_NO5', Timestamp('2023-06-24 07:00:00+0200', tz='Europe/Oslo')), ('aFRR down_NO5', Timestamp('2023-06-24 08:00:00+0200', tz='Europe/Oslo')), ('aFRR down_NO5', Timestamp('2023-06-24 09:00:00+0200', tz='Europe/Oslo')), ('aFRR down_NO5', Timestamp('2023-06-24 10:00:00+0200', tz='Europe/Oslo')), ('aFRR down_NO5', Timestamp('2023-06-24 11:00:00+0200', tz='Europe/Oslo')), ('aFRR down_NO5', Timestamp('2023-06-24 12:00:00+0200', tz='Europe/Oslo')), ('aFRR down_NO5', Timestamp('2023-06-24 13:00:00+0200', tz='Europe/Oslo')), ('aFRR down_NO5', Timestamp('2023-06-24 14:00:00+0200', tz='Europe/Oslo')), ('aFRR down_NO5', Timestamp('2023-06-24 15:00:00+0200', tz='Europe/Oslo')), ('aFRR down_NO5', Timestamp('2023-06-24 16:00:00+0200', tz='Europe/Oslo')), ('aFRR down_NO5', Timestamp('2023-06-24 17:00:00+0200', tz='Europe/Oslo')), ('aFRR down_NO5', Timestamp('2023-06-24 18:00:00+0200', tz='Europe/Oslo')), ('aFRR down_NO5', Timestamp('2023-06-24 19:00:00+0200', tz='Europe/Oslo')), ('aFRR down_NO5', Timestamp('2023-06-24 20:00:00+0200', tz='Europe/Oslo')), ('aFRR down_NO5', Timestamp('2023-06-24 21:00:00+0200', tz='Europe/Oslo')), ('aFRR down_NO5', Timestamp('2023-06-24 22:00:00+0200', tz='Europe/Oslo')), ('aFRR down_NO5', Timestamp('2023-06-24 23:00:00+0200', tz='Europe/Oslo')), ('FCR_D_D_2_NO5', Timestamp('2023-06-25 00:00:00+0200', tz='Europe/Oslo')), ('FCR_D_D_2_NO5', Timestamp('2023-06-25 01:00:00+0200', tz='Europe/Oslo')), ('FCR_D_D_2_NO5', Timestamp('2023-06-25 02:00:00+0200', tz='Europe/Oslo')), ('FCR_D_D_2_NO5', Timestamp('2023-06-25 03:00:00+0200', tz='Europe/Oslo')), ('FCR_D_D_2_NO5', Timestamp('2023-06-25 04:00:00+0200', tz='Europe/Oslo')), ('FCR_D_D_2_NO5', Timestamp('2023-06-25 05:00:00+0200', tz='Europe/Oslo')), ('FCR_D_D_2_NO5', Timestamp('2023-06-25 06:00:00+0200', tz='Europe/Oslo')), ('FCR_D_D_2_NO5', Timestamp('2023-06-25 07:00:00+0200', tz='Europe/Oslo')), ('FCR_D_D_2_NO5', Timestamp('2023-06-25 08:00:00+0200', tz='Europe/Oslo')), ('FCR_D_D_2_NO5', Timestamp('2023-06-25 09:00:00+0200', tz='Europe/Oslo')), ('FCR_D_D_2_NO5', Timestamp('2023-06-25 10:00:00+0200', tz='Europe/Oslo')), ('FCR_D_D_2_NO5', Timestamp('2023-06-25 11:00:00+0200', tz='Europe/Oslo')), ('FCR_D_D_2_NO5', Timestamp('2023-06-25 12:00:00+0200', tz='Europe/Oslo')), ('FCR_D_D_2_NO5', Timestamp('2023-06-25 13:00:00+0200', tz='Europe/Oslo')), ('FCR_D_D_2_NO5', Timestamp('2023-06-25 14:00:00+0200', tz='Europe/Oslo')), ('FCR_D_D_2_NO5', Timestamp('2023-06-25 15:00:00+0200', tz='Europe/Oslo')), ('FCR_D_D_2_NO5', Timestamp('2023-06-25 16:00:00+0200', tz='Europe/Oslo')), ('FCR_D_D_2_NO5', Timestamp('2023-06-25 17:00:00+0200', tz='Europe/Oslo')), ('FCR_D_D_2_NO5', Timestamp('2023-06-25 18:00:00+0200', tz='Europe/Oslo')), ('FCR_D_D_2_NO5', Timestamp('2023-06-25 19:00:00+0200', tz='Europe/Oslo')), ('FCR_D_D_2_NO5', Timestamp('2023-06-25 20:00:00+0200', tz='Europe/Oslo')), ('FCR_D_D_2_NO5', Timestamp('2023-06-25 21:00:00+0200', tz='Europe/Oslo')), ('FCR_D_D_2_NO5', Timestamp('2023-06-25 22:00:00+0200', tz='Europe/Oslo')), ('FCR_D_D_2_NO5', Timestamp('2023-06-25 23:00:00+0200', tz='Europe/Oslo')), ('FCR_N_D_2_NO5', Timestamp('2023-06-25 00:00:00+0200', tz='Europe/Oslo')), ('FCR_N_D_2_NO5', Timestamp('2023-06-25 01:00:00+0200', tz='Europe/Oslo')), ('FCR_N_D_2_NO5', Timestamp('2023-06-25 02:00:00+0200', tz='Europe/Oslo')), ('FCR_N_D_2_NO5', Timestamp('2023-06-25 03:00:00+0200', tz='Europe/Oslo')), ('FCR_N_D_2_NO5', Timestamp('2023-06-25 04:00:00+0200', tz='Europe/Oslo')), ('FCR_N_D_2_NO5', Timestamp('2023-06-25 05:00:00+0200', tz='Europe/Oslo')), ('FCR_N_D_2_NO5', Timestamp('2023-06-25 06:00:00+0200', tz='Europe/Oslo')), ('FCR_N_D_2_NO5', Timestamp('2023-06-25 07:00:00+0200', tz='Europe/Oslo')), ('FCR_N_D_2_NO5', Timestamp('2023-06-25 08:00:00+0200', tz='Europe/Oslo')), ('FCR_N_D_2_NO5', Timestamp('2023-06-25 09:00:00+0200', tz='Europe/Oslo')), ('FCR_N_D_2_NO5', Timestamp('2023-06-25 10:00:00+0200', tz='Europe/Oslo')), ('FCR_N_D_2_NO5', Timestamp('2023-06-25 11:00:00+0200', tz='Europe/Oslo')), ('FCR_N_D_2_NO5', Timestamp('2023-06-25 12:00:00+0200', tz='Europe/Oslo')), ('FCR_N_D_2_NO5', Timestamp('2023-06-25 13:00:00+0200', tz='Europe/Oslo')), ('FCR_N_D_2_NO5', Timestamp('2023-06-25 14:00:00+0200', tz='Europe/Oslo')), ('FCR_N_D_2_NO5', Timestamp('2023-06-25 15:00:00+0200', tz='Europe/Oslo')), ('FCR_N_D_2_NO5', Timestamp('2023-06-25 16:00:00+0200', tz='Europe/Oslo')), ('FCR_N_D_2_NO5', Timestamp('2023-06-25 17:00:00+0200', tz='Europe/Oslo')), ('FCR_N_D_2_NO5', Timestamp('2023-06-25 18:00:00+0200', tz='Europe/Oslo')), ('FCR_N_D_2_NO5', Timestamp('2023-06-25 19:00:00+0200', tz='Europe/Oslo')), ('FCR_N_D_2_NO5', Timestamp('2023-06-25 20:00:00+0200', tz='Europe/Oslo')), ('FCR_N_D_2_NO5', Timestamp('2023-06-25 21:00:00+0200', tz='Europe/Oslo')), ('FCR_N_D_2_NO5', Timestamp('2023-06-25 22:00:00+0200', tz='Europe/Oslo')), ('FCR_N_D_2_NO5', Timestamp('2023-06-25 23:00:00+0200', tz='Europe/Oslo')), ('FCR_D_D_1_NO5', Timestamp('2023-06-24 00:00:00+0200', tz='Europe/Oslo')), ('FCR_D_D_1_NO5', Timestamp('2023-06-24 01:00:00+0200', tz='Europe/Oslo')), ('FCR_D_D_1_NO5', Timestamp('2023-06-24 02:00:00+0200', tz='Europe/Oslo')), ('FCR_D_D_1_NO5', Timestamp('2023-06-24 03:00:00+0200', tz='Europe/Oslo')), ('FCR_D_D_1_NO5', Timestamp('2023-06-24 04:00:00+0200', tz='Europe/Oslo')), ('FCR_D_D_1_NO5', Timestamp('2023-06-24 05:00:00+0200', tz='Europe/Oslo')), ('FCR_D_D_1_NO5', Timestamp('2023-06-24 06:00:00+0200', tz='Europe/Oslo')), ('FCR_D_D_1_NO5', Timestamp('2023-06-24 07:00:00+0200', tz='Europe/Oslo')), ('FCR_D_D_1_NO5', Timestamp('2023-06-24 08:00:00+0200', tz='Europe/Oslo')), ('FCR_D_D_1_NO5', Timestamp('2023-06-24 09:00:00+0200', tz='Europe/Oslo')), ('FCR_D_D_1_NO5', Timestamp('2023-06-24 10:00:00+0200', tz='Europe/Oslo')), ('FCR_D_D_1_NO5', Timestamp('2023-06-24 11:00:00+0200', tz='Europe/Oslo')), ('FCR_D_D_1_NO5', Timestamp('2023-06-24 12:00:00+0200', tz='Europe/Oslo')), ('FCR_D_D_1_NO5', Timestamp('2023-06-24 13:00:00+0200', tz='Europe/Oslo')), ('FCR_D_D_1_NO5', Timestamp('2023-06-24 14:00:00+0200', tz='Europe/Oslo')), ('FCR_D_D_1_NO5', Timestamp('2023-06-24 15:00:00+0200', tz='Europe/Oslo')), ('FCR_D_D_1_NO5', Timestamp('2023-06-24 16:00:00+0200', tz='Europe/Oslo')), ('FCR_D_D_1_NO5', Timestamp('2023-06-24 17:00:00+0200', tz='Europe/Oslo')), ('FCR_D_D_1_NO5', Timestamp('2023-06-24 18:00:00+0200', tz='Europe/Oslo')), ('FCR_D_D_1_NO5', Timestamp('2023-06-24 19:00:00+0200', tz='Europe/Oslo')), ('FCR_D_D_1_NO5', Timestamp('2023-06-24 20:00:00+0200', tz='Europe/Oslo')), ('FCR_D_D_1_NO5', Timestamp('2023-06-24 21:00:00+0200', tz='Europe/Oslo')), ('FCR_D_D_1_NO5', Timestamp('2023-06-24 22:00:00+0200', tz='Europe/Oslo')), ('FCR_D_D_1_NO5', Timestamp('2023-06-24 23:00:00+0200', tz='Europe/Oslo')), ('FCR_N_D_1_NO5', Timestamp('2023-06-24 00:00:00+0200', tz='Europe/Oslo')), ('FCR_N_D_1_NO5', Timestamp('2023-06-24 01:00:00+0200', tz='Europe/Oslo')), ('FCR_N_D_1_NO5', Timestamp('2023-06-24 02:00:00+0200', tz='Europe/Oslo')), ('FCR_N_D_1_NO5', Timestamp('2023-06-24 03:00:00+0200', tz='Europe/Oslo')), ('FCR_N_D_1_NO5', Timestamp('2023-06-24 04:00:00+0200', tz='Europe/Oslo')), ('FCR_N_D_1_NO5', Timestamp('2023-06-24 05:00:00+0200', tz='Europe/Oslo')), ('FCR_N_D_1_NO5', Timestamp('2023-06-24 06:00:00+0200', tz='Europe/Oslo')), ('FCR_N_D_1_NO5', Timestamp('2023-06-24 07:00:00+0200', tz='Europe/Oslo')), ('FCR_N_D_1_NO5', Timestamp('2023-06-24 08:00:00+0200', tz='Europe/Oslo')), ('FCR_N_D_1_NO5', Timestamp('2023-06-24 09:00:00+0200', tz='Europe/Oslo')), ('FCR_N_D_1_NO5', Timestamp('2023-06-24 10:00:00+0200', tz='Europe/Oslo')), ('FCR_N_D_1_NO5', Timestamp('2023-06-24 11:00:00+0200', tz='Europe/Oslo')), ('FCR_N_D_1_NO5', Timestamp('2023-06-24 12:00:00+0200', tz='Europe/Oslo')), ('FCR_N_D_1_NO5', Timestamp('2023-06-24 13:00:00+0200', tz='Europe/Oslo')), ('FCR_N_D_1_NO5', Timestamp('2023-06-24 14:00:00+0200', tz='Europe/Oslo')), ('FCR_N_D_1_NO5', Timestamp('2023-06-24 15:00:00+0200', tz='Europe/Oslo')), ('FCR_N_D_1_NO5', Timestamp('2023-06-24 16:00:00+0200', tz='Europe/Oslo')), ('FCR_N_D_1_NO5', Timestamp('2023-06-24 17:00:00+0200', tz='Europe/Oslo')), ('FCR_N_D_1_NO5', Timestamp('2023-06-24 18:00:00+0200', tz='Europe/Oslo')), ('FCR_N_D_1_NO5', Timestamp('2023-06-24 19:00:00+0200', tz='Europe/Oslo')), ('FCR_N_D_1_NO5', Timestamp('2023-06-24 20:00:00+0200', tz='Europe/Oslo')), ('FCR_N_D_1_NO5', Timestamp('2023-06-24 21:00:00+0200', tz='Europe/Oslo')), ('FCR_N_D_1_NO5', Timestamp('2023-06-24 22:00:00+0200', tz='Europe/Oslo')), ('FCR_N_D_1_NO5', Timestamp('2023-06-24 23:00:00+0200', tz='Europe/Oslo'))])"
      ]
     },
     "execution_count": 175,
     "metadata": {},
     "output_type": "execute_result"
    }
   ],
   "source": [
    "bids.keys()"
   ]
  },
  {
   "cell_type": "code",
   "execution_count": null,
   "metadata": {},
   "outputs": [],
   "source": []
  }
 ],
 "metadata": {
  "kernelspec": {
   "display_name": "myenv",
   "language": "python",
   "name": "python3"
  },
  "language_info": {
   "codemirror_mode": {
    "name": "ipython",
    "version": 3
   },
   "file_extension": ".py",
   "mimetype": "text/x-python",
   "name": "python",
   "nbconvert_exporter": "python",
   "pygments_lexer": "ipython3",
   "version": "3.9.18"
  }
 },
 "nbformat": 4,
 "nbformat_minor": 2
}
