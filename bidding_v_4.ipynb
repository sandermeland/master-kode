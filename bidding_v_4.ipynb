{
 "cells": [
  {
   "cell_type": "markdown",
   "metadata": {},
   "source": [
    "### In this file I will try to further develop the model and use the inspiration from the previous bidding files. The goal is to end up with a deep reinforcement learning model that can handle the bidding process and be able to make bids without knowing the prices. "
   ]
  },
  {
   "cell_type": "code",
   "execution_count": 1,
   "metadata": {},
   "outputs": [],
   "source": [
    "import gurobipy as gp\n",
    "import pandas as pd\n",
    "from code_map import final_markets, new_meters, utils, weather, timeframes\n",
    "import numpy as np\n",
    "from datetime import datetime, timedelta\n",
    "from collections import defaultdict, Counter\n",
    "import random\n",
    "import sklearn"
   ]
  },
  {
   "cell_type": "code",
   "execution_count": 2,
   "metadata": {},
   "outputs": [],
   "source": [
    "tf = timeframes.one_week"
   ]
  },
  {
   "cell_type": "code",
   "execution_count": 3,
   "metadata": {},
   "outputs": [],
   "source": [
    "L, M, F, H, freq_data, power_meter_dict, consumption_data = utils.get_all_sets(timeframe= tf, areas = [\"NO5\"])"
   ]
  },
  {
   "cell_type": "code",
   "execution_count": 4,
   "metadata": {},
   "outputs": [],
   "source": [
    "L_u, L_d, Fu_h_l, Fd_h_l, R_h_l, P_h_m, Vp_h_m, Vm_m, R_m = utils.get_parameters(L = L, M = M, H = H)"
   ]
  },
  {
   "cell_type": "code",
   "execution_count": 5,
   "metadata": {},
   "outputs": [
    {
     "name": "stderr",
     "output_type": "stream",
     "text": [
      "/Users/sandermeland/Documents/UIB/Master/master-kode/code_map/utils.py:176: SettingWithCopyWarning: \n",
      "A value is trying to be set on a copy of a slice from a DataFrame\n",
      "\n",
      "See the caveats in the documentation: https://pandas.pydata.org/pandas-docs/stable/user_guide/indexing.html#returning-a-view-versus-a-copy\n",
      "  filtered_df.sort_values(by = \"Time\", inplace = True)\n",
      "/Users/sandermeland/Documents/UIB/Master/master-kode/code_map/utils.py:176: SettingWithCopyWarning: \n",
      "A value is trying to be set on a copy of a slice from a DataFrame\n",
      "\n",
      "See the caveats in the documentation: https://pandas.pydata.org/pandas-docs/stable/user_guide/indexing.html#returning-a-view-versus-a-copy\n",
      "  filtered_df.sort_values(by = \"Time\", inplace = True)\n"
     ]
    }
   ],
   "source": [
    "Ir_hlm, Ia_hlm, Va_hm = utils.get_income_dictionaries(H=H, L = L, M = M, freq_data= freq_data, Fu_h_l= Fu_h_l, Fd_h_l= Fd_h_l, P_h_m= P_h_m, Vp_h_m= Vp_h_m, F = F, markets_dict = {market.name : market for market in M}, timeframe = tf, areas = [\"NO5\"])"
   ]
  },
  {
   "cell_type": "code",
   "execution_count": 6,
   "metadata": {},
   "outputs": [],
   "source": [
    "compatible_dict = utils.get_compatibility_dict(L = L ,M = M, index = False)"
   ]
  },
  {
   "cell_type": "code",
   "execution_count": 7,
   "metadata": {},
   "outputs": [
    {
     "data": {
      "text/plain": [
       "960"
      ]
     },
     "execution_count": 7,
     "metadata": {},
     "output_type": "execute_result"
    }
   ],
   "source": [
    "len(L)"
   ]
  },
  {
   "cell_type": "code",
   "execution_count": 8,
   "metadata": {},
   "outputs": [],
   "source": [
    "def random_arg_max(possible_actions):\n",
    "    imax = 0\n",
    "    xmax = possible_actions[imax]  # Current maximum\n",
    "    nmax = 1  # Number of maximum values at the moment\n",
    "    for i in range(1, len(possible_actions)):\n",
    "        if possible_actions[i] == xmax:\n",
    "            nmax += 1\n",
    "            if nmax * random.random() < 1.0:\n",
    "                imax = i\n",
    "        elif possible_actions[i] > xmax:\n",
    "            nmax = 1  # Reset count since a new maximum is found\n",
    "            imax = i\n",
    "            xmax = possible_actions[i]  # Update the new maximum\n",
    "    return imax\n"
   ]
  },
  {
   "cell_type": "code",
   "execution_count": 9,
   "metadata": {},
   "outputs": [],
   "source": [
    "def greedy_action(possible_actions : list, epsilon : float ):\n",
    "    \"\"\"returns the index of the greedy action\n",
    "\n",
    "    Args:\n",
    "        possible_actions (lsit): list of the possible actions\n",
    "        epsilon (float): float number between 0 and 1, often close to 0\n",
    "\n",
    "    Returns:\n",
    "        int: index of the greedy action\n",
    "    \"\"\"\n",
    "    if random.random() <= (1- epsilon): # pick greedy\n",
    "        return random_arg_max(possible_actions)\n",
    "    else:\n",
    "        return random.randint(0, len(possible_actions)-1) # random\n"
   ]
  },
  {
   "cell_type": "code",
   "execution_count": 10,
   "metadata": {},
   "outputs": [],
   "source": [
    "def get_expected_prices_and_volumes_dict(bid_timeframe, markets):\n",
    "    \"\"\" function to calculate the expected prices for each direction and area in the bid_timeframe\n",
    "\n",
    "    Args:\n",
    "        bid_timeframe (_type_): _description_\n",
    "        markets (_type_): _description_\n",
    "\n",
    "    Returns:\n",
    "        _type_: _description_\n",
    "    \"\"\"\n",
    "    expected_prices = {}\n",
    "    expected_volumes = {}\n",
    "    for directions in [\"up\", \"down\", \"both\"]:\n",
    "        #for area in [\"NO1\", \"NO2\", \"NO3\", \"NO4\", \"NO5\"]:\n",
    "        area = \"NO5\"\n",
    "        for hour in bid_timeframe:\n",
    "            if np.isnan(np.mean([market.price_data.loc[market.price_data[\"Time(Local)\"] == hour].values[0][1] for market in markets if market.area == area and market.direction == directions])):\n",
    "                print(\"nan\")\n",
    "                print([market.price_data.loc[market.price_data[\"Time(Local)\"] == hour].values[0][1] for market in markets if market.area == area and market.direction == directions])\n",
    "                print(f\"directions: {directions}, area: {area}, hour: {hour}\")\n",
    "            expected_prices[(directions, area, hour)] = np.mean([market.price_data.loc[market.price_data[\"Time(Local)\"] == hour].values[0][1] for market in markets if market.area == area and market.direction == directions])\n",
    "            if np.isnan(np.mean([market.volume_data.loc[market.volume_data[\"Time(Local)\"] == hour].values[0][1] for market in markets if market.area == area and market.direction == directions])):\n",
    "                print(\"nan\")\n",
    "                print([market.volume_data.loc[market.volume_data[\"Time(Local)\"] == hour].values[0][1] for market in markets if market.area == area and market.direction == directions])\n",
    "                print(f\"directions: {directions}, area: {area}, hour: {hour}\")\n",
    "            expected_volumes[(directions, area, hour)] = np.mean([market.volume_data.loc[market.volume_data[\"Time(Local)\"] == hour].values[0][1] for market in markets if market.area == area and market.direction == directions])\n",
    "    return expected_prices, expected_volumes\n"
   ]
  },
  {
   "cell_type": "code",
   "execution_count": 11,
   "metadata": {},
   "outputs": [],
   "source": [
    "sup_market_names = [\"FCR\", \"aFRR\"]\n",
    "markets = [market for market in M if sup_market_names[0] in market.name  or sup_market_names[1] in market.name]\n",
    "exp_price_dict, exp_vol_dict = get_expected_prices_and_volumes_dict(bid_timeframe= H, markets= markets)"
   ]
  },
  {
   "cell_type": "code",
   "execution_count": 12,
   "metadata": {},
   "outputs": [
    {
     "data": {
      "text/plain": [
       "3.8666666666666667"
      ]
     },
     "execution_count": 12,
     "metadata": {},
     "output_type": "execute_result"
    }
   ],
   "source": [
    "exp_price_dict[(\"up\", \"NO5\", H[4])]"
   ]
  },
  {
   "cell_type": "code",
   "execution_count": 13,
   "metadata": {},
   "outputs": [
    {
     "data": {
      "text/plain": [
       "2.0"
      ]
     },
     "execution_count": 13,
     "metadata": {},
     "output_type": "execute_result"
    }
   ],
   "source": [
    "exp_vol_dict[(\"up\", \"NO5\", H[4])]"
   ]
  },
  {
   "cell_type": "code",
   "execution_count": 14,
   "metadata": {},
   "outputs": [],
   "source": [
    "def normalize_dict_vals(dict : dict, norm_method :str = \"min_max\" ) -> dict:\n",
    "    \"\"\"Function to normalize the values of a dictionary\n",
    "\n",
    "    Args:\n",
    "        dict (dict): [description]\n",
    "        norm_method (str): Normalization method; can choose between min-max normalization or z-score normalization. Defaults to \"min_max\".\n",
    "\n",
    "    Returns:\n",
    "        dict: the same dictionary as input, but with normalized values\n",
    "    \"\"\"\n",
    "    if norm_method == \"min_max\":\n",
    "        values = list(dict.values())\n",
    "        min_value = min(values)\n",
    "        max_value = max(values)\n",
    "\n",
    "        # Normalize and update the dictionary\n",
    "        normalized_dict = {k: (v - min_value) / (max_value - min_value) for k, v in dict.items()}\n",
    "    else:\n",
    "        import statistics\n",
    "        mean = statistics.mean(values)\n",
    "        std = statistics.stdev(values)\n",
    "        # Normalize and update the dictionary\n",
    "        normalized_dict = {k: (v - mean) / std for k, v in dict.items()}\n",
    "\n",
    "    return normalized_dict\n",
    " "
   ]
  },
  {
   "cell_type": "code",
   "execution_count": 15,
   "metadata": {},
   "outputs": [],
   "source": [
    "norm_exp_price_dict = normalize_dict_vals(exp_price_dict, norm_method= \"min_max\")\n",
    "norm_exp_vol_dict = normalize_dict_vals(exp_vol_dict, norm_method= \"min_max\")"
   ]
  },
  {
   "cell_type": "code",
   "execution_count": 16,
   "metadata": {},
   "outputs": [
    {
     "data": {
      "text/plain": [
       "dict_values([0.11697205256339072, 0.042939107903016846, 0.040347954839903756, 0.040347954839903756, 0.042939107903016846, 0.1254858411993337, 0.12178419396631501, 0.12178419396631501, 0.12415324819544697, 0.1110494169905608, 0.11674995372940959, 0.12215435868961688, 0.11845271145659818, 0.11845271145659818, 0.11845271145659818, 0.11141958171386267, 0.1110494169905608, 0.10364612252452342, 0.10697760503424024, 0.10364612252452342, 0.10379418841384415, 0.10697760503424024, 0.10379418841384415, 0.1110494169905608, 0.11093836757357024, 0.03668332407921525, 0.03668332407921525, 0.03668332407921525, 0.03668332407921525, 0.11686100314640015, 0.11071626873958913, 0.10216546363131596, 0.09106052193225987, 0.08883953359244864, 0.09624282805848602, 0.09624282805848602, 0.09624282805848602, 0.09624282805848602, 0.09624282805848602, 0.09624282805848602, 0.09624282805848602, 0.09624282805848602, 0.09624282805848602, 0.09624282805848602, 0.09846381639829725, 0.08735887469924117, 0.09106052193225987, 0.09106052193225987, 0.07773459189339256, 0.03631315935591338, 0.03631315935591338, 0.03631315935591338, 0.03631315935591338, 0.12400518230612623, 0.1133074218027022, 0.10216546363131596, 0.1110494169905608, 0.09624282805848602, 0.09624282805848602, 0.08883953359244864, 0.08883953359244864, 0.09254118082546735, 0.08883953359244864, 0.08817323709050529, 0.08547103461040162, 0.08365722746622248, 0.08365722746622248, 0.08513788635942995, 0.08365722746622248, 0.08739589117157136, 0.08369424393855265, 0.08369424393855265, 0.0844345733851564, 0.03668332407921525, 0.03668332407921525, 0.03668332407921525, 0.03668332407921525, 0.11686100314640015, 0.1122339441051268, 0.10331297427355172, 0.12585600592263557, 0.09291134554876922, 0.08432352396816584, 0.09594669627984453, 0.09779751989635388, 0.0974643716453822, 0.0974643716453822, 0.09816768461965576, 0.09557653155654267, 0.0869887099759393, 0.09254118082546735, 0.10309087543957061, 0.09291134554876922, 0.09291134554876922, 0.08735887469924117, 0.09291134554876922, 0.12881732370905052, 0.02813251897094207, 0.02813251897094207, 0.02813251897094207, 0.02813251897094207, 0.16583379603923745, 0.1254858411993337, 0.11697205256339072, 0.1147510642235795, 0.10775495095317417, 0.09924116231723118, 0.12589302239496578, 0.11515824541921155, 0.11515824541921155, 0.12589302239496578, 0.12485656116972053, 0.12548584119933373, 0.12589302239496578, 0.09924116231723118, 0.09924116231723118, 0.10775495095317417, 0.10327595780122154, 0.10216546363131596, 0.10109198593374052, 0.15546918378678512, 0.041088284286507494, 0.025911530631130855, 0.025911530631130855, 0.025911530631130855, 0.14806588932074774, 0.09994447529150473, 0.09254118082546735, 0.08883953359244864, 0.09761243753470296, 0.12289468813622063, 0.17064593744216178, 0.18915417360725525, 0.22172866925781973, 0.18915417360725525, 0.18915417360725525, 0.14806588932074774, 0.08883953359244864, 0.08883953359244864, 0.09661299278178791, 0.08920969831575051, 0.08550805108273182, 0.08550805108273182, 0.09661299278178791, 0.06292800296131779, 0.025911530631130855, 0.024430871737923375, 0.024430871737923375, 0.024430871737923375, 0.07403294466037387, 0.07403294466037387, 0.10401628724782529, 0.10105496946141032, 0.10401628724782529, 0.12511567647603183, 0.12326485285952249, 0.12215435868961688, 0.12215435868961688, 0.12992781787895616, 0.12030353507310754, 0.12030353507310754, 0.09254118082546735, 0.06322413473995928, 0.0577827133074218, 0.0688506385341477, 0.06292800296131779, 0.07403294466037387, 0.0688506385341477, 0.16657412548584122, 0.0, 0.0, 0.0, 0.0, 0.16657412548584122, 0.16657412548584122, 0.16657412548584122, 0.16657412548584122, 0.16657412548584122, 0.16657412548584122, 0.16657412548584122, 0.16657412548584122, 0.16657412548584122, 0.16657412548584122, 0.16657412548584122, 0.16657412548584122, 0.16657412548584122, 0.16657412548584122, 0.16657412548584122, 0.16657412548584122, 0.16657412548584122, 0.16657412548584122, 0.16657412548584122, 0.1776790671848973, 0.0, 0.0, 0.0, 0.0, 0.1776790671848973, 0.1776790671848973, 0.1776790671848973, 0.1776790671848973, 0.1776790671848973, 0.1776790671848973, 0.1776790671848973, 0.1776790671848973, 0.1776790671848973, 0.1776790671848973, 0.1776790671848973, 0.1776790671848973, 0.1776790671848973, 0.1776790671848973, 0.1776790671848973, 0.1776790671848973, 0.1776790671848973, 0.1776790671848973, 0.1776790671848973, 0.13325930038867295, 0.0, 0.0, 0.0, 0.0, 0.13325930038867295, 0.14436424208772905, 0.14436424208772905, 0.14436424208772905, 0.16657412548584122, 0.14436424208772905, 0.14436424208772905, 0.14436424208772905, 0.14436424208772905, 0.14436424208772905, 0.14436424208772905, 0.14436424208772905, 0.14436424208772905, 0.14436424208772905, 0.14436424208772905, 0.14436424208772905, 0.14436424208772905, 0.14436424208772905, 0.14436424208772905, 0.09994447529150473, 0.0, 0.0, 0.0, 0.0, 0.09994447529150473, 0.10549694614103276, 0.12215435868961688, 0.33314825097168244, 0.1110494169905608, 0.1110494169905608, 0.11660188784008885, 0.09994447529150473, 0.09994447529150473, 0.09994447529150473, 0.09994447529150473, 0.09994447529150473, 0.09994447529150473, 0.09994447529150473, 0.09994447529150473, 0.09994447529150473, 0.09994447529150473, 0.09994447529150473, 0.09994447529150473, 0.09994447529150473, 0.0, 0.0, 0.0, 0.0, 0.12770682953914492, 0.12215435868961688, 0.10549694614103276, 0.09994447529150473, 0.09994447529150473, 0.16657412548584122, 0.16657412548584122, 0.16657412548584122, 0.16657412548584122, 0.16657412548584122, 0.16657412548584122, 0.16657412548584122, 0.16657412548584122, 0.16657412548584122, 0.10549694614103276, 0.10549694614103276, 0.09994447529150473, 0.09994447529150473, 0.09994447529150473, 0.21099389228206553, 0.0, 0.0, 0.0, 0.0, 0.2054414214325375, 0.18323153803442532, 0.16102165463631316, 0.27762354247640203, 0.27762354247640203, 0.27762354247640203, 0.4997223764575236, 0.48495280399777907, 0.509494725152693, 0.4664075513603554, 0.4441976679622432, 0.39866740699611325, 0.27762354247640203, 0.16657412548584122, 0.27762354247640203, 0.27762354247640203, 0.4441976679622432, 0.4441976679622432, 0.4441976679622432, 0.4441976679622432, 0.0, 0.0, 0.0, 0.0, 0.4441976679622432, 0.4441976679622432, 0.4441976679622432, 0.27762354247640203, 0.27762354247640203, 0.31093836757357024, 0.6443087173792338, 0.6662965019433649, 0.6662965019433649, 0.6662965019433649, 0.6443087173792338, 0.3553581343697946, 0.27762354247640203, 0.27762354247640203, 0.27762354247640203, 0.27762354247640203, 0.4441976679622432, 0.4441976679622432, 0.4441976679622432, 0.17212659633536925, 0.2065519156024431, 0.220988339811216, 0.220988339811216, 0.2065519156024431, 0.18878400888395336, 0.1776790671848973, 0.19822320932815105, 0.21599111604664076, 0.2054414214325375, 0.24264297612437538, 0.2048861743475847, 0.1943364797334814, 0.20155469183786784, 0.18878400888395336, 0.18878400888395336, 0.18156579677956694, 0.1776790671848973, 0.1776790671848973, 0.16213214880621876, 0.1676846196557468, 0.16657412548584122, 0.17101610216546365, 0.16102165463631316, 0.2704053303720156, 0.2504164353137146, 0.27612437534702944, 0.27612437534702944, 0.27429205996668515, 0.22792892837312603, 0.20433092726263186, 0.2126596335369239, 0.21821210438645197, 0.20433092726263186, 0.20266518600777347, 0.20266518600777347, 0.22792892837312603, 0.22792892837312603, 0.22792892837312603, 0.22792892837312603, 0.19711271515824544, 0.19489172681843422, 0.20666296501943365, 0.21721265963353695, 0.20721821210438646, 0.20721821210438646, 0.19555802332037756, 0.18323153803442532, 0.19161576901721267, 0.19733481399222655, 0.19733481399222655, 0.23042754025541368, 0.19733481399222655, 0.17334813992226542, 0.1722376457523598, 0.2026096612992782, 0.18983897834536367, 0.20044419766796226, 0.1960022209883398, 0.19766796224319824, 0.21821210438645197, 0.2126596335369239, 0.19777901166018882, 0.1850083287062743, 0.17556912826207663, 0.1722376457523598, 0.17212659633536925, 0.17779011660188782, 0.17779011660188782, 0.1850083287062743, 0.17779011660188782, 0.17212659633536925, 0.21710161021654634, 0.21066074403109383, 0.21099389228206553, 0.21099389228206553, 0.21099389228206553, 0.20322043309272628, 0.18656302054414214, 0.18656302054414214, 0.2215435868961688, 0.23325930038867299, 0.22765130483064966, 0.19822320932815105, 0.19822320932815105, 0.20377568017767908, 0.19822320932815105, 0.20377568017767908, 0.20843975569128262, 0.2252637423653526, 0.19489172681843422, 0.1937812326485286, 0.2087729039422543, 0.2054414214325375, 0.21676846196557467, 0.21515824541921155, 0.2087729039422543, 0.2756246529705719, 0.2792892837312604, 0.2537479178234314, 0.2537479178234314, 0.2337590227651305, 0.18323153803442532, 0.17212659633536925, 0.18323153803442532, 0.18323153803442532, 0.18323153803442532, 0.24597445863409217, 0.24597445863409217, 0.21821210438645197, 0.2890061077179345, 0.3014991671293726, 0.28262076624097726, 0.18323153803442532, 0.18878400888395336, 0.18323153803442532, 0.18267629094947252, 0.17434758467518044, 0.17379233759022766, 0.17379233759022766, 0.19988895058300946, 0.21710161021654636, 0.21710161021654636, 0.21066074403109383, 0.22304275402554138, 0.2085508051082732, 0.19777901166018882, 0.2294836202109939, 0.2521932259855636, 0.2715158245419212, 0.42698500832870634, 0.6685174902831761, 0.9444752915047196, 0.8889505830094392, 0.8889505830094392, 1.0, 0.464741810105497, 0.2903942254303165, 0.18445308162132149, 0.17212659633536925, 0.1893392559689062, 0.1893392559689062, 0.1893392559689062, 0.1893392559689062, 0.20183231538034427, 0.21149361465852307, 0.20266518600777347, 0.20266518600777347, 0.20266518600777347, 0.20266518600777347, 0.2865074958356469, 0.37967795669072735, 0.38450860632981676, 0.38089950027762354, 0.6679622431982233, 0.7834536368684064, 0.7895613548028872, 0.7951138256524153, 0.7473625763464742, 0.7590227651304831, 0.3581343697945586, 0.3420322043309273, 0.26429761243753475, 0.2715713492504165, 0.28039977790116605, 0.28095502498611885, 0.2726263187118268, 0.2706274292059967])"
      ]
     },
     "execution_count": 16,
     "metadata": {},
     "output_type": "execute_result"
    }
   ],
   "source": [
    "norm_exp_price_dict.values()"
   ]
  },
  {
   "cell_type": "markdown",
   "metadata": {},
   "source": [
    "#### Will have to determine which type of network to use, and how to implement it. May look into the INF265 tasks for inspiration. Deep Feedforward Network (Multilayer Perceptron) is interesting. May look in to attention mechanisms and how to implement them. Also actor-critic architectures is interesting. May end up in a hybrid model."
   ]
  },
  {
   "cell_type": "code",
   "execution_count": 17,
   "metadata": {},
   "outputs": [],
   "source": [
    "def get_possible_dates(date : pd.Timestamp):\n",
    "    \"\"\" Function to get the possible dates for placing a bid given the current date\n",
    "\n",
    "    Args:\n",
    "        date (pd.Timestamp): the current date\n",
    "\n",
    "    Returns:\n",
    "        (pd.date_range, str): the possible dates for placing a bid and for which market\n",
    "    \"\"\"\n",
    "    if date.hour == 17: # FCR D-2\n",
    "        return (pd.date_range(date + timedelta(days=1) + timedelta(hours=7), date + timedelta(days = 2) + timedelta(hours = 6), freq='H', tz = \"Europe/Oslo\"), \"D_2\")\n",
    "    elif date.hour == 7: # aFRR\n",
    "        return (pd.date_range(date + timedelta(hours = 17), date + timedelta(days = 1) + timedelta(hours = 16), freq='H', tz = \"Europe/Oslo\"), \"aFRR\")\n",
    "    elif date.hour == 18: # FCR D-1\n",
    "        return (pd.date_range(date + timedelta(hours=6), date + timedelta(days = 1) + timedelta(hours = 5), freq='H', tz = \"Europe/Oslo\"), \"D_1\")\n",
    "    else:\n",
    "        return ([], \"No bids\")"
   ]
  },
  {
   "cell_type": "code",
   "execution_count": 18,
   "metadata": {},
   "outputs": [],
   "source": [
    "def get_feasible_portfolio_for_market(possible_assets : [new_meters.PowerMeter], market : final_markets.ReserveMarket, hour : pd.Timestamp):\n",
    "    \"\"\"This function will return one feasible combination quickly.\n",
    "\n",
    "    Args:\n",
    "        possible_assets ([new_meters.PowerMeter]): list of possible assets for the given market and given hour\n",
    "        market (final_markets.ReserveMarket): the market for which the portfolio is to be found\n",
    "        hour (pd.Timestamp): the hour for which the portfolio is to be found\n",
    "\n",
    "    Returns:\n",
    "        list(new_meters.PowerMeter): the feasible portfolio that will be used for the given market in the given hour\n",
    "    \"\"\"\n",
    "   \n",
    "    # Fetch volumes for each asset at the given hour\n",
    "    feasible_assets = [asset for asset in possible_assets if asset in compatible_dict[market]] # exclude assets that are not compatible with the given market\n",
    "    # Fetch volumes for each asset at the given hour\n",
    "    asset_volumes = []\n",
    "    for asset in feasible_assets:\n",
    "        if market.direction == \"both\":\n",
    "            if asset.direction == \"both\":\n",
    "                vol = min(asset.up_flex_volume[\"value\"].loc[asset.up_flex_volume[\"Time(Local)\"] == hour].values[0], asset.down_flex_volume[\"value\"].loc[asset.down_flex_volume[\"Time(Local)\"] == hour].values[0])\n",
    "                asset_volumes.append((asset, vol))\n",
    "            else:\n",
    "                vol = asset.up_flex_volume[\"value\"].loc[asset.up_flex_volume[\"Time(Local)\"] == hour].values[0] if asset.direction == \"up\" else asset.down_flex_volume[\"value\"].loc[asset.down_flex_volume[\"Time(Local)\"] == hour].values[0]\n",
    "                asset_volumes.append((asset, vol))\n",
    "        else:\n",
    "            vol = asset.up_flex_volume[\"value\"].loc[asset.up_flex_volume[\"Time(Local)\"] == hour].values[0] if market.direction == \"up\" else asset.down_flex_volume[\"value\"].loc[asset.down_flex_volume[\"Time(Local)\"] == hour].values[0]\n",
    "            asset_volumes.append((asset, vol))\n",
    "            \n",
    "\n",
    "    # Sort assets by volume in descending order\n",
    "    asset_volumes.sort(key=lambda x: x[1], reverse=True)\n",
    "\n",
    "    # Find a feasible combination\n",
    "    feasible_combination = []\n",
    "    total_volume = 0\n",
    "    for asset, volume in asset_volumes:\n",
    "        feasible_combination.append(asset)\n",
    "        total_volume += volume\n",
    "        if total_volume >= market.min_volume:\n",
    "            break\n",
    "\n",
    "    return feasible_combination, total_volume\n",
    "\n"
   ]
  },
  {
   "cell_type": "markdown",
   "metadata": {},
   "source": [
    "Idea for new way to define flex volume for each asset when not knowing the actual consumption for given hour. Due to the strong patterns in the consumption i can find the average consumption for each load for every hour of day and day of week as well as seasonal variations. Then i can find some sort of variance as well to define the flex volume as a range. This will be done for each load. Should ask Trond to see if this is a good idea and get some help from him. \n",
    "\n",
    "To do this I need a bigger dataset of the consumption. As per now i only have consumption data for june. Maybe I have to do this in databricks. Should talk to Trond about this. "
   ]
  },
  {
   "cell_type": "code",
   "execution_count": 19,
   "metadata": {},
   "outputs": [],
   "source": [
    "def get_n_portfolios_for_market(possible_assets : [new_meters.PowerMeter], market : final_markets.ReserveMarket, hour : pd.Timestamp, top_n=100, iterations=100):\n",
    "    \"\"\"function to find a diverse and large subset of feasible combinations without the computational overhead of checking all possible combinations\n",
    "\n",
    "    Args:\n",
    "        possible_assets ([new_meters.PowerMeter]): list of possible assets for the given market and given hour\n",
    "        market (final_markets.ReserveMarket): the market for which the portfolio is to be found\n",
    "        hour (pd.Timestamp): the hour for which the portfolio is to be found\n",
    "        top_n (int, optional): controls the number of top assets to consider. Defaults to 100.\n",
    "        iterations (int, optional):  determines how many different combinations to try and generate. Defaults to 100.\n",
    "\n",
    "    Returns:\n",
    "        feasible_combinations: dict of top_n feasible combinations of assets that can be bid to the given market in the given hour where the values holds the portfolio's aggregated volume\n",
    "    \"\"\"\n",
    "    feasible_assets = [asset for asset in possible_assets if asset in compatible_dict[market]] # exclude assets that are not compatible with the given market\n",
    "    # Fetch volumes for each asset at the given hour\n",
    "    \n",
    "    asset_volumes = []\n",
    "    for asset in feasible_assets:\n",
    "        if market.direction == \"both\":\n",
    "            if asset.direction == \"both\":\n",
    "                vol = min(asset.up_flex_volume[\"value\"].loc[asset.up_flex_volume[\"Time(Local)\"] == hour].values[0], asset.down_flex_volume[\"value\"].loc[asset.down_flex_volume[\"Time(Local)\"] == hour].values[0])\n",
    "                asset_volumes.append((asset, vol))\n",
    "            else:\n",
    "                vol = asset.up_flex_volume[\"value\"].loc[asset.up_flex_volume[\"Time(Local)\"] == hour].values[0] if asset.direction == \"up\" else asset.down_flex_volume[\"value\"].loc[asset.down_flex_volume[\"Time(Local)\"] == hour].values[0]\n",
    "                asset_volumes.append((asset, vol))\n",
    "        else:\n",
    "            vol = asset.up_flex_volume[\"value\"].loc[asset.up_flex_volume[\"Time(Local)\"] == hour].values[0] if market.direction == \"up\" else asset.down_flex_volume[\"value\"].loc[asset.down_flex_volume[\"Time(Local)\"] == hour].values[0]\n",
    "            asset_volumes.append((asset, vol))\n",
    "            \n",
    "\n",
    "    # Sort assets by volume in descending order\n",
    "    asset_volumes.sort(key=lambda x: x[1], reverse=True)\n",
    "\n",
    "    # Select top N assets\n",
    "    top_assets = asset_volumes[:top_n]\n",
    "    \n",
    "    #feasible_combinations = set()\n",
    "    feasible_combinations = {}\n",
    "    if len(top_assets) > 0:\n",
    "        for _ in range(iterations):\n",
    "            # Randomly sample a smaller subset from top assets\n",
    "            num_assets_to_sample = min(len(top_assets), random.randint(1, top_n))\n",
    "\n",
    "            sampled_assets = random.sample(top_assets, k=num_assets_to_sample)\n",
    "\n",
    "            # Greedy addition to meet minimum volume\n",
    "            combination, total_volume = [], 0\n",
    "            for asset, volume in sampled_assets:\n",
    "                combination.append(asset)\n",
    "                total_volume += volume\n",
    "                if total_volume >= market.min_volume:\n",
    "                    #feasible_combinations.add((tuple(combination), total_volume))\n",
    "                    feasible_combinations[tuple(combination)] = total_volume\n",
    "                    break\n",
    "    \n",
    "    return feasible_combinations\n"
   ]
  },
  {
   "cell_type": "markdown",
   "metadata": {},
   "source": [
    "### The get_portfolio_for_market function where I try to find each and every combination of assets for a given market in a given hour is useless even though I only have NO5 assets and markets. The function is way to computationally expensive. I will have to find a way to make it more efficient or find another way of defining the action space"
   ]
  },
  {
   "cell_type": "markdown",
   "metadata": {},
   "source": [
    "### It will be important to notice that the bidding deadlines are not the same for all markets. This will have to be taken into account when training the model. I will have to make some sort of iteration process that will make the model learn the bidding deadlines for each market and how this affects the bidding process. I must take in to account that the bids is not necessarily being accepted and i will have to make a method where the model will recieve a signal if the bid is accepted or not before it makes the next bid. "
   ]
  },
  {
   "cell_type": "markdown",
   "metadata": {},
   "source": [
    "### Think it will be a good idea to use RL for choosing which markets that will be bid in to and then using some sort of heuristic to determine which of the assets that will be bid in to the chosen market(s)."
   ]
  },
  {
   "cell_type": "code",
   "execution_count": 20,
   "metadata": {},
   "outputs": [],
   "source": [
    "from sklearn.preprocessing import StandardScaler, MinMaxScaler"
   ]
  },
  {
   "cell_type": "code",
   "execution_count": 21,
   "metadata": {},
   "outputs": [],
   "source": [
    "weather_data = weather.get_weather_data(tf= tf, areas = [\"NO5\"])"
   ]
  },
  {
   "cell_type": "code",
   "execution_count": 22,
   "metadata": {},
   "outputs": [],
   "source": [
    "def normalize_weather_data(weather_data, scaler = sklearn.preprocessing.MinMaxScaler()):\n",
    "    data = weather_data.copy()\n",
    "    data[\"precipitation\"] = scaler.fit_transform(data[[\"precipitation\"]])\n",
    "    data[\"air_temp\"] = scaler.fit_transform(data[[\"air_temp\"]])\n",
    "    return data\n"
   ]
  },
  {
   "cell_type": "code",
   "execution_count": 23,
   "metadata": {},
   "outputs": [],
   "source": [
    "norm_w_df = normalize_weather_data(weather_data= weather_data)"
   ]
  },
  {
   "cell_type": "code",
   "execution_count": 24,
   "metadata": {},
   "outputs": [
    {
     "data": {
      "text/html": [
       "<div>\n",
       "<style scoped>\n",
       "    .dataframe tbody tr th:only-of-type {\n",
       "        vertical-align: middle;\n",
       "    }\n",
       "\n",
       "    .dataframe tbody tr th {\n",
       "        vertical-align: top;\n",
       "    }\n",
       "\n",
       "    .dataframe thead th {\n",
       "        text-align: right;\n",
       "    }\n",
       "</style>\n",
       "<table border=\"1\" class=\"dataframe\">\n",
       "  <thead>\n",
       "    <tr style=\"text-align: right;\">\n",
       "      <th></th>\n",
       "      <th>Time (Local)</th>\n",
       "      <th>precipitation</th>\n",
       "      <th>air_temp</th>\n",
       "      <th>area</th>\n",
       "    </tr>\n",
       "  </thead>\n",
       "  <tbody>\n",
       "    <tr>\n",
       "      <th>1</th>\n",
       "      <td>2023-06-19 00:00:00+02:00</td>\n",
       "      <td>0.0</td>\n",
       "      <td>0.645833</td>\n",
       "      <td>NO5</td>\n",
       "    </tr>\n",
       "    <tr>\n",
       "      <th>7</th>\n",
       "      <td>2023-06-19 01:00:00+02:00</td>\n",
       "      <td>0.0</td>\n",
       "      <td>0.611111</td>\n",
       "      <td>NO5</td>\n",
       "    </tr>\n",
       "    <tr>\n",
       "      <th>12</th>\n",
       "      <td>2023-06-19 02:00:00+02:00</td>\n",
       "      <td>0.0</td>\n",
       "      <td>0.541667</td>\n",
       "      <td>NO5</td>\n",
       "    </tr>\n",
       "    <tr>\n",
       "      <th>15</th>\n",
       "      <td>2023-06-19 03:00:00+02:00</td>\n",
       "      <td>0.0</td>\n",
       "      <td>0.520833</td>\n",
       "      <td>NO5</td>\n",
       "    </tr>\n",
       "    <tr>\n",
       "      <th>21</th>\n",
       "      <td>2023-06-19 04:00:00+02:00</td>\n",
       "      <td>0.0</td>\n",
       "      <td>0.520833</td>\n",
       "      <td>NO5</td>\n",
       "    </tr>\n",
       "    <tr>\n",
       "      <th>...</th>\n",
       "      <td>...</td>\n",
       "      <td>...</td>\n",
       "      <td>...</td>\n",
       "      <td>...</td>\n",
       "    </tr>\n",
       "    <tr>\n",
       "      <th>817</th>\n",
       "      <td>2023-06-25 19:00:00+02:00</td>\n",
       "      <td>0.0</td>\n",
       "      <td>0.861111</td>\n",
       "      <td>NO5</td>\n",
       "    </tr>\n",
       "    <tr>\n",
       "      <th>820</th>\n",
       "      <td>2023-06-25 20:00:00+02:00</td>\n",
       "      <td>0.0</td>\n",
       "      <td>0.854167</td>\n",
       "      <td>NO5</td>\n",
       "    </tr>\n",
       "    <tr>\n",
       "      <th>829</th>\n",
       "      <td>2023-06-25 21:00:00+02:00</td>\n",
       "      <td>0.0</td>\n",
       "      <td>0.736111</td>\n",
       "      <td>NO5</td>\n",
       "    </tr>\n",
       "    <tr>\n",
       "      <th>830</th>\n",
       "      <td>2023-06-25 22:00:00+02:00</td>\n",
       "      <td>0.0</td>\n",
       "      <td>0.576389</td>\n",
       "      <td>NO5</td>\n",
       "    </tr>\n",
       "    <tr>\n",
       "      <th>836</th>\n",
       "      <td>2023-06-25 23:00:00+02:00</td>\n",
       "      <td>0.0</td>\n",
       "      <td>0.493056</td>\n",
       "      <td>NO5</td>\n",
       "    </tr>\n",
       "  </tbody>\n",
       "</table>\n",
       "<p>168 rows × 4 columns</p>\n",
       "</div>"
      ],
      "text/plain": [
       "                 Time (Local)  precipitation  air_temp area\n",
       "1   2023-06-19 00:00:00+02:00            0.0  0.645833  NO5\n",
       "7   2023-06-19 01:00:00+02:00            0.0  0.611111  NO5\n",
       "12  2023-06-19 02:00:00+02:00            0.0  0.541667  NO5\n",
       "15  2023-06-19 03:00:00+02:00            0.0  0.520833  NO5\n",
       "21  2023-06-19 04:00:00+02:00            0.0  0.520833  NO5\n",
       "..                        ...            ...       ...  ...\n",
       "817 2023-06-25 19:00:00+02:00            0.0  0.861111  NO5\n",
       "820 2023-06-25 20:00:00+02:00            0.0  0.854167  NO5\n",
       "829 2023-06-25 21:00:00+02:00            0.0  0.736111  NO5\n",
       "830 2023-06-25 22:00:00+02:00            0.0  0.576389  NO5\n",
       "836 2023-06-25 23:00:00+02:00            0.0  0.493056  NO5\n",
       "\n",
       "[168 rows x 4 columns]"
      ]
     },
     "execution_count": 24,
     "metadata": {},
     "output_type": "execute_result"
    }
   ],
   "source": [
    "norm_w_df"
   ]
  },
  {
   "cell_type": "code",
   "execution_count": 25,
   "metadata": {},
   "outputs": [],
   "source": [
    "spot_path = \"../master-data/spot_data/spot_june_23.csv\"\n",
    "\n",
    "norm_da_df = final_markets.preprocess_spot_data(pd.read_csv(spot_path), year = tf.year, start_month = tf.start_month, end_month = tf.end_month, start_day = tf.start_day, end_day = tf.end_day, start_hour = tf.start_hour, end_hour = tf.end_hour, area = \"NO5\", normalize= True)\n"
   ]
  },
  {
   "cell_type": "code",
   "execution_count": 26,
   "metadata": {},
   "outputs": [
    {
     "data": {
      "text/html": [
       "<div>\n",
       "<style scoped>\n",
       "    .dataframe tbody tr th:only-of-type {\n",
       "        vertical-align: middle;\n",
       "    }\n",
       "\n",
       "    .dataframe tbody tr th {\n",
       "        vertical-align: top;\n",
       "    }\n",
       "\n",
       "    .dataframe thead th {\n",
       "        text-align: right;\n",
       "    }\n",
       "</style>\n",
       "<table border=\"1\" class=\"dataframe\">\n",
       "  <thead>\n",
       "    <tr style=\"text-align: right;\">\n",
       "      <th></th>\n",
       "      <th>delivery_area</th>\n",
       "      <th>currency</th>\n",
       "      <th>Time(Local)</th>\n",
       "      <th>product</th>\n",
       "      <th>settlement</th>\n",
       "    </tr>\n",
       "  </thead>\n",
       "  <tbody>\n",
       "    <tr>\n",
       "      <th>0</th>\n",
       "      <td>NO5</td>\n",
       "      <td>EUR</td>\n",
       "      <td>2023-06-19 00:00:00+02:00</td>\n",
       "      <td>SPOT</td>\n",
       "      <td>0.528142</td>\n",
       "    </tr>\n",
       "    <tr>\n",
       "      <th>1</th>\n",
       "      <td>NO5</td>\n",
       "      <td>EUR</td>\n",
       "      <td>2023-06-19 01:00:00+02:00</td>\n",
       "      <td>SPOT</td>\n",
       "      <td>0.527085</td>\n",
       "    </tr>\n",
       "    <tr>\n",
       "      <th>2</th>\n",
       "      <td>NO5</td>\n",
       "      <td>EUR</td>\n",
       "      <td>2023-06-19 02:00:00+02:00</td>\n",
       "      <td>SPOT</td>\n",
       "      <td>0.523229</td>\n",
       "    </tr>\n",
       "    <tr>\n",
       "      <th>3</th>\n",
       "      <td>NO5</td>\n",
       "      <td>EUR</td>\n",
       "      <td>2023-06-19 03:00:00+02:00</td>\n",
       "      <td>SPOT</td>\n",
       "      <td>0.520804</td>\n",
       "    </tr>\n",
       "    <tr>\n",
       "      <th>4</th>\n",
       "      <td>NO5</td>\n",
       "      <td>EUR</td>\n",
       "      <td>2023-06-19 04:00:00+02:00</td>\n",
       "      <td>SPOT</td>\n",
       "      <td>0.519622</td>\n",
       "    </tr>\n",
       "  </tbody>\n",
       "</table>\n",
       "</div>"
      ],
      "text/plain": [
       "  delivery_area currency               Time(Local) product  settlement\n",
       "0           NO5      EUR 2023-06-19 00:00:00+02:00    SPOT    0.528142\n",
       "1           NO5      EUR 2023-06-19 01:00:00+02:00    SPOT    0.527085\n",
       "2           NO5      EUR 2023-06-19 02:00:00+02:00    SPOT    0.523229\n",
       "3           NO5      EUR 2023-06-19 03:00:00+02:00    SPOT    0.520804\n",
       "4           NO5      EUR 2023-06-19 04:00:00+02:00    SPOT    0.519622"
      ]
     },
     "execution_count": 26,
     "metadata": {},
     "output_type": "execute_result"
    }
   ],
   "source": [
    "norm_da_df.head()"
   ]
  },
  {
   "cell_type": "code",
   "execution_count": 36,
   "metadata": {},
   "outputs": [
    {
     "name": "stdout",
     "output_type": "stream",
     "text": [
      "21    0.0\n",
      "Name: precipitation, dtype: float64\n",
      "21    0.520833\n",
      "Name: air_temp, dtype: float64\n",
      "4    0.519622\n",
      "Name: settlement, dtype: float64\n",
      "0.0\n",
      "0.5208333333333334\n",
      "0.5196218670315318\n"
     ]
    }
   ],
   "source": [
    "precipitation = norm_w_df[\"precipitation\"].loc[norm_w_df[\"Time (Local)\"] == H[4]]\n",
    "temperature = norm_w_df[\"air_temp\"].loc[norm_w_df[\"Time (Local)\"] == H[4]]\n",
    "da_price = norm_da_df[\"settlement\"].loc[norm_da_df[\"Time(Local)\"] == H[4]]\n",
    "\n",
    "print(precipitation)\n",
    "print(temperature)\n",
    "print(da_price)\n",
    "\n",
    "# only print the value\n",
    "print(precipitation.values[0])\n",
    "print(temperature.values[0])\n",
    "print(da_price.values[0])"
   ]
  },
  {
   "cell_type": "code",
   "execution_count": 55,
   "metadata": {},
   "outputs": [],
   "source": [
    "def get_features(bid_hour : pd.Timestamp, available_assets : [new_meters.PowerMeter], market : final_markets.ReserveMarket):\n",
    "    \"\"\" Function to get the features for the given hour and market. It is important to use features that will help the model learn which actions to take \n",
    "        and update the weights correctly for the given state.\n",
    "        The features that possibly can be used here are the following:\n",
    "        - day of week\n",
    "        - hour of day\n",
    "        - number of possible assets\n",
    "        - Day Ahead (DA) price\n",
    "        - Weather forecast\n",
    "        - Market historical prices\n",
    "        - Market historical volumes\n",
    "        - frequency data (historical)\n",
    "        \n",
    "    Args:\n",
    "        available_assets (new_meters.PowerMeter]): _description_\n",
    "        hour (pd.Timestamp): _description_\n",
    "        market (final_markets.ReserveMarket): _description_\n",
    "\n",
    "    Returns:\n",
    "        _type_: _description_\n",
    "    \"\"\"\n",
    "    day_of_week = bid_hour.weekday()\n",
    "    hour_of_day = bid_hour.hour\n",
    "    expected_price = norm_exp_price_dict[(market.direction, market.area, bid_hour)]\n",
    "    expected_volume = norm_exp_vol_dict[(market.direction, market.area, bid_hour)]\n",
    "    precipitation = norm_w_df[\"precipitation\"].loc[norm_w_df[\"Time (Local)\"] == bid_hour]\n",
    "    temperature = norm_w_df[\"air_temp\"].loc[norm_w_df[\"Time (Local)\"] == bid_hour]\n",
    "    da_price = norm_da_df[\"settlement\"].loc[norm_da_df[\"Time(Local)\"] == bid_hour]\n",
    "    \n",
    "    \n",
    "    return [day_of_week/7, hour_of_day/24, expected_price, expected_volume, len(available_assets)/len(L), precipitation.values[0], temperature.values[0], da_price.values[0]]"
   ]
  },
  {
   "cell_type": "code",
   "execution_count": 56,
   "metadata": {},
   "outputs": [],
   "source": [
    "def get_income_for_portfolio(volume : float, market : final_markets.ReserveMarket, hour : pd.Timestamp):\n",
    "    \"\"\"function to calculate the income for a given portfolio\n",
    "\n",
    "    Args:\n",
    "        portfolio ([new_meters.PowerMeter]): the portfolio for which the income is to be calculated\n",
    "        market (final_markets.ReserveMarket): the market for which the income is to be calculated\n",
    "        hour (pd.Timestamp): the hour for which the income is to be calculated\n",
    "\n",
    "    Returns:\n",
    "        float: the income for the given portfolio\n",
    "    \"\"\"\n",
    "    \n",
    "    return volume * market.price_data.loc[market.price_data[\"Time(Local)\"] == hour].values[0][1]\n"
   ]
  },
  {
   "cell_type": "code",
   "execution_count": 57,
   "metadata": {},
   "outputs": [],
   "source": [
    "def make_bid(market : final_markets.ReserveMarket, hour : pd.Timestamp, action : int, possible_assets : [new_meters.PowerMeter]):\n",
    "    \"\"\"Function to make a bid to a given market in a given hour\n",
    "\n",
    "    Args:\n",
    "        market (final_markets.ReserveMarket): the market to bid to\n",
    "        hour (pd.Timestamp): the hour to bid to\n",
    "        action (int): the index of the portfolio to bid\n",
    "        possible_assets ([new_meters.PowerMeter]): list of possible assets for the given market and given hour\n",
    "\n",
    "    Returns:\n",
    "        portfolio (list(new_meters.PowerMeter)): the portfolio that was bid\n",
    "        income (float): the income for the portfolio in the given market at the given hour\n",
    "    \"\"\"\n",
    "    if action == 0:\n",
    "        return [], 0\n",
    "    elif action == 1:\n",
    "        portfolio_dict = get_n_portfolios_for_market(possible_assets = possible_assets, market = market, hour = hour, top_n=100, iterations=100)\n",
    "        portfolio = list(portfolio_dict.keys())[0] if len(portfolio_dict.keys()) > 0 else []\n",
    "        volume = portfolio_dict[portfolio] if len(portfolio_dict.keys()) > 0 else 0\n",
    "        return portfolio, get_income_for_portfolio(volume, market, hour)\n",
    "    else:\n",
    "        portfolio, volume = get_feasible_portfolio_for_market(possible_assets = possible_assets, market = market, hour = hour)\n",
    "        return portfolio, get_income_for_portfolio(volume, market, hour)"
   ]
  },
  {
   "cell_type": "code",
   "execution_count": 65,
   "metadata": {},
   "outputs": [],
   "source": [
    "def train_model(epsilon, alpha, weights, num_episodes, L, M, H):\n",
    "    \"\"\" Training function to learn how to bid in to the markets due to the bidding constraints and the asset constraints as well as optimizing the weights. The function will learn how to bid in to the markets by updating the weights due to the features. \n",
    "    \n",
    "\n",
    "    Args:\n",
    "        epsilon (float): float number between 0 and 1, often close to 0\n",
    "        alpha (float): float number between 0 and 1, also known as the learning rate\n",
    "        num_episodes (int): number of episodes to be ran\n",
    "        L ([new_meters.PowerMeter]): list of PowerMeter objects\n",
    "        M ([final_markets.Reservemarket]): list of ReserveMarket objects\n",
    "        H ([pd.Timestamp]): list of timestamps\n",
    "\n",
    "    Returns:\n",
    "        bids (dict): dictionary that holds control over the final bids for each market and each hour\n",
    "        revenues (dict): dictionary that holds the revenue for each episode\n",
    "        available_assets (dict): dictionary that holds the available assets for each hour\n",
    "    \"\"\"\n",
    "    revenues = {}\n",
    "    bid_timeframe = H[24:] # the hours where bids can be placed in\n",
    "    place_bid_hours = [hour for hour in H[:-48] if hour.hour == 7 or hour.hour == 17 or hour.hour == 18] # the hours where bids can be placed from\n",
    "    bids = {}\n",
    "    sup_market_names = [\"FCR\", \"aFRR\"]\n",
    "    markets = [market for market in M if sup_market_names[0] in market.name  or sup_market_names[1] in market.name]\n",
    "    #market_names = [market.name for market in markets]\n",
    "    # will only use FCR-N, FCR-D and aFRR. The FCR markets are both D-1 and D-2 and the aFRR market is D-1 but it is both up and down\n",
    "    \n",
    "    available_assets = {hour: L.copy() for hour in bid_timeframe} \n",
    "    #bids = {(market.name, hour): [] for hour in bid_timeframe for market in markets}\n",
    "    n_actions = 3\n",
    "    \"For each hour, an action should be to either bid in every feasible asset, to bid the minimum volume or to bid nothing\"\n",
    "   \n",
    "    (possible_hours, market_name) = get_possible_dates(place_bid_hours[0]) # the market_name is not the full name of the market, but rather a substring of the full name. Since FCR-D and FCR-N has the same deadlines there will be two markets with the same substring\n",
    "    \n",
    "    possible_markets = [m for m in markets if market_name in m.name] # will either be one or two markets\n",
    "    #indexes = [market_names.index(m.name) for m in possible_markets] # the indexes for each market. This is used to slice the Q-table so it is not necessary in this case\n",
    "    features = get_features(bid_hour = possible_hours[0], available_assets= available_assets[possible_hours[0]], market = possible_markets[0])\n",
    "    \n",
    "    action_0 = random.randint(0, n_actions-1)\n",
    "    action_list = [] # list to keep track of the actions taken.\n",
    "    \n",
    "    # extract hours from H where hour == 7, 17, 18\n",
    "    \n",
    "    \n",
    "    for episode_n in range(num_episodes):\n",
    "        if episode_n > 0:\n",
    "            epsilon -= 0.02\n",
    "            alpha -= 0.001\n",
    "        revenue = 0\n",
    "        #bids = {(market.name, hour): [] for hour in bid_timeframe for market in markets}\n",
    "        available_assets = {hour: L.copy() for hour in bid_timeframe}\n",
    "        for place_hour in place_bid_hours:\n",
    "            (possible_hours, market_name) = get_possible_dates(place_hour)\n",
    "            if len(possible_hours) != 24:\n",
    "                #print(f\"No bids for {place_hour}\")\n",
    "                #print(f\"possible_hours: {len(possible_hours)}\")\n",
    "                break\n",
    "            possible_markets = [m for m in markets if market_name in m.name] # because i am now using only no5 markets, this list should be of length 1 or 2.\n",
    "            #indexes = [market_names.index(m.name) for m in possible_markets]\n",
    "            #print(f\"place_hour : {place_hour}\")\n",
    "            for current_market in possible_markets:\n",
    "                #print(f\"current_market : {current_market.name}\")\n",
    "                for bid_hour in possible_hours:\n",
    "                    #print(f\"bid_hour : {bid_hour}\")\n",
    "                    #print(f\" action_0 : {action_0}\")\n",
    "                    chosen_portfolio, reward = make_bid(current_market, bid_hour, action_0, available_assets[bid_hour]) # get portfolio and reward for a bid\n",
    "                    #print(f\"reward for {bid_hour} is {reward}\")\n",
    "                    available_assets[bid_hour] = [asset for asset in available_assets[bid_hour] if asset not in chosen_portfolio] # remove the assets that were bid from the available assets\n",
    "                    bids[(current_market.name, bid_hour)] = chosen_portfolio # add the bid to the bids dictionary\n",
    "                    new_features = get_features(bid_hour = bid_hour, available_assets= available_assets[bid_hour], market = current_market) # update the features\n",
    "                    \n",
    "                    \"\"\"print(f\"new_features : {new_features}\")\n",
    "                    print(f\"len(new_features) : {len(new_features)}\")\n",
    "                    print(f\"weights[0] : {weights[0]}\")\n",
    "\n",
    "                    print(f\"weights[1] : {weights[1]}\")\n",
    "\n",
    "                    print(f\"weights[2] : {weights[2]}\")\"\"\"\n",
    "                    possible_actions = [np.dot(weights[action], new_features) for action in range(n_actions)] \n",
    "                    \n",
    "                    new_action = greedy_action(possible_actions, epsilon)\n",
    "                    \n",
    "                    action_list.append(new_action)\n",
    "                    \n",
    "                    delta = reward + np.dot(weights[new_action], new_features) - np.dot(weights[action_0], features)\n",
    "                    \n",
    "                    #weights = weights + alpha * delta * np.array(features + [action_0])\n",
    "                    weights[action_0] = weights[action_0] + alpha * delta * features[action_0] # * features???\n",
    "                    \n",
    "                    features, action_0 = new_features, new_action\n",
    "                    revenue += reward\n",
    "                    \n",
    "                    \n",
    "        revenues[episode_n] = revenue\n",
    "    return bids, revenues, available_assets, weights, action_list"
   ]
  },
  {
   "cell_type": "code",
   "execution_count": 66,
   "metadata": {},
   "outputs": [],
   "source": [
    "def initialize_weights(n_features :int , n_actions : int):\n",
    "    return [np.zeros((n_features)) for _ in range(n_actions)]"
   ]
  },
  {
   "cell_type": "code",
   "execution_count": 67,
   "metadata": {},
   "outputs": [
    {
     "data": {
      "text/plain": [
       "[array([0., 0., 0., 0., 0., 0., 0., 0.]),\n",
       " array([0., 0., 0., 0., 0., 0., 0., 0.]),\n",
       " array([0., 0., 0., 0., 0., 0., 0., 0.])]"
      ]
     },
     "execution_count": 67,
     "metadata": {},
     "output_type": "execute_result"
    }
   ],
   "source": [
    "initialize_weights(8, 3)"
   ]
  },
  {
   "cell_type": "code",
   "execution_count": 68,
   "metadata": {},
   "outputs": [],
   "source": [
    "bids, revenues, available_assets, weights, action_list = train_model(epsilon = 0.2, alpha = 0.1, weights = initialize_weights(8, 3), num_episodes = 10, L = L, M = M, H = H)"
   ]
  },
  {
   "cell_type": "code",
   "execution_count": 69,
   "metadata": {},
   "outputs": [
    {
     "data": {
      "text/plain": [
       "{0: 4760.955045199998,\n",
       " 1: 5434.5830665700005,\n",
       " 2: 5454.409287060002,\n",
       " 3: 5773.199253349998,\n",
       " 4: 5277.226802169999,\n",
       " 5: 5384.027853219997,\n",
       " 6: 6053.510393940002,\n",
       " 7: 5581.49584386,\n",
       " 8: 6060.02981766,\n",
       " 9: 6202.65760582}"
      ]
     },
     "execution_count": 69,
     "metadata": {},
     "output_type": "execute_result"
    }
   ],
   "source": [
    "revenues"
   ]
  },
  {
   "cell_type": "code",
   "execution_count": 63,
   "metadata": {},
   "outputs": [
    {
     "data": {
      "text/plain": [
       "dict_keys([('aFRR up_NO5', Timestamp('2023-06-20 00:00:00+0200', tz='Europe/Oslo')), ('aFRR up_NO5', Timestamp('2023-06-20 01:00:00+0200', tz='Europe/Oslo')), ('aFRR up_NO5', Timestamp('2023-06-20 02:00:00+0200', tz='Europe/Oslo')), ('aFRR up_NO5', Timestamp('2023-06-20 03:00:00+0200', tz='Europe/Oslo')), ('aFRR up_NO5', Timestamp('2023-06-20 04:00:00+0200', tz='Europe/Oslo')), ('aFRR up_NO5', Timestamp('2023-06-20 05:00:00+0200', tz='Europe/Oslo')), ('aFRR up_NO5', Timestamp('2023-06-20 06:00:00+0200', tz='Europe/Oslo')), ('aFRR up_NO5', Timestamp('2023-06-20 07:00:00+0200', tz='Europe/Oslo')), ('aFRR up_NO5', Timestamp('2023-06-20 08:00:00+0200', tz='Europe/Oslo')), ('aFRR up_NO5', Timestamp('2023-06-20 09:00:00+0200', tz='Europe/Oslo')), ('aFRR up_NO5', Timestamp('2023-06-20 10:00:00+0200', tz='Europe/Oslo')), ('aFRR up_NO5', Timestamp('2023-06-20 11:00:00+0200', tz='Europe/Oslo')), ('aFRR up_NO5', Timestamp('2023-06-20 12:00:00+0200', tz='Europe/Oslo')), ('aFRR up_NO5', Timestamp('2023-06-20 13:00:00+0200', tz='Europe/Oslo')), ('aFRR up_NO5', Timestamp('2023-06-20 14:00:00+0200', tz='Europe/Oslo')), ('aFRR up_NO5', Timestamp('2023-06-20 15:00:00+0200', tz='Europe/Oslo')), ('aFRR up_NO5', Timestamp('2023-06-20 16:00:00+0200', tz='Europe/Oslo')), ('aFRR up_NO5', Timestamp('2023-06-20 17:00:00+0200', tz='Europe/Oslo')), ('aFRR up_NO5', Timestamp('2023-06-20 18:00:00+0200', tz='Europe/Oslo')), ('aFRR up_NO5', Timestamp('2023-06-20 19:00:00+0200', tz='Europe/Oslo')), ('aFRR up_NO5', Timestamp('2023-06-20 20:00:00+0200', tz='Europe/Oslo')), ('aFRR up_NO5', Timestamp('2023-06-20 21:00:00+0200', tz='Europe/Oslo')), ('aFRR up_NO5', Timestamp('2023-06-20 22:00:00+0200', tz='Europe/Oslo')), ('aFRR up_NO5', Timestamp('2023-06-20 23:00:00+0200', tz='Europe/Oslo')), ('aFRR down_NO5', Timestamp('2023-06-20 00:00:00+0200', tz='Europe/Oslo')), ('aFRR down_NO5', Timestamp('2023-06-20 01:00:00+0200', tz='Europe/Oslo')), ('aFRR down_NO5', Timestamp('2023-06-20 02:00:00+0200', tz='Europe/Oslo')), ('aFRR down_NO5', Timestamp('2023-06-20 03:00:00+0200', tz='Europe/Oslo')), ('aFRR down_NO5', Timestamp('2023-06-20 04:00:00+0200', tz='Europe/Oslo')), ('aFRR down_NO5', Timestamp('2023-06-20 05:00:00+0200', tz='Europe/Oslo')), ('aFRR down_NO5', Timestamp('2023-06-20 06:00:00+0200', tz='Europe/Oslo')), ('aFRR down_NO5', Timestamp('2023-06-20 07:00:00+0200', tz='Europe/Oslo')), ('aFRR down_NO5', Timestamp('2023-06-20 08:00:00+0200', tz='Europe/Oslo')), ('aFRR down_NO5', Timestamp('2023-06-20 09:00:00+0200', tz='Europe/Oslo')), ('aFRR down_NO5', Timestamp('2023-06-20 10:00:00+0200', tz='Europe/Oslo')), ('aFRR down_NO5', Timestamp('2023-06-20 11:00:00+0200', tz='Europe/Oslo')), ('aFRR down_NO5', Timestamp('2023-06-20 12:00:00+0200', tz='Europe/Oslo')), ('aFRR down_NO5', Timestamp('2023-06-20 13:00:00+0200', tz='Europe/Oslo')), ('aFRR down_NO5', Timestamp('2023-06-20 14:00:00+0200', tz='Europe/Oslo')), ('aFRR down_NO5', Timestamp('2023-06-20 15:00:00+0200', tz='Europe/Oslo')), ('aFRR down_NO5', Timestamp('2023-06-20 16:00:00+0200', tz='Europe/Oslo')), ('aFRR down_NO5', Timestamp('2023-06-20 17:00:00+0200', tz='Europe/Oslo')), ('aFRR down_NO5', Timestamp('2023-06-20 18:00:00+0200', tz='Europe/Oslo')), ('aFRR down_NO5', Timestamp('2023-06-20 19:00:00+0200', tz='Europe/Oslo')), ('aFRR down_NO5', Timestamp('2023-06-20 20:00:00+0200', tz='Europe/Oslo')), ('aFRR down_NO5', Timestamp('2023-06-20 21:00:00+0200', tz='Europe/Oslo')), ('aFRR down_NO5', Timestamp('2023-06-20 22:00:00+0200', tz='Europe/Oslo')), ('aFRR down_NO5', Timestamp('2023-06-20 23:00:00+0200', tz='Europe/Oslo')), ('FCR_D_D_2_NO5', Timestamp('2023-06-21 00:00:00+0200', tz='Europe/Oslo')), ('FCR_D_D_2_NO5', Timestamp('2023-06-21 01:00:00+0200', tz='Europe/Oslo')), ('FCR_D_D_2_NO5', Timestamp('2023-06-21 02:00:00+0200', tz='Europe/Oslo')), ('FCR_D_D_2_NO5', Timestamp('2023-06-21 03:00:00+0200', tz='Europe/Oslo')), ('FCR_D_D_2_NO5', Timestamp('2023-06-21 04:00:00+0200', tz='Europe/Oslo')), ('FCR_D_D_2_NO5', Timestamp('2023-06-21 05:00:00+0200', tz='Europe/Oslo')), ('FCR_D_D_2_NO5', Timestamp('2023-06-21 06:00:00+0200', tz='Europe/Oslo')), ('FCR_D_D_2_NO5', Timestamp('2023-06-21 07:00:00+0200', tz='Europe/Oslo')), ('FCR_D_D_2_NO5', Timestamp('2023-06-21 08:00:00+0200', tz='Europe/Oslo')), ('FCR_D_D_2_NO5', Timestamp('2023-06-21 09:00:00+0200', tz='Europe/Oslo')), ('FCR_D_D_2_NO5', Timestamp('2023-06-21 10:00:00+0200', tz='Europe/Oslo')), ('FCR_D_D_2_NO5', Timestamp('2023-06-21 11:00:00+0200', tz='Europe/Oslo')), ('FCR_D_D_2_NO5', Timestamp('2023-06-21 12:00:00+0200', tz='Europe/Oslo')), ('FCR_D_D_2_NO5', Timestamp('2023-06-21 13:00:00+0200', tz='Europe/Oslo')), ('FCR_D_D_2_NO5', Timestamp('2023-06-21 14:00:00+0200', tz='Europe/Oslo')), ('FCR_D_D_2_NO5', Timestamp('2023-06-21 15:00:00+0200', tz='Europe/Oslo')), ('FCR_D_D_2_NO5', Timestamp('2023-06-21 16:00:00+0200', tz='Europe/Oslo')), ('FCR_D_D_2_NO5', Timestamp('2023-06-21 17:00:00+0200', tz='Europe/Oslo')), ('FCR_D_D_2_NO5', Timestamp('2023-06-21 18:00:00+0200', tz='Europe/Oslo')), ('FCR_D_D_2_NO5', Timestamp('2023-06-21 19:00:00+0200', tz='Europe/Oslo')), ('FCR_D_D_2_NO5', Timestamp('2023-06-21 20:00:00+0200', tz='Europe/Oslo')), ('FCR_D_D_2_NO5', Timestamp('2023-06-21 21:00:00+0200', tz='Europe/Oslo')), ('FCR_D_D_2_NO5', Timestamp('2023-06-21 22:00:00+0200', tz='Europe/Oslo')), ('FCR_D_D_2_NO5', Timestamp('2023-06-21 23:00:00+0200', tz='Europe/Oslo')), ('FCR_N_D_2_NO5', Timestamp('2023-06-21 00:00:00+0200', tz='Europe/Oslo')), ('FCR_N_D_2_NO5', Timestamp('2023-06-21 01:00:00+0200', tz='Europe/Oslo')), ('FCR_N_D_2_NO5', Timestamp('2023-06-21 02:00:00+0200', tz='Europe/Oslo')), ('FCR_N_D_2_NO5', Timestamp('2023-06-21 03:00:00+0200', tz='Europe/Oslo')), ('FCR_N_D_2_NO5', Timestamp('2023-06-21 04:00:00+0200', tz='Europe/Oslo')), ('FCR_N_D_2_NO5', Timestamp('2023-06-21 05:00:00+0200', tz='Europe/Oslo')), ('FCR_N_D_2_NO5', Timestamp('2023-06-21 06:00:00+0200', tz='Europe/Oslo')), ('FCR_N_D_2_NO5', Timestamp('2023-06-21 07:00:00+0200', tz='Europe/Oslo')), ('FCR_N_D_2_NO5', Timestamp('2023-06-21 08:00:00+0200', tz='Europe/Oslo')), ('FCR_N_D_2_NO5', Timestamp('2023-06-21 09:00:00+0200', tz='Europe/Oslo')), ('FCR_N_D_2_NO5', Timestamp('2023-06-21 10:00:00+0200', tz='Europe/Oslo')), ('FCR_N_D_2_NO5', Timestamp('2023-06-21 11:00:00+0200', tz='Europe/Oslo')), ('FCR_N_D_2_NO5', Timestamp('2023-06-21 12:00:00+0200', tz='Europe/Oslo')), ('FCR_N_D_2_NO5', Timestamp('2023-06-21 13:00:00+0200', tz='Europe/Oslo')), ('FCR_N_D_2_NO5', Timestamp('2023-06-21 14:00:00+0200', tz='Europe/Oslo')), ('FCR_N_D_2_NO5', Timestamp('2023-06-21 15:00:00+0200', tz='Europe/Oslo')), ('FCR_N_D_2_NO5', Timestamp('2023-06-21 16:00:00+0200', tz='Europe/Oslo')), ('FCR_N_D_2_NO5', Timestamp('2023-06-21 17:00:00+0200', tz='Europe/Oslo')), ('FCR_N_D_2_NO5', Timestamp('2023-06-21 18:00:00+0200', tz='Europe/Oslo')), ('FCR_N_D_2_NO5', Timestamp('2023-06-21 19:00:00+0200', tz='Europe/Oslo')), ('FCR_N_D_2_NO5', Timestamp('2023-06-21 20:00:00+0200', tz='Europe/Oslo')), ('FCR_N_D_2_NO5', Timestamp('2023-06-21 21:00:00+0200', tz='Europe/Oslo')), ('FCR_N_D_2_NO5', Timestamp('2023-06-21 22:00:00+0200', tz='Europe/Oslo')), ('FCR_N_D_2_NO5', Timestamp('2023-06-21 23:00:00+0200', tz='Europe/Oslo')), ('FCR_D_D_1_NO5', Timestamp('2023-06-20 00:00:00+0200', tz='Europe/Oslo')), ('FCR_D_D_1_NO5', Timestamp('2023-06-20 01:00:00+0200', tz='Europe/Oslo')), ('FCR_D_D_1_NO5', Timestamp('2023-06-20 02:00:00+0200', tz='Europe/Oslo')), ('FCR_D_D_1_NO5', Timestamp('2023-06-20 03:00:00+0200', tz='Europe/Oslo')), ('FCR_D_D_1_NO5', Timestamp('2023-06-20 04:00:00+0200', tz='Europe/Oslo')), ('FCR_D_D_1_NO5', Timestamp('2023-06-20 05:00:00+0200', tz='Europe/Oslo')), ('FCR_D_D_1_NO5', Timestamp('2023-06-20 06:00:00+0200', tz='Europe/Oslo')), ('FCR_D_D_1_NO5', Timestamp('2023-06-20 07:00:00+0200', tz='Europe/Oslo')), ('FCR_D_D_1_NO5', Timestamp('2023-06-20 08:00:00+0200', tz='Europe/Oslo')), ('FCR_D_D_1_NO5', Timestamp('2023-06-20 09:00:00+0200', tz='Europe/Oslo')), ('FCR_D_D_1_NO5', Timestamp('2023-06-20 10:00:00+0200', tz='Europe/Oslo')), ('FCR_D_D_1_NO5', Timestamp('2023-06-20 11:00:00+0200', tz='Europe/Oslo')), ('FCR_D_D_1_NO5', Timestamp('2023-06-20 12:00:00+0200', tz='Europe/Oslo')), ('FCR_D_D_1_NO5', Timestamp('2023-06-20 13:00:00+0200', tz='Europe/Oslo')), ('FCR_D_D_1_NO5', Timestamp('2023-06-20 14:00:00+0200', tz='Europe/Oslo')), ('FCR_D_D_1_NO5', Timestamp('2023-06-20 15:00:00+0200', tz='Europe/Oslo')), ('FCR_D_D_1_NO5', Timestamp('2023-06-20 16:00:00+0200', tz='Europe/Oslo')), ('FCR_D_D_1_NO5', Timestamp('2023-06-20 17:00:00+0200', tz='Europe/Oslo')), ('FCR_D_D_1_NO5', Timestamp('2023-06-20 18:00:00+0200', tz='Europe/Oslo')), ('FCR_D_D_1_NO5', Timestamp('2023-06-20 19:00:00+0200', tz='Europe/Oslo')), ('FCR_D_D_1_NO5', Timestamp('2023-06-20 20:00:00+0200', tz='Europe/Oslo')), ('FCR_D_D_1_NO5', Timestamp('2023-06-20 21:00:00+0200', tz='Europe/Oslo')), ('FCR_D_D_1_NO5', Timestamp('2023-06-20 22:00:00+0200', tz='Europe/Oslo')), ('FCR_D_D_1_NO5', Timestamp('2023-06-20 23:00:00+0200', tz='Europe/Oslo')), ('FCR_N_D_1_NO5', Timestamp('2023-06-20 00:00:00+0200', tz='Europe/Oslo')), ('FCR_N_D_1_NO5', Timestamp('2023-06-20 01:00:00+0200', tz='Europe/Oslo')), ('FCR_N_D_1_NO5', Timestamp('2023-06-20 02:00:00+0200', tz='Europe/Oslo')), ('FCR_N_D_1_NO5', Timestamp('2023-06-20 03:00:00+0200', tz='Europe/Oslo')), ('FCR_N_D_1_NO5', Timestamp('2023-06-20 04:00:00+0200', tz='Europe/Oslo')), ('FCR_N_D_1_NO5', Timestamp('2023-06-20 05:00:00+0200', tz='Europe/Oslo')), ('FCR_N_D_1_NO5', Timestamp('2023-06-20 06:00:00+0200', tz='Europe/Oslo')), ('FCR_N_D_1_NO5', Timestamp('2023-06-20 07:00:00+0200', tz='Europe/Oslo')), ('FCR_N_D_1_NO5', Timestamp('2023-06-20 08:00:00+0200', tz='Europe/Oslo')), ('FCR_N_D_1_NO5', Timestamp('2023-06-20 09:00:00+0200', tz='Europe/Oslo')), ('FCR_N_D_1_NO5', Timestamp('2023-06-20 10:00:00+0200', tz='Europe/Oslo')), ('FCR_N_D_1_NO5', Timestamp('2023-06-20 11:00:00+0200', tz='Europe/Oslo')), ('FCR_N_D_1_NO5', Timestamp('2023-06-20 12:00:00+0200', tz='Europe/Oslo')), ('FCR_N_D_1_NO5', Timestamp('2023-06-20 13:00:00+0200', tz='Europe/Oslo')), ('FCR_N_D_1_NO5', Timestamp('2023-06-20 14:00:00+0200', tz='Europe/Oslo')), ('FCR_N_D_1_NO5', Timestamp('2023-06-20 15:00:00+0200', tz='Europe/Oslo')), ('FCR_N_D_1_NO5', Timestamp('2023-06-20 16:00:00+0200', tz='Europe/Oslo')), ('FCR_N_D_1_NO5', Timestamp('2023-06-20 17:00:00+0200', tz='Europe/Oslo')), ('FCR_N_D_1_NO5', Timestamp('2023-06-20 18:00:00+0200', tz='Europe/Oslo')), ('FCR_N_D_1_NO5', Timestamp('2023-06-20 19:00:00+0200', tz='Europe/Oslo')), ('FCR_N_D_1_NO5', Timestamp('2023-06-20 20:00:00+0200', tz='Europe/Oslo')), ('FCR_N_D_1_NO5', Timestamp('2023-06-20 21:00:00+0200', tz='Europe/Oslo')), ('FCR_N_D_1_NO5', Timestamp('2023-06-20 22:00:00+0200', tz='Europe/Oslo')), ('FCR_N_D_1_NO5', Timestamp('2023-06-20 23:00:00+0200', tz='Europe/Oslo')), ('aFRR up_NO5', Timestamp('2023-06-21 00:00:00+0200', tz='Europe/Oslo')), ('aFRR up_NO5', Timestamp('2023-06-21 01:00:00+0200', tz='Europe/Oslo')), ('aFRR up_NO5', Timestamp('2023-06-21 02:00:00+0200', tz='Europe/Oslo')), ('aFRR up_NO5', Timestamp('2023-06-21 03:00:00+0200', tz='Europe/Oslo')), ('aFRR up_NO5', Timestamp('2023-06-21 04:00:00+0200', tz='Europe/Oslo')), ('aFRR up_NO5', Timestamp('2023-06-21 05:00:00+0200', tz='Europe/Oslo')), ('aFRR up_NO5', Timestamp('2023-06-21 06:00:00+0200', tz='Europe/Oslo')), ('aFRR up_NO5', Timestamp('2023-06-21 07:00:00+0200', tz='Europe/Oslo')), ('aFRR up_NO5', Timestamp('2023-06-21 08:00:00+0200', tz='Europe/Oslo')), ('aFRR up_NO5', Timestamp('2023-06-21 09:00:00+0200', tz='Europe/Oslo')), ('aFRR up_NO5', Timestamp('2023-06-21 10:00:00+0200', tz='Europe/Oslo')), ('aFRR up_NO5', Timestamp('2023-06-21 11:00:00+0200', tz='Europe/Oslo')), ('aFRR up_NO5', Timestamp('2023-06-21 12:00:00+0200', tz='Europe/Oslo')), ('aFRR up_NO5', Timestamp('2023-06-21 13:00:00+0200', tz='Europe/Oslo')), ('aFRR up_NO5', Timestamp('2023-06-21 14:00:00+0200', tz='Europe/Oslo')), ('aFRR up_NO5', Timestamp('2023-06-21 15:00:00+0200', tz='Europe/Oslo')), ('aFRR up_NO5', Timestamp('2023-06-21 16:00:00+0200', tz='Europe/Oslo')), ('aFRR up_NO5', Timestamp('2023-06-21 17:00:00+0200', tz='Europe/Oslo')), ('aFRR up_NO5', Timestamp('2023-06-21 18:00:00+0200', tz='Europe/Oslo')), ('aFRR up_NO5', Timestamp('2023-06-21 19:00:00+0200', tz='Europe/Oslo')), ('aFRR up_NO5', Timestamp('2023-06-21 20:00:00+0200', tz='Europe/Oslo')), ('aFRR up_NO5', Timestamp('2023-06-21 21:00:00+0200', tz='Europe/Oslo')), ('aFRR up_NO5', Timestamp('2023-06-21 22:00:00+0200', tz='Europe/Oslo')), ('aFRR up_NO5', Timestamp('2023-06-21 23:00:00+0200', tz='Europe/Oslo')), ('aFRR down_NO5', Timestamp('2023-06-21 00:00:00+0200', tz='Europe/Oslo')), ('aFRR down_NO5', Timestamp('2023-06-21 01:00:00+0200', tz='Europe/Oslo')), ('aFRR down_NO5', Timestamp('2023-06-21 02:00:00+0200', tz='Europe/Oslo')), ('aFRR down_NO5', Timestamp('2023-06-21 03:00:00+0200', tz='Europe/Oslo')), ('aFRR down_NO5', Timestamp('2023-06-21 04:00:00+0200', tz='Europe/Oslo')), ('aFRR down_NO5', Timestamp('2023-06-21 05:00:00+0200', tz='Europe/Oslo')), ('aFRR down_NO5', Timestamp('2023-06-21 06:00:00+0200', tz='Europe/Oslo')), ('aFRR down_NO5', Timestamp('2023-06-21 07:00:00+0200', tz='Europe/Oslo')), ('aFRR down_NO5', Timestamp('2023-06-21 08:00:00+0200', tz='Europe/Oslo')), ('aFRR down_NO5', Timestamp('2023-06-21 09:00:00+0200', tz='Europe/Oslo')), ('aFRR down_NO5', Timestamp('2023-06-21 10:00:00+0200', tz='Europe/Oslo')), ('aFRR down_NO5', Timestamp('2023-06-21 11:00:00+0200', tz='Europe/Oslo')), ('aFRR down_NO5', Timestamp('2023-06-21 12:00:00+0200', tz='Europe/Oslo')), ('aFRR down_NO5', Timestamp('2023-06-21 13:00:00+0200', tz='Europe/Oslo')), ('aFRR down_NO5', Timestamp('2023-06-21 14:00:00+0200', tz='Europe/Oslo')), ('aFRR down_NO5', Timestamp('2023-06-21 15:00:00+0200', tz='Europe/Oslo')), ('aFRR down_NO5', Timestamp('2023-06-21 16:00:00+0200', tz='Europe/Oslo')), ('aFRR down_NO5', Timestamp('2023-06-21 17:00:00+0200', tz='Europe/Oslo')), ('aFRR down_NO5', Timestamp('2023-06-21 18:00:00+0200', tz='Europe/Oslo')), ('aFRR down_NO5', Timestamp('2023-06-21 19:00:00+0200', tz='Europe/Oslo')), ('aFRR down_NO5', Timestamp('2023-06-21 20:00:00+0200', tz='Europe/Oslo')), ('aFRR down_NO5', Timestamp('2023-06-21 21:00:00+0200', tz='Europe/Oslo')), ('aFRR down_NO5', Timestamp('2023-06-21 22:00:00+0200', tz='Europe/Oslo')), ('aFRR down_NO5', Timestamp('2023-06-21 23:00:00+0200', tz='Europe/Oslo')), ('FCR_D_D_2_NO5', Timestamp('2023-06-22 00:00:00+0200', tz='Europe/Oslo')), ('FCR_D_D_2_NO5', Timestamp('2023-06-22 01:00:00+0200', tz='Europe/Oslo')), ('FCR_D_D_2_NO5', Timestamp('2023-06-22 02:00:00+0200', tz='Europe/Oslo')), ('FCR_D_D_2_NO5', Timestamp('2023-06-22 03:00:00+0200', tz='Europe/Oslo')), ('FCR_D_D_2_NO5', Timestamp('2023-06-22 04:00:00+0200', tz='Europe/Oslo')), ('FCR_D_D_2_NO5', Timestamp('2023-06-22 05:00:00+0200', tz='Europe/Oslo')), ('FCR_D_D_2_NO5', Timestamp('2023-06-22 06:00:00+0200', tz='Europe/Oslo')), ('FCR_D_D_2_NO5', Timestamp('2023-06-22 07:00:00+0200', tz='Europe/Oslo')), ('FCR_D_D_2_NO5', Timestamp('2023-06-22 08:00:00+0200', tz='Europe/Oslo')), ('FCR_D_D_2_NO5', Timestamp('2023-06-22 09:00:00+0200', tz='Europe/Oslo')), ('FCR_D_D_2_NO5', Timestamp('2023-06-22 10:00:00+0200', tz='Europe/Oslo')), ('FCR_D_D_2_NO5', Timestamp('2023-06-22 11:00:00+0200', tz='Europe/Oslo')), ('FCR_D_D_2_NO5', Timestamp('2023-06-22 12:00:00+0200', tz='Europe/Oslo')), ('FCR_D_D_2_NO5', Timestamp('2023-06-22 13:00:00+0200', tz='Europe/Oslo')), ('FCR_D_D_2_NO5', Timestamp('2023-06-22 14:00:00+0200', tz='Europe/Oslo')), ('FCR_D_D_2_NO5', Timestamp('2023-06-22 15:00:00+0200', tz='Europe/Oslo')), ('FCR_D_D_2_NO5', Timestamp('2023-06-22 16:00:00+0200', tz='Europe/Oslo')), ('FCR_D_D_2_NO5', Timestamp('2023-06-22 17:00:00+0200', tz='Europe/Oslo')), ('FCR_D_D_2_NO5', Timestamp('2023-06-22 18:00:00+0200', tz='Europe/Oslo')), ('FCR_D_D_2_NO5', Timestamp('2023-06-22 19:00:00+0200', tz='Europe/Oslo')), ('FCR_D_D_2_NO5', Timestamp('2023-06-22 20:00:00+0200', tz='Europe/Oslo')), ('FCR_D_D_2_NO5', Timestamp('2023-06-22 21:00:00+0200', tz='Europe/Oslo')), ('FCR_D_D_2_NO5', Timestamp('2023-06-22 22:00:00+0200', tz='Europe/Oslo')), ('FCR_D_D_2_NO5', Timestamp('2023-06-22 23:00:00+0200', tz='Europe/Oslo')), ('FCR_N_D_2_NO5', Timestamp('2023-06-22 00:00:00+0200', tz='Europe/Oslo')), ('FCR_N_D_2_NO5', Timestamp('2023-06-22 01:00:00+0200', tz='Europe/Oslo')), ('FCR_N_D_2_NO5', Timestamp('2023-06-22 02:00:00+0200', tz='Europe/Oslo')), ('FCR_N_D_2_NO5', Timestamp('2023-06-22 03:00:00+0200', tz='Europe/Oslo')), ('FCR_N_D_2_NO5', Timestamp('2023-06-22 04:00:00+0200', tz='Europe/Oslo')), ('FCR_N_D_2_NO5', Timestamp('2023-06-22 05:00:00+0200', tz='Europe/Oslo')), ('FCR_N_D_2_NO5', Timestamp('2023-06-22 06:00:00+0200', tz='Europe/Oslo')), ('FCR_N_D_2_NO5', Timestamp('2023-06-22 07:00:00+0200', tz='Europe/Oslo')), ('FCR_N_D_2_NO5', Timestamp('2023-06-22 08:00:00+0200', tz='Europe/Oslo')), ('FCR_N_D_2_NO5', Timestamp('2023-06-22 09:00:00+0200', tz='Europe/Oslo')), ('FCR_N_D_2_NO5', Timestamp('2023-06-22 10:00:00+0200', tz='Europe/Oslo')), ('FCR_N_D_2_NO5', Timestamp('2023-06-22 11:00:00+0200', tz='Europe/Oslo')), ('FCR_N_D_2_NO5', Timestamp('2023-06-22 12:00:00+0200', tz='Europe/Oslo')), ('FCR_N_D_2_NO5', Timestamp('2023-06-22 13:00:00+0200', tz='Europe/Oslo')), ('FCR_N_D_2_NO5', Timestamp('2023-06-22 14:00:00+0200', tz='Europe/Oslo')), ('FCR_N_D_2_NO5', Timestamp('2023-06-22 15:00:00+0200', tz='Europe/Oslo')), ('FCR_N_D_2_NO5', Timestamp('2023-06-22 16:00:00+0200', tz='Europe/Oslo')), ('FCR_N_D_2_NO5', Timestamp('2023-06-22 17:00:00+0200', tz='Europe/Oslo')), ('FCR_N_D_2_NO5', Timestamp('2023-06-22 18:00:00+0200', tz='Europe/Oslo')), ('FCR_N_D_2_NO5', Timestamp('2023-06-22 19:00:00+0200', tz='Europe/Oslo')), ('FCR_N_D_2_NO5', Timestamp('2023-06-22 20:00:00+0200', tz='Europe/Oslo')), ('FCR_N_D_2_NO5', Timestamp('2023-06-22 21:00:00+0200', tz='Europe/Oslo')), ('FCR_N_D_2_NO5', Timestamp('2023-06-22 22:00:00+0200', tz='Europe/Oslo')), ('FCR_N_D_2_NO5', Timestamp('2023-06-22 23:00:00+0200', tz='Europe/Oslo')), ('FCR_D_D_1_NO5', Timestamp('2023-06-21 00:00:00+0200', tz='Europe/Oslo')), ('FCR_D_D_1_NO5', Timestamp('2023-06-21 01:00:00+0200', tz='Europe/Oslo')), ('FCR_D_D_1_NO5', Timestamp('2023-06-21 02:00:00+0200', tz='Europe/Oslo')), ('FCR_D_D_1_NO5', Timestamp('2023-06-21 03:00:00+0200', tz='Europe/Oslo')), ('FCR_D_D_1_NO5', Timestamp('2023-06-21 04:00:00+0200', tz='Europe/Oslo')), ('FCR_D_D_1_NO5', Timestamp('2023-06-21 05:00:00+0200', tz='Europe/Oslo')), ('FCR_D_D_1_NO5', Timestamp('2023-06-21 06:00:00+0200', tz='Europe/Oslo')), ('FCR_D_D_1_NO5', Timestamp('2023-06-21 07:00:00+0200', tz='Europe/Oslo')), ('FCR_D_D_1_NO5', Timestamp('2023-06-21 08:00:00+0200', tz='Europe/Oslo')), ('FCR_D_D_1_NO5', Timestamp('2023-06-21 09:00:00+0200', tz='Europe/Oslo')), ('FCR_D_D_1_NO5', Timestamp('2023-06-21 10:00:00+0200', tz='Europe/Oslo')), ('FCR_D_D_1_NO5', Timestamp('2023-06-21 11:00:00+0200', tz='Europe/Oslo')), ('FCR_D_D_1_NO5', Timestamp('2023-06-21 12:00:00+0200', tz='Europe/Oslo')), ('FCR_D_D_1_NO5', Timestamp('2023-06-21 13:00:00+0200', tz='Europe/Oslo')), ('FCR_D_D_1_NO5', Timestamp('2023-06-21 14:00:00+0200', tz='Europe/Oslo')), ('FCR_D_D_1_NO5', Timestamp('2023-06-21 15:00:00+0200', tz='Europe/Oslo')), ('FCR_D_D_1_NO5', Timestamp('2023-06-21 16:00:00+0200', tz='Europe/Oslo')), ('FCR_D_D_1_NO5', Timestamp('2023-06-21 17:00:00+0200', tz='Europe/Oslo')), ('FCR_D_D_1_NO5', Timestamp('2023-06-21 18:00:00+0200', tz='Europe/Oslo')), ('FCR_D_D_1_NO5', Timestamp('2023-06-21 19:00:00+0200', tz='Europe/Oslo')), ('FCR_D_D_1_NO5', Timestamp('2023-06-21 20:00:00+0200', tz='Europe/Oslo')), ('FCR_D_D_1_NO5', Timestamp('2023-06-21 21:00:00+0200', tz='Europe/Oslo')), ('FCR_D_D_1_NO5', Timestamp('2023-06-21 22:00:00+0200', tz='Europe/Oslo')), ('FCR_D_D_1_NO5', Timestamp('2023-06-21 23:00:00+0200', tz='Europe/Oslo')), ('FCR_N_D_1_NO5', Timestamp('2023-06-21 00:00:00+0200', tz='Europe/Oslo')), ('FCR_N_D_1_NO5', Timestamp('2023-06-21 01:00:00+0200', tz='Europe/Oslo')), ('FCR_N_D_1_NO5', Timestamp('2023-06-21 02:00:00+0200', tz='Europe/Oslo')), ('FCR_N_D_1_NO5', Timestamp('2023-06-21 03:00:00+0200', tz='Europe/Oslo')), ('FCR_N_D_1_NO5', Timestamp('2023-06-21 04:00:00+0200', tz='Europe/Oslo')), ('FCR_N_D_1_NO5', Timestamp('2023-06-21 05:00:00+0200', tz='Europe/Oslo')), ('FCR_N_D_1_NO5', Timestamp('2023-06-21 06:00:00+0200', tz='Europe/Oslo')), ('FCR_N_D_1_NO5', Timestamp('2023-06-21 07:00:00+0200', tz='Europe/Oslo')), ('FCR_N_D_1_NO5', Timestamp('2023-06-21 08:00:00+0200', tz='Europe/Oslo')), ('FCR_N_D_1_NO5', Timestamp('2023-06-21 09:00:00+0200', tz='Europe/Oslo')), ('FCR_N_D_1_NO5', Timestamp('2023-06-21 10:00:00+0200', tz='Europe/Oslo')), ('FCR_N_D_1_NO5', Timestamp('2023-06-21 11:00:00+0200', tz='Europe/Oslo')), ('FCR_N_D_1_NO5', Timestamp('2023-06-21 12:00:00+0200', tz='Europe/Oslo')), ('FCR_N_D_1_NO5', Timestamp('2023-06-21 13:00:00+0200', tz='Europe/Oslo')), ('FCR_N_D_1_NO5', Timestamp('2023-06-21 14:00:00+0200', tz='Europe/Oslo')), ('FCR_N_D_1_NO5', Timestamp('2023-06-21 15:00:00+0200', tz='Europe/Oslo')), ('FCR_N_D_1_NO5', Timestamp('2023-06-21 16:00:00+0200', tz='Europe/Oslo')), ('FCR_N_D_1_NO5', Timestamp('2023-06-21 17:00:00+0200', tz='Europe/Oslo')), ('FCR_N_D_1_NO5', Timestamp('2023-06-21 18:00:00+0200', tz='Europe/Oslo')), ('FCR_N_D_1_NO5', Timestamp('2023-06-21 19:00:00+0200', tz='Europe/Oslo')), ('FCR_N_D_1_NO5', Timestamp('2023-06-21 20:00:00+0200', tz='Europe/Oslo')), ('FCR_N_D_1_NO5', Timestamp('2023-06-21 21:00:00+0200', tz='Europe/Oslo')), ('FCR_N_D_1_NO5', Timestamp('2023-06-21 22:00:00+0200', tz='Europe/Oslo')), ('FCR_N_D_1_NO5', Timestamp('2023-06-21 23:00:00+0200', tz='Europe/Oslo')), ('aFRR up_NO5', Timestamp('2023-06-22 00:00:00+0200', tz='Europe/Oslo')), ('aFRR up_NO5', Timestamp('2023-06-22 01:00:00+0200', tz='Europe/Oslo')), ('aFRR up_NO5', Timestamp('2023-06-22 02:00:00+0200', tz='Europe/Oslo')), ('aFRR up_NO5', Timestamp('2023-06-22 03:00:00+0200', tz='Europe/Oslo')), ('aFRR up_NO5', Timestamp('2023-06-22 04:00:00+0200', tz='Europe/Oslo')), ('aFRR up_NO5', Timestamp('2023-06-22 05:00:00+0200', tz='Europe/Oslo')), ('aFRR up_NO5', Timestamp('2023-06-22 06:00:00+0200', tz='Europe/Oslo')), ('aFRR up_NO5', Timestamp('2023-06-22 07:00:00+0200', tz='Europe/Oslo')), ('aFRR up_NO5', Timestamp('2023-06-22 08:00:00+0200', tz='Europe/Oslo')), ('aFRR up_NO5', Timestamp('2023-06-22 09:00:00+0200', tz='Europe/Oslo')), ('aFRR up_NO5', Timestamp('2023-06-22 10:00:00+0200', tz='Europe/Oslo')), ('aFRR up_NO5', Timestamp('2023-06-22 11:00:00+0200', tz='Europe/Oslo')), ('aFRR up_NO5', Timestamp('2023-06-22 12:00:00+0200', tz='Europe/Oslo')), ('aFRR up_NO5', Timestamp('2023-06-22 13:00:00+0200', tz='Europe/Oslo')), ('aFRR up_NO5', Timestamp('2023-06-22 14:00:00+0200', tz='Europe/Oslo')), ('aFRR up_NO5', Timestamp('2023-06-22 15:00:00+0200', tz='Europe/Oslo')), ('aFRR up_NO5', Timestamp('2023-06-22 16:00:00+0200', tz='Europe/Oslo')), ('aFRR up_NO5', Timestamp('2023-06-22 17:00:00+0200', tz='Europe/Oslo')), ('aFRR up_NO5', Timestamp('2023-06-22 18:00:00+0200', tz='Europe/Oslo')), ('aFRR up_NO5', Timestamp('2023-06-22 19:00:00+0200', tz='Europe/Oslo')), ('aFRR up_NO5', Timestamp('2023-06-22 20:00:00+0200', tz='Europe/Oslo')), ('aFRR up_NO5', Timestamp('2023-06-22 21:00:00+0200', tz='Europe/Oslo')), ('aFRR up_NO5', Timestamp('2023-06-22 22:00:00+0200', tz='Europe/Oslo')), ('aFRR up_NO5', Timestamp('2023-06-22 23:00:00+0200', tz='Europe/Oslo')), ('aFRR down_NO5', Timestamp('2023-06-22 00:00:00+0200', tz='Europe/Oslo')), ('aFRR down_NO5', Timestamp('2023-06-22 01:00:00+0200', tz='Europe/Oslo')), ('aFRR down_NO5', Timestamp('2023-06-22 02:00:00+0200', tz='Europe/Oslo')), ('aFRR down_NO5', Timestamp('2023-06-22 03:00:00+0200', tz='Europe/Oslo')), ('aFRR down_NO5', Timestamp('2023-06-22 04:00:00+0200', tz='Europe/Oslo')), ('aFRR down_NO5', Timestamp('2023-06-22 05:00:00+0200', tz='Europe/Oslo')), ('aFRR down_NO5', Timestamp('2023-06-22 06:00:00+0200', tz='Europe/Oslo')), ('aFRR down_NO5', Timestamp('2023-06-22 07:00:00+0200', tz='Europe/Oslo')), ('aFRR down_NO5', Timestamp('2023-06-22 08:00:00+0200', tz='Europe/Oslo')), ('aFRR down_NO5', Timestamp('2023-06-22 09:00:00+0200', tz='Europe/Oslo')), ('aFRR down_NO5', Timestamp('2023-06-22 10:00:00+0200', tz='Europe/Oslo')), ('aFRR down_NO5', Timestamp('2023-06-22 11:00:00+0200', tz='Europe/Oslo')), ('aFRR down_NO5', Timestamp('2023-06-22 12:00:00+0200', tz='Europe/Oslo')), ('aFRR down_NO5', Timestamp('2023-06-22 13:00:00+0200', tz='Europe/Oslo')), ('aFRR down_NO5', Timestamp('2023-06-22 14:00:00+0200', tz='Europe/Oslo')), ('aFRR down_NO5', Timestamp('2023-06-22 15:00:00+0200', tz='Europe/Oslo')), ('aFRR down_NO5', Timestamp('2023-06-22 16:00:00+0200', tz='Europe/Oslo')), ('aFRR down_NO5', Timestamp('2023-06-22 17:00:00+0200', tz='Europe/Oslo')), ('aFRR down_NO5', Timestamp('2023-06-22 18:00:00+0200', tz='Europe/Oslo')), ('aFRR down_NO5', Timestamp('2023-06-22 19:00:00+0200', tz='Europe/Oslo')), ('aFRR down_NO5', Timestamp('2023-06-22 20:00:00+0200', tz='Europe/Oslo')), ('aFRR down_NO5', Timestamp('2023-06-22 21:00:00+0200', tz='Europe/Oslo')), ('aFRR down_NO5', Timestamp('2023-06-22 22:00:00+0200', tz='Europe/Oslo')), ('aFRR down_NO5', Timestamp('2023-06-22 23:00:00+0200', tz='Europe/Oslo')), ('FCR_D_D_2_NO5', Timestamp('2023-06-23 00:00:00+0200', tz='Europe/Oslo')), ('FCR_D_D_2_NO5', Timestamp('2023-06-23 01:00:00+0200', tz='Europe/Oslo')), ('FCR_D_D_2_NO5', Timestamp('2023-06-23 02:00:00+0200', tz='Europe/Oslo')), ('FCR_D_D_2_NO5', Timestamp('2023-06-23 03:00:00+0200', tz='Europe/Oslo')), ('FCR_D_D_2_NO5', Timestamp('2023-06-23 04:00:00+0200', tz='Europe/Oslo')), ('FCR_D_D_2_NO5', Timestamp('2023-06-23 05:00:00+0200', tz='Europe/Oslo')), ('FCR_D_D_2_NO5', Timestamp('2023-06-23 06:00:00+0200', tz='Europe/Oslo')), ('FCR_D_D_2_NO5', Timestamp('2023-06-23 07:00:00+0200', tz='Europe/Oslo')), ('FCR_D_D_2_NO5', Timestamp('2023-06-23 08:00:00+0200', tz='Europe/Oslo')), ('FCR_D_D_2_NO5', Timestamp('2023-06-23 09:00:00+0200', tz='Europe/Oslo')), ('FCR_D_D_2_NO5', Timestamp('2023-06-23 10:00:00+0200', tz='Europe/Oslo')), ('FCR_D_D_2_NO5', Timestamp('2023-06-23 11:00:00+0200', tz='Europe/Oslo')), ('FCR_D_D_2_NO5', Timestamp('2023-06-23 12:00:00+0200', tz='Europe/Oslo')), ('FCR_D_D_2_NO5', Timestamp('2023-06-23 13:00:00+0200', tz='Europe/Oslo')), ('FCR_D_D_2_NO5', Timestamp('2023-06-23 14:00:00+0200', tz='Europe/Oslo')), ('FCR_D_D_2_NO5', Timestamp('2023-06-23 15:00:00+0200', tz='Europe/Oslo')), ('FCR_D_D_2_NO5', Timestamp('2023-06-23 16:00:00+0200', tz='Europe/Oslo')), ('FCR_D_D_2_NO5', Timestamp('2023-06-23 17:00:00+0200', tz='Europe/Oslo')), ('FCR_D_D_2_NO5', Timestamp('2023-06-23 18:00:00+0200', tz='Europe/Oslo')), ('FCR_D_D_2_NO5', Timestamp('2023-06-23 19:00:00+0200', tz='Europe/Oslo')), ('FCR_D_D_2_NO5', Timestamp('2023-06-23 20:00:00+0200', tz='Europe/Oslo')), ('FCR_D_D_2_NO5', Timestamp('2023-06-23 21:00:00+0200', tz='Europe/Oslo')), ('FCR_D_D_2_NO5', Timestamp('2023-06-23 22:00:00+0200', tz='Europe/Oslo')), ('FCR_D_D_2_NO5', Timestamp('2023-06-23 23:00:00+0200', tz='Europe/Oslo')), ('FCR_N_D_2_NO5', Timestamp('2023-06-23 00:00:00+0200', tz='Europe/Oslo')), ('FCR_N_D_2_NO5', Timestamp('2023-06-23 01:00:00+0200', tz='Europe/Oslo')), ('FCR_N_D_2_NO5', Timestamp('2023-06-23 02:00:00+0200', tz='Europe/Oslo')), ('FCR_N_D_2_NO5', Timestamp('2023-06-23 03:00:00+0200', tz='Europe/Oslo')), ('FCR_N_D_2_NO5', Timestamp('2023-06-23 04:00:00+0200', tz='Europe/Oslo')), ('FCR_N_D_2_NO5', Timestamp('2023-06-23 05:00:00+0200', tz='Europe/Oslo')), ('FCR_N_D_2_NO5', Timestamp('2023-06-23 06:00:00+0200', tz='Europe/Oslo')), ('FCR_N_D_2_NO5', Timestamp('2023-06-23 07:00:00+0200', tz='Europe/Oslo')), ('FCR_N_D_2_NO5', Timestamp('2023-06-23 08:00:00+0200', tz='Europe/Oslo')), ('FCR_N_D_2_NO5', Timestamp('2023-06-23 09:00:00+0200', tz='Europe/Oslo')), ('FCR_N_D_2_NO5', Timestamp('2023-06-23 10:00:00+0200', tz='Europe/Oslo')), ('FCR_N_D_2_NO5', Timestamp('2023-06-23 11:00:00+0200', tz='Europe/Oslo')), ('FCR_N_D_2_NO5', Timestamp('2023-06-23 12:00:00+0200', tz='Europe/Oslo')), ('FCR_N_D_2_NO5', Timestamp('2023-06-23 13:00:00+0200', tz='Europe/Oslo')), ('FCR_N_D_2_NO5', Timestamp('2023-06-23 14:00:00+0200', tz='Europe/Oslo')), ('FCR_N_D_2_NO5', Timestamp('2023-06-23 15:00:00+0200', tz='Europe/Oslo')), ('FCR_N_D_2_NO5', Timestamp('2023-06-23 16:00:00+0200', tz='Europe/Oslo')), ('FCR_N_D_2_NO5', Timestamp('2023-06-23 17:00:00+0200', tz='Europe/Oslo')), ('FCR_N_D_2_NO5', Timestamp('2023-06-23 18:00:00+0200', tz='Europe/Oslo')), ('FCR_N_D_2_NO5', Timestamp('2023-06-23 19:00:00+0200', tz='Europe/Oslo')), ('FCR_N_D_2_NO5', Timestamp('2023-06-23 20:00:00+0200', tz='Europe/Oslo')), ('FCR_N_D_2_NO5', Timestamp('2023-06-23 21:00:00+0200', tz='Europe/Oslo')), ('FCR_N_D_2_NO5', Timestamp('2023-06-23 22:00:00+0200', tz='Europe/Oslo')), ('FCR_N_D_2_NO5', Timestamp('2023-06-23 23:00:00+0200', tz='Europe/Oslo')), ('FCR_D_D_1_NO5', Timestamp('2023-06-22 00:00:00+0200', tz='Europe/Oslo')), ('FCR_D_D_1_NO5', Timestamp('2023-06-22 01:00:00+0200', tz='Europe/Oslo')), ('FCR_D_D_1_NO5', Timestamp('2023-06-22 02:00:00+0200', tz='Europe/Oslo')), ('FCR_D_D_1_NO5', Timestamp('2023-06-22 03:00:00+0200', tz='Europe/Oslo')), ('FCR_D_D_1_NO5', Timestamp('2023-06-22 04:00:00+0200', tz='Europe/Oslo')), ('FCR_D_D_1_NO5', Timestamp('2023-06-22 05:00:00+0200', tz='Europe/Oslo')), ('FCR_D_D_1_NO5', Timestamp('2023-06-22 06:00:00+0200', tz='Europe/Oslo')), ('FCR_D_D_1_NO5', Timestamp('2023-06-22 07:00:00+0200', tz='Europe/Oslo')), ('FCR_D_D_1_NO5', Timestamp('2023-06-22 08:00:00+0200', tz='Europe/Oslo')), ('FCR_D_D_1_NO5', Timestamp('2023-06-22 09:00:00+0200', tz='Europe/Oslo')), ('FCR_D_D_1_NO5', Timestamp('2023-06-22 10:00:00+0200', tz='Europe/Oslo')), ('FCR_D_D_1_NO5', Timestamp('2023-06-22 11:00:00+0200', tz='Europe/Oslo')), ('FCR_D_D_1_NO5', Timestamp('2023-06-22 12:00:00+0200', tz='Europe/Oslo')), ('FCR_D_D_1_NO5', Timestamp('2023-06-22 13:00:00+0200', tz='Europe/Oslo')), ('FCR_D_D_1_NO5', Timestamp('2023-06-22 14:00:00+0200', tz='Europe/Oslo')), ('FCR_D_D_1_NO5', Timestamp('2023-06-22 15:00:00+0200', tz='Europe/Oslo')), ('FCR_D_D_1_NO5', Timestamp('2023-06-22 16:00:00+0200', tz='Europe/Oslo')), ('FCR_D_D_1_NO5', Timestamp('2023-06-22 17:00:00+0200', tz='Europe/Oslo')), ('FCR_D_D_1_NO5', Timestamp('2023-06-22 18:00:00+0200', tz='Europe/Oslo')), ('FCR_D_D_1_NO5', Timestamp('2023-06-22 19:00:00+0200', tz='Europe/Oslo')), ('FCR_D_D_1_NO5', Timestamp('2023-06-22 20:00:00+0200', tz='Europe/Oslo')), ('FCR_D_D_1_NO5', Timestamp('2023-06-22 21:00:00+0200', tz='Europe/Oslo')), ('FCR_D_D_1_NO5', Timestamp('2023-06-22 22:00:00+0200', tz='Europe/Oslo')), ('FCR_D_D_1_NO5', Timestamp('2023-06-22 23:00:00+0200', tz='Europe/Oslo')), ('FCR_N_D_1_NO5', Timestamp('2023-06-22 00:00:00+0200', tz='Europe/Oslo')), ('FCR_N_D_1_NO5', Timestamp('2023-06-22 01:00:00+0200', tz='Europe/Oslo')), ('FCR_N_D_1_NO5', Timestamp('2023-06-22 02:00:00+0200', tz='Europe/Oslo')), ('FCR_N_D_1_NO5', Timestamp('2023-06-22 03:00:00+0200', tz='Europe/Oslo')), ('FCR_N_D_1_NO5', Timestamp('2023-06-22 04:00:00+0200', tz='Europe/Oslo')), ('FCR_N_D_1_NO5', Timestamp('2023-06-22 05:00:00+0200', tz='Europe/Oslo')), ('FCR_N_D_1_NO5', Timestamp('2023-06-22 06:00:00+0200', tz='Europe/Oslo')), ('FCR_N_D_1_NO5', Timestamp('2023-06-22 07:00:00+0200', tz='Europe/Oslo')), ('FCR_N_D_1_NO5', Timestamp('2023-06-22 08:00:00+0200', tz='Europe/Oslo')), ('FCR_N_D_1_NO5', Timestamp('2023-06-22 09:00:00+0200', tz='Europe/Oslo')), ('FCR_N_D_1_NO5', Timestamp('2023-06-22 10:00:00+0200', tz='Europe/Oslo')), ('FCR_N_D_1_NO5', Timestamp('2023-06-22 11:00:00+0200', tz='Europe/Oslo')), ('FCR_N_D_1_NO5', Timestamp('2023-06-22 12:00:00+0200', tz='Europe/Oslo')), ('FCR_N_D_1_NO5', Timestamp('2023-06-22 13:00:00+0200', tz='Europe/Oslo')), ('FCR_N_D_1_NO5', Timestamp('2023-06-22 14:00:00+0200', tz='Europe/Oslo')), ('FCR_N_D_1_NO5', Timestamp('2023-06-22 15:00:00+0200', tz='Europe/Oslo')), ('FCR_N_D_1_NO5', Timestamp('2023-06-22 16:00:00+0200', tz='Europe/Oslo')), ('FCR_N_D_1_NO5', Timestamp('2023-06-22 17:00:00+0200', tz='Europe/Oslo')), ('FCR_N_D_1_NO5', Timestamp('2023-06-22 18:00:00+0200', tz='Europe/Oslo')), ('FCR_N_D_1_NO5', Timestamp('2023-06-22 19:00:00+0200', tz='Europe/Oslo')), ('FCR_N_D_1_NO5', Timestamp('2023-06-22 20:00:00+0200', tz='Europe/Oslo')), ('FCR_N_D_1_NO5', Timestamp('2023-06-22 21:00:00+0200', tz='Europe/Oslo')), ('FCR_N_D_1_NO5', Timestamp('2023-06-22 22:00:00+0200', tz='Europe/Oslo')), ('FCR_N_D_1_NO5', Timestamp('2023-06-22 23:00:00+0200', tz='Europe/Oslo')), ('aFRR up_NO5', Timestamp('2023-06-23 00:00:00+0200', tz='Europe/Oslo')), ('aFRR up_NO5', Timestamp('2023-06-23 01:00:00+0200', tz='Europe/Oslo')), ('aFRR up_NO5', Timestamp('2023-06-23 02:00:00+0200', tz='Europe/Oslo')), ('aFRR up_NO5', Timestamp('2023-06-23 03:00:00+0200', tz='Europe/Oslo')), ('aFRR up_NO5', Timestamp('2023-06-23 04:00:00+0200', tz='Europe/Oslo')), ('aFRR up_NO5', Timestamp('2023-06-23 05:00:00+0200', tz='Europe/Oslo')), ('aFRR up_NO5', Timestamp('2023-06-23 06:00:00+0200', tz='Europe/Oslo')), ('aFRR up_NO5', Timestamp('2023-06-23 07:00:00+0200', tz='Europe/Oslo')), ('aFRR up_NO5', Timestamp('2023-06-23 08:00:00+0200', tz='Europe/Oslo')), ('aFRR up_NO5', Timestamp('2023-06-23 09:00:00+0200', tz='Europe/Oslo')), ('aFRR up_NO5', Timestamp('2023-06-23 10:00:00+0200', tz='Europe/Oslo')), ('aFRR up_NO5', Timestamp('2023-06-23 11:00:00+0200', tz='Europe/Oslo')), ('aFRR up_NO5', Timestamp('2023-06-23 12:00:00+0200', tz='Europe/Oslo')), ('aFRR up_NO5', Timestamp('2023-06-23 13:00:00+0200', tz='Europe/Oslo')), ('aFRR up_NO5', Timestamp('2023-06-23 14:00:00+0200', tz='Europe/Oslo')), ('aFRR up_NO5', Timestamp('2023-06-23 15:00:00+0200', tz='Europe/Oslo')), ('aFRR up_NO5', Timestamp('2023-06-23 16:00:00+0200', tz='Europe/Oslo')), ('aFRR up_NO5', Timestamp('2023-06-23 17:00:00+0200', tz='Europe/Oslo')), ('aFRR up_NO5', Timestamp('2023-06-23 18:00:00+0200', tz='Europe/Oslo')), ('aFRR up_NO5', Timestamp('2023-06-23 19:00:00+0200', tz='Europe/Oslo')), ('aFRR up_NO5', Timestamp('2023-06-23 20:00:00+0200', tz='Europe/Oslo')), ('aFRR up_NO5', Timestamp('2023-06-23 21:00:00+0200', tz='Europe/Oslo')), ('aFRR up_NO5', Timestamp('2023-06-23 22:00:00+0200', tz='Europe/Oslo')), ('aFRR up_NO5', Timestamp('2023-06-23 23:00:00+0200', tz='Europe/Oslo')), ('aFRR down_NO5', Timestamp('2023-06-23 00:00:00+0200', tz='Europe/Oslo')), ('aFRR down_NO5', Timestamp('2023-06-23 01:00:00+0200', tz='Europe/Oslo')), ('aFRR down_NO5', Timestamp('2023-06-23 02:00:00+0200', tz='Europe/Oslo')), ('aFRR down_NO5', Timestamp('2023-06-23 03:00:00+0200', tz='Europe/Oslo')), ('aFRR down_NO5', Timestamp('2023-06-23 04:00:00+0200', tz='Europe/Oslo')), ('aFRR down_NO5', Timestamp('2023-06-23 05:00:00+0200', tz='Europe/Oslo')), ('aFRR down_NO5', Timestamp('2023-06-23 06:00:00+0200', tz='Europe/Oslo')), ('aFRR down_NO5', Timestamp('2023-06-23 07:00:00+0200', tz='Europe/Oslo')), ('aFRR down_NO5', Timestamp('2023-06-23 08:00:00+0200', tz='Europe/Oslo')), ('aFRR down_NO5', Timestamp('2023-06-23 09:00:00+0200', tz='Europe/Oslo')), ('aFRR down_NO5', Timestamp('2023-06-23 10:00:00+0200', tz='Europe/Oslo')), ('aFRR down_NO5', Timestamp('2023-06-23 11:00:00+0200', tz='Europe/Oslo')), ('aFRR down_NO5', Timestamp('2023-06-23 12:00:00+0200', tz='Europe/Oslo')), ('aFRR down_NO5', Timestamp('2023-06-23 13:00:00+0200', tz='Europe/Oslo')), ('aFRR down_NO5', Timestamp('2023-06-23 14:00:00+0200', tz='Europe/Oslo')), ('aFRR down_NO5', Timestamp('2023-06-23 15:00:00+0200', tz='Europe/Oslo')), ('aFRR down_NO5', Timestamp('2023-06-23 16:00:00+0200', tz='Europe/Oslo')), ('aFRR down_NO5', Timestamp('2023-06-23 17:00:00+0200', tz='Europe/Oslo')), ('aFRR down_NO5', Timestamp('2023-06-23 18:00:00+0200', tz='Europe/Oslo')), ('aFRR down_NO5', Timestamp('2023-06-23 19:00:00+0200', tz='Europe/Oslo')), ('aFRR down_NO5', Timestamp('2023-06-23 20:00:00+0200', tz='Europe/Oslo')), ('aFRR down_NO5', Timestamp('2023-06-23 21:00:00+0200', tz='Europe/Oslo')), ('aFRR down_NO5', Timestamp('2023-06-23 22:00:00+0200', tz='Europe/Oslo')), ('aFRR down_NO5', Timestamp('2023-06-23 23:00:00+0200', tz='Europe/Oslo')), ('FCR_D_D_2_NO5', Timestamp('2023-06-24 00:00:00+0200', tz='Europe/Oslo')), ('FCR_D_D_2_NO5', Timestamp('2023-06-24 01:00:00+0200', tz='Europe/Oslo')), ('FCR_D_D_2_NO5', Timestamp('2023-06-24 02:00:00+0200', tz='Europe/Oslo')), ('FCR_D_D_2_NO5', Timestamp('2023-06-24 03:00:00+0200', tz='Europe/Oslo')), ('FCR_D_D_2_NO5', Timestamp('2023-06-24 04:00:00+0200', tz='Europe/Oslo')), ('FCR_D_D_2_NO5', Timestamp('2023-06-24 05:00:00+0200', tz='Europe/Oslo')), ('FCR_D_D_2_NO5', Timestamp('2023-06-24 06:00:00+0200', tz='Europe/Oslo')), ('FCR_D_D_2_NO5', Timestamp('2023-06-24 07:00:00+0200', tz='Europe/Oslo')), ('FCR_D_D_2_NO5', Timestamp('2023-06-24 08:00:00+0200', tz='Europe/Oslo')), ('FCR_D_D_2_NO5', Timestamp('2023-06-24 09:00:00+0200', tz='Europe/Oslo')), ('FCR_D_D_2_NO5', Timestamp('2023-06-24 10:00:00+0200', tz='Europe/Oslo')), ('FCR_D_D_2_NO5', Timestamp('2023-06-24 11:00:00+0200', tz='Europe/Oslo')), ('FCR_D_D_2_NO5', Timestamp('2023-06-24 12:00:00+0200', tz='Europe/Oslo')), ('FCR_D_D_2_NO5', Timestamp('2023-06-24 13:00:00+0200', tz='Europe/Oslo')), ('FCR_D_D_2_NO5', Timestamp('2023-06-24 14:00:00+0200', tz='Europe/Oslo')), ('FCR_D_D_2_NO5', Timestamp('2023-06-24 15:00:00+0200', tz='Europe/Oslo')), ('FCR_D_D_2_NO5', Timestamp('2023-06-24 16:00:00+0200', tz='Europe/Oslo')), ('FCR_D_D_2_NO5', Timestamp('2023-06-24 17:00:00+0200', tz='Europe/Oslo')), ('FCR_D_D_2_NO5', Timestamp('2023-06-24 18:00:00+0200', tz='Europe/Oslo')), ('FCR_D_D_2_NO5', Timestamp('2023-06-24 19:00:00+0200', tz='Europe/Oslo')), ('FCR_D_D_2_NO5', Timestamp('2023-06-24 20:00:00+0200', tz='Europe/Oslo')), ('FCR_D_D_2_NO5', Timestamp('2023-06-24 21:00:00+0200', tz='Europe/Oslo')), ('FCR_D_D_2_NO5', Timestamp('2023-06-24 22:00:00+0200', tz='Europe/Oslo')), ('FCR_D_D_2_NO5', Timestamp('2023-06-24 23:00:00+0200', tz='Europe/Oslo')), ('FCR_N_D_2_NO5', Timestamp('2023-06-24 00:00:00+0200', tz='Europe/Oslo')), ('FCR_N_D_2_NO5', Timestamp('2023-06-24 01:00:00+0200', tz='Europe/Oslo')), ('FCR_N_D_2_NO5', Timestamp('2023-06-24 02:00:00+0200', tz='Europe/Oslo')), ('FCR_N_D_2_NO5', Timestamp('2023-06-24 03:00:00+0200', tz='Europe/Oslo')), ('FCR_N_D_2_NO5', Timestamp('2023-06-24 04:00:00+0200', tz='Europe/Oslo')), ('FCR_N_D_2_NO5', Timestamp('2023-06-24 05:00:00+0200', tz='Europe/Oslo')), ('FCR_N_D_2_NO5', Timestamp('2023-06-24 06:00:00+0200', tz='Europe/Oslo')), ('FCR_N_D_2_NO5', Timestamp('2023-06-24 07:00:00+0200', tz='Europe/Oslo')), ('FCR_N_D_2_NO5', Timestamp('2023-06-24 08:00:00+0200', tz='Europe/Oslo')), ('FCR_N_D_2_NO5', Timestamp('2023-06-24 09:00:00+0200', tz='Europe/Oslo')), ('FCR_N_D_2_NO5', Timestamp('2023-06-24 10:00:00+0200', tz='Europe/Oslo')), ('FCR_N_D_2_NO5', Timestamp('2023-06-24 11:00:00+0200', tz='Europe/Oslo')), ('FCR_N_D_2_NO5', Timestamp('2023-06-24 12:00:00+0200', tz='Europe/Oslo')), ('FCR_N_D_2_NO5', Timestamp('2023-06-24 13:00:00+0200', tz='Europe/Oslo')), ('FCR_N_D_2_NO5', Timestamp('2023-06-24 14:00:00+0200', tz='Europe/Oslo')), ('FCR_N_D_2_NO5', Timestamp('2023-06-24 15:00:00+0200', tz='Europe/Oslo')), ('FCR_N_D_2_NO5', Timestamp('2023-06-24 16:00:00+0200', tz='Europe/Oslo')), ('FCR_N_D_2_NO5', Timestamp('2023-06-24 17:00:00+0200', tz='Europe/Oslo')), ('FCR_N_D_2_NO5', Timestamp('2023-06-24 18:00:00+0200', tz='Europe/Oslo')), ('FCR_N_D_2_NO5', Timestamp('2023-06-24 19:00:00+0200', tz='Europe/Oslo')), ('FCR_N_D_2_NO5', Timestamp('2023-06-24 20:00:00+0200', tz='Europe/Oslo')), ('FCR_N_D_2_NO5', Timestamp('2023-06-24 21:00:00+0200', tz='Europe/Oslo')), ('FCR_N_D_2_NO5', Timestamp('2023-06-24 22:00:00+0200', tz='Europe/Oslo')), ('FCR_N_D_2_NO5', Timestamp('2023-06-24 23:00:00+0200', tz='Europe/Oslo')), ('FCR_D_D_1_NO5', Timestamp('2023-06-23 00:00:00+0200', tz='Europe/Oslo')), ('FCR_D_D_1_NO5', Timestamp('2023-06-23 01:00:00+0200', tz='Europe/Oslo')), ('FCR_D_D_1_NO5', Timestamp('2023-06-23 02:00:00+0200', tz='Europe/Oslo')), ('FCR_D_D_1_NO5', Timestamp('2023-06-23 03:00:00+0200', tz='Europe/Oslo')), ('FCR_D_D_1_NO5', Timestamp('2023-06-23 04:00:00+0200', tz='Europe/Oslo')), ('FCR_D_D_1_NO5', Timestamp('2023-06-23 05:00:00+0200', tz='Europe/Oslo')), ('FCR_D_D_1_NO5', Timestamp('2023-06-23 06:00:00+0200', tz='Europe/Oslo')), ('FCR_D_D_1_NO5', Timestamp('2023-06-23 07:00:00+0200', tz='Europe/Oslo')), ('FCR_D_D_1_NO5', Timestamp('2023-06-23 08:00:00+0200', tz='Europe/Oslo')), ('FCR_D_D_1_NO5', Timestamp('2023-06-23 09:00:00+0200', tz='Europe/Oslo')), ('FCR_D_D_1_NO5', Timestamp('2023-06-23 10:00:00+0200', tz='Europe/Oslo')), ('FCR_D_D_1_NO5', Timestamp('2023-06-23 11:00:00+0200', tz='Europe/Oslo')), ('FCR_D_D_1_NO5', Timestamp('2023-06-23 12:00:00+0200', tz='Europe/Oslo')), ('FCR_D_D_1_NO5', Timestamp('2023-06-23 13:00:00+0200', tz='Europe/Oslo')), ('FCR_D_D_1_NO5', Timestamp('2023-06-23 14:00:00+0200', tz='Europe/Oslo')), ('FCR_D_D_1_NO5', Timestamp('2023-06-23 15:00:00+0200', tz='Europe/Oslo')), ('FCR_D_D_1_NO5', Timestamp('2023-06-23 16:00:00+0200', tz='Europe/Oslo')), ('FCR_D_D_1_NO5', Timestamp('2023-06-23 17:00:00+0200', tz='Europe/Oslo')), ('FCR_D_D_1_NO5', Timestamp('2023-06-23 18:00:00+0200', tz='Europe/Oslo')), ('FCR_D_D_1_NO5', Timestamp('2023-06-23 19:00:00+0200', tz='Europe/Oslo')), ('FCR_D_D_1_NO5', Timestamp('2023-06-23 20:00:00+0200', tz='Europe/Oslo')), ('FCR_D_D_1_NO5', Timestamp('2023-06-23 21:00:00+0200', tz='Europe/Oslo')), ('FCR_D_D_1_NO5', Timestamp('2023-06-23 22:00:00+0200', tz='Europe/Oslo')), ('FCR_D_D_1_NO5', Timestamp('2023-06-23 23:00:00+0200', tz='Europe/Oslo')), ('FCR_N_D_1_NO5', Timestamp('2023-06-23 00:00:00+0200', tz='Europe/Oslo')), ('FCR_N_D_1_NO5', Timestamp('2023-06-23 01:00:00+0200', tz='Europe/Oslo')), ('FCR_N_D_1_NO5', Timestamp('2023-06-23 02:00:00+0200', tz='Europe/Oslo')), ('FCR_N_D_1_NO5', Timestamp('2023-06-23 03:00:00+0200', tz='Europe/Oslo')), ('FCR_N_D_1_NO5', Timestamp('2023-06-23 04:00:00+0200', tz='Europe/Oslo')), ('FCR_N_D_1_NO5', Timestamp('2023-06-23 05:00:00+0200', tz='Europe/Oslo')), ('FCR_N_D_1_NO5', Timestamp('2023-06-23 06:00:00+0200', tz='Europe/Oslo')), ('FCR_N_D_1_NO5', Timestamp('2023-06-23 07:00:00+0200', tz='Europe/Oslo')), ('FCR_N_D_1_NO5', Timestamp('2023-06-23 08:00:00+0200', tz='Europe/Oslo')), ('FCR_N_D_1_NO5', Timestamp('2023-06-23 09:00:00+0200', tz='Europe/Oslo')), ('FCR_N_D_1_NO5', Timestamp('2023-06-23 10:00:00+0200', tz='Europe/Oslo')), ('FCR_N_D_1_NO5', Timestamp('2023-06-23 11:00:00+0200', tz='Europe/Oslo')), ('FCR_N_D_1_NO5', Timestamp('2023-06-23 12:00:00+0200', tz='Europe/Oslo')), ('FCR_N_D_1_NO5', Timestamp('2023-06-23 13:00:00+0200', tz='Europe/Oslo')), ('FCR_N_D_1_NO5', Timestamp('2023-06-23 14:00:00+0200', tz='Europe/Oslo')), ('FCR_N_D_1_NO5', Timestamp('2023-06-23 15:00:00+0200', tz='Europe/Oslo')), ('FCR_N_D_1_NO5', Timestamp('2023-06-23 16:00:00+0200', tz='Europe/Oslo')), ('FCR_N_D_1_NO5', Timestamp('2023-06-23 17:00:00+0200', tz='Europe/Oslo')), ('FCR_N_D_1_NO5', Timestamp('2023-06-23 18:00:00+0200', tz='Europe/Oslo')), ('FCR_N_D_1_NO5', Timestamp('2023-06-23 19:00:00+0200', tz='Europe/Oslo')), ('FCR_N_D_1_NO5', Timestamp('2023-06-23 20:00:00+0200', tz='Europe/Oslo')), ('FCR_N_D_1_NO5', Timestamp('2023-06-23 21:00:00+0200', tz='Europe/Oslo')), ('FCR_N_D_1_NO5', Timestamp('2023-06-23 22:00:00+0200', tz='Europe/Oslo')), ('FCR_N_D_1_NO5', Timestamp('2023-06-23 23:00:00+0200', tz='Europe/Oslo')), ('aFRR up_NO5', Timestamp('2023-06-24 00:00:00+0200', tz='Europe/Oslo')), ('aFRR up_NO5', Timestamp('2023-06-24 01:00:00+0200', tz='Europe/Oslo')), ('aFRR up_NO5', Timestamp('2023-06-24 02:00:00+0200', tz='Europe/Oslo')), ('aFRR up_NO5', Timestamp('2023-06-24 03:00:00+0200', tz='Europe/Oslo')), ('aFRR up_NO5', Timestamp('2023-06-24 04:00:00+0200', tz='Europe/Oslo')), ('aFRR up_NO5', Timestamp('2023-06-24 05:00:00+0200', tz='Europe/Oslo')), ('aFRR up_NO5', Timestamp('2023-06-24 06:00:00+0200', tz='Europe/Oslo')), ('aFRR up_NO5', Timestamp('2023-06-24 07:00:00+0200', tz='Europe/Oslo')), ('aFRR up_NO5', Timestamp('2023-06-24 08:00:00+0200', tz='Europe/Oslo')), ('aFRR up_NO5', Timestamp('2023-06-24 09:00:00+0200', tz='Europe/Oslo')), ('aFRR up_NO5', Timestamp('2023-06-24 10:00:00+0200', tz='Europe/Oslo')), ('aFRR up_NO5', Timestamp('2023-06-24 11:00:00+0200', tz='Europe/Oslo')), ('aFRR up_NO5', Timestamp('2023-06-24 12:00:00+0200', tz='Europe/Oslo')), ('aFRR up_NO5', Timestamp('2023-06-24 13:00:00+0200', tz='Europe/Oslo')), ('aFRR up_NO5', Timestamp('2023-06-24 14:00:00+0200', tz='Europe/Oslo')), ('aFRR up_NO5', Timestamp('2023-06-24 15:00:00+0200', tz='Europe/Oslo')), ('aFRR up_NO5', Timestamp('2023-06-24 16:00:00+0200', tz='Europe/Oslo')), ('aFRR up_NO5', Timestamp('2023-06-24 17:00:00+0200', tz='Europe/Oslo')), ('aFRR up_NO5', Timestamp('2023-06-24 18:00:00+0200', tz='Europe/Oslo')), ('aFRR up_NO5', Timestamp('2023-06-24 19:00:00+0200', tz='Europe/Oslo')), ('aFRR up_NO5', Timestamp('2023-06-24 20:00:00+0200', tz='Europe/Oslo')), ('aFRR up_NO5', Timestamp('2023-06-24 21:00:00+0200', tz='Europe/Oslo')), ('aFRR up_NO5', Timestamp('2023-06-24 22:00:00+0200', tz='Europe/Oslo')), ('aFRR up_NO5', Timestamp('2023-06-24 23:00:00+0200', tz='Europe/Oslo')), ('aFRR down_NO5', Timestamp('2023-06-24 00:00:00+0200', tz='Europe/Oslo')), ('aFRR down_NO5', Timestamp('2023-06-24 01:00:00+0200', tz='Europe/Oslo')), ('aFRR down_NO5', Timestamp('2023-06-24 02:00:00+0200', tz='Europe/Oslo')), ('aFRR down_NO5', Timestamp('2023-06-24 03:00:00+0200', tz='Europe/Oslo')), ('aFRR down_NO5', Timestamp('2023-06-24 04:00:00+0200', tz='Europe/Oslo')), ('aFRR down_NO5', Timestamp('2023-06-24 05:00:00+0200', tz='Europe/Oslo')), ('aFRR down_NO5', Timestamp('2023-06-24 06:00:00+0200', tz='Europe/Oslo')), ('aFRR down_NO5', Timestamp('2023-06-24 07:00:00+0200', tz='Europe/Oslo')), ('aFRR down_NO5', Timestamp('2023-06-24 08:00:00+0200', tz='Europe/Oslo')), ('aFRR down_NO5', Timestamp('2023-06-24 09:00:00+0200', tz='Europe/Oslo')), ('aFRR down_NO5', Timestamp('2023-06-24 10:00:00+0200', tz='Europe/Oslo')), ('aFRR down_NO5', Timestamp('2023-06-24 11:00:00+0200', tz='Europe/Oslo')), ('aFRR down_NO5', Timestamp('2023-06-24 12:00:00+0200', tz='Europe/Oslo')), ('aFRR down_NO5', Timestamp('2023-06-24 13:00:00+0200', tz='Europe/Oslo')), ('aFRR down_NO5', Timestamp('2023-06-24 14:00:00+0200', tz='Europe/Oslo')), ('aFRR down_NO5', Timestamp('2023-06-24 15:00:00+0200', tz='Europe/Oslo')), ('aFRR down_NO5', Timestamp('2023-06-24 16:00:00+0200', tz='Europe/Oslo')), ('aFRR down_NO5', Timestamp('2023-06-24 17:00:00+0200', tz='Europe/Oslo')), ('aFRR down_NO5', Timestamp('2023-06-24 18:00:00+0200', tz='Europe/Oslo')), ('aFRR down_NO5', Timestamp('2023-06-24 19:00:00+0200', tz='Europe/Oslo')), ('aFRR down_NO5', Timestamp('2023-06-24 20:00:00+0200', tz='Europe/Oslo')), ('aFRR down_NO5', Timestamp('2023-06-24 21:00:00+0200', tz='Europe/Oslo')), ('aFRR down_NO5', Timestamp('2023-06-24 22:00:00+0200', tz='Europe/Oslo')), ('aFRR down_NO5', Timestamp('2023-06-24 23:00:00+0200', tz='Europe/Oslo')), ('FCR_D_D_2_NO5', Timestamp('2023-06-25 00:00:00+0200', tz='Europe/Oslo')), ('FCR_D_D_2_NO5', Timestamp('2023-06-25 01:00:00+0200', tz='Europe/Oslo')), ('FCR_D_D_2_NO5', Timestamp('2023-06-25 02:00:00+0200', tz='Europe/Oslo')), ('FCR_D_D_2_NO5', Timestamp('2023-06-25 03:00:00+0200', tz='Europe/Oslo')), ('FCR_D_D_2_NO5', Timestamp('2023-06-25 04:00:00+0200', tz='Europe/Oslo')), ('FCR_D_D_2_NO5', Timestamp('2023-06-25 05:00:00+0200', tz='Europe/Oslo')), ('FCR_D_D_2_NO5', Timestamp('2023-06-25 06:00:00+0200', tz='Europe/Oslo')), ('FCR_D_D_2_NO5', Timestamp('2023-06-25 07:00:00+0200', tz='Europe/Oslo')), ('FCR_D_D_2_NO5', Timestamp('2023-06-25 08:00:00+0200', tz='Europe/Oslo')), ('FCR_D_D_2_NO5', Timestamp('2023-06-25 09:00:00+0200', tz='Europe/Oslo')), ('FCR_D_D_2_NO5', Timestamp('2023-06-25 10:00:00+0200', tz='Europe/Oslo')), ('FCR_D_D_2_NO5', Timestamp('2023-06-25 11:00:00+0200', tz='Europe/Oslo')), ('FCR_D_D_2_NO5', Timestamp('2023-06-25 12:00:00+0200', tz='Europe/Oslo')), ('FCR_D_D_2_NO5', Timestamp('2023-06-25 13:00:00+0200', tz='Europe/Oslo')), ('FCR_D_D_2_NO5', Timestamp('2023-06-25 14:00:00+0200', tz='Europe/Oslo')), ('FCR_D_D_2_NO5', Timestamp('2023-06-25 15:00:00+0200', tz='Europe/Oslo')), ('FCR_D_D_2_NO5', Timestamp('2023-06-25 16:00:00+0200', tz='Europe/Oslo')), ('FCR_D_D_2_NO5', Timestamp('2023-06-25 17:00:00+0200', tz='Europe/Oslo')), ('FCR_D_D_2_NO5', Timestamp('2023-06-25 18:00:00+0200', tz='Europe/Oslo')), ('FCR_D_D_2_NO5', Timestamp('2023-06-25 19:00:00+0200', tz='Europe/Oslo')), ('FCR_D_D_2_NO5', Timestamp('2023-06-25 20:00:00+0200', tz='Europe/Oslo')), ('FCR_D_D_2_NO5', Timestamp('2023-06-25 21:00:00+0200', tz='Europe/Oslo')), ('FCR_D_D_2_NO5', Timestamp('2023-06-25 22:00:00+0200', tz='Europe/Oslo')), ('FCR_D_D_2_NO5', Timestamp('2023-06-25 23:00:00+0200', tz='Europe/Oslo')), ('FCR_N_D_2_NO5', Timestamp('2023-06-25 00:00:00+0200', tz='Europe/Oslo')), ('FCR_N_D_2_NO5', Timestamp('2023-06-25 01:00:00+0200', tz='Europe/Oslo')), ('FCR_N_D_2_NO5', Timestamp('2023-06-25 02:00:00+0200', tz='Europe/Oslo')), ('FCR_N_D_2_NO5', Timestamp('2023-06-25 03:00:00+0200', tz='Europe/Oslo')), ('FCR_N_D_2_NO5', Timestamp('2023-06-25 04:00:00+0200', tz='Europe/Oslo')), ('FCR_N_D_2_NO5', Timestamp('2023-06-25 05:00:00+0200', tz='Europe/Oslo')), ('FCR_N_D_2_NO5', Timestamp('2023-06-25 06:00:00+0200', tz='Europe/Oslo')), ('FCR_N_D_2_NO5', Timestamp('2023-06-25 07:00:00+0200', tz='Europe/Oslo')), ('FCR_N_D_2_NO5', Timestamp('2023-06-25 08:00:00+0200', tz='Europe/Oslo')), ('FCR_N_D_2_NO5', Timestamp('2023-06-25 09:00:00+0200', tz='Europe/Oslo')), ('FCR_N_D_2_NO5', Timestamp('2023-06-25 10:00:00+0200', tz='Europe/Oslo')), ('FCR_N_D_2_NO5', Timestamp('2023-06-25 11:00:00+0200', tz='Europe/Oslo')), ('FCR_N_D_2_NO5', Timestamp('2023-06-25 12:00:00+0200', tz='Europe/Oslo')), ('FCR_N_D_2_NO5', Timestamp('2023-06-25 13:00:00+0200', tz='Europe/Oslo')), ('FCR_N_D_2_NO5', Timestamp('2023-06-25 14:00:00+0200', tz='Europe/Oslo')), ('FCR_N_D_2_NO5', Timestamp('2023-06-25 15:00:00+0200', tz='Europe/Oslo')), ('FCR_N_D_2_NO5', Timestamp('2023-06-25 16:00:00+0200', tz='Europe/Oslo')), ('FCR_N_D_2_NO5', Timestamp('2023-06-25 17:00:00+0200', tz='Europe/Oslo')), ('FCR_N_D_2_NO5', Timestamp('2023-06-25 18:00:00+0200', tz='Europe/Oslo')), ('FCR_N_D_2_NO5', Timestamp('2023-06-25 19:00:00+0200', tz='Europe/Oslo')), ('FCR_N_D_2_NO5', Timestamp('2023-06-25 20:00:00+0200', tz='Europe/Oslo')), ('FCR_N_D_2_NO5', Timestamp('2023-06-25 21:00:00+0200', tz='Europe/Oslo')), ('FCR_N_D_2_NO5', Timestamp('2023-06-25 22:00:00+0200', tz='Europe/Oslo')), ('FCR_N_D_2_NO5', Timestamp('2023-06-25 23:00:00+0200', tz='Europe/Oslo')), ('FCR_D_D_1_NO5', Timestamp('2023-06-24 00:00:00+0200', tz='Europe/Oslo')), ('FCR_D_D_1_NO5', Timestamp('2023-06-24 01:00:00+0200', tz='Europe/Oslo')), ('FCR_D_D_1_NO5', Timestamp('2023-06-24 02:00:00+0200', tz='Europe/Oslo')), ('FCR_D_D_1_NO5', Timestamp('2023-06-24 03:00:00+0200', tz='Europe/Oslo')), ('FCR_D_D_1_NO5', Timestamp('2023-06-24 04:00:00+0200', tz='Europe/Oslo')), ('FCR_D_D_1_NO5', Timestamp('2023-06-24 05:00:00+0200', tz='Europe/Oslo')), ('FCR_D_D_1_NO5', Timestamp('2023-06-24 06:00:00+0200', tz='Europe/Oslo')), ('FCR_D_D_1_NO5', Timestamp('2023-06-24 07:00:00+0200', tz='Europe/Oslo')), ('FCR_D_D_1_NO5', Timestamp('2023-06-24 08:00:00+0200', tz='Europe/Oslo')), ('FCR_D_D_1_NO5', Timestamp('2023-06-24 09:00:00+0200', tz='Europe/Oslo')), ('FCR_D_D_1_NO5', Timestamp('2023-06-24 10:00:00+0200', tz='Europe/Oslo')), ('FCR_D_D_1_NO5', Timestamp('2023-06-24 11:00:00+0200', tz='Europe/Oslo')), ('FCR_D_D_1_NO5', Timestamp('2023-06-24 12:00:00+0200', tz='Europe/Oslo')), ('FCR_D_D_1_NO5', Timestamp('2023-06-24 13:00:00+0200', tz='Europe/Oslo')), ('FCR_D_D_1_NO5', Timestamp('2023-06-24 14:00:00+0200', tz='Europe/Oslo')), ('FCR_D_D_1_NO5', Timestamp('2023-06-24 15:00:00+0200', tz='Europe/Oslo')), ('FCR_D_D_1_NO5', Timestamp('2023-06-24 16:00:00+0200', tz='Europe/Oslo')), ('FCR_D_D_1_NO5', Timestamp('2023-06-24 17:00:00+0200', tz='Europe/Oslo')), ('FCR_D_D_1_NO5', Timestamp('2023-06-24 18:00:00+0200', tz='Europe/Oslo')), ('FCR_D_D_1_NO5', Timestamp('2023-06-24 19:00:00+0200', tz='Europe/Oslo')), ('FCR_D_D_1_NO5', Timestamp('2023-06-24 20:00:00+0200', tz='Europe/Oslo')), ('FCR_D_D_1_NO5', Timestamp('2023-06-24 21:00:00+0200', tz='Europe/Oslo')), ('FCR_D_D_1_NO5', Timestamp('2023-06-24 22:00:00+0200', tz='Europe/Oslo')), ('FCR_D_D_1_NO5', Timestamp('2023-06-24 23:00:00+0200', tz='Europe/Oslo')), ('FCR_N_D_1_NO5', Timestamp('2023-06-24 00:00:00+0200', tz='Europe/Oslo')), ('FCR_N_D_1_NO5', Timestamp('2023-06-24 01:00:00+0200', tz='Europe/Oslo')), ('FCR_N_D_1_NO5', Timestamp('2023-06-24 02:00:00+0200', tz='Europe/Oslo')), ('FCR_N_D_1_NO5', Timestamp('2023-06-24 03:00:00+0200', tz='Europe/Oslo')), ('FCR_N_D_1_NO5', Timestamp('2023-06-24 04:00:00+0200', tz='Europe/Oslo')), ('FCR_N_D_1_NO5', Timestamp('2023-06-24 05:00:00+0200', tz='Europe/Oslo')), ('FCR_N_D_1_NO5', Timestamp('2023-06-24 06:00:00+0200', tz='Europe/Oslo')), ('FCR_N_D_1_NO5', Timestamp('2023-06-24 07:00:00+0200', tz='Europe/Oslo')), ('FCR_N_D_1_NO5', Timestamp('2023-06-24 08:00:00+0200', tz='Europe/Oslo')), ('FCR_N_D_1_NO5', Timestamp('2023-06-24 09:00:00+0200', tz='Europe/Oslo')), ('FCR_N_D_1_NO5', Timestamp('2023-06-24 10:00:00+0200', tz='Europe/Oslo')), ('FCR_N_D_1_NO5', Timestamp('2023-06-24 11:00:00+0200', tz='Europe/Oslo')), ('FCR_N_D_1_NO5', Timestamp('2023-06-24 12:00:00+0200', tz='Europe/Oslo')), ('FCR_N_D_1_NO5', Timestamp('2023-06-24 13:00:00+0200', tz='Europe/Oslo')), ('FCR_N_D_1_NO5', Timestamp('2023-06-24 14:00:00+0200', tz='Europe/Oslo')), ('FCR_N_D_1_NO5', Timestamp('2023-06-24 15:00:00+0200', tz='Europe/Oslo')), ('FCR_N_D_1_NO5', Timestamp('2023-06-24 16:00:00+0200', tz='Europe/Oslo')), ('FCR_N_D_1_NO5', Timestamp('2023-06-24 17:00:00+0200', tz='Europe/Oslo')), ('FCR_N_D_1_NO5', Timestamp('2023-06-24 18:00:00+0200', tz='Europe/Oslo')), ('FCR_N_D_1_NO5', Timestamp('2023-06-24 19:00:00+0200', tz='Europe/Oslo')), ('FCR_N_D_1_NO5', Timestamp('2023-06-24 20:00:00+0200', tz='Europe/Oslo')), ('FCR_N_D_1_NO5', Timestamp('2023-06-24 21:00:00+0200', tz='Europe/Oslo')), ('FCR_N_D_1_NO5', Timestamp('2023-06-24 22:00:00+0200', tz='Europe/Oslo')), ('FCR_N_D_1_NO5', Timestamp('2023-06-24 23:00:00+0200', tz='Europe/Oslo'))])"
      ]
     },
     "execution_count": 63,
     "metadata": {},
     "output_type": "execute_result"
    }
   ],
   "source": [
    "bids.keys()"
   ]
  },
  {
   "cell_type": "code",
   "execution_count": 70,
   "metadata": {},
   "outputs": [
    {
     "data": {
      "text/plain": [
       "[array([558.52001229, 558.52001229, 558.52001229, 558.52001229,\n",
       "        558.52001229, 558.52001229, 558.52001229, 558.52001229]),\n",
       " array([448.43877438, 448.43877438, 448.43877438, 448.43877438,\n",
       "        448.43877438, 448.43877438, 448.43877438, 448.43877438]),\n",
       " array([563.23496703, 563.23496703, 563.23496703, 563.23496703,\n",
       "        563.23496703, 563.23496703, 563.23496703, 563.23496703])]"
      ]
     },
     "execution_count": 70,
     "metadata": {},
     "output_type": "execute_result"
    }
   ],
   "source": [
    "weights"
   ]
  },
  {
   "cell_type": "code",
   "execution_count": null,
   "metadata": {},
   "outputs": [],
   "source": []
  }
 ],
 "metadata": {
  "kernelspec": {
   "display_name": "myenv",
   "language": "python",
   "name": "python3"
  },
  "language_info": {
   "codemirror_mode": {
    "name": "ipython",
    "version": 3
   },
   "file_extension": ".py",
   "mimetype": "text/x-python",
   "name": "python",
   "nbconvert_exporter": "python",
   "pygments_lexer": "ipython3",
   "version": "3.11.7"
  }
 },
 "nbformat": 4,
 "nbformat_minor": 2
}
