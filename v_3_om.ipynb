{
 "cells": [
  {
   "cell_type": "code",
   "execution_count": 2,
   "metadata": {},
   "outputs": [],
   "source": [
    "from gurobipy import Model, GRB, quicksum\n",
    "import pandas as pd\n",
    "from code_map import meters, markets\n",
    "import numpy as np\n",
    "import matplotlib.pyplot as plt\n",
    "import calendar \n",
    "from datetime import datetime\n",
    "import pytz\n",
    "import openpyxl\n",
    "from itertools import combinations, product\n"
   ]
  },
  {
   "cell_type": "code",
   "execution_count": 3,
   "metadata": {},
   "outputs": [],
   "source": [
    "H = pd.date_range(start=pd.Timestamp(year= markets.year, month= markets.start_month, day = markets.start_day, hour = markets.start_hour), \n",
    "                              end= pd.Timestamp(year = markets.year, month = markets.end_month, day = markets.end_day, hour = markets.end_hour), freq=\"H\", tz = \"Europe/Oslo\")\n",
    "power_meter_dict = meters.power_meters\n",
    "\n",
    "# Define the sets\n",
    "L = list(power_meter_dict.values())  # List of PowerMeter objects\n",
    "M = markets.all_market_list  # List of ReserveMarket objects"
   ]
  },
  {
   "cell_type": "code",
   "execution_count": 5,
   "metadata": {},
   "outputs": [
    {
     "name": "stdout",
     "output_type": "stream",
     "text": [
      "Set parameter Username\n",
      "Academic license - for non-commercial use only - expires 2024-10-18\n"
     ]
    },
    {
     "ename": "KeyboardInterrupt",
     "evalue": "",
     "output_type": "error",
     "traceback": [
      "\u001b[0;31m---------------------------------------------------------------------------\u001b[0m",
      "\u001b[0;31mKeyboardInterrupt\u001b[0m                         Traceback (most recent call last)",
      "\u001b[1;32m/Users/sandermeland/Documents/Dokumenter – Sanders MacBook Air/Jobb/Volte/master-kode/v_3_om.ipynb Cell 4\u001b[0m line \u001b[0;36m3\n\u001b[1;32m     <a href='vscode-notebook-cell:/Users/sandermeland/Documents/Dokumenter%20%E2%80%93%20Sanders%20MacBook%20Air/Jobb/Volte/master-kode/v_3_om.ipynb#W3sZmlsZQ%3D%3D?line=29'>30</a>\u001b[0m         y[h, m] \u001b[39m=\u001b[39m test_model\u001b[39m.\u001b[39maddVar(lb \u001b[39m=\u001b[39m \u001b[39m0\u001b[39m, ub \u001b[39m=\u001b[39m \u001b[39m1\u001b[39m, vtype\u001b[39m=\u001b[39mGRB\u001b[39m.\u001b[39mBINARY, name\u001b[39m=\u001b[39m\u001b[39mf\u001b[39m\u001b[39m\"\u001b[39m\u001b[39my_\u001b[39m\u001b[39m{\u001b[39;00mh\u001b[39m}\u001b[39;00m\u001b[39m_\u001b[39m\u001b[39m{\u001b[39;00mm\u001b[39m}\u001b[39;00m\u001b[39m\"\u001b[39m)\n\u001b[1;32m     <a href='vscode-notebook-cell:/Users/sandermeland/Documents/Dokumenter%20%E2%80%93%20Sanders%20MacBook%20Air/Jobb/Volte/master-kode/v_3_om.ipynb#W3sZmlsZQ%3D%3D?line=32'>33</a>\u001b[0m \u001b[39m# Set objective\u001b[39;00m\n\u001b[1;32m     <a href='vscode-notebook-cell:/Users/sandermeland/Documents/Dokumenter%20%E2%80%93%20Sanders%20MacBook%20Air/Jobb/Volte/master-kode/v_3_om.ipynb#W3sZmlsZQ%3D%3D?line=33'>34</a>\u001b[0m test_model\u001b[39m.\u001b[39msetObjective(\n\u001b[1;32m     <a href='vscode-notebook-cell:/Users/sandermeland/Documents/Dokumenter%20%E2%80%93%20Sanders%20MacBook%20Air/Jobb/Volte/master-kode/v_3_om.ipynb#W3sZmlsZQ%3D%3D?line=34'>35</a>\u001b[0m     \u001b[39m# maxmize income \u001b[39;00m\n\u001b[0;32m---> <a href='vscode-notebook-cell:/Users/sandermeland/Documents/Dokumenter%20%E2%80%93%20Sanders%20MacBook%20Air/Jobb/Volte/master-kode/v_3_om.ipynb#W3sZmlsZQ%3D%3D?line=35'>36</a>\u001b[0m     \u001b[39msum\u001b[39;49m(x[h, l, m] \u001b[39m*\u001b[39;49m load\u001b[39m.\u001b[39;49mflex_volume[\u001b[39m\"\u001b[39;49m\u001b[39mvalue\u001b[39;49m\u001b[39m\"\u001b[39;49m]\u001b[39m.\u001b[39;49mloc[load\u001b[39m.\u001b[39;49mflex_volume[\u001b[39m\"\u001b[39;49m\u001b[39mTime(Local)\u001b[39;49m\u001b[39m\"\u001b[39;49m] \u001b[39m==\u001b[39;49m hour]\u001b[39m.\u001b[39;49mvalues[\u001b[39m0\u001b[39;49m] \u001b[39m*\u001b[39;49m market\u001b[39m.\u001b[39;49mprice_data\u001b[39m.\u001b[39;49mloc[market\u001b[39m.\u001b[39;49mprice_data[\u001b[39m\"\u001b[39;49m\u001b[39mTime(Local)\u001b[39;49m\u001b[39m\"\u001b[39;49m] \u001b[39m==\u001b[39;49m hour]\u001b[39m.\u001b[39;49mvalues[\u001b[39m0\u001b[39;49m][\u001b[39m1\u001b[39;49m] \u001b[39mfor\u001b[39;49;00m l, load \u001b[39min\u001b[39;49;00m \u001b[39menumerate\u001b[39;49m(L) \u001b[39mfor\u001b[39;49;00m m, market \u001b[39min\u001b[39;49;00m \u001b[39menumerate\u001b[39;49m(M) \u001b[39mfor\u001b[39;49;00m h, hour \u001b[39min\u001b[39;49;00m \u001b[39menumerate\u001b[39;49m(H)),\n\u001b[1;32m     <a href='vscode-notebook-cell:/Users/sandermeland/Documents/Dokumenter%20%E2%80%93%20Sanders%20MacBook%20Air/Jobb/Volte/master-kode/v_3_om.ipynb#W3sZmlsZQ%3D%3D?line=36'>37</a>\u001b[0m     GRB\u001b[39m.\u001b[39mMAXIMIZE\n\u001b[1;32m     <a href='vscode-notebook-cell:/Users/sandermeland/Documents/Dokumenter%20%E2%80%93%20Sanders%20MacBook%20Air/Jobb/Volte/master-kode/v_3_om.ipynb#W3sZmlsZQ%3D%3D?line=37'>38</a>\u001b[0m )\n\u001b[1;32m     <a href='vscode-notebook-cell:/Users/sandermeland/Documents/Dokumenter%20%E2%80%93%20Sanders%20MacBook%20Air/Jobb/Volte/master-kode/v_3_om.ipynb#W3sZmlsZQ%3D%3D?line=39'>40</a>\u001b[0m \u001b[39m# Add constraints\u001b[39;00m\n\u001b[1;32m     <a href='vscode-notebook-cell:/Users/sandermeland/Documents/Dokumenter%20%E2%80%93%20Sanders%20MacBook%20Air/Jobb/Volte/master-kode/v_3_om.ipynb#W3sZmlsZQ%3D%3D?line=40'>41</a>\u001b[0m \u001b[39mfor\u001b[39;00m h, hour \u001b[39min\u001b[39;00m \u001b[39menumerate\u001b[39m(H):\n",
      "\u001b[1;32m/Users/sandermeland/Documents/Dokumenter – Sanders MacBook Air/Jobb/Volte/master-kode/v_3_om.ipynb Cell 4\u001b[0m line \u001b[0;36m3\n\u001b[1;32m     <a href='vscode-notebook-cell:/Users/sandermeland/Documents/Dokumenter%20%E2%80%93%20Sanders%20MacBook%20Air/Jobb/Volte/master-kode/v_3_om.ipynb#W3sZmlsZQ%3D%3D?line=29'>30</a>\u001b[0m         y[h, m] \u001b[39m=\u001b[39m test_model\u001b[39m.\u001b[39maddVar(lb \u001b[39m=\u001b[39m \u001b[39m0\u001b[39m, ub \u001b[39m=\u001b[39m \u001b[39m1\u001b[39m, vtype\u001b[39m=\u001b[39mGRB\u001b[39m.\u001b[39mBINARY, name\u001b[39m=\u001b[39m\u001b[39mf\u001b[39m\u001b[39m\"\u001b[39m\u001b[39my_\u001b[39m\u001b[39m{\u001b[39;00mh\u001b[39m}\u001b[39;00m\u001b[39m_\u001b[39m\u001b[39m{\u001b[39;00mm\u001b[39m}\u001b[39;00m\u001b[39m\"\u001b[39m)\n\u001b[1;32m     <a href='vscode-notebook-cell:/Users/sandermeland/Documents/Dokumenter%20%E2%80%93%20Sanders%20MacBook%20Air/Jobb/Volte/master-kode/v_3_om.ipynb#W3sZmlsZQ%3D%3D?line=32'>33</a>\u001b[0m \u001b[39m# Set objective\u001b[39;00m\n\u001b[1;32m     <a href='vscode-notebook-cell:/Users/sandermeland/Documents/Dokumenter%20%E2%80%93%20Sanders%20MacBook%20Air/Jobb/Volte/master-kode/v_3_om.ipynb#W3sZmlsZQ%3D%3D?line=33'>34</a>\u001b[0m test_model\u001b[39m.\u001b[39msetObjective(\n\u001b[1;32m     <a href='vscode-notebook-cell:/Users/sandermeland/Documents/Dokumenter%20%E2%80%93%20Sanders%20MacBook%20Air/Jobb/Volte/master-kode/v_3_om.ipynb#W3sZmlsZQ%3D%3D?line=34'>35</a>\u001b[0m     \u001b[39m# maxmize income \u001b[39;00m\n\u001b[0;32m---> <a href='vscode-notebook-cell:/Users/sandermeland/Documents/Dokumenter%20%E2%80%93%20Sanders%20MacBook%20Air/Jobb/Volte/master-kode/v_3_om.ipynb#W3sZmlsZQ%3D%3D?line=35'>36</a>\u001b[0m     \u001b[39msum\u001b[39m(x[h, l, m] \u001b[39m*\u001b[39m load\u001b[39m.\u001b[39mflex_volume[\u001b[39m\"\u001b[39m\u001b[39mvalue\u001b[39m\u001b[39m\"\u001b[39m]\u001b[39m.\u001b[39mloc[load\u001b[39m.\u001b[39mflex_volume[\u001b[39m\"\u001b[39m\u001b[39mTime(Local)\u001b[39m\u001b[39m\"\u001b[39m] \u001b[39m==\u001b[39m hour]\u001b[39m.\u001b[39mvalues[\u001b[39m0\u001b[39m] \u001b[39m*\u001b[39m market\u001b[39m.\u001b[39mprice_data\u001b[39m.\u001b[39mloc[market\u001b[39m.\u001b[39;49mprice_data[\u001b[39m\"\u001b[39;49m\u001b[39mTime(Local)\u001b[39;49m\u001b[39m\"\u001b[39;49m] \u001b[39m==\u001b[39;49m hour]\u001b[39m.\u001b[39mvalues[\u001b[39m0\u001b[39m][\u001b[39m1\u001b[39m] \u001b[39mfor\u001b[39;00m l, load \u001b[39min\u001b[39;00m \u001b[39menumerate\u001b[39m(L) \u001b[39mfor\u001b[39;00m m, market \u001b[39min\u001b[39;00m \u001b[39menumerate\u001b[39m(M) \u001b[39mfor\u001b[39;00m h, hour \u001b[39min\u001b[39;00m \u001b[39menumerate\u001b[39m(H)),\n\u001b[1;32m     <a href='vscode-notebook-cell:/Users/sandermeland/Documents/Dokumenter%20%E2%80%93%20Sanders%20MacBook%20Air/Jobb/Volte/master-kode/v_3_om.ipynb#W3sZmlsZQ%3D%3D?line=36'>37</a>\u001b[0m     GRB\u001b[39m.\u001b[39mMAXIMIZE\n\u001b[1;32m     <a href='vscode-notebook-cell:/Users/sandermeland/Documents/Dokumenter%20%E2%80%93%20Sanders%20MacBook%20Air/Jobb/Volte/master-kode/v_3_om.ipynb#W3sZmlsZQ%3D%3D?line=37'>38</a>\u001b[0m )\n\u001b[1;32m     <a href='vscode-notebook-cell:/Users/sandermeland/Documents/Dokumenter%20%E2%80%93%20Sanders%20MacBook%20Air/Jobb/Volte/master-kode/v_3_om.ipynb#W3sZmlsZQ%3D%3D?line=39'>40</a>\u001b[0m \u001b[39m# Add constraints\u001b[39;00m\n\u001b[1;32m     <a href='vscode-notebook-cell:/Users/sandermeland/Documents/Dokumenter%20%E2%80%93%20Sanders%20MacBook%20Air/Jobb/Volte/master-kode/v_3_om.ipynb#W3sZmlsZQ%3D%3D?line=40'>41</a>\u001b[0m \u001b[39mfor\u001b[39;00m h, hour \u001b[39min\u001b[39;00m \u001b[39menumerate\u001b[39m(H):\n",
      "File \u001b[0;32m~/opt/anaconda3/envs/INF264/lib/python3.9/site-packages/pandas/core/ops/common.py:70\u001b[0m, in \u001b[0;36m_unpack_zerodim_and_defer.<locals>.new_method\u001b[0;34m(self, other)\u001b[0m\n\u001b[1;32m     66\u001b[0m             \u001b[39mreturn\u001b[39;00m \u001b[39mNotImplemented\u001b[39m\n\u001b[1;32m     68\u001b[0m other \u001b[39m=\u001b[39m item_from_zerodim(other)\n\u001b[0;32m---> 70\u001b[0m \u001b[39mreturn\u001b[39;00m method(\u001b[39mself\u001b[39;49m, other)\n",
      "File \u001b[0;32m~/opt/anaconda3/envs/INF264/lib/python3.9/site-packages/pandas/core/arraylike.py:40\u001b[0m, in \u001b[0;36mOpsMixin.__eq__\u001b[0;34m(self, other)\u001b[0m\n\u001b[1;32m     38\u001b[0m \u001b[39m@unpack_zerodim_and_defer\u001b[39m(\u001b[39m\"\u001b[39m\u001b[39m__eq__\u001b[39m\u001b[39m\"\u001b[39m)\n\u001b[1;32m     39\u001b[0m \u001b[39mdef\u001b[39;00m \u001b[39m__eq__\u001b[39m(\u001b[39mself\u001b[39m, other):\n\u001b[0;32m---> 40\u001b[0m     \u001b[39mreturn\u001b[39;00m \u001b[39mself\u001b[39;49m\u001b[39m.\u001b[39;49m_cmp_method(other, operator\u001b[39m.\u001b[39;49meq)\n",
      "File \u001b[0;32m~/opt/anaconda3/envs/INF264/lib/python3.9/site-packages/pandas/core/series.py:5625\u001b[0m, in \u001b[0;36mSeries._cmp_method\u001b[0;34m(self, other, op)\u001b[0m\n\u001b[1;32m   5622\u001b[0m \u001b[39mwith\u001b[39;00m np\u001b[39m.\u001b[39merrstate(\u001b[39mall\u001b[39m\u001b[39m=\u001b[39m\u001b[39m\"\u001b[39m\u001b[39mignore\u001b[39m\u001b[39m\"\u001b[39m):\n\u001b[1;32m   5623\u001b[0m     res_values \u001b[39m=\u001b[39m ops\u001b[39m.\u001b[39mcomparison_op(lvalues, rvalues, op)\n\u001b[0;32m-> 5625\u001b[0m \u001b[39mreturn\u001b[39;00m \u001b[39mself\u001b[39;49m\u001b[39m.\u001b[39;49m_construct_result(res_values, name\u001b[39m=\u001b[39;49mres_name)\n",
      "File \u001b[0;32m~/opt/anaconda3/envs/INF264/lib/python3.9/site-packages/pandas/core/series.py:3017\u001b[0m, in \u001b[0;36mSeries._construct_result\u001b[0;34m(self, result, name)\u001b[0m\n\u001b[1;32m   3013\u001b[0m     \u001b[39mreturn\u001b[39;00m (res1, res2)\n\u001b[1;32m   3015\u001b[0m \u001b[39m# We do not pass dtype to ensure that the Series constructor\u001b[39;00m\n\u001b[1;32m   3016\u001b[0m \u001b[39m#  does inference in the case where `result` has object-dtype.\u001b[39;00m\n\u001b[0;32m-> 3017\u001b[0m out \u001b[39m=\u001b[39m \u001b[39mself\u001b[39;49m\u001b[39m.\u001b[39;49m_constructor(result, index\u001b[39m=\u001b[39;49m\u001b[39mself\u001b[39;49m\u001b[39m.\u001b[39;49mindex)\n\u001b[1;32m   3018\u001b[0m out \u001b[39m=\u001b[39m out\u001b[39m.\u001b[39m__finalize__(\u001b[39mself\u001b[39m)\n\u001b[1;32m   3020\u001b[0m \u001b[39m# Set the result's name after __finalize__ is called because __finalize__\u001b[39;00m\n\u001b[1;32m   3021\u001b[0m \u001b[39m#  would set it back to self.name\u001b[39;00m\n",
      "File \u001b[0;32m~/opt/anaconda3/envs/INF264/lib/python3.9/site-packages/pandas/core/series.py:365\u001b[0m, in \u001b[0;36mSeries.__init__\u001b[0;34m(self, data, index, dtype, name, copy, fastpath)\u001b[0m\n\u001b[1;32m    361\u001b[0m         index \u001b[39m=\u001b[39m data\u001b[39m.\u001b[39mindex\n\u001b[1;32m    363\u001b[0m \u001b[39melse\u001b[39;00m:\n\u001b[0;32m--> 365\u001b[0m     name \u001b[39m=\u001b[39m ibase\u001b[39m.\u001b[39;49mmaybe_extract_name(name, data, \u001b[39mtype\u001b[39;49m(\u001b[39mself\u001b[39;49m))\n\u001b[1;32m    367\u001b[0m     \u001b[39mif\u001b[39;00m is_empty_data(data) \u001b[39mand\u001b[39;00m dtype \u001b[39mis\u001b[39;00m \u001b[39mNone\u001b[39;00m:\n\u001b[1;32m    368\u001b[0m         \u001b[39m# gh-17261\u001b[39;00m\n\u001b[1;32m    369\u001b[0m         warnings\u001b[39m.\u001b[39mwarn(\n\u001b[1;32m    370\u001b[0m             \u001b[39m\"\u001b[39m\u001b[39mThe default dtype for empty Series will be \u001b[39m\u001b[39m'\u001b[39m\u001b[39mobject\u001b[39m\u001b[39m'\u001b[39m\u001b[39m instead \u001b[39m\u001b[39m\"\u001b[39m\n\u001b[1;32m    371\u001b[0m             \u001b[39m\"\u001b[39m\u001b[39mof \u001b[39m\u001b[39m'\u001b[39m\u001b[39mfloat64\u001b[39m\u001b[39m'\u001b[39m\u001b[39m in a future version. Specify a dtype explicitly \u001b[39m\u001b[39m\"\u001b[39m\n\u001b[0;32m   (...)\u001b[0m\n\u001b[1;32m    374\u001b[0m             stacklevel\u001b[39m=\u001b[39mfind_stack_level(),\n\u001b[1;32m    375\u001b[0m         )\n",
      "\u001b[0;31mKeyboardInterrupt\u001b[0m: "
     ]
    }
   ],
   "source": [
    "# Create a new model\n",
    "test_model = Model(\"AssetToMarket\")\n",
    "\n",
    "# Create decision variables\n",
    "x = {}\n",
    "for h, hour in enumerate(H):\n",
    "    for l, load in enumerate(L):\n",
    "        for m, market in enumerate(M):\n",
    "            # asset i is connected to market j at hour h\n",
    "            x[h, l, m] = test_model.addVar(lb = 0, ub = 1, vtype=GRB.BINARY, name=f\"x_{h}_{l}_{m}\")\n",
    "            \n",
    "            # If asset direction is \"up\"\n",
    "            if load.direction == \"up\" and market.direction == \"down\":\n",
    "                test_model.addConstr(x[h, l, m] == 0, f\"direction_constraint_hour_{hour}_asset_{load}_market_{market}\")\n",
    "\n",
    "            # If asset direction is \"down\"\n",
    "            elif load.direction == \"down\" and market.direction == \"up\":\n",
    "                test_model.addConstr(x[h, l, m] == 0, f\"direction_constraint_hour_{hour}_asset_{load}_market_{market}\")\n",
    "\n",
    "            # If market direction is \"both\"\n",
    "            elif market.direction == \"both\" and load.direction != \"both\":\n",
    "                test_model.addConstr(x[h, l, m] == 0, f\"direction_constraint_hour_{hour}_asset_{load}_market_{market}\")\n",
    "\n",
    "            # If asset direction is \"any\", we don't need a constraint as it can connect to any market.\n",
    "\n",
    "y = {}\n",
    "for h, hour in enumerate(H):\n",
    "    for m, market in enumerate(M):\n",
    "        # market j is active at hour h\n",
    "        y[h, m] = test_model.addVar(lb = 0, ub = 1, vtype=GRB.BINARY, name=f\"y_{h}_{m}\")\n",
    "\n",
    "\n",
    "# Set objective\n",
    "test_model.setObjective(\n",
    "    # maxmize income \n",
    "    sum(x[h, l, m] * load.flex_volume[\"value\"].loc[load.flex_volume[\"Time(Local)\"] == hour].values[0] * market.price_data.loc[market.price_data[\"Time(Local)\"] == hour].values[0][1] for l, load in enumerate(L) for m, market in enumerate(M) for h, hour in enumerate(H)),\n",
    "    GRB.MAXIMIZE\n",
    ")\n",
    "\n",
    "# Add constraints\n",
    "for h, hour in enumerate(H):\n",
    "    for l, load in enumerate(L):\n",
    "        # Each asset can only be connected to one market at a time\n",
    "        test_model.addConstr(sum(x[h, l, m] for m in range(len(M))) <= 1, f\"single_market_for_asset_at_hour_{h}_nr.{l}\")\n",
    "\n",
    "for h, hour in enumerate(H):\n",
    "    for m, market in enumerate(M):\n",
    "        # Connect the binary variables by using big M\n",
    "        test_model.addConstr((sum(x[h, l, m] for l in range(len(L)))) <= len(L) * y[h, m], f\"asset_connection_for_hour_{h}_market_{m}\")\n",
    "        \n",
    "        # Min volume constraint\n",
    "        test_model.addConstr(sum(x[h, l, m] * load.flex_volume[\"value\"].loc[load.flex_volume[\"Time(Local)\"] == hour].values[0] for l, load in enumerate(L)) >= market.min_volume * y[h, m], f\"min_volume_for_hour_{h}_market_{m}\")\n",
    "\n",
    "        # Weighted average constraint for response time\n",
    "        total_response_time = sum(x[h, l, m] * load.response_time for l, load in enumerate(L))\n",
    "        total_assigned_assets = sum(x[h, l, m] for l in range(len(L)))\n",
    "        test_model.addConstr(total_response_time <= market.response_time * total_assigned_assets, f\"avg_response_time_for_hour_{h}_market_{m}\")\n",
    "\n",
    "        # Max volume constraint\n",
    "        test_model.addConstr(sum(x[h, l, m] * load.flex_volume[\"value\"].loc[load.flex_volume[\"Time(Local)\"] == hour].values[0] for l, load in enumerate(L)) <=  market.volume_data.loc[market.volume_data[\"Time(Local)\"] == hour].values[0][1]  * y[h,m], f\"max_volume_for_hour_{h}_market_{m}\")\n",
    "\n",
    "# Solve the model\n",
    "test_model.optimize()\n",
    "    \n",
    "if test_model.status == GRB.Status.INFEASIBLE:\n",
    "    test_model.computeIIS()\n"
   ]
  },
  {
   "cell_type": "code",
   "execution_count": null,
   "metadata": {},
   "outputs": [],
   "source": [
    "# Retrieve and print solution (optional)\n",
    "if test_model.status == GRB.Status.OPTIMAL:\n",
    "    for h, hour in enumerate(H):\n",
    "        for l, load in enumerate(L):\n",
    "            for m, market in enumerate(M):\n",
    "                if x[h, l, m].X > 0.5:\n",
    "                    print(f\"Asset with meter id: {load.meter_id} is bid into {market.name} in hour {hour}\")\n",
    "else:\n",
    "    print(\"Optimization was not successful!\")"
   ]
  },
  {
   "cell_type": "code",
   "execution_count": null,
   "metadata": {},
   "outputs": [],
   "source": [
    "data = []\n",
    "\n",
    "for h, hour in enumerate(H):\n",
    "    for l, load in enumerate(L):\n",
    "        for m, market in enumerate(M):\n",
    "            if x[h, l, m].X > 0.5:\n",
    "                data.append([hour, load.meter_id, market.name])\n",
    "\n",
    "df = pd.DataFrame(data, columns=[\"Hour\", \"Asset Meter ID\", \"Market\"])\n",
    "#print(df)\n",
    "\n",
    "\n",
    "market_count_dict = {}\n",
    "for hour in H:\n",
    "    hour_df = df.loc[(df[\"Hour\"] == hour)]\n",
    "    # get the number of assets in each market\n",
    "    market_count = hour_df.groupby([\"Market\", \"Hour\"]).agg(\"count\").reset_index().rename(columns={\"Asset Meter ID\": \"Asset Count\"})\n",
    "    market_count_dict[hour] = market_count\n",
    "    "
   ]
  },
  {
   "cell_type": "code",
   "execution_count": null,
   "metadata": {},
   "outputs": [],
   "source": [
    "for hour in H:\n",
    "    display(market_count_dict[hour])"
   ]
  },
  {
   "cell_type": "code",
   "execution_count": null,
   "metadata": {},
   "outputs": [],
   "source": []
  }
 ],
 "metadata": {
  "kernelspec": {
   "display_name": "INF264",
   "language": "python",
   "name": "python3"
  },
  "language_info": {
   "codemirror_mode": {
    "name": "ipython",
    "version": 3
   },
   "file_extension": ".py",
   "mimetype": "text/x-python",
   "name": "python",
   "nbconvert_exporter": "python",
   "pygments_lexer": "ipython3",
   "version": "3.9.12"
  }
 },
 "nbformat": 4,
 "nbformat_minor": 2
}
