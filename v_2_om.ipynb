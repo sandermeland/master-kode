{
 "cells": [
  {
   "cell_type": "code",
   "execution_count": 2,
   "metadata": {},
   "outputs": [],
   "source": [
    "from gurobipy import Model, GRB, quicksum\n",
    "import pandas as pd\n",
    "from code_map import meters, markets\n",
    "import numpy as np\n",
    "import matplotlib.pyplot as plt\n",
    "import calendar \n",
    "from datetime import datetime\n",
    "import pytz\n",
    "import openpyxl\n",
    "from itertools import combinations, product\n"
   ]
  },
  {
   "cell_type": "code",
   "execution_count": 3,
   "metadata": {},
   "outputs": [],
   "source": [
    "hour = pd.Timestamp(year= 2023, month= 6, day = 26, hour = 16, tz = \"Europe/Oslo\")\n",
    "#market_names = [market.name for market in market_list]\n",
    "power_meter_dict = meters.power_meters\n",
    "\n",
    "# Define the sets\n",
    "L = list(power_meter_dict.values())  # List of PowerMeter objects\n",
    "M = markets.all_market_list  # List of ReserveMarket objects"
   ]
  },
  {
   "cell_type": "code",
   "execution_count": 4,
   "metadata": {},
   "outputs": [
    {
     "data": {
      "text/plain": [
       "1459"
      ]
     },
     "execution_count": 4,
     "metadata": {},
     "output_type": "execute_result"
    }
   ],
   "source": [
    "len(L)"
   ]
  },
  {
   "cell_type": "code",
   "execution_count": 5,
   "metadata": {},
   "outputs": [],
   "source": [
    "for i in [asset.flex_volume[\"value\"].loc[asset.flex_volume[\"Time(Local)\"] == hour].values[0] for asset in L]:\n",
    "    # check if there is any nan values\n",
    "    if np.isnan(i):\n",
    "        print(\"There is a nan value in the flex volume\")\n",
    "        print(i)"
   ]
  },
  {
   "cell_type": "code",
   "execution_count": 6,
   "metadata": {},
   "outputs": [
    {
     "data": {
      "text/plain": [
       "10.766037500000033"
      ]
     },
     "execution_count": 6,
     "metadata": {},
     "output_type": "execute_result"
    }
   ],
   "source": [
    "sum([asset.flex_volume[\"value\"].loc[asset.flex_volume[\"Time(Local)\"] == hour].values[0] for asset in L])"
   ]
  },
  {
   "cell_type": "code",
   "execution_count": 7,
   "metadata": {},
   "outputs": [
    {
     "data": {
      "text/plain": [
       "[5, 1, 1, 1, 1, 1, 1, 1, 10, 10, 10, 10, 10, 10]"
      ]
     },
     "execution_count": 7,
     "metadata": {},
     "output_type": "execute_result"
    }
   ],
   "source": [
    "[market.min_volume for market in M]"
   ]
  },
  {
   "cell_type": "code",
   "execution_count": 8,
   "metadata": {},
   "outputs": [
    {
     "name": "stdout",
     "output_type": "stream",
     "text": [
      "market directions : , \n",
      "['up', 'up', 'up', 'both', 'up', 'both', 'up', 'down', 'up', 'down', 'up', 'down', 'up', 'down']\n",
      "asset directions : , \n",
      "['both', 'both', 'both', 'both', 'both', 'down', 'both', 'both', 'both', 'both', 'both', 'both', 'both', 'both', 'both', 'up', 'both', 'both', 'both', 'both', 'both', 'both', 'both', 'both', 'both', 'up', 'both', 'both', 'both', 'both', 'down', 'both', 'both', 'both', 'both', 'both', 'both', 'both', 'both', 'both', 'down', 'both', 'both', 'both', 'both', 'down', 'both', 'both', 'both', 'both', 'both', 'both', 'both', 'both', 'both', 'up', 'both', 'both', 'both', 'both', 'both', 'both', 'both', 'both', 'both', 'up', 'both', 'both', 'both', 'both', 'down', 'both', 'both', 'both', 'both', 'down', 'both', 'both', 'both', 'both', 'down', 'both', 'both', 'both', 'both', 'down', 'both', 'both', 'both', 'both', 'both', 'both', 'both', 'both', 'both', 'down', 'both', 'both', 'both', 'both', 'both', 'both', 'both', 'both', 'both', 'down', 'both', 'both', 'both', 'both', 'down', 'both', 'both', 'both', 'both', 'down', 'both', 'both', 'both', 'both', 'up', 'both', 'both', 'both', 'both', 'both', 'both', 'both', 'both', 'both', 'up', 'both', 'both', 'both', 'both', 'up', 'both', 'both', 'both', 'both', 'both', 'both', 'both', 'both', 'both', 'up', 'both', 'both', 'both', 'both', 'both', 'both', 'both', 'both', 'both', 'down', 'both', 'both', 'both', 'both', 'down', 'both', 'both', 'both', 'both', 'down', 'both', 'both', 'both', 'both', 'both', 'both', 'both', 'both', 'both', 'both', 'both', 'both', 'both', 'both', 'up', 'both', 'both', 'both', 'both', 'both', 'both', 'both', 'both', 'both', 'up', 'both', 'both', 'both', 'both', 'up', 'both', 'both', 'both', 'both', 'up', 'both', 'both', 'both', 'both', 'down', 'both', 'both', 'both', 'both', 'up', 'both', 'both', 'both', 'both', 'both', 'both', 'both', 'both', 'both', 'both', 'both', 'both', 'both', 'both', 'up', 'both', 'both', 'both', 'both', 'both', 'both', 'both', 'both', 'both', 'up', 'both', 'both', 'both', 'both', 'up', 'both', 'both', 'both', 'both', 'up', 'both', 'both', 'both', 'both', 'both', 'both', 'both', 'both', 'both', 'both', 'both', 'both', 'both', 'both', 'both', 'both', 'both', 'both', 'both', 'down', 'both', 'both', 'both', 'both', 'both', 'both', 'both', 'both', 'both', 'both', 'both', 'both', 'both', 'both', 'down', 'both', 'both', 'both', 'both', 'up', 'both', 'both', 'both', 'both', 'up', 'both', 'both', 'both', 'both', 'down', 'both', 'both', 'both', 'both', 'down', 'both', 'both', 'both', 'both', 'down', 'both', 'both', 'both', 'both', 'up', 'both', 'both', 'both', 'both', 'both', 'both', 'both', 'both', 'both', 'both', 'both', 'both', 'both', 'both', 'down', 'both', 'both', 'both', 'both', 'up', 'both', 'both', 'both', 'both', 'down', 'both', 'both', 'both', 'both', 'down', 'both', 'both', 'both', 'both', 'up', 'both', 'both', 'both', 'both', 'up', 'both', 'both', 'both', 'both', 'both', 'both', 'both', 'both', 'both', 'down', 'both', 'both', 'both', 'both', 'both', 'both', 'both', 'both', 'both', 'both', 'both', 'both', 'both', 'both', 'up', 'both', 'both', 'both', 'both', 'up', 'both', 'both', 'both', 'both', 'down', 'both', 'both', 'both', 'both', 'both', 'both', 'both', 'both', 'both', 'both', 'both', 'both', 'both', 'both', 'up', 'both', 'both', 'both', 'both', 'down', 'both', 'both', 'both', 'both', 'up', 'both', 'both', 'both', 'both', 'both', 'both', 'both', 'both', 'both', 'up', 'both', 'both', 'both', 'both', 'up', 'both', 'both', 'both', 'both', 'up', 'both', 'both', 'both', 'both', 'both', 'both', 'both', 'both', 'both', 'both', 'both', 'both', 'both', 'both', 'both', 'both', 'both', 'both', 'both', 'both', 'both', 'both', 'both', 'both', 'up', 'both', 'both', 'both', 'both', 'up', 'both', 'both', 'both', 'both', 'both', 'both', 'both', 'both', 'both', 'both', 'both', 'both', 'both', 'both', 'up', 'both', 'both', 'both', 'both', 'up', 'both', 'both', 'both', 'both', 'both', 'both', 'both', 'both', 'both', 'both', 'both', 'both', 'both', 'both', 'up', 'both', 'both', 'both', 'both', 'both', 'both', 'both', 'both', 'both', 'down', 'both', 'both', 'both', 'both', 'both', 'both', 'both', 'both', 'both', 'both', 'both', 'both', 'both', 'both', 'both', 'both', 'both', 'both', 'both', 'up', 'both', 'both', 'both', 'both', 'up', 'both', 'both', 'both', 'both', 'both', 'both', 'both', 'both', 'both', 'both', 'both', 'both', 'both', 'both', 'both', 'both', 'both', 'both', 'both', 'up', 'both', 'both', 'both', 'both', 'down', 'both', 'both', 'both', 'both', 'both', 'both', 'both', 'both', 'both', 'down', 'both', 'both', 'both', 'both', 'up', 'both', 'both', 'both', 'both', 'up', 'both', 'both', 'both', 'both', 'down', 'both', 'both', 'both', 'both', 'up', 'both', 'both', 'both', 'both', 'both', 'both', 'both', 'both', 'both', 'down', 'both', 'both', 'both', 'both', 'both', 'both', 'both', 'both', 'both', 'up', 'both', 'both', 'both', 'both', 'up', 'both', 'both', 'both', 'both', 'down', 'both', 'both', 'both', 'both', 'up', 'both', 'both', 'both', 'both', 'both', 'both', 'both', 'both', 'both', 'both', 'both', 'both', 'both', 'both', 'both', 'both', 'both', 'both', 'both', 'down', 'both', 'both', 'both', 'both', 'down', 'both', 'both', 'both', 'both', 'down', 'both', 'both', 'both', 'both', 'up', 'both', 'both', 'both', 'both', 'down', 'both', 'both', 'both', 'both', 'both', 'both', 'both', 'both', 'both', 'up', 'both', 'both', 'both', 'both', 'both', 'both', 'both', 'both', 'both', 'up', 'both', 'both', 'both', 'both', 'down', 'both', 'both', 'both', 'both', 'up', 'both', 'both', 'both', 'both', 'up', 'both', 'both', 'both', 'both', 'both', 'both', 'both', 'both', 'both', 'both', 'both', 'both', 'both', 'both', 'up', 'both', 'both', 'both', 'both', 'down', 'both', 'both', 'both', 'both', 'up', 'both', 'both', 'both', 'both', 'both', 'both', 'both', 'both', 'both', 'down', 'both', 'both', 'both', 'both', 'up', 'both', 'both', 'both', 'both', 'up', 'both', 'both', 'both', 'both', 'both', 'both', 'both', 'both', 'both', 'both', 'both', 'both', 'both', 'both', 'up', 'both', 'both', 'both', 'both', 'both', 'both', 'both', 'both', 'both', 'both', 'both', 'both', 'both', 'both', 'both', 'both', 'both', 'both', 'both', 'both', 'both', 'both', 'both', 'both', 'both', 'both', 'both', 'both', 'both', 'down', 'both', 'both', 'both', 'both', 'down', 'both', 'both', 'both', 'both', 'down', 'both', 'both', 'both', 'both', 'both', 'both', 'both', 'both', 'both', 'up', 'both', 'both', 'both', 'both', 'up', 'both', 'both', 'both', 'both', 'both', 'both', 'both', 'both', 'both', 'both', 'both', 'both', 'both', 'both', 'down', 'both', 'both', 'both', 'both', 'down', 'both', 'both', 'both', 'both', 'up', 'both', 'both', 'both', 'both', 'up', 'both', 'both', 'both', 'both', 'both', 'both', 'both', 'both', 'both', 'up', 'both', 'both', 'both', 'both', 'both', 'both', 'both', 'both', 'both', 'down', 'both', 'both', 'both', 'both', 'both', 'both', 'both', 'both', 'both', 'both', 'both', 'both', 'both', 'both', 'up', 'both', 'both', 'both', 'both', 'down', 'both', 'both', 'both', 'both', 'down', 'both', 'both', 'both', 'both', 'both', 'both', 'both', 'both', 'both', 'both', 'both', 'both', 'both', 'both', 'up', 'both', 'both', 'both', 'both', 'down', 'both', 'both', 'both', 'both', 'both', 'both', 'both', 'both', 'both', 'down', 'both', 'both', 'both', 'both', 'up', 'both', 'both', 'both', 'both', 'both', 'both', 'both', 'both', 'both', 'both', 'both', 'both', 'both', 'both', 'down', 'both', 'both', 'both', 'both', 'both', 'both', 'both', 'both', 'both', 'down', 'both', 'both', 'both', 'both', 'down', 'both', 'both', 'both', 'both', 'up', 'both', 'both', 'both', 'both', 'both', 'both', 'both', 'both', 'both', 'up', 'both', 'both', 'both', 'both', 'down', 'both', 'both', 'both', 'both', 'up', 'both', 'both', 'both', 'both', 'down', 'both', 'both', 'both', 'both', 'up', 'both', 'both', 'both', 'both', 'both', 'both', 'both', 'both', 'both', 'up', 'both', 'both', 'both', 'both', 'up', 'both', 'both', 'both', 'both', 'both', 'both', 'both', 'both', 'both', 'both', 'both', 'both', 'both', 'both', 'both', 'both', 'both', 'both', 'both', 'down', 'both', 'both', 'both', 'both', 'down', 'both', 'both', 'both', 'both', 'down', 'both', 'both', 'both', 'both', 'both', 'both', 'both', 'both', 'both', 'up', 'both', 'both', 'both', 'both', 'down', 'both', 'both', 'both', 'both', 'down', 'both', 'both', 'both', 'both', 'down', 'both', 'both', 'both', 'both', 'down', 'both', 'both', 'both', 'both', 'down', 'both', 'both', 'both', 'both', 'up', 'both', 'both', 'both', 'both', 'down', 'both', 'both', 'both', 'both', 'down', 'both', 'both', 'both', 'both', 'both', 'both', 'both', 'both', 'both', 'both', 'both', 'both', 'both', 'both', 'both', 'both', 'both', 'both', 'both', 'both', 'both', 'both', 'both', 'both', 'both', 'both', 'both', 'both', 'both', 'down', 'both', 'both', 'both', 'both', 'both', 'both', 'both', 'both', 'both', 'up', 'both', 'both', 'both', 'both', 'up', 'both', 'both', 'both', 'both', 'down', 'both', 'both', 'both', 'both', 'up', 'both', 'both', 'both', 'both', 'up', 'both', 'both', 'both', 'both', 'up', 'both', 'both', 'both', 'both', 'down', 'both', 'both', 'both', 'both', 'down', 'both', 'both', 'both', 'both', 'both', 'both', 'both', 'both', 'both', 'down', 'both', 'both', 'both', 'both', 'down', 'both', 'both', 'both', 'both', 'both', 'both', 'both', 'both', 'both', 'both', 'both', 'both', 'both', 'both', 'down', 'both', 'both', 'both', 'both', 'both', 'both', 'both', 'both', 'both', 'both', 'both', 'both', 'both', 'both', 'both', 'both', 'both', 'both', 'both', 'both', 'both', 'both', 'both', 'both', 'up', 'both', 'both', 'both', 'both', 'up', 'both', 'both', 'both', 'both', 'down', 'both', 'both', 'both', 'both', 'both', 'both', 'both', 'both', 'both', 'down', 'both', 'both', 'both', 'both', 'up', 'both', 'both', 'both', 'both', 'up', 'both', 'both', 'both', 'both', 'both', 'both', 'both', 'both', 'both', 'up', 'both', 'both', 'both', 'both', 'down', 'both', 'both', 'both', 'both', 'both', 'both', 'both', 'both', 'both', 'both', 'both', 'both', 'both', 'both', 'down', 'both', 'both', 'both', 'both', 'down', 'both', 'both', 'both', 'both', 'both', 'both', 'both', 'both', 'both', 'both', 'both', 'both', 'both', 'both', 'up', 'both', 'both', 'both', 'both', 'down', 'both', 'both', 'both', 'both', 'up', 'both', 'both', 'both', 'both', 'up', 'both', 'both', 'both', 'both', 'both', 'both', 'both', 'both', 'both', 'down', 'both', 'both', 'both', 'both', 'down', 'both', 'both', 'both', 'both', 'both', 'both', 'both', 'both', 'both', 'both', 'both', 'both', 'both', 'both', 'both', 'both', 'both', 'both', 'both', 'down', 'both', 'both', 'both', 'both', 'up', 'both', 'both', 'both', 'both', 'down', 'both', 'both', 'both', 'both', 'both', 'both', 'both', 'both', 'both', 'down', 'both', 'both', 'both', 'both', 'up', 'both', 'both', 'both', 'both', 'up', 'both', 'both', 'both', 'both', 'up', 'both', 'both', 'both', 'both', 'up', 'both', 'both', 'both', 'both', 'both', 'both', 'both', 'both', 'both', 'both', 'both', 'both', 'both', 'both', 'down', 'both', 'both', 'both', 'both', 'both', 'both', 'both', 'both', 'both', 'down', 'both', 'both', 'both', 'both', 'up', 'both', 'both', 'both', 'both', 'both', 'both', 'both', 'both', 'both', 'both', 'both', 'both', 'both', 'both', 'both', 'both', 'both', 'both', 'both', 'up', 'both', 'both', 'both', 'both', 'up', 'both', 'both', 'both', 'both', 'up', 'both', 'both', 'both', 'both', 'down', 'both', 'both', 'both', 'both', 'up', 'both', 'both', 'both', 'both', 'both', 'both', 'both', 'both']\n"
     ]
    }
   ],
   "source": [
    "print(\"market directions : , \")\n",
    "print([market.direction for market in M])\n",
    "print(\"asset directions : , \")\n",
    "print([asset.direction for asset in L])"
   ]
  },
  {
   "cell_type": "code",
   "execution_count": 9,
   "metadata": {},
   "outputs": [
    {
     "data": {
      "text/plain": [
       "[0.0,\n",
       " 12.750000000000002,\n",
       " 6.0,\n",
       " 47.14,\n",
       " 0.0,\n",
       " 33.74,\n",
       " 20.0,\n",
       " 20.0,\n",
       " 64.55,\n",
       " 45.0,\n",
       " 0.0,\n",
       " 0.0,\n",
       " 0.0,\n",
       " 0.0]"
      ]
     },
     "execution_count": 9,
     "metadata": {},
     "output_type": "execute_result"
    }
   ],
   "source": [
    "[market.price_data.loc[market.price_data[\"Time(Local)\"] == hour].values[0][1] for market in M]"
   ]
  },
  {
   "cell_type": "code",
   "execution_count": 10,
   "metadata": {},
   "outputs": [
    {
     "data": {
      "text/plain": [
       "[15, 15, 60, 60, 60, 60, 60, 60, 0, 0, 60, 60, 480, 480]"
      ]
     },
     "execution_count": 10,
     "metadata": {},
     "output_type": "execute_result"
    }
   ],
   "source": [
    "[market.sleep_time for market in M]"
   ]
  },
  {
   "cell_type": "code",
   "execution_count": 11,
   "metadata": {},
   "outputs": [
    {
     "data": {
      "text/plain": [
       "[1.3, 1.3, 30, 30, 30, 30, 300, 300, 300, 300, 300, 300, 300, 300]"
      ]
     },
     "execution_count": 11,
     "metadata": {},
     "output_type": "execute_result"
    }
   ],
   "source": [
    "[market.response_time for market in M]"
   ]
  },
  {
   "cell_type": "code",
   "execution_count": 13,
   "metadata": {},
   "outputs": [
    {
     "name": "stdout",
     "output_type": "stream",
     "text": [
      "Gurobi Optimizer version 10.0.3 build v10.0.3rc0 (mac64[rosetta2])\n",
      "\n",
      "CPU model: Apple M1\n",
      "Thread count: 8 physical cores, 8 logical processors, using up to 8 threads\n",
      "\n",
      "Optimize a model with 2575 rows, 20440 columns and 101208 nonzeros\n",
      "Model fingerprint: 0x6c6c6be7\n",
      "Variable types: 0 continuous, 20440 integer (20440 binary)\n",
      "Coefficient statistics:\n",
      "  Matrix range     [3e-06, 1e+03]\n",
      "  Objective range  [2e-05, 1e+01]\n",
      "  Bounds range     [1e+00, 1e+00]\n",
      "  RHS range        [1e+00, 3e+02]\n",
      "Found heuristic solution: objective -0.0000000\n",
      "Presolve removed 1167 rows and 12564 columns\n",
      "Presolve time: 0.14s\n",
      "Presolved: 1408 rows, 7876 columns, 35681 nonzeros\n",
      "Variable types: 0 continuous, 7876 integer (7876 binary)\n",
      "\n",
      "Root relaxation: objective 4.966676e+02, 1448 iterations, 0.04 seconds (0.07 work units)\n",
      "\n",
      "    Nodes    |    Current Node    |     Objective Bounds      |     Work\n",
      " Expl Unexpl |  Obj  Depth IntInf | Incumbent    BestBd   Gap | It/Node Time\n",
      "\n",
      "     0     0  496.66762    0  114   -0.00000  496.66762      -     -    0s\n",
      "H    0     0                     200.5194700  496.66762   148%     -    0s\n",
      "H    0     0                     421.7007341  496.66762  17.8%     -    0s\n",
      "H    0     0                     430.9710625  496.66762  15.2%     -    0s\n",
      "H    0     0                     431.6500200  496.66762  15.1%     -    0s\n",
      "H    0     0                     431.7027932  493.98104  14.4%     -    0s\n",
      "H    0     0                     432.1221035  493.98104  14.3%     -    0s\n",
      "     0     0  486.11101    0  629  432.12210  486.11101  12.5%     -    0s\n",
      "     0     0  486.11101    0  287  432.12210  486.11101  12.5%     -    0s\n",
      "     0     0  486.11101    0  633  432.12210  486.11101  12.5%     -    1s\n",
      "     0     0  486.11101    0  860  432.12210  486.11101  12.5%     -    1s\n",
      "H    0     0                     459.6177057  486.11101  5.76%     -    1s\n",
      "     0     0  486.11101    0  995  459.61771  486.11101  5.76%     -    1s\n",
      "H    0     0                     468.4095823  486.11101  3.78%     -    1s\n",
      "H    0     0                     468.4703263  486.11101  3.77%     -    1s\n",
      "     0     0  486.11101    0 1084  468.47033  486.11101  3.77%     -    1s\n",
      "     0     0  486.11101    0 1132  468.47033  486.11101  3.77%     -    1s\n",
      "     0     0  486.11101    0 1162  468.47033  486.11101  3.77%     -    1s\n",
      "     0     0  486.11101    0 1175  468.47033  486.11101  3.77%     -    1s\n",
      "     0     0  486.11101    0 1175  468.47033  486.11101  3.77%     -    1s\n",
      "     0     2  486.11101    0 1175  468.47033  486.11101  3.77%     -    1s\n",
      "H 1002   834                     468.4794018  478.92172  2.23%  57.6    3s\n",
      "H 1245   993                     468.4867790  478.60268  2.16%  61.0    3s\n",
      "H 1281   993                     468.4872008  478.60268  2.16%  59.3    3s\n",
      "  1540   903  478.59290   28 1175  468.48720  478.60174  2.16%  68.4    5s\n",
      "  1606   920     cutoff   21       468.48720  478.60174  2.16%  90.2   10s\n",
      "H 1806   968                     468.4890460  478.60174  2.16%  82.5   10s\n",
      "H 2038   969                     468.4892421  478.60174  2.16%  73.4   10s\n",
      "\n",
      "Explored 2479 nodes (161326 simplex iterations) in 11.19 seconds (34.34 work units)\n",
      "Thread count was 8 (of 8 available processors)\n",
      "\n",
      "Solution count 10: 468.489 468.489 468.487 ... 431.703\n",
      "\n",
      "Optimal solution found (tolerance 1.00e-04)\n",
      "Best objective 4.684892420500e+02, best bound 4.684923037291e+02, gap 0.0007%\n"
     ]
    }
   ],
   "source": [
    "# Create a new model\n",
    "test_model = Model(\"AssetToMarket\")\n",
    "\n",
    "# Create decision variables\n",
    "x = {}\n",
    "for i, asset in enumerate(L):\n",
    "    for j, market in enumerate(M):\n",
    "        x[i, j] = test_model.addVar(lb = 0, ub = 1, vtype=GRB.BINARY, name=f\"x_{i}_{j}\")\n",
    "        \n",
    "        # If asset direction is \"up\"\n",
    "        if asset.direction == \"up\" and market.direction not in [\"up\", \"both\"]:\n",
    "            test_model.addConstr(x[ i, j] == 0, f\"direction_constraint_hour_{hour}_asset_{asset}_market_{market}\")\n",
    "\n",
    "        # If asset direction is \"down\"\n",
    "        elif asset.direction == \"down\" and market.direction not in [\"down\", \"both\"]:\n",
    "            test_model.addConstr(x[ i, j] == 0, f\"direction_constraint_hour_{hour}_asset_{asset}_market_{market}\")\n",
    "y = {}\n",
    "\n",
    "for j, market in enumerate(M):\n",
    "    y[j] = test_model.addVar(lb = 0, ub = 1, vtype=GRB.BINARY, name=f\"y_{j}\")\n",
    "\n",
    "\n",
    "# Set objective\n",
    "test_model.setObjective(\n",
    "    sum(x[i, j] * asset.flex_volume[\"value\"].loc[asset.flex_volume[\"Time(Local)\"] == hour].values[0] * market.price_data.loc[(market.price_data[\"Time(Local)\"] == hour)].values[0][1] for i, asset in enumerate(L) for j, market in enumerate(M)),\n",
    "    GRB.MAXIMIZE\n",
    ")\n",
    "\n",
    "# Add constraints\n",
    "for i, asset in enumerate(L):\n",
    "    test_model.addConstr(sum(x[i, j] for j in range(len(M))) <= 1, f\"single_market_for_asset_nr.{i}\")\n",
    "\n",
    "for j, market in enumerate(M):\n",
    "    \n",
    "    #print(\"min_volume : \", market.min_volume)\n",
    "    #print(\"y[j] : \", y[j])\n",
    "    #print(\"sum of x \", sum(x[i, j] for i, asset in enumerate(L)))\n",
    "    #print(\"flex volume : \", [asset.flex_volume[\"value\"].loc[(asset.flex_volume[\"Time(Local)\"] == hour)].values[0] for i, asset in enumerate(L)])\n",
    "    #\n",
    "    test_model.addConstr((sum(x[i, j] for i in range(len(L)))) <= len(L) * y[j], f\"asset_connection_for_market_{market.name}\")\n",
    "\n",
    "    test_model.addConstr(sum(x[i, j] * asset.flex_volume[\"value\"].loc[asset.flex_volume[\"Time(Local)\"] == hour].values[0] for i, asset in enumerate(L)) >= market.min_volume * y[j], f\"min_volume_for_market_{market.name}\")\n",
    "    \n",
    "    #test_model.addConstr(np.mean([x[i, j] * asset.sleep_time for i, asset in enumerate(L)]) <= market.sleep_time, f\"avg_sleep_time_for_market_{j}\")\n",
    "    test_model.addConstr(np.mean([x[i, j] * asset.response_time for i, asset in enumerate(L)]) <= market.response_time, f\"avg_response_time_for_market_{market.name}\")\n",
    "\n",
    "    test_model.addConstr(sum(x[i, j] * asset.flex_volume[\"value\"].loc[asset.flex_volume[\"Time(Local)\"] == hour].values[0] for i, asset in enumerate(L)) <=  market.volume_data.loc[market.volume_data[\"Time(Local)\"] == hour].values[0][1]  * y[j], f\"max_volume_for_market_{market.name}\")\n",
    "\n",
    "# Solve the model\n",
    "test_model.optimize()\n",
    "\n",
    "\n"
   ]
  },
  {
   "cell_type": "code",
   "execution_count": null,
   "metadata": {},
   "outputs": [],
   "source": [
    "data = []\n",
    "\n",
    "for i, asset in enumerate(L):\n",
    "    for j, market in enumerate(M):\n",
    "        if x[i, j].X > 0.5:\n",
    "            data.append([hour, asset.meter_id, market.name])\n",
    "\n",
    "df = pd.DataFrame(data, columns=[\"Hour\", \"Asset Meter ID\", \"Market\"])\n",
    "#print(df)\n",
    "hour_df = df.loc[(df[\"Hour\"] == hour)]\n",
    "# get the number of assets in each market\n",
    "market_count = hour_df.groupby([\"Market\", \"Hour\"]).agg(\"count\").reset_index().rename(columns={\"Asset Meter ID\": \"Asset Count\"})\n",
    "display(market_count)\n",
    "    "
   ]
  },
  {
   "cell_type": "code",
   "execution_count": null,
   "metadata": {},
   "outputs": [],
   "source": [
    "# Retrieve and print solution (optional)\n",
    "if test_model.status == GRB.Status.OPTIMAL:\n",
    "    for i, asset in enumerate(L):\n",
    "        for j, market in enumerate(M):\n",
    "            if x[i, j].X > 0.5:\n",
    "                print(f\"Asset with meter id: {asset.meter_id} is bid in to {market.name}\")\n",
    "else:\n",
    "    print(\"Optimization was not successful!\")\n",
    "    \n",
    "if test_model.status == GRB.Status.INFEASIBLE:\n",
    "    test_model.computeIIS()"
   ]
  }
 ],
 "metadata": {
  "kernelspec": {
   "display_name": "INF264",
   "language": "python",
   "name": "python3"
  },
  "language_info": {
   "codemirror_mode": {
    "name": "ipython",
    "version": 3
   },
   "file_extension": ".py",
   "mimetype": "text/x-python",
   "name": "python",
   "nbconvert_exporter": "python",
   "pygments_lexer": "ipython3",
   "version": "3.9.12"
  }
 },
 "nbformat": 4,
 "nbformat_minor": 2
}
