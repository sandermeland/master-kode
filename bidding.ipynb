{
 "cells": [
  {
   "cell_type": "code",
   "execution_count": 2,
   "metadata": {},
   "outputs": [
    {
     "ename": "NameError",
     "evalue": "name 'Utils' is not defined",
     "output_type": "error",
     "traceback": [
      "\u001b[0;31m---------------------------------------------------------------------------\u001b[0m",
      "\u001b[0;31mNameError\u001b[0m                                 Traceback (most recent call last)",
      "\u001b[1;32m/Users/sandermeland/Documents/Dokumenter – Sanders MacBook Air/UIB/Master/master-kode/bidding.ipynb Cell 1\u001b[0m line \u001b[0;36m3\n\u001b[1;32m      <a href='vscode-notebook-cell:/Users/sandermeland/Documents/Dokumenter%20%E2%80%93%20Sanders%20MacBook%20Air/UIB/Master/master-kode/bidding.ipynb#W0sZmlsZQ%3D%3D?line=0'>1</a>\u001b[0m \u001b[39mimport\u001b[39;00m \u001b[39mgurobipy\u001b[39;00m \u001b[39mas\u001b[39;00m \u001b[39mgp\u001b[39;00m\n\u001b[1;32m      <a href='vscode-notebook-cell:/Users/sandermeland/Documents/Dokumenter%20%E2%80%93%20Sanders%20MacBook%20Air/UIB/Master/master-kode/bidding.ipynb#W0sZmlsZQ%3D%3D?line=1'>2</a>\u001b[0m \u001b[39mimport\u001b[39;00m \u001b[39mpandas\u001b[39;00m \u001b[39mas\u001b[39;00m \u001b[39mpd\u001b[39;00m\n\u001b[0;32m----> <a href='vscode-notebook-cell:/Users/sandermeland/Documents/Dokumenter%20%E2%80%93%20Sanders%20MacBook%20Air/UIB/Master/master-kode/bidding.ipynb#W0sZmlsZQ%3D%3D?line=2'>3</a>\u001b[0m \u001b[39mfrom\u001b[39;00m \u001b[39mcode_map\u001b[39;00m \u001b[39mimport\u001b[39;00m final_markets, new_meters, utils, data_handling\n\u001b[1;32m      <a href='vscode-notebook-cell:/Users/sandermeland/Documents/Dokumenter%20%E2%80%93%20Sanders%20MacBook%20Air/UIB/Master/master-kode/bidding.ipynb#W0sZmlsZQ%3D%3D?line=3'>4</a>\u001b[0m \u001b[39mimport\u001b[39;00m \u001b[39mnumpy\u001b[39;00m \u001b[39mas\u001b[39;00m \u001b[39mnp\u001b[39;00m\n\u001b[1;32m      <a href='vscode-notebook-cell:/Users/sandermeland/Documents/Dokumenter%20%E2%80%93%20Sanders%20MacBook%20Air/UIB/Master/master-kode/bidding.ipynb#W0sZmlsZQ%3D%3D?line=4'>5</a>\u001b[0m \u001b[39mfrom\u001b[39;00m \u001b[39mdatetime\u001b[39;00m \u001b[39mimport\u001b[39;00m datetime, timedelta\n",
      "File \u001b[0;32m~/Documents/Dokumenter – Sanders MacBook Air/UIB/Master/master-kode/code_map/new_meters.py:22\u001b[0m\n\u001b[1;32m     18\u001b[0m     consumption_data: pd\u001b[39m.\u001b[39mDataFrame \u001b[39m# The actual consumption data for the meter\u001b[39;00m\n\u001b[1;32m     19\u001b[0m     area: \u001b[39mstr\u001b[39m \u001b[39m# area of the metering point : NO1, NO2, NO3, NO4, NO5\u001b[39;00m\n\u001b[0;32m---> 22\u001b[0m \u001b[39mdef\u001b[39;00m \u001b[39mpreprocess_consumption_df\u001b[39m(df, tf : Utils\u001b[39m.\u001b[39mGlobalVariables):\n\u001b[1;32m     23\u001b[0m \u001b[39m    \u001b[39m\u001b[39m\"\"\" Function to preprocess the consumption data for a given time frame\u001b[39;00m\n\u001b[1;32m     24\u001b[0m \n\u001b[1;32m     25\u001b[0m \u001b[39m    Args:\u001b[39;00m\n\u001b[0;32m   (...)\u001b[0m\n\u001b[1;32m     30\u001b[0m \u001b[39m        df (pd.DataFrame): The processed consumption data for the given timeframe\u001b[39;00m\n\u001b[1;32m     31\u001b[0m \u001b[39m    \"\"\"\u001b[39;00m\n\u001b[1;32m     32\u001b[0m     df[\u001b[39m\"\u001b[39m\u001b[39mcategory\u001b[39m\u001b[39m\"\u001b[39m] \u001b[39m=\u001b[39m pd\u001b[39m.\u001b[39mSeries(np\u001b[39m.\u001b[39mzeros(\u001b[39mlen\u001b[39m(df)), dtype \u001b[39m=\u001b[39m \u001b[39m\"\u001b[39m\u001b[39mstr\u001b[39m\u001b[39m\"\u001b[39m)\n",
      "\u001b[0;31mNameError\u001b[0m: name 'Utils' is not defined"
     ]
    }
   ],
   "source": [
    "import gurobipy as gp\n",
    "import pandas as pd\n",
    "from code_map import final_markets, new_meters, utils, data_handling\n",
    "import numpy as np\n",
    "from datetime import datetime, timedelta\n",
    "\n"
   ]
  },
  {
   "cell_type": "code",
   "execution_count": null,
   "metadata": {},
   "outputs": [],
   "source": [
    "timeframe = utils.half_month\n",
    "L, M, F, H, freq_data, power_meter_dict, consumption_data = utils.get_all_sets(timeframe)\n"
   ]
  },
  {
   "cell_type": "code",
   "execution_count": null,
   "metadata": {},
   "outputs": [],
   "source": [
    "L_u, L_d, Fu_h_l, Fd_h_l, R_h_l, P_h_m, Vp_h_m, Vm_m, R_m = utils.get_parameters(L,M,H)"
   ]
  },
  {
   "cell_type": "code",
   "execution_count": null,
   "metadata": {},
   "outputs": [],
   "source": [
    "markets_name_dict = {market.name: market for market in M}\n",
    "market_names = list(markets_name_dict.keys())"
   ]
  },
  {
   "cell_type": "code",
   "execution_count": null,
   "metadata": {},
   "outputs": [],
   "source": [
    "dominant_directions = [utils.get_dominant_direction(freq_data, hour) for hour in H]\n",
    "Ir_hlm, Ia_hlm, Va_hm = utils.get_income_dictionaries(H, M, L, dominant_directions, Fu_h_l, Fd_h_l, P_h_m, Vp_h_m, F, markets_name_dict, timeframe=timeframe)\n"
   ]
  },
  {
   "cell_type": "code",
   "execution_count": 13,
   "metadata": {},
   "outputs": [],
   "source": [
    "compatible_list = utils.get_compatibility_list(H=H, L=L, M=M)\n"
   ]
  },
  {
   "cell_type": "code",
   "execution_count": null,
   "metadata": {},
   "outputs": [],
   "source": []
  },
  {
   "cell_type": "code",
   "execution_count": null,
   "metadata": {},
   "outputs": [],
   "source": [
    "\n",
    "def find_previous_weekday(d, weekday):\n",
    "    days_behind = d.weekday() - weekday\n",
    "    if days_behind < 0: # Target day is in the previous week\n",
    "        days_behind += 7\n",
    "    return d - timedelta(days=days_behind)\n",
    "\n",
    "# Function to calculate the deadlines for a given input timestamp\n",
    "def calculate_deadlines_for_input(input_timestamp):\n",
    "    deadlines = {}\n",
    "\n",
    "    # RKOM uke: Friday the week before if on a weekday, otherwise Thursday the same week\n",
    "    if input_timestamp.weekday() < 5:  # Weekday\n",
    "        deadlines['RKOM uke'] = find_previous_weekday(input_timestamp - timedelta(days=7), 4)  # Previous Friday\n",
    "    else:  # Weekend\n",
    "        deadlines['RKOM uke'] = find_previous_weekday(input_timestamp, 3)  # Current Thursday\n",
    "\n",
    "    # FCR D-2: Two days before the input time at 17:30\n",
    "    deadlines['FCR D-2'] = datetime.combine(input_timestamp.date() - timedelta(days=2), datetime.strptime('17:30', '%H:%M').time())\n",
    "\n",
    "    # aFRR CM: One day before the input time at 07:30\n",
    "    deadlines['aFRR CM'] = datetime.combine(input_timestamp.date() - timedelta(days=1), datetime.strptime('07:30', '%H:%M').time())\n",
    "\n",
    "    # FCR D-1: One day before the input time at 18:00\n",
    "    deadlines['FCR D-1'] = datetime.combine(input_timestamp.date() - timedelta(days=1), datetime.strptime('18:00', '%H:%M').time())\n",
    "\n",
    "    # RK: 45 minutes before the input time\n",
    "    deadlines['RK'] = input_timestamp - timedelta(minutes=45)\n",
    "\n",
    "    return deadlines\n",
    "\n",
    "# Example usage of the function\n",
    "example_input_timestamp = datetime(2023, 12, 13, 15, 0)  # Example: 13th December 2023, 15:00\n",
    "deadlines = calculate_deadlines_for_input(example_input_timestamp)\n",
    "for market, deadline in deadlines.items():\n",
    "    print(f\"{market}: {deadline.strftime('%Y-%m-%d %H:%M')}\")\n"
   ]
  }
 ],
 "metadata": {
  "kernelspec": {
   "display_name": "myenv",
   "language": "python",
   "name": "python3"
  },
  "language_info": {
   "codemirror_mode": {
    "name": "ipython",
    "version": 3
   },
   "file_extension": ".py",
   "mimetype": "text/x-python",
   "name": "python",
   "nbconvert_exporter": "python",
   "pygments_lexer": "ipython3",
   "version": "3.9.18"
  }
 },
 "nbformat": 4,
 "nbformat_minor": 2
}
