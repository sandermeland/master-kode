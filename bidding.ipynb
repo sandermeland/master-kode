{
 "cells": [
  {
   "cell_type": "code",
   "execution_count": 3,
   "metadata": {},
   "outputs": [],
   "source": [
    "import gurobipy as gp\n",
    "import pandas as pd\n",
    "from code_map import final_markets, new_meters, Utils\n",
    "import numpy as np\n",
    "import calendar \n",
    "from datetime import datetime\n",
    "import pytz\n",
    "import openpyxl\n",
    "import os\n"
   ]
  },
  {
   "cell_type": "code",
   "execution_count": 4,
   "metadata": {},
   "outputs": [
    {
     "name": "stderr",
     "output_type": "stream",
     "text": [
      "/Users/sandermeland/Documents/Dokumenter – Sanders MacBook Air/UIB/Master/master-kode/code_map/final_markets.py:72: SettingWithCopyWarning: \n",
      "A value is trying to be set on a copy of a slice from a DataFrame\n",
      "\n",
      "See the caveats in the documentation: https://pandas.pydata.org/pandas-docs/stable/user_guide/indexing.html#returning-a-view-versus-a-copy\n",
      "  ffr_df[\"FFR-Flex Price [EUR/MW]\"][(pd.Timestamp(year = year, month =10, day = 30, hour = 0, tz = \"Europe/Oslo\") < ffr_df[\"Time(Local)\"]) &\n",
      "/Users/sandermeland/Documents/Dokumenter – Sanders MacBook Air/UIB/Master/master-kode/code_map/final_markets.py:75: SettingWithCopyWarning: \n",
      "A value is trying to be set on a copy of a slice from a DataFrame\n",
      "\n",
      "See the caveats in the documentation: https://pandas.pydata.org/pandas-docs/stable/user_guide/indexing.html#returning-a-view-versus-a-copy\n",
      "  ffr_df[\"FFR-Profil Price [EUR/MW]\"][(pd.Timestamp(year = year, month = 9, day = 3, hour = 0, tz = \"Europe/Oslo\") < ffr_df[\"Time(Local)\"]) &\n",
      "/Users/sandermeland/Documents/Dokumenter – Sanders MacBook Air/UIB/Master/master-kode/code_map/final_markets.py:81: SettingWithCopyWarning: \n",
      "A value is trying to be set on a copy of a slice from a DataFrame\n",
      "\n",
      "See the caveats in the documentation: https://pandas.pydata.org/pandas-docs/stable/user_guide/indexing.html#returning-a-view-versus-a-copy\n",
      "  ffr_df[\"FFR-Flex Price [EUR/MW]\"].loc[(ffr_df[\"Time(Local)\"] == date)] = 0\n"
     ]
    },
    {
     "ename": "TypeError",
     "evalue": "__init__() got an unexpected keyword argument 'sleep_time'",
     "output_type": "error",
     "traceback": [
      "\u001b[0;31m---------------------------------------------------------------------------\u001b[0m",
      "\u001b[0;31mTypeError\u001b[0m                                 Traceback (most recent call last)",
      "\u001b[1;32m/Users/sandermeland/Documents/Dokumenter – Sanders MacBook Air/UIB/Master/master-kode/bidding.ipynb Cell 2\u001b[0m line \u001b[0;36m2\n\u001b[1;32m      <a href='vscode-notebook-cell:/Users/sandermeland/Documents/Dokumenter%20%E2%80%93%20Sanders%20MacBook%20Air/UIB/Master/master-kode/bidding.ipynb#W1sZmlsZQ%3D%3D?line=0'>1</a>\u001b[0m timeframe \u001b[39m=\u001b[39m Utils\u001b[39m.\u001b[39mhalf_month\n\u001b[0;32m----> <a href='vscode-notebook-cell:/Users/sandermeland/Documents/Dokumenter%20%E2%80%93%20Sanders%20MacBook%20Air/UIB/Master/master-kode/bidding.ipynb#W1sZmlsZQ%3D%3D?line=1'>2</a>\u001b[0m L, M, F, H, freq_data, power_meter_dict, consumption_data \u001b[39m=\u001b[39m Utils\u001b[39m.\u001b[39;49mget_all_sets(timeframe)\n\u001b[1;32m      <a href='vscode-notebook-cell:/Users/sandermeland/Documents/Dokumenter%20%E2%80%93%20Sanders%20MacBook%20Air/UIB/Master/master-kode/bidding.ipynb#W1sZmlsZQ%3D%3D?line=2'>3</a>\u001b[0m L_u, L_d, Fu_h_l, Fd_h_l, R_h_l, P_h_m, Vp_h_m, Vm_m, R_m \u001b[39m=\u001b[39m Utils\u001b[39m.\u001b[39mget_all_parameters(timeframe)\n",
      "File \u001b[0;32m~/Documents/Dokumenter – Sanders MacBook Air/UIB/Master/master-kode/code_map/Utils.py:211\u001b[0m, in \u001b[0;36mget_all_sets\u001b[0;34m(timeframe)\u001b[0m\n\u001b[1;32m    208\u001b[0m cat_path_list \u001b[39m=\u001b[39m [\u001b[39m\"\u001b[39m\u001b[39m../master-data/categorization_data/harktech_meters.csv\u001b[39m\u001b[39m\"\u001b[39m,  \u001b[39m\"\u001b[39m\u001b[39m../master-data/categorization_data/ev_meters.csv\u001b[39m\u001b[39m\"\u001b[39m]\n\u001b[1;32m    210\u001b[0m consumption_data \u001b[39m=\u001b[39mpd\u001b[39m.\u001b[39mread_csv(\u001b[39m'\u001b[39m\u001b[39m../master-data/customers-data/added_type_and_comp.csv\u001b[39m\u001b[39m'\u001b[39m)\n\u001b[0;32m--> 211\u001b[0m all_market_list \u001b[39m=\u001b[39m final_markets\u001b[39m.\u001b[39;49mget_market_list(tf \u001b[39m=\u001b[39;49m timeframe, spot_path\u001b[39m=\u001b[39;49mspot_path, fcr_d_1_path\u001b[39m=\u001b[39;49m fcr_d_1_directory, fcr_d_2_path\u001b[39m=\u001b[39;49mfcr_d_2_directory, afrr_up_directory\u001b[39m=\u001b[39;49mafrr_up_directory, afrr_down_directory\u001b[39m=\u001b[39;49mafrr_down_directory, rk_price_down_path\u001b[39m=\u001b[39;49mrk_price_down_path,rk_price_up_path\u001b[39m=\u001b[39;49m rk_price_up_path, rk_volume_up_path\u001b[39m=\u001b[39;49mrk_volume_up_path, rk_volume_down_path\u001b[39m=\u001b[39;49mrk_volume_down_path, rkom_22_path\u001b[39m=\u001b[39;49mrkom_2022_path, rkom_23_path\u001b[39m=\u001b[39;49m rkom_2023_path)\n\u001b[1;32m    212\u001b[0m power_meter_dict \u001b[39m=\u001b[39m new_meters\u001b[39m.\u001b[39mcreate_meter_objects(consumption_data \u001b[39m=\u001b[39m consumption_data, tf\u001b[39m=\u001b[39m timeframe, reference_tf\u001b[39m=\u001b[39m one_month, category_path_list\u001b[39m=\u001b[39mcat_path_list) \n\u001b[1;32m    213\u001b[0m freq_data \u001b[39m=\u001b[39m get_frequency_data(timeframe, \u001b[39m'\u001b[39m\u001b[39m../master-data/frequency_data/2023-06\u001b[39m\u001b[39m'\u001b[39m)\n",
      "File \u001b[0;32m~/Documents/Dokumenter – Sanders MacBook Air/UIB/Master/master-kode/code_map/final_markets.py:525\u001b[0m, in \u001b[0;36mget_market_list\u001b[0;34m(tf, spot_path, fcr_d_1_path, fcr_d_2_path, afrr_up_directory, afrr_down_directory, rk_price_down_path, rk_price_up_path, rk_volume_down_path, rk_volume_up_path, rkom_22_path, rkom_23_path)\u001b[0m\n\u001b[1;32m    505\u001b[0m \u001b[39mdef\u001b[39;00m \u001b[39mget_market_list\u001b[39m(tf , spot_path : \u001b[39mstr\u001b[39m,  fcr_d_1_path : \u001b[39mstr\u001b[39m,  fcr_d_2_path : \u001b[39mstr\u001b[39m, afrr_up_directory : \u001b[39mstr\u001b[39m, afrr_down_directory : \u001b[39mstr\u001b[39m, rk_price_down_path : \u001b[39mstr\u001b[39m, rk_price_up_path : \u001b[39mstr\u001b[39m, rk_volume_down_path: \u001b[39mstr\u001b[39m, rk_volume_up_path : \u001b[39mstr\u001b[39m, rkom_22_path : \u001b[39mstr\u001b[39m, rkom_23_path : \u001b[39mstr\u001b[39m): \n\u001b[1;32m    506\u001b[0m \u001b[39m    \u001b[39m\u001b[39m\"\"\"Function to use all the functions defined in this file to create a list of all the markets that are to be used in the optimization problem.\u001b[39;00m\n\u001b[1;32m    507\u001b[0m \n\u001b[1;32m    508\u001b[0m \u001b[39m    Args:\u001b[39;00m\n\u001b[0;32m   (...)\u001b[0m\n\u001b[1;32m    523\u001b[0m \u001b[39m        list(ReserveMarket): list of all the possible  markets\u001b[39;00m\n\u001b[1;32m    524\u001b[0m \u001b[39m    \"\"\"\u001b[39;00m\n\u001b[0;32m--> 525\u001b[0m     FFR_markets \u001b[39m=\u001b[39m create_FFR_markets(start_year\u001b[39m=\u001b[39;49m tf\u001b[39m.\u001b[39;49myear, start_month\u001b[39m=\u001b[39;49m tf\u001b[39m.\u001b[39;49mstart_month, start_day \u001b[39m=\u001b[39;49m tf\u001b[39m.\u001b[39;49mstart_day, end_year \u001b[39m=\u001b[39;49m tf\u001b[39m.\u001b[39;49myear, end_month \u001b[39m=\u001b[39;49m tf\u001b[39m.\u001b[39;49mend_month, end_day \u001b[39m=\u001b[39;49m tf\u001b[39m.\u001b[39;49mend_day, start_hour \u001b[39m=\u001b[39;49m tf\u001b[39m.\u001b[39;49mstart_hour, end_hour \u001b[39m=\u001b[39;49m tf\u001b[39m.\u001b[39;49mend_hour)\n\u001b[1;32m    526\u001b[0m     FCR_D_1_D_markets, FCR_D_1_N_markets , FCR_D_2_N_markets , FCR_D_2_D_markets \u001b[39m=\u001b[39m create_FCR_dfs(fcr_d_1_path \u001b[39m=\u001b[39m fcr_d_1_path,  fcr_d_2_path \u001b[39m=\u001b[39m fcr_d_2_path, start_month \u001b[39m=\u001b[39m tf\u001b[39m.\u001b[39mstart_month, year \u001b[39m=\u001b[39m tf\u001b[39m.\u001b[39myear, start_day \u001b[39m=\u001b[39m tf\u001b[39m.\u001b[39mstart_day, end_month \u001b[39m=\u001b[39m tf\u001b[39m.\u001b[39mend_month, end_day \u001b[39m=\u001b[39m tf\u001b[39m.\u001b[39mend_day, start_hour \u001b[39m=\u001b[39m tf\u001b[39m.\u001b[39mstart_hour, end_hour \u001b[39m=\u001b[39m tf\u001b[39m.\u001b[39mend_hour)\n\u001b[1;32m    527\u001b[0m     aFRR_up_markets, aFRR_down_markets \u001b[39m=\u001b[39m create_afrr_dfs(up_directory \u001b[39m=\u001b[39m afrr_up_directory, down_directory \u001b[39m=\u001b[39m afrr_down_directory, year \u001b[39m=\u001b[39m tf\u001b[39m.\u001b[39myear, start_month \u001b[39m=\u001b[39m tf\u001b[39m.\u001b[39mstart_month, start_day \u001b[39m=\u001b[39m tf\u001b[39m.\u001b[39mstart_day, start_hour \u001b[39m=\u001b[39m tf\u001b[39m.\u001b[39mstart_hour, end_month \u001b[39m=\u001b[39m tf\u001b[39m.\u001b[39mend_month, end_day \u001b[39m=\u001b[39m tf\u001b[39m.\u001b[39mend_day, end_hour \u001b[39m=\u001b[39m tf\u001b[39m.\u001b[39mend_hour)\n",
      "File \u001b[0;32m~/Documents/Dokumenter – Sanders MacBook Air/UIB/Master/master-kode/code_map/final_markets.py:93\u001b[0m, in \u001b[0;36mcreate_FFR_markets\u001b[0;34m(start_year, start_month, start_day, start_hour, end_year, end_month, end_day, end_hour)\u001b[0m\n\u001b[1;32m     88\u001b[0m ffr_data \u001b[39m=\u001b[39m get_FFR_df(start_year \u001b[39m=\u001b[39m start_year, start_month \u001b[39m=\u001b[39m start_month, start_day \u001b[39m=\u001b[39m start_day, start_hour \u001b[39m=\u001b[39m start_hour, end_year \u001b[39m=\u001b[39m end_year, end_month \u001b[39m=\u001b[39m end_month, end_day \u001b[39m=\u001b[39m end_day, end_hour \u001b[39m=\u001b[39m end_hour)\n\u001b[1;32m     90\u001b[0m \u001b[39m#print(ffr_data)\u001b[39;00m\n\u001b[0;32m---> 93\u001b[0m FFR_profile \u001b[39m=\u001b[39m ReserveMarket(name \u001b[39m=\u001b[39;49m \u001b[39m\"\u001b[39;49m\u001b[39mFFR_profile\u001b[39;49m\u001b[39m\"\u001b[39;49m, direction \u001b[39m=\u001b[39;49m \u001b[39m\"\u001b[39;49m\u001b[39mup\u001b[39;49m\u001b[39m\"\u001b[39;49m, area \u001b[39m=\u001b[39;49m \u001b[39m\"\u001b[39;49m\u001b[39mall\u001b[39;49m\u001b[39m\"\u001b[39;49m, response_time\u001b[39m=\u001b[39;49m \u001b[39m1.3\u001b[39;49m, duration\u001b[39m=\u001b[39;49m \u001b[39m0.5\u001b[39;49m, min_volume\u001b[39m=\u001b[39;49m \u001b[39m1\u001b[39;49m, sleep_time\u001b[39m=\u001b[39;49m\u001b[39m15\u001b[39;49m, activation_threshold\u001b[39m=\u001b[39;49m \u001b[39m49.7\u001b[39;49m, capacity_market\u001b[39m=\u001b[39;49m \u001b[39mTrue\u001b[39;49;00m, price_data\u001b[39m=\u001b[39;49m ffr_data\u001b[39m.\u001b[39;49mdrop(columns\u001b[39m=\u001b[39;49m [\u001b[39m\"\u001b[39;49m\u001b[39mFFR-Flex Volume\u001b[39;49m\u001b[39m\"\u001b[39;49m, \u001b[39m\"\u001b[39;49m\u001b[39mFFR-Flex Price [EUR/MW]\u001b[39;49m\u001b[39m\"\u001b[39;49m, \u001b[39m\"\u001b[39;49m\u001b[39mFFR-Profil Volume\u001b[39;49m\u001b[39m\"\u001b[39;49m]), volume_data\u001b[39m=\u001b[39;49m ffr_data\u001b[39m.\u001b[39;49mdrop(columns\u001b[39m=\u001b[39;49m [\u001b[39m\"\u001b[39;49m\u001b[39mFFR-Flex Price [EUR/MW]\u001b[39;49m\u001b[39m\"\u001b[39;49m, \u001b[39m\"\u001b[39;49m\u001b[39mFFR-Flex Volume\u001b[39;49m\u001b[39m\"\u001b[39;49m, \u001b[39m\"\u001b[39;49m\u001b[39mFFR-Profil Price [EUR/MW]\u001b[39;49m\u001b[39m\"\u001b[39;49m]))\n\u001b[1;32m     95\u001b[0m FFR_flex \u001b[39m=\u001b[39m ReserveMarket(name \u001b[39m=\u001b[39m \u001b[39m\"\u001b[39m\u001b[39mFFR_flex\u001b[39m\u001b[39m\"\u001b[39m, direction \u001b[39m=\u001b[39m \u001b[39m\"\u001b[39m\u001b[39mup\u001b[39m\u001b[39m\"\u001b[39m, area \u001b[39m=\u001b[39m \u001b[39m\"\u001b[39m\u001b[39mall\u001b[39m\u001b[39m\"\u001b[39m, response_time\u001b[39m=\u001b[39m \u001b[39m1.3\u001b[39m, duration\u001b[39m=\u001b[39m \u001b[39m0.5\u001b[39m, min_volume\u001b[39m=\u001b[39m \u001b[39m5\u001b[39m, sleep_time\u001b[39m=\u001b[39m\u001b[39m15\u001b[39m, activation_threshold\u001b[39m=\u001b[39m \u001b[39m49.7\u001b[39m, price_data\u001b[39m=\u001b[39m ffr_data\u001b[39m.\u001b[39mdrop(columns\u001b[39m=\u001b[39m [\u001b[39m\"\u001b[39m\u001b[39mFFR-Flex Volume\u001b[39m\u001b[39m\"\u001b[39m, \u001b[39m\"\u001b[39m\u001b[39mFFR-Profil Price [EUR/MW]\u001b[39m\u001b[39m\"\u001b[39m, \u001b[39m\"\u001b[39m\u001b[39mFFR-Profil Volume\u001b[39m\u001b[39m\"\u001b[39m]), volume_data\u001b[39m=\u001b[39m ffr_data\u001b[39m.\u001b[39mdrop(columns\u001b[39m=\u001b[39m [\u001b[39m\"\u001b[39m\u001b[39mFFR-Flex Price [EUR/MW]\u001b[39m\u001b[39m\"\u001b[39m, \u001b[39m\"\u001b[39m\u001b[39mFFR-Profil Volume\u001b[39m\u001b[39m\"\u001b[39m, \u001b[39m\"\u001b[39m\u001b[39mFFR-Profil Price [EUR/MW]\u001b[39m\u001b[39m\"\u001b[39m]))\n\u001b[1;32m     97\u001b[0m \u001b[39mreturn\u001b[39;00m [FFR_flex, FFR_profile]\n",
      "\u001b[0;31mTypeError\u001b[0m: __init__() got an unexpected keyword argument 'sleep_time'"
     ]
    }
   ],
   "source": [
    "timeframe = Utils.half_month\n",
    "L, M, F, H, freq_data, power_meter_dict, consumption_data = Utils.get_all_sets(timeframe)\n",
    "L_u, L_d, Fu_h_l, Fd_h_l, R_h_l, P_h_m, Vp_h_m, Vm_m, R_m = Utils.get_all_parameters(timeframe)"
   ]
  },
  {
   "cell_type": "code",
   "execution_count": null,
   "metadata": {},
   "outputs": [],
   "source": [
    "markets_name_dict = {market.name: market for market in M}\n",
    "market_names = list(markets_name_dict.keys())"
   ]
  },
  {
   "cell_type": "code",
   "execution_count": null,
   "metadata": {},
   "outputs": [],
   "source": [
    "dominant_directions = [Utils.get_dominant_direction(freq_data, hour) for hour in H]\n",
    "Ir_hlm, Ia_hlm, Va_hm = Utils.get_income_dictionaries(H, M, L, dominant_directions, Fu_h_l, Fd_h_l, P_h_m, Vp_h_m, F, markets_name_dict)\n",
    "compatible_list = Utils.get_compatibility_list(L, M, H)\n"
   ]
  },
  {
   "cell_type": "code",
   "execution_count": null,
   "metadata": {},
   "outputs": [],
   "source": []
  }
 ],
 "metadata": {
  "kernelspec": {
   "display_name": "myenv",
   "language": "python",
   "name": "python3"
  },
  "language_info": {
   "codemirror_mode": {
    "name": "ipython",
    "version": 3
   },
   "file_extension": ".py",
   "mimetype": "text/x-python",
   "name": "python",
   "nbconvert_exporter": "python",
   "pygments_lexer": "ipython3",
   "version": "3.9.18"
  }
 },
 "nbformat": 4,
 "nbformat_minor": 2
}
