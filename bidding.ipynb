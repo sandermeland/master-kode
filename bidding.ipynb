{
 "cells": [
  {
   "cell_type": "code",
   "execution_count": null,
   "metadata": {},
   "outputs": [],
   "source": [
    "import gurobipy as gp\n",
    "import pandas as pd\n",
    "from code_map import final_markets, new_meters, Utils\n",
    "import numpy as np\n",
    "import calendar \n",
    "from datetime import datetime\n",
    "import pytz\n",
    "import openpyxl\n",
    "import os\n"
   ]
  },
  {
   "cell_type": "code",
   "execution_count": null,
   "metadata": {},
   "outputs": [],
   "source": [
    "timeframe = Utils.half_month\n",
    "L, M, F, H, freq_data, power_meter_dict, consumption_data = Utils.get_all_sets(timeframe)\n"
   ]
  },
  {
   "cell_type": "code",
   "execution_count": null,
   "metadata": {},
   "outputs": [],
   "source": [
    "L_u, L_d, Fu_h_l, Fd_h_l, R_h_l, P_h_m, Vp_h_m, Vm_m, R_m = Utils.get_parameters(L,M,H)"
   ]
  },
  {
   "cell_type": "code",
   "execution_count": null,
   "metadata": {},
   "outputs": [],
   "source": [
    "markets_name_dict = {market.name: market for market in M}\n",
    "market_names = list(markets_name_dict.keys())"
   ]
  },
  {
   "cell_type": "code",
   "execution_count": null,
   "metadata": {},
   "outputs": [],
   "source": [
    "dominant_directions = [Utils.get_dominant_direction(freq_data, hour) for hour in H]\n",
    "Ir_hlm, Ia_hlm, Va_hm = Utils.get_income_dictionaries(H, M, L, dominant_directions, Fu_h_l, Fd_h_l, P_h_m, Vp_h_m, F, markets_name_dict, timeframe=timeframe)\n"
   ]
  },
  {
   "cell_type": "code",
   "execution_count": 13,
   "metadata": {},
   "outputs": [],
   "source": [
    "compatible_list = Utils.get_compatibility_list(H=H, L=L, M=M)\n"
   ]
  },
  {
   "cell_type": "code",
   "execution_count": null,
   "metadata": {},
   "outputs": [],
   "source": [
    "import pickle\n",
    "\n",
    "collection_list = [L, M, F, H, freq_data, power_meter_dict, consumption_data, L_u, L_d, Fu_h_l, Fd_h_l, R_h_l, P_h_m, Vp_h_m, Vm_m, R_m, dominant_directions, Ir_hlm, Ia_hlm, Va_hm, compatible_list]\n",
    "name_list = [\"L\", \"M\", \"F\", \"H\", \"freq_data\", \"power_meter_dict\", \"consumption_data\", \"L_u\", \"L_d\", \"Fu_h_l\", \"Fd_h_l\", \"R_h_l\", \"P_h_m\", \"Vp_h_m\", \"Vm_m\", \"R_m\", \"dominant_directions\", \"Ir_hlm\", \"Ia_hlm\", \"Va_hm\", \"compatible_list\"]\n",
    "# Assuming your collections are named collection1, collection2, ..., collection12\n",
    "all_collections = {name : collection for name, collection in zip(name_list, collection_list)}\n",
    "\n",
    "with open('weekly_collections.pkl', 'wb') as file:\n",
    "    pickle.dump(all_collections, file)"
   ]
  },
  {
   "cell_type": "code",
   "execution_count": null,
   "metadata": {},
   "outputs": [],
   "source": [
    "from datetime import datetime, timedelta\n",
    "\n",
    "def find_previous_weekday(d, weekday):\n",
    "    days_behind = d.weekday() - weekday\n",
    "    if days_behind < 0: # Target day is in the previous week\n",
    "        days_behind += 7\n",
    "    return d - timedelta(days=days_behind)\n",
    "\n",
    "# Function to calculate the deadlines for a given input timestamp\n",
    "def calculate_deadlines_for_input(input_timestamp):\n",
    "    deadlines = {}\n",
    "\n",
    "    # RKOM uke: Friday the week before if on a weekday, otherwise Thursday the same week\n",
    "    if input_timestamp.weekday() < 5:  # Weekday\n",
    "        deadlines['RKOM uke'] = find_previous_weekday(input_timestamp - timedelta(days=7), 4)  # Previous Friday\n",
    "    else:  # Weekend\n",
    "        deadlines['RKOM uke'] = find_previous_weekday(input_timestamp, 3)  # Current Thursday\n",
    "\n",
    "    # FCR D-2: Two days before the input time at 17:30\n",
    "    deadlines['FCR D-2'] = datetime.combine(input_timestamp.date() - timedelta(days=2), datetime.strptime('17:30', '%H:%M').time())\n",
    "\n",
    "    # aFRR CM: One day before the input time at 07:30\n",
    "    deadlines['aFRR CM'] = datetime.combine(input_timestamp.date() - timedelta(days=1), datetime.strptime('07:30', '%H:%M').time())\n",
    "\n",
    "    # FCR D-1: One day before the input time at 18:00\n",
    "    deadlines['FCR D-1'] = datetime.combine(input_timestamp.date() - timedelta(days=1), datetime.strptime('18:00', '%H:%M').time())\n",
    "\n",
    "    # RK: 45 minutes before the input time\n",
    "    deadlines['RK'] = input_timestamp - timedelta(minutes=45)\n",
    "\n",
    "    return deadlines\n",
    "\n",
    "# Example usage of the function\n",
    "example_input_timestamp = datetime(2023, 12, 13, 15, 0)  # Example: 13th December 2023, 15:00\n",
    "deadlines = calculate_deadlines_for_input(example_input_timestamp)\n",
    "for market, deadline in deadlines.items():\n",
    "    print(f\"{market}: {deadline.strftime('%Y-%m-%d %H:%M')}\")\n"
   ]
  }
 ],
 "metadata": {
  "kernelspec": {
   "display_name": "myenv",
   "language": "python",
   "name": "python3"
  },
  "language_info": {
   "codemirror_mode": {
    "name": "ipython",
    "version": 3
   },
   "file_extension": ".py",
   "mimetype": "text/x-python",
   "name": "python",
   "nbconvert_exporter": "python",
   "pygments_lexer": "ipython3",
   "version": "3.9.18"
  }
 },
 "nbformat": 4,
 "nbformat_minor": 2
}
