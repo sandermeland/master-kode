{
 "cells": [
  {
   "cell_type": "code",
   "execution_count": 1,
   "metadata": {},
   "outputs": [],
   "source": [
    "import gurobipy as gp\n",
    "import pandas as pd\n",
    "from code_map import final_markets, new_meters, utils, data_handling, timeframes\n",
    "import numpy as np\n",
    "from datetime import datetime, timedelta\n",
    "from collections import defaultdict, Counter\n",
    "\n"
   ]
  },
  {
   "cell_type": "code",
   "execution_count": 2,
   "metadata": {},
   "outputs": [],
   "source": [
    "L, M, F, H, freq_data, power_meter_dict, consumption_data, L_u, L_d, Fu_h_l, Fd_h_l, R_h_l, P_h_m, Vp_h_m, Vm_m, R_m, dominant_directions, Ir_hlm, Ia_hlm, Va_hm, compatible_list = data_handling.load_collections(\"./half_month_collections.pkl\")"
   ]
  },
  {
   "cell_type": "code",
   "execution_count": 3,
   "metadata": {},
   "outputs": [
    {
     "name": "stdout",
     "output_type": "stream",
     "text": [
      "Amount of assets : 2189\n",
      "Amount of meters : 62\n",
      "Amount of hours : 408 and amount of days : 17.0\n"
     ]
    }
   ],
   "source": [
    "print(f\"Amount of assets : {len(L)}\")\n",
    "print(f\"Amount of meters : {len(M)}\")\n",
    "print(f\"Amount of hours : {len(H)} and amount of days : {len(H)/24}\")"
   ]
  },
  {
   "cell_type": "code",
   "execution_count": 4,
   "metadata": {},
   "outputs": [],
   "source": [
    "markets_name_dict = {market.name: market for market in M}\n",
    "market_names = list(markets_name_dict.keys())"
   ]
  },
  {
   "cell_type": "code",
   "execution_count": 5,
   "metadata": {},
   "outputs": [
    {
     "data": {
      "text/plain": [
       "pandas._libs.tslibs.timestamps.Timestamp"
      ]
     },
     "execution_count": 5,
     "metadata": {},
     "output_type": "execute_result"
    }
   ],
   "source": [
    "type(H[3])"
   ]
  },
  {
   "cell_type": "code",
   "execution_count": 6,
   "metadata": {},
   "outputs": [],
   "source": [
    "def get_possible_dates(date : pd.Timestamp):\n",
    "    \n",
    "    if date.hour == 17: # FCR D-2\n",
    "        return (pd.date_range(date + timedelta(days=1) + timedelta(hours=7), date + timedelta(days = 2) + timedelta(hours = 6), freq='H', tz = \"Europe/Oslo\"), \"D_2\")\n",
    "    elif date.hour == 7: # aFRR\n",
    "        return (pd.date_range(date + timedelta(hours = 17), date + timedelta(days = 1) + timedelta(hours = 16), freq='H', tz = \"Europe/Oslo\"), \"aFRR\")\n",
    "    elif date.hour == 18: # FCR D-1\n",
    "        return (pd.date_range(date + timedelta(hours=6), date + timedelta(days = 1) + timedelta(hours = 5), freq='H', tz = \"Europe/Oslo\"), \"D_1\")\n",
    "    else:\n",
    "        return ([], \"No bids\")\n",
    "    \n",
    "    \"\"\"elif date.day_of_week == 4: # friday\n",
    "        if date.hour == 12: #RKOM uke\n",
    "            # get hours from monday next week until friday next week\n",
    "            week_dates = pd.date_range(date + timedelta(days=2) + timedelta(hours = 12), periods = 5, freq = 'D', tz = \"Europe/Oslo\") #RKOM uke weekdays night\n",
    "            day_hours = [pd.Timestamp(year=date.year, month=date.month, day=date.day, hour=hour) for date in week_dates for hour in range(5, 24)]\n",
    "            night_hours = [pd.Timestamp(year=date.year, month=date.month, day=date.day, hour=hour) for date in week_dates for hour in range(0, 5)]\n",
    "            return ((day_hours, night_hours), (\"RKOM_uke weekday day\", \"RKOM_uke weekday night\"))\n",
    "        else:\n",
    "            return ([], \"No bids\")\n",
    "    elif date.day_of_week == 3: #thursday\n",
    "        if date.hour == 12:\n",
    "            week_dates = pd.date_range(date + timedelta(days=1), periods = 2, freq='D', tz = \"Europe/Oslo\") #RKOM uke weekend night\n",
    "            day_hours = [pd.Timestamp(year=date.year, month=date.month, day=date.day, hour=hour) for date in week_dates for hour in range(5, 24)]\n",
    "            night_hours = [pd.Timestamp(year=date.year, month=date.month, day=date.day, hour=hour) for date in week_dates for hour in range(0, 5)]\n",
    "            return ((day_hours, night_hours), (\"RKOM_uke weekend day\", \"RKOM_uke weekend night\"))\n",
    "        else:\n",
    "            return ([], \"No bids\")\"\"\""
   ]
  },
  {
   "cell_type": "code",
   "execution_count": 44,
   "metadata": {},
   "outputs": [
    {
     "data": {
      "text/plain": [
       "(DatetimeIndex(['2023-06-23 00:00:00+02:00', '2023-06-23 01:00:00+02:00',\n",
       "                '2023-06-23 02:00:00+02:00', '2023-06-23 03:00:00+02:00',\n",
       "                '2023-06-23 04:00:00+02:00', '2023-06-23 05:00:00+02:00',\n",
       "                '2023-06-23 06:00:00+02:00', '2023-06-23 07:00:00+02:00',\n",
       "                '2023-06-23 08:00:00+02:00', '2023-06-23 09:00:00+02:00',\n",
       "                '2023-06-23 10:00:00+02:00', '2023-06-23 11:00:00+02:00',\n",
       "                '2023-06-23 12:00:00+02:00', '2023-06-23 13:00:00+02:00',\n",
       "                '2023-06-23 14:00:00+02:00', '2023-06-23 15:00:00+02:00',\n",
       "                '2023-06-23 16:00:00+02:00', '2023-06-23 17:00:00+02:00',\n",
       "                '2023-06-23 18:00:00+02:00', '2023-06-23 19:00:00+02:00',\n",
       "                '2023-06-23 20:00:00+02:00', '2023-06-23 21:00:00+02:00',\n",
       "                '2023-06-23 22:00:00+02:00', '2023-06-23 23:00:00+02:00'],\n",
       "               dtype='datetime64[ns, Europe/Oslo]', freq='H'),\n",
       " 'D_1')"
      ]
     },
     "execution_count": 44,
     "metadata": {},
     "output_type": "execute_result"
    }
   ],
   "source": [
    "get_possible_dates(pd.Timestamp(year=2023, month=6, day=22, hour=18, minute=0, tz = \"Europe/Oslo\"))"
   ]
  },
  {
   "cell_type": "markdown",
   "metadata": {},
   "source": [
    "#### The bids doesnt have to be for all hours within a day - can choose to bid for only chosen hours. There is no constraints due to anything but the market constraints. Can be for any number of hours within a day and dont have to be connected hours."
   ]
  },
  {
   "cell_type": "markdown",
   "metadata": {},
   "source": [
    "#### The strategy should probably be to bid for the hours where the expected value is highest. If a bid is accepted for an hour in a market it will not be able to bid for the same hour in another market."
   ]
  },
  {
   "cell_type": "code",
   "execution_count": 8,
   "metadata": {},
   "outputs": [],
   "source": [
    "def get_possible_bids(possible_hours, available_assets, possible_markets):\n",
    "    \"\"\" Function to find the possible bids for the given input hours, assets and markets. In this version the possible bids are constrained to be for every one of the 24 hours.\n",
    "\n",
    "    Args:\n",
    "        possible_hours (DateTimeIndex): list of the possible hours where bids can be placed\n",
    "        available_assets (list(new_meters.PowerMeter)): list of assets that are not bid in to other markets in the possible hours\n",
    "        possible_markets (list(final_markets.ReserveMarket)): _description_\n",
    "\n",
    "    Returns:\n",
    "        dict: dictionary with the possible bids for each market where the keys are tuples of the market name and the date and the values are tuples of the possible revenues and the assets that can bid in the market\n",
    "    \"\"\"\n",
    "    possible_bids = {}\n",
    "    date = possible_hours[0].day\n",
    "    for market in possible_markets:\n",
    "        if market.direction == \"up\":\n",
    "            possible_assets = [asset for asset in available_assets if asset.area == market.area and asset.direction != \"down\"]\n",
    "            possible_volumes = np.array([np.sum([asset.up_flex_volume[\"value\"].loc[asset.up_flex_volume[\"Time(Local)\"] == hour].values[0] for asset in possible_assets]) for hour in possible_hours]) \n",
    "            if (possible_volumes > market.min_volume).all(): # this\n",
    "                possible_prices = np.array([[market.price_data.loc[market.price_data[\"Time(Local)\"] == hour].values[0][1]] for hour in possible_hours]) # set of prices for markets\n",
    "                possible_revenues = np.sum(possible_prices * possible_volumes, axis = 1)\n",
    "                possible_bids[(market.name, date)] = (possible_revenues, possible_assets)\n",
    "        elif market.direction == \"down\":\n",
    "            possible_assets = [asset for asset in available_assets if asset.area == market.area and asset.direction != \"up\"]\n",
    "            possible_volumes = np.array([np.sum([asset.down_flex_volume[\"value\"].loc[asset.down_flex_volume[\"Time(Local)\"] == hour].values[0] for asset in possible_assets]) for hour in possible_hours]) \n",
    "            if (possible_volumes > market.min_volume).all():\n",
    "                possible_prices = np.array([[market.price_data.loc[market.price_data[\"Time(Local)\"] == hour].values[0][1]] for hour in possible_hours]) # set of prices for markets\n",
    "                possible_revenues = np.sum(possible_prices * possible_volumes, axis = 1)\n",
    "                possible_bids[(market.name, date)] = (possible_revenues, possible_assets)\n",
    "        else:\n",
    "            possible_assets = [asset for asset in available_assets if asset.area == market.area]\n",
    "            indices = [H.get_loc(ts) for ts in possible_hours]\n",
    "            directions = np.array(dominant_directions[indices[0]:indices[-1]+1])\n",
    "            mask_up = directions == \"up\"\n",
    "            mask_down = directions == \"down\"\n",
    "            possible_up_volumes = np.array([np.sum([asset.up_flex_volume[\"value\"].loc[asset.up_flex_volume[\"Time(Local)\"] == hour].values[0] if asset.direction != \"down\" else 0 for asset in possible_assets]) for hour in possible_hours]) \n",
    "            possible_down_volumes = np.array([np.sum([asset.down_flex_volume[\"value\"].loc[asset.down_flex_volume[\"Time(Local)\"] == hour].values[0] if asset.direction != \"up\" else 0 for asset in possible_assets]) for hour in possible_hours]) \n",
    "            #print(f\"possible_up_volumes: {possible_up_volumes}\")\n",
    "            #print(f\"possible_down_volumes: {possible_down_volumes}\")\n",
    "            possible_volumes = np.where(mask_up, possible_up_volumes, possible_down_volumes)\n",
    "            if (possible_volumes > market.min_volume).all():\n",
    "                possible_prices = np.array([[market.price_data.loc[market.price_data[\"Time(Local)\"] == hour].values[0][1]] for hour in possible_hours]) # set of prices for markets\n",
    "                possible_revenues = np.sum(possible_prices * possible_volumes, axis = 1)\n",
    "                possible_bids[(market.name, date)] = (possible_revenues, possible_assets)\n",
    "    return possible_bids\n",
    "    \n"
   ]
  },
  {
   "cell_type": "code",
   "execution_count": 9,
   "metadata": {},
   "outputs": [],
   "source": [
    "def get_expected_prices_for_hours(possible_hours : pd.Timestamp, area : str, direction : str):\n",
    "    \"\"\" Function to find the expected price for a given hour, area and direction. This function should be updated to be smarter in the future.\n",
    "\n",
    "    Args:\n",
    "        hour (pd.Timestamp): hour for which the expected price is calculated\n",
    "        area (str): area for which the expected price is calculated\n",
    "        direction (str): direction for which the expected price is calculated\n",
    "\n",
    "    Returns:\n",
    "        float: expected price for the given hour, area and direction\n",
    "    \"\"\"\n",
    "    markets_to_check = [market for market in markets_name_dict.values() if market.area == area and market.direction == direction]\n",
    "    return np.array([np.mean([market.price_data.loc[market.price_data[\"Time(Local)\"] == hour].values[0][1] for market in markets_to_check]) for hour in possible_hours])\n",
    "    "
   ]
  },
  {
   "cell_type": "code",
   "execution_count": 10,
   "metadata": {},
   "outputs": [
    {
     "data": {
      "text/plain": [
       "array([ 5.08333333,  1.66666667,  1.43333333,  1.43333333,  1.43333333,\n",
       "        6.38333333, 11.5       , 12.1       , 12.5       , 11.        ,\n",
       "       12.63333333, 12.62666667, 13.55      , 12.96666667, 12.56666667,\n",
       "       12.76666667, 11.5       , 11.31666667, 11.23333333, 11.21666667,\n",
       "       11.3       , 12.60333333, 12.395     , 11.73333333])"
      ]
     },
     "execution_count": 10,
     "metadata": {},
     "output_type": "execute_result"
    }
   ],
   "source": [
    "get_expected_prices_for_hours(H[0:24], \"NO1\", \"up\")"
   ]
  },
  {
   "cell_type": "code",
   "execution_count": 79,
   "metadata": {},
   "outputs": [],
   "source": [
    "def place_bids(possible_hours : [pd.Timestamp], available_assets : dict, market : final_markets.ReserveMarket):\n",
    "    \"\"\" Function to place bids for a given market and set of hours. The bids are placed for every hour in the set of hours. The bids are placed for the assets that are not already bid in to other markets in the given hours. The bids are placed for the assets that are compatible with the given market.\n",
    "\n",
    "    Args:\n",
    "        possible_hours (pd.Timestamp]): The time stamps for which the bids are placed\n",
    "        available_assets (dict): Dictionary with the available assets for each hour\n",
    "        market (final_markets.ReserveMarket): the market to be bid in to\n",
    "\n",
    "    Returns:\n",
    "        tuple (np.array, np.array): The possible revenue of the placed bids for each hour and the assets which are bid for each hour\n",
    "    \"\"\"\n",
    "    expected_prices = get_expected_prices_for_hours(possible_hours, market.area, market.direction)\n",
    "    hourly_assets = [available_assets[hour] for hour in possible_hours]\n",
    "    #print(f\"expected_pries: {expected_pries}\")\n",
    "    #print(f\"hourly_assets: {hourly_assets}\")\n",
    "    if market.direction == \"up\":\n",
    "        # check the compatibility for the assets\n",
    "        possible_assets = [[asset for asset in hourly_assets[h] if asset.area == market.area and asset.direction != \"down\"] for h in range(len(possible_hours))]\n",
    "        #print(f\"possible_assets: {possible_assets}\")\n",
    "        #get the volumes in the correct direction\n",
    "        possible_volumes = [sum([asset.up_flex_volume[\"value\"].loc[asset.up_flex_volume[\"Time(Local)\"] == hour].values[0] for asset in possible_assets[h]]) for h, hour in enumerate(possible_hours)]\n",
    "        possible_volumes = np.where(possible_volumes > [market.min_volume for _ in range(len(possible_volumes))], possible_volumes, 0)\n",
    "        # get the prices for the given market within the given hours\n",
    "        possible_prices = np.array([[market.price_data.loc[market.price_data[\"Time(Local)\"] == hour].values[0][1]] for hour in possible_hours]) # set of prices for markets\n",
    "        # Calculate the possible revenues\n",
    "        #print(f\"possible_volumes: {possible_volumes}\")\n",
    "        #print(f\"possible_prices: {possible_prices}\")\n",
    "        bids_to_be_made = np.where(possible_prices >= expected_prices, possible_prices, 0)\n",
    "        possible_revenues = np.sum(possible_volumes * bids_to_be_made, axis = 1)\n",
    "        # Place the bids in the dictionary\n",
    "        # Must add a better way to store the used assets to the bid\n",
    "        possible_assets = [assets if possible_revenues[index] > 0 else [] for index, assets in enumerate(possible_assets) ]     \n",
    "\n",
    "        return (possible_revenues,possible_assets)\n",
    "    elif market.direction == \"down\":\n",
    "        possible_assets = [[asset for asset in hourly_assets[h] if asset.area == market.area and asset.direction != \"up\"] for h in range(len(possible_hours))]\n",
    "        possible_volumes = [sum([asset.down_flex_volume[\"value\"].loc[asset.down_flex_volume[\"Time(Local)\"] == hour].values[0] for asset in possible_assets[h]]) for h, hour in enumerate(possible_hours)]\n",
    "        # all possible volumes has to be higher than the minimum volume for the market\n",
    "        possible_volumes = np.where(possible_volumes > [market.min_volume for _ in range(len(possible_volumes))], possible_volumes, 0)\n",
    "        possible_prices = np.array([[market.price_data.loc[market.price_data[\"Time(Local)\"] == hour].values[0][1]] for hour in possible_hours]) # set of prices for markets\n",
    "        bids_to_be_made = np.where(possible_prices >= expected_prices, possible_prices, 0)\n",
    "        possible_revenues = np.sum(possible_volumes * bids_to_be_made, axis = 1)  \n",
    "        possible_assets = [assets if possible_revenues[index] > 0 else [] for index, assets in enumerate(possible_assets)]     \n",
    "        return (possible_revenues, possible_assets)\n",
    "    else:\n",
    "        possible_assets = [[asset for asset in hourly_assets[h] if asset.area == market.area] for h in range(len(possible_hours))]\n",
    "        indices = [H.get_loc(ts) for ts in possible_hours]\n",
    "        directions = np.array(dominant_directions[indices[0]:indices[-1]+1])\n",
    "        mask_up = directions == \"up\"\n",
    "        mask_down = directions == \"down\"\n",
    "        possible_up_volumes = [sum([asset.up_flex_volume[\"value\"].loc[asset.up_flex_volume[\"Time(Local)\"] == hour].values[0] if asset.direction != \"down\" else 0 for asset in possible_assets[h]]) for h, hour in enumerate(possible_hours)]\n",
    "        possible_down_volumes = [sum([asset.down_flex_volume[\"value\"].loc[asset.down_flex_volume[\"Time(Local)\"] == hour].values[0] if asset.direction != \"up\" else 0 for asset in possible_assets[h]]) for h, hour in enumerate(possible_hours)]\n",
    "        #print(f\"possible_up_volumes: {possible_up_volumes}\")\n",
    "        #print(f\"possible_down_volumes: {possible_down_volumes}\")\n",
    "        possible_volumes = np.where(mask_up, possible_up_volumes, possible_down_volumes)\n",
    "        possible_volumes = np.where(possible_volumes > [market.min_volume for _ in range(len(possible_volumes))], possible_volumes, 0)\n",
    "        possible_prices = np.array([[market.price_data.loc[market.price_data[\"Time(Local)\"] == hour].values[0][1]] for hour in possible_hours]) # set of prices for markets\n",
    "        bids_to_be_made = np.where(possible_prices >= expected_prices, possible_prices, 0)\n",
    "        possible_revenues = np.sum(possible_volumes * bids_to_be_made, axis = 1)    \n",
    "        possible_assets = [assets if possible_revenues[index] > 0 else [] for index, assets in enumerate(possible_assets)]     \n",
    "    \n",
    "        return (possible_revenues, possible_assets)"
   ]
  },
  {
   "cell_type": "code",
   "execution_count": 80,
   "metadata": {},
   "outputs": [],
   "source": [
    "def get_possible_bids_unconstrained( H : [pd.Timestamp], L : [new_meters.PowerMeter], M : [final_markets.ReserveMarket]):\n",
    "    \"\"\" Function to find the possible bids for the given input hours, assets and markets. where the possible bids are not constrained to be for every one of the 24 hours.\n",
    "\n",
    "    Args:\n",
    "        H (DateTimeIndex): list of the possible hours where bids can be placed\n",
    "        L ([new_meters.PowerMeter]): list of all assets\n",
    "        M ([final_markets.ReserveMarket]): list of all markets\n",
    "\n",
    "    Returns:\n",
    "        dict: dictionary with the possible bids for each market where the keys are tuples of the market name and the date and the values are tuples of the possible revenues and the assets that can bid in the market\n",
    "    \"\"\"\n",
    "    bid_timeframe = H.append(pd.date_range(H[-1] + timedelta(hours=1), periods=48, freq='H', tz=\"Europe/Oslo\"))\n",
    "    available_assets = {hour: L.copy() for hour in bid_timeframe}\n",
    "    bids = {}\n",
    "    revenue = 0\n",
    "\n",
    "    for hour in H:\n",
    "        (possible_hours, market_name) = get_possible_dates(hour)\n",
    "        if len(possible_hours) != 24:\n",
    "            #print(f\"No bids for {hour}\")\n",
    "            #print(f\"possible_hours: {len(possible_hours)}\")\n",
    "            continue\n",
    "\n",
    "        possible_markets = [m for m in M if market_name in m.name]\n",
    "        for market in possible_markets:\n",
    "            (possible_revenues, possible_assets) = place_bids(market=market, available_assets=available_assets, possible_hours=possible_hours)\n",
    "            revenue += np.sum(possible_revenues)\n",
    "\n",
    "            for h, bid_hour in enumerate(possible_hours):\n",
    "                # Select assets with positive revenue for bidding\n",
    "                assets_to_bid = [asset for asset in possible_assets[h] if possible_revenues[h] > 0]\n",
    "                # Flatten the list if it's a list of lists\n",
    "                #assets_to_bid = [item for sublist in assets_to_bid for item in sublist]\n",
    "                # Store the bid information\n",
    "                bids[(market.name, bid_hour)] = [asset.meter_id for asset in assets_to_bid]\n",
    "                # Update available assets\n",
    "                available_assets[bid_hour] = [asset for asset in available_assets[bid_hour] if asset not in assets_to_bid]\n",
    "\n",
    "    return bids, revenue, available_assets\n",
    "            "
   ]
  },
  {
   "cell_type": "code",
   "execution_count": 81,
   "metadata": {},
   "outputs": [],
   "source": [
    "bids, revenue, av_assets  = get_possible_bids_unconstrained(H[:24], L, M)"
   ]
  },
  {
   "cell_type": "code",
   "execution_count": 88,
   "metadata": {},
   "outputs": [
    {
     "data": {
      "text/plain": [
       "133130.40874478003"
      ]
     },
     "execution_count": 88,
     "metadata": {},
     "output_type": "execute_result"
    }
   ],
   "source": [
    "revenue"
   ]
  },
  {
   "cell_type": "code",
   "execution_count": 82,
   "metadata": {},
   "outputs": [],
   "source": [
    "markets= [market[0] for market in bids.keys()]\n",
    "hours = [market[1] for market in bids.keys()]\n",
    "\n"
   ]
  },
  {
   "cell_type": "code",
   "execution_count": 83,
   "metadata": {},
   "outputs": [
    {
     "data": {
      "text/plain": [
       "30"
      ]
     },
     "execution_count": 83,
     "metadata": {},
     "output_type": "execute_result"
    }
   ],
   "source": [
    "len(set(markets))"
   ]
  },
  {
   "cell_type": "code",
   "execution_count": 84,
   "metadata": {},
   "outputs": [
    {
     "data": {
      "text/plain": [
       "48"
      ]
     },
     "execution_count": 84,
     "metadata": {},
     "output_type": "execute_result"
    }
   ],
   "source": [
    "len(set(hours))"
   ]
  },
  {
   "cell_type": "code",
   "execution_count": 85,
   "metadata": {},
   "outputs": [],
   "source": [
    "def feasibility_check(bids):\n",
    "    \"\"\" Function to check if the bids are feasible. The bids are feasible if there are no duplicates in the bids for each hour.\"\"\"\n",
    "    markets= set([market[0] for market in bids.keys()])\n",
    "    #print(f\"Markets: {markets}\")\n",
    "    hours = set([market[1] for market in bids.keys()])\n",
    "    #print(f\"Hours: {hours}\")\n",
    "    keys = list(bids.keys())\n",
    "    #print(f\"Keys: {keys}\")\n",
    "    hourly_assets = {}\n",
    "    for hour in hours:\n",
    "       # print(f\"Hour: {hour}\")\n",
    "        hourly_as_list = []\n",
    "        for market in markets:\n",
    "            #print(f\"Market: {market}\")\n",
    "            if (market, hour) in keys:\n",
    "                hourly_as_list.append(bids[(market, hour)])\n",
    "        # Add the flattened list to the dictionary\n",
    "        hourly_assets[hour] = [item for sublist in hourly_as_list for item in sublist]\n",
    "    \n",
    "    #print(hourly_assets)\n",
    "    for hour in hours:\n",
    "        if hourly_assets[hour] == []:\n",
    "            continue\n",
    "        else:\n",
    "            \"\"\"print(f\"Hour : {hour}\")\n",
    "            print(f\"type of hour object : {type(hour)}\")\n",
    "            print(f\"Hourly assets : {hourly_assets[hour]}\")\n",
    "            print(f\"length of hourly assets : {len(hourly_assets[hour])}\")\"\"\"\n",
    "            # check if there are duplicates\n",
    "            if len(hourly_assets[hour]) != len(set(hourly_assets[hour])) and hourly_assets[hour] != []:\n",
    "                print(f\"Duplicate assets in hour {hour}\")\n",
    "                # print the duplicates\n",
    "                print(f\"length of hourly assets : {len(hourly_assets[hour])}\")\n",
    "                print(f\"length of set of hourly assets : {len(set(hourly_assets[hour]))}\")\n",
    "                return False\n",
    "    return hourly_assets"
   ]
  },
  {
   "cell_type": "code",
   "execution_count": 86,
   "metadata": {},
   "outputs": [],
   "source": [
    "h_a = feasibility_check(bids)"
   ]
  },
  {
   "cell_type": "code",
   "execution_count": 87,
   "metadata": {},
   "outputs": [
    {
     "data": {
      "text/plain": [
       "[2171,\n",
       " 2171,\n",
       " 2171,\n",
       " 2171,\n",
       " 1661,\n",
       " 2171,\n",
       " 0,\n",
       " 2061,\n",
       " 2171,\n",
       " 1661,\n",
       " 2171,\n",
       " 1661,\n",
       " 1661,\n",
       " 1661,\n",
       " 1661,\n",
       " 2171,\n",
       " 2171,\n",
       " 2171,\n",
       " 1661,\n",
       " 2171,\n",
       " 2171,\n",
       " 2171,\n",
       " 400,\n",
       " 2171,\n",
       " 1894,\n",
       " 1661,\n",
       " 1661,\n",
       " 2171,\n",
       " 2171,\n",
       " 0,\n",
       " 1661,\n",
       " 1661,\n",
       " 2171,\n",
       " 2171,\n",
       " 2171,\n",
       " 2171,\n",
       " 1661,\n",
       " 2171,\n",
       " 400,\n",
       " 2171,\n",
       " 1661,\n",
       " 1661,\n",
       " 2171,\n",
       " 2171,\n",
       " 1661,\n",
       " 1661,\n",
       " 1661,\n",
       " 1661]"
      ]
     },
     "execution_count": 87,
     "metadata": {},
     "output_type": "execute_result"
    }
   ],
   "source": [
    "[len(h_a[h]) for h in set(hours)]"
   ]
  },
  {
   "cell_type": "code",
   "execution_count": null,
   "metadata": {},
   "outputs": [],
   "source": [
    "\"\"\"def feasibility_check(possible_bids):\n",
    "  # Initialize a dictionary to hold counts of integers for each timestamp\n",
    "    timestamp_counts = defaultdict(lambda: defaultdict(int))\n",
    "\n",
    "    # Iterate over the original dictionary to populate timestamp_counts\n",
    "    for (market, hour), assets in possible_bids.items():\n",
    "        if len(assets) == 0:\n",
    "            continue\n",
    "        for asset in assets:\n",
    "            timestamp_counts[hour][asset] += 1\n",
    "\n",
    "    # Identify common integers for each timestamp\n",
    "    for hour, counts in timestamp_counts.items():\n",
    "        common_assets = {asset.meter_id for asset, count in counts.items() if count > 1}\n",
    "        if common_assets:\n",
    "            print(f\"Common assets at hour {hour}: {common_assets}\")\n",
    "        else:\n",
    "            print(f\"No common assets at hour {hour}\")\"\"\"\n",
    "        \n",
    "   \n",
    "        "
   ]
  },
  {
   "cell_type": "code",
   "execution_count": null,
   "metadata": {},
   "outputs": [],
   "source": []
  }
 ],
 "metadata": {
  "kernelspec": {
   "display_name": "myenv",
   "language": "python",
   "name": "python3"
  },
  "language_info": {
   "codemirror_mode": {
    "name": "ipython",
    "version": 3
   },
   "file_extension": ".py",
   "mimetype": "text/x-python",
   "name": "python",
   "nbconvert_exporter": "python",
   "pygments_lexer": "ipython3",
   "version": "3.9.18"
  }
 },
 "nbformat": 4,
 "nbformat_minor": 2
}
