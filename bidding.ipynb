{
 "cells": [
  {
   "cell_type": "code",
   "execution_count": 1,
   "metadata": {},
   "outputs": [],
   "source": [
    "import gurobipy as gp\n",
    "import pandas as pd\n",
    "from code_map import final_markets, new_meters, utils, data_handling, timeframes\n",
    "import numpy as np\n",
    "from datetime import datetime, timedelta\n",
    "\n"
   ]
  },
  {
   "cell_type": "code",
   "execution_count": null,
   "metadata": {},
   "outputs": [],
   "source": [
    "L, M, F, H, freq_data, power_meter_dict, consumption_data, L_u, L_d, Fu_h_l, Fd_h_l, R_h_l, P_h_m, Vp_h_m, Vm_m, R_m, dominant_directions, Ir_hlm, Ia_hlm, Va_hm, compatible_list = data_handling.load_collections(\"./half_month_collections.pkl\")"
   ]
  },
  {
   "cell_type": "code",
   "execution_count": 5,
   "metadata": {},
   "outputs": [],
   "source": [
    "markets_name_dict = {market.name: market for market in M}\n",
    "market_names = list(markets_name_dict.keys())"
   ]
  },
  {
   "cell_type": "code",
   "execution_count": 14,
   "metadata": {},
   "outputs": [],
   "source": [
    "def find_previous_weekday(d, weekday):\n",
    "    days_behind = d.weekday() - weekday\n",
    "    if days_behind < 0: # Target day is in the previous week\n",
    "        days_behind += 7\n",
    "    return d - timedelta(days=days_behind)\n",
    "\n",
    "# Function to calculate the deadlines for a given input timestamp\n",
    "def calculate_deadlines_for_input(input_timestamp):\n",
    "    deadlines = {}\n",
    "\n",
    "    # RKOM uke: Friday the week before if on a weekday, otherwise Thursday the same week\n",
    "    if input_timestamp.weekday() < 5:  # Weekday\n",
    "        deadlines['RKOM uke Weekday'] = find_previous_weekday(input_timestamp - timedelta(days=7), 4)  # Previous Friday\n",
    "    else:  # Weekend\n",
    "        deadlines['RKOM uke Weekend'] = find_previous_weekday(input_timestamp, 3)  # Current Thursday\n",
    "\n",
    "    # FCR D-2: Two days before the input time at 17:30\n",
    "    deadlines['FCR D-2'] = datetime.combine(input_timestamp.date() - timedelta(days=2), datetime.strptime('17:30', '%H:%M').time())\n",
    "\n",
    "    # aFRR CM: One day before the input time at 07:30\n",
    "    deadlines['aFRR'] = datetime.combine(input_timestamp.date() - timedelta(days=1), datetime.strptime('07:30', '%H:%M').time())\n",
    "\n",
    "    # FCR D-1: One day before the input time at 18:00\n",
    "    deadlines['FCR D-1'] = datetime.combine(input_timestamp.date() - timedelta(days=1), datetime.strptime('18:00', '%H:%M').time())\n",
    "\n",
    "    # RK: 45 minutes before the input time\n",
    "    deadlines['RK'] = input_timestamp - timedelta(minutes=45)\n",
    "\n",
    "    return deadlines"
   ]
  },
  {
   "cell_type": "code",
   "execution_count": 24,
   "metadata": {},
   "outputs": [],
   "source": [
    "weekly_timeframe = utils.get_timestampstimeframes.one_week"
   ]
  },
  {
   "cell_type": "code",
   "execution_count": 22,
   "metadata": {},
   "outputs": [],
   "source": [
    "def make_bids_for_one_week(weekly_timeframe, L,M,H, freq_data, L_u, L_d, Fu_h_l, Fd_h_l, R_h_l, P_h_m, Vp_h_m, Vm_m, R_m):\n",
    "    \n",
    "    for h, hour in enumerate(list(weekly_timeframe)): #19-26.06.2023\n",
    "        deadlines = calculate_deadlines_for_input(hour)\n",
    "        print(deadlines)\n",
    "        \n",
    "        \n",
    "    \n",
    "    return None"
   ]
  },
  {
   "cell_type": "code",
   "execution_count": 23,
   "metadata": {},
   "outputs": [
    {
     "ename": "TypeError",
     "evalue": "'TimeFrame' object is not iterable",
     "output_type": "error",
     "traceback": [
      "\u001b[0;31m---------------------------------------------------------------------------\u001b[0m",
      "\u001b[0;31mTypeError\u001b[0m                                 Traceback (most recent call last)",
      "\u001b[1;32m/Users/sandermeland/Documents/Dokumenter – Sanders MacBook Air/UIB/Master/master-kode/bidding.ipynb Cell 13\u001b[0m line \u001b[0;36m1\n\u001b[0;32m----> <a href='vscode-notebook-cell:/Users/sandermeland/Documents/Dokumenter%20%E2%80%93%20Sanders%20MacBook%20Air/UIB/Master/master-kode/bidding.ipynb#X16sZmlsZQ%3D%3D?line=0'>1</a>\u001b[0m make_bids_for_one_week(weekly_timeframe, L,M,H, freq_data, L_u, L_d, Fu_h_l, Fd_h_l, R_h_l, P_h_m, Vp_h_m, Vm_m, R_m)\n",
      "\u001b[1;32m/Users/sandermeland/Documents/Dokumenter – Sanders MacBook Air/UIB/Master/master-kode/bidding.ipynb Cell 13\u001b[0m line \u001b[0;36m2\n\u001b[1;32m      <a href='vscode-notebook-cell:/Users/sandermeland/Documents/Dokumenter%20%E2%80%93%20Sanders%20MacBook%20Air/UIB/Master/master-kode/bidding.ipynb#X16sZmlsZQ%3D%3D?line=0'>1</a>\u001b[0m \u001b[39mdef\u001b[39;00m \u001b[39mmake_bids_for_one_week\u001b[39m(weekly_timeframe, L,M,H, freq_data, L_u, L_d, Fu_h_l, Fd_h_l, R_h_l, P_h_m, Vp_h_m, Vm_m, R_m):\n\u001b[0;32m----> <a href='vscode-notebook-cell:/Users/sandermeland/Documents/Dokumenter%20%E2%80%93%20Sanders%20MacBook%20Air/UIB/Master/master-kode/bidding.ipynb#X16sZmlsZQ%3D%3D?line=1'>2</a>\u001b[0m     \u001b[39mfor\u001b[39;00m h, hour \u001b[39min\u001b[39;00m \u001b[39menumerate\u001b[39m(\u001b[39mlist\u001b[39;49m(weekly_timeframe)): \u001b[39m#19-26.06.2023\u001b[39;00m\n\u001b[1;32m      <a href='vscode-notebook-cell:/Users/sandermeland/Documents/Dokumenter%20%E2%80%93%20Sanders%20MacBook%20Air/UIB/Master/master-kode/bidding.ipynb#X16sZmlsZQ%3D%3D?line=2'>3</a>\u001b[0m         deadlines \u001b[39m=\u001b[39m calculate_deadlines_for_input(hour)\n\u001b[1;32m      <a href='vscode-notebook-cell:/Users/sandermeland/Documents/Dokumenter%20%E2%80%93%20Sanders%20MacBook%20Air/UIB/Master/master-kode/bidding.ipynb#X16sZmlsZQ%3D%3D?line=3'>4</a>\u001b[0m         \u001b[39mprint\u001b[39m(deadlines)\n",
      "\u001b[0;31mTypeError\u001b[0m: 'TimeFrame' object is not iterable"
     ]
    }
   ],
   "source": [
    "make_bids_for_one_week(weekly_timeframe, L,M,H, freq_data, L_u, L_d, Fu_h_l, Fd_h_l, R_h_l, P_h_m, Vp_h_m, Vm_m, R_m)"
   ]
  },
  {
   "cell_type": "code",
   "execution_count": null,
   "metadata": {},
   "outputs": [],
   "source": []
  }
 ],
 "metadata": {
  "kernelspec": {
   "display_name": "myenv",
   "language": "python",
   "name": "python3"
  },
  "language_info": {
   "codemirror_mode": {
    "name": "ipython",
    "version": 3
   },
   "file_extension": ".py",
   "mimetype": "text/x-python",
   "name": "python",
   "nbconvert_exporter": "python",
   "pygments_lexer": "ipython3",
   "version": "3.9.18"
  }
 },
 "nbformat": 4,
 "nbformat_minor": 2
}
