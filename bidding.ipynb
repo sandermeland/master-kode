{
 "cells": [
  {
   "cell_type": "code",
   "execution_count": 2,
   "metadata": {},
   "outputs": [],
   "source": [
    "import gurobipy as gp\n",
    "import pandas as pd\n",
    "from code_map import final_markets, new_meters, utils, data_handling, timeframes\n",
    "import numpy as np\n",
    "from datetime import datetime, timedelta\n",
    "\n"
   ]
  },
  {
   "cell_type": "code",
   "execution_count": 3,
   "metadata": {},
   "outputs": [],
   "source": [
    "L, M, F, H, freq_data, power_meter_dict, consumption_data, L_u, L_d, Fu_h_l, Fd_h_l, R_h_l, P_h_m, Vp_h_m, Vm_m, R_m, dominant_directions, Ir_hlm, Ia_hlm, Va_hm, compatible_list = data_handling.load_collections(\"./half_month_collections.pkl\")"
   ]
  },
  {
   "cell_type": "code",
   "execution_count": 5,
   "metadata": {},
   "outputs": [
    {
     "name": "stdout",
     "output_type": "stream",
     "text": [
      "Amount of assets : 2189\n",
      "Amount of meters : 62\n",
      "Amount of hours : 408 and amount of days : 17.0\n"
     ]
    }
   ],
   "source": [
    "print(f\"Amount of assets : {len(L)}\")\n",
    "print(f\"Amount of meters : {len(M)}\")\n",
    "print(f\"Amount of hours : {len(H)} and amount of days : {len(H)/24}\")"
   ]
  },
  {
   "cell_type": "code",
   "execution_count": null,
   "metadata": {},
   "outputs": [],
   "source": [
    "markets_name_dict = {market.name: market for market in M}\n",
    "market_names = list(markets_name_dict.keys())"
   ]
  },
  {
   "cell_type": "code",
   "execution_count": null,
   "metadata": {},
   "outputs": [],
   "source": [
    "def find_previous_weekday(d, weekday):\n",
    "    days_behind = d.weekday() - weekday\n",
    "    if days_behind < 0: # Target day is in the previous week\n",
    "        days_behind += 7\n",
    "    return d - timedelta(days=days_behind)\n",
    "\n",
    "# Function to calculate the deadlines for a given input timestamp\n",
    "def calculate_deadlines_for_input(input_timestamp):\n",
    "    deadlines = {}\n",
    "\n",
    "    # RKOM uke: Friday the week before if on a weekday, otherwise Thursday the same week\n",
    "    if input_timestamp.weekday() < 5:  # Weekday\n",
    "        deadlines['RKOM uke Weekday'] = find_previous_weekday(input_timestamp - timedelta(days=7), 4)  # Previous Friday\n",
    "    else:  # Weekend\n",
    "        deadlines['RKOM uke Weekend'] = find_previous_weekday(input_timestamp, 3)  # Current Thursday\n",
    "\n",
    "    # FCR D-2: Two days before the input time at 17:30\n",
    "    deadlines['FCR D-2'] = datetime.combine(input_timestamp.date() - timedelta(days=2), datetime.strptime('17:30', '%H:%M').time())\n",
    "\n",
    "    # aFRR CM: One day before the input time at 07:30\n",
    "    deadlines['aFRR'] = datetime.combine(input_timestamp.date() - timedelta(days=1), datetime.strptime('07:30', '%H:%M').time())\n",
    "\n",
    "    # FCR D-1: One day before the input time at 18:00\n",
    "    deadlines['FCR D-1'] = datetime.combine(input_timestamp.date() - timedelta(days=1), datetime.strptime('18:00', '%H:%M').time())\n",
    "\n",
    "    # RK: 45 minutes before the input time\n",
    "    deadlines['RK'] = input_timestamp - timedelta(minutes=45)\n",
    "\n",
    "    return deadlines"
   ]
  },
  {
   "cell_type": "code",
   "execution_count": null,
   "metadata": {},
   "outputs": [],
   "source": [
    "type(H[3])"
   ]
  },
  {
   "cell_type": "code",
   "execution_count": null,
   "metadata": {},
   "outputs": [],
   "source": [
    "def get_possible_dates(date : pd.Timestamp):\n",
    "    \n",
    "    if date.hour == 17: # FCR D-2\n",
    "        return (pd.date_range(date + timedelta(days=1) + timedelta(hours=7), date + timedelta(days = 2) + timedelta(hours = 6), freq='H', tz = \"Europe/Oslo\"), \"D_2\")\n",
    "    elif date.hour == 7: # aFRR\n",
    "        return (pd.date_range(date + timedelta(hours = 17), date + timedelta(days = 1) + timedelta(hours = 16), freq='H', tz = \"Europe/Oslo\"), \"aFRR\")\n",
    "    elif date.hour == 18: # FCR D-1\n",
    "        return (pd.date_range(date + timedelta(hours=6), date + timedelta(days = 1) + timedelta(hours = 5), freq='H', tz = \"Europe/Oslo\"), \"D_1\")\n",
    "    else:\n",
    "        return ([], \"No bids\")\n",
    "    \n",
    "    \"\"\"elif date.day_of_week == 4: # friday\n",
    "        if date.hour == 12: #RKOM uke\n",
    "            # get hours from monday next week until friday next week\n",
    "            week_dates = pd.date_range(date + timedelta(days=2) + timedelta(hours = 12), periods = 5, freq = 'D', tz = \"Europe/Oslo\") #RKOM uke weekdays night\n",
    "            day_hours = [pd.Timestamp(year=date.year, month=date.month, day=date.day, hour=hour) for date in week_dates for hour in range(5, 24)]\n",
    "            night_hours = [pd.Timestamp(year=date.year, month=date.month, day=date.day, hour=hour) for date in week_dates for hour in range(0, 5)]\n",
    "            return ((day_hours, night_hours), (\"RKOM_uke weekday day\", \"RKOM_uke weekday night\"))\n",
    "        else:\n",
    "            return ([], \"No bids\")\n",
    "    elif date.day_of_week == 3: #thursday\n",
    "        if date.hour == 12:\n",
    "            week_dates = pd.date_range(date + timedelta(days=1), periods = 2, freq='D', tz = \"Europe/Oslo\") #RKOM uke weekend night\n",
    "            day_hours = [pd.Timestamp(year=date.year, month=date.month, day=date.day, hour=hour) for date in week_dates for hour in range(5, 24)]\n",
    "            night_hours = [pd.Timestamp(year=date.year, month=date.month, day=date.day, hour=hour) for date in week_dates for hour in range(0, 5)]\n",
    "            return ((day_hours, night_hours), (\"RKOM_uke weekend day\", \"RKOM_uke weekend night\"))\n",
    "        else:\n",
    "            return ([], \"No bids\")\"\"\""
   ]
  },
  {
   "cell_type": "code",
   "execution_count": null,
   "metadata": {},
   "outputs": [],
   "source": [
    "H[0].day"
   ]
  },
  {
   "cell_type": "markdown",
   "metadata": {},
   "source": [
    "#### The bids doesnt have to be for all hours within a day - can choose to bid for only chosen hours. There is no constraints due to anything but the market constraints. Can be for any number of hours within a day and dont have to be connected hours."
   ]
  },
  {
   "cell_type": "markdown",
   "metadata": {},
   "source": [
    "#### The strategy should probably be to bid for the hours where the expected value is highest. If a bid is accepted for an hour in a market it will not be able to bid for the same hour in another market."
   ]
  },
  {
   "cell_type": "code",
   "execution_count": null,
   "metadata": {},
   "outputs": [],
   "source": []
  },
  {
   "cell_type": "code",
   "execution_count": null,
   "metadata": {},
   "outputs": [],
   "source": [
    "def get_possible_bids(possible_hours, available_assets, possible_markets):\n",
    "    \"\"\" Function to find the possible bids for the given input hours, assets and markets. In this version the possible bids are constrained to be for every one of the 24 hours.\n",
    "\n",
    "    Args:\n",
    "        possible_hours (DateTimeIndex): list of the possible hours where bids can be placed\n",
    "        available_assets (list(new_meters.PowerMeter)): list of assets that are not bid in to other markets in the possible hours\n",
    "        possible_markets (list(final_markets.ReserveMarket)): _description_\n",
    "\n",
    "    Returns:\n",
    "        dict: dictionary with the possible bids for each market where the keys are tuples of the market name and the date and the values are tuples of the possible revenues and the assets that can bid in the market\n",
    "    \"\"\"\n",
    "    possible_bids = {}\n",
    "    date = possible_hours[0].day\n",
    "    for market in possible_markets:\n",
    "        if market.direction == \"up\":\n",
    "            possible_assets = [asset for asset in available_assets if asset.area == market.area and asset.direction != \"down\"]\n",
    "            possible_volumes = np.array([np.sum([asset.up_flex_volume[\"value\"].loc[asset.up_flex_volume[\"Time(Local)\"] == hour].values[0] for asset in possible_assets]) for hour in possible_hours]) \n",
    "            if (possible_volumes > market.min_volume).all(): # this\n",
    "                possible_prices = np.array([[market.price_data.loc[market.price_data[\"Time(Local)\"] == hour].values[0][1]] for hour in possible_hours]) # set of prices for markets\n",
    "                possible_revenues = np.sum(possible_prices * possible_volumes, axis = 1)\n",
    "                possible_bids[(market.name, date)] = (possible_revenues, possible_assets)\n",
    "        elif market.direction == \"down\":\n",
    "            possible_assets = [asset for asset in available_assets if asset.area == market.area and asset.direction != \"up\"]\n",
    "            possible_volumes = np.array([np.sum([asset.down_flex_volume[\"value\"].loc[asset.down_flex_volume[\"Time(Local)\"] == hour].values[0] for asset in possible_assets]) for hour in possible_hours]) \n",
    "            if (possible_volumes > market.min_volume).all():\n",
    "                possible_prices = np.array([[market.price_data.loc[market.price_data[\"Time(Local)\"] == hour].values[0][1]] for hour in possible_hours]) # set of prices for markets\n",
    "                possible_revenues = np.sum(possible_prices * possible_volumes, axis = 1)\n",
    "                possible_bids[(market.name, date)] = (possible_revenues, possible_assets)\n",
    "        else:\n",
    "            possible_assets = [asset for asset in available_assets if asset.area == market.area]\n",
    "            indices = [H.get_loc(ts) for ts in possible_hours]\n",
    "            directions = np.array(dominant_directions[indices[0]:indices[-1]+1])\n",
    "            mask_up = directions == \"up\"\n",
    "            mask_down = directions == \"down\"\n",
    "            possible_up_volumes = np.array([np.sum([asset.up_flex_volume[\"value\"].loc[asset.up_flex_volume[\"Time(Local)\"] == hour].values[0] if asset.direction != \"down\" else 0 for asset in possible_assets]) for hour in possible_hours]) \n",
    "            possible_down_volumes = np.array([np.sum([asset.down_flex_volume[\"value\"].loc[asset.down_flex_volume[\"Time(Local)\"] == hour].values[0] if asset.direction != \"up\" else 0 for asset in possible_assets]) for hour in possible_hours]) \n",
    "            #print(f\"possible_up_volumes: {possible_up_volumes}\")\n",
    "            #print(f\"possible_down_volumes: {possible_down_volumes}\")\n",
    "            possible_volumes = np.where(mask_up, possible_up_volumes, possible_down_volumes)\n",
    "            if (possible_volumes > market.min_volume).all():\n",
    "                possible_prices = np.array([[market.price_data.loc[market.price_data[\"Time(Local)\"] == hour].values[0][1]] for hour in possible_hours]) # set of prices for markets\n",
    "                possible_revenues = np.sum(possible_prices * possible_volumes, axis = 1)\n",
    "                possible_bids[(market.name, date)] = (possible_revenues, possible_assets)\n",
    "    return possible_bids\n",
    "    \n"
   ]
  },
  {
   "cell_type": "code",
   "execution_count": null,
   "metadata": {},
   "outputs": [],
   "source": [
    "def place_bids(market, available_assets, possible_hours ):\n",
    "    if market.direction == \"up\":\n",
    "        # check the compatibility for the assets\n",
    "        possible_assets = [asset for asset in available_assets if asset.area == market.area and asset.direction != \"down\"]\n",
    "        #get the volumes in the correct direction\n",
    "        possible_volumes = np.array([np.sum([asset.up_flex_volume[\"value\"].loc[asset.up_flex_volume[\"Time(Local)\"] == hour].values[0] for asset in possible_assets]) for hour in possible_hours]) \n",
    "        # get the prices for the given market within the given hours\n",
    "        \n",
    "        possible_prices = np.array([[market.price_data.loc[market.price_data[\"Time(Local)\"] == hour].values[0][1]] for hour in possible_hours]) # set of prices for markets\n",
    "        # Calculate the possible revenues\n",
    "        possible_revenues = np.sum(possible_prices * possible_volumes, axis = 1)\n",
    "        # Place the bids in the dictionary\n",
    "        return (possible_revenues, possible_assets)\n",
    "    elif market.direction == \"down\":\n",
    "        possible_assets = [asset for asset in available_assets if asset.area == market.area and asset.direction != \"up\"]\n",
    "        possible_volumes = np.array([np.sum([asset.down_flex_volume[\"value\"].loc[asset.down_flex_volume[\"Time(Local)\"] == hour].values[0] for asset in possible_assets]) for hour in possible_hours]) \n",
    "        possible_prices = np.array([[market.price_data.loc[market.price_data[\"Time(Local)\"] == hour].values[0][1]] for hour in possible_hours]) # set of prices for markets\n",
    "        possible_revenues = np.sum(possible_prices * possible_volumes, axis = 1)\n",
    "        return (possible_revenues, possible_assets)\n",
    "    else:\n",
    "        possible_assets = [asset for asset in available_assets if asset.area == market.area]\n",
    "        indices = [H.get_loc(ts) for ts in possible_hours]\n",
    "        directions = np.array(dominant_directions[indices[0]:indices[-1]+1])\n",
    "        mask_up = directions == \"up\"\n",
    "        mask_down = directions == \"down\"\n",
    "        possible_up_volumes = np.array([np.sum([asset.up_flex_volume[\"value\"].loc[asset.up_flex_volume[\"Time(Local)\"] == hour].values[0] if asset.direction != \"down\" else 0 for asset in possible_assets]) for hour in possible_hours]) \n",
    "        possible_down_volumes = np.array([np.sum([asset.down_flex_volume[\"value\"].loc[asset.down_flex_volume[\"Time(Local)\"] == hour].values[0] if asset.direction != \"up\" else 0 for asset in possible_assets]) for hour in possible_hours]) \n",
    "        #print(f\"possible_up_volumes: {possible_up_volumes}\")\n",
    "        #print(f\"possible_down_volumes: {possible_down_volumes}\")\n",
    "        possible_volumes = np.where(mask_up, possible_up_volumes, possible_down_volumes)\n",
    "        possible_prices = np.array([[market.price_data.loc[market.price_data[\"Time(Local)\"] == hour].values[0][1]] for hour in possible_hours]) # set of prices for markets\n",
    "        possible_revenues = np.sum(possible_prices * possible_volumes, axis = 1)\n",
    "        return (possible_revenues, possible_assets)"
   ]
  },
  {
   "cell_type": "code",
   "execution_count": null,
   "metadata": {},
   "outputs": [],
   "source": []
  },
  {
   "cell_type": "code",
   "execution_count": null,
   "metadata": {},
   "outputs": [],
   "source": [
    "def get_possible_bids_unconstrained(possible_hours : [pd.Timestamp], available_assets : [new_meters.PowerMeter], possible_markets : [final_markets.ReserveMarket]):\n",
    "    \"\"\" Function to find the possible bids for the given input hours, assets and markets. where the possible bids are not constrained to be for every one of the 24 hours.\n",
    "\n",
    "    Args:\n",
    "        possible_hours (DateTimeIndex): list of the possible hours where bids can be placed\n",
    "        available_assets ([new_meters.PowerMeter]): list of assets that are not bid in to other markets in the possible hours\n",
    "        possible_markets ([final_markets.ReserveMarket]): _description_\n",
    "\n",
    "    Returns:\n",
    "        dict: dictionary with the possible bids for each market where the keys are tuples of the market name and the date and the values are tuples of the possible revenues and the assets that can bid in the market\n",
    "    \"\"\"\n",
    "    possible_bids = {}\n",
    "    date = possible_hours[0].day\n",
    "    for market in possible_markets:\n",
    "        possible_bids[(market.name, date)] = place_bids(possible_hours, available_assets, market)\n",
    "    return possible_bids"
   ]
  },
  {
   "cell_type": "code",
   "execution_count": 118,
   "metadata": {},
   "outputs": [
    {
     "data": {
      "text/plain": [
       "Timestamp('2023-06-14 03:00:00+0200', tz='Europe/Oslo')"
      ]
     },
     "execution_count": 118,
     "metadata": {},
     "output_type": "execute_result"
    }
   ],
   "source": [
    "H[3]"
   ]
  },
  {
   "cell_type": "code",
   "execution_count": 119,
   "metadata": {},
   "outputs": [],
   "source": [
    "bid_hours, market_name = get_possible_dates(H[7])"
   ]
  },
  {
   "cell_type": "code",
   "execution_count": 121,
   "metadata": {},
   "outputs": [
    {
     "data": {
      "text/plain": [
       "\"DatetimeIndex(['2023-06-15 00:00:00+02:00', '2023-06-15 01:00:00+02:00',\\n               '2023-06-15 02:00:00+02:00', '2023-06-15 03:00:00+02:00',\\n               '2023-06-15 04:00:00+02:00', '2023-06-15 05:00:00+02:00',\\n               '2023-06-15 06:00:00+02:00', '2023-06-15 07:00:00+02:00',\\n               '2023-06-15 08:00:00+02:00', '2023-06-15 09:00:00+02:00',\\n               '2023-06-15 10:00:00+02:00', '2023-06-15 11:00:00+02:00',\\n               '2023-06-15 12:00:00+02:00', '2023-06-15 13:00:00+02:00',\\n               '2023-06-15 14:00:00+02:00', '2023-06-15 15:00:00+02:00',\\n               '2023-06-15 16:00:00+02:00', '2023-06-15 17:00:00+02:00',\\n               '2023-06-15 18:00:00+02:00', '2023-06-15 19:00:00+02:00',\\n               '2023-06-15 20:00:00+02:00', '2023-06-15 21:00:00+02:00',\\n               '2023-06-15 22:00:00+02:00', '2023-06-15 23:00:00+02:00'],\\n              dtype='datetime64[ns, Europe/Oslo]', freq='H')\""
      ]
     },
     "execution_count": 121,
     "metadata": {},
     "output_type": "execute_result"
    }
   ],
   "source": [
    "str(bid_hours)"
   ]
  },
  {
   "cell_type": "code",
   "execution_count": 131,
   "metadata": {},
   "outputs": [],
   "source": [
    "def make_bids_for_one_week(L,M,H):\n",
    "    \"\"\" Function to make bids for one week. \n",
    "    The function iterates through the hours in the week and finds the possible bids for each hour. \n",
    "    The function then chooses the bid with the highest revenue and adds it to the list of bids. \n",
    "    The function also keeps track of the assets that are active in their respective markets for the respective time period.\n",
    "   \n",
    "\n",
    "    Args:\n",
    "        L (list(new_meters.PowerMeter)): _description_\n",
    "        M (list(final_markets.ReserveMarket)): _description_\n",
    "        H (_type_): _description_\n",
    "\n",
    "    Returns:\n",
    "        _type_: _description_\n",
    "    \"\"\"\n",
    "    #unactive_assets = L.copy()\n",
    "    active_assets = {}\n",
    "    revenue = 0\n",
    "    active_bids = {}\n",
    "    bid_list = []\n",
    "    for hour in list(H)[:168]: #19-26.06.2023\n",
    "        bid_hours, market_name = get_possible_dates(hour)\n",
    "        if len(bid_hours) == 0:\n",
    "            continue\n",
    "        else:\n",
    "            possible_markets = [m for m in M if market_name in m.name]\n",
    "            #print(f\"Possible markets: {[m.name for m in possible_markets]}\")\n",
    "            if str(bid_hours) in active_assets.keys():\n",
    "                possible_assets = [asset for asset in L if asset not in active_assets[str(bid_hours)]]\n",
    "            else:\n",
    "                possible_assets = [asset for asset in L]\n",
    "                \n",
    "            possible_bids = get_possible_bids(bid_hours, possible_assets, possible_markets)\n",
    "            # possible_bids is a dictionary with keys (market_name, date) and values (possible_revenues, possible_assets)\n",
    "            if len(possible_bids) > 1:\n",
    "                revenues = [sum(possible_bids[key][0]) for key in possible_bids.keys()]\n",
    "                print(f\"revenues: {revenues}\")\n",
    "                best_bid_revenue = max(revenues)\n",
    "                #bid_list.append(best_bid)\n",
    "                revenue += best_bid_revenue\n",
    "                best_bid_key = list(possible_bids.keys())[revenues.index(best_bid_revenue)]\n",
    "                best_bid_assets = possible_bids[best_bid_key][1]\n",
    "                active_bids[best_bid_key] = best_bid_assets\n",
    "                active_assets[str(bid_hours)] = best_bid_assets\n",
    "                #unactive_assets = [asset for asset in unactive_assets if asset not in best_bid_assets]\n",
    "                #print(f\"active assets : { active_assets}\")\n",
    "            elif len(possible_bids) == 1:\n",
    "                #bid_list.append(possible_bids[list(possible_bids.keys())[0]][0])\n",
    "                print(\"revenue to take sum on : \", possible_bids[list(possible_bids.keys())[0]][0])\n",
    "                revenue += sum(possible_bids[list(possible_bids.keys())[0]][0])\n",
    "                best_bid_key = list(possible_bids.keys())[0]\n",
    "                best_bid_assets = possible_bids[best_bid_key][1]\n",
    "                active_bids[best_bid_key] = best_bid_assets\n",
    "                active_assets[str(bid_hours)] = best_bid_assets\n",
    "                #unactive_assets = [asset for asset in unactive_assets if asset not in best_bid_assets]\n",
    "            else:\n",
    "                continue\n",
    "    return bid_list, revenue, active_bids, active_assets"
   ]
  },
  {
   "cell_type": "code",
   "execution_count": 132,
   "metadata": {},
   "outputs": [
    {
     "name": "stdout",
     "output_type": "stream",
     "text": [
      "revenues: [34792.61560481999, 51400.56588749998]\n",
      "revenues: [0.0, 0.0, 51374.372821199984]\n",
      "revenue to take sum on :  [ 943.41044       0.            0.            0.            0.\n",
      " 1275.49091488 1347.7292     1364.44104208 1364.44104208  943.41044\n",
      "  943.41044     943.41044    1288.4291152  1288.4291152  1288.4291152\n",
      " 1132.092528    943.41044     943.41044     943.41044     943.41044\n",
      "  943.41044     889.501272    808.63752     835.592104  ]\n",
      "revenues: [0.0, 51434.88181624999]\n",
      "revenues: [24824.536052940006, 32288.613687449997]\n",
      "revenues: [0.0, 74174.27187963]\n",
      "revenues: [0.0, 0.0, 31851.939204]\n",
      "revenue to take sum on :  [ 980.89068      0.           0.           0.           0.\n",
      " 1128.024282  1078.979748  1078.979748  1078.979748   980.89068\n",
      "  980.89068   1005.412947  1078.979748  1078.979748  1078.979748\n",
      "  985.7951334  980.89068    882.801612   882.801612   882.801612\n",
      "  882.801612   882.801612   882.801612   980.89068  ]\n",
      "revenues: [0.0, 24080.0633682]\n",
      "revenues: [20934.523230040006, 34444.9111392]\n",
      "revenues: [0.0, 28471.435685039985]\n",
      "revenues: [0.0, 0.0, 19580.276000880003, 33233.99510171999]\n"
     ]
    }
   ],
   "source": [
    "bl, rev, ab = make_bids_for_one_week(L,M,H)"
   ]
  },
  {
   "cell_type": "code",
   "execution_count": 137,
   "metadata": {},
   "outputs": [],
   "source": [
    "print(7)"
   ]
  },
  {
   "cell_type": "code",
   "execution_count": null,
   "metadata": {},
   "outputs": [],
   "source": []
  }
 ],
 "metadata": {
  "kernelspec": {
   "display_name": "myenv",
   "language": "python",
   "name": "python3"
  },
  "language_info": {
   "codemirror_mode": {
    "name": "ipython",
    "version": 3
   },
   "file_extension": ".py",
   "mimetype": "text/x-python",
   "name": "python",
   "nbconvert_exporter": "python",
   "pygments_lexer": "ipython3",
   "version": "3.9.18"
  }
 },
 "nbformat": 4,
 "nbformat_minor": 2
}
