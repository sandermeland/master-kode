{
 "cells": [
  {
   "cell_type": "code",
   "execution_count": 1,
   "metadata": {},
   "outputs": [],
   "source": [
    "import gurobipy as gp\n",
    "import pandas as pd\n",
    "from code_map import final_markets, new_meters, utils, data_handling, timeframes\n",
    "import numpy as np\n",
    "from datetime import datetime, timedelta\n",
    "from collections import defaultdict, Counter\n",
    "\n"
   ]
  },
  {
   "cell_type": "code",
   "execution_count": 2,
   "metadata": {},
   "outputs": [],
   "source": [
    "L, M, F, H, freq_data, power_meter_dict, consumption_data, L_u, L_d, Fu_h_l, Fd_h_l, R_h_l, P_h_m, Vp_h_m, Vm_m, R_m, dominant_directions, Ir_hlm, Ia_hlm, Va_hm, compatible_list = data_handling.load_collections(\"./half_month_collections.pkl\")"
   ]
  },
  {
   "cell_type": "code",
   "execution_count": 3,
   "metadata": {},
   "outputs": [],
   "source": [
    "markets_name_dict = {market.name: market for market in M}\n",
    "market_names = list(markets_name_dict.keys())"
   ]
  },
  {
   "cell_type": "code",
   "execution_count": 20,
   "metadata": {},
   "outputs": [],
   "source": [
    "def get_compatibility_dict(L : [new_meters.PowerMeter], M : [final_markets.ReserveMarket]):\n",
    "    \"\"\" function to get a dict of compatible markets for each asset\n",
    "\n",
    "    Args:\n",
    "        H (list(pd.TimeStamp)): list of hourly timestamps within the timeframe\n",
    "        L (list(PowerMeter)): list of powermeter objects with the data for each meter within the timeframe\n",
    "        M (list(ReserveMarket)): list of reservemarket objects with the data for each market within the timeframe\n",
    "\n",
    "    Returns:\n",
    "        dict: list of compatible loads for each market\n",
    "    \"\"\"\n",
    "    compatible_dict = {}\n",
    "    for market in M:\n",
    "        #print(type(market))\n",
    "        asset_list = []\n",
    "        for asset in L:\n",
    "            if asset.response_time <= market.response_time and market.area == asset.area:\n",
    "                if market.direction == \"up\":\n",
    "                    if asset.direction != \"down\":\n",
    "                        asset_list.append(asset)\n",
    "                elif market.direction == \"down\":\n",
    "                    if asset.direction != \"up\":\n",
    "                        asset_list.append(asset)\n",
    "                else:\n",
    "                        asset_list.append(asset)\n",
    "            \n",
    "        compatible_dict[market] = asset_list\n",
    "    return compatible_dict\n"
   ]
  },
  {
   "cell_type": "code",
   "execution_count": 21,
   "metadata": {},
   "outputs": [],
   "source": [
    "compatible_dict = get_compatibility_dict(L = L ,M = M)"
   ]
  },
  {
   "cell_type": "code",
   "execution_count": 22,
   "metadata": {},
   "outputs": [
    {
     "data": {
      "text/plain": [
       "'RK_up_NO5'"
      ]
     },
     "execution_count": 22,
     "metadata": {},
     "output_type": "execute_result"
    }
   ],
   "source": [
    "M[36].name"
   ]
  },
  {
   "cell_type": "code",
   "execution_count": 23,
   "metadata": {},
   "outputs": [
    {
     "data": {
      "text/plain": [
       "889"
      ]
     },
     "execution_count": 23,
     "metadata": {},
     "output_type": "execute_result"
    }
   ],
   "source": [
    "len(compatible_dict[M[26]])"
   ]
  },
  {
   "cell_type": "code",
   "execution_count": 24,
   "metadata": {},
   "outputs": [],
   "source": [
    "def get_possible_dates(date : pd.Timestamp):\n",
    "    \"\"\" Function to get the possible dates for placing a bid given the current date\n",
    "\n",
    "    Args:\n",
    "        date (pd.Timestamp): the current date\n",
    "\n",
    "    Returns:\n",
    "        (pd.date_range, str): the possible dates for placing a bid and for which market\n",
    "    \"\"\"\n",
    "    if date.hour == 17: # FCR D-2\n",
    "        return (pd.date_range(date + timedelta(days=1) + timedelta(hours=7), date + timedelta(days = 2) + timedelta(hours = 6), freq='H', tz = \"Europe/Oslo\"), \"D_2\")\n",
    "    elif date.hour == 7: # aFRR\n",
    "        return (pd.date_range(date + timedelta(hours = 17), date + timedelta(days = 1) + timedelta(hours = 16), freq='H', tz = \"Europe/Oslo\"), \"aFRR\")\n",
    "    elif date.hour == 18: # FCR D-1\n",
    "        return (pd.date_range(date + timedelta(hours=6), date + timedelta(days = 1) + timedelta(hours = 5), freq='H', tz = \"Europe/Oslo\"), \"D_1\")\n",
    "    else:\n",
    "        return ([], \"No bids\")"
   ]
  },
  {
   "cell_type": "code",
   "execution_count": 25,
   "metadata": {},
   "outputs": [],
   "source": [
    "def get_expected_prices_for_hours(possible_hours : pd.Timestamp, area : str, direction : str):\n",
    "    \"\"\" Function to find the expected price for a given hour, area and direction. This function should be updated to be smarter in the future.\n",
    "\n",
    "    Args:\n",
    "        hour (pd.Timestamp): hour for which the expected price is calculated\n",
    "        area (str): area for which the expected price is calculated\n",
    "        direction (str): direction for which the expected price is calculated\n",
    "\n",
    "    Returns:\n",
    "        float: expected price for the given hour, area and direction\n",
    "    \"\"\"\n",
    "    markets_to_check = [market for market in markets_name_dict.values() if market.area == area and market.direction == direction]\n",
    "    return np.array([np.mean([market.price_data.loc[market.price_data[\"Time(Local)\"] == hour].values[0][1] for market in markets_to_check]) for hour in possible_hours])\n",
    "    "
   ]
  },
  {
   "cell_type": "code",
   "execution_count": 60,
   "metadata": {},
   "outputs": [],
   "source": [
    "def check_constraints(possible_assets : [[new_meters.PowerMeter]], possible_hours : [pd.Timestamp], possible_volumes : np.array, expected_prices : np.array, market : final_markets.ReserveMarket):\n",
    "            \n",
    "    max_vol = [market.volume_data.loc[market.volume_data[\"Time(Local)\"] == hour].values[0][1] for hour in possible_hours] # set of volumes for markets\n",
    "    constrained_vols = [vol if vol >= market.min_volume and vol < max_vol[index] else 0 for index, vol in enumerate(possible_volumes)] #works\n",
    "    # get the prices for the given market within the given hours\n",
    "    possible_prices = [market.price_data.loc[market.price_data[\"Time(Local)\"] == hour].values[0][1] for hour in possible_hours] # set of prices for markets\n",
    "    # Calculate the possible revenues\n",
    "    \"\"\"print(f\"possible_prices in function : {possible_prices}\")\n",
    "    print(f\"expected_prices in function : {expected_prices}\")\"\"\"\n",
    "    bids_to_be_made = np.where(possible_prices >= expected_prices, possible_prices, 0)\n",
    "    \"\"\"print(f\"bids_to_be_made in function : {bids_to_be_made}\")\n",
    "    print(f\"possible_volumes in function : {constrained_vols}\")\"\"\"\n",
    "    possible_revenues = constrained_vols * bids_to_be_made\n",
    "    \n",
    "    #print(f\"possible_revenues in function : {possible_revenues}\")\n",
    "    possible_assets = [assets if possible_revenues[index] > 0 else [] for index, assets in enumerate(possible_assets)]\n",
    "    #print(f\"possible_assets in function : {possible_assets}\")\n",
    "    return possible_revenues, possible_assets"
   ]
  },
  {
   "cell_type": "code",
   "execution_count": 61,
   "metadata": {},
   "outputs": [],
   "source": [
    "def place_bids(possible_hours : [pd.Timestamp], available_assets : dict, market : final_markets.ReserveMarket):\n",
    "    \"\"\" Function to place bids for a given market and set of hours. The bids are placed for every hour in the set of hours. The bids are placed for the assets that are not already bid in to other markets in the given hours. The bids are placed for the assets that are compatible with the given market.\n",
    "\n",
    "    Args:\n",
    "        possible_hours (pd.Timestamp]): The time stamps for which the bids are placed\n",
    "        available_assets (dict): Dictionary with the available assets for each hour\n",
    "        market (final_markets.ReserveMarket): the market to be bid in to\n",
    "\n",
    "    Returns:\n",
    "        tuple (np.array, np.array): The possible revenue of the placed bids for each hour and the assets which are bid for each hour\n",
    "    \"\"\"\n",
    "    expected_prices = get_expected_prices_for_hours(possible_hours, market.area, market.direction)\n",
    "    hourly_assets = [available_assets[hour] for hour in possible_hours]\n",
    "    possible_assets = [[asset for asset in hourly_assets[h] if asset in compatible_dict[market]] for h in range(len(possible_hours))]\n",
    "\n",
    "    #print(f\"expected_pries: {expected_prices}\")\n",
    "    \"\"\"print(f\"hourly_assets: {hourly_assets}\")\n",
    "    print(f\"possible_assets: {len(possible_assets)}\")\"\"\"\n",
    "    if market.direction == \"up\":\n",
    "        # check the compatibility for the assets\n",
    "        possible_volumes = [sum([asset.up_flex_volume[\"value\"].loc[asset.up_flex_volume[\"Time(Local)\"] == hour].values[0] for asset in possible_assets[h]]) for h, hour in enumerate(possible_hours)]\n",
    "        #print(f\"possible_volumes: {possible_volumes}\")\n",
    "        possible_revenues, possible_assets = check_constraints(possible_assets, possible_hours,possible_volumes,  expected_prices, market)\n",
    "    elif market.direction == \"down\":\n",
    "        possible_volumes = [sum([asset.down_flex_volume[\"value\"].loc[asset.down_flex_volume[\"Time(Local)\"] == hour].values[0] for asset in possible_assets[h]]) for h, hour in enumerate(possible_hours)]\n",
    "        #print(f\"possible_volumes: {possible_volumes}\")\n",
    "\n",
    "        possible_revenues, possible_assets = check_constraints(possible_assets, possible_hours, possible_volumes, expected_prices, market)\n",
    "    else:        \n",
    "        possible_up_volumes = [sum([asset.up_flex_volume[\"value\"].loc[asset.up_flex_volume[\"Time(Local)\"] == hour].values[0] if asset.direction != \"down\" else 0 for asset in possible_assets[h]]) for h, hour in enumerate(possible_hours)]\n",
    "        possible_down_volumes = [sum([asset.down_flex_volume[\"value\"].loc[asset.down_flex_volume[\"Time(Local)\"] == hour].values[0] if asset.direction != \"up\" else 0 for asset in possible_assets[h]]) for h, hour in enumerate(possible_hours)]\n",
    "        #print(f\"possible_up_volumes: {possible_up_volumes}\")\n",
    "        #print(f\"possible_down_volumes: {possible_down_volumes}\")\n",
    "        # possible volumes should be != 0 if both up and down volume is higher than min_volume. If both vols are higher than min_volume, then the actuale volume should be decided by the dominant direction\n",
    "        indices = [H.get_loc(ts) for ts in possible_hours]\n",
    "        directions = np.array(dominant_directions[indices[0]:indices[-1]+1])\n",
    "        actual_volumes = np.where(directions == \"up\", possible_up_volumes, possible_down_volumes)\n",
    "        #print(f\"actual_volumes: {actual_volumes}\")\n",
    "        # Find the hours where both up and down volume is higher than min_volume\n",
    "        possible_volumes = [actual_volumes[h] if possible_up_volumes[h] >= market.min_volume and possible_down_volumes[h] >= market.min_volume else 0 for h in range(len(possible_hours))]\n",
    "        #possible_volumes = np.where((possible_up_volumes >= min_vols and possible_down_volumes >= min_vols), actual_volumes, 0) \n",
    "        #print(f\"possible_volumes: {possible_volumes}\")\n",
    "        possible_revenues, possible_assets = check_constraints(possible_assets, possible_hours, possible_volumes, expected_prices, market)\n",
    "        \"\"\"print(f\"possible_revenues: {possible_revenues}\")\n",
    "        print(f\"possible_assets: {possible_assets}\")\"\"\"\n",
    "    return (possible_revenues, possible_assets)\n"
   ]
  },
  {
   "cell_type": "code",
   "execution_count": 62,
   "metadata": {},
   "outputs": [],
   "source": [
    "(possible_hours, market_name) = get_possible_dates(pd.Timestamp(2023, 6, 14, 7))\n",
    "\n",
    "test = place_bids(possible_hours = possible_hours, available_assets = {hour: L.copy() for hour in possible_hours}, market = markets_name_dict[\"aFRR down_NO1\"])"
   ]
  },
  {
   "cell_type": "code",
   "execution_count": 63,
   "metadata": {},
   "outputs": [],
   "source": [
    "def get_possible_bids( H : [pd.Timestamp], L : [new_meters.PowerMeter], M : [final_markets.ReserveMarket]):\n",
    "    \"\"\" Function to find the possible bids for the given input hours, assets and markets. where the possible bids are not constrained to be for every one of the 24 hours.\n",
    "\n",
    "    Args:\n",
    "        H (DateTimeIndex): list of the possible hours where bids can be placed\n",
    "        L ([new_meters.PowerMeter]): list of all assets\n",
    "        M ([final_markets.ReserveMarket]): list of all markets\n",
    "\n",
    "    Returns:\n",
    "        dict: dictionary with the possible bids for each market where the keys are tuples of the market name and the date and the values are tuples of the possible revenues and the assets that can bid in the market\n",
    "    \"\"\"\n",
    "    bid_timeframe = H.append(pd.date_range(H[-1] + timedelta(hours=1), periods=48, freq='H', tz=\"Europe/Oslo\"))\n",
    "    available_assets = {hour: L.copy() for hour in bid_timeframe}\n",
    "    bids = {}\n",
    "    revenue = 0\n",
    "\n",
    "    for hour in H:\n",
    "        (possible_hours, market_name) = get_possible_dates(hour)\n",
    "        if len(possible_hours) != 24:\n",
    "            #print(f\"No bids for {hour}\")\n",
    "            #print(f\"possible_hours: {len(possible_hours)}\")\n",
    "            continue\n",
    "\n",
    "        possible_markets = [m for m in M if market_name in m.name]\n",
    "        for market in possible_markets:\n",
    "            (possible_revenues, possible_assets) = place_bids(market=market, available_assets=available_assets, possible_hours=possible_hours)\n",
    "            revenue += np.sum(possible_revenues)\n",
    "\n",
    "            for h, bid_hour in enumerate(possible_hours):\n",
    "                # Select assets with positive revenue for bidding\n",
    "                assets_to_bid = [asset for asset in possible_assets[h] if possible_revenues[h] > 0]\n",
    "                # Flatten the list if it's a list of lists\n",
    "                #assets_to_bid = [item for sublist in assets_to_bid for item in sublist]\n",
    "                # Store the bid information\n",
    "                bids[(market.name, bid_hour)] = [asset.meter_id for asset in assets_to_bid]\n",
    "                # Update available assets\n",
    "                available_assets[bid_hour] = [asset for asset in available_assets[bid_hour] if asset not in assets_to_bid]\n",
    "\n",
    "    return bids, revenue, available_assets\n",
    "            "
   ]
  },
  {
   "cell_type": "code",
   "execution_count": 64,
   "metadata": {},
   "outputs": [],
   "source": [
    "bids, revenue, av_assets  = get_possible_bids(H[:24], L, M)"
   ]
  },
  {
   "cell_type": "code",
   "execution_count": 65,
   "metadata": {},
   "outputs": [
    {
     "data": {
      "text/plain": [
       "3708.9500603600013"
      ]
     },
     "execution_count": 65,
     "metadata": {},
     "output_type": "execute_result"
    }
   ],
   "source": [
    "revenue"
   ]
  },
  {
   "cell_type": "code",
   "execution_count": 66,
   "metadata": {},
   "outputs": [],
   "source": [
    "markets= [market[0] for market in bids.keys()]\n",
    "hours = [market[1] for market in bids.keys()]\n",
    "\n"
   ]
  },
  {
   "cell_type": "code",
   "execution_count": 70,
   "metadata": {},
   "outputs": [],
   "source": [
    "def feasibility_check(bids, L):\n",
    "    \"\"\" Function to check if the bids are feasible. The bids are feasible if there are no duplicates in the bids for each hour.\"\"\"\n",
    "    markets= set([market[0] for market in bids.keys()])\n",
    "    #print(f\"Markets: {markets}\")\n",
    "    hours = set([market[1] for market in bids.keys()])\n",
    "    #print(f\"Hours: {hours}\")\n",
    "    keys = list(bids.keys())\n",
    "    #print(f\"Keys: {keys}\")\n",
    "    hourly_assets = {}\n",
    "    asset_meter_id_dict = {asset.meter_id: asset for asset in L}\n",
    "    for hour in hours:\n",
    "       # print(f\"Hour: {hour}\")\n",
    "        hourly_as_list = []\n",
    "        for market_name in markets:\n",
    "            #print(f\"Market: {market}\")\n",
    "            if (market_name, hour) in keys:\n",
    "                hourly_as_list.append(bids[(market_name, hour)])\n",
    "                assets = bids[(market_name, hour)]\n",
    "                market = markets_name_dict[market_name]\n",
    "                assets = [asset_meter_id_dict[asset] for asset in assets]\n",
    "                if len(assets) > 0:\n",
    "                    assert len(assets) == len(set(assets)), f\"Duplicate assets in hour {hour}\"\n",
    "                    if market.direction == \"up\":\n",
    "                        assert all([asset.direction != \"down\" for asset in assets]), f\"Down assets in up market {market.name} in hour {hour}\"\n",
    "                        total_flex_volume = sum([asset.up_flex_volume[\"value\"].loc[asset.up_flex_volume[\"Time(Local)\"] == hour].values[0] for asset in assets])\n",
    "                    elif market.direction == \"down\":\n",
    "                        assert all([asset.direction != \"up\" for asset in assets]), f\"Up assets in down market in hour {hour}\"\n",
    "                        total_flex_volume = sum([asset.down_flex_volume[\"value\"].loc[asset.down_flex_volume[\"Time(Local)\"] == hour].values[0] for asset in assets])\n",
    "                    else:\n",
    "                        if dominant_directions[H.get_loc(hour)] == \"up\":\n",
    "                            #assert all([asset.direction != \"down\" for asset in assets]), f\"Down assets in up market in hour {hour}\"\n",
    "                            total_flex_volume = sum([asset.up_flex_volume[\"value\"].loc[asset.up_flex_volume[\"Time(Local)\"] == hour].values[0] if asset.direction != \"down\" else 0 for asset in assets])\n",
    "                        elif dominant_directions[H.get_loc(hour)] == \"down\":\n",
    "                            #assert all([asset.direction != \"up\" for asset in assets]), f\"Up assets in down market in hour {hour}\"\n",
    "                            total_flex_volume = sum([asset.down_flex_volume[\"value\"].loc[asset.down_flex_volume[\"Time(Local)\"] == hour].values[0] if asset.direction != \"up\" else 0 for asset in assets])\n",
    "                    assert total_flex_volume >= market.min_volume, f\"Total flex volume {total_flex_volume} is less than the minimum volume {market.min_volume} in hour {hour} for market {market.name}\"\n",
    "                    total_max_volume = market.volume_data.loc[market.volume_data[\"Time(Local)\"] == hour].values[0][1]\n",
    "                    assert total_flex_volume <= total_max_volume, f\"Total flex volume {total_flex_volume} is more than the maximum volume {total_max_volume} in hour {hour}\"\n",
    "                    assert all([asset.response_time <= market.response_time for asset in assets]), f\"Asset with response time higher than the market {market.name} response time in hour {hour}\"\n",
    "                            \n",
    "        # Add the flattened list to the dictionary\n",
    "        hourly_assets[hour] = [item for sublist in hourly_as_list for item in sublist]\n",
    "    \n",
    "    #print(hourly_assets)\n",
    "    for hour in hours:\n",
    "        if hourly_assets[hour] == []:\n",
    "            continue\n",
    "        else:\n",
    "            \"\"\"print(f\"Hour : {hour}\")\n",
    "            print(f\"type of hour object : {type(hour)}\")\n",
    "            print(f\"Hourly assets : {hourly_assets[hour]}\")\n",
    "            print(f\"length of hourly assets : {len(hourly_assets[hour])}\")\"\"\"\n",
    "            # check if there are duplicates\n",
    "            if len(hourly_assets[hour]) != len(set(hourly_assets[hour])) and hourly_assets[hour] != []:\n",
    "                print(f\"Duplicate assets in hour {hour}\")\n",
    "                # print the duplicates\n",
    "                print(f\"length of hourly assets : {len(hourly_assets[hour])}\")\n",
    "                print(f\"length of set of hourly assets : {len(set(hourly_assets[hour]))}\")\n",
    "                return False\n",
    "    return hourly_assets\n",
    "    "
   ]
  },
  {
   "cell_type": "code",
   "execution_count": 71,
   "metadata": {},
   "outputs": [],
   "source": [
    "ha = feasibility_check(bids, L)"
   ]
  },
  {
   "cell_type": "code",
   "execution_count": 73,
   "metadata": {},
   "outputs": [
    {
     "data": {
      "text/plain": [
       "[897,\n",
       " 897,\n",
       " 495,\n",
       " 897,\n",
       " 889,\n",
       " 495,\n",
       " 0,\n",
       " 1661,\n",
       " 897,\n",
       " 1633,\n",
       " 495,\n",
       " 1112,\n",
       " 889,\n",
       " 889,\n",
       " 889,\n",
       " 897,\n",
       " 897,\n",
       " 897,\n",
       " 1101,\n",
       " 495,\n",
       " 897,\n",
       " 897,\n",
       " 0,\n",
       " 897,\n",
       " 1661,\n",
       " 1633,\n",
       " 889,\n",
       " 495,\n",
       " 495,\n",
       " 0,\n",
       " 889,\n",
       " 889,\n",
       " 897,\n",
       " 495,\n",
       " 897,\n",
       " 495,\n",
       " 1101,\n",
       " 897,\n",
       " 0,\n",
       " 897,\n",
       " 889,\n",
       " 889,\n",
       " 495,\n",
       " 495,\n",
       " 889,\n",
       " 1112,\n",
       " 1112,\n",
       " 889]"
      ]
     },
     "execution_count": 73,
     "metadata": {},
     "output_type": "execute_result"
    }
   ],
   "source": [
    "[len(ha[h]) for h in set(hours)]"
   ]
  },
  {
   "cell_type": "code",
   "execution_count": null,
   "metadata": {},
   "outputs": [],
   "source": []
  }
 ],
 "metadata": {
  "kernelspec": {
   "display_name": "myenv",
   "language": "python",
   "name": "python3"
  },
  "language_info": {
   "codemirror_mode": {
    "name": "ipython",
    "version": 3
   },
   "file_extension": ".py",
   "mimetype": "text/x-python",
   "name": "python",
   "nbconvert_exporter": "python",
   "pygments_lexer": "ipython3",
   "version": "3.9.18"
  }
 },
 "nbformat": 4,
 "nbformat_minor": 2
}
